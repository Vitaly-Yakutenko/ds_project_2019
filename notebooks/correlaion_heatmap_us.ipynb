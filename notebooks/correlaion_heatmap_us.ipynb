{
 "cells": [
  {
   "cell_type": "code",
   "execution_count": 1,
   "metadata": {
    "collapsed": true,
    "deletable": true,
    "editable": true
   },
   "outputs": [],
   "source": [
    "import numpy as np\n",
    "import pandas as pd\n",
    "pd.options.display.precision = 2\n",
    "pd.options.display.max_columns = 50"
   ]
  },
  {
   "cell_type": "code",
   "execution_count": 2,
   "metadata": {
    "collapsed": false,
    "deletable": true,
    "editable": true
   },
   "outputs": [
    {
     "name": "stdout",
     "output_type": "stream",
     "text": [
      "/Users/shijunyi/Desktop/学习资料/U of Melbourne/2019 Sem2/Data Science Project/code/python\r\n"
     ]
    }
   ],
   "source": [
    "!pwd\n",
    "import re\n",
    "import os"
   ]
  },
  {
   "cell_type": "code",
   "execution_count": 3,
   "metadata": {
    "collapsed": true,
    "deletable": true,
    "editable": true
   },
   "outputs": [],
   "source": [
    "%matplotlib inline\n",
    "import matplotlib\n",
    "import matplotlib.pyplot as plt\n",
    "matplotlib.rcParams['figure.figsize'] = [15, 10]"
   ]
  },
  {
   "cell_type": "code",
   "execution_count": 4,
   "metadata": {
    "collapsed": false,
    "deletable": true,
    "editable": true
   },
   "outputs": [
    {
     "data": {
      "text/html": [
       "        <script type=\"text/javascript\">\n",
       "        window.PlotlyConfig = {MathJaxConfig: 'local'};\n",
       "        if (window.MathJax) {MathJax.Hub.Config({SVG: {font: \"STIX-Web\"}});}\n",
       "        if (typeof require !== 'undefined') {\n",
       "        require.undef(\"plotly\");\n",
       "        requirejs.config({\n",
       "            paths: {\n",
       "                'plotly': ['https://cdn.plot.ly/plotly-latest.min']\n",
       "            }\n",
       "        });\n",
       "        require(['plotly'], function(Plotly) {\n",
       "            window._Plotly = Plotly;\n",
       "        });\n",
       "        }\n",
       "        </script>\n",
       "        "
      ]
     },
     "metadata": {},
     "output_type": "display_data"
    }
   ],
   "source": [
    "#import seaborn as sns\n",
    "import plotly\n",
    "import plotly.graph_objs as go\n",
    "from plotly.offline import download_plotlyjs, init_notebook_mode, plot, iplot\n",
    "init_notebook_mode(connected=True)"
   ]
  },
  {
   "cell_type": "markdown",
   "metadata": {
    "deletable": true,
    "editable": true
   },
   "source": [
    "# United Kingdom"
   ]
  },
  {
   "cell_type": "markdown",
   "metadata": {
    "deletable": true,
    "editable": true
   },
   "source": [
    "## Read data"
   ]
  },
  {
   "cell_type": "code",
   "execution_count": 5,
   "metadata": {
    "collapsed": false,
    "deletable": true,
    "editable": true
   },
   "outputs": [],
   "source": [
    "aus_factors_df = pd.read_csv('data/us_combined_factors.csv')"
   ]
  },
  {
   "cell_type": "code",
   "execution_count": 6,
   "metadata": {
    "collapsed": false,
    "deletable": true,
    "editable": true
   },
   "outputs": [
    {
     "data": {
      "text/html": [
       "<div>\n",
       "<style scoped>\n",
       "    .dataframe tbody tr th:only-of-type {\n",
       "        vertical-align: middle;\n",
       "    }\n",
       "\n",
       "    .dataframe tbody tr th {\n",
       "        vertical-align: top;\n",
       "    }\n",
       "\n",
       "    .dataframe thead th {\n",
       "        text-align: right;\n",
       "    }\n",
       "</style>\n",
       "<table border=\"1\" class=\"dataframe\">\n",
       "  <thead>\n",
       "    <tr style=\"text-align: right;\">\n",
       "      <th></th>\n",
       "      <th>year</th>\n",
       "      <th>source_country</th>\n",
       "      <th>destination_country</th>\n",
       "      <th>dst_distance</th>\n",
       "      <th>dst_students_count</th>\n",
       "      <th>dst_average_wage</th>\n",
       "      <th>dst_rate_of_one_usd</th>\n",
       "      <th>dst_cpi</th>\n",
       "      <th>dst_qoe_top20</th>\n",
       "      <th>dst_qoe_top100</th>\n",
       "      <th>dst_qoe_top200</th>\n",
       "      <th>dst_qoe_top500</th>\n",
       "      <th>src_population</th>\n",
       "      <th>src_qoe_top20</th>\n",
       "      <th>src_qoe_top100</th>\n",
       "      <th>src_qoe_top200</th>\n",
       "      <th>src_qoe_top500</th>\n",
       "      <th>src_gni</th>\n",
       "      <th>src_gdp</th>\n",
       "      <th>src_rate_of_one_usd</th>\n",
       "      <th>src_tertiary_enrolment</th>\n",
       "    </tr>\n",
       "  </thead>\n",
       "  <tbody>\n",
       "    <tr>\n",
       "      <td>0</td>\n",
       "      <td>2016</td>\n",
       "      <td>China</td>\n",
       "      <td>United States of America</td>\n",
       "      <td>11640</td>\n",
       "      <td>309837</td>\n",
       "      <td>62153.0</td>\n",
       "      <td>1.0</td>\n",
       "      <td>110.07</td>\n",
       "      <td>15</td>\n",
       "      <td>50</td>\n",
       "      <td>71</td>\n",
       "      <td>137</td>\n",
       "      <td>1378665000</td>\n",
       "      <td>0</td>\n",
       "      <td>2</td>\n",
       "      <td>12</td>\n",
       "      <td>54</td>\n",
       "      <td>8210.0</td>\n",
       "      <td>1.11e+13</td>\n",
       "      <td>6.64</td>\n",
       "      <td>48.44</td>\n",
       "    </tr>\n",
       "    <tr>\n",
       "      <td>1</td>\n",
       "      <td>2015</td>\n",
       "      <td>China</td>\n",
       "      <td>United States of America</td>\n",
       "      <td>11640</td>\n",
       "      <td>291063</td>\n",
       "      <td>62106.0</td>\n",
       "      <td>1.0</td>\n",
       "      <td>108.70</td>\n",
       "      <td>16</td>\n",
       "      <td>51</td>\n",
       "      <td>78</td>\n",
       "      <td>146</td>\n",
       "      <td>1371220000</td>\n",
       "      <td>0</td>\n",
       "      <td>0</td>\n",
       "      <td>10</td>\n",
       "      <td>44</td>\n",
       "      <td>7910.0</td>\n",
       "      <td>1.10e+13</td>\n",
       "      <td>6.23</td>\n",
       "      <td>45.35</td>\n",
       "    </tr>\n",
       "    <tr>\n",
       "      <td>2</td>\n",
       "      <td>2014</td>\n",
       "      <td>China</td>\n",
       "      <td>United States of America</td>\n",
       "      <td>11640</td>\n",
       "      <td>260914</td>\n",
       "      <td>60618.0</td>\n",
       "      <td>1.0</td>\n",
       "      <td>108.57</td>\n",
       "      <td>16</td>\n",
       "      <td>52</td>\n",
       "      <td>77</td>\n",
       "      <td>146</td>\n",
       "      <td>1364270000</td>\n",
       "      <td>0</td>\n",
       "      <td>0</td>\n",
       "      <td>9</td>\n",
       "      <td>44</td>\n",
       "      <td>7500.0</td>\n",
       "      <td>1.04e+13</td>\n",
       "      <td>6.14</td>\n",
       "      <td>41.28</td>\n",
       "    </tr>\n",
       "    <tr>\n",
       "      <td>3</td>\n",
       "      <td>2013</td>\n",
       "      <td>China</td>\n",
       "      <td>United States of America</td>\n",
       "      <td>11640</td>\n",
       "      <td>225474</td>\n",
       "      <td>59766.0</td>\n",
       "      <td>1.0</td>\n",
       "      <td>106.83</td>\n",
       "      <td>17</td>\n",
       "      <td>52</td>\n",
       "      <td>85</td>\n",
       "      <td>149</td>\n",
       "      <td>1357380000</td>\n",
       "      <td>0</td>\n",
       "      <td>0</td>\n",
       "      <td>7</td>\n",
       "      <td>42</td>\n",
       "      <td>6770.0</td>\n",
       "      <td>9.57e+12</td>\n",
       "      <td>6.20</td>\n",
       "      <td>31.46</td>\n",
       "    </tr>\n",
       "    <tr>\n",
       "      <td>4</td>\n",
       "      <td>2012</td>\n",
       "      <td>China</td>\n",
       "      <td>United States of America</td>\n",
       "      <td>11640</td>\n",
       "      <td>210452</td>\n",
       "      <td>60047.0</td>\n",
       "      <td>1.0</td>\n",
       "      <td>105.29</td>\n",
       "      <td>17</td>\n",
       "      <td>53</td>\n",
       "      <td>85</td>\n",
       "      <td>150</td>\n",
       "      <td>1350695000</td>\n",
       "      <td>0</td>\n",
       "      <td>0</td>\n",
       "      <td>7</td>\n",
       "      <td>42</td>\n",
       "      <td>5930.0</td>\n",
       "      <td>8.53e+12</td>\n",
       "      <td>6.31</td>\n",
       "      <td>28.04</td>\n",
       "    </tr>\n",
       "    <tr>\n",
       "      <td>...</td>\n",
       "      <td>...</td>\n",
       "      <td>...</td>\n",
       "      <td>...</td>\n",
       "      <td>...</td>\n",
       "      <td>...</td>\n",
       "      <td>...</td>\n",
       "      <td>...</td>\n",
       "      <td>...</td>\n",
       "      <td>...</td>\n",
       "      <td>...</td>\n",
       "      <td>...</td>\n",
       "      <td>...</td>\n",
       "      <td>...</td>\n",
       "      <td>...</td>\n",
       "      <td>...</td>\n",
       "      <td>...</td>\n",
       "      <td>...</td>\n",
       "      <td>...</td>\n",
       "      <td>...</td>\n",
       "      <td>...</td>\n",
       "      <td>...</td>\n",
       "    </tr>\n",
       "    <tr>\n",
       "      <td>71</td>\n",
       "      <td>2002</td>\n",
       "      <td>Indonesia</td>\n",
       "      <td>United States of America</td>\n",
       "      <td>14952</td>\n",
       "      <td>11614</td>\n",
       "      <td>54788.0</td>\n",
       "      <td>1.0</td>\n",
       "      <td>82.49</td>\n",
       "      <td>18</td>\n",
       "      <td>56</td>\n",
       "      <td>97</td>\n",
       "      <td>175</td>\n",
       "      <td>217357793</td>\n",
       "      <td>0</td>\n",
       "      <td>0</td>\n",
       "      <td>0</td>\n",
       "      <td>0</td>\n",
       "      <td>790.0</td>\n",
       "      <td>1.96e+11</td>\n",
       "      <td>9311.19</td>\n",
       "      <td>14.81</td>\n",
       "    </tr>\n",
       "    <tr>\n",
       "      <td>72</td>\n",
       "      <td>2001</td>\n",
       "      <td>Indonesia</td>\n",
       "      <td>United States of America</td>\n",
       "      <td>14952</td>\n",
       "      <td>10082</td>\n",
       "      <td>54360.0</td>\n",
       "      <td>1.0</td>\n",
       "      <td>81.20</td>\n",
       "      <td>18</td>\n",
       "      <td>56</td>\n",
       "      <td>99</td>\n",
       "      <td>177</td>\n",
       "      <td>214427417</td>\n",
       "      <td>0</td>\n",
       "      <td>0</td>\n",
       "      <td>0</td>\n",
       "      <td>0</td>\n",
       "      <td>720.0</td>\n",
       "      <td>1.60e+11</td>\n",
       "      <td>10260.85</td>\n",
       "      <td>14.19</td>\n",
       "    </tr>\n",
       "    <tr>\n",
       "      <td>73</td>\n",
       "      <td>2000</td>\n",
       "      <td>Indonesia</td>\n",
       "      <td>United States of America</td>\n",
       "      <td>14952</td>\n",
       "      <td>10432</td>\n",
       "      <td>53904.0</td>\n",
       "      <td>1.0</td>\n",
       "      <td>78.97</td>\n",
       "      <td>18</td>\n",
       "      <td>56</td>\n",
       "      <td>100</td>\n",
       "      <td>179</td>\n",
       "      <td>211513823</td>\n",
       "      <td>0</td>\n",
       "      <td>0</td>\n",
       "      <td>0</td>\n",
       "      <td>0</td>\n",
       "      <td>580.0</td>\n",
       "      <td>1.65e+11</td>\n",
       "      <td>8421.77</td>\n",
       "      <td>14.88</td>\n",
       "    </tr>\n",
       "    <tr>\n",
       "      <td>74</td>\n",
       "      <td>1999</td>\n",
       "      <td>Indonesia</td>\n",
       "      <td>United States of America</td>\n",
       "      <td>14952</td>\n",
       "      <td>11177</td>\n",
       "      <td>53649.0</td>\n",
       "      <td>1.0</td>\n",
       "      <td>76.39</td>\n",
       "      <td>18</td>\n",
       "      <td>57</td>\n",
       "      <td>102</td>\n",
       "      <td>182</td>\n",
       "      <td>208615169</td>\n",
       "      <td>0</td>\n",
       "      <td>0</td>\n",
       "      <td>0</td>\n",
       "      <td>0</td>\n",
       "      <td>570.0</td>\n",
       "      <td>1.40e+11</td>\n",
       "      <td>7855.15</td>\n",
       "      <td>14.75</td>\n",
       "    </tr>\n",
       "    <tr>\n",
       "      <td>75</td>\n",
       "      <td>1998</td>\n",
       "      <td>Indonesia</td>\n",
       "      <td>United States of America</td>\n",
       "      <td>14952</td>\n",
       "      <td>11800</td>\n",
       "      <td>53148.0</td>\n",
       "      <td>1.0</td>\n",
       "      <td>74.76</td>\n",
       "      <td>18</td>\n",
       "      <td>57</td>\n",
       "      <td>103</td>\n",
       "      <td>185</td>\n",
       "      <td>205724592</td>\n",
       "      <td>0</td>\n",
       "      <td>0</td>\n",
       "      <td>0</td>\n",
       "      <td>0</td>\n",
       "      <td>660.0</td>\n",
       "      <td>9.54e+10</td>\n",
       "      <td>10013.62</td>\n",
       "      <td>13.36</td>\n",
       "    </tr>\n",
       "  </tbody>\n",
       "</table>\n",
       "<p>76 rows × 21 columns</p>\n",
       "</div>"
      ],
      "text/plain": [
       "    year source_country       destination_country  dst_distance  \\\n",
       "0   2016          China  United States of America         11640   \n",
       "1   2015          China  United States of America         11640   \n",
       "2   2014          China  United States of America         11640   \n",
       "3   2013          China  United States of America         11640   \n",
       "4   2012          China  United States of America         11640   \n",
       "..   ...            ...                       ...           ...   \n",
       "71  2002      Indonesia  United States of America         14952   \n",
       "72  2001      Indonesia  United States of America         14952   \n",
       "73  2000      Indonesia  United States of America         14952   \n",
       "74  1999      Indonesia  United States of America         14952   \n",
       "75  1998      Indonesia  United States of America         14952   \n",
       "\n",
       "    dst_students_count  dst_average_wage  dst_rate_of_one_usd  dst_cpi  \\\n",
       "0               309837           62153.0                  1.0   110.07   \n",
       "1               291063           62106.0                  1.0   108.70   \n",
       "2               260914           60618.0                  1.0   108.57   \n",
       "3               225474           59766.0                  1.0   106.83   \n",
       "4               210452           60047.0                  1.0   105.29   \n",
       "..                 ...               ...                  ...      ...   \n",
       "71               11614           54788.0                  1.0    82.49   \n",
       "72               10082           54360.0                  1.0    81.20   \n",
       "73               10432           53904.0                  1.0    78.97   \n",
       "74               11177           53649.0                  1.0    76.39   \n",
       "75               11800           53148.0                  1.0    74.76   \n",
       "\n",
       "    dst_qoe_top20  dst_qoe_top100  dst_qoe_top200  dst_qoe_top500  \\\n",
       "0              15              50              71             137   \n",
       "1              16              51              78             146   \n",
       "2              16              52              77             146   \n",
       "3              17              52              85             149   \n",
       "4              17              53              85             150   \n",
       "..            ...             ...             ...             ...   \n",
       "71             18              56              97             175   \n",
       "72             18              56              99             177   \n",
       "73             18              56             100             179   \n",
       "74             18              57             102             182   \n",
       "75             18              57             103             185   \n",
       "\n",
       "    src_population  src_qoe_top20  src_qoe_top100  src_qoe_top200  \\\n",
       "0       1378665000              0               2              12   \n",
       "1       1371220000              0               0              10   \n",
       "2       1364270000              0               0               9   \n",
       "3       1357380000              0               0               7   \n",
       "4       1350695000              0               0               7   \n",
       "..             ...            ...             ...             ...   \n",
       "71       217357793              0               0               0   \n",
       "72       214427417              0               0               0   \n",
       "73       211513823              0               0               0   \n",
       "74       208615169              0               0               0   \n",
       "75       205724592              0               0               0   \n",
       "\n",
       "    src_qoe_top500  src_gni   src_gdp  src_rate_of_one_usd  \\\n",
       "0               54   8210.0  1.11e+13                 6.64   \n",
       "1               44   7910.0  1.10e+13                 6.23   \n",
       "2               44   7500.0  1.04e+13                 6.14   \n",
       "3               42   6770.0  9.57e+12                 6.20   \n",
       "4               42   5930.0  8.53e+12                 6.31   \n",
       "..             ...      ...       ...                  ...   \n",
       "71               0    790.0  1.96e+11              9311.19   \n",
       "72               0    720.0  1.60e+11             10260.85   \n",
       "73               0    580.0  1.65e+11              8421.77   \n",
       "74               0    570.0  1.40e+11              7855.15   \n",
       "75               0    660.0  9.54e+10             10013.62   \n",
       "\n",
       "    src_tertiary_enrolment  \n",
       "0                    48.44  \n",
       "1                    45.35  \n",
       "2                    41.28  \n",
       "3                    31.46  \n",
       "4                    28.04  \n",
       "..                     ...  \n",
       "71                   14.81  \n",
       "72                   14.19  \n",
       "73                   14.88  \n",
       "74                   14.75  \n",
       "75                   13.36  \n",
       "\n",
       "[76 rows x 21 columns]"
      ]
     },
     "execution_count": 6,
     "metadata": {},
     "output_type": "execute_result"
    }
   ],
   "source": [
    "aus_factors_df"
   ]
  },
  {
   "cell_type": "markdown",
   "metadata": {
    "deletable": true,
    "editable": true
   },
   "source": [
    "## Calculate correlation"
   ]
  },
  {
   "cell_type": "markdown",
   "metadata": {
    "deletable": true,
    "editable": true
   },
   "source": [
    "### China"
   ]
  },
  {
   "cell_type": "code",
   "execution_count": 7,
   "metadata": {
    "collapsed": true,
    "deletable": true,
    "editable": true
   },
   "outputs": [],
   "source": [
    "china_aus_factors = aus_factors_df[aus_factors_df['source_country']=='China']\n",
    "cols = china_aus_factors.columns\n",
    "china_aus_factors = china_aus_factors.join(china_aus_factors[cols].shift(1), rsuffix='_1y_shift')\n",
    "china_aus_factors = china_aus_factors.join(china_aus_factors[cols].shift(2), rsuffix='_2y_shift')"
   ]
  },
  {
   "cell_type": "code",
   "execution_count": 8,
   "metadata": {
    "collapsed": false,
    "deletable": true,
    "editable": true
   },
   "outputs": [],
   "source": [
    "china_corr_series = china_aus_factors.corr().loc['dst_students_count'].fillna(0).drop(['dst_students_count'])\n",
    "corr_df = pd.DataFrame(china_corr_series).rename(columns={'dst_students_count': 'china_student_count'}).T"
   ]
  },
  {
   "cell_type": "code",
   "execution_count": 9,
   "metadata": {
    "collapsed": false,
    "deletable": true,
    "editable": true
   },
   "outputs": [
    {
     "data": {
      "text/html": [
       "<div>\n",
       "<style scoped>\n",
       "    .dataframe tbody tr th:only-of-type {\n",
       "        vertical-align: middle;\n",
       "    }\n",
       "\n",
       "    .dataframe tbody tr th {\n",
       "        vertical-align: top;\n",
       "    }\n",
       "\n",
       "    .dataframe thead th {\n",
       "        text-align: right;\n",
       "    }\n",
       "</style>\n",
       "<table border=\"1\" class=\"dataframe\">\n",
       "  <thead>\n",
       "    <tr style=\"text-align: right;\">\n",
       "      <th></th>\n",
       "      <th>year</th>\n",
       "      <th>dst_distance</th>\n",
       "      <th>dst_average_wage</th>\n",
       "      <th>dst_rate_of_one_usd</th>\n",
       "      <th>dst_cpi</th>\n",
       "      <th>dst_qoe_top20</th>\n",
       "      <th>dst_qoe_top100</th>\n",
       "      <th>dst_qoe_top200</th>\n",
       "      <th>dst_qoe_top500</th>\n",
       "      <th>src_population</th>\n",
       "      <th>src_qoe_top20</th>\n",
       "      <th>src_qoe_top100</th>\n",
       "      <th>src_qoe_top200</th>\n",
       "      <th>src_qoe_top500</th>\n",
       "      <th>src_gni</th>\n",
       "      <th>src_gdp</th>\n",
       "      <th>src_rate_of_one_usd</th>\n",
       "      <th>src_tertiary_enrolment</th>\n",
       "      <th>year_1y_shift</th>\n",
       "      <th>dst_distance_1y_shift</th>\n",
       "      <th>dst_students_count_1y_shift</th>\n",
       "      <th>dst_average_wage_1y_shift</th>\n",
       "      <th>dst_rate_of_one_usd_1y_shift</th>\n",
       "      <th>dst_cpi_1y_shift</th>\n",
       "      <th>dst_qoe_top20_1y_shift</th>\n",
       "      <th>...</th>\n",
       "      <th>src_qoe_top200_1y_shift</th>\n",
       "      <th>src_qoe_top500_1y_shift</th>\n",
       "      <th>src_gni_1y_shift</th>\n",
       "      <th>src_gdp_1y_shift</th>\n",
       "      <th>src_rate_of_one_usd_1y_shift</th>\n",
       "      <th>src_tertiary_enrolment_1y_shift</th>\n",
       "      <th>year_2y_shift</th>\n",
       "      <th>dst_distance_2y_shift</th>\n",
       "      <th>dst_students_count_2y_shift</th>\n",
       "      <th>dst_average_wage_2y_shift</th>\n",
       "      <th>dst_rate_of_one_usd_2y_shift</th>\n",
       "      <th>dst_cpi_2y_shift</th>\n",
       "      <th>dst_qoe_top20_2y_shift</th>\n",
       "      <th>dst_qoe_top100_2y_shift</th>\n",
       "      <th>dst_qoe_top200_2y_shift</th>\n",
       "      <th>dst_qoe_top500_2y_shift</th>\n",
       "      <th>src_population_2y_shift</th>\n",
       "      <th>src_qoe_top20_2y_shift</th>\n",
       "      <th>src_qoe_top100_2y_shift</th>\n",
       "      <th>src_qoe_top200_2y_shift</th>\n",
       "      <th>src_qoe_top500_2y_shift</th>\n",
       "      <th>src_gni_2y_shift</th>\n",
       "      <th>src_gdp_2y_shift</th>\n",
       "      <th>src_rate_of_one_usd_2y_shift</th>\n",
       "      <th>src_tertiary_enrolment_2y_shift</th>\n",
       "    </tr>\n",
       "  </thead>\n",
       "  <tbody>\n",
       "    <tr>\n",
       "      <td>china_student_count</td>\n",
       "      <td>0.94</td>\n",
       "      <td>0.0</td>\n",
       "      <td>0.91</td>\n",
       "      <td>0.0</td>\n",
       "      <td>0.91</td>\n",
       "      <td>-0.88</td>\n",
       "      <td>-0.82</td>\n",
       "      <td>-0.92</td>\n",
       "      <td>-0.92</td>\n",
       "      <td>0.92</td>\n",
       "      <td>0.0</td>\n",
       "      <td>0.5</td>\n",
       "      <td>0.97</td>\n",
       "      <td>0.93</td>\n",
       "      <td>0.98</td>\n",
       "      <td>0.98</td>\n",
       "      <td>-0.87</td>\n",
       "      <td>0.98</td>\n",
       "      <td>0.93</td>\n",
       "      <td>0.0</td>\n",
       "      <td>0.99</td>\n",
       "      <td>0.9</td>\n",
       "      <td>0.0</td>\n",
       "      <td>0.9</td>\n",
       "      <td>-0.88</td>\n",
       "      <td>...</td>\n",
       "      <td>0.98</td>\n",
       "      <td>0.92</td>\n",
       "      <td>0.97</td>\n",
       "      <td>0.96</td>\n",
       "      <td>-0.83</td>\n",
       "      <td>0.98</td>\n",
       "      <td>0.92</td>\n",
       "      <td>0.0</td>\n",
       "      <td>0.97</td>\n",
       "      <td>0.89</td>\n",
       "      <td>0.0</td>\n",
       "      <td>0.88</td>\n",
       "      <td>-0.89</td>\n",
       "      <td>-0.75</td>\n",
       "      <td>-0.92</td>\n",
       "      <td>-0.9</td>\n",
       "      <td>0.91</td>\n",
       "      <td>0.0</td>\n",
       "      <td>0.57</td>\n",
       "      <td>0.95</td>\n",
       "      <td>0.9</td>\n",
       "      <td>0.96</td>\n",
       "      <td>0.94</td>\n",
       "      <td>-0.8</td>\n",
       "      <td>0.98</td>\n",
       "    </tr>\n",
       "  </tbody>\n",
       "</table>\n",
       "<p>1 rows × 56 columns</p>\n",
       "</div>"
      ],
      "text/plain": [
       "                     year  dst_distance  dst_average_wage  \\\n",
       "china_student_count  0.94           0.0              0.91   \n",
       "\n",
       "                     dst_rate_of_one_usd  dst_cpi  dst_qoe_top20  \\\n",
       "china_student_count                  0.0     0.91          -0.88   \n",
       "\n",
       "                     dst_qoe_top100  dst_qoe_top200  dst_qoe_top500  \\\n",
       "china_student_count           -0.82           -0.92           -0.92   \n",
       "\n",
       "                     src_population  src_qoe_top20  src_qoe_top100  \\\n",
       "china_student_count            0.92            0.0             0.5   \n",
       "\n",
       "                     src_qoe_top200  src_qoe_top500  src_gni  src_gdp  \\\n",
       "china_student_count            0.97            0.93     0.98     0.98   \n",
       "\n",
       "                     src_rate_of_one_usd  src_tertiary_enrolment  \\\n",
       "china_student_count                -0.87                    0.98   \n",
       "\n",
       "                     year_1y_shift  dst_distance_1y_shift  \\\n",
       "china_student_count           0.93                    0.0   \n",
       "\n",
       "                     dst_students_count_1y_shift  dst_average_wage_1y_shift  \\\n",
       "china_student_count                         0.99                        0.9   \n",
       "\n",
       "                     dst_rate_of_one_usd_1y_shift  dst_cpi_1y_shift  \\\n",
       "china_student_count                           0.0               0.9   \n",
       "\n",
       "                     dst_qoe_top20_1y_shift  ...  src_qoe_top200_1y_shift  \\\n",
       "china_student_count                   -0.88  ...                     0.98   \n",
       "\n",
       "                     src_qoe_top500_1y_shift  src_gni_1y_shift  \\\n",
       "china_student_count                     0.92              0.97   \n",
       "\n",
       "                     src_gdp_1y_shift  src_rate_of_one_usd_1y_shift  \\\n",
       "china_student_count              0.96                         -0.83   \n",
       "\n",
       "                     src_tertiary_enrolment_1y_shift  year_2y_shift  \\\n",
       "china_student_count                             0.98           0.92   \n",
       "\n",
       "                     dst_distance_2y_shift  dst_students_count_2y_shift  \\\n",
       "china_student_count                    0.0                         0.97   \n",
       "\n",
       "                     dst_average_wage_2y_shift  dst_rate_of_one_usd_2y_shift  \\\n",
       "china_student_count                       0.89                           0.0   \n",
       "\n",
       "                     dst_cpi_2y_shift  dst_qoe_top20_2y_shift  \\\n",
       "china_student_count              0.88                   -0.89   \n",
       "\n",
       "                     dst_qoe_top100_2y_shift  dst_qoe_top200_2y_shift  \\\n",
       "china_student_count                    -0.75                    -0.92   \n",
       "\n",
       "                     dst_qoe_top500_2y_shift  src_population_2y_shift  \\\n",
       "china_student_count                     -0.9                     0.91   \n",
       "\n",
       "                     src_qoe_top20_2y_shift  src_qoe_top100_2y_shift  \\\n",
       "china_student_count                     0.0                     0.57   \n",
       "\n",
       "                     src_qoe_top200_2y_shift  src_qoe_top500_2y_shift  \\\n",
       "china_student_count                     0.95                      0.9   \n",
       "\n",
       "                     src_gni_2y_shift  src_gdp_2y_shift  \\\n",
       "china_student_count              0.96              0.94   \n",
       "\n",
       "                     src_rate_of_one_usd_2y_shift  \\\n",
       "china_student_count                          -0.8   \n",
       "\n",
       "                     src_tertiary_enrolment_2y_shift  \n",
       "china_student_count                             0.98  \n",
       "\n",
       "[1 rows x 56 columns]"
      ]
     },
     "execution_count": 9,
     "metadata": {},
     "output_type": "execute_result"
    }
   ],
   "source": [
    "corr_df"
   ]
  },
  {
   "cell_type": "markdown",
   "metadata": {
    "deletable": true,
    "editable": true
   },
   "source": [
    "### India"
   ]
  },
  {
   "cell_type": "code",
   "execution_count": 10,
   "metadata": {
    "collapsed": true,
    "deletable": true,
    "editable": true
   },
   "outputs": [],
   "source": [
    "india_aus_factors = aus_factors_df[aus_factors_df['source_country']=='India']\n",
    "cols = india_aus_factors.columns\n",
    "india_aus_factors = india_aus_factors.join(india_aus_factors[cols].shift(1), rsuffix='_1y_shift')\n",
    "india_aus_factors = india_aus_factors.join(india_aus_factors[cols].shift(2), rsuffix='_2y_shift')"
   ]
  },
  {
   "cell_type": "code",
   "execution_count": 11,
   "metadata": {
    "collapsed": false,
    "deletable": true,
    "editable": true
   },
   "outputs": [],
   "source": [
    "india_corr_series = india_aus_factors.corr().loc['dst_students_count'].fillna(0).drop(['dst_students_count'])\n",
    "corr_df = corr_df.append(pd.DataFrame(india_corr_series).rename(columns={'dst_students_count': 'India_student_count'}).T)\n"
   ]
  },
  {
   "cell_type": "code",
   "execution_count": 12,
   "metadata": {
    "collapsed": false,
    "deletable": true,
    "editable": true
   },
   "outputs": [
    {
     "data": {
      "text/html": [
       "<div>\n",
       "<style scoped>\n",
       "    .dataframe tbody tr th:only-of-type {\n",
       "        vertical-align: middle;\n",
       "    }\n",
       "\n",
       "    .dataframe tbody tr th {\n",
       "        vertical-align: top;\n",
       "    }\n",
       "\n",
       "    .dataframe thead th {\n",
       "        text-align: right;\n",
       "    }\n",
       "</style>\n",
       "<table border=\"1\" class=\"dataframe\">\n",
       "  <thead>\n",
       "    <tr style=\"text-align: right;\">\n",
       "      <th></th>\n",
       "      <th>year</th>\n",
       "      <th>dst_distance</th>\n",
       "      <th>dst_average_wage</th>\n",
       "      <th>dst_rate_of_one_usd</th>\n",
       "      <th>dst_cpi</th>\n",
       "      <th>dst_qoe_top20</th>\n",
       "      <th>dst_qoe_top100</th>\n",
       "      <th>dst_qoe_top200</th>\n",
       "      <th>dst_qoe_top500</th>\n",
       "      <th>src_population</th>\n",
       "      <th>src_qoe_top20</th>\n",
       "      <th>src_qoe_top100</th>\n",
       "      <th>src_qoe_top200</th>\n",
       "      <th>src_qoe_top500</th>\n",
       "      <th>src_gni</th>\n",
       "      <th>src_gdp</th>\n",
       "      <th>src_rate_of_one_usd</th>\n",
       "      <th>src_tertiary_enrolment</th>\n",
       "      <th>year_1y_shift</th>\n",
       "      <th>dst_distance_1y_shift</th>\n",
       "      <th>dst_students_count_1y_shift</th>\n",
       "      <th>dst_average_wage_1y_shift</th>\n",
       "      <th>dst_rate_of_one_usd_1y_shift</th>\n",
       "      <th>dst_cpi_1y_shift</th>\n",
       "      <th>dst_qoe_top20_1y_shift</th>\n",
       "      <th>...</th>\n",
       "      <th>src_qoe_top200_1y_shift</th>\n",
       "      <th>src_qoe_top500_1y_shift</th>\n",
       "      <th>src_gni_1y_shift</th>\n",
       "      <th>src_gdp_1y_shift</th>\n",
       "      <th>src_rate_of_one_usd_1y_shift</th>\n",
       "      <th>src_tertiary_enrolment_1y_shift</th>\n",
       "      <th>year_2y_shift</th>\n",
       "      <th>dst_distance_2y_shift</th>\n",
       "      <th>dst_students_count_2y_shift</th>\n",
       "      <th>dst_average_wage_2y_shift</th>\n",
       "      <th>dst_rate_of_one_usd_2y_shift</th>\n",
       "      <th>dst_cpi_2y_shift</th>\n",
       "      <th>dst_qoe_top20_2y_shift</th>\n",
       "      <th>dst_qoe_top100_2y_shift</th>\n",
       "      <th>dst_qoe_top200_2y_shift</th>\n",
       "      <th>dst_qoe_top500_2y_shift</th>\n",
       "      <th>src_population_2y_shift</th>\n",
       "      <th>src_qoe_top20_2y_shift</th>\n",
       "      <th>src_qoe_top100_2y_shift</th>\n",
       "      <th>src_qoe_top200_2y_shift</th>\n",
       "      <th>src_qoe_top500_2y_shift</th>\n",
       "      <th>src_gni_2y_shift</th>\n",
       "      <th>src_gdp_2y_shift</th>\n",
       "      <th>src_rate_of_one_usd_2y_shift</th>\n",
       "      <th>src_tertiary_enrolment_2y_shift</th>\n",
       "    </tr>\n",
       "  </thead>\n",
       "  <tbody>\n",
       "    <tr>\n",
       "      <td>china_student_count</td>\n",
       "      <td>0.94</td>\n",
       "      <td>0.0</td>\n",
       "      <td>0.91</td>\n",
       "      <td>0.0</td>\n",
       "      <td>0.91</td>\n",
       "      <td>-0.88</td>\n",
       "      <td>-0.82</td>\n",
       "      <td>-0.92</td>\n",
       "      <td>-0.92</td>\n",
       "      <td>0.92</td>\n",
       "      <td>0.0</td>\n",
       "      <td>0.5</td>\n",
       "      <td>0.97</td>\n",
       "      <td>0.93</td>\n",
       "      <td>0.98</td>\n",
       "      <td>0.98</td>\n",
       "      <td>-0.87</td>\n",
       "      <td>0.98</td>\n",
       "      <td>0.93</td>\n",
       "      <td>0.0</td>\n",
       "      <td>0.99</td>\n",
       "      <td>0.90</td>\n",
       "      <td>0.0</td>\n",
       "      <td>0.90</td>\n",
       "      <td>-0.88</td>\n",
       "      <td>...</td>\n",
       "      <td>0.98</td>\n",
       "      <td>0.92</td>\n",
       "      <td>0.97</td>\n",
       "      <td>0.96</td>\n",
       "      <td>-0.83</td>\n",
       "      <td>0.98</td>\n",
       "      <td>0.92</td>\n",
       "      <td>0.0</td>\n",
       "      <td>0.97</td>\n",
       "      <td>0.89</td>\n",
       "      <td>0.0</td>\n",
       "      <td>0.88</td>\n",
       "      <td>-0.89</td>\n",
       "      <td>-0.75</td>\n",
       "      <td>-0.92</td>\n",
       "      <td>-0.9</td>\n",
       "      <td>0.91</td>\n",
       "      <td>0.0</td>\n",
       "      <td>0.57</td>\n",
       "      <td>0.95</td>\n",
       "      <td>0.90</td>\n",
       "      <td>0.96</td>\n",
       "      <td>0.94</td>\n",
       "      <td>-0.80</td>\n",
       "      <td>0.98</td>\n",
       "    </tr>\n",
       "    <tr>\n",
       "      <td>India_student_count</td>\n",
       "      <td>0.93</td>\n",
       "      <td>0.0</td>\n",
       "      <td>0.95</td>\n",
       "      <td>0.0</td>\n",
       "      <td>0.92</td>\n",
       "      <td>-0.88</td>\n",
       "      <td>-0.83</td>\n",
       "      <td>-0.90</td>\n",
       "      <td>-0.94</td>\n",
       "      <td>0.94</td>\n",
       "      <td>0.0</td>\n",
       "      <td>0.0</td>\n",
       "      <td>0.00</td>\n",
       "      <td>-0.73</td>\n",
       "      <td>0.87</td>\n",
       "      <td>0.88</td>\n",
       "      <td>0.64</td>\n",
       "      <td>0.84</td>\n",
       "      <td>0.91</td>\n",
       "      <td>0.0</td>\n",
       "      <td>0.97</td>\n",
       "      <td>0.94</td>\n",
       "      <td>0.0</td>\n",
       "      <td>0.92</td>\n",
       "      <td>-0.83</td>\n",
       "      <td>...</td>\n",
       "      <td>0.00</td>\n",
       "      <td>-0.79</td>\n",
       "      <td>0.86</td>\n",
       "      <td>0.87</td>\n",
       "      <td>0.50</td>\n",
       "      <td>0.80</td>\n",
       "      <td>0.89</td>\n",
       "      <td>0.0</td>\n",
       "      <td>0.93</td>\n",
       "      <td>0.93</td>\n",
       "      <td>0.0</td>\n",
       "      <td>0.90</td>\n",
       "      <td>-0.75</td>\n",
       "      <td>-0.72</td>\n",
       "      <td>-0.80</td>\n",
       "      <td>-0.9</td>\n",
       "      <td>0.91</td>\n",
       "      <td>0.0</td>\n",
       "      <td>0.00</td>\n",
       "      <td>0.00</td>\n",
       "      <td>-0.85</td>\n",
       "      <td>0.87</td>\n",
       "      <td>0.88</td>\n",
       "      <td>0.45</td>\n",
       "      <td>0.78</td>\n",
       "    </tr>\n",
       "  </tbody>\n",
       "</table>\n",
       "<p>2 rows × 56 columns</p>\n",
       "</div>"
      ],
      "text/plain": [
       "                     year  dst_distance  dst_average_wage  \\\n",
       "china_student_count  0.94           0.0              0.91   \n",
       "India_student_count  0.93           0.0              0.95   \n",
       "\n",
       "                     dst_rate_of_one_usd  dst_cpi  dst_qoe_top20  \\\n",
       "china_student_count                  0.0     0.91          -0.88   \n",
       "India_student_count                  0.0     0.92          -0.88   \n",
       "\n",
       "                     dst_qoe_top100  dst_qoe_top200  dst_qoe_top500  \\\n",
       "china_student_count           -0.82           -0.92           -0.92   \n",
       "India_student_count           -0.83           -0.90           -0.94   \n",
       "\n",
       "                     src_population  src_qoe_top20  src_qoe_top100  \\\n",
       "china_student_count            0.92            0.0             0.5   \n",
       "India_student_count            0.94            0.0             0.0   \n",
       "\n",
       "                     src_qoe_top200  src_qoe_top500  src_gni  src_gdp  \\\n",
       "china_student_count            0.97            0.93     0.98     0.98   \n",
       "India_student_count            0.00           -0.73     0.87     0.88   \n",
       "\n",
       "                     src_rate_of_one_usd  src_tertiary_enrolment  \\\n",
       "china_student_count                -0.87                    0.98   \n",
       "India_student_count                 0.64                    0.84   \n",
       "\n",
       "                     year_1y_shift  dst_distance_1y_shift  \\\n",
       "china_student_count           0.93                    0.0   \n",
       "India_student_count           0.91                    0.0   \n",
       "\n",
       "                     dst_students_count_1y_shift  dst_average_wage_1y_shift  \\\n",
       "china_student_count                         0.99                       0.90   \n",
       "India_student_count                         0.97                       0.94   \n",
       "\n",
       "                     dst_rate_of_one_usd_1y_shift  dst_cpi_1y_shift  \\\n",
       "china_student_count                           0.0              0.90   \n",
       "India_student_count                           0.0              0.92   \n",
       "\n",
       "                     dst_qoe_top20_1y_shift  ...  src_qoe_top200_1y_shift  \\\n",
       "china_student_count                   -0.88  ...                     0.98   \n",
       "India_student_count                   -0.83  ...                     0.00   \n",
       "\n",
       "                     src_qoe_top500_1y_shift  src_gni_1y_shift  \\\n",
       "china_student_count                     0.92              0.97   \n",
       "India_student_count                    -0.79              0.86   \n",
       "\n",
       "                     src_gdp_1y_shift  src_rate_of_one_usd_1y_shift  \\\n",
       "china_student_count              0.96                         -0.83   \n",
       "India_student_count              0.87                          0.50   \n",
       "\n",
       "                     src_tertiary_enrolment_1y_shift  year_2y_shift  \\\n",
       "china_student_count                             0.98           0.92   \n",
       "India_student_count                             0.80           0.89   \n",
       "\n",
       "                     dst_distance_2y_shift  dst_students_count_2y_shift  \\\n",
       "china_student_count                    0.0                         0.97   \n",
       "India_student_count                    0.0                         0.93   \n",
       "\n",
       "                     dst_average_wage_2y_shift  dst_rate_of_one_usd_2y_shift  \\\n",
       "china_student_count                       0.89                           0.0   \n",
       "India_student_count                       0.93                           0.0   \n",
       "\n",
       "                     dst_cpi_2y_shift  dst_qoe_top20_2y_shift  \\\n",
       "china_student_count              0.88                   -0.89   \n",
       "India_student_count              0.90                   -0.75   \n",
       "\n",
       "                     dst_qoe_top100_2y_shift  dst_qoe_top200_2y_shift  \\\n",
       "china_student_count                    -0.75                    -0.92   \n",
       "India_student_count                    -0.72                    -0.80   \n",
       "\n",
       "                     dst_qoe_top500_2y_shift  src_population_2y_shift  \\\n",
       "china_student_count                     -0.9                     0.91   \n",
       "India_student_count                     -0.9                     0.91   \n",
       "\n",
       "                     src_qoe_top20_2y_shift  src_qoe_top100_2y_shift  \\\n",
       "china_student_count                     0.0                     0.57   \n",
       "India_student_count                     0.0                     0.00   \n",
       "\n",
       "                     src_qoe_top200_2y_shift  src_qoe_top500_2y_shift  \\\n",
       "china_student_count                     0.95                     0.90   \n",
       "India_student_count                     0.00                    -0.85   \n",
       "\n",
       "                     src_gni_2y_shift  src_gdp_2y_shift  \\\n",
       "china_student_count              0.96              0.94   \n",
       "India_student_count              0.87              0.88   \n",
       "\n",
       "                     src_rate_of_one_usd_2y_shift  \\\n",
       "china_student_count                         -0.80   \n",
       "India_student_count                          0.45   \n",
       "\n",
       "                     src_tertiary_enrolment_2y_shift  \n",
       "china_student_count                             0.98  \n",
       "India_student_count                             0.78  \n",
       "\n",
       "[2 rows x 56 columns]"
      ]
     },
     "execution_count": 12,
     "metadata": {},
     "output_type": "execute_result"
    }
   ],
   "source": [
    "corr_df"
   ]
  },
  {
   "cell_type": "markdown",
   "metadata": {
    "deletable": true,
    "editable": true
   },
   "source": [
    "### Malaysia"
   ]
  },
  {
   "cell_type": "code",
   "execution_count": 13,
   "metadata": {
    "collapsed": true,
    "deletable": true,
    "editable": true
   },
   "outputs": [],
   "source": [
    "malay_aus_factors = aus_factors_df[aus_factors_df['source_country']=='Malaysia']\n",
    "cols = malay_aus_factors.columns\n",
    "malay_aus_factors = malay_aus_factors.join(malay_aus_factors[cols].shift(1), rsuffix='_1y_shift')\n",
    "malay_aus_factors = malay_aus_factors.join(malay_aus_factors[cols].shift(2), rsuffix='_2y_shift')"
   ]
  },
  {
   "cell_type": "code",
   "execution_count": 14,
   "metadata": {
    "collapsed": true,
    "deletable": true,
    "editable": true
   },
   "outputs": [],
   "source": [
    "malay_corr_series = malay_aus_factors.corr().loc['dst_students_count'].fillna(0).drop(['dst_students_count'])\n",
    "corr_df = corr_df.append(pd.DataFrame(malay_corr_series).rename(columns={'dst_students_count': 'malaysia_student_count'}).T)"
   ]
  },
  {
   "cell_type": "code",
   "execution_count": 15,
   "metadata": {
    "collapsed": false,
    "deletable": true,
    "editable": true
   },
   "outputs": [
    {
     "data": {
      "text/html": [
       "<div>\n",
       "<style scoped>\n",
       "    .dataframe tbody tr th:only-of-type {\n",
       "        vertical-align: middle;\n",
       "    }\n",
       "\n",
       "    .dataframe tbody tr th {\n",
       "        vertical-align: top;\n",
       "    }\n",
       "\n",
       "    .dataframe thead th {\n",
       "        text-align: right;\n",
       "    }\n",
       "</style>\n",
       "<table border=\"1\" class=\"dataframe\">\n",
       "  <thead>\n",
       "    <tr style=\"text-align: right;\">\n",
       "      <th></th>\n",
       "      <th>year</th>\n",
       "      <th>dst_distance</th>\n",
       "      <th>dst_average_wage</th>\n",
       "      <th>dst_rate_of_one_usd</th>\n",
       "      <th>dst_cpi</th>\n",
       "      <th>dst_qoe_top20</th>\n",
       "      <th>dst_qoe_top100</th>\n",
       "      <th>dst_qoe_top200</th>\n",
       "      <th>dst_qoe_top500</th>\n",
       "      <th>src_population</th>\n",
       "      <th>src_qoe_top20</th>\n",
       "      <th>src_qoe_top100</th>\n",
       "      <th>src_qoe_top200</th>\n",
       "      <th>src_qoe_top500</th>\n",
       "      <th>src_gni</th>\n",
       "      <th>src_gdp</th>\n",
       "      <th>src_rate_of_one_usd</th>\n",
       "      <th>src_tertiary_enrolment</th>\n",
       "      <th>year_1y_shift</th>\n",
       "      <th>dst_distance_1y_shift</th>\n",
       "      <th>dst_students_count_1y_shift</th>\n",
       "      <th>dst_average_wage_1y_shift</th>\n",
       "      <th>dst_rate_of_one_usd_1y_shift</th>\n",
       "      <th>dst_cpi_1y_shift</th>\n",
       "      <th>dst_qoe_top20_1y_shift</th>\n",
       "      <th>...</th>\n",
       "      <th>src_qoe_top200_1y_shift</th>\n",
       "      <th>src_qoe_top500_1y_shift</th>\n",
       "      <th>src_gni_1y_shift</th>\n",
       "      <th>src_gdp_1y_shift</th>\n",
       "      <th>src_rate_of_one_usd_1y_shift</th>\n",
       "      <th>src_tertiary_enrolment_1y_shift</th>\n",
       "      <th>year_2y_shift</th>\n",
       "      <th>dst_distance_2y_shift</th>\n",
       "      <th>dst_students_count_2y_shift</th>\n",
       "      <th>dst_average_wage_2y_shift</th>\n",
       "      <th>dst_rate_of_one_usd_2y_shift</th>\n",
       "      <th>dst_cpi_2y_shift</th>\n",
       "      <th>dst_qoe_top20_2y_shift</th>\n",
       "      <th>dst_qoe_top100_2y_shift</th>\n",
       "      <th>dst_qoe_top200_2y_shift</th>\n",
       "      <th>dst_qoe_top500_2y_shift</th>\n",
       "      <th>src_population_2y_shift</th>\n",
       "      <th>src_qoe_top20_2y_shift</th>\n",
       "      <th>src_qoe_top100_2y_shift</th>\n",
       "      <th>src_qoe_top200_2y_shift</th>\n",
       "      <th>src_qoe_top500_2y_shift</th>\n",
       "      <th>src_gni_2y_shift</th>\n",
       "      <th>src_gdp_2y_shift</th>\n",
       "      <th>src_rate_of_one_usd_2y_shift</th>\n",
       "      <th>src_tertiary_enrolment_2y_shift</th>\n",
       "    </tr>\n",
       "  </thead>\n",
       "  <tbody>\n",
       "    <tr>\n",
       "      <td>china_student_count</td>\n",
       "      <td>0.94</td>\n",
       "      <td>0.0</td>\n",
       "      <td>0.91</td>\n",
       "      <td>0.0</td>\n",
       "      <td>0.91</td>\n",
       "      <td>-0.88</td>\n",
       "      <td>-0.82</td>\n",
       "      <td>-0.92</td>\n",
       "      <td>-0.92</td>\n",
       "      <td>0.92</td>\n",
       "      <td>0.0</td>\n",
       "      <td>0.5</td>\n",
       "      <td>0.97</td>\n",
       "      <td>0.93</td>\n",
       "      <td>0.98</td>\n",
       "      <td>0.98</td>\n",
       "      <td>-0.87</td>\n",
       "      <td>0.98</td>\n",
       "      <td>0.93</td>\n",
       "      <td>0.0</td>\n",
       "      <td>0.99</td>\n",
       "      <td>0.90</td>\n",
       "      <td>0.0</td>\n",
       "      <td>0.90</td>\n",
       "      <td>-0.88</td>\n",
       "      <td>...</td>\n",
       "      <td>0.98</td>\n",
       "      <td>0.92</td>\n",
       "      <td>0.97</td>\n",
       "      <td>0.96</td>\n",
       "      <td>-0.83</td>\n",
       "      <td>0.98</td>\n",
       "      <td>0.92</td>\n",
       "      <td>0.0</td>\n",
       "      <td>0.97</td>\n",
       "      <td>0.89</td>\n",
       "      <td>0.0</td>\n",
       "      <td>0.88</td>\n",
       "      <td>-0.89</td>\n",
       "      <td>-0.75</td>\n",
       "      <td>-0.92</td>\n",
       "      <td>-0.90</td>\n",
       "      <td>0.91</td>\n",
       "      <td>0.0</td>\n",
       "      <td>0.57</td>\n",
       "      <td>0.95</td>\n",
       "      <td>0.90</td>\n",
       "      <td>0.96</td>\n",
       "      <td>0.94</td>\n",
       "      <td>-0.80</td>\n",
       "      <td>0.98</td>\n",
       "    </tr>\n",
       "    <tr>\n",
       "      <td>India_student_count</td>\n",
       "      <td>0.93</td>\n",
       "      <td>0.0</td>\n",
       "      <td>0.95</td>\n",
       "      <td>0.0</td>\n",
       "      <td>0.92</td>\n",
       "      <td>-0.88</td>\n",
       "      <td>-0.83</td>\n",
       "      <td>-0.90</td>\n",
       "      <td>-0.94</td>\n",
       "      <td>0.94</td>\n",
       "      <td>0.0</td>\n",
       "      <td>0.0</td>\n",
       "      <td>0.00</td>\n",
       "      <td>-0.73</td>\n",
       "      <td>0.87</td>\n",
       "      <td>0.88</td>\n",
       "      <td>0.64</td>\n",
       "      <td>0.84</td>\n",
       "      <td>0.91</td>\n",
       "      <td>0.0</td>\n",
       "      <td>0.97</td>\n",
       "      <td>0.94</td>\n",
       "      <td>0.0</td>\n",
       "      <td>0.92</td>\n",
       "      <td>-0.83</td>\n",
       "      <td>...</td>\n",
       "      <td>0.00</td>\n",
       "      <td>-0.79</td>\n",
       "      <td>0.86</td>\n",
       "      <td>0.87</td>\n",
       "      <td>0.50</td>\n",
       "      <td>0.80</td>\n",
       "      <td>0.89</td>\n",
       "      <td>0.0</td>\n",
       "      <td>0.93</td>\n",
       "      <td>0.93</td>\n",
       "      <td>0.0</td>\n",
       "      <td>0.90</td>\n",
       "      <td>-0.75</td>\n",
       "      <td>-0.72</td>\n",
       "      <td>-0.80</td>\n",
       "      <td>-0.90</td>\n",
       "      <td>0.91</td>\n",
       "      <td>0.0</td>\n",
       "      <td>0.00</td>\n",
       "      <td>0.00</td>\n",
       "      <td>-0.85</td>\n",
       "      <td>0.87</td>\n",
       "      <td>0.88</td>\n",
       "      <td>0.45</td>\n",
       "      <td>0.78</td>\n",
       "    </tr>\n",
       "    <tr>\n",
       "      <td>malaysia_student_count</td>\n",
       "      <td>-0.42</td>\n",
       "      <td>0.0</td>\n",
       "      <td>-0.44</td>\n",
       "      <td>0.0</td>\n",
       "      <td>-0.47</td>\n",
       "      <td>0.27</td>\n",
       "      <td>0.37</td>\n",
       "      <td>0.37</td>\n",
       "      <td>0.41</td>\n",
       "      <td>-0.45</td>\n",
       "      <td>0.0</td>\n",
       "      <td>0.0</td>\n",
       "      <td>0.00</td>\n",
       "      <td>0.02</td>\n",
       "      <td>-0.34</td>\n",
       "      <td>-0.39</td>\n",
       "      <td>0.54</td>\n",
       "      <td>-0.37</td>\n",
       "      <td>-0.56</td>\n",
       "      <td>0.0</td>\n",
       "      <td>0.85</td>\n",
       "      <td>-0.59</td>\n",
       "      <td>0.0</td>\n",
       "      <td>-0.60</td>\n",
       "      <td>0.39</td>\n",
       "      <td>...</td>\n",
       "      <td>0.00</td>\n",
       "      <td>-0.16</td>\n",
       "      <td>-0.51</td>\n",
       "      <td>-0.52</td>\n",
       "      <td>0.48</td>\n",
       "      <td>-0.51</td>\n",
       "      <td>-0.67</td>\n",
       "      <td>0.0</td>\n",
       "      <td>0.51</td>\n",
       "      <td>-0.71</td>\n",
       "      <td>0.0</td>\n",
       "      <td>-0.70</td>\n",
       "      <td>0.57</td>\n",
       "      <td>0.47</td>\n",
       "      <td>0.57</td>\n",
       "      <td>0.67</td>\n",
       "      <td>-0.69</td>\n",
       "      <td>0.0</td>\n",
       "      <td>0.00</td>\n",
       "      <td>0.00</td>\n",
       "      <td>-0.36</td>\n",
       "      <td>-0.63</td>\n",
       "      <td>-0.63</td>\n",
       "      <td>0.45</td>\n",
       "      <td>-0.64</td>\n",
       "    </tr>\n",
       "  </tbody>\n",
       "</table>\n",
       "<p>3 rows × 56 columns</p>\n",
       "</div>"
      ],
      "text/plain": [
       "                        year  dst_distance  dst_average_wage  \\\n",
       "china_student_count     0.94           0.0              0.91   \n",
       "India_student_count     0.93           0.0              0.95   \n",
       "malaysia_student_count -0.42           0.0             -0.44   \n",
       "\n",
       "                        dst_rate_of_one_usd  dst_cpi  dst_qoe_top20  \\\n",
       "china_student_count                     0.0     0.91          -0.88   \n",
       "India_student_count                     0.0     0.92          -0.88   \n",
       "malaysia_student_count                  0.0    -0.47           0.27   \n",
       "\n",
       "                        dst_qoe_top100  dst_qoe_top200  dst_qoe_top500  \\\n",
       "china_student_count              -0.82           -0.92           -0.92   \n",
       "India_student_count              -0.83           -0.90           -0.94   \n",
       "malaysia_student_count            0.37            0.37            0.41   \n",
       "\n",
       "                        src_population  src_qoe_top20  src_qoe_top100  \\\n",
       "china_student_count               0.92            0.0             0.5   \n",
       "India_student_count               0.94            0.0             0.0   \n",
       "malaysia_student_count           -0.45            0.0             0.0   \n",
       "\n",
       "                        src_qoe_top200  src_qoe_top500  src_gni  src_gdp  \\\n",
       "china_student_count               0.97            0.93     0.98     0.98   \n",
       "India_student_count               0.00           -0.73     0.87     0.88   \n",
       "malaysia_student_count            0.00            0.02    -0.34    -0.39   \n",
       "\n",
       "                        src_rate_of_one_usd  src_tertiary_enrolment  \\\n",
       "china_student_count                   -0.87                    0.98   \n",
       "India_student_count                    0.64                    0.84   \n",
       "malaysia_student_count                 0.54                   -0.37   \n",
       "\n",
       "                        year_1y_shift  dst_distance_1y_shift  \\\n",
       "china_student_count              0.93                    0.0   \n",
       "India_student_count              0.91                    0.0   \n",
       "malaysia_student_count          -0.56                    0.0   \n",
       "\n",
       "                        dst_students_count_1y_shift  \\\n",
       "china_student_count                            0.99   \n",
       "India_student_count                            0.97   \n",
       "malaysia_student_count                         0.85   \n",
       "\n",
       "                        dst_average_wage_1y_shift  \\\n",
       "china_student_count                          0.90   \n",
       "India_student_count                          0.94   \n",
       "malaysia_student_count                      -0.59   \n",
       "\n",
       "                        dst_rate_of_one_usd_1y_shift  dst_cpi_1y_shift  \\\n",
       "china_student_count                              0.0              0.90   \n",
       "India_student_count                              0.0              0.92   \n",
       "malaysia_student_count                           0.0             -0.60   \n",
       "\n",
       "                        dst_qoe_top20_1y_shift  ...  src_qoe_top200_1y_shift  \\\n",
       "china_student_count                      -0.88  ...                     0.98   \n",
       "India_student_count                      -0.83  ...                     0.00   \n",
       "malaysia_student_count                    0.39  ...                     0.00   \n",
       "\n",
       "                        src_qoe_top500_1y_shift  src_gni_1y_shift  \\\n",
       "china_student_count                        0.92              0.97   \n",
       "India_student_count                       -0.79              0.86   \n",
       "malaysia_student_count                    -0.16             -0.51   \n",
       "\n",
       "                        src_gdp_1y_shift  src_rate_of_one_usd_1y_shift  \\\n",
       "china_student_count                 0.96                         -0.83   \n",
       "India_student_count                 0.87                          0.50   \n",
       "malaysia_student_count             -0.52                          0.48   \n",
       "\n",
       "                        src_tertiary_enrolment_1y_shift  year_2y_shift  \\\n",
       "china_student_count                                0.98           0.92   \n",
       "India_student_count                                0.80           0.89   \n",
       "malaysia_student_count                            -0.51          -0.67   \n",
       "\n",
       "                        dst_distance_2y_shift  dst_students_count_2y_shift  \\\n",
       "china_student_count                       0.0                         0.97   \n",
       "India_student_count                       0.0                         0.93   \n",
       "malaysia_student_count                    0.0                         0.51   \n",
       "\n",
       "                        dst_average_wage_2y_shift  \\\n",
       "china_student_count                          0.89   \n",
       "India_student_count                          0.93   \n",
       "malaysia_student_count                      -0.71   \n",
       "\n",
       "                        dst_rate_of_one_usd_2y_shift  dst_cpi_2y_shift  \\\n",
       "china_student_count                              0.0              0.88   \n",
       "India_student_count                              0.0              0.90   \n",
       "malaysia_student_count                           0.0             -0.70   \n",
       "\n",
       "                        dst_qoe_top20_2y_shift  dst_qoe_top100_2y_shift  \\\n",
       "china_student_count                      -0.89                    -0.75   \n",
       "India_student_count                      -0.75                    -0.72   \n",
       "malaysia_student_count                    0.57                     0.47   \n",
       "\n",
       "                        dst_qoe_top200_2y_shift  dst_qoe_top500_2y_shift  \\\n",
       "china_student_count                       -0.92                    -0.90   \n",
       "India_student_count                       -0.80                    -0.90   \n",
       "malaysia_student_count                     0.57                     0.67   \n",
       "\n",
       "                        src_population_2y_shift  src_qoe_top20_2y_shift  \\\n",
       "china_student_count                        0.91                     0.0   \n",
       "India_student_count                        0.91                     0.0   \n",
       "malaysia_student_count                    -0.69                     0.0   \n",
       "\n",
       "                        src_qoe_top100_2y_shift  src_qoe_top200_2y_shift  \\\n",
       "china_student_count                        0.57                     0.95   \n",
       "India_student_count                        0.00                     0.00   \n",
       "malaysia_student_count                     0.00                     0.00   \n",
       "\n",
       "                        src_qoe_top500_2y_shift  src_gni_2y_shift  \\\n",
       "china_student_count                        0.90              0.96   \n",
       "India_student_count                       -0.85              0.87   \n",
       "malaysia_student_count                    -0.36             -0.63   \n",
       "\n",
       "                        src_gdp_2y_shift  src_rate_of_one_usd_2y_shift  \\\n",
       "china_student_count                 0.94                         -0.80   \n",
       "India_student_count                 0.88                          0.45   \n",
       "malaysia_student_count             -0.63                          0.45   \n",
       "\n",
       "                        src_tertiary_enrolment_2y_shift  \n",
       "china_student_count                                0.98  \n",
       "India_student_count                                0.78  \n",
       "malaysia_student_count                            -0.64  \n",
       "\n",
       "[3 rows x 56 columns]"
      ]
     },
     "execution_count": 15,
     "metadata": {},
     "output_type": "execute_result"
    }
   ],
   "source": [
    "corr_df"
   ]
  },
  {
   "cell_type": "markdown",
   "metadata": {
    "deletable": true,
    "editable": true
   },
   "source": [
    "### Indonesia"
   ]
  },
  {
   "cell_type": "code",
   "execution_count": 16,
   "metadata": {
    "collapsed": true,
    "deletable": true,
    "editable": true
   },
   "outputs": [],
   "source": [
    "indonesia_aus_factors = aus_factors_df[aus_factors_df['source_country']=='Indonesia']\n",
    "cols = indonesia_aus_factors.columns\n",
    "indonesia_aus_factors = indonesia_aus_factors.join(indonesia_aus_factors[cols].shift(1), rsuffix='_1y_shift')\n",
    "indonesia_aus_factors = indonesia_aus_factors.join(indonesia_aus_factors[cols].shift(2), rsuffix='_2y_shift')"
   ]
  },
  {
   "cell_type": "code",
   "execution_count": 17,
   "metadata": {
    "collapsed": true,
    "deletable": true,
    "editable": true
   },
   "outputs": [],
   "source": [
    "indonesia_corr_series = indonesia_aus_factors.corr().loc['dst_students_count'].fillna(0).drop(['dst_students_count'])\n",
    "corr_df = corr_df.append(pd.DataFrame(indonesia_corr_series).rename(columns={'dst_students_count': 'indonesia_student_count'}).T)"
   ]
  },
  {
   "cell_type": "code",
   "execution_count": 18,
   "metadata": {
    "collapsed": false,
    "deletable": true,
    "editable": true
   },
   "outputs": [
    {
     "data": {
      "text/html": [
       "<div>\n",
       "<style scoped>\n",
       "    .dataframe tbody tr th:only-of-type {\n",
       "        vertical-align: middle;\n",
       "    }\n",
       "\n",
       "    .dataframe tbody tr th {\n",
       "        vertical-align: top;\n",
       "    }\n",
       "\n",
       "    .dataframe thead th {\n",
       "        text-align: right;\n",
       "    }\n",
       "</style>\n",
       "<table border=\"1\" class=\"dataframe\">\n",
       "  <thead>\n",
       "    <tr style=\"text-align: right;\">\n",
       "      <th></th>\n",
       "      <th>year</th>\n",
       "      <th>dst_distance</th>\n",
       "      <th>dst_average_wage</th>\n",
       "      <th>dst_rate_of_one_usd</th>\n",
       "      <th>dst_cpi</th>\n",
       "      <th>dst_qoe_top20</th>\n",
       "      <th>dst_qoe_top100</th>\n",
       "      <th>dst_qoe_top200</th>\n",
       "      <th>dst_qoe_top500</th>\n",
       "      <th>src_population</th>\n",
       "      <th>src_qoe_top20</th>\n",
       "      <th>src_qoe_top100</th>\n",
       "      <th>src_qoe_top200</th>\n",
       "      <th>src_qoe_top500</th>\n",
       "      <th>src_gni</th>\n",
       "      <th>src_gdp</th>\n",
       "      <th>src_rate_of_one_usd</th>\n",
       "      <th>src_tertiary_enrolment</th>\n",
       "      <th>year_1y_shift</th>\n",
       "      <th>dst_distance_1y_shift</th>\n",
       "      <th>dst_students_count_1y_shift</th>\n",
       "      <th>dst_average_wage_1y_shift</th>\n",
       "      <th>dst_rate_of_one_usd_1y_shift</th>\n",
       "      <th>dst_cpi_1y_shift</th>\n",
       "      <th>dst_qoe_top20_1y_shift</th>\n",
       "      <th>...</th>\n",
       "      <th>src_qoe_top200_1y_shift</th>\n",
       "      <th>src_qoe_top500_1y_shift</th>\n",
       "      <th>src_gni_1y_shift</th>\n",
       "      <th>src_gdp_1y_shift</th>\n",
       "      <th>src_rate_of_one_usd_1y_shift</th>\n",
       "      <th>src_tertiary_enrolment_1y_shift</th>\n",
       "      <th>year_2y_shift</th>\n",
       "      <th>dst_distance_2y_shift</th>\n",
       "      <th>dst_students_count_2y_shift</th>\n",
       "      <th>dst_average_wage_2y_shift</th>\n",
       "      <th>dst_rate_of_one_usd_2y_shift</th>\n",
       "      <th>dst_cpi_2y_shift</th>\n",
       "      <th>dst_qoe_top20_2y_shift</th>\n",
       "      <th>dst_qoe_top100_2y_shift</th>\n",
       "      <th>dst_qoe_top200_2y_shift</th>\n",
       "      <th>dst_qoe_top500_2y_shift</th>\n",
       "      <th>src_population_2y_shift</th>\n",
       "      <th>src_qoe_top20_2y_shift</th>\n",
       "      <th>src_qoe_top100_2y_shift</th>\n",
       "      <th>src_qoe_top200_2y_shift</th>\n",
       "      <th>src_qoe_top500_2y_shift</th>\n",
       "      <th>src_gni_2y_shift</th>\n",
       "      <th>src_gdp_2y_shift</th>\n",
       "      <th>src_rate_of_one_usd_2y_shift</th>\n",
       "      <th>src_tertiary_enrolment_2y_shift</th>\n",
       "    </tr>\n",
       "  </thead>\n",
       "  <tbody>\n",
       "    <tr>\n",
       "      <td>china_student_count</td>\n",
       "      <td>0.94</td>\n",
       "      <td>0.0</td>\n",
       "      <td>0.91</td>\n",
       "      <td>0.0</td>\n",
       "      <td>0.91</td>\n",
       "      <td>-0.88</td>\n",
       "      <td>-0.82</td>\n",
       "      <td>-0.92</td>\n",
       "      <td>-0.92</td>\n",
       "      <td>0.92</td>\n",
       "      <td>0.0</td>\n",
       "      <td>0.5</td>\n",
       "      <td>0.97</td>\n",
       "      <td>0.93</td>\n",
       "      <td>0.98</td>\n",
       "      <td>0.98</td>\n",
       "      <td>-0.87</td>\n",
       "      <td>0.98</td>\n",
       "      <td>0.93</td>\n",
       "      <td>0.0</td>\n",
       "      <td>0.99</td>\n",
       "      <td>0.90</td>\n",
       "      <td>0.0</td>\n",
       "      <td>0.90</td>\n",
       "      <td>-0.88</td>\n",
       "      <td>...</td>\n",
       "      <td>0.98</td>\n",
       "      <td>0.92</td>\n",
       "      <td>0.97</td>\n",
       "      <td>0.96</td>\n",
       "      <td>-0.83</td>\n",
       "      <td>0.98</td>\n",
       "      <td>0.92</td>\n",
       "      <td>0.0</td>\n",
       "      <td>0.97</td>\n",
       "      <td>0.89</td>\n",
       "      <td>0.0</td>\n",
       "      <td>0.88</td>\n",
       "      <td>-0.89</td>\n",
       "      <td>-0.75</td>\n",
       "      <td>-0.92</td>\n",
       "      <td>-0.90</td>\n",
       "      <td>0.91</td>\n",
       "      <td>0.0</td>\n",
       "      <td>0.57</td>\n",
       "      <td>0.95</td>\n",
       "      <td>0.90</td>\n",
       "      <td>0.96</td>\n",
       "      <td>0.94</td>\n",
       "      <td>-0.80</td>\n",
       "      <td>0.98</td>\n",
       "    </tr>\n",
       "    <tr>\n",
       "      <td>India_student_count</td>\n",
       "      <td>0.93</td>\n",
       "      <td>0.0</td>\n",
       "      <td>0.95</td>\n",
       "      <td>0.0</td>\n",
       "      <td>0.92</td>\n",
       "      <td>-0.88</td>\n",
       "      <td>-0.83</td>\n",
       "      <td>-0.90</td>\n",
       "      <td>-0.94</td>\n",
       "      <td>0.94</td>\n",
       "      <td>0.0</td>\n",
       "      <td>0.0</td>\n",
       "      <td>0.00</td>\n",
       "      <td>-0.73</td>\n",
       "      <td>0.87</td>\n",
       "      <td>0.88</td>\n",
       "      <td>0.64</td>\n",
       "      <td>0.84</td>\n",
       "      <td>0.91</td>\n",
       "      <td>0.0</td>\n",
       "      <td>0.97</td>\n",
       "      <td>0.94</td>\n",
       "      <td>0.0</td>\n",
       "      <td>0.92</td>\n",
       "      <td>-0.83</td>\n",
       "      <td>...</td>\n",
       "      <td>0.00</td>\n",
       "      <td>-0.79</td>\n",
       "      <td>0.86</td>\n",
       "      <td>0.87</td>\n",
       "      <td>0.50</td>\n",
       "      <td>0.80</td>\n",
       "      <td>0.89</td>\n",
       "      <td>0.0</td>\n",
       "      <td>0.93</td>\n",
       "      <td>0.93</td>\n",
       "      <td>0.0</td>\n",
       "      <td>0.90</td>\n",
       "      <td>-0.75</td>\n",
       "      <td>-0.72</td>\n",
       "      <td>-0.80</td>\n",
       "      <td>-0.90</td>\n",
       "      <td>0.91</td>\n",
       "      <td>0.0</td>\n",
       "      <td>0.00</td>\n",
       "      <td>0.00</td>\n",
       "      <td>-0.85</td>\n",
       "      <td>0.87</td>\n",
       "      <td>0.88</td>\n",
       "      <td>0.45</td>\n",
       "      <td>0.78</td>\n",
       "    </tr>\n",
       "    <tr>\n",
       "      <td>malaysia_student_count</td>\n",
       "      <td>-0.42</td>\n",
       "      <td>0.0</td>\n",
       "      <td>-0.44</td>\n",
       "      <td>0.0</td>\n",
       "      <td>-0.47</td>\n",
       "      <td>0.27</td>\n",
       "      <td>0.37</td>\n",
       "      <td>0.37</td>\n",
       "      <td>0.41</td>\n",
       "      <td>-0.45</td>\n",
       "      <td>0.0</td>\n",
       "      <td>0.0</td>\n",
       "      <td>0.00</td>\n",
       "      <td>0.02</td>\n",
       "      <td>-0.34</td>\n",
       "      <td>-0.39</td>\n",
       "      <td>0.54</td>\n",
       "      <td>-0.37</td>\n",
       "      <td>-0.56</td>\n",
       "      <td>0.0</td>\n",
       "      <td>0.85</td>\n",
       "      <td>-0.59</td>\n",
       "      <td>0.0</td>\n",
       "      <td>-0.60</td>\n",
       "      <td>0.39</td>\n",
       "      <td>...</td>\n",
       "      <td>0.00</td>\n",
       "      <td>-0.16</td>\n",
       "      <td>-0.51</td>\n",
       "      <td>-0.52</td>\n",
       "      <td>0.48</td>\n",
       "      <td>-0.51</td>\n",
       "      <td>-0.67</td>\n",
       "      <td>0.0</td>\n",
       "      <td>0.51</td>\n",
       "      <td>-0.71</td>\n",
       "      <td>0.0</td>\n",
       "      <td>-0.70</td>\n",
       "      <td>0.57</td>\n",
       "      <td>0.47</td>\n",
       "      <td>0.57</td>\n",
       "      <td>0.67</td>\n",
       "      <td>-0.69</td>\n",
       "      <td>0.0</td>\n",
       "      <td>0.00</td>\n",
       "      <td>0.00</td>\n",
       "      <td>-0.36</td>\n",
       "      <td>-0.63</td>\n",
       "      <td>-0.63</td>\n",
       "      <td>0.45</td>\n",
       "      <td>-0.64</td>\n",
       "    </tr>\n",
       "    <tr>\n",
       "      <td>indonesia_student_count</td>\n",
       "      <td>-0.72</td>\n",
       "      <td>0.0</td>\n",
       "      <td>-0.74</td>\n",
       "      <td>0.0</td>\n",
       "      <td>-0.77</td>\n",
       "      <td>0.48</td>\n",
       "      <td>0.56</td>\n",
       "      <td>0.60</td>\n",
       "      <td>0.71</td>\n",
       "      <td>-0.71</td>\n",
       "      <td>0.0</td>\n",
       "      <td>0.0</td>\n",
       "      <td>0.00</td>\n",
       "      <td>0.00</td>\n",
       "      <td>-0.69</td>\n",
       "      <td>-0.72</td>\n",
       "      <td>-0.12</td>\n",
       "      <td>-0.63</td>\n",
       "      <td>-0.82</td>\n",
       "      <td>0.0</td>\n",
       "      <td>0.89</td>\n",
       "      <td>-0.82</td>\n",
       "      <td>0.0</td>\n",
       "      <td>-0.87</td>\n",
       "      <td>0.48</td>\n",
       "      <td>...</td>\n",
       "      <td>0.00</td>\n",
       "      <td>0.00</td>\n",
       "      <td>-0.82</td>\n",
       "      <td>-0.82</td>\n",
       "      <td>-0.39</td>\n",
       "      <td>-0.74</td>\n",
       "      <td>-0.90</td>\n",
       "      <td>0.0</td>\n",
       "      <td>0.72</td>\n",
       "      <td>-0.89</td>\n",
       "      <td>0.0</td>\n",
       "      <td>-0.93</td>\n",
       "      <td>0.60</td>\n",
       "      <td>0.45</td>\n",
       "      <td>0.72</td>\n",
       "      <td>0.89</td>\n",
       "      <td>-0.89</td>\n",
       "      <td>0.0</td>\n",
       "      <td>0.00</td>\n",
       "      <td>0.00</td>\n",
       "      <td>0.00</td>\n",
       "      <td>-0.90</td>\n",
       "      <td>-0.90</td>\n",
       "      <td>-0.46</td>\n",
       "      <td>-0.86</td>\n",
       "    </tr>\n",
       "  </tbody>\n",
       "</table>\n",
       "<p>4 rows × 56 columns</p>\n",
       "</div>"
      ],
      "text/plain": [
       "                         year  dst_distance  dst_average_wage  \\\n",
       "china_student_count      0.94           0.0              0.91   \n",
       "India_student_count      0.93           0.0              0.95   \n",
       "malaysia_student_count  -0.42           0.0             -0.44   \n",
       "indonesia_student_count -0.72           0.0             -0.74   \n",
       "\n",
       "                         dst_rate_of_one_usd  dst_cpi  dst_qoe_top20  \\\n",
       "china_student_count                      0.0     0.91          -0.88   \n",
       "India_student_count                      0.0     0.92          -0.88   \n",
       "malaysia_student_count                   0.0    -0.47           0.27   \n",
       "indonesia_student_count                  0.0    -0.77           0.48   \n",
       "\n",
       "                         dst_qoe_top100  dst_qoe_top200  dst_qoe_top500  \\\n",
       "china_student_count               -0.82           -0.92           -0.92   \n",
       "India_student_count               -0.83           -0.90           -0.94   \n",
       "malaysia_student_count             0.37            0.37            0.41   \n",
       "indonesia_student_count            0.56            0.60            0.71   \n",
       "\n",
       "                         src_population  src_qoe_top20  src_qoe_top100  \\\n",
       "china_student_count                0.92            0.0             0.5   \n",
       "India_student_count                0.94            0.0             0.0   \n",
       "malaysia_student_count            -0.45            0.0             0.0   \n",
       "indonesia_student_count           -0.71            0.0             0.0   \n",
       "\n",
       "                         src_qoe_top200  src_qoe_top500  src_gni  src_gdp  \\\n",
       "china_student_count                0.97            0.93     0.98     0.98   \n",
       "India_student_count                0.00           -0.73     0.87     0.88   \n",
       "malaysia_student_count             0.00            0.02    -0.34    -0.39   \n",
       "indonesia_student_count            0.00            0.00    -0.69    -0.72   \n",
       "\n",
       "                         src_rate_of_one_usd  src_tertiary_enrolment  \\\n",
       "china_student_count                    -0.87                    0.98   \n",
       "India_student_count                     0.64                    0.84   \n",
       "malaysia_student_count                  0.54                   -0.37   \n",
       "indonesia_student_count                -0.12                   -0.63   \n",
       "\n",
       "                         year_1y_shift  dst_distance_1y_shift  \\\n",
       "china_student_count               0.93                    0.0   \n",
       "India_student_count               0.91                    0.0   \n",
       "malaysia_student_count           -0.56                    0.0   \n",
       "indonesia_student_count          -0.82                    0.0   \n",
       "\n",
       "                         dst_students_count_1y_shift  \\\n",
       "china_student_count                             0.99   \n",
       "India_student_count                             0.97   \n",
       "malaysia_student_count                          0.85   \n",
       "indonesia_student_count                         0.89   \n",
       "\n",
       "                         dst_average_wage_1y_shift  \\\n",
       "china_student_count                           0.90   \n",
       "India_student_count                           0.94   \n",
       "malaysia_student_count                       -0.59   \n",
       "indonesia_student_count                      -0.82   \n",
       "\n",
       "                         dst_rate_of_one_usd_1y_shift  dst_cpi_1y_shift  \\\n",
       "china_student_count                               0.0              0.90   \n",
       "India_student_count                               0.0              0.92   \n",
       "malaysia_student_count                            0.0             -0.60   \n",
       "indonesia_student_count                           0.0             -0.87   \n",
       "\n",
       "                         dst_qoe_top20_1y_shift  ...  src_qoe_top200_1y_shift  \\\n",
       "china_student_count                       -0.88  ...                     0.98   \n",
       "India_student_count                       -0.83  ...                     0.00   \n",
       "malaysia_student_count                     0.39  ...                     0.00   \n",
       "indonesia_student_count                    0.48  ...                     0.00   \n",
       "\n",
       "                         src_qoe_top500_1y_shift  src_gni_1y_shift  \\\n",
       "china_student_count                         0.92              0.97   \n",
       "India_student_count                        -0.79              0.86   \n",
       "malaysia_student_count                     -0.16             -0.51   \n",
       "indonesia_student_count                     0.00             -0.82   \n",
       "\n",
       "                         src_gdp_1y_shift  src_rate_of_one_usd_1y_shift  \\\n",
       "china_student_count                  0.96                         -0.83   \n",
       "India_student_count                  0.87                          0.50   \n",
       "malaysia_student_count              -0.52                          0.48   \n",
       "indonesia_student_count             -0.82                         -0.39   \n",
       "\n",
       "                         src_tertiary_enrolment_1y_shift  year_2y_shift  \\\n",
       "china_student_count                                 0.98           0.92   \n",
       "India_student_count                                 0.80           0.89   \n",
       "malaysia_student_count                             -0.51          -0.67   \n",
       "indonesia_student_count                            -0.74          -0.90   \n",
       "\n",
       "                         dst_distance_2y_shift  dst_students_count_2y_shift  \\\n",
       "china_student_count                        0.0                         0.97   \n",
       "India_student_count                        0.0                         0.93   \n",
       "malaysia_student_count                     0.0                         0.51   \n",
       "indonesia_student_count                    0.0                         0.72   \n",
       "\n",
       "                         dst_average_wage_2y_shift  \\\n",
       "china_student_count                           0.89   \n",
       "India_student_count                           0.93   \n",
       "malaysia_student_count                       -0.71   \n",
       "indonesia_student_count                      -0.89   \n",
       "\n",
       "                         dst_rate_of_one_usd_2y_shift  dst_cpi_2y_shift  \\\n",
       "china_student_count                               0.0              0.88   \n",
       "India_student_count                               0.0              0.90   \n",
       "malaysia_student_count                            0.0             -0.70   \n",
       "indonesia_student_count                           0.0             -0.93   \n",
       "\n",
       "                         dst_qoe_top20_2y_shift  dst_qoe_top100_2y_shift  \\\n",
       "china_student_count                       -0.89                    -0.75   \n",
       "India_student_count                       -0.75                    -0.72   \n",
       "malaysia_student_count                     0.57                     0.47   \n",
       "indonesia_student_count                    0.60                     0.45   \n",
       "\n",
       "                         dst_qoe_top200_2y_shift  dst_qoe_top500_2y_shift  \\\n",
       "china_student_count                        -0.92                    -0.90   \n",
       "India_student_count                        -0.80                    -0.90   \n",
       "malaysia_student_count                      0.57                     0.67   \n",
       "indonesia_student_count                     0.72                     0.89   \n",
       "\n",
       "                         src_population_2y_shift  src_qoe_top20_2y_shift  \\\n",
       "china_student_count                         0.91                     0.0   \n",
       "India_student_count                         0.91                     0.0   \n",
       "malaysia_student_count                     -0.69                     0.0   \n",
       "indonesia_student_count                    -0.89                     0.0   \n",
       "\n",
       "                         src_qoe_top100_2y_shift  src_qoe_top200_2y_shift  \\\n",
       "china_student_count                         0.57                     0.95   \n",
       "India_student_count                         0.00                     0.00   \n",
       "malaysia_student_count                      0.00                     0.00   \n",
       "indonesia_student_count                     0.00                     0.00   \n",
       "\n",
       "                         src_qoe_top500_2y_shift  src_gni_2y_shift  \\\n",
       "china_student_count                         0.90              0.96   \n",
       "India_student_count                        -0.85              0.87   \n",
       "malaysia_student_count                     -0.36             -0.63   \n",
       "indonesia_student_count                     0.00             -0.90   \n",
       "\n",
       "                         src_gdp_2y_shift  src_rate_of_one_usd_2y_shift  \\\n",
       "china_student_count                  0.94                         -0.80   \n",
       "India_student_count                  0.88                          0.45   \n",
       "malaysia_student_count              -0.63                          0.45   \n",
       "indonesia_student_count             -0.90                         -0.46   \n",
       "\n",
       "                         src_tertiary_enrolment_2y_shift  \n",
       "china_student_count                                 0.98  \n",
       "India_student_count                                 0.78  \n",
       "malaysia_student_count                             -0.64  \n",
       "indonesia_student_count                            -0.86  \n",
       "\n",
       "[4 rows x 56 columns]"
      ]
     },
     "execution_count": 18,
     "metadata": {},
     "output_type": "execute_result"
    }
   ],
   "source": [
    "corr_df"
   ]
  },
  {
   "cell_type": "markdown",
   "metadata": {
    "deletable": true,
    "editable": true
   },
   "source": [
    "## Heatmap"
   ]
  },
  {
   "cell_type": "code",
   "execution_count": 19,
   "metadata": {
    "collapsed": false,
    "deletable": true,
    "editable": true
   },
   "outputs": [
    {
     "data": {
      "application/vnd.plotly.v1+json": {
       "config": {
        "linkText": "Export to plot.ly",
        "plotlyServerURL": "https://plot.ly",
        "showLink": false
       },
       "data": [
        {
         "colorscale": [
          [
           0,
           "rgb(158,1,66)"
          ],
          [
           0.1,
           "rgb(213,62,79)"
          ],
          [
           0.2,
           "rgb(244,109,67)"
          ],
          [
           0.3,
           "rgb(253,174,97)"
          ],
          [
           0.4,
           "rgb(254,224,139)"
          ],
          [
           0.5,
           "rgb(255,255,191)"
          ],
          [
           0.6,
           "rgb(230,245,152)"
          ],
          [
           0.7,
           "rgb(171,221,164)"
          ],
          [
           0.8,
           "rgb(102,194,165)"
          ],
          [
           0.9,
           "rgb(50,136,189)"
          ],
          [
           1,
           "rgb(94,79,162)"
          ]
         ],
         "reversescale": true,
         "type": "heatmap",
         "x": [
          "china_student_count",
          "India_student_count",
          "malaysia_student_count",
          "indonesia_student_count"
         ],
         "y": [
          "year",
          "dst_distance",
          "dst_average_wage",
          "dst_rate_of_one_usd",
          "dst_cpi",
          "dst_qoe_top20",
          "dst_qoe_top100",
          "dst_qoe_top200",
          "dst_qoe_top500",
          "src_population",
          "src_qoe_top20",
          "src_qoe_top100",
          "src_qoe_top200",
          "src_qoe_top500",
          "src_gni",
          "src_gdp",
          "src_rate_of_one_usd",
          "src_tertiary_enrolment",
          "year_1y_shift",
          "dst_distance_1y_shift",
          "dst_students_count_1y_shift",
          "dst_average_wage_1y_shift",
          "dst_rate_of_one_usd_1y_shift",
          "dst_cpi_1y_shift",
          "dst_qoe_top20_1y_shift",
          "dst_qoe_top100_1y_shift",
          "dst_qoe_top200_1y_shift",
          "dst_qoe_top500_1y_shift",
          "src_population_1y_shift",
          "src_qoe_top20_1y_shift",
          "src_qoe_top100_1y_shift",
          "src_qoe_top200_1y_shift",
          "src_qoe_top500_1y_shift",
          "src_gni_1y_shift",
          "src_gdp_1y_shift",
          "src_rate_of_one_usd_1y_shift",
          "src_tertiary_enrolment_1y_shift",
          "year_2y_shift",
          "dst_distance_2y_shift",
          "dst_students_count_2y_shift",
          "dst_average_wage_2y_shift",
          "dst_rate_of_one_usd_2y_shift",
          "dst_cpi_2y_shift",
          "dst_qoe_top20_2y_shift",
          "dst_qoe_top100_2y_shift",
          "dst_qoe_top200_2y_shift",
          "dst_qoe_top500_2y_shift",
          "src_population_2y_shift",
          "src_qoe_top20_2y_shift",
          "src_qoe_top100_2y_shift",
          "src_qoe_top200_2y_shift",
          "src_qoe_top500_2y_shift",
          "src_gni_2y_shift",
          "src_gdp_2y_shift",
          "src_rate_of_one_usd_2y_shift",
          "src_tertiary_enrolment_2y_shift"
         ],
         "z": [
          [
           0.9404389358019714,
           0.9304659456396394,
           -0.41947230691850107,
           -0.7202648118159888
          ],
          [
           0,
           0,
           0,
           0
          ],
          [
           0.9119303465371352,
           0.9458405839638007,
           -0.44102472755460376,
           -0.7394246222408397
          ],
          [
           0,
           0,
           0,
           0
          ],
          [
           0.9120392807663257,
           0.9218808789853796,
           -0.4695971211461292,
           -0.7708520412984705
          ],
          [
           -0.8753981920220714,
           -0.8799236980619412,
           0.26519122668842743,
           0.47692453307858934
          ],
          [
           -0.8220089091781384,
           -0.8276409044392913,
           0.36595491233893074,
           0.5621051236077833
          ],
          [
           -0.9192494551482335,
           -0.9032882213487717,
           0.37210267303268035,
           0.6030047664405565
          ],
          [
           -0.9238211358070573,
           -0.9401166737762722,
           0.4066913570073858,
           0.7125766667426747
          ],
          [
           0.9218104486380121,
           0.9364553313451421,
           -0.4524822002826707,
           -0.7057390248594226
          ],
          [
           0,
           0,
           0,
           0
          ],
          [
           0.49601249051316343,
           0,
           0,
           0
          ],
          [
           0.9650904692033904,
           0,
           0,
           0
          ],
          [
           0.9324557490898691,
           -0.7286365575502419,
           0.024543095408469776,
           0
          ],
          [
           0.9842325210110493,
           0.8687637834156191,
           -0.3426302502020804,
           -0.6893074751892998
          ],
          [
           0.9784637765490862,
           0.8800697369829978,
           -0.3882329611310456,
           -0.7165960029090682
          ],
          [
           -0.8692011864174457,
           0.6425211466120684,
           0.5400818907878789,
           -0.11816492002088003
          ],
          [
           0.9759975155633923,
           0.8365167987795883,
           -0.37294562742691556,
           -0.6283927138071492
          ],
          [
           0.9306899074254733,
           0.9095817408371065,
           -0.5554321190705005,
           -0.8157726976746765
          ],
          [
           0,
           0,
           0,
           0
          ],
          [
           0.9890242137764524,
           0.9705579794924106,
           0.8497832658070407,
           0.8920651269881671
          ],
          [
           0.8996924949868635,
           0.9378494818513556,
           -0.5940070084049854,
           -0.8227915048600386
          ],
          [
           0,
           0,
           0,
           0
          ],
          [
           0.8953716809664167,
           0.9159367569843062,
           -0.5981022243150634,
           -0.8652903747074446
          ],
          [
           -0.8795806423318432,
           -0.8272567723113661,
           0.39172851777414686,
           0.47831542059916343
          ],
          [
           -0.7900600245454205,
           -0.7833214638117446,
           0.4432816229038243,
           0.51662885252252
          ],
          [
           -0.921828772418386,
           -0.8499290342517736,
           0.4770459326632629,
           0.6586894404983257
          ],
          [
           -0.9100105999704078,
           -0.9151070426203087,
           0.5382515328889074,
           0.7909732456852826
          ],
          [
           0.9167794854933766,
           0.9212268587898503,
           -0.5843404905141062,
           -0.805420078719672
          ],
          [
           0,
           0,
           0,
           0
          ],
          [
           0.5425847437815351,
           0,
           0,
           0
          ],
          [
           0.9751778965061136,
           0,
           0,
           0
          ],
          [
           0.9197529860146322,
           -0.7904158276808269,
           -0.1647362193175279,
           0
          ],
          [
           0.9711204827697425,
           0.8640860661387689,
           -0.5110103529191529,
           -0.8151277100440574
          ],
          [
           0.9602457530640379,
           0.8734069316055814,
           -0.5161254994680312,
           -0.8200548252060602
          ],
          [
           -0.8299936021757689,
           0.500527758512951,
           0.47988449482431295,
           -0.38962145715501956
          ],
          [
           0.9760848069180211,
           0.7990892715079192,
           -0.5098163394959662,
           -0.7435446659937537
          ],
          [
           0.9226067943522863,
           0.8925009171495059,
           -0.6692228379568814,
           -0.9005797581125222
          ],
          [
           0,
           0,
           0,
           0
          ],
          [
           0.9749657447473296,
           0.9279774979798854,
           0.5114414781547628,
           0.7203171727827524
          ],
          [
           0.8908793346190972,
           0.9264893251863795,
           -0.714153506327156,
           -0.8942866756420372
          ],
          [
           0,
           0,
           0,
           0
          ],
          [
           0.8846624074717344,
           0.9035237637943321,
           -0.6996687138968296,
           -0.9332268346136454
          ],
          [
           -0.8875738050980652,
           -0.7519087916976779,
           0.5679335175215448,
           0.6025339040452979
          ],
          [
           -0.7515836197802507,
           -0.718378351720442,
           0.4696642275262808,
           0.45490169765714233
          ],
          [
           -0.9230501286913683,
           -0.8016661954208707,
           0.5676516768718246,
           0.7174651622311659
          ],
          [
           -0.8994355673652138,
           -0.8986871342530475,
           0.6731218975328821,
           0.8897715062478857
          ],
          [
           0.9128763207179953,
           0.9055945597639663,
           -0.694580845296852,
           -0.8941630798336228
          ],
          [
           0,
           0,
           0,
           0
          ],
          [
           0.5676851992354175,
           0,
           0,
           0
          ],
          [
           0.9535061197398573,
           0,
           0,
           0
          ],
          [
           0.9046044740686344,
           -0.8463815418707116,
           -0.3608526820253898,
           0
          ],
          [
           0.9562472347015838,
           0.8709132502509632,
           -0.6329215237142667,
           -0.8988336595761269
          ],
          [
           0.944014229898088,
           0.8762887071601135,
           -0.630022318541628,
           -0.9039329012564562
          ],
          [
           -0.8032276508086675,
           0.44893321889816634,
           0.44971576629427035,
           -0.4608729288735009
          ],
          [
           0.9778183003130863,
           0.7795991600016116,
           -0.6382792079347487,
           -0.860736673444109
          ]
         ]
        }
       ],
       "layout": {
        "autosize": false,
        "height": 1000,
        "template": {
         "data": {
          "bar": [
           {
            "error_x": {
             "color": "#2a3f5f"
            },
            "error_y": {
             "color": "#2a3f5f"
            },
            "marker": {
             "line": {
              "color": "#E5ECF6",
              "width": 0.5
             }
            },
            "type": "bar"
           }
          ],
          "barpolar": [
           {
            "marker": {
             "line": {
              "color": "#E5ECF6",
              "width": 0.5
             }
            },
            "type": "barpolar"
           }
          ],
          "carpet": [
           {
            "aaxis": {
             "endlinecolor": "#2a3f5f",
             "gridcolor": "white",
             "linecolor": "white",
             "minorgridcolor": "white",
             "startlinecolor": "#2a3f5f"
            },
            "baxis": {
             "endlinecolor": "#2a3f5f",
             "gridcolor": "white",
             "linecolor": "white",
             "minorgridcolor": "white",
             "startlinecolor": "#2a3f5f"
            },
            "type": "carpet"
           }
          ],
          "choropleth": [
           {
            "colorbar": {
             "outlinewidth": 0,
             "ticks": ""
            },
            "type": "choropleth"
           }
          ],
          "contour": [
           {
            "colorbar": {
             "outlinewidth": 0,
             "ticks": ""
            },
            "colorscale": [
             [
              0,
              "#0d0887"
             ],
             [
              0.1111111111111111,
              "#46039f"
             ],
             [
              0.2222222222222222,
              "#7201a8"
             ],
             [
              0.3333333333333333,
              "#9c179e"
             ],
             [
              0.4444444444444444,
              "#bd3786"
             ],
             [
              0.5555555555555556,
              "#d8576b"
             ],
             [
              0.6666666666666666,
              "#ed7953"
             ],
             [
              0.7777777777777778,
              "#fb9f3a"
             ],
             [
              0.8888888888888888,
              "#fdca26"
             ],
             [
              1,
              "#f0f921"
             ]
            ],
            "type": "contour"
           }
          ],
          "contourcarpet": [
           {
            "colorbar": {
             "outlinewidth": 0,
             "ticks": ""
            },
            "type": "contourcarpet"
           }
          ],
          "heatmap": [
           {
            "colorbar": {
             "outlinewidth": 0,
             "ticks": ""
            },
            "colorscale": [
             [
              0,
              "#0d0887"
             ],
             [
              0.1111111111111111,
              "#46039f"
             ],
             [
              0.2222222222222222,
              "#7201a8"
             ],
             [
              0.3333333333333333,
              "#9c179e"
             ],
             [
              0.4444444444444444,
              "#bd3786"
             ],
             [
              0.5555555555555556,
              "#d8576b"
             ],
             [
              0.6666666666666666,
              "#ed7953"
             ],
             [
              0.7777777777777778,
              "#fb9f3a"
             ],
             [
              0.8888888888888888,
              "#fdca26"
             ],
             [
              1,
              "#f0f921"
             ]
            ],
            "type": "heatmap"
           }
          ],
          "heatmapgl": [
           {
            "colorbar": {
             "outlinewidth": 0,
             "ticks": ""
            },
            "colorscale": [
             [
              0,
              "#0d0887"
             ],
             [
              0.1111111111111111,
              "#46039f"
             ],
             [
              0.2222222222222222,
              "#7201a8"
             ],
             [
              0.3333333333333333,
              "#9c179e"
             ],
             [
              0.4444444444444444,
              "#bd3786"
             ],
             [
              0.5555555555555556,
              "#d8576b"
             ],
             [
              0.6666666666666666,
              "#ed7953"
             ],
             [
              0.7777777777777778,
              "#fb9f3a"
             ],
             [
              0.8888888888888888,
              "#fdca26"
             ],
             [
              1,
              "#f0f921"
             ]
            ],
            "type": "heatmapgl"
           }
          ],
          "histogram": [
           {
            "marker": {
             "colorbar": {
              "outlinewidth": 0,
              "ticks": ""
             }
            },
            "type": "histogram"
           }
          ],
          "histogram2d": [
           {
            "colorbar": {
             "outlinewidth": 0,
             "ticks": ""
            },
            "colorscale": [
             [
              0,
              "#0d0887"
             ],
             [
              0.1111111111111111,
              "#46039f"
             ],
             [
              0.2222222222222222,
              "#7201a8"
             ],
             [
              0.3333333333333333,
              "#9c179e"
             ],
             [
              0.4444444444444444,
              "#bd3786"
             ],
             [
              0.5555555555555556,
              "#d8576b"
             ],
             [
              0.6666666666666666,
              "#ed7953"
             ],
             [
              0.7777777777777778,
              "#fb9f3a"
             ],
             [
              0.8888888888888888,
              "#fdca26"
             ],
             [
              1,
              "#f0f921"
             ]
            ],
            "type": "histogram2d"
           }
          ],
          "histogram2dcontour": [
           {
            "colorbar": {
             "outlinewidth": 0,
             "ticks": ""
            },
            "colorscale": [
             [
              0,
              "#0d0887"
             ],
             [
              0.1111111111111111,
              "#46039f"
             ],
             [
              0.2222222222222222,
              "#7201a8"
             ],
             [
              0.3333333333333333,
              "#9c179e"
             ],
             [
              0.4444444444444444,
              "#bd3786"
             ],
             [
              0.5555555555555556,
              "#d8576b"
             ],
             [
              0.6666666666666666,
              "#ed7953"
             ],
             [
              0.7777777777777778,
              "#fb9f3a"
             ],
             [
              0.8888888888888888,
              "#fdca26"
             ],
             [
              1,
              "#f0f921"
             ]
            ],
            "type": "histogram2dcontour"
           }
          ],
          "mesh3d": [
           {
            "colorbar": {
             "outlinewidth": 0,
             "ticks": ""
            },
            "type": "mesh3d"
           }
          ],
          "parcoords": [
           {
            "line": {
             "colorbar": {
              "outlinewidth": 0,
              "ticks": ""
             }
            },
            "type": "parcoords"
           }
          ],
          "scatter": [
           {
            "marker": {
             "colorbar": {
              "outlinewidth": 0,
              "ticks": ""
             }
            },
            "type": "scatter"
           }
          ],
          "scatter3d": [
           {
            "line": {
             "colorbar": {
              "outlinewidth": 0,
              "ticks": ""
             }
            },
            "marker": {
             "colorbar": {
              "outlinewidth": 0,
              "ticks": ""
             }
            },
            "type": "scatter3d"
           }
          ],
          "scattercarpet": [
           {
            "marker": {
             "colorbar": {
              "outlinewidth": 0,
              "ticks": ""
             }
            },
            "type": "scattercarpet"
           }
          ],
          "scattergeo": [
           {
            "marker": {
             "colorbar": {
              "outlinewidth": 0,
              "ticks": ""
             }
            },
            "type": "scattergeo"
           }
          ],
          "scattergl": [
           {
            "marker": {
             "colorbar": {
              "outlinewidth": 0,
              "ticks": ""
             }
            },
            "type": "scattergl"
           }
          ],
          "scattermapbox": [
           {
            "marker": {
             "colorbar": {
              "outlinewidth": 0,
              "ticks": ""
             }
            },
            "type": "scattermapbox"
           }
          ],
          "scatterpolar": [
           {
            "marker": {
             "colorbar": {
              "outlinewidth": 0,
              "ticks": ""
             }
            },
            "type": "scatterpolar"
           }
          ],
          "scatterpolargl": [
           {
            "marker": {
             "colorbar": {
              "outlinewidth": 0,
              "ticks": ""
             }
            },
            "type": "scatterpolargl"
           }
          ],
          "scatterternary": [
           {
            "marker": {
             "colorbar": {
              "outlinewidth": 0,
              "ticks": ""
             }
            },
            "type": "scatterternary"
           }
          ],
          "surface": [
           {
            "colorbar": {
             "outlinewidth": 0,
             "ticks": ""
            },
            "colorscale": [
             [
              0,
              "#0d0887"
             ],
             [
              0.1111111111111111,
              "#46039f"
             ],
             [
              0.2222222222222222,
              "#7201a8"
             ],
             [
              0.3333333333333333,
              "#9c179e"
             ],
             [
              0.4444444444444444,
              "#bd3786"
             ],
             [
              0.5555555555555556,
              "#d8576b"
             ],
             [
              0.6666666666666666,
              "#ed7953"
             ],
             [
              0.7777777777777778,
              "#fb9f3a"
             ],
             [
              0.8888888888888888,
              "#fdca26"
             ],
             [
              1,
              "#f0f921"
             ]
            ],
            "type": "surface"
           }
          ],
          "table": [
           {
            "cells": {
             "fill": {
              "color": "#EBF0F8"
             },
             "line": {
              "color": "white"
             }
            },
            "header": {
             "fill": {
              "color": "#C8D4E3"
             },
             "line": {
              "color": "white"
             }
            },
            "type": "table"
           }
          ]
         },
         "layout": {
          "annotationdefaults": {
           "arrowcolor": "#2a3f5f",
           "arrowhead": 0,
           "arrowwidth": 1
          },
          "colorscale": {
           "diverging": [
            [
             0,
             "#8e0152"
            ],
            [
             0.1,
             "#c51b7d"
            ],
            [
             0.2,
             "#de77ae"
            ],
            [
             0.3,
             "#f1b6da"
            ],
            [
             0.4,
             "#fde0ef"
            ],
            [
             0.5,
             "#f7f7f7"
            ],
            [
             0.6,
             "#e6f5d0"
            ],
            [
             0.7,
             "#b8e186"
            ],
            [
             0.8,
             "#7fbc41"
            ],
            [
             0.9,
             "#4d9221"
            ],
            [
             1,
             "#276419"
            ]
           ],
           "sequential": [
            [
             0,
             "#0d0887"
            ],
            [
             0.1111111111111111,
             "#46039f"
            ],
            [
             0.2222222222222222,
             "#7201a8"
            ],
            [
             0.3333333333333333,
             "#9c179e"
            ],
            [
             0.4444444444444444,
             "#bd3786"
            ],
            [
             0.5555555555555556,
             "#d8576b"
            ],
            [
             0.6666666666666666,
             "#ed7953"
            ],
            [
             0.7777777777777778,
             "#fb9f3a"
            ],
            [
             0.8888888888888888,
             "#fdca26"
            ],
            [
             1,
             "#f0f921"
            ]
           ],
           "sequentialminus": [
            [
             0,
             "#0d0887"
            ],
            [
             0.1111111111111111,
             "#46039f"
            ],
            [
             0.2222222222222222,
             "#7201a8"
            ],
            [
             0.3333333333333333,
             "#9c179e"
            ],
            [
             0.4444444444444444,
             "#bd3786"
            ],
            [
             0.5555555555555556,
             "#d8576b"
            ],
            [
             0.6666666666666666,
             "#ed7953"
            ],
            [
             0.7777777777777778,
             "#fb9f3a"
            ],
            [
             0.8888888888888888,
             "#fdca26"
            ],
            [
             1,
             "#f0f921"
            ]
           ]
          },
          "colorway": [
           "#636efa",
           "#EF553B",
           "#00cc96",
           "#ab63fa",
           "#FFA15A",
           "#19d3f3",
           "#FF6692",
           "#B6E880",
           "#FF97FF",
           "#FECB52"
          ],
          "font": {
           "color": "#2a3f5f"
          },
          "geo": {
           "bgcolor": "white",
           "lakecolor": "white",
           "landcolor": "#E5ECF6",
           "showlakes": true,
           "showland": true,
           "subunitcolor": "white"
          },
          "hoverlabel": {
           "align": "left"
          },
          "hovermode": "closest",
          "mapbox": {
           "style": "light"
          },
          "paper_bgcolor": "white",
          "plot_bgcolor": "#E5ECF6",
          "polar": {
           "angularaxis": {
            "gridcolor": "white",
            "linecolor": "white",
            "ticks": ""
           },
           "bgcolor": "#E5ECF6",
           "radialaxis": {
            "gridcolor": "white",
            "linecolor": "white",
            "ticks": ""
           }
          },
          "scene": {
           "xaxis": {
            "backgroundcolor": "#E5ECF6",
            "gridcolor": "white",
            "gridwidth": 2,
            "linecolor": "white",
            "showbackground": true,
            "ticks": "",
            "zerolinecolor": "white"
           },
           "yaxis": {
            "backgroundcolor": "#E5ECF6",
            "gridcolor": "white",
            "gridwidth": 2,
            "linecolor": "white",
            "showbackground": true,
            "ticks": "",
            "zerolinecolor": "white"
           },
           "zaxis": {
            "backgroundcolor": "#E5ECF6",
            "gridcolor": "white",
            "gridwidth": 2,
            "linecolor": "white",
            "showbackground": true,
            "ticks": "",
            "zerolinecolor": "white"
           }
          },
          "shapedefaults": {
           "line": {
            "color": "#2a3f5f"
           }
          },
          "ternary": {
           "aaxis": {
            "gridcolor": "white",
            "linecolor": "white",
            "ticks": ""
           },
           "baxis": {
            "gridcolor": "white",
            "linecolor": "white",
            "ticks": ""
           },
           "bgcolor": "#E5ECF6",
           "caxis": {
            "gridcolor": "white",
            "linecolor": "white",
            "ticks": ""
           }
          },
          "title": {
           "x": 0.05
          },
          "xaxis": {
           "automargin": true,
           "gridcolor": "white",
           "linecolor": "white",
           "ticks": "",
           "zerolinecolor": "white",
           "zerolinewidth": 2
          },
          "yaxis": {
           "automargin": true,
           "gridcolor": "white",
           "linecolor": "white",
           "ticks": "",
           "zerolinecolor": "white",
           "zerolinewidth": 2
          }
         }
        },
        "title": {
         "text": "Correlation Between Predcitors and Student Count for United States"
        },
        "width": 1000
       }
      },
      "text/html": [
       "<div>\n",
       "        \n",
       "        \n",
       "            <div id=\"948e0d64-e02c-430c-8b93-93b383c8b766\" class=\"plotly-graph-div\" style=\"height:1000px; width:1000px;\"></div>\n",
       "            <script type=\"text/javascript\">\n",
       "                require([\"plotly\"], function(Plotly) {\n",
       "                    window.PLOTLYENV=window.PLOTLYENV || {};\n",
       "                    \n",
       "                if (document.getElementById(\"948e0d64-e02c-430c-8b93-93b383c8b766\")) {\n",
       "                    Plotly.newPlot(\n",
       "                        '948e0d64-e02c-430c-8b93-93b383c8b766',\n",
       "                        [{\"colorscale\": [[0.0, \"rgb(158,1,66)\"], [0.1, \"rgb(213,62,79)\"], [0.2, \"rgb(244,109,67)\"], [0.3, \"rgb(253,174,97)\"], [0.4, \"rgb(254,224,139)\"], [0.5, \"rgb(255,255,191)\"], [0.6, \"rgb(230,245,152)\"], [0.7, \"rgb(171,221,164)\"], [0.8, \"rgb(102,194,165)\"], [0.9, \"rgb(50,136,189)\"], [1.0, \"rgb(94,79,162)\"]], \"reversescale\": true, \"type\": \"heatmap\", \"x\": [\"china_student_count\", \"India_student_count\", \"malaysia_student_count\", \"indonesia_student_count\"], \"y\": [\"year\", \"dst_distance\", \"dst_average_wage\", \"dst_rate_of_one_usd\", \"dst_cpi\", \"dst_qoe_top20\", \"dst_qoe_top100\", \"dst_qoe_top200\", \"dst_qoe_top500\", \"src_population\", \"src_qoe_top20\", \"src_qoe_top100\", \"src_qoe_top200\", \"src_qoe_top500\", \"src_gni\", \"src_gdp\", \"src_rate_of_one_usd\", \"src_tertiary_enrolment\", \"year_1y_shift\", \"dst_distance_1y_shift\", \"dst_students_count_1y_shift\", \"dst_average_wage_1y_shift\", \"dst_rate_of_one_usd_1y_shift\", \"dst_cpi_1y_shift\", \"dst_qoe_top20_1y_shift\", \"dst_qoe_top100_1y_shift\", \"dst_qoe_top200_1y_shift\", \"dst_qoe_top500_1y_shift\", \"src_population_1y_shift\", \"src_qoe_top20_1y_shift\", \"src_qoe_top100_1y_shift\", \"src_qoe_top200_1y_shift\", \"src_qoe_top500_1y_shift\", \"src_gni_1y_shift\", \"src_gdp_1y_shift\", \"src_rate_of_one_usd_1y_shift\", \"src_tertiary_enrolment_1y_shift\", \"year_2y_shift\", \"dst_distance_2y_shift\", \"dst_students_count_2y_shift\", \"dst_average_wage_2y_shift\", \"dst_rate_of_one_usd_2y_shift\", \"dst_cpi_2y_shift\", \"dst_qoe_top20_2y_shift\", \"dst_qoe_top100_2y_shift\", \"dst_qoe_top200_2y_shift\", \"dst_qoe_top500_2y_shift\", \"src_population_2y_shift\", \"src_qoe_top20_2y_shift\", \"src_qoe_top100_2y_shift\", \"src_qoe_top200_2y_shift\", \"src_qoe_top500_2y_shift\", \"src_gni_2y_shift\", \"src_gdp_2y_shift\", \"src_rate_of_one_usd_2y_shift\", \"src_tertiary_enrolment_2y_shift\"], \"z\": [[0.9404389358019714, 0.9304659456396394, -0.41947230691850107, -0.7202648118159888], [0.0, 0.0, 0.0, 0.0], [0.9119303465371352, 0.9458405839638007, -0.44102472755460376, -0.7394246222408397], [0.0, 0.0, 0.0, 0.0], [0.9120392807663257, 0.9218808789853796, -0.4695971211461292, -0.7708520412984705], [-0.8753981920220714, -0.8799236980619412, 0.26519122668842743, 0.47692453307858934], [-0.8220089091781384, -0.8276409044392913, 0.36595491233893074, 0.5621051236077833], [-0.9192494551482335, -0.9032882213487717, 0.37210267303268035, 0.6030047664405565], [-0.9238211358070573, -0.9401166737762722, 0.4066913570073858, 0.7125766667426747], [0.9218104486380121, 0.9364553313451421, -0.4524822002826707, -0.7057390248594226], [0.0, 0.0, 0.0, 0.0], [0.49601249051316343, 0.0, 0.0, 0.0], [0.9650904692033904, 0.0, 0.0, 0.0], [0.9324557490898691, -0.7286365575502419, 0.024543095408469776, 0.0], [0.9842325210110493, 0.8687637834156191, -0.3426302502020804, -0.6893074751892998], [0.9784637765490862, 0.8800697369829978, -0.3882329611310456, -0.7165960029090682], [-0.8692011864174457, 0.6425211466120684, 0.5400818907878789, -0.11816492002088003], [0.9759975155633923, 0.8365167987795883, -0.37294562742691556, -0.6283927138071492], [0.9306899074254733, 0.9095817408371065, -0.5554321190705005, -0.8157726976746765], [0.0, 0.0, 0.0, 0.0], [0.9890242137764524, 0.9705579794924106, 0.8497832658070407, 0.8920651269881671], [0.8996924949868635, 0.9378494818513556, -0.5940070084049854, -0.8227915048600386], [0.0, 0.0, 0.0, 0.0], [0.8953716809664167, 0.9159367569843062, -0.5981022243150634, -0.8652903747074446], [-0.8795806423318432, -0.8272567723113661, 0.39172851777414686, 0.47831542059916343], [-0.7900600245454205, -0.7833214638117446, 0.4432816229038243, 0.51662885252252], [-0.921828772418386, -0.8499290342517736, 0.4770459326632629, 0.6586894404983257], [-0.9100105999704078, -0.9151070426203087, 0.5382515328889074, 0.7909732456852826], [0.9167794854933766, 0.9212268587898503, -0.5843404905141062, -0.805420078719672], [0.0, 0.0, 0.0, 0.0], [0.5425847437815351, 0.0, 0.0, 0.0], [0.9751778965061136, 0.0, 0.0, 0.0], [0.9197529860146322, -0.7904158276808269, -0.1647362193175279, 0.0], [0.9711204827697425, 0.8640860661387689, -0.5110103529191529, -0.8151277100440574], [0.9602457530640379, 0.8734069316055814, -0.5161254994680312, -0.8200548252060602], [-0.8299936021757689, 0.500527758512951, 0.47988449482431295, -0.38962145715501956], [0.9760848069180211, 0.7990892715079192, -0.5098163394959662, -0.7435446659937537], [0.9226067943522863, 0.8925009171495059, -0.6692228379568814, -0.9005797581125222], [0.0, 0.0, 0.0, 0.0], [0.9749657447473296, 0.9279774979798854, 0.5114414781547628, 0.7203171727827524], [0.8908793346190972, 0.9264893251863795, -0.714153506327156, -0.8942866756420372], [0.0, 0.0, 0.0, 0.0], [0.8846624074717344, 0.9035237637943321, -0.6996687138968296, -0.9332268346136454], [-0.8875738050980652, -0.7519087916976779, 0.5679335175215448, 0.6025339040452979], [-0.7515836197802507, -0.718378351720442, 0.4696642275262808, 0.45490169765714233], [-0.9230501286913683, -0.8016661954208707, 0.5676516768718246, 0.7174651622311659], [-0.8994355673652138, -0.8986871342530475, 0.6731218975328821, 0.8897715062478857], [0.9128763207179953, 0.9055945597639663, -0.694580845296852, -0.8941630798336228], [0.0, 0.0, 0.0, 0.0], [0.5676851992354175, 0.0, 0.0, 0.0], [0.9535061197398573, 0.0, 0.0, 0.0], [0.9046044740686344, -0.8463815418707116, -0.3608526820253898, 0.0], [0.9562472347015838, 0.8709132502509632, -0.6329215237142667, -0.8988336595761269], [0.944014229898088, 0.8762887071601135, -0.630022318541628, -0.9039329012564562], [-0.8032276508086675, 0.44893321889816634, 0.44971576629427035, -0.4608729288735009], [0.9778183003130863, 0.7795991600016116, -0.6382792079347487, -0.860736673444109]]}],\n",
       "                        {\"autosize\": false, \"height\": 1000, \"template\": {\"data\": {\"bar\": [{\"error_x\": {\"color\": \"#2a3f5f\"}, \"error_y\": {\"color\": \"#2a3f5f\"}, \"marker\": {\"line\": {\"color\": \"#E5ECF6\", \"width\": 0.5}}, \"type\": \"bar\"}], \"barpolar\": [{\"marker\": {\"line\": {\"color\": \"#E5ECF6\", \"width\": 0.5}}, \"type\": \"barpolar\"}], \"carpet\": [{\"aaxis\": {\"endlinecolor\": \"#2a3f5f\", \"gridcolor\": \"white\", \"linecolor\": \"white\", \"minorgridcolor\": \"white\", \"startlinecolor\": \"#2a3f5f\"}, \"baxis\": {\"endlinecolor\": \"#2a3f5f\", \"gridcolor\": \"white\", \"linecolor\": \"white\", \"minorgridcolor\": \"white\", \"startlinecolor\": \"#2a3f5f\"}, \"type\": \"carpet\"}], \"choropleth\": [{\"colorbar\": {\"outlinewidth\": 0, \"ticks\": \"\"}, \"type\": \"choropleth\"}], \"contour\": [{\"colorbar\": {\"outlinewidth\": 0, \"ticks\": \"\"}, \"colorscale\": [[0.0, \"#0d0887\"], [0.1111111111111111, \"#46039f\"], [0.2222222222222222, \"#7201a8\"], [0.3333333333333333, \"#9c179e\"], [0.4444444444444444, \"#bd3786\"], [0.5555555555555556, \"#d8576b\"], [0.6666666666666666, \"#ed7953\"], [0.7777777777777778, \"#fb9f3a\"], [0.8888888888888888, \"#fdca26\"], [1.0, \"#f0f921\"]], \"type\": \"contour\"}], \"contourcarpet\": [{\"colorbar\": {\"outlinewidth\": 0, \"ticks\": \"\"}, \"type\": \"contourcarpet\"}], \"heatmap\": [{\"colorbar\": {\"outlinewidth\": 0, \"ticks\": \"\"}, \"colorscale\": [[0.0, \"#0d0887\"], [0.1111111111111111, \"#46039f\"], [0.2222222222222222, \"#7201a8\"], [0.3333333333333333, \"#9c179e\"], [0.4444444444444444, \"#bd3786\"], [0.5555555555555556, \"#d8576b\"], [0.6666666666666666, \"#ed7953\"], [0.7777777777777778, \"#fb9f3a\"], [0.8888888888888888, \"#fdca26\"], [1.0, \"#f0f921\"]], \"type\": \"heatmap\"}], \"heatmapgl\": [{\"colorbar\": {\"outlinewidth\": 0, \"ticks\": \"\"}, \"colorscale\": [[0.0, \"#0d0887\"], [0.1111111111111111, \"#46039f\"], [0.2222222222222222, \"#7201a8\"], [0.3333333333333333, \"#9c179e\"], [0.4444444444444444, \"#bd3786\"], [0.5555555555555556, \"#d8576b\"], [0.6666666666666666, \"#ed7953\"], [0.7777777777777778, \"#fb9f3a\"], [0.8888888888888888, \"#fdca26\"], [1.0, \"#f0f921\"]], \"type\": \"heatmapgl\"}], \"histogram\": [{\"marker\": {\"colorbar\": {\"outlinewidth\": 0, \"ticks\": \"\"}}, \"type\": \"histogram\"}], \"histogram2d\": [{\"colorbar\": {\"outlinewidth\": 0, \"ticks\": \"\"}, \"colorscale\": [[0.0, \"#0d0887\"], [0.1111111111111111, \"#46039f\"], [0.2222222222222222, \"#7201a8\"], [0.3333333333333333, \"#9c179e\"], [0.4444444444444444, \"#bd3786\"], [0.5555555555555556, \"#d8576b\"], [0.6666666666666666, \"#ed7953\"], [0.7777777777777778, \"#fb9f3a\"], [0.8888888888888888, \"#fdca26\"], [1.0, \"#f0f921\"]], \"type\": \"histogram2d\"}], \"histogram2dcontour\": [{\"colorbar\": {\"outlinewidth\": 0, \"ticks\": \"\"}, \"colorscale\": [[0.0, \"#0d0887\"], [0.1111111111111111, \"#46039f\"], [0.2222222222222222, \"#7201a8\"], [0.3333333333333333, \"#9c179e\"], [0.4444444444444444, \"#bd3786\"], [0.5555555555555556, \"#d8576b\"], [0.6666666666666666, \"#ed7953\"], [0.7777777777777778, \"#fb9f3a\"], [0.8888888888888888, \"#fdca26\"], [1.0, \"#f0f921\"]], \"type\": \"histogram2dcontour\"}], \"mesh3d\": [{\"colorbar\": {\"outlinewidth\": 0, \"ticks\": \"\"}, \"type\": \"mesh3d\"}], \"parcoords\": [{\"line\": {\"colorbar\": {\"outlinewidth\": 0, \"ticks\": \"\"}}, \"type\": \"parcoords\"}], \"scatter\": [{\"marker\": {\"colorbar\": {\"outlinewidth\": 0, \"ticks\": \"\"}}, \"type\": \"scatter\"}], \"scatter3d\": [{\"line\": {\"colorbar\": {\"outlinewidth\": 0, \"ticks\": \"\"}}, \"marker\": {\"colorbar\": {\"outlinewidth\": 0, \"ticks\": \"\"}}, \"type\": \"scatter3d\"}], \"scattercarpet\": [{\"marker\": {\"colorbar\": {\"outlinewidth\": 0, \"ticks\": \"\"}}, \"type\": \"scattercarpet\"}], \"scattergeo\": [{\"marker\": {\"colorbar\": {\"outlinewidth\": 0, \"ticks\": \"\"}}, \"type\": \"scattergeo\"}], \"scattergl\": [{\"marker\": {\"colorbar\": {\"outlinewidth\": 0, \"ticks\": \"\"}}, \"type\": \"scattergl\"}], \"scattermapbox\": [{\"marker\": {\"colorbar\": {\"outlinewidth\": 0, \"ticks\": \"\"}}, \"type\": \"scattermapbox\"}], \"scatterpolar\": [{\"marker\": {\"colorbar\": {\"outlinewidth\": 0, \"ticks\": \"\"}}, \"type\": \"scatterpolar\"}], \"scatterpolargl\": [{\"marker\": {\"colorbar\": {\"outlinewidth\": 0, \"ticks\": \"\"}}, \"type\": \"scatterpolargl\"}], \"scatterternary\": [{\"marker\": {\"colorbar\": {\"outlinewidth\": 0, \"ticks\": \"\"}}, \"type\": \"scatterternary\"}], \"surface\": [{\"colorbar\": {\"outlinewidth\": 0, \"ticks\": \"\"}, \"colorscale\": [[0.0, \"#0d0887\"], [0.1111111111111111, \"#46039f\"], [0.2222222222222222, \"#7201a8\"], [0.3333333333333333, \"#9c179e\"], [0.4444444444444444, \"#bd3786\"], [0.5555555555555556, \"#d8576b\"], [0.6666666666666666, \"#ed7953\"], [0.7777777777777778, \"#fb9f3a\"], [0.8888888888888888, \"#fdca26\"], [1.0, \"#f0f921\"]], \"type\": \"surface\"}], \"table\": [{\"cells\": {\"fill\": {\"color\": \"#EBF0F8\"}, \"line\": {\"color\": \"white\"}}, \"header\": {\"fill\": {\"color\": \"#C8D4E3\"}, \"line\": {\"color\": \"white\"}}, \"type\": \"table\"}]}, \"layout\": {\"annotationdefaults\": {\"arrowcolor\": \"#2a3f5f\", \"arrowhead\": 0, \"arrowwidth\": 1}, \"colorscale\": {\"diverging\": [[0, \"#8e0152\"], [0.1, \"#c51b7d\"], [0.2, \"#de77ae\"], [0.3, \"#f1b6da\"], [0.4, \"#fde0ef\"], [0.5, \"#f7f7f7\"], [0.6, \"#e6f5d0\"], [0.7, \"#b8e186\"], [0.8, \"#7fbc41\"], [0.9, \"#4d9221\"], [1, \"#276419\"]], \"sequential\": [[0.0, \"#0d0887\"], [0.1111111111111111, \"#46039f\"], [0.2222222222222222, \"#7201a8\"], [0.3333333333333333, \"#9c179e\"], [0.4444444444444444, \"#bd3786\"], [0.5555555555555556, \"#d8576b\"], [0.6666666666666666, \"#ed7953\"], [0.7777777777777778, \"#fb9f3a\"], [0.8888888888888888, \"#fdca26\"], [1.0, \"#f0f921\"]], \"sequentialminus\": [[0.0, \"#0d0887\"], [0.1111111111111111, \"#46039f\"], [0.2222222222222222, \"#7201a8\"], [0.3333333333333333, \"#9c179e\"], [0.4444444444444444, \"#bd3786\"], [0.5555555555555556, \"#d8576b\"], [0.6666666666666666, \"#ed7953\"], [0.7777777777777778, \"#fb9f3a\"], [0.8888888888888888, \"#fdca26\"], [1.0, \"#f0f921\"]]}, \"colorway\": [\"#636efa\", \"#EF553B\", \"#00cc96\", \"#ab63fa\", \"#FFA15A\", \"#19d3f3\", \"#FF6692\", \"#B6E880\", \"#FF97FF\", \"#FECB52\"], \"font\": {\"color\": \"#2a3f5f\"}, \"geo\": {\"bgcolor\": \"white\", \"lakecolor\": \"white\", \"landcolor\": \"#E5ECF6\", \"showlakes\": true, \"showland\": true, \"subunitcolor\": \"white\"}, \"hoverlabel\": {\"align\": \"left\"}, \"hovermode\": \"closest\", \"mapbox\": {\"style\": \"light\"}, \"paper_bgcolor\": \"white\", \"plot_bgcolor\": \"#E5ECF6\", \"polar\": {\"angularaxis\": {\"gridcolor\": \"white\", \"linecolor\": \"white\", \"ticks\": \"\"}, \"bgcolor\": \"#E5ECF6\", \"radialaxis\": {\"gridcolor\": \"white\", \"linecolor\": \"white\", \"ticks\": \"\"}}, \"scene\": {\"xaxis\": {\"backgroundcolor\": \"#E5ECF6\", \"gridcolor\": \"white\", \"gridwidth\": 2, \"linecolor\": \"white\", \"showbackground\": true, \"ticks\": \"\", \"zerolinecolor\": \"white\"}, \"yaxis\": {\"backgroundcolor\": \"#E5ECF6\", \"gridcolor\": \"white\", \"gridwidth\": 2, \"linecolor\": \"white\", \"showbackground\": true, \"ticks\": \"\", \"zerolinecolor\": \"white\"}, \"zaxis\": {\"backgroundcolor\": \"#E5ECF6\", \"gridcolor\": \"white\", \"gridwidth\": 2, \"linecolor\": \"white\", \"showbackground\": true, \"ticks\": \"\", \"zerolinecolor\": \"white\"}}, \"shapedefaults\": {\"line\": {\"color\": \"#2a3f5f\"}}, \"ternary\": {\"aaxis\": {\"gridcolor\": \"white\", \"linecolor\": \"white\", \"ticks\": \"\"}, \"baxis\": {\"gridcolor\": \"white\", \"linecolor\": \"white\", \"ticks\": \"\"}, \"bgcolor\": \"#E5ECF6\", \"caxis\": {\"gridcolor\": \"white\", \"linecolor\": \"white\", \"ticks\": \"\"}}, \"title\": {\"x\": 0.05}, \"xaxis\": {\"automargin\": true, \"gridcolor\": \"white\", \"linecolor\": \"white\", \"ticks\": \"\", \"zerolinecolor\": \"white\", \"zerolinewidth\": 2}, \"yaxis\": {\"automargin\": true, \"gridcolor\": \"white\", \"linecolor\": \"white\", \"ticks\": \"\", \"zerolinecolor\": \"white\", \"zerolinewidth\": 2}}}, \"title\": {\"text\": \"Correlation Between Predcitors and Student Count for United States\"}, \"width\": 1000},\n",
       "                        {\"responsive\": true}\n",
       "                    ).then(function(){\n",
       "                            \n",
       "var gd = document.getElementById('948e0d64-e02c-430c-8b93-93b383c8b766');\n",
       "var x = new MutationObserver(function (mutations, observer) {{\n",
       "        var display = window.getComputedStyle(gd).display;\n",
       "        if (!display || display === 'none') {{\n",
       "            console.log([gd, 'removed!']);\n",
       "            Plotly.purge(gd);\n",
       "            observer.disconnect();\n",
       "        }}\n",
       "}});\n",
       "\n",
       "// Listen for the removal of the full notebook cells\n",
       "var notebookContainer = gd.closest('#notebook-container');\n",
       "if (notebookContainer) {{\n",
       "    x.observe(notebookContainer, {childList: true});\n",
       "}}\n",
       "\n",
       "// Listen for the clearing of the current output cell\n",
       "var outputEl = gd.closest('.output');\n",
       "if (outputEl) {{\n",
       "    x.observe(outputEl, {childList: true});\n",
       "}}\n",
       "\n",
       "                        })\n",
       "                };\n",
       "                });\n",
       "            </script>\n",
       "        </div>"
      ]
     },
     "metadata": {},
     "output_type": "display_data"
    }
   ],
   "source": [
    "corr_df = corr_df.T\n",
    "trace = go.Heatmap(z=corr_df.values,\n",
    "                   x=corr_df.columns.values,\n",
    "                   y=corr_df.index.values,\n",
    "                   colorscale='spectral',\n",
    "                   reversescale=True)\n",
    "\n",
    "layout = go.Layout(\n",
    "    title=\"Correlation Between Predcitors and Student Count for United States\",\n",
    "    autosize=False,\n",
    "    width=1000,\n",
    "    height=1000)\n",
    "\n",
    "fig = go.Figure(data=trace, layout=layout)\n",
    "iplot(fig)"
   ]
  },
  {
   "cell_type": "code",
   "execution_count": null,
   "metadata": {
    "collapsed": true,
    "deletable": true,
    "editable": true
   },
   "outputs": [],
   "source": []
  }
 ],
 "metadata": {
  "kernelspec": {
   "display_name": "PyCharm (Desktop)",
   "language": "python",
   "name": "pycharm-db28d4c2"
  },
  "language_info": {
   "codemirror_mode": {
    "name": "ipython",
    "version": 3
   },
   "file_extension": ".py",
   "mimetype": "text/x-python",
   "name": "python",
   "nbconvert_exporter": "python",
   "pygments_lexer": "ipython3",
   "version": "3.7.3"
  }
 },
 "nbformat": 4,
 "nbformat_minor": 2
}
