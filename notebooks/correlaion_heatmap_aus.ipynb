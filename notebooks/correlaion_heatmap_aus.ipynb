{
 "cells": [
  {
   "cell_type": "code",
   "execution_count": 1,
   "metadata": {
    "collapsed": true
   },
   "outputs": [],
   "source": [
    "import numpy as np\n",
    "import pandas as pd\n",
    "pd.options.display.precision = 2\n",
    "pd.options.display.max_columns = 50"
   ]
  },
  {
   "cell_type": "code",
   "execution_count": 2,
   "metadata": {
    "collapsed": false
   },
   "outputs": [
    {
     "name": "stdout",
     "output_type": "stream",
     "text": [
      "/Users/shijunyi/Desktop/学习资料/U of Melbourne/2019 Sem2/Data Science Project/code/python\r\n"
     ]
    }
   ],
   "source": [
    "!pwd\n",
    "import re\n",
    "import os"
   ]
  },
  {
   "cell_type": "code",
   "execution_count": 3,
   "metadata": {
    "collapsed": true
   },
   "outputs": [],
   "source": [
    "%matplotlib inline\n",
    "import matplotlib\n",
    "import matplotlib.pyplot as plt\n",
    "matplotlib.rcParams['figure.figsize'] = [15, 10]"
   ]
  },
  {
   "cell_type": "code",
   "execution_count": 4,
   "metadata": {
    "collapsed": false
   },
   "outputs": [
    {
     "data": {
      "text/html": [
       "        <script type=\"text/javascript\">\n",
       "        window.PlotlyConfig = {MathJaxConfig: 'local'};\n",
       "        if (window.MathJax) {MathJax.Hub.Config({SVG: {font: \"STIX-Web\"}});}\n",
       "        if (typeof require !== 'undefined') {\n",
       "        require.undef(\"plotly\");\n",
       "        requirejs.config({\n",
       "            paths: {\n",
       "                'plotly': ['https://cdn.plot.ly/plotly-latest.min']\n",
       "            }\n",
       "        });\n",
       "        require(['plotly'], function(Plotly) {\n",
       "            window._Plotly = Plotly;\n",
       "        });\n",
       "        }\n",
       "        </script>\n",
       "        "
      ]
     },
     "metadata": {},
     "output_type": "display_data"
    }
   ],
   "source": [
    "#import seaborn as sns\n",
    "import plotly\n",
    "import plotly.graph_objs as go\n",
    "from plotly.offline import download_plotlyjs, init_notebook_mode, plot, iplot\n",
    "init_notebook_mode(connected=True)"
   ]
  },
  {
   "cell_type": "markdown",
   "metadata": {},
   "source": [
    "# Australia"
   ]
  },
  {
   "cell_type": "markdown",
   "metadata": {},
   "source": [
    "## Read data"
   ]
  },
  {
   "cell_type": "code",
   "execution_count": 5,
   "metadata": {
    "collapsed": false
   },
   "outputs": [],
   "source": [
    "aus_factors_df = pd.read_csv('data/aus_combined_factors.csv')"
   ]
  },
  {
   "cell_type": "code",
   "execution_count": 6,
   "metadata": {
    "collapsed": false
   },
   "outputs": [
    {
     "data": {
      "text/html": [
       "<div>\n",
       "<style scoped>\n",
       "    .dataframe tbody tr th:only-of-type {\n",
       "        vertical-align: middle;\n",
       "    }\n",
       "\n",
       "    .dataframe tbody tr th {\n",
       "        vertical-align: top;\n",
       "    }\n",
       "\n",
       "    .dataframe thead th {\n",
       "        text-align: right;\n",
       "    }\n",
       "</style>\n",
       "<table border=\"1\" class=\"dataframe\">\n",
       "  <thead>\n",
       "    <tr style=\"text-align: right;\">\n",
       "      <th></th>\n",
       "      <th>year</th>\n",
       "      <th>source_country</th>\n",
       "      <th>destination_country</th>\n",
       "      <th>dst_distance</th>\n",
       "      <th>dst_students_count</th>\n",
       "      <th>dst_average_wage</th>\n",
       "      <th>dst_rate_of_one_usd</th>\n",
       "      <th>dst_cpi</th>\n",
       "      <th>dst_qoe_top20</th>\n",
       "      <th>dst_qoe_top100</th>\n",
       "      <th>dst_qoe_top200</th>\n",
       "      <th>dst_qoe_top500</th>\n",
       "      <th>src_population</th>\n",
       "      <th>src_qoe_top20</th>\n",
       "      <th>src_qoe_top100</th>\n",
       "      <th>src_qoe_top200</th>\n",
       "      <th>src_qoe_top500</th>\n",
       "      <th>src_gni</th>\n",
       "      <th>src_gdp</th>\n",
       "      <th>src_rate_of_one_usd</th>\n",
       "      <th>src_tertiary_enrolment</th>\n",
       "    </tr>\n",
       "  </thead>\n",
       "  <tbody>\n",
       "    <tr>\n",
       "      <td>0</td>\n",
       "      <td>1998</td>\n",
       "      <td>China</td>\n",
       "      <td>Australia</td>\n",
       "      <td>7470</td>\n",
       "      <td>4132</td>\n",
       "      <td>45034.0</td>\n",
       "      <td>1.59</td>\n",
       "      <td>70.16</td>\n",
       "      <td>0</td>\n",
       "      <td>0</td>\n",
       "      <td>4</td>\n",
       "      <td>10</td>\n",
       "      <td>1241935000</td>\n",
       "      <td>0</td>\n",
       "      <td>0</td>\n",
       "      <td>0</td>\n",
       "      <td>0</td>\n",
       "      <td>800.0</td>\n",
       "      <td>1.03e+12</td>\n",
       "      <td>8.28</td>\n",
       "      <td>5.95</td>\n",
       "    </tr>\n",
       "    <tr>\n",
       "      <td>1</td>\n",
       "      <td>1999</td>\n",
       "      <td>China</td>\n",
       "      <td>Australia</td>\n",
       "      <td>7470</td>\n",
       "      <td>4578</td>\n",
       "      <td>45564.0</td>\n",
       "      <td>1.55</td>\n",
       "      <td>71.20</td>\n",
       "      <td>0</td>\n",
       "      <td>0</td>\n",
       "      <td>4</td>\n",
       "      <td>11</td>\n",
       "      <td>1252735000</td>\n",
       "      <td>0</td>\n",
       "      <td>0</td>\n",
       "      <td>0</td>\n",
       "      <td>0</td>\n",
       "      <td>860.0</td>\n",
       "      <td>1.09e+12</td>\n",
       "      <td>8.28</td>\n",
       "      <td>6.46</td>\n",
       "    </tr>\n",
       "    <tr>\n",
       "      <td>2</td>\n",
       "      <td>2000</td>\n",
       "      <td>China</td>\n",
       "      <td>Australia</td>\n",
       "      <td>7470</td>\n",
       "      <td>5008</td>\n",
       "      <td>45459.0</td>\n",
       "      <td>1.72</td>\n",
       "      <td>74.38</td>\n",
       "      <td>0</td>\n",
       "      <td>0</td>\n",
       "      <td>5</td>\n",
       "      <td>11</td>\n",
       "      <td>1262645000</td>\n",
       "      <td>0</td>\n",
       "      <td>0</td>\n",
       "      <td>0</td>\n",
       "      <td>4</td>\n",
       "      <td>940.0</td>\n",
       "      <td>1.21e+12</td>\n",
       "      <td>8.28</td>\n",
       "      <td>7.62</td>\n",
       "    </tr>\n",
       "    <tr>\n",
       "      <td>3</td>\n",
       "      <td>2002</td>\n",
       "      <td>China</td>\n",
       "      <td>Australia</td>\n",
       "      <td>7470</td>\n",
       "      <td>17343</td>\n",
       "      <td>46270.0</td>\n",
       "      <td>1.84</td>\n",
       "      <td>79.97</td>\n",
       "      <td>0</td>\n",
       "      <td>1</td>\n",
       "      <td>5</td>\n",
       "      <td>12</td>\n",
       "      <td>1280400000</td>\n",
       "      <td>0</td>\n",
       "      <td>0</td>\n",
       "      <td>0</td>\n",
       "      <td>8</td>\n",
       "      <td>1110.0</td>\n",
       "      <td>1.47e+12</td>\n",
       "      <td>8.28</td>\n",
       "      <td>12.51</td>\n",
       "    </tr>\n",
       "    <tr>\n",
       "      <td>4</td>\n",
       "      <td>2003</td>\n",
       "      <td>China</td>\n",
       "      <td>Australia</td>\n",
       "      <td>7470</td>\n",
       "      <td>23448</td>\n",
       "      <td>46811.0</td>\n",
       "      <td>1.54</td>\n",
       "      <td>82.15</td>\n",
       "      <td>0</td>\n",
       "      <td>1</td>\n",
       "      <td>5</td>\n",
       "      <td>13</td>\n",
       "      <td>1288400000</td>\n",
       "      <td>0</td>\n",
       "      <td>0</td>\n",
       "      <td>0</td>\n",
       "      <td>12</td>\n",
       "      <td>1280.0</td>\n",
       "      <td>1.66e+12</td>\n",
       "      <td>8.28</td>\n",
       "      <td>15.24</td>\n",
       "    </tr>\n",
       "    <tr>\n",
       "      <td>...</td>\n",
       "      <td>...</td>\n",
       "      <td>...</td>\n",
       "      <td>...</td>\n",
       "      <td>...</td>\n",
       "      <td>...</td>\n",
       "      <td>...</td>\n",
       "      <td>...</td>\n",
       "      <td>...</td>\n",
       "      <td>...</td>\n",
       "      <td>...</td>\n",
       "      <td>...</td>\n",
       "      <td>...</td>\n",
       "      <td>...</td>\n",
       "      <td>...</td>\n",
       "      <td>...</td>\n",
       "      <td>...</td>\n",
       "      <td>...</td>\n",
       "      <td>...</td>\n",
       "      <td>...</td>\n",
       "      <td>...</td>\n",
       "      <td>...</td>\n",
       "    </tr>\n",
       "    <tr>\n",
       "      <td>75</td>\n",
       "      <td>2002</td>\n",
       "      <td>Indonesia</td>\n",
       "      <td>Australia</td>\n",
       "      <td>3455</td>\n",
       "      <td>13658</td>\n",
       "      <td>46270.0</td>\n",
       "      <td>1.84</td>\n",
       "      <td>79.97</td>\n",
       "      <td>0</td>\n",
       "      <td>1</td>\n",
       "      <td>5</td>\n",
       "      <td>12</td>\n",
       "      <td>217357793</td>\n",
       "      <td>0</td>\n",
       "      <td>0</td>\n",
       "      <td>0</td>\n",
       "      <td>0</td>\n",
       "      <td>790.0</td>\n",
       "      <td>1.96e+11</td>\n",
       "      <td>9311.19</td>\n",
       "      <td>14.81</td>\n",
       "    </tr>\n",
       "    <tr>\n",
       "      <td>76</td>\n",
       "      <td>2000</td>\n",
       "      <td>Indonesia</td>\n",
       "      <td>Australia</td>\n",
       "      <td>3455</td>\n",
       "      <td>9934</td>\n",
       "      <td>45459.0</td>\n",
       "      <td>1.72</td>\n",
       "      <td>74.38</td>\n",
       "      <td>0</td>\n",
       "      <td>0</td>\n",
       "      <td>5</td>\n",
       "      <td>11</td>\n",
       "      <td>211513823</td>\n",
       "      <td>0</td>\n",
       "      <td>0</td>\n",
       "      <td>0</td>\n",
       "      <td>0</td>\n",
       "      <td>580.0</td>\n",
       "      <td>1.65e+11</td>\n",
       "      <td>8421.77</td>\n",
       "      <td>14.88</td>\n",
       "    </tr>\n",
       "    <tr>\n",
       "      <td>77</td>\n",
       "      <td>1999</td>\n",
       "      <td>Indonesia</td>\n",
       "      <td>Australia</td>\n",
       "      <td>3455</td>\n",
       "      <td>8976</td>\n",
       "      <td>45564.0</td>\n",
       "      <td>1.55</td>\n",
       "      <td>71.20</td>\n",
       "      <td>0</td>\n",
       "      <td>0</td>\n",
       "      <td>4</td>\n",
       "      <td>11</td>\n",
       "      <td>208615169</td>\n",
       "      <td>0</td>\n",
       "      <td>0</td>\n",
       "      <td>0</td>\n",
       "      <td>0</td>\n",
       "      <td>570.0</td>\n",
       "      <td>1.40e+11</td>\n",
       "      <td>7855.15</td>\n",
       "      <td>14.75</td>\n",
       "    </tr>\n",
       "    <tr>\n",
       "      <td>78</td>\n",
       "      <td>1998</td>\n",
       "      <td>Indonesia</td>\n",
       "      <td>Australia</td>\n",
       "      <td>3455</td>\n",
       "      <td>7721</td>\n",
       "      <td>45034.0</td>\n",
       "      <td>1.59</td>\n",
       "      <td>70.16</td>\n",
       "      <td>0</td>\n",
       "      <td>0</td>\n",
       "      <td>4</td>\n",
       "      <td>10</td>\n",
       "      <td>205724592</td>\n",
       "      <td>0</td>\n",
       "      <td>0</td>\n",
       "      <td>0</td>\n",
       "      <td>0</td>\n",
       "      <td>660.0</td>\n",
       "      <td>9.54e+10</td>\n",
       "      <td>10013.62</td>\n",
       "      <td>13.36</td>\n",
       "    </tr>\n",
       "    <tr>\n",
       "      <td>79</td>\n",
       "      <td>2001</td>\n",
       "      <td>Indonesia</td>\n",
       "      <td>Australia</td>\n",
       "      <td>3455</td>\n",
       "      <td>11790</td>\n",
       "      <td>45953.0</td>\n",
       "      <td>1.93</td>\n",
       "      <td>77.65</td>\n",
       "      <td>0</td>\n",
       "      <td>1</td>\n",
       "      <td>5</td>\n",
       "      <td>12</td>\n",
       "      <td>214427417</td>\n",
       "      <td>0</td>\n",
       "      <td>0</td>\n",
       "      <td>0</td>\n",
       "      <td>0</td>\n",
       "      <td>720.0</td>\n",
       "      <td>1.60e+11</td>\n",
       "      <td>10260.85</td>\n",
       "      <td>14.19</td>\n",
       "    </tr>\n",
       "  </tbody>\n",
       "</table>\n",
       "<p>80 rows × 21 columns</p>\n",
       "</div>"
      ],
      "text/plain": [
       "    year source_country destination_country  dst_distance  dst_students_count  \\\n",
       "0   1998          China           Australia          7470                4132   \n",
       "1   1999          China           Australia          7470                4578   \n",
       "2   2000          China           Australia          7470                5008   \n",
       "3   2002          China           Australia          7470               17343   \n",
       "4   2003          China           Australia          7470               23448   \n",
       "..   ...            ...                 ...           ...                 ...   \n",
       "75  2002      Indonesia           Australia          3455               13658   \n",
       "76  2000      Indonesia           Australia          3455                9934   \n",
       "77  1999      Indonesia           Australia          3455                8976   \n",
       "78  1998      Indonesia           Australia          3455                7721   \n",
       "79  2001      Indonesia           Australia          3455               11790   \n",
       "\n",
       "    dst_average_wage  dst_rate_of_one_usd  dst_cpi  dst_qoe_top20  \\\n",
       "0            45034.0                 1.59    70.16              0   \n",
       "1            45564.0                 1.55    71.20              0   \n",
       "2            45459.0                 1.72    74.38              0   \n",
       "3            46270.0                 1.84    79.97              0   \n",
       "4            46811.0                 1.54    82.15              0   \n",
       "..               ...                  ...      ...            ...   \n",
       "75           46270.0                 1.84    79.97              0   \n",
       "76           45459.0                 1.72    74.38              0   \n",
       "77           45564.0                 1.55    71.20              0   \n",
       "78           45034.0                 1.59    70.16              0   \n",
       "79           45953.0                 1.93    77.65              0   \n",
       "\n",
       "    dst_qoe_top100  dst_qoe_top200  dst_qoe_top500  src_population  \\\n",
       "0                0               4              10      1241935000   \n",
       "1                0               4              11      1252735000   \n",
       "2                0               5              11      1262645000   \n",
       "3                1               5              12      1280400000   \n",
       "4                1               5              13      1288400000   \n",
       "..             ...             ...             ...             ...   \n",
       "75               1               5              12       217357793   \n",
       "76               0               5              11       211513823   \n",
       "77               0               4              11       208615169   \n",
       "78               0               4              10       205724592   \n",
       "79               1               5              12       214427417   \n",
       "\n",
       "    src_qoe_top20  src_qoe_top100  src_qoe_top200  src_qoe_top500  src_gni  \\\n",
       "0               0               0               0               0    800.0   \n",
       "1               0               0               0               0    860.0   \n",
       "2               0               0               0               4    940.0   \n",
       "3               0               0               0               8   1110.0   \n",
       "4               0               0               0              12   1280.0   \n",
       "..            ...             ...             ...             ...      ...   \n",
       "75              0               0               0               0    790.0   \n",
       "76              0               0               0               0    580.0   \n",
       "77              0               0               0               0    570.0   \n",
       "78              0               0               0               0    660.0   \n",
       "79              0               0               0               0    720.0   \n",
       "\n",
       "     src_gdp  src_rate_of_one_usd  src_tertiary_enrolment  \n",
       "0   1.03e+12                 8.28                    5.95  \n",
       "1   1.09e+12                 8.28                    6.46  \n",
       "2   1.21e+12                 8.28                    7.62  \n",
       "3   1.47e+12                 8.28                   12.51  \n",
       "4   1.66e+12                 8.28                   15.24  \n",
       "..       ...                  ...                     ...  \n",
       "75  1.96e+11              9311.19                   14.81  \n",
       "76  1.65e+11              8421.77                   14.88  \n",
       "77  1.40e+11              7855.15                   14.75  \n",
       "78  9.54e+10             10013.62                   13.36  \n",
       "79  1.60e+11             10260.85                   14.19  \n",
       "\n",
       "[80 rows x 21 columns]"
      ]
     },
     "execution_count": 6,
     "metadata": {},
     "output_type": "execute_result"
    }
   ],
   "source": [
    "aus_factors_df"
   ]
  },
  {
   "cell_type": "markdown",
   "metadata": {},
   "source": [
    "## Calculate correlation"
   ]
  },
  {
   "cell_type": "markdown",
   "metadata": {},
   "source": [
    "### China"
   ]
  },
  {
   "cell_type": "code",
   "execution_count": 7,
   "metadata": {
    "collapsed": true
   },
   "outputs": [],
   "source": [
    "china_aus_factors = aus_factors_df[aus_factors_df['source_country']=='China']\n",
    "cols = china_aus_factors.columns\n",
    "china_aus_factors = china_aus_factors.join(china_aus_factors[cols].shift(1), rsuffix='_1y_shift')\n",
    "china_aus_factors = china_aus_factors.join(china_aus_factors[cols].shift(2), rsuffix='_2y_shift')"
   ]
  },
  {
   "cell_type": "code",
   "execution_count": 8,
   "metadata": {
    "collapsed": false
   },
   "outputs": [],
   "source": [
    "china_corr_series = china_aus_factors.corr().loc['dst_students_count'].fillna(0).drop(['dst_students_count'])\n",
    "corr_df = pd.DataFrame(china_corr_series).rename(columns={'dst_students_count': 'china_student_count'}).T"
   ]
  },
  {
   "cell_type": "code",
   "execution_count": 9,
   "metadata": {
    "collapsed": false
   },
   "outputs": [
    {
     "data": {
      "text/html": [
       "<div>\n",
       "<style scoped>\n",
       "    .dataframe tbody tr th:only-of-type {\n",
       "        vertical-align: middle;\n",
       "    }\n",
       "\n",
       "    .dataframe tbody tr th {\n",
       "        vertical-align: top;\n",
       "    }\n",
       "\n",
       "    .dataframe thead th {\n",
       "        text-align: right;\n",
       "    }\n",
       "</style>\n",
       "<table border=\"1\" class=\"dataframe\">\n",
       "  <thead>\n",
       "    <tr style=\"text-align: right;\">\n",
       "      <th></th>\n",
       "      <th>year</th>\n",
       "      <th>dst_distance</th>\n",
       "      <th>dst_average_wage</th>\n",
       "      <th>dst_rate_of_one_usd</th>\n",
       "      <th>dst_cpi</th>\n",
       "      <th>dst_qoe_top20</th>\n",
       "      <th>dst_qoe_top100</th>\n",
       "      <th>dst_qoe_top200</th>\n",
       "      <th>dst_qoe_top500</th>\n",
       "      <th>src_population</th>\n",
       "      <th>src_qoe_top20</th>\n",
       "      <th>src_qoe_top100</th>\n",
       "      <th>src_qoe_top200</th>\n",
       "      <th>src_qoe_top500</th>\n",
       "      <th>src_gni</th>\n",
       "      <th>src_gdp</th>\n",
       "      <th>src_rate_of_one_usd</th>\n",
       "      <th>src_tertiary_enrolment</th>\n",
       "      <th>year_1y_shift</th>\n",
       "      <th>dst_distance_1y_shift</th>\n",
       "      <th>dst_students_count_1y_shift</th>\n",
       "      <th>dst_average_wage_1y_shift</th>\n",
       "      <th>dst_rate_of_one_usd_1y_shift</th>\n",
       "      <th>dst_cpi_1y_shift</th>\n",
       "      <th>dst_qoe_top20_1y_shift</th>\n",
       "      <th>...</th>\n",
       "      <th>src_qoe_top200_1y_shift</th>\n",
       "      <th>src_qoe_top500_1y_shift</th>\n",
       "      <th>src_gni_1y_shift</th>\n",
       "      <th>src_gdp_1y_shift</th>\n",
       "      <th>src_rate_of_one_usd_1y_shift</th>\n",
       "      <th>src_tertiary_enrolment_1y_shift</th>\n",
       "      <th>year_2y_shift</th>\n",
       "      <th>dst_distance_2y_shift</th>\n",
       "      <th>dst_students_count_2y_shift</th>\n",
       "      <th>dst_average_wage_2y_shift</th>\n",
       "      <th>dst_rate_of_one_usd_2y_shift</th>\n",
       "      <th>dst_cpi_2y_shift</th>\n",
       "      <th>dst_qoe_top20_2y_shift</th>\n",
       "      <th>dst_qoe_top100_2y_shift</th>\n",
       "      <th>dst_qoe_top200_2y_shift</th>\n",
       "      <th>dst_qoe_top500_2y_shift</th>\n",
       "      <th>src_population_2y_shift</th>\n",
       "      <th>src_qoe_top20_2y_shift</th>\n",
       "      <th>src_qoe_top100_2y_shift</th>\n",
       "      <th>src_qoe_top200_2y_shift</th>\n",
       "      <th>src_qoe_top500_2y_shift</th>\n",
       "      <th>src_gni_2y_shift</th>\n",
       "      <th>src_gdp_2y_shift</th>\n",
       "      <th>src_rate_of_one_usd_2y_shift</th>\n",
       "      <th>src_tertiary_enrolment_2y_shift</th>\n",
       "    </tr>\n",
       "  </thead>\n",
       "  <tbody>\n",
       "    <tr>\n",
       "      <td>china_student_count</td>\n",
       "      <td>0.99</td>\n",
       "      <td>0.0</td>\n",
       "      <td>0.96</td>\n",
       "      <td>-0.72</td>\n",
       "      <td>0.98</td>\n",
       "      <td>0.0</td>\n",
       "      <td>0.96</td>\n",
       "      <td>0.93</td>\n",
       "      <td>0.98</td>\n",
       "      <td>0.98</td>\n",
       "      <td>0.0</td>\n",
       "      <td>0.55</td>\n",
       "      <td>0.88</td>\n",
       "      <td>0.99</td>\n",
       "      <td>0.95</td>\n",
       "      <td>0.96</td>\n",
       "      <td>-0.91</td>\n",
       "      <td>0.93</td>\n",
       "      <td>0.75</td>\n",
       "      <td>0.0</td>\n",
       "      <td>0.72</td>\n",
       "      <td>0.82</td>\n",
       "      <td>-0.67</td>\n",
       "      <td>0.77</td>\n",
       "      <td>0.0</td>\n",
       "      <td>...</td>\n",
       "      <td>0.55</td>\n",
       "      <td>0.73</td>\n",
       "      <td>0.69</td>\n",
       "      <td>0.69</td>\n",
       "      <td>-0.82</td>\n",
       "      <td>0.64</td>\n",
       "      <td>0.72</td>\n",
       "      <td>0.0</td>\n",
       "      <td>0.7</td>\n",
       "      <td>0.77</td>\n",
       "      <td>-0.74</td>\n",
       "      <td>0.73</td>\n",
       "      <td>0.0</td>\n",
       "      <td>0.6</td>\n",
       "      <td>0.69</td>\n",
       "      <td>0.61</td>\n",
       "      <td>0.73</td>\n",
       "      <td>0.0</td>\n",
       "      <td>-0.34</td>\n",
       "      <td>0.46</td>\n",
       "      <td>0.68</td>\n",
       "      <td>0.63</td>\n",
       "      <td>0.66</td>\n",
       "      <td>-0.79</td>\n",
       "      <td>0.58</td>\n",
       "    </tr>\n",
       "  </tbody>\n",
       "</table>\n",
       "<p>1 rows × 56 columns</p>\n",
       "</div>"
      ],
      "text/plain": [
       "                     year  dst_distance  dst_average_wage  \\\n",
       "china_student_count  0.99           0.0              0.96   \n",
       "\n",
       "                     dst_rate_of_one_usd  dst_cpi  dst_qoe_top20  \\\n",
       "china_student_count                -0.72     0.98            0.0   \n",
       "\n",
       "                     dst_qoe_top100  dst_qoe_top200  dst_qoe_top500  \\\n",
       "china_student_count            0.96            0.93            0.98   \n",
       "\n",
       "                     src_population  src_qoe_top20  src_qoe_top100  \\\n",
       "china_student_count            0.98            0.0            0.55   \n",
       "\n",
       "                     src_qoe_top200  src_qoe_top500  src_gni  src_gdp  \\\n",
       "china_student_count            0.88            0.99     0.95     0.96   \n",
       "\n",
       "                     src_rate_of_one_usd  src_tertiary_enrolment  \\\n",
       "china_student_count                -0.91                    0.93   \n",
       "\n",
       "                     year_1y_shift  dst_distance_1y_shift  \\\n",
       "china_student_count           0.75                    0.0   \n",
       "\n",
       "                     dst_students_count_1y_shift  dst_average_wage_1y_shift  \\\n",
       "china_student_count                         0.72                       0.82   \n",
       "\n",
       "                     dst_rate_of_one_usd_1y_shift  dst_cpi_1y_shift  \\\n",
       "china_student_count                         -0.67              0.77   \n",
       "\n",
       "                     dst_qoe_top20_1y_shift  ...  src_qoe_top200_1y_shift  \\\n",
       "china_student_count                     0.0  ...                     0.55   \n",
       "\n",
       "                     src_qoe_top500_1y_shift  src_gni_1y_shift  \\\n",
       "china_student_count                     0.73              0.69   \n",
       "\n",
       "                     src_gdp_1y_shift  src_rate_of_one_usd_1y_shift  \\\n",
       "china_student_count              0.69                         -0.82   \n",
       "\n",
       "                     src_tertiary_enrolment_1y_shift  year_2y_shift  \\\n",
       "china_student_count                             0.64           0.72   \n",
       "\n",
       "                     dst_distance_2y_shift  dst_students_count_2y_shift  \\\n",
       "china_student_count                    0.0                          0.7   \n",
       "\n",
       "                     dst_average_wage_2y_shift  dst_rate_of_one_usd_2y_shift  \\\n",
       "china_student_count                       0.77                         -0.74   \n",
       "\n",
       "                     dst_cpi_2y_shift  dst_qoe_top20_2y_shift  \\\n",
       "china_student_count              0.73                     0.0   \n",
       "\n",
       "                     dst_qoe_top100_2y_shift  dst_qoe_top200_2y_shift  \\\n",
       "china_student_count                      0.6                     0.69   \n",
       "\n",
       "                     dst_qoe_top500_2y_shift  src_population_2y_shift  \\\n",
       "china_student_count                     0.61                     0.73   \n",
       "\n",
       "                     src_qoe_top20_2y_shift  src_qoe_top100_2y_shift  \\\n",
       "china_student_count                     0.0                    -0.34   \n",
       "\n",
       "                     src_qoe_top200_2y_shift  src_qoe_top500_2y_shift  \\\n",
       "china_student_count                     0.46                     0.68   \n",
       "\n",
       "                     src_gni_2y_shift  src_gdp_2y_shift  \\\n",
       "china_student_count              0.63              0.66   \n",
       "\n",
       "                     src_rate_of_one_usd_2y_shift  \\\n",
       "china_student_count                         -0.79   \n",
       "\n",
       "                     src_tertiary_enrolment_2y_shift  \n",
       "china_student_count                             0.58  \n",
       "\n",
       "[1 rows x 56 columns]"
      ]
     },
     "execution_count": 9,
     "metadata": {},
     "output_type": "execute_result"
    }
   ],
   "source": [
    "corr_df"
   ]
  },
  {
   "cell_type": "markdown",
   "metadata": {},
   "source": [
    "### India"
   ]
  },
  {
   "cell_type": "code",
   "execution_count": 10,
   "metadata": {
    "collapsed": true
   },
   "outputs": [],
   "source": [
    "india_aus_factors = aus_factors_df[aus_factors_df['source_country']=='India']\n",
    "cols = india_aus_factors.columns\n",
    "india_aus_factors = india_aus_factors.join(india_aus_factors[cols].shift(1), rsuffix='_1y_shift')\n",
    "india_aus_factors = india_aus_factors.join(india_aus_factors[cols].shift(2), rsuffix='_2y_shift')"
   ]
  },
  {
   "cell_type": "code",
   "execution_count": 11,
   "metadata": {
    "collapsed": false
   },
   "outputs": [],
   "source": [
    "india_corr_series = india_aus_factors.corr().loc['dst_students_count'].fillna(0).drop(['dst_students_count'])\n",
    "corr_df = corr_df.append(pd.DataFrame(india_corr_series).rename(columns={'dst_students_count': 'India_student_count'}).T)\n"
   ]
  },
  {
   "cell_type": "code",
   "execution_count": 12,
   "metadata": {
    "collapsed": false
   },
   "outputs": [
    {
     "data": {
      "text/html": [
       "<div>\n",
       "<style scoped>\n",
       "    .dataframe tbody tr th:only-of-type {\n",
       "        vertical-align: middle;\n",
       "    }\n",
       "\n",
       "    .dataframe tbody tr th {\n",
       "        vertical-align: top;\n",
       "    }\n",
       "\n",
       "    .dataframe thead th {\n",
       "        text-align: right;\n",
       "    }\n",
       "</style>\n",
       "<table border=\"1\" class=\"dataframe\">\n",
       "  <thead>\n",
       "    <tr style=\"text-align: right;\">\n",
       "      <th></th>\n",
       "      <th>year</th>\n",
       "      <th>dst_distance</th>\n",
       "      <th>dst_average_wage</th>\n",
       "      <th>dst_rate_of_one_usd</th>\n",
       "      <th>dst_cpi</th>\n",
       "      <th>dst_qoe_top20</th>\n",
       "      <th>dst_qoe_top100</th>\n",
       "      <th>dst_qoe_top200</th>\n",
       "      <th>dst_qoe_top500</th>\n",
       "      <th>src_population</th>\n",
       "      <th>src_qoe_top20</th>\n",
       "      <th>src_qoe_top100</th>\n",
       "      <th>src_qoe_top200</th>\n",
       "      <th>src_qoe_top500</th>\n",
       "      <th>src_gni</th>\n",
       "      <th>src_gdp</th>\n",
       "      <th>src_rate_of_one_usd</th>\n",
       "      <th>src_tertiary_enrolment</th>\n",
       "      <th>year_1y_shift</th>\n",
       "      <th>dst_distance_1y_shift</th>\n",
       "      <th>dst_students_count_1y_shift</th>\n",
       "      <th>dst_average_wage_1y_shift</th>\n",
       "      <th>dst_rate_of_one_usd_1y_shift</th>\n",
       "      <th>dst_cpi_1y_shift</th>\n",
       "      <th>dst_qoe_top20_1y_shift</th>\n",
       "      <th>...</th>\n",
       "      <th>src_qoe_top200_1y_shift</th>\n",
       "      <th>src_qoe_top500_1y_shift</th>\n",
       "      <th>src_gni_1y_shift</th>\n",
       "      <th>src_gdp_1y_shift</th>\n",
       "      <th>src_rate_of_one_usd_1y_shift</th>\n",
       "      <th>src_tertiary_enrolment_1y_shift</th>\n",
       "      <th>year_2y_shift</th>\n",
       "      <th>dst_distance_2y_shift</th>\n",
       "      <th>dst_students_count_2y_shift</th>\n",
       "      <th>dst_average_wage_2y_shift</th>\n",
       "      <th>dst_rate_of_one_usd_2y_shift</th>\n",
       "      <th>dst_cpi_2y_shift</th>\n",
       "      <th>dst_qoe_top20_2y_shift</th>\n",
       "      <th>dst_qoe_top100_2y_shift</th>\n",
       "      <th>dst_qoe_top200_2y_shift</th>\n",
       "      <th>dst_qoe_top500_2y_shift</th>\n",
       "      <th>src_population_2y_shift</th>\n",
       "      <th>src_qoe_top20_2y_shift</th>\n",
       "      <th>src_qoe_top100_2y_shift</th>\n",
       "      <th>src_qoe_top200_2y_shift</th>\n",
       "      <th>src_qoe_top500_2y_shift</th>\n",
       "      <th>src_gni_2y_shift</th>\n",
       "      <th>src_gdp_2y_shift</th>\n",
       "      <th>src_rate_of_one_usd_2y_shift</th>\n",
       "      <th>src_tertiary_enrolment_2y_shift</th>\n",
       "    </tr>\n",
       "  </thead>\n",
       "  <tbody>\n",
       "    <tr>\n",
       "      <td>china_student_count</td>\n",
       "      <td>0.99</td>\n",
       "      <td>0.0</td>\n",
       "      <td>0.96</td>\n",
       "      <td>-0.72</td>\n",
       "      <td>0.98</td>\n",
       "      <td>0.0</td>\n",
       "      <td>0.96</td>\n",
       "      <td>0.93</td>\n",
       "      <td>0.98</td>\n",
       "      <td>0.98</td>\n",
       "      <td>0.0</td>\n",
       "      <td>0.55</td>\n",
       "      <td>0.88</td>\n",
       "      <td>0.99</td>\n",
       "      <td>0.95</td>\n",
       "      <td>0.96</td>\n",
       "      <td>-0.91</td>\n",
       "      <td>0.93</td>\n",
       "      <td>0.75</td>\n",
       "      <td>0.0</td>\n",
       "      <td>0.72</td>\n",
       "      <td>0.82</td>\n",
       "      <td>-0.67</td>\n",
       "      <td>0.77</td>\n",
       "      <td>0.0</td>\n",
       "      <td>...</td>\n",
       "      <td>0.55</td>\n",
       "      <td>0.73</td>\n",
       "      <td>0.69</td>\n",
       "      <td>0.69</td>\n",
       "      <td>-0.82</td>\n",
       "      <td>0.64</td>\n",
       "      <td>0.72</td>\n",
       "      <td>0.0</td>\n",
       "      <td>0.70</td>\n",
       "      <td>0.77</td>\n",
       "      <td>-0.74</td>\n",
       "      <td>0.73</td>\n",
       "      <td>0.0</td>\n",
       "      <td>0.6</td>\n",
       "      <td>0.69</td>\n",
       "      <td>0.61</td>\n",
       "      <td>0.73</td>\n",
       "      <td>0.0</td>\n",
       "      <td>-0.34</td>\n",
       "      <td>0.46</td>\n",
       "      <td>0.68</td>\n",
       "      <td>0.63</td>\n",
       "      <td>0.66</td>\n",
       "      <td>-0.79</td>\n",
       "      <td>0.58</td>\n",
       "    </tr>\n",
       "    <tr>\n",
       "      <td>India_student_count</td>\n",
       "      <td>0.80</td>\n",
       "      <td>0.0</td>\n",
       "      <td>0.65</td>\n",
       "      <td>-0.32</td>\n",
       "      <td>0.78</td>\n",
       "      <td>0.0</td>\n",
       "      <td>0.75</td>\n",
       "      <td>0.85</td>\n",
       "      <td>0.82</td>\n",
       "      <td>0.79</td>\n",
       "      <td>0.0</td>\n",
       "      <td>0.00</td>\n",
       "      <td>0.00</td>\n",
       "      <td>-0.60</td>\n",
       "      <td>0.74</td>\n",
       "      <td>0.78</td>\n",
       "      <td>0.72</td>\n",
       "      <td>0.70</td>\n",
       "      <td>0.74</td>\n",
       "      <td>0.0</td>\n",
       "      <td>0.91</td>\n",
       "      <td>0.63</td>\n",
       "      <td>-0.41</td>\n",
       "      <td>0.72</td>\n",
       "      <td>0.0</td>\n",
       "      <td>...</td>\n",
       "      <td>0.00</td>\n",
       "      <td>-0.63</td>\n",
       "      <td>0.72</td>\n",
       "      <td>0.76</td>\n",
       "      <td>0.53</td>\n",
       "      <td>0.63</td>\n",
       "      <td>0.68</td>\n",
       "      <td>0.0</td>\n",
       "      <td>0.67</td>\n",
       "      <td>0.66</td>\n",
       "      <td>-0.60</td>\n",
       "      <td>0.67</td>\n",
       "      <td>0.0</td>\n",
       "      <td>0.7</td>\n",
       "      <td>0.69</td>\n",
       "      <td>0.74</td>\n",
       "      <td>0.69</td>\n",
       "      <td>0.0</td>\n",
       "      <td>0.00</td>\n",
       "      <td>0.00</td>\n",
       "      <td>-0.69</td>\n",
       "      <td>0.70</td>\n",
       "      <td>0.74</td>\n",
       "      <td>0.33</td>\n",
       "      <td>0.59</td>\n",
       "    </tr>\n",
       "  </tbody>\n",
       "</table>\n",
       "<p>2 rows × 56 columns</p>\n",
       "</div>"
      ],
      "text/plain": [
       "                     year  dst_distance  dst_average_wage  \\\n",
       "china_student_count  0.99           0.0              0.96   \n",
       "India_student_count  0.80           0.0              0.65   \n",
       "\n",
       "                     dst_rate_of_one_usd  dst_cpi  dst_qoe_top20  \\\n",
       "china_student_count                -0.72     0.98            0.0   \n",
       "India_student_count                -0.32     0.78            0.0   \n",
       "\n",
       "                     dst_qoe_top100  dst_qoe_top200  dst_qoe_top500  \\\n",
       "china_student_count            0.96            0.93            0.98   \n",
       "India_student_count            0.75            0.85            0.82   \n",
       "\n",
       "                     src_population  src_qoe_top20  src_qoe_top100  \\\n",
       "china_student_count            0.98            0.0            0.55   \n",
       "India_student_count            0.79            0.0            0.00   \n",
       "\n",
       "                     src_qoe_top200  src_qoe_top500  src_gni  src_gdp  \\\n",
       "china_student_count            0.88            0.99     0.95     0.96   \n",
       "India_student_count            0.00           -0.60     0.74     0.78   \n",
       "\n",
       "                     src_rate_of_one_usd  src_tertiary_enrolment  \\\n",
       "china_student_count                -0.91                    0.93   \n",
       "India_student_count                 0.72                    0.70   \n",
       "\n",
       "                     year_1y_shift  dst_distance_1y_shift  \\\n",
       "china_student_count           0.75                    0.0   \n",
       "India_student_count           0.74                    0.0   \n",
       "\n",
       "                     dst_students_count_1y_shift  dst_average_wage_1y_shift  \\\n",
       "china_student_count                         0.72                       0.82   \n",
       "India_student_count                         0.91                       0.63   \n",
       "\n",
       "                     dst_rate_of_one_usd_1y_shift  dst_cpi_1y_shift  \\\n",
       "china_student_count                         -0.67              0.77   \n",
       "India_student_count                         -0.41              0.72   \n",
       "\n",
       "                     dst_qoe_top20_1y_shift  ...  src_qoe_top200_1y_shift  \\\n",
       "china_student_count                     0.0  ...                     0.55   \n",
       "India_student_count                     0.0  ...                     0.00   \n",
       "\n",
       "                     src_qoe_top500_1y_shift  src_gni_1y_shift  \\\n",
       "china_student_count                     0.73              0.69   \n",
       "India_student_count                    -0.63              0.72   \n",
       "\n",
       "                     src_gdp_1y_shift  src_rate_of_one_usd_1y_shift  \\\n",
       "china_student_count              0.69                         -0.82   \n",
       "India_student_count              0.76                          0.53   \n",
       "\n",
       "                     src_tertiary_enrolment_1y_shift  year_2y_shift  \\\n",
       "china_student_count                             0.64           0.72   \n",
       "India_student_count                             0.63           0.68   \n",
       "\n",
       "                     dst_distance_2y_shift  dst_students_count_2y_shift  \\\n",
       "china_student_count                    0.0                         0.70   \n",
       "India_student_count                    0.0                         0.67   \n",
       "\n",
       "                     dst_average_wage_2y_shift  dst_rate_of_one_usd_2y_shift  \\\n",
       "china_student_count                       0.77                         -0.74   \n",
       "India_student_count                       0.66                         -0.60   \n",
       "\n",
       "                     dst_cpi_2y_shift  dst_qoe_top20_2y_shift  \\\n",
       "china_student_count              0.73                     0.0   \n",
       "India_student_count              0.67                     0.0   \n",
       "\n",
       "                     dst_qoe_top100_2y_shift  dst_qoe_top200_2y_shift  \\\n",
       "china_student_count                      0.6                     0.69   \n",
       "India_student_count                      0.7                     0.69   \n",
       "\n",
       "                     dst_qoe_top500_2y_shift  src_population_2y_shift  \\\n",
       "china_student_count                     0.61                     0.73   \n",
       "India_student_count                     0.74                     0.69   \n",
       "\n",
       "                     src_qoe_top20_2y_shift  src_qoe_top100_2y_shift  \\\n",
       "china_student_count                     0.0                    -0.34   \n",
       "India_student_count                     0.0                     0.00   \n",
       "\n",
       "                     src_qoe_top200_2y_shift  src_qoe_top500_2y_shift  \\\n",
       "china_student_count                     0.46                     0.68   \n",
       "India_student_count                     0.00                    -0.69   \n",
       "\n",
       "                     src_gni_2y_shift  src_gdp_2y_shift  \\\n",
       "china_student_count              0.63              0.66   \n",
       "India_student_count              0.70              0.74   \n",
       "\n",
       "                     src_rate_of_one_usd_2y_shift  \\\n",
       "china_student_count                         -0.79   \n",
       "India_student_count                          0.33   \n",
       "\n",
       "                     src_tertiary_enrolment_2y_shift  \n",
       "china_student_count                             0.58  \n",
       "India_student_count                             0.59  \n",
       "\n",
       "[2 rows x 56 columns]"
      ]
     },
     "execution_count": 12,
     "metadata": {},
     "output_type": "execute_result"
    }
   ],
   "source": [
    "corr_df"
   ]
  },
  {
   "cell_type": "markdown",
   "metadata": {},
   "source": [
    "### Malaysia"
   ]
  },
  {
   "cell_type": "code",
   "execution_count": 13,
   "metadata": {
    "collapsed": true
   },
   "outputs": [],
   "source": [
    "malay_aus_factors = aus_factors_df[aus_factors_df['source_country']=='Malaysia']\n",
    "cols = malay_aus_factors.columns\n",
    "malay_aus_factors = malay_aus_factors.join(malay_aus_factors[cols].shift(1), rsuffix='_1y_shift')\n",
    "malay_aus_factors = malay_aus_factors.join(malay_aus_factors[cols].shift(2), rsuffix='_2y_shift')"
   ]
  },
  {
   "cell_type": "code",
   "execution_count": 14,
   "metadata": {
    "collapsed": true
   },
   "outputs": [],
   "source": [
    "malay_corr_series = malay_aus_factors.corr().loc['dst_students_count'].fillna(0).drop(['dst_students_count'])\n",
    "corr_df = corr_df.append(pd.DataFrame(malay_corr_series).rename(columns={'dst_students_count': 'malaysia_student_count'}).T)"
   ]
  },
  {
   "cell_type": "code",
   "execution_count": 15,
   "metadata": {
    "collapsed": false
   },
   "outputs": [
    {
     "data": {
      "text/html": [
       "<div>\n",
       "<style scoped>\n",
       "    .dataframe tbody tr th:only-of-type {\n",
       "        vertical-align: middle;\n",
       "    }\n",
       "\n",
       "    .dataframe tbody tr th {\n",
       "        vertical-align: top;\n",
       "    }\n",
       "\n",
       "    .dataframe thead th {\n",
       "        text-align: right;\n",
       "    }\n",
       "</style>\n",
       "<table border=\"1\" class=\"dataframe\">\n",
       "  <thead>\n",
       "    <tr style=\"text-align: right;\">\n",
       "      <th></th>\n",
       "      <th>year</th>\n",
       "      <th>dst_distance</th>\n",
       "      <th>dst_average_wage</th>\n",
       "      <th>dst_rate_of_one_usd</th>\n",
       "      <th>dst_cpi</th>\n",
       "      <th>dst_qoe_top20</th>\n",
       "      <th>dst_qoe_top100</th>\n",
       "      <th>dst_qoe_top200</th>\n",
       "      <th>dst_qoe_top500</th>\n",
       "      <th>src_population</th>\n",
       "      <th>src_qoe_top20</th>\n",
       "      <th>src_qoe_top100</th>\n",
       "      <th>src_qoe_top200</th>\n",
       "      <th>src_qoe_top500</th>\n",
       "      <th>src_gni</th>\n",
       "      <th>src_gdp</th>\n",
       "      <th>src_rate_of_one_usd</th>\n",
       "      <th>src_tertiary_enrolment</th>\n",
       "      <th>year_1y_shift</th>\n",
       "      <th>dst_distance_1y_shift</th>\n",
       "      <th>dst_students_count_1y_shift</th>\n",
       "      <th>dst_average_wage_1y_shift</th>\n",
       "      <th>dst_rate_of_one_usd_1y_shift</th>\n",
       "      <th>dst_cpi_1y_shift</th>\n",
       "      <th>dst_qoe_top20_1y_shift</th>\n",
       "      <th>...</th>\n",
       "      <th>src_qoe_top200_1y_shift</th>\n",
       "      <th>src_qoe_top500_1y_shift</th>\n",
       "      <th>src_gni_1y_shift</th>\n",
       "      <th>src_gdp_1y_shift</th>\n",
       "      <th>src_rate_of_one_usd_1y_shift</th>\n",
       "      <th>src_tertiary_enrolment_1y_shift</th>\n",
       "      <th>year_2y_shift</th>\n",
       "      <th>dst_distance_2y_shift</th>\n",
       "      <th>dst_students_count_2y_shift</th>\n",
       "      <th>dst_average_wage_2y_shift</th>\n",
       "      <th>dst_rate_of_one_usd_2y_shift</th>\n",
       "      <th>dst_cpi_2y_shift</th>\n",
       "      <th>dst_qoe_top20_2y_shift</th>\n",
       "      <th>dst_qoe_top100_2y_shift</th>\n",
       "      <th>dst_qoe_top200_2y_shift</th>\n",
       "      <th>dst_qoe_top500_2y_shift</th>\n",
       "      <th>src_population_2y_shift</th>\n",
       "      <th>src_qoe_top20_2y_shift</th>\n",
       "      <th>src_qoe_top100_2y_shift</th>\n",
       "      <th>src_qoe_top200_2y_shift</th>\n",
       "      <th>src_qoe_top500_2y_shift</th>\n",
       "      <th>src_gni_2y_shift</th>\n",
       "      <th>src_gdp_2y_shift</th>\n",
       "      <th>src_rate_of_one_usd_2y_shift</th>\n",
       "      <th>src_tertiary_enrolment_2y_shift</th>\n",
       "    </tr>\n",
       "  </thead>\n",
       "  <tbody>\n",
       "    <tr>\n",
       "      <td>china_student_count</td>\n",
       "      <td>9.86e-01</td>\n",
       "      <td>0.0</td>\n",
       "      <td>0.96</td>\n",
       "      <td>-0.72</td>\n",
       "      <td>0.98</td>\n",
       "      <td>0.0</td>\n",
       "      <td>0.96</td>\n",
       "      <td>0.93</td>\n",
       "      <td>0.98</td>\n",
       "      <td>0.98</td>\n",
       "      <td>0.0</td>\n",
       "      <td>0.55</td>\n",
       "      <td>0.88</td>\n",
       "      <td>0.99</td>\n",
       "      <td>0.95</td>\n",
       "      <td>0.96</td>\n",
       "      <td>-0.91</td>\n",
       "      <td>0.93</td>\n",
       "      <td>0.75</td>\n",
       "      <td>0.0</td>\n",
       "      <td>0.72</td>\n",
       "      <td>0.82</td>\n",
       "      <td>-0.67</td>\n",
       "      <td>0.77</td>\n",
       "      <td>0.0</td>\n",
       "      <td>...</td>\n",
       "      <td>0.55</td>\n",
       "      <td>0.73</td>\n",
       "      <td>0.69</td>\n",
       "      <td>0.69</td>\n",
       "      <td>-0.82</td>\n",
       "      <td>0.64</td>\n",
       "      <td>0.72</td>\n",
       "      <td>0.0</td>\n",
       "      <td>0.70</td>\n",
       "      <td>0.77</td>\n",
       "      <td>-0.74</td>\n",
       "      <td>0.73</td>\n",
       "      <td>0.0</td>\n",
       "      <td>0.60</td>\n",
       "      <td>0.69</td>\n",
       "      <td>0.61</td>\n",
       "      <td>0.73</td>\n",
       "      <td>0.0</td>\n",
       "      <td>-0.34</td>\n",
       "      <td>0.46</td>\n",
       "      <td>0.68</td>\n",
       "      <td>0.63</td>\n",
       "      <td>0.66</td>\n",
       "      <td>-0.79</td>\n",
       "      <td>0.58</td>\n",
       "    </tr>\n",
       "    <tr>\n",
       "      <td>India_student_count</td>\n",
       "      <td>7.98e-01</td>\n",
       "      <td>0.0</td>\n",
       "      <td>0.65</td>\n",
       "      <td>-0.32</td>\n",
       "      <td>0.78</td>\n",
       "      <td>0.0</td>\n",
       "      <td>0.75</td>\n",
       "      <td>0.85</td>\n",
       "      <td>0.82</td>\n",
       "      <td>0.79</td>\n",
       "      <td>0.0</td>\n",
       "      <td>0.00</td>\n",
       "      <td>0.00</td>\n",
       "      <td>-0.60</td>\n",
       "      <td>0.74</td>\n",
       "      <td>0.78</td>\n",
       "      <td>0.72</td>\n",
       "      <td>0.70</td>\n",
       "      <td>0.74</td>\n",
       "      <td>0.0</td>\n",
       "      <td>0.91</td>\n",
       "      <td>0.63</td>\n",
       "      <td>-0.41</td>\n",
       "      <td>0.72</td>\n",
       "      <td>0.0</td>\n",
       "      <td>...</td>\n",
       "      <td>0.00</td>\n",
       "      <td>-0.63</td>\n",
       "      <td>0.72</td>\n",
       "      <td>0.76</td>\n",
       "      <td>0.53</td>\n",
       "      <td>0.63</td>\n",
       "      <td>0.68</td>\n",
       "      <td>0.0</td>\n",
       "      <td>0.67</td>\n",
       "      <td>0.66</td>\n",
       "      <td>-0.60</td>\n",
       "      <td>0.67</td>\n",
       "      <td>0.0</td>\n",
       "      <td>0.70</td>\n",
       "      <td>0.69</td>\n",
       "      <td>0.74</td>\n",
       "      <td>0.69</td>\n",
       "      <td>0.0</td>\n",
       "      <td>0.00</td>\n",
       "      <td>0.00</td>\n",
       "      <td>-0.69</td>\n",
       "      <td>0.70</td>\n",
       "      <td>0.74</td>\n",
       "      <td>0.33</td>\n",
       "      <td>0.59</td>\n",
       "    </tr>\n",
       "    <tr>\n",
       "      <td>malaysia_student_count</td>\n",
       "      <td>2.02e-03</td>\n",
       "      <td>0.0</td>\n",
       "      <td>0.07</td>\n",
       "      <td>-0.29</td>\n",
       "      <td>0.02</td>\n",
       "      <td>0.0</td>\n",
       "      <td>-0.01</td>\n",
       "      <td>-0.13</td>\n",
       "      <td>-0.02</td>\n",
       "      <td>0.03</td>\n",
       "      <td>0.0</td>\n",
       "      <td>0.00</td>\n",
       "      <td>0.00</td>\n",
       "      <td>-0.16</td>\n",
       "      <td>0.01</td>\n",
       "      <td>0.03</td>\n",
       "      <td>-0.43</td>\n",
       "      <td>0.09</td>\n",
       "      <td>0.09</td>\n",
       "      <td>0.0</td>\n",
       "      <td>0.49</td>\n",
       "      <td>0.22</td>\n",
       "      <td>-0.55</td>\n",
       "      <td>0.10</td>\n",
       "      <td>0.0</td>\n",
       "      <td>...</td>\n",
       "      <td>0.00</td>\n",
       "      <td>-0.09</td>\n",
       "      <td>0.14</td>\n",
       "      <td>0.18</td>\n",
       "      <td>-0.56</td>\n",
       "      <td>0.15</td>\n",
       "      <td>0.17</td>\n",
       "      <td>0.0</td>\n",
       "      <td>0.07</td>\n",
       "      <td>0.35</td>\n",
       "      <td>-0.56</td>\n",
       "      <td>0.19</td>\n",
       "      <td>0.0</td>\n",
       "      <td>0.24</td>\n",
       "      <td>0.09</td>\n",
       "      <td>0.13</td>\n",
       "      <td>0.20</td>\n",
       "      <td>0.0</td>\n",
       "      <td>0.00</td>\n",
       "      <td>0.00</td>\n",
       "      <td>0.02</td>\n",
       "      <td>0.29</td>\n",
       "      <td>0.31</td>\n",
       "      <td>-0.62</td>\n",
       "      <td>0.07</td>\n",
       "    </tr>\n",
       "  </tbody>\n",
       "</table>\n",
       "<p>3 rows × 56 columns</p>\n",
       "</div>"
      ],
      "text/plain": [
       "                            year  dst_distance  dst_average_wage  \\\n",
       "china_student_count     9.86e-01           0.0              0.96   \n",
       "India_student_count     7.98e-01           0.0              0.65   \n",
       "malaysia_student_count  2.02e-03           0.0              0.07   \n",
       "\n",
       "                        dst_rate_of_one_usd  dst_cpi  dst_qoe_top20  \\\n",
       "china_student_count                   -0.72     0.98            0.0   \n",
       "India_student_count                   -0.32     0.78            0.0   \n",
       "malaysia_student_count                -0.29     0.02            0.0   \n",
       "\n",
       "                        dst_qoe_top100  dst_qoe_top200  dst_qoe_top500  \\\n",
       "china_student_count               0.96            0.93            0.98   \n",
       "India_student_count               0.75            0.85            0.82   \n",
       "malaysia_student_count           -0.01           -0.13           -0.02   \n",
       "\n",
       "                        src_population  src_qoe_top20  src_qoe_top100  \\\n",
       "china_student_count               0.98            0.0            0.55   \n",
       "India_student_count               0.79            0.0            0.00   \n",
       "malaysia_student_count            0.03            0.0            0.00   \n",
       "\n",
       "                        src_qoe_top200  src_qoe_top500  src_gni  src_gdp  \\\n",
       "china_student_count               0.88            0.99     0.95     0.96   \n",
       "India_student_count               0.00           -0.60     0.74     0.78   \n",
       "malaysia_student_count            0.00           -0.16     0.01     0.03   \n",
       "\n",
       "                        src_rate_of_one_usd  src_tertiary_enrolment  \\\n",
       "china_student_count                   -0.91                    0.93   \n",
       "India_student_count                    0.72                    0.70   \n",
       "malaysia_student_count                -0.43                    0.09   \n",
       "\n",
       "                        year_1y_shift  dst_distance_1y_shift  \\\n",
       "china_student_count              0.75                    0.0   \n",
       "India_student_count              0.74                    0.0   \n",
       "malaysia_student_count           0.09                    0.0   \n",
       "\n",
       "                        dst_students_count_1y_shift  \\\n",
       "china_student_count                            0.72   \n",
       "India_student_count                            0.91   \n",
       "malaysia_student_count                         0.49   \n",
       "\n",
       "                        dst_average_wage_1y_shift  \\\n",
       "china_student_count                          0.82   \n",
       "India_student_count                          0.63   \n",
       "malaysia_student_count                       0.22   \n",
       "\n",
       "                        dst_rate_of_one_usd_1y_shift  dst_cpi_1y_shift  \\\n",
       "china_student_count                            -0.67              0.77   \n",
       "India_student_count                            -0.41              0.72   \n",
       "malaysia_student_count                         -0.55              0.10   \n",
       "\n",
       "                        dst_qoe_top20_1y_shift  ...  src_qoe_top200_1y_shift  \\\n",
       "china_student_count                        0.0  ...                     0.55   \n",
       "India_student_count                        0.0  ...                     0.00   \n",
       "malaysia_student_count                     0.0  ...                     0.00   \n",
       "\n",
       "                        src_qoe_top500_1y_shift  src_gni_1y_shift  \\\n",
       "china_student_count                        0.73              0.69   \n",
       "India_student_count                       -0.63              0.72   \n",
       "malaysia_student_count                    -0.09              0.14   \n",
       "\n",
       "                        src_gdp_1y_shift  src_rate_of_one_usd_1y_shift  \\\n",
       "china_student_count                 0.69                         -0.82   \n",
       "India_student_count                 0.76                          0.53   \n",
       "malaysia_student_count              0.18                         -0.56   \n",
       "\n",
       "                        src_tertiary_enrolment_1y_shift  year_2y_shift  \\\n",
       "china_student_count                                0.64           0.72   \n",
       "India_student_count                                0.63           0.68   \n",
       "malaysia_student_count                             0.15           0.17   \n",
       "\n",
       "                        dst_distance_2y_shift  dst_students_count_2y_shift  \\\n",
       "china_student_count                       0.0                         0.70   \n",
       "India_student_count                       0.0                         0.67   \n",
       "malaysia_student_count                    0.0                         0.07   \n",
       "\n",
       "                        dst_average_wage_2y_shift  \\\n",
       "china_student_count                          0.77   \n",
       "India_student_count                          0.66   \n",
       "malaysia_student_count                       0.35   \n",
       "\n",
       "                        dst_rate_of_one_usd_2y_shift  dst_cpi_2y_shift  \\\n",
       "china_student_count                            -0.74              0.73   \n",
       "India_student_count                            -0.60              0.67   \n",
       "malaysia_student_count                         -0.56              0.19   \n",
       "\n",
       "                        dst_qoe_top20_2y_shift  dst_qoe_top100_2y_shift  \\\n",
       "china_student_count                        0.0                     0.60   \n",
       "India_student_count                        0.0                     0.70   \n",
       "malaysia_student_count                     0.0                     0.24   \n",
       "\n",
       "                        dst_qoe_top200_2y_shift  dst_qoe_top500_2y_shift  \\\n",
       "china_student_count                        0.69                     0.61   \n",
       "India_student_count                        0.69                     0.74   \n",
       "malaysia_student_count                     0.09                     0.13   \n",
       "\n",
       "                        src_population_2y_shift  src_qoe_top20_2y_shift  \\\n",
       "china_student_count                        0.73                     0.0   \n",
       "India_student_count                        0.69                     0.0   \n",
       "malaysia_student_count                     0.20                     0.0   \n",
       "\n",
       "                        src_qoe_top100_2y_shift  src_qoe_top200_2y_shift  \\\n",
       "china_student_count                       -0.34                     0.46   \n",
       "India_student_count                        0.00                     0.00   \n",
       "malaysia_student_count                     0.00                     0.00   \n",
       "\n",
       "                        src_qoe_top500_2y_shift  src_gni_2y_shift  \\\n",
       "china_student_count                        0.68              0.63   \n",
       "India_student_count                       -0.69              0.70   \n",
       "malaysia_student_count                     0.02              0.29   \n",
       "\n",
       "                        src_gdp_2y_shift  src_rate_of_one_usd_2y_shift  \\\n",
       "china_student_count                 0.66                         -0.79   \n",
       "India_student_count                 0.74                          0.33   \n",
       "malaysia_student_count              0.31                         -0.62   \n",
       "\n",
       "                        src_tertiary_enrolment_2y_shift  \n",
       "china_student_count                                0.58  \n",
       "India_student_count                                0.59  \n",
       "malaysia_student_count                             0.07  \n",
       "\n",
       "[3 rows x 56 columns]"
      ]
     },
     "execution_count": 15,
     "metadata": {},
     "output_type": "execute_result"
    }
   ],
   "source": [
    "corr_df"
   ]
  },
  {
   "cell_type": "markdown",
   "metadata": {},
   "source": [
    "### Indonesia"
   ]
  },
  {
   "cell_type": "code",
   "execution_count": 16,
   "metadata": {
    "collapsed": true
   },
   "outputs": [],
   "source": [
    "indonesia_aus_factors = aus_factors_df[aus_factors_df['source_country']=='Indonesia']\n",
    "cols = indonesia_aus_factors.columns\n",
    "indonesia_aus_factors = indonesia_aus_factors.join(indonesia_aus_factors[cols].shift(1), rsuffix='_1y_shift')\n",
    "indonesia_aus_factors = indonesia_aus_factors.join(indonesia_aus_factors[cols].shift(2), rsuffix='_2y_shift')"
   ]
  },
  {
   "cell_type": "code",
   "execution_count": 17,
   "metadata": {
    "collapsed": true
   },
   "outputs": [],
   "source": [
    "indonesia_corr_series = indonesia_aus_factors.corr().loc['dst_students_count'].fillna(0).drop(['dst_students_count'])\n",
    "corr_df = corr_df.append(pd.DataFrame(indonesia_corr_series).rename(columns={'dst_students_count': 'indonesia_student_count'}).T)"
   ]
  },
  {
   "cell_type": "code",
   "execution_count": 18,
   "metadata": {
    "collapsed": false
   },
   "outputs": [
    {
     "data": {
      "text/html": [
       "<div>\n",
       "<style scoped>\n",
       "    .dataframe tbody tr th:only-of-type {\n",
       "        vertical-align: middle;\n",
       "    }\n",
       "\n",
       "    .dataframe tbody tr th {\n",
       "        vertical-align: top;\n",
       "    }\n",
       "\n",
       "    .dataframe thead th {\n",
       "        text-align: right;\n",
       "    }\n",
       "</style>\n",
       "<table border=\"1\" class=\"dataframe\">\n",
       "  <thead>\n",
       "    <tr style=\"text-align: right;\">\n",
       "      <th></th>\n",
       "      <th>year</th>\n",
       "      <th>dst_distance</th>\n",
       "      <th>dst_average_wage</th>\n",
       "      <th>dst_rate_of_one_usd</th>\n",
       "      <th>dst_cpi</th>\n",
       "      <th>dst_qoe_top20</th>\n",
       "      <th>dst_qoe_top100</th>\n",
       "      <th>dst_qoe_top200</th>\n",
       "      <th>dst_qoe_top500</th>\n",
       "      <th>src_population</th>\n",
       "      <th>src_qoe_top20</th>\n",
       "      <th>src_qoe_top100</th>\n",
       "      <th>src_qoe_top200</th>\n",
       "      <th>src_qoe_top500</th>\n",
       "      <th>src_gni</th>\n",
       "      <th>src_gdp</th>\n",
       "      <th>src_rate_of_one_usd</th>\n",
       "      <th>src_tertiary_enrolment</th>\n",
       "      <th>year_1y_shift</th>\n",
       "      <th>dst_distance_1y_shift</th>\n",
       "      <th>dst_students_count_1y_shift</th>\n",
       "      <th>dst_average_wage_1y_shift</th>\n",
       "      <th>dst_rate_of_one_usd_1y_shift</th>\n",
       "      <th>dst_cpi_1y_shift</th>\n",
       "      <th>dst_qoe_top20_1y_shift</th>\n",
       "      <th>...</th>\n",
       "      <th>src_qoe_top200_1y_shift</th>\n",
       "      <th>src_qoe_top500_1y_shift</th>\n",
       "      <th>src_gni_1y_shift</th>\n",
       "      <th>src_gdp_1y_shift</th>\n",
       "      <th>src_rate_of_one_usd_1y_shift</th>\n",
       "      <th>src_tertiary_enrolment_1y_shift</th>\n",
       "      <th>year_2y_shift</th>\n",
       "      <th>dst_distance_2y_shift</th>\n",
       "      <th>dst_students_count_2y_shift</th>\n",
       "      <th>dst_average_wage_2y_shift</th>\n",
       "      <th>dst_rate_of_one_usd_2y_shift</th>\n",
       "      <th>dst_cpi_2y_shift</th>\n",
       "      <th>dst_qoe_top20_2y_shift</th>\n",
       "      <th>dst_qoe_top100_2y_shift</th>\n",
       "      <th>dst_qoe_top200_2y_shift</th>\n",
       "      <th>dst_qoe_top500_2y_shift</th>\n",
       "      <th>src_population_2y_shift</th>\n",
       "      <th>src_qoe_top20_2y_shift</th>\n",
       "      <th>src_qoe_top100_2y_shift</th>\n",
       "      <th>src_qoe_top200_2y_shift</th>\n",
       "      <th>src_qoe_top500_2y_shift</th>\n",
       "      <th>src_gni_2y_shift</th>\n",
       "      <th>src_gdp_2y_shift</th>\n",
       "      <th>src_rate_of_one_usd_2y_shift</th>\n",
       "      <th>src_tertiary_enrolment_2y_shift</th>\n",
       "    </tr>\n",
       "  </thead>\n",
       "  <tbody>\n",
       "    <tr>\n",
       "      <td>china_student_count</td>\n",
       "      <td>9.86e-01</td>\n",
       "      <td>0.0</td>\n",
       "      <td>0.96</td>\n",
       "      <td>-0.72</td>\n",
       "      <td>0.98</td>\n",
       "      <td>0.0</td>\n",
       "      <td>0.96</td>\n",
       "      <td>9.34e-01</td>\n",
       "      <td>0.98</td>\n",
       "      <td>0.98</td>\n",
       "      <td>0.0</td>\n",
       "      <td>0.55</td>\n",
       "      <td>0.88</td>\n",
       "      <td>0.99</td>\n",
       "      <td>0.95</td>\n",
       "      <td>0.96</td>\n",
       "      <td>-0.91</td>\n",
       "      <td>0.93</td>\n",
       "      <td>0.75</td>\n",
       "      <td>0.0</td>\n",
       "      <td>0.72</td>\n",
       "      <td>0.82</td>\n",
       "      <td>-0.67</td>\n",
       "      <td>0.77</td>\n",
       "      <td>0.0</td>\n",
       "      <td>...</td>\n",
       "      <td>0.55</td>\n",
       "      <td>0.73</td>\n",
       "      <td>0.69</td>\n",
       "      <td>0.69</td>\n",
       "      <td>-0.82</td>\n",
       "      <td>0.64</td>\n",
       "      <td>0.72</td>\n",
       "      <td>0.0</td>\n",
       "      <td>0.70</td>\n",
       "      <td>0.77</td>\n",
       "      <td>-0.74</td>\n",
       "      <td>0.73</td>\n",
       "      <td>0.0</td>\n",
       "      <td>0.60</td>\n",
       "      <td>0.69</td>\n",
       "      <td>0.61</td>\n",
       "      <td>0.73</td>\n",
       "      <td>0.0</td>\n",
       "      <td>-0.34</td>\n",
       "      <td>0.46</td>\n",
       "      <td>0.68</td>\n",
       "      <td>0.63</td>\n",
       "      <td>0.66</td>\n",
       "      <td>-0.79</td>\n",
       "      <td>0.58</td>\n",
       "    </tr>\n",
       "    <tr>\n",
       "      <td>India_student_count</td>\n",
       "      <td>7.98e-01</td>\n",
       "      <td>0.0</td>\n",
       "      <td>0.65</td>\n",
       "      <td>-0.32</td>\n",
       "      <td>0.78</td>\n",
       "      <td>0.0</td>\n",
       "      <td>0.75</td>\n",
       "      <td>8.46e-01</td>\n",
       "      <td>0.82</td>\n",
       "      <td>0.79</td>\n",
       "      <td>0.0</td>\n",
       "      <td>0.00</td>\n",
       "      <td>0.00</td>\n",
       "      <td>-0.60</td>\n",
       "      <td>0.74</td>\n",
       "      <td>0.78</td>\n",
       "      <td>0.72</td>\n",
       "      <td>0.70</td>\n",
       "      <td>0.74</td>\n",
       "      <td>0.0</td>\n",
       "      <td>0.91</td>\n",
       "      <td>0.63</td>\n",
       "      <td>-0.41</td>\n",
       "      <td>0.72</td>\n",
       "      <td>0.0</td>\n",
       "      <td>...</td>\n",
       "      <td>0.00</td>\n",
       "      <td>-0.63</td>\n",
       "      <td>0.72</td>\n",
       "      <td>0.76</td>\n",
       "      <td>0.53</td>\n",
       "      <td>0.63</td>\n",
       "      <td>0.68</td>\n",
       "      <td>0.0</td>\n",
       "      <td>0.67</td>\n",
       "      <td>0.66</td>\n",
       "      <td>-0.60</td>\n",
       "      <td>0.67</td>\n",
       "      <td>0.0</td>\n",
       "      <td>0.70</td>\n",
       "      <td>0.69</td>\n",
       "      <td>0.74</td>\n",
       "      <td>0.69</td>\n",
       "      <td>0.0</td>\n",
       "      <td>0.00</td>\n",
       "      <td>0.00</td>\n",
       "      <td>-0.69</td>\n",
       "      <td>0.70</td>\n",
       "      <td>0.74</td>\n",
       "      <td>0.33</td>\n",
       "      <td>0.59</td>\n",
       "    </tr>\n",
       "    <tr>\n",
       "      <td>malaysia_student_count</td>\n",
       "      <td>2.02e-03</td>\n",
       "      <td>0.0</td>\n",
       "      <td>0.07</td>\n",
       "      <td>-0.29</td>\n",
       "      <td>0.02</td>\n",
       "      <td>0.0</td>\n",
       "      <td>-0.01</td>\n",
       "      <td>-1.26e-01</td>\n",
       "      <td>-0.02</td>\n",
       "      <td>0.03</td>\n",
       "      <td>0.0</td>\n",
       "      <td>0.00</td>\n",
       "      <td>0.00</td>\n",
       "      <td>-0.16</td>\n",
       "      <td>0.01</td>\n",
       "      <td>0.03</td>\n",
       "      <td>-0.43</td>\n",
       "      <td>0.09</td>\n",
       "      <td>0.09</td>\n",
       "      <td>0.0</td>\n",
       "      <td>0.49</td>\n",
       "      <td>0.22</td>\n",
       "      <td>-0.55</td>\n",
       "      <td>0.10</td>\n",
       "      <td>0.0</td>\n",
       "      <td>...</td>\n",
       "      <td>0.00</td>\n",
       "      <td>-0.09</td>\n",
       "      <td>0.14</td>\n",
       "      <td>0.18</td>\n",
       "      <td>-0.56</td>\n",
       "      <td>0.15</td>\n",
       "      <td>0.17</td>\n",
       "      <td>0.0</td>\n",
       "      <td>0.07</td>\n",
       "      <td>0.35</td>\n",
       "      <td>-0.56</td>\n",
       "      <td>0.19</td>\n",
       "      <td>0.0</td>\n",
       "      <td>0.24</td>\n",
       "      <td>0.09</td>\n",
       "      <td>0.13</td>\n",
       "      <td>0.20</td>\n",
       "      <td>0.0</td>\n",
       "      <td>0.00</td>\n",
       "      <td>0.00</td>\n",
       "      <td>0.02</td>\n",
       "      <td>0.29</td>\n",
       "      <td>0.31</td>\n",
       "      <td>-0.62</td>\n",
       "      <td>0.07</td>\n",
       "    </tr>\n",
       "    <tr>\n",
       "      <td>indonesia_student_count</td>\n",
       "      <td>-3.54e-02</td>\n",
       "      <td>0.0</td>\n",
       "      <td>-0.16</td>\n",
       "      <td>0.43</td>\n",
       "      <td>-0.04</td>\n",
       "      <td>0.0</td>\n",
       "      <td>-0.05</td>\n",
       "      <td>8.41e-03</td>\n",
       "      <td>-0.04</td>\n",
       "      <td>-0.04</td>\n",
       "      <td>0.0</td>\n",
       "      <td>0.00</td>\n",
       "      <td>0.00</td>\n",
       "      <td>0.00</td>\n",
       "      <td>-0.16</td>\n",
       "      <td>-0.12</td>\n",
       "      <td>0.03</td>\n",
       "      <td>-0.09</td>\n",
       "      <td>-0.13</td>\n",
       "      <td>0.0</td>\n",
       "      <td>0.33</td>\n",
       "      <td>-0.19</td>\n",
       "      <td>0.12</td>\n",
       "      <td>-0.13</td>\n",
       "      <td>0.0</td>\n",
       "      <td>...</td>\n",
       "      <td>0.00</td>\n",
       "      <td>0.00</td>\n",
       "      <td>-0.19</td>\n",
       "      <td>-0.19</td>\n",
       "      <td>-0.03</td>\n",
       "      <td>-0.15</td>\n",
       "      <td>-0.19</td>\n",
       "      <td>0.0</td>\n",
       "      <td>-0.28</td>\n",
       "      <td>-0.15</td>\n",
       "      <td>-0.12</td>\n",
       "      <td>-0.21</td>\n",
       "      <td>0.0</td>\n",
       "      <td>-0.10</td>\n",
       "      <td>-0.14</td>\n",
       "      <td>-0.16</td>\n",
       "      <td>-0.19</td>\n",
       "      <td>0.0</td>\n",
       "      <td>0.00</td>\n",
       "      <td>0.00</td>\n",
       "      <td>0.00</td>\n",
       "      <td>-0.21</td>\n",
       "      <td>-0.23</td>\n",
       "      <td>-0.19</td>\n",
       "      <td>-0.19</td>\n",
       "    </tr>\n",
       "  </tbody>\n",
       "</table>\n",
       "<p>4 rows × 56 columns</p>\n",
       "</div>"
      ],
      "text/plain": [
       "                             year  dst_distance  dst_average_wage  \\\n",
       "china_student_count      9.86e-01           0.0              0.96   \n",
       "India_student_count      7.98e-01           0.0              0.65   \n",
       "malaysia_student_count   2.02e-03           0.0              0.07   \n",
       "indonesia_student_count -3.54e-02           0.0             -0.16   \n",
       "\n",
       "                         dst_rate_of_one_usd  dst_cpi  dst_qoe_top20  \\\n",
       "china_student_count                    -0.72     0.98            0.0   \n",
       "India_student_count                    -0.32     0.78            0.0   \n",
       "malaysia_student_count                 -0.29     0.02            0.0   \n",
       "indonesia_student_count                 0.43    -0.04            0.0   \n",
       "\n",
       "                         dst_qoe_top100  dst_qoe_top200  dst_qoe_top500  \\\n",
       "china_student_count                0.96        9.34e-01            0.98   \n",
       "India_student_count                0.75        8.46e-01            0.82   \n",
       "malaysia_student_count            -0.01       -1.26e-01           -0.02   \n",
       "indonesia_student_count           -0.05        8.41e-03           -0.04   \n",
       "\n",
       "                         src_population  src_qoe_top20  src_qoe_top100  \\\n",
       "china_student_count                0.98            0.0            0.55   \n",
       "India_student_count                0.79            0.0            0.00   \n",
       "malaysia_student_count             0.03            0.0            0.00   \n",
       "indonesia_student_count           -0.04            0.0            0.00   \n",
       "\n",
       "                         src_qoe_top200  src_qoe_top500  src_gni  src_gdp  \\\n",
       "china_student_count                0.88            0.99     0.95     0.96   \n",
       "India_student_count                0.00           -0.60     0.74     0.78   \n",
       "malaysia_student_count             0.00           -0.16     0.01     0.03   \n",
       "indonesia_student_count            0.00            0.00    -0.16    -0.12   \n",
       "\n",
       "                         src_rate_of_one_usd  src_tertiary_enrolment  \\\n",
       "china_student_count                    -0.91                    0.93   \n",
       "India_student_count                     0.72                    0.70   \n",
       "malaysia_student_count                 -0.43                    0.09   \n",
       "indonesia_student_count                 0.03                   -0.09   \n",
       "\n",
       "                         year_1y_shift  dst_distance_1y_shift  \\\n",
       "china_student_count               0.75                    0.0   \n",
       "India_student_count               0.74                    0.0   \n",
       "malaysia_student_count            0.09                    0.0   \n",
       "indonesia_student_count          -0.13                    0.0   \n",
       "\n",
       "                         dst_students_count_1y_shift  \\\n",
       "china_student_count                             0.72   \n",
       "India_student_count                             0.91   \n",
       "malaysia_student_count                          0.49   \n",
       "indonesia_student_count                         0.33   \n",
       "\n",
       "                         dst_average_wage_1y_shift  \\\n",
       "china_student_count                           0.82   \n",
       "India_student_count                           0.63   \n",
       "malaysia_student_count                        0.22   \n",
       "indonesia_student_count                      -0.19   \n",
       "\n",
       "                         dst_rate_of_one_usd_1y_shift  dst_cpi_1y_shift  \\\n",
       "china_student_count                             -0.67              0.77   \n",
       "India_student_count                             -0.41              0.72   \n",
       "malaysia_student_count                          -0.55              0.10   \n",
       "indonesia_student_count                          0.12             -0.13   \n",
       "\n",
       "                         dst_qoe_top20_1y_shift  ...  src_qoe_top200_1y_shift  \\\n",
       "china_student_count                         0.0  ...                     0.55   \n",
       "India_student_count                         0.0  ...                     0.00   \n",
       "malaysia_student_count                      0.0  ...                     0.00   \n",
       "indonesia_student_count                     0.0  ...                     0.00   \n",
       "\n",
       "                         src_qoe_top500_1y_shift  src_gni_1y_shift  \\\n",
       "china_student_count                         0.73              0.69   \n",
       "India_student_count                        -0.63              0.72   \n",
       "malaysia_student_count                     -0.09              0.14   \n",
       "indonesia_student_count                     0.00             -0.19   \n",
       "\n",
       "                         src_gdp_1y_shift  src_rate_of_one_usd_1y_shift  \\\n",
       "china_student_count                  0.69                         -0.82   \n",
       "India_student_count                  0.76                          0.53   \n",
       "malaysia_student_count               0.18                         -0.56   \n",
       "indonesia_student_count             -0.19                         -0.03   \n",
       "\n",
       "                         src_tertiary_enrolment_1y_shift  year_2y_shift  \\\n",
       "china_student_count                                 0.64           0.72   \n",
       "India_student_count                                 0.63           0.68   \n",
       "malaysia_student_count                              0.15           0.17   \n",
       "indonesia_student_count                            -0.15          -0.19   \n",
       "\n",
       "                         dst_distance_2y_shift  dst_students_count_2y_shift  \\\n",
       "china_student_count                        0.0                         0.70   \n",
       "India_student_count                        0.0                         0.67   \n",
       "malaysia_student_count                     0.0                         0.07   \n",
       "indonesia_student_count                    0.0                        -0.28   \n",
       "\n",
       "                         dst_average_wage_2y_shift  \\\n",
       "china_student_count                           0.77   \n",
       "India_student_count                           0.66   \n",
       "malaysia_student_count                        0.35   \n",
       "indonesia_student_count                      -0.15   \n",
       "\n",
       "                         dst_rate_of_one_usd_2y_shift  dst_cpi_2y_shift  \\\n",
       "china_student_count                             -0.74              0.73   \n",
       "India_student_count                             -0.60              0.67   \n",
       "malaysia_student_count                          -0.56              0.19   \n",
       "indonesia_student_count                         -0.12             -0.21   \n",
       "\n",
       "                         dst_qoe_top20_2y_shift  dst_qoe_top100_2y_shift  \\\n",
       "china_student_count                         0.0                     0.60   \n",
       "India_student_count                         0.0                     0.70   \n",
       "malaysia_student_count                      0.0                     0.24   \n",
       "indonesia_student_count                     0.0                    -0.10   \n",
       "\n",
       "                         dst_qoe_top200_2y_shift  dst_qoe_top500_2y_shift  \\\n",
       "china_student_count                         0.69                     0.61   \n",
       "India_student_count                         0.69                     0.74   \n",
       "malaysia_student_count                      0.09                     0.13   \n",
       "indonesia_student_count                    -0.14                    -0.16   \n",
       "\n",
       "                         src_population_2y_shift  src_qoe_top20_2y_shift  \\\n",
       "china_student_count                         0.73                     0.0   \n",
       "India_student_count                         0.69                     0.0   \n",
       "malaysia_student_count                      0.20                     0.0   \n",
       "indonesia_student_count                    -0.19                     0.0   \n",
       "\n",
       "                         src_qoe_top100_2y_shift  src_qoe_top200_2y_shift  \\\n",
       "china_student_count                        -0.34                     0.46   \n",
       "India_student_count                         0.00                     0.00   \n",
       "malaysia_student_count                      0.00                     0.00   \n",
       "indonesia_student_count                     0.00                     0.00   \n",
       "\n",
       "                         src_qoe_top500_2y_shift  src_gni_2y_shift  \\\n",
       "china_student_count                         0.68              0.63   \n",
       "India_student_count                        -0.69              0.70   \n",
       "malaysia_student_count                      0.02              0.29   \n",
       "indonesia_student_count                     0.00             -0.21   \n",
       "\n",
       "                         src_gdp_2y_shift  src_rate_of_one_usd_2y_shift  \\\n",
       "china_student_count                  0.66                         -0.79   \n",
       "India_student_count                  0.74                          0.33   \n",
       "malaysia_student_count               0.31                         -0.62   \n",
       "indonesia_student_count             -0.23                         -0.19   \n",
       "\n",
       "                         src_tertiary_enrolment_2y_shift  \n",
       "china_student_count                                 0.58  \n",
       "India_student_count                                 0.59  \n",
       "malaysia_student_count                              0.07  \n",
       "indonesia_student_count                            -0.19  \n",
       "\n",
       "[4 rows x 56 columns]"
      ]
     },
     "execution_count": 18,
     "metadata": {},
     "output_type": "execute_result"
    }
   ],
   "source": [
    "corr_df"
   ]
  },
  {
   "cell_type": "markdown",
   "metadata": {},
   "source": [
    "## Heatmap"
   ]
  },
  {
   "cell_type": "code",
   "execution_count": 19,
   "metadata": {
    "collapsed": false
   },
   "outputs": [
    {
     "data": {
      "application/vnd.plotly.v1+json": {
       "config": {
        "linkText": "Export to plot.ly",
        "plotlyServerURL": "https://plot.ly",
        "showLink": false
       },
       "data": [
        {
         "colorscale": [
          [
           0,
           "rgb(158,1,66)"
          ],
          [
           0.1,
           "rgb(213,62,79)"
          ],
          [
           0.2,
           "rgb(244,109,67)"
          ],
          [
           0.3,
           "rgb(253,174,97)"
          ],
          [
           0.4,
           "rgb(254,224,139)"
          ],
          [
           0.5,
           "rgb(255,255,191)"
          ],
          [
           0.6,
           "rgb(230,245,152)"
          ],
          [
           0.7,
           "rgb(171,221,164)"
          ],
          [
           0.8,
           "rgb(102,194,165)"
          ],
          [
           0.9,
           "rgb(50,136,189)"
          ],
          [
           1,
           "rgb(94,79,162)"
          ]
         ],
         "reversescale": true,
         "type": "heatmap",
         "x": [
          "china_student_count",
          "India_student_count",
          "malaysia_student_count",
          "indonesia_student_count"
         ],
         "y": [
          "year",
          "dst_distance",
          "dst_average_wage",
          "dst_rate_of_one_usd",
          "dst_cpi",
          "dst_qoe_top20",
          "dst_qoe_top100",
          "dst_qoe_top200",
          "dst_qoe_top500",
          "src_population",
          "src_qoe_top20",
          "src_qoe_top100",
          "src_qoe_top200",
          "src_qoe_top500",
          "src_gni",
          "src_gdp",
          "src_rate_of_one_usd",
          "src_tertiary_enrolment",
          "year_1y_shift",
          "dst_distance_1y_shift",
          "dst_students_count_1y_shift",
          "dst_average_wage_1y_shift",
          "dst_rate_of_one_usd_1y_shift",
          "dst_cpi_1y_shift",
          "dst_qoe_top20_1y_shift",
          "dst_qoe_top100_1y_shift",
          "dst_qoe_top200_1y_shift",
          "dst_qoe_top500_1y_shift",
          "src_population_1y_shift",
          "src_qoe_top20_1y_shift",
          "src_qoe_top100_1y_shift",
          "src_qoe_top200_1y_shift",
          "src_qoe_top500_1y_shift",
          "src_gni_1y_shift",
          "src_gdp_1y_shift",
          "src_rate_of_one_usd_1y_shift",
          "src_tertiary_enrolment_1y_shift",
          "year_2y_shift",
          "dst_distance_2y_shift",
          "dst_students_count_2y_shift",
          "dst_average_wage_2y_shift",
          "dst_rate_of_one_usd_2y_shift",
          "dst_cpi_2y_shift",
          "dst_qoe_top20_2y_shift",
          "dst_qoe_top100_2y_shift",
          "dst_qoe_top200_2y_shift",
          "dst_qoe_top500_2y_shift",
          "src_population_2y_shift",
          "src_qoe_top20_2y_shift",
          "src_qoe_top100_2y_shift",
          "src_qoe_top200_2y_shift",
          "src_qoe_top500_2y_shift",
          "src_gni_2y_shift",
          "src_gdp_2y_shift",
          "src_rate_of_one_usd_2y_shift",
          "src_tertiary_enrolment_2y_shift"
         ],
         "z": [
          [
           0.9858713273676769,
           0.7976415544555535,
           0.002020874346741154,
           -0.03536234287582856
          ],
          [
           0,
           0,
           0,
           0
          ],
          [
           0.9579760683076136,
           0.6524305426336765,
           0.0721346594801008,
           -0.16228044200585062
          ],
          [
           -0.7236747170892828,
           -0.32255138457362914,
           -0.29144199503534557,
           0.4332290570565502
          ],
          [
           0.984908685116133,
           0.7773668229306276,
           0.018279979987639045,
           -0.03778456657951299
          ],
          [
           0,
           0,
           0,
           0
          ],
          [
           0.9640248131230745,
           0.7500728491613933,
           -0.012581242489521227,
           -0.05137407039338643
          ],
          [
           0.9335075540034609,
           0.8455738052435606,
           -0.12581579548002625,
           0.0084147638644182
          ],
          [
           0.9751420852191461,
           0.8205039871768468,
           -0.018499200474615844,
           -0.0396462042660945
          ],
          [
           0.9803189160825762,
           0.7878888020032653,
           0.03315915595024589,
           -0.039124848680136506
          ],
          [
           0,
           0,
           0,
           0
          ],
          [
           0.5529171795340525,
           0,
           0,
           0
          ],
          [
           0.8827014690330239,
           0,
           0,
           0
          ],
          [
           0.9882016924279967,
           -0.5966921084463898,
           -0.1606987517258639,
           0
          ],
          [
           0.9548254974191076,
           0.7445090840952726,
           0.01320659206129469,
           -0.1605263671668165
          ],
          [
           0.9594371141378845,
           0.7762582644641759,
           0.02875676603758463,
           -0.11995088177119465
          ],
          [
           -0.9087177953641234,
           0.7196879294614202,
           -0.43475207102912916,
           0.03146208653697266
          ],
          [
           0.9333073803442701,
           0.6970472582790792,
           0.0881355323486903,
           -0.09038217962484055
          ],
          [
           0.754104480369952,
           0.7369582401877258,
           0.08818160669875738,
           -0.13423965208835065
          ],
          [
           0,
           0,
           0,
           0
          ],
          [
           0.7182094777873993,
           0.91333207833248,
           0.4855161071197228,
           0.3325098270252683
          ],
          [
           0.8175351063328081,
           0.6283655567765679,
           0.2189568640415008,
           -0.18683212141417244
          ],
          [
           -0.6731704458823428,
           -0.41186814148148326,
           -0.5542632873996144,
           0.12348940319534146
          ],
          [
           0.768142647548518,
           0.7206792245014336,
           0.1048384078417703,
           -0.13124039527393658
          ],
          [
           0,
           0,
           0,
           0
          ],
          [
           0.7019873136769976,
           0.7143846200378403,
           0.12245784493912666,
           -0.0758543882986997
          ],
          [
           0.5488107740035443,
           0.7851224603675041,
           0.0039936274106961295,
           -0.09861723709866585
          ],
          [
           0.709190682723093,
           0.7822349035928066,
           0.06169633789995414,
           -0.13988641186514647
          ],
          [
           0.7574071037206634,
           0.7308882975776978,
           0.11826265849619408,
           -0.13783535572122618
          ],
          [
           0,
           0,
           0,
           0
          ],
          [
           0.09529004625565325,
           0,
           0,
           0
          ],
          [
           0.5462218027622069,
           0,
           0,
           0
          ],
          [
           0.7311902665425528,
           -0.6265533104432547,
           -0.08870012603103646,
           0
          ],
          [
           0.6915034966465895,
           0.7179846882259537,
           0.1437012338387481,
           -0.19062394302431984
          ],
          [
           0.6932553678274591,
           0.7606437671121064,
           0.17774059463113182,
           -0.18806001471806327
          ],
          [
           -0.8182954619372743,
           0.5346976400680781,
           -0.5576911386718025,
           -0.029680318844530297
          ],
          [
           0.640186492268939,
           0.628603194027712,
           0.1532127836066656,
           -0.15482482857605068
          ],
          [
           0.7175443284885471,
           0.6828750254747622,
           0.17051483893308952,
           -0.18960489870866395
          ],
          [
           0,
           0,
           0,
           0
          ],
          [
           0.6952356740998573,
           0.6741768482873821,
           0.07239071243413044,
           -0.2807384317004758
          ],
          [
           0.7654738741725744,
           0.6601196807656531,
           0.3534324034836615,
           -0.15423398742990765
          ],
          [
           -0.7352627855432717,
           -0.5983831937420158,
           -0.5619396240671556,
           -0.11711238214344698
          ],
          [
           0.7337586333926461,
           0.6718681991070371,
           0.19157616912452094,
           -0.20594324376157302
          ],
          [
           0,
           0,
           0,
           0
          ],
          [
           0.5970345284222159,
           0.6976534189480864,
           0.2449873708217031,
           -0.10472072850024268
          ],
          [
           0.6944387910008137,
           0.687575795530614,
           0.0913707626406076,
           -0.14248437647868756
          ],
          [
           0.6099533107828264,
           0.7401147826018528,
           0.13473869295192328,
           -0.15617521014196717
          ],
          [
           0.7264659666801833,
           0.6872760935820873,
           0.19679021092208512,
           -0.1941838532490532
          ],
          [
           0,
           0,
           0,
           0
          ],
          [
           -0.34475424602005994,
           0,
           0,
           0
          ],
          [
           0.45747319986128904,
           0,
           0,
           0
          ],
          [
           0.6787112023951011,
           -0.6910645741463811,
           0.019362163938480517,
           0
          ],
          [
           0.6344435150228627,
           0.7033545682366811,
           0.2867710605283217,
           -0.21439716700909917
          ],
          [
           0.6568253725105618,
           0.7360685959563855,
           0.30944008945452717,
           -0.22972828693235017
          ],
          [
           -0.7915008678381327,
           0.32647348606013205,
           -0.6154506689524447,
           -0.18881058378113677
          ],
          [
           0.5819030311510198,
           0.5946385620704219,
           0.07095294608838669,
           -0.19395299879363154
          ]
         ]
        }
       ],
       "layout": {
        "autosize": false,
        "height": 1000,
        "template": {
         "data": {
          "bar": [
           {
            "error_x": {
             "color": "#2a3f5f"
            },
            "error_y": {
             "color": "#2a3f5f"
            },
            "marker": {
             "line": {
              "color": "#E5ECF6",
              "width": 0.5
             }
            },
            "type": "bar"
           }
          ],
          "barpolar": [
           {
            "marker": {
             "line": {
              "color": "#E5ECF6",
              "width": 0.5
             }
            },
            "type": "barpolar"
           }
          ],
          "carpet": [
           {
            "aaxis": {
             "endlinecolor": "#2a3f5f",
             "gridcolor": "white",
             "linecolor": "white",
             "minorgridcolor": "white",
             "startlinecolor": "#2a3f5f"
            },
            "baxis": {
             "endlinecolor": "#2a3f5f",
             "gridcolor": "white",
             "linecolor": "white",
             "minorgridcolor": "white",
             "startlinecolor": "#2a3f5f"
            },
            "type": "carpet"
           }
          ],
          "choropleth": [
           {
            "colorbar": {
             "outlinewidth": 0,
             "ticks": ""
            },
            "type": "choropleth"
           }
          ],
          "contour": [
           {
            "colorbar": {
             "outlinewidth": 0,
             "ticks": ""
            },
            "colorscale": [
             [
              0,
              "#0d0887"
             ],
             [
              0.1111111111111111,
              "#46039f"
             ],
             [
              0.2222222222222222,
              "#7201a8"
             ],
             [
              0.3333333333333333,
              "#9c179e"
             ],
             [
              0.4444444444444444,
              "#bd3786"
             ],
             [
              0.5555555555555556,
              "#d8576b"
             ],
             [
              0.6666666666666666,
              "#ed7953"
             ],
             [
              0.7777777777777778,
              "#fb9f3a"
             ],
             [
              0.8888888888888888,
              "#fdca26"
             ],
             [
              1,
              "#f0f921"
             ]
            ],
            "type": "contour"
           }
          ],
          "contourcarpet": [
           {
            "colorbar": {
             "outlinewidth": 0,
             "ticks": ""
            },
            "type": "contourcarpet"
           }
          ],
          "heatmap": [
           {
            "colorbar": {
             "outlinewidth": 0,
             "ticks": ""
            },
            "colorscale": [
             [
              0,
              "#0d0887"
             ],
             [
              0.1111111111111111,
              "#46039f"
             ],
             [
              0.2222222222222222,
              "#7201a8"
             ],
             [
              0.3333333333333333,
              "#9c179e"
             ],
             [
              0.4444444444444444,
              "#bd3786"
             ],
             [
              0.5555555555555556,
              "#d8576b"
             ],
             [
              0.6666666666666666,
              "#ed7953"
             ],
             [
              0.7777777777777778,
              "#fb9f3a"
             ],
             [
              0.8888888888888888,
              "#fdca26"
             ],
             [
              1,
              "#f0f921"
             ]
            ],
            "type": "heatmap"
           }
          ],
          "heatmapgl": [
           {
            "colorbar": {
             "outlinewidth": 0,
             "ticks": ""
            },
            "colorscale": [
             [
              0,
              "#0d0887"
             ],
             [
              0.1111111111111111,
              "#46039f"
             ],
             [
              0.2222222222222222,
              "#7201a8"
             ],
             [
              0.3333333333333333,
              "#9c179e"
             ],
             [
              0.4444444444444444,
              "#bd3786"
             ],
             [
              0.5555555555555556,
              "#d8576b"
             ],
             [
              0.6666666666666666,
              "#ed7953"
             ],
             [
              0.7777777777777778,
              "#fb9f3a"
             ],
             [
              0.8888888888888888,
              "#fdca26"
             ],
             [
              1,
              "#f0f921"
             ]
            ],
            "type": "heatmapgl"
           }
          ],
          "histogram": [
           {
            "marker": {
             "colorbar": {
              "outlinewidth": 0,
              "ticks": ""
             }
            },
            "type": "histogram"
           }
          ],
          "histogram2d": [
           {
            "colorbar": {
             "outlinewidth": 0,
             "ticks": ""
            },
            "colorscale": [
             [
              0,
              "#0d0887"
             ],
             [
              0.1111111111111111,
              "#46039f"
             ],
             [
              0.2222222222222222,
              "#7201a8"
             ],
             [
              0.3333333333333333,
              "#9c179e"
             ],
             [
              0.4444444444444444,
              "#bd3786"
             ],
             [
              0.5555555555555556,
              "#d8576b"
             ],
             [
              0.6666666666666666,
              "#ed7953"
             ],
             [
              0.7777777777777778,
              "#fb9f3a"
             ],
             [
              0.8888888888888888,
              "#fdca26"
             ],
             [
              1,
              "#f0f921"
             ]
            ],
            "type": "histogram2d"
           }
          ],
          "histogram2dcontour": [
           {
            "colorbar": {
             "outlinewidth": 0,
             "ticks": ""
            },
            "colorscale": [
             [
              0,
              "#0d0887"
             ],
             [
              0.1111111111111111,
              "#46039f"
             ],
             [
              0.2222222222222222,
              "#7201a8"
             ],
             [
              0.3333333333333333,
              "#9c179e"
             ],
             [
              0.4444444444444444,
              "#bd3786"
             ],
             [
              0.5555555555555556,
              "#d8576b"
             ],
             [
              0.6666666666666666,
              "#ed7953"
             ],
             [
              0.7777777777777778,
              "#fb9f3a"
             ],
             [
              0.8888888888888888,
              "#fdca26"
             ],
             [
              1,
              "#f0f921"
             ]
            ],
            "type": "histogram2dcontour"
           }
          ],
          "mesh3d": [
           {
            "colorbar": {
             "outlinewidth": 0,
             "ticks": ""
            },
            "type": "mesh3d"
           }
          ],
          "parcoords": [
           {
            "line": {
             "colorbar": {
              "outlinewidth": 0,
              "ticks": ""
             }
            },
            "type": "parcoords"
           }
          ],
          "scatter": [
           {
            "marker": {
             "colorbar": {
              "outlinewidth": 0,
              "ticks": ""
             }
            },
            "type": "scatter"
           }
          ],
          "scatter3d": [
           {
            "line": {
             "colorbar": {
              "outlinewidth": 0,
              "ticks": ""
             }
            },
            "marker": {
             "colorbar": {
              "outlinewidth": 0,
              "ticks": ""
             }
            },
            "type": "scatter3d"
           }
          ],
          "scattercarpet": [
           {
            "marker": {
             "colorbar": {
              "outlinewidth": 0,
              "ticks": ""
             }
            },
            "type": "scattercarpet"
           }
          ],
          "scattergeo": [
           {
            "marker": {
             "colorbar": {
              "outlinewidth": 0,
              "ticks": ""
             }
            },
            "type": "scattergeo"
           }
          ],
          "scattergl": [
           {
            "marker": {
             "colorbar": {
              "outlinewidth": 0,
              "ticks": ""
             }
            },
            "type": "scattergl"
           }
          ],
          "scattermapbox": [
           {
            "marker": {
             "colorbar": {
              "outlinewidth": 0,
              "ticks": ""
             }
            },
            "type": "scattermapbox"
           }
          ],
          "scatterpolar": [
           {
            "marker": {
             "colorbar": {
              "outlinewidth": 0,
              "ticks": ""
             }
            },
            "type": "scatterpolar"
           }
          ],
          "scatterpolargl": [
           {
            "marker": {
             "colorbar": {
              "outlinewidth": 0,
              "ticks": ""
             }
            },
            "type": "scatterpolargl"
           }
          ],
          "scatterternary": [
           {
            "marker": {
             "colorbar": {
              "outlinewidth": 0,
              "ticks": ""
             }
            },
            "type": "scatterternary"
           }
          ],
          "surface": [
           {
            "colorbar": {
             "outlinewidth": 0,
             "ticks": ""
            },
            "colorscale": [
             [
              0,
              "#0d0887"
             ],
             [
              0.1111111111111111,
              "#46039f"
             ],
             [
              0.2222222222222222,
              "#7201a8"
             ],
             [
              0.3333333333333333,
              "#9c179e"
             ],
             [
              0.4444444444444444,
              "#bd3786"
             ],
             [
              0.5555555555555556,
              "#d8576b"
             ],
             [
              0.6666666666666666,
              "#ed7953"
             ],
             [
              0.7777777777777778,
              "#fb9f3a"
             ],
             [
              0.8888888888888888,
              "#fdca26"
             ],
             [
              1,
              "#f0f921"
             ]
            ],
            "type": "surface"
           }
          ],
          "table": [
           {
            "cells": {
             "fill": {
              "color": "#EBF0F8"
             },
             "line": {
              "color": "white"
             }
            },
            "header": {
             "fill": {
              "color": "#C8D4E3"
             },
             "line": {
              "color": "white"
             }
            },
            "type": "table"
           }
          ]
         },
         "layout": {
          "annotationdefaults": {
           "arrowcolor": "#2a3f5f",
           "arrowhead": 0,
           "arrowwidth": 1
          },
          "colorscale": {
           "diverging": [
            [
             0,
             "#8e0152"
            ],
            [
             0.1,
             "#c51b7d"
            ],
            [
             0.2,
             "#de77ae"
            ],
            [
             0.3,
             "#f1b6da"
            ],
            [
             0.4,
             "#fde0ef"
            ],
            [
             0.5,
             "#f7f7f7"
            ],
            [
             0.6,
             "#e6f5d0"
            ],
            [
             0.7,
             "#b8e186"
            ],
            [
             0.8,
             "#7fbc41"
            ],
            [
             0.9,
             "#4d9221"
            ],
            [
             1,
             "#276419"
            ]
           ],
           "sequential": [
            [
             0,
             "#0d0887"
            ],
            [
             0.1111111111111111,
             "#46039f"
            ],
            [
             0.2222222222222222,
             "#7201a8"
            ],
            [
             0.3333333333333333,
             "#9c179e"
            ],
            [
             0.4444444444444444,
             "#bd3786"
            ],
            [
             0.5555555555555556,
             "#d8576b"
            ],
            [
             0.6666666666666666,
             "#ed7953"
            ],
            [
             0.7777777777777778,
             "#fb9f3a"
            ],
            [
             0.8888888888888888,
             "#fdca26"
            ],
            [
             1,
             "#f0f921"
            ]
           ],
           "sequentialminus": [
            [
             0,
             "#0d0887"
            ],
            [
             0.1111111111111111,
             "#46039f"
            ],
            [
             0.2222222222222222,
             "#7201a8"
            ],
            [
             0.3333333333333333,
             "#9c179e"
            ],
            [
             0.4444444444444444,
             "#bd3786"
            ],
            [
             0.5555555555555556,
             "#d8576b"
            ],
            [
             0.6666666666666666,
             "#ed7953"
            ],
            [
             0.7777777777777778,
             "#fb9f3a"
            ],
            [
             0.8888888888888888,
             "#fdca26"
            ],
            [
             1,
             "#f0f921"
            ]
           ]
          },
          "colorway": [
           "#636efa",
           "#EF553B",
           "#00cc96",
           "#ab63fa",
           "#FFA15A",
           "#19d3f3",
           "#FF6692",
           "#B6E880",
           "#FF97FF",
           "#FECB52"
          ],
          "font": {
           "color": "#2a3f5f"
          },
          "geo": {
           "bgcolor": "white",
           "lakecolor": "white",
           "landcolor": "#E5ECF6",
           "showlakes": true,
           "showland": true,
           "subunitcolor": "white"
          },
          "hoverlabel": {
           "align": "left"
          },
          "hovermode": "closest",
          "mapbox": {
           "style": "light"
          },
          "paper_bgcolor": "white",
          "plot_bgcolor": "#E5ECF6",
          "polar": {
           "angularaxis": {
            "gridcolor": "white",
            "linecolor": "white",
            "ticks": ""
           },
           "bgcolor": "#E5ECF6",
           "radialaxis": {
            "gridcolor": "white",
            "linecolor": "white",
            "ticks": ""
           }
          },
          "scene": {
           "xaxis": {
            "backgroundcolor": "#E5ECF6",
            "gridcolor": "white",
            "gridwidth": 2,
            "linecolor": "white",
            "showbackground": true,
            "ticks": "",
            "zerolinecolor": "white"
           },
           "yaxis": {
            "backgroundcolor": "#E5ECF6",
            "gridcolor": "white",
            "gridwidth": 2,
            "linecolor": "white",
            "showbackground": true,
            "ticks": "",
            "zerolinecolor": "white"
           },
           "zaxis": {
            "backgroundcolor": "#E5ECF6",
            "gridcolor": "white",
            "gridwidth": 2,
            "linecolor": "white",
            "showbackground": true,
            "ticks": "",
            "zerolinecolor": "white"
           }
          },
          "shapedefaults": {
           "line": {
            "color": "#2a3f5f"
           }
          },
          "ternary": {
           "aaxis": {
            "gridcolor": "white",
            "linecolor": "white",
            "ticks": ""
           },
           "baxis": {
            "gridcolor": "white",
            "linecolor": "white",
            "ticks": ""
           },
           "bgcolor": "#E5ECF6",
           "caxis": {
            "gridcolor": "white",
            "linecolor": "white",
            "ticks": ""
           }
          },
          "title": {
           "x": 0.05
          },
          "xaxis": {
           "automargin": true,
           "gridcolor": "white",
           "linecolor": "white",
           "ticks": "",
           "zerolinecolor": "white",
           "zerolinewidth": 2
          },
          "yaxis": {
           "automargin": true,
           "gridcolor": "white",
           "linecolor": "white",
           "ticks": "",
           "zerolinecolor": "white",
           "zerolinewidth": 2
          }
         }
        },
        "title": {
         "text": "Correlation Between Predcitors and Student Count for Australia"
        },
        "width": 1000
       }
      },
      "text/html": [
       "<div>\n",
       "        \n",
       "        \n",
       "            <div id=\"4f77d056-19f8-4133-a77a-18d5fa2ec124\" class=\"plotly-graph-div\" style=\"height:1000px; width:1000px;\"></div>\n",
       "            <script type=\"text/javascript\">\n",
       "                require([\"plotly\"], function(Plotly) {\n",
       "                    window.PLOTLYENV=window.PLOTLYENV || {};\n",
       "                    \n",
       "                if (document.getElementById(\"4f77d056-19f8-4133-a77a-18d5fa2ec124\")) {\n",
       "                    Plotly.newPlot(\n",
       "                        '4f77d056-19f8-4133-a77a-18d5fa2ec124',\n",
       "                        [{\"colorscale\": [[0.0, \"rgb(158,1,66)\"], [0.1, \"rgb(213,62,79)\"], [0.2, \"rgb(244,109,67)\"], [0.3, \"rgb(253,174,97)\"], [0.4, \"rgb(254,224,139)\"], [0.5, \"rgb(255,255,191)\"], [0.6, \"rgb(230,245,152)\"], [0.7, \"rgb(171,221,164)\"], [0.8, \"rgb(102,194,165)\"], [0.9, \"rgb(50,136,189)\"], [1.0, \"rgb(94,79,162)\"]], \"reversescale\": true, \"type\": \"heatmap\", \"x\": [\"china_student_count\", \"India_student_count\", \"malaysia_student_count\", \"indonesia_student_count\"], \"y\": [\"year\", \"dst_distance\", \"dst_average_wage\", \"dst_rate_of_one_usd\", \"dst_cpi\", \"dst_qoe_top20\", \"dst_qoe_top100\", \"dst_qoe_top200\", \"dst_qoe_top500\", \"src_population\", \"src_qoe_top20\", \"src_qoe_top100\", \"src_qoe_top200\", \"src_qoe_top500\", \"src_gni\", \"src_gdp\", \"src_rate_of_one_usd\", \"src_tertiary_enrolment\", \"year_1y_shift\", \"dst_distance_1y_shift\", \"dst_students_count_1y_shift\", \"dst_average_wage_1y_shift\", \"dst_rate_of_one_usd_1y_shift\", \"dst_cpi_1y_shift\", \"dst_qoe_top20_1y_shift\", \"dst_qoe_top100_1y_shift\", \"dst_qoe_top200_1y_shift\", \"dst_qoe_top500_1y_shift\", \"src_population_1y_shift\", \"src_qoe_top20_1y_shift\", \"src_qoe_top100_1y_shift\", \"src_qoe_top200_1y_shift\", \"src_qoe_top500_1y_shift\", \"src_gni_1y_shift\", \"src_gdp_1y_shift\", \"src_rate_of_one_usd_1y_shift\", \"src_tertiary_enrolment_1y_shift\", \"year_2y_shift\", \"dst_distance_2y_shift\", \"dst_students_count_2y_shift\", \"dst_average_wage_2y_shift\", \"dst_rate_of_one_usd_2y_shift\", \"dst_cpi_2y_shift\", \"dst_qoe_top20_2y_shift\", \"dst_qoe_top100_2y_shift\", \"dst_qoe_top200_2y_shift\", \"dst_qoe_top500_2y_shift\", \"src_population_2y_shift\", \"src_qoe_top20_2y_shift\", \"src_qoe_top100_2y_shift\", \"src_qoe_top200_2y_shift\", \"src_qoe_top500_2y_shift\", \"src_gni_2y_shift\", \"src_gdp_2y_shift\", \"src_rate_of_one_usd_2y_shift\", \"src_tertiary_enrolment_2y_shift\"], \"z\": [[0.9858713273676769, 0.7976415544555535, 0.002020874346741154, -0.03536234287582856], [0.0, 0.0, 0.0, 0.0], [0.9579760683076136, 0.6524305426336765, 0.0721346594801008, -0.16228044200585062], [-0.7236747170892828, -0.32255138457362914, -0.29144199503534557, 0.4332290570565502], [0.984908685116133, 0.7773668229306276, 0.018279979987639045, -0.03778456657951299], [0.0, 0.0, 0.0, 0.0], [0.9640248131230745, 0.7500728491613933, -0.012581242489521227, -0.05137407039338643], [0.9335075540034609, 0.8455738052435606, -0.12581579548002625, 0.0084147638644182], [0.9751420852191461, 0.8205039871768468, -0.018499200474615844, -0.0396462042660945], [0.9803189160825762, 0.7878888020032653, 0.03315915595024589, -0.039124848680136506], [0.0, 0.0, 0.0, 0.0], [0.5529171795340525, 0.0, 0.0, 0.0], [0.8827014690330239, 0.0, 0.0, 0.0], [0.9882016924279967, -0.5966921084463898, -0.1606987517258639, 0.0], [0.9548254974191076, 0.7445090840952726, 0.01320659206129469, -0.1605263671668165], [0.9594371141378845, 0.7762582644641759, 0.02875676603758463, -0.11995088177119465], [-0.9087177953641234, 0.7196879294614202, -0.43475207102912916, 0.03146208653697266], [0.9333073803442701, 0.6970472582790792, 0.0881355323486903, -0.09038217962484055], [0.754104480369952, 0.7369582401877258, 0.08818160669875738, -0.13423965208835065], [0.0, 0.0, 0.0, 0.0], [0.7182094777873993, 0.91333207833248, 0.4855161071197228, 0.3325098270252683], [0.8175351063328081, 0.6283655567765679, 0.2189568640415008, -0.18683212141417244], [-0.6731704458823428, -0.41186814148148326, -0.5542632873996144, 0.12348940319534146], [0.768142647548518, 0.7206792245014336, 0.1048384078417703, -0.13124039527393658], [0.0, 0.0, 0.0, 0.0], [0.7019873136769976, 0.7143846200378403, 0.12245784493912666, -0.0758543882986997], [0.5488107740035443, 0.7851224603675041, 0.0039936274106961295, -0.09861723709866585], [0.709190682723093, 0.7822349035928066, 0.06169633789995414, -0.13988641186514647], [0.7574071037206634, 0.7308882975776978, 0.11826265849619408, -0.13783535572122618], [0.0, 0.0, 0.0, 0.0], [0.09529004625565325, 0.0, 0.0, 0.0], [0.5462218027622069, 0.0, 0.0, 0.0], [0.7311902665425528, -0.6265533104432547, -0.08870012603103646, 0.0], [0.6915034966465895, 0.7179846882259537, 0.1437012338387481, -0.19062394302431984], [0.6932553678274591, 0.7606437671121064, 0.17774059463113182, -0.18806001471806327], [-0.8182954619372743, 0.5346976400680781, -0.5576911386718025, -0.029680318844530297], [0.640186492268939, 0.628603194027712, 0.1532127836066656, -0.15482482857605068], [0.7175443284885471, 0.6828750254747622, 0.17051483893308952, -0.18960489870866395], [0.0, 0.0, 0.0, 0.0], [0.6952356740998573, 0.6741768482873821, 0.07239071243413044, -0.2807384317004758], [0.7654738741725744, 0.6601196807656531, 0.3534324034836615, -0.15423398742990765], [-0.7352627855432717, -0.5983831937420158, -0.5619396240671556, -0.11711238214344698], [0.7337586333926461, 0.6718681991070371, 0.19157616912452094, -0.20594324376157302], [0.0, 0.0, 0.0, 0.0], [0.5970345284222159, 0.6976534189480864, 0.2449873708217031, -0.10472072850024268], [0.6944387910008137, 0.687575795530614, 0.0913707626406076, -0.14248437647868756], [0.6099533107828264, 0.7401147826018528, 0.13473869295192328, -0.15617521014196717], [0.7264659666801833, 0.6872760935820873, 0.19679021092208512, -0.1941838532490532], [0.0, 0.0, 0.0, 0.0], [-0.34475424602005994, 0.0, 0.0, 0.0], [0.45747319986128904, 0.0, 0.0, 0.0], [0.6787112023951011, -0.6910645741463811, 0.019362163938480517, 0.0], [0.6344435150228627, 0.7033545682366811, 0.2867710605283217, -0.21439716700909917], [0.6568253725105618, 0.7360685959563855, 0.30944008945452717, -0.22972828693235017], [-0.7915008678381327, 0.32647348606013205, -0.6154506689524447, -0.18881058378113677], [0.5819030311510198, 0.5946385620704219, 0.07095294608838669, -0.19395299879363154]]}],\n",
       "                        {\"autosize\": false, \"height\": 1000, \"template\": {\"data\": {\"bar\": [{\"error_x\": {\"color\": \"#2a3f5f\"}, \"error_y\": {\"color\": \"#2a3f5f\"}, \"marker\": {\"line\": {\"color\": \"#E5ECF6\", \"width\": 0.5}}, \"type\": \"bar\"}], \"barpolar\": [{\"marker\": {\"line\": {\"color\": \"#E5ECF6\", \"width\": 0.5}}, \"type\": \"barpolar\"}], \"carpet\": [{\"aaxis\": {\"endlinecolor\": \"#2a3f5f\", \"gridcolor\": \"white\", \"linecolor\": \"white\", \"minorgridcolor\": \"white\", \"startlinecolor\": \"#2a3f5f\"}, \"baxis\": {\"endlinecolor\": \"#2a3f5f\", \"gridcolor\": \"white\", \"linecolor\": \"white\", \"minorgridcolor\": \"white\", \"startlinecolor\": \"#2a3f5f\"}, \"type\": \"carpet\"}], \"choropleth\": [{\"colorbar\": {\"outlinewidth\": 0, \"ticks\": \"\"}, \"type\": \"choropleth\"}], \"contour\": [{\"colorbar\": {\"outlinewidth\": 0, \"ticks\": \"\"}, \"colorscale\": [[0.0, \"#0d0887\"], [0.1111111111111111, \"#46039f\"], [0.2222222222222222, \"#7201a8\"], [0.3333333333333333, \"#9c179e\"], [0.4444444444444444, \"#bd3786\"], [0.5555555555555556, \"#d8576b\"], [0.6666666666666666, \"#ed7953\"], [0.7777777777777778, \"#fb9f3a\"], [0.8888888888888888, \"#fdca26\"], [1.0, \"#f0f921\"]], \"type\": \"contour\"}], \"contourcarpet\": [{\"colorbar\": {\"outlinewidth\": 0, \"ticks\": \"\"}, \"type\": \"contourcarpet\"}], \"heatmap\": [{\"colorbar\": {\"outlinewidth\": 0, \"ticks\": \"\"}, \"colorscale\": [[0.0, \"#0d0887\"], [0.1111111111111111, \"#46039f\"], [0.2222222222222222, \"#7201a8\"], [0.3333333333333333, \"#9c179e\"], [0.4444444444444444, \"#bd3786\"], [0.5555555555555556, \"#d8576b\"], [0.6666666666666666, \"#ed7953\"], [0.7777777777777778, \"#fb9f3a\"], [0.8888888888888888, \"#fdca26\"], [1.0, \"#f0f921\"]], \"type\": \"heatmap\"}], \"heatmapgl\": [{\"colorbar\": {\"outlinewidth\": 0, \"ticks\": \"\"}, \"colorscale\": [[0.0, \"#0d0887\"], [0.1111111111111111, \"#46039f\"], [0.2222222222222222, \"#7201a8\"], [0.3333333333333333, \"#9c179e\"], [0.4444444444444444, \"#bd3786\"], [0.5555555555555556, \"#d8576b\"], [0.6666666666666666, \"#ed7953\"], [0.7777777777777778, \"#fb9f3a\"], [0.8888888888888888, \"#fdca26\"], [1.0, \"#f0f921\"]], \"type\": \"heatmapgl\"}], \"histogram\": [{\"marker\": {\"colorbar\": {\"outlinewidth\": 0, \"ticks\": \"\"}}, \"type\": \"histogram\"}], \"histogram2d\": [{\"colorbar\": {\"outlinewidth\": 0, \"ticks\": \"\"}, \"colorscale\": [[0.0, \"#0d0887\"], [0.1111111111111111, \"#46039f\"], [0.2222222222222222, \"#7201a8\"], [0.3333333333333333, \"#9c179e\"], [0.4444444444444444, \"#bd3786\"], [0.5555555555555556, \"#d8576b\"], [0.6666666666666666, \"#ed7953\"], [0.7777777777777778, \"#fb9f3a\"], [0.8888888888888888, \"#fdca26\"], [1.0, \"#f0f921\"]], \"type\": \"histogram2d\"}], \"histogram2dcontour\": [{\"colorbar\": {\"outlinewidth\": 0, \"ticks\": \"\"}, \"colorscale\": [[0.0, \"#0d0887\"], [0.1111111111111111, \"#46039f\"], [0.2222222222222222, \"#7201a8\"], [0.3333333333333333, \"#9c179e\"], [0.4444444444444444, \"#bd3786\"], [0.5555555555555556, \"#d8576b\"], [0.6666666666666666, \"#ed7953\"], [0.7777777777777778, \"#fb9f3a\"], [0.8888888888888888, \"#fdca26\"], [1.0, \"#f0f921\"]], \"type\": \"histogram2dcontour\"}], \"mesh3d\": [{\"colorbar\": {\"outlinewidth\": 0, \"ticks\": \"\"}, \"type\": \"mesh3d\"}], \"parcoords\": [{\"line\": {\"colorbar\": {\"outlinewidth\": 0, \"ticks\": \"\"}}, \"type\": \"parcoords\"}], \"scatter\": [{\"marker\": {\"colorbar\": {\"outlinewidth\": 0, \"ticks\": \"\"}}, \"type\": \"scatter\"}], \"scatter3d\": [{\"line\": {\"colorbar\": {\"outlinewidth\": 0, \"ticks\": \"\"}}, \"marker\": {\"colorbar\": {\"outlinewidth\": 0, \"ticks\": \"\"}}, \"type\": \"scatter3d\"}], \"scattercarpet\": [{\"marker\": {\"colorbar\": {\"outlinewidth\": 0, \"ticks\": \"\"}}, \"type\": \"scattercarpet\"}], \"scattergeo\": [{\"marker\": {\"colorbar\": {\"outlinewidth\": 0, \"ticks\": \"\"}}, \"type\": \"scattergeo\"}], \"scattergl\": [{\"marker\": {\"colorbar\": {\"outlinewidth\": 0, \"ticks\": \"\"}}, \"type\": \"scattergl\"}], \"scattermapbox\": [{\"marker\": {\"colorbar\": {\"outlinewidth\": 0, \"ticks\": \"\"}}, \"type\": \"scattermapbox\"}], \"scatterpolar\": [{\"marker\": {\"colorbar\": {\"outlinewidth\": 0, \"ticks\": \"\"}}, \"type\": \"scatterpolar\"}], \"scatterpolargl\": [{\"marker\": {\"colorbar\": {\"outlinewidth\": 0, \"ticks\": \"\"}}, \"type\": \"scatterpolargl\"}], \"scatterternary\": [{\"marker\": {\"colorbar\": {\"outlinewidth\": 0, \"ticks\": \"\"}}, \"type\": \"scatterternary\"}], \"surface\": [{\"colorbar\": {\"outlinewidth\": 0, \"ticks\": \"\"}, \"colorscale\": [[0.0, \"#0d0887\"], [0.1111111111111111, \"#46039f\"], [0.2222222222222222, \"#7201a8\"], [0.3333333333333333, \"#9c179e\"], [0.4444444444444444, \"#bd3786\"], [0.5555555555555556, \"#d8576b\"], [0.6666666666666666, \"#ed7953\"], [0.7777777777777778, \"#fb9f3a\"], [0.8888888888888888, \"#fdca26\"], [1.0, \"#f0f921\"]], \"type\": \"surface\"}], \"table\": [{\"cells\": {\"fill\": {\"color\": \"#EBF0F8\"}, \"line\": {\"color\": \"white\"}}, \"header\": {\"fill\": {\"color\": \"#C8D4E3\"}, \"line\": {\"color\": \"white\"}}, \"type\": \"table\"}]}, \"layout\": {\"annotationdefaults\": {\"arrowcolor\": \"#2a3f5f\", \"arrowhead\": 0, \"arrowwidth\": 1}, \"colorscale\": {\"diverging\": [[0, \"#8e0152\"], [0.1, \"#c51b7d\"], [0.2, \"#de77ae\"], [0.3, \"#f1b6da\"], [0.4, \"#fde0ef\"], [0.5, \"#f7f7f7\"], [0.6, \"#e6f5d0\"], [0.7, \"#b8e186\"], [0.8, \"#7fbc41\"], [0.9, \"#4d9221\"], [1, \"#276419\"]], \"sequential\": [[0.0, \"#0d0887\"], [0.1111111111111111, \"#46039f\"], [0.2222222222222222, \"#7201a8\"], [0.3333333333333333, \"#9c179e\"], [0.4444444444444444, \"#bd3786\"], [0.5555555555555556, \"#d8576b\"], [0.6666666666666666, \"#ed7953\"], [0.7777777777777778, \"#fb9f3a\"], [0.8888888888888888, \"#fdca26\"], [1.0, \"#f0f921\"]], \"sequentialminus\": [[0.0, \"#0d0887\"], [0.1111111111111111, \"#46039f\"], [0.2222222222222222, \"#7201a8\"], [0.3333333333333333, \"#9c179e\"], [0.4444444444444444, \"#bd3786\"], [0.5555555555555556, \"#d8576b\"], [0.6666666666666666, \"#ed7953\"], [0.7777777777777778, \"#fb9f3a\"], [0.8888888888888888, \"#fdca26\"], [1.0, \"#f0f921\"]]}, \"colorway\": [\"#636efa\", \"#EF553B\", \"#00cc96\", \"#ab63fa\", \"#FFA15A\", \"#19d3f3\", \"#FF6692\", \"#B6E880\", \"#FF97FF\", \"#FECB52\"], \"font\": {\"color\": \"#2a3f5f\"}, \"geo\": {\"bgcolor\": \"white\", \"lakecolor\": \"white\", \"landcolor\": \"#E5ECF6\", \"showlakes\": true, \"showland\": true, \"subunitcolor\": \"white\"}, \"hoverlabel\": {\"align\": \"left\"}, \"hovermode\": \"closest\", \"mapbox\": {\"style\": \"light\"}, \"paper_bgcolor\": \"white\", \"plot_bgcolor\": \"#E5ECF6\", \"polar\": {\"angularaxis\": {\"gridcolor\": \"white\", \"linecolor\": \"white\", \"ticks\": \"\"}, \"bgcolor\": \"#E5ECF6\", \"radialaxis\": {\"gridcolor\": \"white\", \"linecolor\": \"white\", \"ticks\": \"\"}}, \"scene\": {\"xaxis\": {\"backgroundcolor\": \"#E5ECF6\", \"gridcolor\": \"white\", \"gridwidth\": 2, \"linecolor\": \"white\", \"showbackground\": true, \"ticks\": \"\", \"zerolinecolor\": \"white\"}, \"yaxis\": {\"backgroundcolor\": \"#E5ECF6\", \"gridcolor\": \"white\", \"gridwidth\": 2, \"linecolor\": \"white\", \"showbackground\": true, \"ticks\": \"\", \"zerolinecolor\": \"white\"}, \"zaxis\": {\"backgroundcolor\": \"#E5ECF6\", \"gridcolor\": \"white\", \"gridwidth\": 2, \"linecolor\": \"white\", \"showbackground\": true, \"ticks\": \"\", \"zerolinecolor\": \"white\"}}, \"shapedefaults\": {\"line\": {\"color\": \"#2a3f5f\"}}, \"ternary\": {\"aaxis\": {\"gridcolor\": \"white\", \"linecolor\": \"white\", \"ticks\": \"\"}, \"baxis\": {\"gridcolor\": \"white\", \"linecolor\": \"white\", \"ticks\": \"\"}, \"bgcolor\": \"#E5ECF6\", \"caxis\": {\"gridcolor\": \"white\", \"linecolor\": \"white\", \"ticks\": \"\"}}, \"title\": {\"x\": 0.05}, \"xaxis\": {\"automargin\": true, \"gridcolor\": \"white\", \"linecolor\": \"white\", \"ticks\": \"\", \"zerolinecolor\": \"white\", \"zerolinewidth\": 2}, \"yaxis\": {\"automargin\": true, \"gridcolor\": \"white\", \"linecolor\": \"white\", \"ticks\": \"\", \"zerolinecolor\": \"white\", \"zerolinewidth\": 2}}}, \"title\": {\"text\": \"Correlation Between Predcitors and Student Count for Australia\"}, \"width\": 1000},\n",
       "                        {\"responsive\": true}\n",
       "                    ).then(function(){\n",
       "                            \n",
       "var gd = document.getElementById('4f77d056-19f8-4133-a77a-18d5fa2ec124');\n",
       "var x = new MutationObserver(function (mutations, observer) {{\n",
       "        var display = window.getComputedStyle(gd).display;\n",
       "        if (!display || display === 'none') {{\n",
       "            console.log([gd, 'removed!']);\n",
       "            Plotly.purge(gd);\n",
       "            observer.disconnect();\n",
       "        }}\n",
       "}});\n",
       "\n",
       "// Listen for the removal of the full notebook cells\n",
       "var notebookContainer = gd.closest('#notebook-container');\n",
       "if (notebookContainer) {{\n",
       "    x.observe(notebookContainer, {childList: true});\n",
       "}}\n",
       "\n",
       "// Listen for the clearing of the current output cell\n",
       "var outputEl = gd.closest('.output');\n",
       "if (outputEl) {{\n",
       "    x.observe(outputEl, {childList: true});\n",
       "}}\n",
       "\n",
       "                        })\n",
       "                };\n",
       "                });\n",
       "            </script>\n",
       "        </div>"
      ]
     },
     "metadata": {},
     "output_type": "display_data"
    }
   ],
   "source": [
    "corr_df = corr_df.T\n",
    "trace = go.Heatmap(z=corr_df.values,\n",
    "                   x=corr_df.columns.values,\n",
    "                   y=corr_df.index.values,\n",
    "                   colorscale='spectral',\n",
    "                   reversescale=True)\n",
    "\n",
    "layout = go.Layout(\n",
    "    title=\"Correlation Between Predcitors and Student Count for Australia\",\n",
    "    autosize=False,\n",
    "    width=1000,\n",
    "    height=1000)\n",
    "\n",
    "fig = go.Figure(data=trace, layout=layout)\n",
    "iplot(fig)"
   ]
  },
  {
   "cell_type": "code",
   "execution_count": null,
   "metadata": {
    "collapsed": true
   },
   "outputs": [],
   "source": []
  }
 ],
 "metadata": {
  "kernelspec": {
   "display_name": "PyCharm (Desktop)",
   "language": "python",
   "name": "pycharm-db28d4c2"
  },
  "language_info": {
   "codemirror_mode": {
    "name": "ipython",
    "version": 3
   },
   "file_extension": ".py",
   "mimetype": "text/x-python",
   "name": "python",
   "nbconvert_exporter": "python",
   "pygments_lexer": "ipython3",
   "version": "3.7.3"
  }
 },
 "nbformat": 4,
 "nbformat_minor": 2
}
