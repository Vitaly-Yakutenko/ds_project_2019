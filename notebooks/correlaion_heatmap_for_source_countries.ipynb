{
 "cells": [
  {
   "cell_type": "code",
   "execution_count": 1,
   "metadata": {
    "collapsed": false,
    "deletable": true,
    "editable": true
   },
   "outputs": [
    {
     "name": "stdout",
     "output_type": "stream",
     "text": [
      "/Users/shijunyi/Desktop/学习资料/U of Melbourne/2019 Sem2/Data Science Project/[6] code/python\r\n"
     ]
    }
   ],
   "source": [
    "import numpy as np\n",
    "import pandas as pd\n",
    "from scipy.stats import pearsonr\n",
    "import math\n",
    "import re\n",
    "import os\n",
    "%matplotlib inline\n",
    "import matplotlib\n",
    "import matplotlib.pyplot as plt\n",
    "import plotly\n",
    "import plotly.graph_objs as go\n",
    "from plotly.offline import download_plotlyjs, init_notebook_mode, plot, iplot\n",
    "!pwd"
   ]
  },
  {
   "cell_type": "code",
   "execution_count": 2,
   "metadata": {
    "collapsed": false,
    "deletable": true,
    "editable": true
   },
   "outputs": [
    {
     "data": {
      "text/html": [
       "        <script type=\"text/javascript\">\n",
       "        window.PlotlyConfig = {MathJaxConfig: 'local'};\n",
       "        if (window.MathJax) {MathJax.Hub.Config({SVG: {font: \"STIX-Web\"}});}\n",
       "        if (typeof require !== 'undefined') {\n",
       "        require.undef(\"plotly\");\n",
       "        requirejs.config({\n",
       "            paths: {\n",
       "                'plotly': ['https://cdn.plot.ly/plotly-latest.min']\n",
       "            }\n",
       "        });\n",
       "        require(['plotly'], function(Plotly) {\n",
       "            window._Plotly = Plotly;\n",
       "        });\n",
       "        }\n",
       "        </script>\n",
       "        "
      ]
     },
     "metadata": {},
     "output_type": "display_data"
    }
   ],
   "source": [
    "pd.options.display.precision = 2\n",
    "pd.options.display.max_columns = 50\n",
    "matplotlib.rcParams['figure.figsize'] = [15, 10]\n",
    "init_notebook_mode(connected=True)"
   ]
  },
  {
   "cell_type": "code",
   "execution_count": 3,
   "metadata": {
    "collapsed": true
   },
   "outputs": [],
   "source": [
    "src_countries = ['China', 'India', 'Indonesia', 'Malaysia']"
   ]
  },
  {
   "cell_type": "code",
   "execution_count": 5,
   "metadata": {
    "collapsed": false,
    "deletable": true,
    "editable": true
   },
   "outputs": [
    {
     "data": {
      "application/vnd.plotly.v1+json": {
       "config": {
        "linkText": "Export to plot.ly",
        "plotlyServerURL": "https://plot.ly",
        "showLink": false
       },
       "data": [
        {
         "colorscale": [
          [
           0,
           "rgb(158,1,66)"
          ],
          [
           0.1,
           "rgb(213,62,79)"
          ],
          [
           0.2,
           "rgb(244,109,67)"
          ],
          [
           0.3,
           "rgb(253,174,97)"
          ],
          [
           0.4,
           "rgb(254,224,139)"
          ],
          [
           0.5,
           "rgb(255,255,191)"
          ],
          [
           0.6,
           "rgb(230,245,152)"
          ],
          [
           0.7,
           "rgb(171,221,164)"
          ],
          [
           0.8,
           "rgb(102,194,165)"
          ],
          [
           0.9,
           "rgb(50,136,189)"
          ],
          [
           1,
           "rgb(94,79,162)"
          ]
         ],
         "reversescale": true,
         "type": "heatmap",
         "x": [
          "United States of America",
          "United Kingdom",
          "Australia",
          "Canada",
          "New Zealand"
         ],
         "y": [
          "year",
          "dst_average_wage",
          "dst_rate_of_one_usd",
          "dst_cpi",
          "dst_qoe_top20",
          "dst_qoe_top100",
          "dst_qoe_top200",
          "dst_qoe_top500",
          "src_population",
          "src_qoe_top20",
          "src_qoe_top100",
          "src_qoe_top200",
          "src_qoe_top500",
          "src_gni",
          "src_gdp",
          "src_rate_of_one_usd",
          "src_tertiary_enrolment",
          "year_1y_shift",
          "dst_students_count_1y_shift",
          "dst_average_wage_1y_shift",
          "dst_rate_of_one_usd_1y_shift",
          "dst_cpi_1y_shift",
          "dst_qoe_top20_1y_shift",
          "dst_qoe_top100_1y_shift",
          "dst_qoe_top200_1y_shift",
          "dst_qoe_top500_1y_shift",
          "src_population_1y_shift",
          "src_qoe_top20_1y_shift",
          "src_qoe_top100_1y_shift",
          "src_qoe_top200_1y_shift",
          "src_qoe_top500_1y_shift",
          "src_gni_1y_shift",
          "src_gdp_1y_shift",
          "src_rate_of_one_usd_1y_shift",
          "src_tertiary_enrolment_1y_shift",
          "year_2y_shift",
          "dst_students_count_2y_shift",
          "dst_average_wage_2y_shift",
          "dst_rate_of_one_usd_2y_shift",
          "dst_cpi_2y_shift",
          "dst_qoe_top20_2y_shift",
          "dst_qoe_top100_2y_shift",
          "dst_qoe_top200_2y_shift",
          "dst_qoe_top500_2y_shift",
          "src_population_2y_shift",
          "src_qoe_top20_2y_shift",
          "src_qoe_top100_2y_shift",
          "src_qoe_top200_2y_shift",
          "src_qoe_top500_2y_shift",
          "src_gni_2y_shift",
          "src_gdp_2y_shift",
          "src_rate_of_one_usd_2y_shift",
          "src_tertiary_enrolment_2y_shift"
         ],
         "z": [
          [
           0.940438935801971,
           0.9694469138408249,
           0.985871327367677,
           0.9463069244533603,
           0.48327564265117756
          ],
          [
           0.9119303465371351,
           0.7018765625006185,
           0.9579760683076135,
           0.8948336915404339,
           0.5276256496329961
          ],
          [
           null,
           null,
           -0.723674717089283,
           -0.4850200960005268,
           -0.5864759417789196
          ],
          [
           0.9120392807663258,
           0.94882432076773,
           0.984908685116133,
           0.9326666900474613,
           null
          ],
          [
           -0.875398192022071,
           0.8297502586861465,
           null,
           null,
           null
          ],
          [
           -0.8220089091781383,
           -0.9207180580019542,
           0.9640248131230746,
           null,
           null
          ],
          [
           -0.9192494551482331,
           null,
           0.9335075540034609,
           -0.6585645459111729,
           null
          ],
          [
           -0.9238211358070572,
           -0.8923735529814495,
           0.9751420852191461,
           -0.8487665493434822,
           -0.4441509621271339
          ],
          [
           0.921810448638012,
           0.9708318576193936,
           0.9803189160825763,
           0.9330708316458971,
           0.5188123016725866
          ],
          [
           null,
           null,
           null,
           null,
           null
          ],
          [
           0.4960124905131631,
           null,
           0.5529171795340525,
           0.5164950840991296,
           null
          ],
          [
           0.9650904692033904,
           0.8852903774330385,
           0.8827014690330239,
           0.9573125098433751,
           null
          ],
          [
           0.9324557490898693,
           0.9595152824052707,
           0.9882016924279967,
           0.9408147973924708,
           0.46901166503977265
          ],
          [
           0.9842325210110494,
           0.9179975658185132,
           0.9548254974191077,
           0.9689171594937885,
           null
          ],
          [
           0.978463776549086,
           0.9180385067921146,
           0.9594371141378849,
           0.9592892957387276,
           null
          ],
          [
           -0.8692011864174454,
           -0.8537295365110191,
           -0.9087177953641237,
           -0.8438658752533017,
           null
          ],
          [
           0.9759975155633921,
           0.9445934913064007,
           0.9333073803442702,
           0.9884411595733082,
           0.5117794012651379
          ],
          [
           0.9231867229556158,
           0.9493834893177757,
           0.6049269974955875,
           0.9305954084764718,
           null
          ],
          [
           0.9883700638130457,
           0.9886659720439929,
           0.7454182243405814,
           0.9911250040479586,
           0.8636658579862297
          ],
          [
           0.9049408996506404,
           0.6518512299125154,
           0.8366899387093203,
           0.8621360130778225,
           0.5079985485981611
          ],
          [
           null,
           null,
           -0.6970682907044291,
           null,
           null
          ],
          [
           0.8919430130237392,
           0.9271331634575726,
           0.7930958887232736,
           0.9233762912900247,
           0.47304236443682235
          ],
          [
           -0.9104190503459165,
           0.9136004924088854,
           null,
           null,
           null
          ],
          [
           -0.8275842274755484,
           -0.9463282195083066,
           0.7314206648362744,
           null,
           null
          ],
          [
           -0.9391152910040936,
           null,
           0.5975959164438173,
           -0.7142451699085339,
           null
          ],
          [
           -0.9211937680377041,
           -0.8699850938182913,
           0.7404190452043368,
           -0.8876882226456293,
           -0.49659058792291544
          ],
          [
           0.9180777050511847,
           0.9504336797263765,
           0.7845633559796726,
           0.9306423435244415,
           0.56644548355274
          ],
          [
           null,
           null,
           null,
           null,
           null
          ],
          [
           0.6831233923146622,
           null,
           null,
           0.6880851629656817,
           null
          ],
          [
           0.9801765239586993,
           0.9113357659692429,
           0.5717333495576835,
           0.9541550188962895,
           null
          ],
          [
           0.9275291766006657,
           0.9298077937309432,
           0.7590112163848108,
           0.9378096952862673,
           0.511177254929901
          ],
          [
           0.9683916580035965,
           0.9161038087047317,
           0.7134203803057715,
           0.9535175581390023,
           null
          ],
          [
           0.9561596758481378,
           0.9115676050721387,
           0.7152775662632789,
           0.941059084328132,
           null
          ],
          [
           -0.7979021816282291,
           -0.8271081780394179,
           -0.8305369650452271,
           -0.7895204066904179,
           null
          ],
          [
           0.9795114942319806,
           0.9442914197113683,
           0.6733450053431218,
           0.9865913583934985,
           0.5634021302853065
          ],
          [
           0.9144485158609094,
           0.9076866306634852,
           0.7784499413059003,
           0.9240562007171915,
           0.5204833905744578
          ],
          [
           0.9689463070106844,
           0.964193154022525,
           0.7523797117202929,
           0.9736765288638701,
           0.5799575521684278
          ],
          [
           0.8920401223623936,
           0.5618969341573183,
           0.8125963902835801,
           0.8204480448042925,
           null
          ],
          [
           null,
           null,
           -0.7686756691648731,
           null,
           null
          ],
          [
           0.8687647410964497,
           0.8831476699159102,
           0.789909903611361,
           0.9091317239668174,
           0.46165749691340413
          ],
          [
           -0.9367110837649757,
           0.9120915807173691,
           null,
           null,
           null
          ],
          [
           -0.8280374912159744,
           -0.9132025781979936,
           0.6740582125779634,
           null,
           null
          ],
          [
           -0.9483360587407224,
           null,
           0.7625060535668781,
           -0.7484562129526982,
           null
          ],
          [
           -0.9142402406924865,
           -0.8363793164494917,
           0.6925480068441847,
           -0.909705794434112,
           null
          ],
          [
           0.9062546967936759,
           0.9082038121313021,
           0.7885142835537371,
           0.9191532430482899,
           0.5528450637652205
          ],
          [
           null,
           null,
           null,
           null,
           null
          ],
          [
           0.7938442549416892,
           null,
           null,
           0.8024984798693742,
           null
          ],
          [
           0.9634020142588393,
           0.9193996624229829,
           0.5178309665972597,
           0.9453197684093941,
           null
          ],
          [
           0.914537340535949,
           0.8733144598283086,
           0.7436435310808284,
           0.9357848914335777,
           0.47718595061934244
          ],
          [
           0.9430029893488157,
           0.8918974218694609,
           0.6831642196593778,
           0.9314527316023414,
           null
          ],
          [
           0.9274476306326528,
           0.8845020141584018,
           0.7025687927100955,
           0.9168808121326926,
           null
          ],
          [
           -0.728383903768339,
           -0.7670183250331892,
           -0.8148683628046651,
           -0.733039375999578,
           null
          ],
          [
           0.9753035738588649,
           0.93057389732346,
           0.6578951739527662,
           0.9700552434468488,
           0.532626022398323
          ]
         ]
        }
       ],
       "layout": {
        "autosize": false,
        "height": 1000,
        "template": {
         "data": {
          "bar": [
           {
            "error_x": {
             "color": "#2a3f5f"
            },
            "error_y": {
             "color": "#2a3f5f"
            },
            "marker": {
             "line": {
              "color": "#E5ECF6",
              "width": 0.5
             }
            },
            "type": "bar"
           }
          ],
          "barpolar": [
           {
            "marker": {
             "line": {
              "color": "#E5ECF6",
              "width": 0.5
             }
            },
            "type": "barpolar"
           }
          ],
          "carpet": [
           {
            "aaxis": {
             "endlinecolor": "#2a3f5f",
             "gridcolor": "white",
             "linecolor": "white",
             "minorgridcolor": "white",
             "startlinecolor": "#2a3f5f"
            },
            "baxis": {
             "endlinecolor": "#2a3f5f",
             "gridcolor": "white",
             "linecolor": "white",
             "minorgridcolor": "white",
             "startlinecolor": "#2a3f5f"
            },
            "type": "carpet"
           }
          ],
          "choropleth": [
           {
            "colorbar": {
             "outlinewidth": 0,
             "ticks": ""
            },
            "type": "choropleth"
           }
          ],
          "contour": [
           {
            "colorbar": {
             "outlinewidth": 0,
             "ticks": ""
            },
            "colorscale": [
             [
              0,
              "#0d0887"
             ],
             [
              0.1111111111111111,
              "#46039f"
             ],
             [
              0.2222222222222222,
              "#7201a8"
             ],
             [
              0.3333333333333333,
              "#9c179e"
             ],
             [
              0.4444444444444444,
              "#bd3786"
             ],
             [
              0.5555555555555556,
              "#d8576b"
             ],
             [
              0.6666666666666666,
              "#ed7953"
             ],
             [
              0.7777777777777778,
              "#fb9f3a"
             ],
             [
              0.8888888888888888,
              "#fdca26"
             ],
             [
              1,
              "#f0f921"
             ]
            ],
            "type": "contour"
           }
          ],
          "contourcarpet": [
           {
            "colorbar": {
             "outlinewidth": 0,
             "ticks": ""
            },
            "type": "contourcarpet"
           }
          ],
          "heatmap": [
           {
            "colorbar": {
             "outlinewidth": 0,
             "ticks": ""
            },
            "colorscale": [
             [
              0,
              "#0d0887"
             ],
             [
              0.1111111111111111,
              "#46039f"
             ],
             [
              0.2222222222222222,
              "#7201a8"
             ],
             [
              0.3333333333333333,
              "#9c179e"
             ],
             [
              0.4444444444444444,
              "#bd3786"
             ],
             [
              0.5555555555555556,
              "#d8576b"
             ],
             [
              0.6666666666666666,
              "#ed7953"
             ],
             [
              0.7777777777777778,
              "#fb9f3a"
             ],
             [
              0.8888888888888888,
              "#fdca26"
             ],
             [
              1,
              "#f0f921"
             ]
            ],
            "type": "heatmap"
           }
          ],
          "heatmapgl": [
           {
            "colorbar": {
             "outlinewidth": 0,
             "ticks": ""
            },
            "colorscale": [
             [
              0,
              "#0d0887"
             ],
             [
              0.1111111111111111,
              "#46039f"
             ],
             [
              0.2222222222222222,
              "#7201a8"
             ],
             [
              0.3333333333333333,
              "#9c179e"
             ],
             [
              0.4444444444444444,
              "#bd3786"
             ],
             [
              0.5555555555555556,
              "#d8576b"
             ],
             [
              0.6666666666666666,
              "#ed7953"
             ],
             [
              0.7777777777777778,
              "#fb9f3a"
             ],
             [
              0.8888888888888888,
              "#fdca26"
             ],
             [
              1,
              "#f0f921"
             ]
            ],
            "type": "heatmapgl"
           }
          ],
          "histogram": [
           {
            "marker": {
             "colorbar": {
              "outlinewidth": 0,
              "ticks": ""
             }
            },
            "type": "histogram"
           }
          ],
          "histogram2d": [
           {
            "colorbar": {
             "outlinewidth": 0,
             "ticks": ""
            },
            "colorscale": [
             [
              0,
              "#0d0887"
             ],
             [
              0.1111111111111111,
              "#46039f"
             ],
             [
              0.2222222222222222,
              "#7201a8"
             ],
             [
              0.3333333333333333,
              "#9c179e"
             ],
             [
              0.4444444444444444,
              "#bd3786"
             ],
             [
              0.5555555555555556,
              "#d8576b"
             ],
             [
              0.6666666666666666,
              "#ed7953"
             ],
             [
              0.7777777777777778,
              "#fb9f3a"
             ],
             [
              0.8888888888888888,
              "#fdca26"
             ],
             [
              1,
              "#f0f921"
             ]
            ],
            "type": "histogram2d"
           }
          ],
          "histogram2dcontour": [
           {
            "colorbar": {
             "outlinewidth": 0,
             "ticks": ""
            },
            "colorscale": [
             [
              0,
              "#0d0887"
             ],
             [
              0.1111111111111111,
              "#46039f"
             ],
             [
              0.2222222222222222,
              "#7201a8"
             ],
             [
              0.3333333333333333,
              "#9c179e"
             ],
             [
              0.4444444444444444,
              "#bd3786"
             ],
             [
              0.5555555555555556,
              "#d8576b"
             ],
             [
              0.6666666666666666,
              "#ed7953"
             ],
             [
              0.7777777777777778,
              "#fb9f3a"
             ],
             [
              0.8888888888888888,
              "#fdca26"
             ],
             [
              1,
              "#f0f921"
             ]
            ],
            "type": "histogram2dcontour"
           }
          ],
          "mesh3d": [
           {
            "colorbar": {
             "outlinewidth": 0,
             "ticks": ""
            },
            "type": "mesh3d"
           }
          ],
          "parcoords": [
           {
            "line": {
             "colorbar": {
              "outlinewidth": 0,
              "ticks": ""
             }
            },
            "type": "parcoords"
           }
          ],
          "scatter": [
           {
            "marker": {
             "colorbar": {
              "outlinewidth": 0,
              "ticks": ""
             }
            },
            "type": "scatter"
           }
          ],
          "scatter3d": [
           {
            "line": {
             "colorbar": {
              "outlinewidth": 0,
              "ticks": ""
             }
            },
            "marker": {
             "colorbar": {
              "outlinewidth": 0,
              "ticks": ""
             }
            },
            "type": "scatter3d"
           }
          ],
          "scattercarpet": [
           {
            "marker": {
             "colorbar": {
              "outlinewidth": 0,
              "ticks": ""
             }
            },
            "type": "scattercarpet"
           }
          ],
          "scattergeo": [
           {
            "marker": {
             "colorbar": {
              "outlinewidth": 0,
              "ticks": ""
             }
            },
            "type": "scattergeo"
           }
          ],
          "scattergl": [
           {
            "marker": {
             "colorbar": {
              "outlinewidth": 0,
              "ticks": ""
             }
            },
            "type": "scattergl"
           }
          ],
          "scattermapbox": [
           {
            "marker": {
             "colorbar": {
              "outlinewidth": 0,
              "ticks": ""
             }
            },
            "type": "scattermapbox"
           }
          ],
          "scatterpolar": [
           {
            "marker": {
             "colorbar": {
              "outlinewidth": 0,
              "ticks": ""
             }
            },
            "type": "scatterpolar"
           }
          ],
          "scatterpolargl": [
           {
            "marker": {
             "colorbar": {
              "outlinewidth": 0,
              "ticks": ""
             }
            },
            "type": "scatterpolargl"
           }
          ],
          "scatterternary": [
           {
            "marker": {
             "colorbar": {
              "outlinewidth": 0,
              "ticks": ""
             }
            },
            "type": "scatterternary"
           }
          ],
          "surface": [
           {
            "colorbar": {
             "outlinewidth": 0,
             "ticks": ""
            },
            "colorscale": [
             [
              0,
              "#0d0887"
             ],
             [
              0.1111111111111111,
              "#46039f"
             ],
             [
              0.2222222222222222,
              "#7201a8"
             ],
             [
              0.3333333333333333,
              "#9c179e"
             ],
             [
              0.4444444444444444,
              "#bd3786"
             ],
             [
              0.5555555555555556,
              "#d8576b"
             ],
             [
              0.6666666666666666,
              "#ed7953"
             ],
             [
              0.7777777777777778,
              "#fb9f3a"
             ],
             [
              0.8888888888888888,
              "#fdca26"
             ],
             [
              1,
              "#f0f921"
             ]
            ],
            "type": "surface"
           }
          ],
          "table": [
           {
            "cells": {
             "fill": {
              "color": "#EBF0F8"
             },
             "line": {
              "color": "white"
             }
            },
            "header": {
             "fill": {
              "color": "#C8D4E3"
             },
             "line": {
              "color": "white"
             }
            },
            "type": "table"
           }
          ]
         },
         "layout": {
          "annotationdefaults": {
           "arrowcolor": "#2a3f5f",
           "arrowhead": 0,
           "arrowwidth": 1
          },
          "colorscale": {
           "diverging": [
            [
             0,
             "#8e0152"
            ],
            [
             0.1,
             "#c51b7d"
            ],
            [
             0.2,
             "#de77ae"
            ],
            [
             0.3,
             "#f1b6da"
            ],
            [
             0.4,
             "#fde0ef"
            ],
            [
             0.5,
             "#f7f7f7"
            ],
            [
             0.6,
             "#e6f5d0"
            ],
            [
             0.7,
             "#b8e186"
            ],
            [
             0.8,
             "#7fbc41"
            ],
            [
             0.9,
             "#4d9221"
            ],
            [
             1,
             "#276419"
            ]
           ],
           "sequential": [
            [
             0,
             "#0d0887"
            ],
            [
             0.1111111111111111,
             "#46039f"
            ],
            [
             0.2222222222222222,
             "#7201a8"
            ],
            [
             0.3333333333333333,
             "#9c179e"
            ],
            [
             0.4444444444444444,
             "#bd3786"
            ],
            [
             0.5555555555555556,
             "#d8576b"
            ],
            [
             0.6666666666666666,
             "#ed7953"
            ],
            [
             0.7777777777777778,
             "#fb9f3a"
            ],
            [
             0.8888888888888888,
             "#fdca26"
            ],
            [
             1,
             "#f0f921"
            ]
           ],
           "sequentialminus": [
            [
             0,
             "#0d0887"
            ],
            [
             0.1111111111111111,
             "#46039f"
            ],
            [
             0.2222222222222222,
             "#7201a8"
            ],
            [
             0.3333333333333333,
             "#9c179e"
            ],
            [
             0.4444444444444444,
             "#bd3786"
            ],
            [
             0.5555555555555556,
             "#d8576b"
            ],
            [
             0.6666666666666666,
             "#ed7953"
            ],
            [
             0.7777777777777778,
             "#fb9f3a"
            ],
            [
             0.8888888888888888,
             "#fdca26"
            ],
            [
             1,
             "#f0f921"
            ]
           ]
          },
          "colorway": [
           "#636efa",
           "#EF553B",
           "#00cc96",
           "#ab63fa",
           "#FFA15A",
           "#19d3f3",
           "#FF6692",
           "#B6E880",
           "#FF97FF",
           "#FECB52"
          ],
          "font": {
           "color": "#2a3f5f"
          },
          "geo": {
           "bgcolor": "white",
           "lakecolor": "white",
           "landcolor": "#E5ECF6",
           "showlakes": true,
           "showland": true,
           "subunitcolor": "white"
          },
          "hoverlabel": {
           "align": "left"
          },
          "hovermode": "closest",
          "mapbox": {
           "style": "light"
          },
          "paper_bgcolor": "white",
          "plot_bgcolor": "#E5ECF6",
          "polar": {
           "angularaxis": {
            "gridcolor": "white",
            "linecolor": "white",
            "ticks": ""
           },
           "bgcolor": "#E5ECF6",
           "radialaxis": {
            "gridcolor": "white",
            "linecolor": "white",
            "ticks": ""
           }
          },
          "scene": {
           "xaxis": {
            "backgroundcolor": "#E5ECF6",
            "gridcolor": "white",
            "gridwidth": 2,
            "linecolor": "white",
            "showbackground": true,
            "ticks": "",
            "zerolinecolor": "white"
           },
           "yaxis": {
            "backgroundcolor": "#E5ECF6",
            "gridcolor": "white",
            "gridwidth": 2,
            "linecolor": "white",
            "showbackground": true,
            "ticks": "",
            "zerolinecolor": "white"
           },
           "zaxis": {
            "backgroundcolor": "#E5ECF6",
            "gridcolor": "white",
            "gridwidth": 2,
            "linecolor": "white",
            "showbackground": true,
            "ticks": "",
            "zerolinecolor": "white"
           }
          },
          "shapedefaults": {
           "line": {
            "color": "#2a3f5f"
           }
          },
          "ternary": {
           "aaxis": {
            "gridcolor": "white",
            "linecolor": "white",
            "ticks": ""
           },
           "baxis": {
            "gridcolor": "white",
            "linecolor": "white",
            "ticks": ""
           },
           "bgcolor": "#E5ECF6",
           "caxis": {
            "gridcolor": "white",
            "linecolor": "white",
            "ticks": ""
           }
          },
          "title": {
           "x": 0.05
          },
          "xaxis": {
           "automargin": true,
           "gridcolor": "white",
           "linecolor": "white",
           "ticks": "",
           "zerolinecolor": "white",
           "zerolinewidth": 2
          },
          "yaxis": {
           "automargin": true,
           "gridcolor": "white",
           "linecolor": "white",
           "ticks": "",
           "zerolinecolor": "white",
           "zerolinewidth": 2
          }
         }
        },
        "title": {
         "text": "Correlation Between Predcitors and Student Count from China"
        },
        "width": 1000
       }
      },
      "text/html": [
       "<div>\n",
       "        \n",
       "        \n",
       "            <div id=\"1a28cf90-b2c6-49a1-a673-0a452092345c\" class=\"plotly-graph-div\" style=\"height:1000px; width:1000px;\"></div>\n",
       "            <script type=\"text/javascript\">\n",
       "                require([\"plotly\"], function(Plotly) {\n",
       "                    window.PLOTLYENV=window.PLOTLYENV || {};\n",
       "                    \n",
       "                if (document.getElementById(\"1a28cf90-b2c6-49a1-a673-0a452092345c\")) {\n",
       "                    Plotly.newPlot(\n",
       "                        '1a28cf90-b2c6-49a1-a673-0a452092345c',\n",
       "                        [{\"colorscale\": [[0.0, \"rgb(158,1,66)\"], [0.1, \"rgb(213,62,79)\"], [0.2, \"rgb(244,109,67)\"], [0.3, \"rgb(253,174,97)\"], [0.4, \"rgb(254,224,139)\"], [0.5, \"rgb(255,255,191)\"], [0.6, \"rgb(230,245,152)\"], [0.7, \"rgb(171,221,164)\"], [0.8, \"rgb(102,194,165)\"], [0.9, \"rgb(50,136,189)\"], [1.0, \"rgb(94,79,162)\"]], \"reversescale\": true, \"type\": \"heatmap\", \"x\": [\"United States of America\", \"United Kingdom\", \"Australia\", \"Canada\", \"New Zealand\"], \"y\": [\"year\", \"dst_average_wage\", \"dst_rate_of_one_usd\", \"dst_cpi\", \"dst_qoe_top20\", \"dst_qoe_top100\", \"dst_qoe_top200\", \"dst_qoe_top500\", \"src_population\", \"src_qoe_top20\", \"src_qoe_top100\", \"src_qoe_top200\", \"src_qoe_top500\", \"src_gni\", \"src_gdp\", \"src_rate_of_one_usd\", \"src_tertiary_enrolment\", \"year_1y_shift\", \"dst_students_count_1y_shift\", \"dst_average_wage_1y_shift\", \"dst_rate_of_one_usd_1y_shift\", \"dst_cpi_1y_shift\", \"dst_qoe_top20_1y_shift\", \"dst_qoe_top100_1y_shift\", \"dst_qoe_top200_1y_shift\", \"dst_qoe_top500_1y_shift\", \"src_population_1y_shift\", \"src_qoe_top20_1y_shift\", \"src_qoe_top100_1y_shift\", \"src_qoe_top200_1y_shift\", \"src_qoe_top500_1y_shift\", \"src_gni_1y_shift\", \"src_gdp_1y_shift\", \"src_rate_of_one_usd_1y_shift\", \"src_tertiary_enrolment_1y_shift\", \"year_2y_shift\", \"dst_students_count_2y_shift\", \"dst_average_wage_2y_shift\", \"dst_rate_of_one_usd_2y_shift\", \"dst_cpi_2y_shift\", \"dst_qoe_top20_2y_shift\", \"dst_qoe_top100_2y_shift\", \"dst_qoe_top200_2y_shift\", \"dst_qoe_top500_2y_shift\", \"src_population_2y_shift\", \"src_qoe_top20_2y_shift\", \"src_qoe_top100_2y_shift\", \"src_qoe_top200_2y_shift\", \"src_qoe_top500_2y_shift\", \"src_gni_2y_shift\", \"src_gdp_2y_shift\", \"src_rate_of_one_usd_2y_shift\", \"src_tertiary_enrolment_2y_shift\"], \"z\": [[0.940438935801971, 0.9694469138408249, 0.985871327367677, 0.9463069244533603, 0.48327564265117756], [0.9119303465371351, 0.7018765625006185, 0.9579760683076135, 0.8948336915404339, 0.5276256496329961], [null, null, -0.723674717089283, -0.4850200960005268, -0.5864759417789196], [0.9120392807663258, 0.94882432076773, 0.984908685116133, 0.9326666900474613, null], [-0.875398192022071, 0.8297502586861465, null, null, null], [-0.8220089091781383, -0.9207180580019542, 0.9640248131230746, null, null], [-0.9192494551482331, null, 0.9335075540034609, -0.6585645459111729, null], [-0.9238211358070572, -0.8923735529814495, 0.9751420852191461, -0.8487665493434822, -0.4441509621271339], [0.921810448638012, 0.9708318576193936, 0.9803189160825763, 0.9330708316458971, 0.5188123016725866], [null, null, null, null, null], [0.4960124905131631, null, 0.5529171795340525, 0.5164950840991296, null], [0.9650904692033904, 0.8852903774330385, 0.8827014690330239, 0.9573125098433751, null], [0.9324557490898693, 0.9595152824052707, 0.9882016924279967, 0.9408147973924708, 0.46901166503977265], [0.9842325210110494, 0.9179975658185132, 0.9548254974191077, 0.9689171594937885, null], [0.978463776549086, 0.9180385067921146, 0.9594371141378849, 0.9592892957387276, null], [-0.8692011864174454, -0.8537295365110191, -0.9087177953641237, -0.8438658752533017, null], [0.9759975155633921, 0.9445934913064007, 0.9333073803442702, 0.9884411595733082, 0.5117794012651379], [0.9231867229556158, 0.9493834893177757, 0.6049269974955875, 0.9305954084764718, null], [0.9883700638130457, 0.9886659720439929, 0.7454182243405814, 0.9911250040479586, 0.8636658579862297], [0.9049408996506404, 0.6518512299125154, 0.8366899387093203, 0.8621360130778225, 0.5079985485981611], [null, null, -0.6970682907044291, null, null], [0.8919430130237392, 0.9271331634575726, 0.7930958887232736, 0.9233762912900247, 0.47304236443682235], [-0.9104190503459165, 0.9136004924088854, null, null, null], [-0.8275842274755484, -0.9463282195083066, 0.7314206648362744, null, null], [-0.9391152910040936, null, 0.5975959164438173, -0.7142451699085339, null], [-0.9211937680377041, -0.8699850938182913, 0.7404190452043368, -0.8876882226456293, -0.49659058792291544], [0.9180777050511847, 0.9504336797263765, 0.7845633559796726, 0.9306423435244415, 0.56644548355274], [null, null, null, null, null], [0.6831233923146622, null, null, 0.6880851629656817, null], [0.9801765239586993, 0.9113357659692429, 0.5717333495576835, 0.9541550188962895, null], [0.9275291766006657, 0.9298077937309432, 0.7590112163848108, 0.9378096952862673, 0.511177254929901], [0.9683916580035965, 0.9161038087047317, 0.7134203803057715, 0.9535175581390023, null], [0.9561596758481378, 0.9115676050721387, 0.7152775662632789, 0.941059084328132, null], [-0.7979021816282291, -0.8271081780394179, -0.8305369650452271, -0.7895204066904179, null], [0.9795114942319806, 0.9442914197113683, 0.6733450053431218, 0.9865913583934985, 0.5634021302853065], [0.9144485158609094, 0.9076866306634852, 0.7784499413059003, 0.9240562007171915, 0.5204833905744578], [0.9689463070106844, 0.964193154022525, 0.7523797117202929, 0.9736765288638701, 0.5799575521684278], [0.8920401223623936, 0.5618969341573183, 0.8125963902835801, 0.8204480448042925, null], [null, null, -0.7686756691648731, null, null], [0.8687647410964497, 0.8831476699159102, 0.789909903611361, 0.9091317239668174, 0.46165749691340413], [-0.9367110837649757, 0.9120915807173691, null, null, null], [-0.8280374912159744, -0.9132025781979936, 0.6740582125779634, null, null], [-0.9483360587407224, null, 0.7625060535668781, -0.7484562129526982, null], [-0.9142402406924865, -0.8363793164494917, 0.6925480068441847, -0.909705794434112, null], [0.9062546967936759, 0.9082038121313021, 0.7885142835537371, 0.9191532430482899, 0.5528450637652205], [null, null, null, null, null], [0.7938442549416892, null, null, 0.8024984798693742, null], [0.9634020142588393, 0.9193996624229829, 0.5178309665972597, 0.9453197684093941, null], [0.914537340535949, 0.8733144598283086, 0.7436435310808284, 0.9357848914335777, 0.47718595061934244], [0.9430029893488157, 0.8918974218694609, 0.6831642196593778, 0.9314527316023414, null], [0.9274476306326528, 0.8845020141584018, 0.7025687927100955, 0.9168808121326926, null], [-0.728383903768339, -0.7670183250331892, -0.8148683628046651, -0.733039375999578, null], [0.9753035738588649, 0.93057389732346, 0.6578951739527662, 0.9700552434468488, 0.532626022398323]]}],\n",
       "                        {\"autosize\": false, \"height\": 1000, \"template\": {\"data\": {\"bar\": [{\"error_x\": {\"color\": \"#2a3f5f\"}, \"error_y\": {\"color\": \"#2a3f5f\"}, \"marker\": {\"line\": {\"color\": \"#E5ECF6\", \"width\": 0.5}}, \"type\": \"bar\"}], \"barpolar\": [{\"marker\": {\"line\": {\"color\": \"#E5ECF6\", \"width\": 0.5}}, \"type\": \"barpolar\"}], \"carpet\": [{\"aaxis\": {\"endlinecolor\": \"#2a3f5f\", \"gridcolor\": \"white\", \"linecolor\": \"white\", \"minorgridcolor\": \"white\", \"startlinecolor\": \"#2a3f5f\"}, \"baxis\": {\"endlinecolor\": \"#2a3f5f\", \"gridcolor\": \"white\", \"linecolor\": \"white\", \"minorgridcolor\": \"white\", \"startlinecolor\": \"#2a3f5f\"}, \"type\": \"carpet\"}], \"choropleth\": [{\"colorbar\": {\"outlinewidth\": 0, \"ticks\": \"\"}, \"type\": \"choropleth\"}], \"contour\": [{\"colorbar\": {\"outlinewidth\": 0, \"ticks\": \"\"}, \"colorscale\": [[0.0, \"#0d0887\"], [0.1111111111111111, \"#46039f\"], [0.2222222222222222, \"#7201a8\"], [0.3333333333333333, \"#9c179e\"], [0.4444444444444444, \"#bd3786\"], [0.5555555555555556, \"#d8576b\"], [0.6666666666666666, \"#ed7953\"], [0.7777777777777778, \"#fb9f3a\"], [0.8888888888888888, \"#fdca26\"], [1.0, \"#f0f921\"]], \"type\": \"contour\"}], \"contourcarpet\": [{\"colorbar\": {\"outlinewidth\": 0, \"ticks\": \"\"}, \"type\": \"contourcarpet\"}], \"heatmap\": [{\"colorbar\": {\"outlinewidth\": 0, \"ticks\": \"\"}, \"colorscale\": [[0.0, \"#0d0887\"], [0.1111111111111111, \"#46039f\"], [0.2222222222222222, \"#7201a8\"], [0.3333333333333333, \"#9c179e\"], [0.4444444444444444, \"#bd3786\"], [0.5555555555555556, \"#d8576b\"], [0.6666666666666666, \"#ed7953\"], [0.7777777777777778, \"#fb9f3a\"], [0.8888888888888888, \"#fdca26\"], [1.0, \"#f0f921\"]], \"type\": \"heatmap\"}], \"heatmapgl\": [{\"colorbar\": {\"outlinewidth\": 0, \"ticks\": \"\"}, \"colorscale\": [[0.0, \"#0d0887\"], [0.1111111111111111, \"#46039f\"], [0.2222222222222222, \"#7201a8\"], [0.3333333333333333, \"#9c179e\"], [0.4444444444444444, \"#bd3786\"], [0.5555555555555556, \"#d8576b\"], [0.6666666666666666, \"#ed7953\"], [0.7777777777777778, \"#fb9f3a\"], [0.8888888888888888, \"#fdca26\"], [1.0, \"#f0f921\"]], \"type\": \"heatmapgl\"}], \"histogram\": [{\"marker\": {\"colorbar\": {\"outlinewidth\": 0, \"ticks\": \"\"}}, \"type\": \"histogram\"}], \"histogram2d\": [{\"colorbar\": {\"outlinewidth\": 0, \"ticks\": \"\"}, \"colorscale\": [[0.0, \"#0d0887\"], [0.1111111111111111, \"#46039f\"], [0.2222222222222222, \"#7201a8\"], [0.3333333333333333, \"#9c179e\"], [0.4444444444444444, \"#bd3786\"], [0.5555555555555556, \"#d8576b\"], [0.6666666666666666, \"#ed7953\"], [0.7777777777777778, \"#fb9f3a\"], [0.8888888888888888, \"#fdca26\"], [1.0, \"#f0f921\"]], \"type\": \"histogram2d\"}], \"histogram2dcontour\": [{\"colorbar\": {\"outlinewidth\": 0, \"ticks\": \"\"}, \"colorscale\": [[0.0, \"#0d0887\"], [0.1111111111111111, \"#46039f\"], [0.2222222222222222, \"#7201a8\"], [0.3333333333333333, \"#9c179e\"], [0.4444444444444444, \"#bd3786\"], [0.5555555555555556, \"#d8576b\"], [0.6666666666666666, \"#ed7953\"], [0.7777777777777778, \"#fb9f3a\"], [0.8888888888888888, \"#fdca26\"], [1.0, \"#f0f921\"]], \"type\": \"histogram2dcontour\"}], \"mesh3d\": [{\"colorbar\": {\"outlinewidth\": 0, \"ticks\": \"\"}, \"type\": \"mesh3d\"}], \"parcoords\": [{\"line\": {\"colorbar\": {\"outlinewidth\": 0, \"ticks\": \"\"}}, \"type\": \"parcoords\"}], \"scatter\": [{\"marker\": {\"colorbar\": {\"outlinewidth\": 0, \"ticks\": \"\"}}, \"type\": \"scatter\"}], \"scatter3d\": [{\"line\": {\"colorbar\": {\"outlinewidth\": 0, \"ticks\": \"\"}}, \"marker\": {\"colorbar\": {\"outlinewidth\": 0, \"ticks\": \"\"}}, \"type\": \"scatter3d\"}], \"scattercarpet\": [{\"marker\": {\"colorbar\": {\"outlinewidth\": 0, \"ticks\": \"\"}}, \"type\": \"scattercarpet\"}], \"scattergeo\": [{\"marker\": {\"colorbar\": {\"outlinewidth\": 0, \"ticks\": \"\"}}, \"type\": \"scattergeo\"}], \"scattergl\": [{\"marker\": {\"colorbar\": {\"outlinewidth\": 0, \"ticks\": \"\"}}, \"type\": \"scattergl\"}], \"scattermapbox\": [{\"marker\": {\"colorbar\": {\"outlinewidth\": 0, \"ticks\": \"\"}}, \"type\": \"scattermapbox\"}], \"scatterpolar\": [{\"marker\": {\"colorbar\": {\"outlinewidth\": 0, \"ticks\": \"\"}}, \"type\": \"scatterpolar\"}], \"scatterpolargl\": [{\"marker\": {\"colorbar\": {\"outlinewidth\": 0, \"ticks\": \"\"}}, \"type\": \"scatterpolargl\"}], \"scatterternary\": [{\"marker\": {\"colorbar\": {\"outlinewidth\": 0, \"ticks\": \"\"}}, \"type\": \"scatterternary\"}], \"surface\": [{\"colorbar\": {\"outlinewidth\": 0, \"ticks\": \"\"}, \"colorscale\": [[0.0, \"#0d0887\"], [0.1111111111111111, \"#46039f\"], [0.2222222222222222, \"#7201a8\"], [0.3333333333333333, \"#9c179e\"], [0.4444444444444444, \"#bd3786\"], [0.5555555555555556, \"#d8576b\"], [0.6666666666666666, \"#ed7953\"], [0.7777777777777778, \"#fb9f3a\"], [0.8888888888888888, \"#fdca26\"], [1.0, \"#f0f921\"]], \"type\": \"surface\"}], \"table\": [{\"cells\": {\"fill\": {\"color\": \"#EBF0F8\"}, \"line\": {\"color\": \"white\"}}, \"header\": {\"fill\": {\"color\": \"#C8D4E3\"}, \"line\": {\"color\": \"white\"}}, \"type\": \"table\"}]}, \"layout\": {\"annotationdefaults\": {\"arrowcolor\": \"#2a3f5f\", \"arrowhead\": 0, \"arrowwidth\": 1}, \"colorscale\": {\"diverging\": [[0, \"#8e0152\"], [0.1, \"#c51b7d\"], [0.2, \"#de77ae\"], [0.3, \"#f1b6da\"], [0.4, \"#fde0ef\"], [0.5, \"#f7f7f7\"], [0.6, \"#e6f5d0\"], [0.7, \"#b8e186\"], [0.8, \"#7fbc41\"], [0.9, \"#4d9221\"], [1, \"#276419\"]], \"sequential\": [[0.0, \"#0d0887\"], [0.1111111111111111, \"#46039f\"], [0.2222222222222222, \"#7201a8\"], [0.3333333333333333, \"#9c179e\"], [0.4444444444444444, \"#bd3786\"], [0.5555555555555556, \"#d8576b\"], [0.6666666666666666, \"#ed7953\"], [0.7777777777777778, \"#fb9f3a\"], [0.8888888888888888, \"#fdca26\"], [1.0, \"#f0f921\"]], \"sequentialminus\": [[0.0, \"#0d0887\"], [0.1111111111111111, \"#46039f\"], [0.2222222222222222, \"#7201a8\"], [0.3333333333333333, \"#9c179e\"], [0.4444444444444444, \"#bd3786\"], [0.5555555555555556, \"#d8576b\"], [0.6666666666666666, \"#ed7953\"], [0.7777777777777778, \"#fb9f3a\"], [0.8888888888888888, \"#fdca26\"], [1.0, \"#f0f921\"]]}, \"colorway\": [\"#636efa\", \"#EF553B\", \"#00cc96\", \"#ab63fa\", \"#FFA15A\", \"#19d3f3\", \"#FF6692\", \"#B6E880\", \"#FF97FF\", \"#FECB52\"], \"font\": {\"color\": \"#2a3f5f\"}, \"geo\": {\"bgcolor\": \"white\", \"lakecolor\": \"white\", \"landcolor\": \"#E5ECF6\", \"showlakes\": true, \"showland\": true, \"subunitcolor\": \"white\"}, \"hoverlabel\": {\"align\": \"left\"}, \"hovermode\": \"closest\", \"mapbox\": {\"style\": \"light\"}, \"paper_bgcolor\": \"white\", \"plot_bgcolor\": \"#E5ECF6\", \"polar\": {\"angularaxis\": {\"gridcolor\": \"white\", \"linecolor\": \"white\", \"ticks\": \"\"}, \"bgcolor\": \"#E5ECF6\", \"radialaxis\": {\"gridcolor\": \"white\", \"linecolor\": \"white\", \"ticks\": \"\"}}, \"scene\": {\"xaxis\": {\"backgroundcolor\": \"#E5ECF6\", \"gridcolor\": \"white\", \"gridwidth\": 2, \"linecolor\": \"white\", \"showbackground\": true, \"ticks\": \"\", \"zerolinecolor\": \"white\"}, \"yaxis\": {\"backgroundcolor\": \"#E5ECF6\", \"gridcolor\": \"white\", \"gridwidth\": 2, \"linecolor\": \"white\", \"showbackground\": true, \"ticks\": \"\", \"zerolinecolor\": \"white\"}, \"zaxis\": {\"backgroundcolor\": \"#E5ECF6\", \"gridcolor\": \"white\", \"gridwidth\": 2, \"linecolor\": \"white\", \"showbackground\": true, \"ticks\": \"\", \"zerolinecolor\": \"white\"}}, \"shapedefaults\": {\"line\": {\"color\": \"#2a3f5f\"}}, \"ternary\": {\"aaxis\": {\"gridcolor\": \"white\", \"linecolor\": \"white\", \"ticks\": \"\"}, \"baxis\": {\"gridcolor\": \"white\", \"linecolor\": \"white\", \"ticks\": \"\"}, \"bgcolor\": \"#E5ECF6\", \"caxis\": {\"gridcolor\": \"white\", \"linecolor\": \"white\", \"ticks\": \"\"}}, \"title\": {\"x\": 0.05}, \"xaxis\": {\"automargin\": true, \"gridcolor\": \"white\", \"linecolor\": \"white\", \"ticks\": \"\", \"zerolinecolor\": \"white\", \"zerolinewidth\": 2}, \"yaxis\": {\"automargin\": true, \"gridcolor\": \"white\", \"linecolor\": \"white\", \"ticks\": \"\", \"zerolinecolor\": \"white\", \"zerolinewidth\": 2}}}, \"title\": {\"text\": \"Correlation Between Predcitors and Student Count from China\"}, \"width\": 1000},\n",
       "                        {\"responsive\": true}\n",
       "                    ).then(function(){\n",
       "                            \n",
       "var gd = document.getElementById('1a28cf90-b2c6-49a1-a673-0a452092345c');\n",
       "var x = new MutationObserver(function (mutations, observer) {{\n",
       "        var display = window.getComputedStyle(gd).display;\n",
       "        if (!display || display === 'none') {{\n",
       "            console.log([gd, 'removed!']);\n",
       "            Plotly.purge(gd);\n",
       "            observer.disconnect();\n",
       "        }}\n",
       "}});\n",
       "\n",
       "// Listen for the removal of the full notebook cells\n",
       "var notebookContainer = gd.closest('#notebook-container');\n",
       "if (notebookContainer) {{\n",
       "    x.observe(notebookContainer, {childList: true});\n",
       "}}\n",
       "\n",
       "// Listen for the clearing of the current output cell\n",
       "var outputEl = gd.closest('.output');\n",
       "if (outputEl) {{\n",
       "    x.observe(outputEl, {childList: true});\n",
       "}}\n",
       "\n",
       "                        })\n",
       "                };\n",
       "                });\n",
       "            </script>\n",
       "        </div>"
      ]
     },
     "metadata": {},
     "output_type": "display_data"
    },
    {
     "data": {
      "application/vnd.plotly.v1+json": {
       "config": {
        "linkText": "Export to plot.ly",
        "plotlyServerURL": "https://plot.ly",
        "showLink": false
       },
       "data": [
        {
         "colorscale": [
          [
           0,
           "rgb(158,1,66)"
          ],
          [
           0.1,
           "rgb(213,62,79)"
          ],
          [
           0.2,
           "rgb(244,109,67)"
          ],
          [
           0.3,
           "rgb(253,174,97)"
          ],
          [
           0.4,
           "rgb(254,224,139)"
          ],
          [
           0.5,
           "rgb(255,255,191)"
          ],
          [
           0.6,
           "rgb(230,245,152)"
          ],
          [
           0.7,
           "rgb(171,221,164)"
          ],
          [
           0.8,
           "rgb(102,194,165)"
          ],
          [
           0.9,
           "rgb(50,136,189)"
          ],
          [
           1,
           "rgb(94,79,162)"
          ]
         ],
         "reversescale": true,
         "type": "heatmap",
         "x": [
          "United States of America",
          "United Kingdom",
          "Australia",
          "Canada",
          "New Zealand"
         ],
         "y": [
          "year",
          "dst_average_wage",
          "dst_rate_of_one_usd",
          "dst_cpi",
          "dst_qoe_top20",
          "dst_qoe_top100",
          "dst_qoe_top200",
          "dst_qoe_top500",
          "src_population",
          "src_qoe_top20",
          "src_qoe_top100",
          "src_qoe_top200",
          "src_qoe_top500",
          "src_gni",
          "src_gdp",
          "src_rate_of_one_usd",
          "src_tertiary_enrolment",
          "year_1y_shift",
          "dst_students_count_1y_shift",
          "dst_average_wage_1y_shift",
          "dst_rate_of_one_usd_1y_shift",
          "dst_cpi_1y_shift",
          "dst_qoe_top20_1y_shift",
          "dst_qoe_top100_1y_shift",
          "dst_qoe_top200_1y_shift",
          "dst_qoe_top500_1y_shift",
          "src_population_1y_shift",
          "src_qoe_top20_1y_shift",
          "src_qoe_top100_1y_shift",
          "src_qoe_top200_1y_shift",
          "src_qoe_top500_1y_shift",
          "src_gni_1y_shift",
          "src_gdp_1y_shift",
          "src_rate_of_one_usd_1y_shift",
          "src_tertiary_enrolment_1y_shift",
          "year_2y_shift",
          "dst_students_count_2y_shift",
          "dst_average_wage_2y_shift",
          "dst_rate_of_one_usd_2y_shift",
          "dst_cpi_2y_shift",
          "dst_qoe_top20_2y_shift",
          "dst_qoe_top100_2y_shift",
          "dst_qoe_top200_2y_shift",
          "dst_qoe_top500_2y_shift",
          "src_population_2y_shift",
          "src_qoe_top20_2y_shift",
          "src_qoe_top100_2y_shift",
          "src_qoe_top200_2y_shift",
          "src_qoe_top500_2y_shift",
          "src_gni_2y_shift",
          "src_gdp_2y_shift",
          "src_rate_of_one_usd_2y_shift",
          "src_tertiary_enrolment_2y_shift"
         ],
         "z": [
          [
           0.9304659456396394,
           0.6855607923068425,
           0.7976415544555533,
           0.8997943473383642,
           0.9338644023746304
          ],
          [
           0.9458405839638007,
           0.8225193729045097,
           0.6524305426336764,
           0.8525933693833035,
           0.8817339108391526
          ],
          [
           null,
           null,
           null,
           null,
           -0.6041731002259058
          ],
          [
           0.9218808789853796,
           0.6540236501562725,
           0.7773668229306275,
           0.8797131603398587,
           0.911327892880701
          ],
          [
           -0.8799236980619409,
           0.5694917522154309,
           null,
           null,
           null
          ],
          [
           -0.8276409044392915,
           -0.5403841092081125,
           0.7500728491613933,
           null,
           null
          ],
          [
           -0.9032882213487713,
           null,
           0.8455738052435604,
           -0.6224327233050931,
           null
          ],
          [
           -0.9401166737762721,
           -0.6592986297368587,
           0.8205039871768468,
           -0.775892023909078,
           -0.5927721192106985
          ],
          [
           0.9364553313451424,
           0.7098517199698502,
           0.7878888020032652,
           0.8816939451471122,
           0.9214716380765636
          ],
          [
           null,
           null,
           null,
           null,
           null
          ],
          [
           null,
           null,
           null,
           null,
           null
          ],
          [
           null,
           null,
           null,
           null,
           null
          ],
          [
           -0.7286365575502421,
           -0.6758327923840817,
           -0.5966921084463895,
           -0.7926911964860041,
           -0.8276043405749599
          ],
          [
           0.8687637834156192,
           0.6765762073891597,
           0.7445090840952726,
           0.9141286569868957,
           0.9385842780313102
          ],
          [
           0.8800697369829977,
           0.6815336666411752,
           0.7762582644641758,
           0.914489442885956,
           0.9432200273025312
          ],
          [
           0.6425211466120684,
           null,
           0.7196879294614206,
           0.9448441310936957,
           0.8935883787550547
          ],
          [
           0.8365167987795883,
           0.5914243294298447,
           0.697047258279079,
           0.9407750003756145,
           0.9482724178520804
          ],
          [
           0.9107191893134456,
           0.6891182871171944,
           0.7370817211755929,
           0.8782276299150064,
           0.9035622259345547
          ],
          [
           0.9752114085107146,
           0.9907282400522315,
           0.9310361793984294,
           0.9870693386276079,
           0.9516476097486333
          ],
          [
           0.9401819481127502,
           0.7514614085183138,
           0.6222122109077082,
           0.8092622484703437,
           0.8700215109267665
          ],
          [
           null,
           null,
           null,
           null,
           -0.5772356596448578
          ],
          [
           0.9142954493317577,
           0.6282353537832592,
           0.7431254759800603,
           0.8671476691332969,
           0.8804966524838994
          ],
          [
           -0.8674230581499304,
           0.6895734984326113,
           null,
           null,
           null
          ],
          [
           -0.8219390080668277,
           -0.5439826391044077,
           0.7518176464176903,
           null,
           null
          ],
          [
           -0.8822148828472106,
           null,
           0.8395289768397165,
           -0.6780046841637958,
           null
          ],
          [
           -0.9274666819011984,
           -0.6656200700747136,
           0.8081985844833288,
           -0.8362948996246085,
           -0.475209972676434
          ],
          [
           0.9242944695353372,
           0.6684013126595378,
           0.751394934299132,
           0.869599480759763,
           0.8929723923903166
          ],
          [
           null,
           null,
           null,
           null,
           null
          ],
          [
           null,
           null,
           null,
           null,
           null
          ],
          [
           null,
           null,
           null,
           null,
           null
          ],
          [
           -0.7939977836988539,
           -0.716236955830913,
           -0.6347299881672507,
           -0.7530536504029056,
           -0.8244378948024622
          ],
          [
           0.8770066247516344,
           0.6593049596902262,
           0.7523122929208046,
           0.8835961921790947,
           0.9286984289373634
          ],
          [
           0.888658221577364,
           0.6721413801089432,
           0.80040068894147,
           0.8917978820244765,
           0.942555777363704
          ],
          [
           0.6093993715670131,
           null,
           0.6192933067597955,
           0.9543070393878084,
           0.8978023244945964
          ],
          [
           0.823711458368522,
           0.5817885847290352,
           0.670977591784528,
           0.913791683713166,
           0.9205998001282484
          ],
          [
           0.9080310704184543,
           0.5886307256232843,
           0.7393241445157023,
           0.8735548129944577,
           0.8978346400763244
          ],
          [
           0.9402581144157915,
           0.9703016196500551,
           0.8058350033531839,
           0.9703713184048438,
           0.8798671616129584
          ],
          [
           0.9324264265797438,
           0.6626555203400563,
           0.6198395284857108,
           0.7569631508545132,
           0.8484445670716595
          ],
          [
           null,
           null,
           null,
           null,
           -0.5396096132937317
          ],
          [
           0.9068302811745071,
           0.5969052973744389,
           0.7194176813950486,
           0.8515945731669532,
           0.8565222554060676
          ],
          [
           -0.8229616608010076,
           0.6841994035345804,
           null,
           null,
           null
          ],
          [
           -0.7913587956964807,
           -0.4868051204228187,
           0.7574623320443832,
           null,
           null
          ],
          [
           -0.8548947268615419,
           null,
           0.8192798240202828,
           -0.7179873529730412,
           null
          ],
          [
           -0.9176349677690147,
           -0.6613181804422448,
           0.7921066617617434,
           -0.8693552889240879,
           null
          ],
          [
           0.9149878776709773,
           0.6165317231855725,
           0.730752208363649,
           0.8535590724794512,
           0.8799016043689201
          ],
          [
           null,
           null,
           null,
           null,
           null
          ],
          [
           null,
           null,
           null,
           null,
           null
          ],
          [
           null,
           null,
           null,
           null,
           null
          ],
          [
           -0.842832987520682,
           -0.7273211366851283,
           -0.6632000643103014,
           -0.7092144006301841,
           -0.800534113273197
          ],
          [
           0.8878506247852694,
           0.631141145116431,
           0.7549579101446928,
           0.8510131730473229,
           0.9172725198354151
          ],
          [
           0.8961563636451009,
           0.6465170014490096,
           0.8018082041714069,
           0.8658032751861422,
           0.9422430442656466
          ],
          [
           0.6164161323795854,
           null,
           0.5494984981532752,
           0.9478877020255695,
           0.885641802457677
          ],
          [
           0.8207759467057839,
           0.570726225069728,
           0.6702271910781756,
           0.8762355972433012,
           0.9028807303441639
          ]
         ]
        }
       ],
       "layout": {
        "autosize": false,
        "height": 1000,
        "template": {
         "data": {
          "bar": [
           {
            "error_x": {
             "color": "#2a3f5f"
            },
            "error_y": {
             "color": "#2a3f5f"
            },
            "marker": {
             "line": {
              "color": "#E5ECF6",
              "width": 0.5
             }
            },
            "type": "bar"
           }
          ],
          "barpolar": [
           {
            "marker": {
             "line": {
              "color": "#E5ECF6",
              "width": 0.5
             }
            },
            "type": "barpolar"
           }
          ],
          "carpet": [
           {
            "aaxis": {
             "endlinecolor": "#2a3f5f",
             "gridcolor": "white",
             "linecolor": "white",
             "minorgridcolor": "white",
             "startlinecolor": "#2a3f5f"
            },
            "baxis": {
             "endlinecolor": "#2a3f5f",
             "gridcolor": "white",
             "linecolor": "white",
             "minorgridcolor": "white",
             "startlinecolor": "#2a3f5f"
            },
            "type": "carpet"
           }
          ],
          "choropleth": [
           {
            "colorbar": {
             "outlinewidth": 0,
             "ticks": ""
            },
            "type": "choropleth"
           }
          ],
          "contour": [
           {
            "colorbar": {
             "outlinewidth": 0,
             "ticks": ""
            },
            "colorscale": [
             [
              0,
              "#0d0887"
             ],
             [
              0.1111111111111111,
              "#46039f"
             ],
             [
              0.2222222222222222,
              "#7201a8"
             ],
             [
              0.3333333333333333,
              "#9c179e"
             ],
             [
              0.4444444444444444,
              "#bd3786"
             ],
             [
              0.5555555555555556,
              "#d8576b"
             ],
             [
              0.6666666666666666,
              "#ed7953"
             ],
             [
              0.7777777777777778,
              "#fb9f3a"
             ],
             [
              0.8888888888888888,
              "#fdca26"
             ],
             [
              1,
              "#f0f921"
             ]
            ],
            "type": "contour"
           }
          ],
          "contourcarpet": [
           {
            "colorbar": {
             "outlinewidth": 0,
             "ticks": ""
            },
            "type": "contourcarpet"
           }
          ],
          "heatmap": [
           {
            "colorbar": {
             "outlinewidth": 0,
             "ticks": ""
            },
            "colorscale": [
             [
              0,
              "#0d0887"
             ],
             [
              0.1111111111111111,
              "#46039f"
             ],
             [
              0.2222222222222222,
              "#7201a8"
             ],
             [
              0.3333333333333333,
              "#9c179e"
             ],
             [
              0.4444444444444444,
              "#bd3786"
             ],
             [
              0.5555555555555556,
              "#d8576b"
             ],
             [
              0.6666666666666666,
              "#ed7953"
             ],
             [
              0.7777777777777778,
              "#fb9f3a"
             ],
             [
              0.8888888888888888,
              "#fdca26"
             ],
             [
              1,
              "#f0f921"
             ]
            ],
            "type": "heatmap"
           }
          ],
          "heatmapgl": [
           {
            "colorbar": {
             "outlinewidth": 0,
             "ticks": ""
            },
            "colorscale": [
             [
              0,
              "#0d0887"
             ],
             [
              0.1111111111111111,
              "#46039f"
             ],
             [
              0.2222222222222222,
              "#7201a8"
             ],
             [
              0.3333333333333333,
              "#9c179e"
             ],
             [
              0.4444444444444444,
              "#bd3786"
             ],
             [
              0.5555555555555556,
              "#d8576b"
             ],
             [
              0.6666666666666666,
              "#ed7953"
             ],
             [
              0.7777777777777778,
              "#fb9f3a"
             ],
             [
              0.8888888888888888,
              "#fdca26"
             ],
             [
              1,
              "#f0f921"
             ]
            ],
            "type": "heatmapgl"
           }
          ],
          "histogram": [
           {
            "marker": {
             "colorbar": {
              "outlinewidth": 0,
              "ticks": ""
             }
            },
            "type": "histogram"
           }
          ],
          "histogram2d": [
           {
            "colorbar": {
             "outlinewidth": 0,
             "ticks": ""
            },
            "colorscale": [
             [
              0,
              "#0d0887"
             ],
             [
              0.1111111111111111,
              "#46039f"
             ],
             [
              0.2222222222222222,
              "#7201a8"
             ],
             [
              0.3333333333333333,
              "#9c179e"
             ],
             [
              0.4444444444444444,
              "#bd3786"
             ],
             [
              0.5555555555555556,
              "#d8576b"
             ],
             [
              0.6666666666666666,
              "#ed7953"
             ],
             [
              0.7777777777777778,
              "#fb9f3a"
             ],
             [
              0.8888888888888888,
              "#fdca26"
             ],
             [
              1,
              "#f0f921"
             ]
            ],
            "type": "histogram2d"
           }
          ],
          "histogram2dcontour": [
           {
            "colorbar": {
             "outlinewidth": 0,
             "ticks": ""
            },
            "colorscale": [
             [
              0,
              "#0d0887"
             ],
             [
              0.1111111111111111,
              "#46039f"
             ],
             [
              0.2222222222222222,
              "#7201a8"
             ],
             [
              0.3333333333333333,
              "#9c179e"
             ],
             [
              0.4444444444444444,
              "#bd3786"
             ],
             [
              0.5555555555555556,
              "#d8576b"
             ],
             [
              0.6666666666666666,
              "#ed7953"
             ],
             [
              0.7777777777777778,
              "#fb9f3a"
             ],
             [
              0.8888888888888888,
              "#fdca26"
             ],
             [
              1,
              "#f0f921"
             ]
            ],
            "type": "histogram2dcontour"
           }
          ],
          "mesh3d": [
           {
            "colorbar": {
             "outlinewidth": 0,
             "ticks": ""
            },
            "type": "mesh3d"
           }
          ],
          "parcoords": [
           {
            "line": {
             "colorbar": {
              "outlinewidth": 0,
              "ticks": ""
             }
            },
            "type": "parcoords"
           }
          ],
          "scatter": [
           {
            "marker": {
             "colorbar": {
              "outlinewidth": 0,
              "ticks": ""
             }
            },
            "type": "scatter"
           }
          ],
          "scatter3d": [
           {
            "line": {
             "colorbar": {
              "outlinewidth": 0,
              "ticks": ""
             }
            },
            "marker": {
             "colorbar": {
              "outlinewidth": 0,
              "ticks": ""
             }
            },
            "type": "scatter3d"
           }
          ],
          "scattercarpet": [
           {
            "marker": {
             "colorbar": {
              "outlinewidth": 0,
              "ticks": ""
             }
            },
            "type": "scattercarpet"
           }
          ],
          "scattergeo": [
           {
            "marker": {
             "colorbar": {
              "outlinewidth": 0,
              "ticks": ""
             }
            },
            "type": "scattergeo"
           }
          ],
          "scattergl": [
           {
            "marker": {
             "colorbar": {
              "outlinewidth": 0,
              "ticks": ""
             }
            },
            "type": "scattergl"
           }
          ],
          "scattermapbox": [
           {
            "marker": {
             "colorbar": {
              "outlinewidth": 0,
              "ticks": ""
             }
            },
            "type": "scattermapbox"
           }
          ],
          "scatterpolar": [
           {
            "marker": {
             "colorbar": {
              "outlinewidth": 0,
              "ticks": ""
             }
            },
            "type": "scatterpolar"
           }
          ],
          "scatterpolargl": [
           {
            "marker": {
             "colorbar": {
              "outlinewidth": 0,
              "ticks": ""
             }
            },
            "type": "scatterpolargl"
           }
          ],
          "scatterternary": [
           {
            "marker": {
             "colorbar": {
              "outlinewidth": 0,
              "ticks": ""
             }
            },
            "type": "scatterternary"
           }
          ],
          "surface": [
           {
            "colorbar": {
             "outlinewidth": 0,
             "ticks": ""
            },
            "colorscale": [
             [
              0,
              "#0d0887"
             ],
             [
              0.1111111111111111,
              "#46039f"
             ],
             [
              0.2222222222222222,
              "#7201a8"
             ],
             [
              0.3333333333333333,
              "#9c179e"
             ],
             [
              0.4444444444444444,
              "#bd3786"
             ],
             [
              0.5555555555555556,
              "#d8576b"
             ],
             [
              0.6666666666666666,
              "#ed7953"
             ],
             [
              0.7777777777777778,
              "#fb9f3a"
             ],
             [
              0.8888888888888888,
              "#fdca26"
             ],
             [
              1,
              "#f0f921"
             ]
            ],
            "type": "surface"
           }
          ],
          "table": [
           {
            "cells": {
             "fill": {
              "color": "#EBF0F8"
             },
             "line": {
              "color": "white"
             }
            },
            "header": {
             "fill": {
              "color": "#C8D4E3"
             },
             "line": {
              "color": "white"
             }
            },
            "type": "table"
           }
          ]
         },
         "layout": {
          "annotationdefaults": {
           "arrowcolor": "#2a3f5f",
           "arrowhead": 0,
           "arrowwidth": 1
          },
          "colorscale": {
           "diverging": [
            [
             0,
             "#8e0152"
            ],
            [
             0.1,
             "#c51b7d"
            ],
            [
             0.2,
             "#de77ae"
            ],
            [
             0.3,
             "#f1b6da"
            ],
            [
             0.4,
             "#fde0ef"
            ],
            [
             0.5,
             "#f7f7f7"
            ],
            [
             0.6,
             "#e6f5d0"
            ],
            [
             0.7,
             "#b8e186"
            ],
            [
             0.8,
             "#7fbc41"
            ],
            [
             0.9,
             "#4d9221"
            ],
            [
             1,
             "#276419"
            ]
           ],
           "sequential": [
            [
             0,
             "#0d0887"
            ],
            [
             0.1111111111111111,
             "#46039f"
            ],
            [
             0.2222222222222222,
             "#7201a8"
            ],
            [
             0.3333333333333333,
             "#9c179e"
            ],
            [
             0.4444444444444444,
             "#bd3786"
            ],
            [
             0.5555555555555556,
             "#d8576b"
            ],
            [
             0.6666666666666666,
             "#ed7953"
            ],
            [
             0.7777777777777778,
             "#fb9f3a"
            ],
            [
             0.8888888888888888,
             "#fdca26"
            ],
            [
             1,
             "#f0f921"
            ]
           ],
           "sequentialminus": [
            [
             0,
             "#0d0887"
            ],
            [
             0.1111111111111111,
             "#46039f"
            ],
            [
             0.2222222222222222,
             "#7201a8"
            ],
            [
             0.3333333333333333,
             "#9c179e"
            ],
            [
             0.4444444444444444,
             "#bd3786"
            ],
            [
             0.5555555555555556,
             "#d8576b"
            ],
            [
             0.6666666666666666,
             "#ed7953"
            ],
            [
             0.7777777777777778,
             "#fb9f3a"
            ],
            [
             0.8888888888888888,
             "#fdca26"
            ],
            [
             1,
             "#f0f921"
            ]
           ]
          },
          "colorway": [
           "#636efa",
           "#EF553B",
           "#00cc96",
           "#ab63fa",
           "#FFA15A",
           "#19d3f3",
           "#FF6692",
           "#B6E880",
           "#FF97FF",
           "#FECB52"
          ],
          "font": {
           "color": "#2a3f5f"
          },
          "geo": {
           "bgcolor": "white",
           "lakecolor": "white",
           "landcolor": "#E5ECF6",
           "showlakes": true,
           "showland": true,
           "subunitcolor": "white"
          },
          "hoverlabel": {
           "align": "left"
          },
          "hovermode": "closest",
          "mapbox": {
           "style": "light"
          },
          "paper_bgcolor": "white",
          "plot_bgcolor": "#E5ECF6",
          "polar": {
           "angularaxis": {
            "gridcolor": "white",
            "linecolor": "white",
            "ticks": ""
           },
           "bgcolor": "#E5ECF6",
           "radialaxis": {
            "gridcolor": "white",
            "linecolor": "white",
            "ticks": ""
           }
          },
          "scene": {
           "xaxis": {
            "backgroundcolor": "#E5ECF6",
            "gridcolor": "white",
            "gridwidth": 2,
            "linecolor": "white",
            "showbackground": true,
            "ticks": "",
            "zerolinecolor": "white"
           },
           "yaxis": {
            "backgroundcolor": "#E5ECF6",
            "gridcolor": "white",
            "gridwidth": 2,
            "linecolor": "white",
            "showbackground": true,
            "ticks": "",
            "zerolinecolor": "white"
           },
           "zaxis": {
            "backgroundcolor": "#E5ECF6",
            "gridcolor": "white",
            "gridwidth": 2,
            "linecolor": "white",
            "showbackground": true,
            "ticks": "",
            "zerolinecolor": "white"
           }
          },
          "shapedefaults": {
           "line": {
            "color": "#2a3f5f"
           }
          },
          "ternary": {
           "aaxis": {
            "gridcolor": "white",
            "linecolor": "white",
            "ticks": ""
           },
           "baxis": {
            "gridcolor": "white",
            "linecolor": "white",
            "ticks": ""
           },
           "bgcolor": "#E5ECF6",
           "caxis": {
            "gridcolor": "white",
            "linecolor": "white",
            "ticks": ""
           }
          },
          "title": {
           "x": 0.05
          },
          "xaxis": {
           "automargin": true,
           "gridcolor": "white",
           "linecolor": "white",
           "ticks": "",
           "zerolinecolor": "white",
           "zerolinewidth": 2
          },
          "yaxis": {
           "automargin": true,
           "gridcolor": "white",
           "linecolor": "white",
           "ticks": "",
           "zerolinecolor": "white",
           "zerolinewidth": 2
          }
         }
        },
        "title": {
         "text": "Correlation Between Predcitors and Student Count from India"
        },
        "width": 1000
       }
      },
      "text/html": [
       "<div>\n",
       "        \n",
       "        \n",
       "            <div id=\"bd151c0e-382c-429f-9804-3378d982dcf7\" class=\"plotly-graph-div\" style=\"height:1000px; width:1000px;\"></div>\n",
       "            <script type=\"text/javascript\">\n",
       "                require([\"plotly\"], function(Plotly) {\n",
       "                    window.PLOTLYENV=window.PLOTLYENV || {};\n",
       "                    \n",
       "                if (document.getElementById(\"bd151c0e-382c-429f-9804-3378d982dcf7\")) {\n",
       "                    Plotly.newPlot(\n",
       "                        'bd151c0e-382c-429f-9804-3378d982dcf7',\n",
       "                        [{\"colorscale\": [[0.0, \"rgb(158,1,66)\"], [0.1, \"rgb(213,62,79)\"], [0.2, \"rgb(244,109,67)\"], [0.3, \"rgb(253,174,97)\"], [0.4, \"rgb(254,224,139)\"], [0.5, \"rgb(255,255,191)\"], [0.6, \"rgb(230,245,152)\"], [0.7, \"rgb(171,221,164)\"], [0.8, \"rgb(102,194,165)\"], [0.9, \"rgb(50,136,189)\"], [1.0, \"rgb(94,79,162)\"]], \"reversescale\": true, \"type\": \"heatmap\", \"x\": [\"United States of America\", \"United Kingdom\", \"Australia\", \"Canada\", \"New Zealand\"], \"y\": [\"year\", \"dst_average_wage\", \"dst_rate_of_one_usd\", \"dst_cpi\", \"dst_qoe_top20\", \"dst_qoe_top100\", \"dst_qoe_top200\", \"dst_qoe_top500\", \"src_population\", \"src_qoe_top20\", \"src_qoe_top100\", \"src_qoe_top200\", \"src_qoe_top500\", \"src_gni\", \"src_gdp\", \"src_rate_of_one_usd\", \"src_tertiary_enrolment\", \"year_1y_shift\", \"dst_students_count_1y_shift\", \"dst_average_wage_1y_shift\", \"dst_rate_of_one_usd_1y_shift\", \"dst_cpi_1y_shift\", \"dst_qoe_top20_1y_shift\", \"dst_qoe_top100_1y_shift\", \"dst_qoe_top200_1y_shift\", \"dst_qoe_top500_1y_shift\", \"src_population_1y_shift\", \"src_qoe_top20_1y_shift\", \"src_qoe_top100_1y_shift\", \"src_qoe_top200_1y_shift\", \"src_qoe_top500_1y_shift\", \"src_gni_1y_shift\", \"src_gdp_1y_shift\", \"src_rate_of_one_usd_1y_shift\", \"src_tertiary_enrolment_1y_shift\", \"year_2y_shift\", \"dst_students_count_2y_shift\", \"dst_average_wage_2y_shift\", \"dst_rate_of_one_usd_2y_shift\", \"dst_cpi_2y_shift\", \"dst_qoe_top20_2y_shift\", \"dst_qoe_top100_2y_shift\", \"dst_qoe_top200_2y_shift\", \"dst_qoe_top500_2y_shift\", \"src_population_2y_shift\", \"src_qoe_top20_2y_shift\", \"src_qoe_top100_2y_shift\", \"src_qoe_top200_2y_shift\", \"src_qoe_top500_2y_shift\", \"src_gni_2y_shift\", \"src_gdp_2y_shift\", \"src_rate_of_one_usd_2y_shift\", \"src_tertiary_enrolment_2y_shift\"], \"z\": [[0.9304659456396394, 0.6855607923068425, 0.7976415544555533, 0.8997943473383642, 0.9338644023746304], [0.9458405839638007, 0.8225193729045097, 0.6524305426336764, 0.8525933693833035, 0.8817339108391526], [null, null, null, null, -0.6041731002259058], [0.9218808789853796, 0.6540236501562725, 0.7773668229306275, 0.8797131603398587, 0.911327892880701], [-0.8799236980619409, 0.5694917522154309, null, null, null], [-0.8276409044392915, -0.5403841092081125, 0.7500728491613933, null, null], [-0.9032882213487713, null, 0.8455738052435604, -0.6224327233050931, null], [-0.9401166737762721, -0.6592986297368587, 0.8205039871768468, -0.775892023909078, -0.5927721192106985], [0.9364553313451424, 0.7098517199698502, 0.7878888020032652, 0.8816939451471122, 0.9214716380765636], [null, null, null, null, null], [null, null, null, null, null], [null, null, null, null, null], [-0.7286365575502421, -0.6758327923840817, -0.5966921084463895, -0.7926911964860041, -0.8276043405749599], [0.8687637834156192, 0.6765762073891597, 0.7445090840952726, 0.9141286569868957, 0.9385842780313102], [0.8800697369829977, 0.6815336666411752, 0.7762582644641758, 0.914489442885956, 0.9432200273025312], [0.6425211466120684, null, 0.7196879294614206, 0.9448441310936957, 0.8935883787550547], [0.8365167987795883, 0.5914243294298447, 0.697047258279079, 0.9407750003756145, 0.9482724178520804], [0.9107191893134456, 0.6891182871171944, 0.7370817211755929, 0.8782276299150064, 0.9035622259345547], [0.9752114085107146, 0.9907282400522315, 0.9310361793984294, 0.9870693386276079, 0.9516476097486333], [0.9401819481127502, 0.7514614085183138, 0.6222122109077082, 0.8092622484703437, 0.8700215109267665], [null, null, null, null, -0.5772356596448578], [0.9142954493317577, 0.6282353537832592, 0.7431254759800603, 0.8671476691332969, 0.8804966524838994], [-0.8674230581499304, 0.6895734984326113, null, null, null], [-0.8219390080668277, -0.5439826391044077, 0.7518176464176903, null, null], [-0.8822148828472106, null, 0.8395289768397165, -0.6780046841637958, null], [-0.9274666819011984, -0.6656200700747136, 0.8081985844833288, -0.8362948996246085, -0.475209972676434], [0.9242944695353372, 0.6684013126595378, 0.751394934299132, 0.869599480759763, 0.8929723923903166], [null, null, null, null, null], [null, null, null, null, null], [null, null, null, null, null], [-0.7939977836988539, -0.716236955830913, -0.6347299881672507, -0.7530536504029056, -0.8244378948024622], [0.8770066247516344, 0.6593049596902262, 0.7523122929208046, 0.8835961921790947, 0.9286984289373634], [0.888658221577364, 0.6721413801089432, 0.80040068894147, 0.8917978820244765, 0.942555777363704], [0.6093993715670131, null, 0.6192933067597955, 0.9543070393878084, 0.8978023244945964], [0.823711458368522, 0.5817885847290352, 0.670977591784528, 0.913791683713166, 0.9205998001282484], [0.9080310704184543, 0.5886307256232843, 0.7393241445157023, 0.8735548129944577, 0.8978346400763244], [0.9402581144157915, 0.9703016196500551, 0.8058350033531839, 0.9703713184048438, 0.8798671616129584], [0.9324264265797438, 0.6626555203400563, 0.6198395284857108, 0.7569631508545132, 0.8484445670716595], [null, null, null, null, -0.5396096132937317], [0.9068302811745071, 0.5969052973744389, 0.7194176813950486, 0.8515945731669532, 0.8565222554060676], [-0.8229616608010076, 0.6841994035345804, null, null, null], [-0.7913587956964807, -0.4868051204228187, 0.7574623320443832, null, null], [-0.8548947268615419, null, 0.8192798240202828, -0.7179873529730412, null], [-0.9176349677690147, -0.6613181804422448, 0.7921066617617434, -0.8693552889240879, null], [0.9149878776709773, 0.6165317231855725, 0.730752208363649, 0.8535590724794512, 0.8799016043689201], [null, null, null, null, null], [null, null, null, null, null], [null, null, null, null, null], [-0.842832987520682, -0.7273211366851283, -0.6632000643103014, -0.7092144006301841, -0.800534113273197], [0.8878506247852694, 0.631141145116431, 0.7549579101446928, 0.8510131730473229, 0.9172725198354151], [0.8961563636451009, 0.6465170014490096, 0.8018082041714069, 0.8658032751861422, 0.9422430442656466], [0.6164161323795854, null, 0.5494984981532752, 0.9478877020255695, 0.885641802457677], [0.8207759467057839, 0.570726225069728, 0.6702271910781756, 0.8762355972433012, 0.9028807303441639]]}],\n",
       "                        {\"autosize\": false, \"height\": 1000, \"template\": {\"data\": {\"bar\": [{\"error_x\": {\"color\": \"#2a3f5f\"}, \"error_y\": {\"color\": \"#2a3f5f\"}, \"marker\": {\"line\": {\"color\": \"#E5ECF6\", \"width\": 0.5}}, \"type\": \"bar\"}], \"barpolar\": [{\"marker\": {\"line\": {\"color\": \"#E5ECF6\", \"width\": 0.5}}, \"type\": \"barpolar\"}], \"carpet\": [{\"aaxis\": {\"endlinecolor\": \"#2a3f5f\", \"gridcolor\": \"white\", \"linecolor\": \"white\", \"minorgridcolor\": \"white\", \"startlinecolor\": \"#2a3f5f\"}, \"baxis\": {\"endlinecolor\": \"#2a3f5f\", \"gridcolor\": \"white\", \"linecolor\": \"white\", \"minorgridcolor\": \"white\", \"startlinecolor\": \"#2a3f5f\"}, \"type\": \"carpet\"}], \"choropleth\": [{\"colorbar\": {\"outlinewidth\": 0, \"ticks\": \"\"}, \"type\": \"choropleth\"}], \"contour\": [{\"colorbar\": {\"outlinewidth\": 0, \"ticks\": \"\"}, \"colorscale\": [[0.0, \"#0d0887\"], [0.1111111111111111, \"#46039f\"], [0.2222222222222222, \"#7201a8\"], [0.3333333333333333, \"#9c179e\"], [0.4444444444444444, \"#bd3786\"], [0.5555555555555556, \"#d8576b\"], [0.6666666666666666, \"#ed7953\"], [0.7777777777777778, \"#fb9f3a\"], [0.8888888888888888, \"#fdca26\"], [1.0, \"#f0f921\"]], \"type\": \"contour\"}], \"contourcarpet\": [{\"colorbar\": {\"outlinewidth\": 0, \"ticks\": \"\"}, \"type\": \"contourcarpet\"}], \"heatmap\": [{\"colorbar\": {\"outlinewidth\": 0, \"ticks\": \"\"}, \"colorscale\": [[0.0, \"#0d0887\"], [0.1111111111111111, \"#46039f\"], [0.2222222222222222, \"#7201a8\"], [0.3333333333333333, \"#9c179e\"], [0.4444444444444444, \"#bd3786\"], [0.5555555555555556, \"#d8576b\"], [0.6666666666666666, \"#ed7953\"], [0.7777777777777778, \"#fb9f3a\"], [0.8888888888888888, \"#fdca26\"], [1.0, \"#f0f921\"]], \"type\": \"heatmap\"}], \"heatmapgl\": [{\"colorbar\": {\"outlinewidth\": 0, \"ticks\": \"\"}, \"colorscale\": [[0.0, \"#0d0887\"], [0.1111111111111111, \"#46039f\"], [0.2222222222222222, \"#7201a8\"], [0.3333333333333333, \"#9c179e\"], [0.4444444444444444, \"#bd3786\"], [0.5555555555555556, \"#d8576b\"], [0.6666666666666666, \"#ed7953\"], [0.7777777777777778, \"#fb9f3a\"], [0.8888888888888888, \"#fdca26\"], [1.0, \"#f0f921\"]], \"type\": \"heatmapgl\"}], \"histogram\": [{\"marker\": {\"colorbar\": {\"outlinewidth\": 0, \"ticks\": \"\"}}, \"type\": \"histogram\"}], \"histogram2d\": [{\"colorbar\": {\"outlinewidth\": 0, \"ticks\": \"\"}, \"colorscale\": [[0.0, \"#0d0887\"], [0.1111111111111111, \"#46039f\"], [0.2222222222222222, \"#7201a8\"], [0.3333333333333333, \"#9c179e\"], [0.4444444444444444, \"#bd3786\"], [0.5555555555555556, \"#d8576b\"], [0.6666666666666666, \"#ed7953\"], [0.7777777777777778, \"#fb9f3a\"], [0.8888888888888888, \"#fdca26\"], [1.0, \"#f0f921\"]], \"type\": \"histogram2d\"}], \"histogram2dcontour\": [{\"colorbar\": {\"outlinewidth\": 0, \"ticks\": \"\"}, \"colorscale\": [[0.0, \"#0d0887\"], [0.1111111111111111, \"#46039f\"], [0.2222222222222222, \"#7201a8\"], [0.3333333333333333, \"#9c179e\"], [0.4444444444444444, \"#bd3786\"], [0.5555555555555556, \"#d8576b\"], [0.6666666666666666, \"#ed7953\"], [0.7777777777777778, \"#fb9f3a\"], [0.8888888888888888, \"#fdca26\"], [1.0, \"#f0f921\"]], \"type\": \"histogram2dcontour\"}], \"mesh3d\": [{\"colorbar\": {\"outlinewidth\": 0, \"ticks\": \"\"}, \"type\": \"mesh3d\"}], \"parcoords\": [{\"line\": {\"colorbar\": {\"outlinewidth\": 0, \"ticks\": \"\"}}, \"type\": \"parcoords\"}], \"scatter\": [{\"marker\": {\"colorbar\": {\"outlinewidth\": 0, \"ticks\": \"\"}}, \"type\": \"scatter\"}], \"scatter3d\": [{\"line\": {\"colorbar\": {\"outlinewidth\": 0, \"ticks\": \"\"}}, \"marker\": {\"colorbar\": {\"outlinewidth\": 0, \"ticks\": \"\"}}, \"type\": \"scatter3d\"}], \"scattercarpet\": [{\"marker\": {\"colorbar\": {\"outlinewidth\": 0, \"ticks\": \"\"}}, \"type\": \"scattercarpet\"}], \"scattergeo\": [{\"marker\": {\"colorbar\": {\"outlinewidth\": 0, \"ticks\": \"\"}}, \"type\": \"scattergeo\"}], \"scattergl\": [{\"marker\": {\"colorbar\": {\"outlinewidth\": 0, \"ticks\": \"\"}}, \"type\": \"scattergl\"}], \"scattermapbox\": [{\"marker\": {\"colorbar\": {\"outlinewidth\": 0, \"ticks\": \"\"}}, \"type\": \"scattermapbox\"}], \"scatterpolar\": [{\"marker\": {\"colorbar\": {\"outlinewidth\": 0, \"ticks\": \"\"}}, \"type\": \"scatterpolar\"}], \"scatterpolargl\": [{\"marker\": {\"colorbar\": {\"outlinewidth\": 0, \"ticks\": \"\"}}, \"type\": \"scatterpolargl\"}], \"scatterternary\": [{\"marker\": {\"colorbar\": {\"outlinewidth\": 0, \"ticks\": \"\"}}, \"type\": \"scatterternary\"}], \"surface\": [{\"colorbar\": {\"outlinewidth\": 0, \"ticks\": \"\"}, \"colorscale\": [[0.0, \"#0d0887\"], [0.1111111111111111, \"#46039f\"], [0.2222222222222222, \"#7201a8\"], [0.3333333333333333, \"#9c179e\"], [0.4444444444444444, \"#bd3786\"], [0.5555555555555556, \"#d8576b\"], [0.6666666666666666, \"#ed7953\"], [0.7777777777777778, \"#fb9f3a\"], [0.8888888888888888, \"#fdca26\"], [1.0, \"#f0f921\"]], \"type\": \"surface\"}], \"table\": [{\"cells\": {\"fill\": {\"color\": \"#EBF0F8\"}, \"line\": {\"color\": \"white\"}}, \"header\": {\"fill\": {\"color\": \"#C8D4E3\"}, \"line\": {\"color\": \"white\"}}, \"type\": \"table\"}]}, \"layout\": {\"annotationdefaults\": {\"arrowcolor\": \"#2a3f5f\", \"arrowhead\": 0, \"arrowwidth\": 1}, \"colorscale\": {\"diverging\": [[0, \"#8e0152\"], [0.1, \"#c51b7d\"], [0.2, \"#de77ae\"], [0.3, \"#f1b6da\"], [0.4, \"#fde0ef\"], [0.5, \"#f7f7f7\"], [0.6, \"#e6f5d0\"], [0.7, \"#b8e186\"], [0.8, \"#7fbc41\"], [0.9, \"#4d9221\"], [1, \"#276419\"]], \"sequential\": [[0.0, \"#0d0887\"], [0.1111111111111111, \"#46039f\"], [0.2222222222222222, \"#7201a8\"], [0.3333333333333333, \"#9c179e\"], [0.4444444444444444, \"#bd3786\"], [0.5555555555555556, \"#d8576b\"], [0.6666666666666666, \"#ed7953\"], [0.7777777777777778, \"#fb9f3a\"], [0.8888888888888888, \"#fdca26\"], [1.0, \"#f0f921\"]], \"sequentialminus\": [[0.0, \"#0d0887\"], [0.1111111111111111, \"#46039f\"], [0.2222222222222222, \"#7201a8\"], [0.3333333333333333, \"#9c179e\"], [0.4444444444444444, \"#bd3786\"], [0.5555555555555556, \"#d8576b\"], [0.6666666666666666, \"#ed7953\"], [0.7777777777777778, \"#fb9f3a\"], [0.8888888888888888, \"#fdca26\"], [1.0, \"#f0f921\"]]}, \"colorway\": [\"#636efa\", \"#EF553B\", \"#00cc96\", \"#ab63fa\", \"#FFA15A\", \"#19d3f3\", \"#FF6692\", \"#B6E880\", \"#FF97FF\", \"#FECB52\"], \"font\": {\"color\": \"#2a3f5f\"}, \"geo\": {\"bgcolor\": \"white\", \"lakecolor\": \"white\", \"landcolor\": \"#E5ECF6\", \"showlakes\": true, \"showland\": true, \"subunitcolor\": \"white\"}, \"hoverlabel\": {\"align\": \"left\"}, \"hovermode\": \"closest\", \"mapbox\": {\"style\": \"light\"}, \"paper_bgcolor\": \"white\", \"plot_bgcolor\": \"#E5ECF6\", \"polar\": {\"angularaxis\": {\"gridcolor\": \"white\", \"linecolor\": \"white\", \"ticks\": \"\"}, \"bgcolor\": \"#E5ECF6\", \"radialaxis\": {\"gridcolor\": \"white\", \"linecolor\": \"white\", \"ticks\": \"\"}}, \"scene\": {\"xaxis\": {\"backgroundcolor\": \"#E5ECF6\", \"gridcolor\": \"white\", \"gridwidth\": 2, \"linecolor\": \"white\", \"showbackground\": true, \"ticks\": \"\", \"zerolinecolor\": \"white\"}, \"yaxis\": {\"backgroundcolor\": \"#E5ECF6\", \"gridcolor\": \"white\", \"gridwidth\": 2, \"linecolor\": \"white\", \"showbackground\": true, \"ticks\": \"\", \"zerolinecolor\": \"white\"}, \"zaxis\": {\"backgroundcolor\": \"#E5ECF6\", \"gridcolor\": \"white\", \"gridwidth\": 2, \"linecolor\": \"white\", \"showbackground\": true, \"ticks\": \"\", \"zerolinecolor\": \"white\"}}, \"shapedefaults\": {\"line\": {\"color\": \"#2a3f5f\"}}, \"ternary\": {\"aaxis\": {\"gridcolor\": \"white\", \"linecolor\": \"white\", \"ticks\": \"\"}, \"baxis\": {\"gridcolor\": \"white\", \"linecolor\": \"white\", \"ticks\": \"\"}, \"bgcolor\": \"#E5ECF6\", \"caxis\": {\"gridcolor\": \"white\", \"linecolor\": \"white\", \"ticks\": \"\"}}, \"title\": {\"x\": 0.05}, \"xaxis\": {\"automargin\": true, \"gridcolor\": \"white\", \"linecolor\": \"white\", \"ticks\": \"\", \"zerolinecolor\": \"white\", \"zerolinewidth\": 2}, \"yaxis\": {\"automargin\": true, \"gridcolor\": \"white\", \"linecolor\": \"white\", \"ticks\": \"\", \"zerolinecolor\": \"white\", \"zerolinewidth\": 2}}}, \"title\": {\"text\": \"Correlation Between Predcitors and Student Count from India\"}, \"width\": 1000},\n",
       "                        {\"responsive\": true}\n",
       "                    ).then(function(){\n",
       "                            \n",
       "var gd = document.getElementById('bd151c0e-382c-429f-9804-3378d982dcf7');\n",
       "var x = new MutationObserver(function (mutations, observer) {{\n",
       "        var display = window.getComputedStyle(gd).display;\n",
       "        if (!display || display === 'none') {{\n",
       "            console.log([gd, 'removed!']);\n",
       "            Plotly.purge(gd);\n",
       "            observer.disconnect();\n",
       "        }}\n",
       "}});\n",
       "\n",
       "// Listen for the removal of the full notebook cells\n",
       "var notebookContainer = gd.closest('#notebook-container');\n",
       "if (notebookContainer) {{\n",
       "    x.observe(notebookContainer, {childList: true});\n",
       "}}\n",
       "\n",
       "// Listen for the clearing of the current output cell\n",
       "var outputEl = gd.closest('.output');\n",
       "if (outputEl) {{\n",
       "    x.observe(outputEl, {childList: true});\n",
       "}}\n",
       "\n",
       "                        })\n",
       "                };\n",
       "                });\n",
       "            </script>\n",
       "        </div>"
      ]
     },
     "metadata": {},
     "output_type": "display_data"
    },
    {
     "data": {
      "application/vnd.plotly.v1+json": {
       "config": {
        "linkText": "Export to plot.ly",
        "plotlyServerURL": "https://plot.ly",
        "showLink": false
       },
       "data": [
        {
         "colorscale": [
          [
           0,
           "rgb(158,1,66)"
          ],
          [
           0.1,
           "rgb(213,62,79)"
          ],
          [
           0.2,
           "rgb(244,109,67)"
          ],
          [
           0.3,
           "rgb(253,174,97)"
          ],
          [
           0.4,
           "rgb(254,224,139)"
          ],
          [
           0.5,
           "rgb(255,255,191)"
          ],
          [
           0.6,
           "rgb(230,245,152)"
          ],
          [
           0.7,
           "rgb(171,221,164)"
          ],
          [
           0.8,
           "rgb(102,194,165)"
          ],
          [
           0.9,
           "rgb(50,136,189)"
          ],
          [
           1,
           "rgb(94,79,162)"
          ]
         ],
         "reversescale": true,
         "type": "heatmap",
         "x": [
          "United States of America",
          "United Kingdom",
          "Australia",
          "Canada",
          "New Zealand"
         ],
         "y": [
          "year",
          "dst_average_wage",
          "dst_rate_of_one_usd",
          "dst_cpi",
          "dst_qoe_top20",
          "dst_qoe_top100",
          "dst_qoe_top200",
          "dst_qoe_top500",
          "src_population",
          "src_qoe_top20",
          "src_qoe_top100",
          "src_qoe_top200",
          "src_qoe_top500",
          "src_gni",
          "src_gdp",
          "src_rate_of_one_usd",
          "src_tertiary_enrolment",
          "year_1y_shift",
          "dst_students_count_1y_shift",
          "dst_average_wage_1y_shift",
          "dst_rate_of_one_usd_1y_shift",
          "dst_cpi_1y_shift",
          "dst_qoe_top20_1y_shift",
          "dst_qoe_top100_1y_shift",
          "dst_qoe_top200_1y_shift",
          "dst_qoe_top500_1y_shift",
          "src_population_1y_shift",
          "src_qoe_top20_1y_shift",
          "src_qoe_top100_1y_shift",
          "src_qoe_top200_1y_shift",
          "src_qoe_top500_1y_shift",
          "src_gni_1y_shift",
          "src_gdp_1y_shift",
          "src_rate_of_one_usd_1y_shift",
          "src_tertiary_enrolment_1y_shift",
          "year_2y_shift",
          "dst_students_count_2y_shift",
          "dst_average_wage_2y_shift",
          "dst_rate_of_one_usd_2y_shift",
          "dst_cpi_2y_shift",
          "dst_qoe_top20_2y_shift",
          "dst_qoe_top100_2y_shift",
          "dst_qoe_top200_2y_shift",
          "dst_qoe_top500_2y_shift",
          "src_population_2y_shift",
          "src_qoe_top20_2y_shift",
          "src_qoe_top100_2y_shift",
          "src_qoe_top200_2y_shift",
          "src_qoe_top500_2y_shift",
          "src_gni_2y_shift",
          "src_gdp_2y_shift",
          "src_rate_of_one_usd_2y_shift",
          "src_tertiary_enrolment_2y_shift"
         ],
         "z": [
          [
           -0.7202648118159889,
           0.7259696688899374,
           null,
           0.7792103378195656,
           0.6787348449673671
          ],
          [
           -0.7394246222408399,
           null,
           null,
           0.7301153707918165,
           0.5826656853909022
          ],
          [
           null,
           0.46134063050199997,
           null,
           -0.5371004321811986,
           null
          ],
          [
           -0.7708520412984705,
           0.7434329695063333,
           null,
           0.7823175787424167,
           0.6006416214616973
          ],
          [
           0.4769245330785892,
           0.7051856846222956,
           null,
           null,
           null
          ],
          [
           0.5621051236077834,
           -0.7616282389070355,
           null,
           null,
           null
          ],
          [
           0.6030047664405562,
           null,
           null,
           -0.6578601720554779,
           null
          ],
          [
           0.712576666742675,
           -0.6635421323037981,
           null,
           -0.7728982332222332,
           -0.6245090281135878
          ],
          [
           -0.7057390248594226,
           0.740898998615323,
           null,
           0.7744643269522871,
           0.6924488676186257
          ],
          [
           null,
           null,
           null,
           null,
           null
          ],
          [
           null,
           null,
           null,
           null,
           null
          ],
          [
           null,
           null,
           null,
           null,
           null
          ],
          [
           null,
           null,
           null,
           null,
           null
          ],
          [
           -0.6893074751892998,
           0.692881867344679,
           null,
           0.6686521069561687,
           0.6068395667534093
          ],
          [
           -0.7165960029090682,
           0.668535401838488,
           null,
           0.6640928913641294,
           0.6143203691609802
          ],
          [
           null,
           0.8795965405050555,
           null,
           0.6070691732712856,
           0.8579415351420001
          ],
          [
           -0.6283927138071493,
           0.7592651634204864,
           null,
           0.685125753587272,
           0.7418581188754324
          ],
          [
           -0.7479441970114024,
           0.687864918931357,
           null,
           0.8547881115431996,
           0.6401895690628809
          ],
          [
           0.8925604001167733,
           0.9765630324903256,
           null,
           0.9922660077779946,
           0.9261469198061205
          ],
          [
           -0.7425797574324864,
           null,
           null,
           0.8230191129816656,
           0.6021852406316578
          ],
          [
           null,
           0.646291863285905,
           null,
           -0.6191245564681888,
           null
          ],
          [
           -0.7979654050818652,
           0.7035809074675408,
           null,
           0.8630748997488817,
           0.581265790864178
          ],
          [
           null,
           0.6862976561541313,
           null,
           null,
           null
          ],
          [
           null,
           -0.7383172459843652,
           null,
           null,
           null
          ],
          [
           0.5467674243543196,
           null,
           null,
           -0.7188843624330958,
           null
          ],
          [
           0.6959973621414747,
           -0.6341354295429297,
           null,
           -0.8916352326692984,
           -0.5046212354871116
          ],
          [
           -0.7222927191859667,
           0.71938058574296,
           null,
           0.8514939893507245,
           0.6770143171279623
          ],
          [
           null,
           null,
           null,
           null,
           null
          ],
          [
           null,
           null,
           null,
           null,
           null
          ],
          [
           null,
           null,
           null,
           null,
           null
          ],
          [
           null,
           null,
           null,
           null,
           null
          ],
          [
           -0.7629051547744448,
           0.6292590664919003,
           null,
           0.7323734306284169,
           0.5488276215233423
          ],
          [
           -0.7593811866884225,
           0.6315715741586246,
           null,
           0.7323233832829238,
           0.583931484058747
          ],
          [
           null,
           0.869795621296348,
           null,
           0.6621136701290623,
           0.8567148000740351
          ],
          [
           -0.6734072411276524,
           0.7137892475882548,
           null,
           0.7453710820520789,
           0.7403132707153529
          ],
          [
           -0.7597151094941716,
           0.6597255541174987,
           null,
           0.8280114270257624,
           0.6432871985058535
          ],
          [
           0.7184085654038382,
           0.9204179815366281,
           null,
           0.981988174608979,
           0.8646077004348661
          ],
          [
           -0.7572709362338321,
           null,
           null,
           0.7987491530625178,
           0.6164071045187179
          ],
          [
           null,
           0.6905108250129279,
           null,
           -0.48110195397244737,
           null
          ],
          [
           -0.8188964654648037,
           0.6490969731977547,
           null,
           0.8294373255733808,
           0.5502402839726304
          ],
          [
           null,
           0.6508007198450811,
           null,
           null,
           null
          ],
          [
           null,
           -0.714339422399848,
           null,
           null,
           null
          ],
          [
           0.5296933383290889,
           null,
           null,
           -0.7340140581097683,
           null
          ],
          [
           0.7232121295279718,
           -0.5873983901600205,
           null,
           -0.8744705312807229,
           null
          ],
          [
           -0.7502379081615733,
           0.6722491014951497,
           null,
           0.8234002909015798,
           0.6511284848219439
          ],
          [
           null,
           null,
           null,
           null,
           null
          ],
          [
           null,
           null,
           null,
           null,
           null
          ],
          [
           null,
           null,
           null,
           null,
           null
          ],
          [
           null,
           null,
           null,
           null,
           null
          ],
          [
           -0.813829745634872,
           0.5652370706933388,
           null,
           0.6908307632586321,
           0.494629437994917
          ],
          [
           -0.8038250759114924,
           0.5856939597633203,
           null,
           0.6943634757248964,
           0.5509268836177145
          ],
          [
           null,
           0.8101352207782336,
           null,
           0.6993926815731049,
           0.7902959413141566
          ],
          [
           -0.7413530107892594,
           0.6578420515727614,
           null,
           0.7217011742483084,
           0.7147304767834524
          ]
         ]
        }
       ],
       "layout": {
        "autosize": false,
        "height": 1000,
        "template": {
         "data": {
          "bar": [
           {
            "error_x": {
             "color": "#2a3f5f"
            },
            "error_y": {
             "color": "#2a3f5f"
            },
            "marker": {
             "line": {
              "color": "#E5ECF6",
              "width": 0.5
             }
            },
            "type": "bar"
           }
          ],
          "barpolar": [
           {
            "marker": {
             "line": {
              "color": "#E5ECF6",
              "width": 0.5
             }
            },
            "type": "barpolar"
           }
          ],
          "carpet": [
           {
            "aaxis": {
             "endlinecolor": "#2a3f5f",
             "gridcolor": "white",
             "linecolor": "white",
             "minorgridcolor": "white",
             "startlinecolor": "#2a3f5f"
            },
            "baxis": {
             "endlinecolor": "#2a3f5f",
             "gridcolor": "white",
             "linecolor": "white",
             "minorgridcolor": "white",
             "startlinecolor": "#2a3f5f"
            },
            "type": "carpet"
           }
          ],
          "choropleth": [
           {
            "colorbar": {
             "outlinewidth": 0,
             "ticks": ""
            },
            "type": "choropleth"
           }
          ],
          "contour": [
           {
            "colorbar": {
             "outlinewidth": 0,
             "ticks": ""
            },
            "colorscale": [
             [
              0,
              "#0d0887"
             ],
             [
              0.1111111111111111,
              "#46039f"
             ],
             [
              0.2222222222222222,
              "#7201a8"
             ],
             [
              0.3333333333333333,
              "#9c179e"
             ],
             [
              0.4444444444444444,
              "#bd3786"
             ],
             [
              0.5555555555555556,
              "#d8576b"
             ],
             [
              0.6666666666666666,
              "#ed7953"
             ],
             [
              0.7777777777777778,
              "#fb9f3a"
             ],
             [
              0.8888888888888888,
              "#fdca26"
             ],
             [
              1,
              "#f0f921"
             ]
            ],
            "type": "contour"
           }
          ],
          "contourcarpet": [
           {
            "colorbar": {
             "outlinewidth": 0,
             "ticks": ""
            },
            "type": "contourcarpet"
           }
          ],
          "heatmap": [
           {
            "colorbar": {
             "outlinewidth": 0,
             "ticks": ""
            },
            "colorscale": [
             [
              0,
              "#0d0887"
             ],
             [
              0.1111111111111111,
              "#46039f"
             ],
             [
              0.2222222222222222,
              "#7201a8"
             ],
             [
              0.3333333333333333,
              "#9c179e"
             ],
             [
              0.4444444444444444,
              "#bd3786"
             ],
             [
              0.5555555555555556,
              "#d8576b"
             ],
             [
              0.6666666666666666,
              "#ed7953"
             ],
             [
              0.7777777777777778,
              "#fb9f3a"
             ],
             [
              0.8888888888888888,
              "#fdca26"
             ],
             [
              1,
              "#f0f921"
             ]
            ],
            "type": "heatmap"
           }
          ],
          "heatmapgl": [
           {
            "colorbar": {
             "outlinewidth": 0,
             "ticks": ""
            },
            "colorscale": [
             [
              0,
              "#0d0887"
             ],
             [
              0.1111111111111111,
              "#46039f"
             ],
             [
              0.2222222222222222,
              "#7201a8"
             ],
             [
              0.3333333333333333,
              "#9c179e"
             ],
             [
              0.4444444444444444,
              "#bd3786"
             ],
             [
              0.5555555555555556,
              "#d8576b"
             ],
             [
              0.6666666666666666,
              "#ed7953"
             ],
             [
              0.7777777777777778,
              "#fb9f3a"
             ],
             [
              0.8888888888888888,
              "#fdca26"
             ],
             [
              1,
              "#f0f921"
             ]
            ],
            "type": "heatmapgl"
           }
          ],
          "histogram": [
           {
            "marker": {
             "colorbar": {
              "outlinewidth": 0,
              "ticks": ""
             }
            },
            "type": "histogram"
           }
          ],
          "histogram2d": [
           {
            "colorbar": {
             "outlinewidth": 0,
             "ticks": ""
            },
            "colorscale": [
             [
              0,
              "#0d0887"
             ],
             [
              0.1111111111111111,
              "#46039f"
             ],
             [
              0.2222222222222222,
              "#7201a8"
             ],
             [
              0.3333333333333333,
              "#9c179e"
             ],
             [
              0.4444444444444444,
              "#bd3786"
             ],
             [
              0.5555555555555556,
              "#d8576b"
             ],
             [
              0.6666666666666666,
              "#ed7953"
             ],
             [
              0.7777777777777778,
              "#fb9f3a"
             ],
             [
              0.8888888888888888,
              "#fdca26"
             ],
             [
              1,
              "#f0f921"
             ]
            ],
            "type": "histogram2d"
           }
          ],
          "histogram2dcontour": [
           {
            "colorbar": {
             "outlinewidth": 0,
             "ticks": ""
            },
            "colorscale": [
             [
              0,
              "#0d0887"
             ],
             [
              0.1111111111111111,
              "#46039f"
             ],
             [
              0.2222222222222222,
              "#7201a8"
             ],
             [
              0.3333333333333333,
              "#9c179e"
             ],
             [
              0.4444444444444444,
              "#bd3786"
             ],
             [
              0.5555555555555556,
              "#d8576b"
             ],
             [
              0.6666666666666666,
              "#ed7953"
             ],
             [
              0.7777777777777778,
              "#fb9f3a"
             ],
             [
              0.8888888888888888,
              "#fdca26"
             ],
             [
              1,
              "#f0f921"
             ]
            ],
            "type": "histogram2dcontour"
           }
          ],
          "mesh3d": [
           {
            "colorbar": {
             "outlinewidth": 0,
             "ticks": ""
            },
            "type": "mesh3d"
           }
          ],
          "parcoords": [
           {
            "line": {
             "colorbar": {
              "outlinewidth": 0,
              "ticks": ""
             }
            },
            "type": "parcoords"
           }
          ],
          "scatter": [
           {
            "marker": {
             "colorbar": {
              "outlinewidth": 0,
              "ticks": ""
             }
            },
            "type": "scatter"
           }
          ],
          "scatter3d": [
           {
            "line": {
             "colorbar": {
              "outlinewidth": 0,
              "ticks": ""
             }
            },
            "marker": {
             "colorbar": {
              "outlinewidth": 0,
              "ticks": ""
             }
            },
            "type": "scatter3d"
           }
          ],
          "scattercarpet": [
           {
            "marker": {
             "colorbar": {
              "outlinewidth": 0,
              "ticks": ""
             }
            },
            "type": "scattercarpet"
           }
          ],
          "scattergeo": [
           {
            "marker": {
             "colorbar": {
              "outlinewidth": 0,
              "ticks": ""
             }
            },
            "type": "scattergeo"
           }
          ],
          "scattergl": [
           {
            "marker": {
             "colorbar": {
              "outlinewidth": 0,
              "ticks": ""
             }
            },
            "type": "scattergl"
           }
          ],
          "scattermapbox": [
           {
            "marker": {
             "colorbar": {
              "outlinewidth": 0,
              "ticks": ""
             }
            },
            "type": "scattermapbox"
           }
          ],
          "scatterpolar": [
           {
            "marker": {
             "colorbar": {
              "outlinewidth": 0,
              "ticks": ""
             }
            },
            "type": "scatterpolar"
           }
          ],
          "scatterpolargl": [
           {
            "marker": {
             "colorbar": {
              "outlinewidth": 0,
              "ticks": ""
             }
            },
            "type": "scatterpolargl"
           }
          ],
          "scatterternary": [
           {
            "marker": {
             "colorbar": {
              "outlinewidth": 0,
              "ticks": ""
             }
            },
            "type": "scatterternary"
           }
          ],
          "surface": [
           {
            "colorbar": {
             "outlinewidth": 0,
             "ticks": ""
            },
            "colorscale": [
             [
              0,
              "#0d0887"
             ],
             [
              0.1111111111111111,
              "#46039f"
             ],
             [
              0.2222222222222222,
              "#7201a8"
             ],
             [
              0.3333333333333333,
              "#9c179e"
             ],
             [
              0.4444444444444444,
              "#bd3786"
             ],
             [
              0.5555555555555556,
              "#d8576b"
             ],
             [
              0.6666666666666666,
              "#ed7953"
             ],
             [
              0.7777777777777778,
              "#fb9f3a"
             ],
             [
              0.8888888888888888,
              "#fdca26"
             ],
             [
              1,
              "#f0f921"
             ]
            ],
            "type": "surface"
           }
          ],
          "table": [
           {
            "cells": {
             "fill": {
              "color": "#EBF0F8"
             },
             "line": {
              "color": "white"
             }
            },
            "header": {
             "fill": {
              "color": "#C8D4E3"
             },
             "line": {
              "color": "white"
             }
            },
            "type": "table"
           }
          ]
         },
         "layout": {
          "annotationdefaults": {
           "arrowcolor": "#2a3f5f",
           "arrowhead": 0,
           "arrowwidth": 1
          },
          "colorscale": {
           "diverging": [
            [
             0,
             "#8e0152"
            ],
            [
             0.1,
             "#c51b7d"
            ],
            [
             0.2,
             "#de77ae"
            ],
            [
             0.3,
             "#f1b6da"
            ],
            [
             0.4,
             "#fde0ef"
            ],
            [
             0.5,
             "#f7f7f7"
            ],
            [
             0.6,
             "#e6f5d0"
            ],
            [
             0.7,
             "#b8e186"
            ],
            [
             0.8,
             "#7fbc41"
            ],
            [
             0.9,
             "#4d9221"
            ],
            [
             1,
             "#276419"
            ]
           ],
           "sequential": [
            [
             0,
             "#0d0887"
            ],
            [
             0.1111111111111111,
             "#46039f"
            ],
            [
             0.2222222222222222,
             "#7201a8"
            ],
            [
             0.3333333333333333,
             "#9c179e"
            ],
            [
             0.4444444444444444,
             "#bd3786"
            ],
            [
             0.5555555555555556,
             "#d8576b"
            ],
            [
             0.6666666666666666,
             "#ed7953"
            ],
            [
             0.7777777777777778,
             "#fb9f3a"
            ],
            [
             0.8888888888888888,
             "#fdca26"
            ],
            [
             1,
             "#f0f921"
            ]
           ],
           "sequentialminus": [
            [
             0,
             "#0d0887"
            ],
            [
             0.1111111111111111,
             "#46039f"
            ],
            [
             0.2222222222222222,
             "#7201a8"
            ],
            [
             0.3333333333333333,
             "#9c179e"
            ],
            [
             0.4444444444444444,
             "#bd3786"
            ],
            [
             0.5555555555555556,
             "#d8576b"
            ],
            [
             0.6666666666666666,
             "#ed7953"
            ],
            [
             0.7777777777777778,
             "#fb9f3a"
            ],
            [
             0.8888888888888888,
             "#fdca26"
            ],
            [
             1,
             "#f0f921"
            ]
           ]
          },
          "colorway": [
           "#636efa",
           "#EF553B",
           "#00cc96",
           "#ab63fa",
           "#FFA15A",
           "#19d3f3",
           "#FF6692",
           "#B6E880",
           "#FF97FF",
           "#FECB52"
          ],
          "font": {
           "color": "#2a3f5f"
          },
          "geo": {
           "bgcolor": "white",
           "lakecolor": "white",
           "landcolor": "#E5ECF6",
           "showlakes": true,
           "showland": true,
           "subunitcolor": "white"
          },
          "hoverlabel": {
           "align": "left"
          },
          "hovermode": "closest",
          "mapbox": {
           "style": "light"
          },
          "paper_bgcolor": "white",
          "plot_bgcolor": "#E5ECF6",
          "polar": {
           "angularaxis": {
            "gridcolor": "white",
            "linecolor": "white",
            "ticks": ""
           },
           "bgcolor": "#E5ECF6",
           "radialaxis": {
            "gridcolor": "white",
            "linecolor": "white",
            "ticks": ""
           }
          },
          "scene": {
           "xaxis": {
            "backgroundcolor": "#E5ECF6",
            "gridcolor": "white",
            "gridwidth": 2,
            "linecolor": "white",
            "showbackground": true,
            "ticks": "",
            "zerolinecolor": "white"
           },
           "yaxis": {
            "backgroundcolor": "#E5ECF6",
            "gridcolor": "white",
            "gridwidth": 2,
            "linecolor": "white",
            "showbackground": true,
            "ticks": "",
            "zerolinecolor": "white"
           },
           "zaxis": {
            "backgroundcolor": "#E5ECF6",
            "gridcolor": "white",
            "gridwidth": 2,
            "linecolor": "white",
            "showbackground": true,
            "ticks": "",
            "zerolinecolor": "white"
           }
          },
          "shapedefaults": {
           "line": {
            "color": "#2a3f5f"
           }
          },
          "ternary": {
           "aaxis": {
            "gridcolor": "white",
            "linecolor": "white",
            "ticks": ""
           },
           "baxis": {
            "gridcolor": "white",
            "linecolor": "white",
            "ticks": ""
           },
           "bgcolor": "#E5ECF6",
           "caxis": {
            "gridcolor": "white",
            "linecolor": "white",
            "ticks": ""
           }
          },
          "title": {
           "x": 0.05
          },
          "xaxis": {
           "automargin": true,
           "gridcolor": "white",
           "linecolor": "white",
           "ticks": "",
           "zerolinecolor": "white",
           "zerolinewidth": 2
          },
          "yaxis": {
           "automargin": true,
           "gridcolor": "white",
           "linecolor": "white",
           "ticks": "",
           "zerolinecolor": "white",
           "zerolinewidth": 2
          }
         }
        },
        "title": {
         "text": "Correlation Between Predcitors and Student Count from Indonesia"
        },
        "width": 1000
       }
      },
      "text/html": [
       "<div>\n",
       "        \n",
       "        \n",
       "            <div id=\"7005177b-9adc-4083-97b6-3cb441ed52eb\" class=\"plotly-graph-div\" style=\"height:1000px; width:1000px;\"></div>\n",
       "            <script type=\"text/javascript\">\n",
       "                require([\"plotly\"], function(Plotly) {\n",
       "                    window.PLOTLYENV=window.PLOTLYENV || {};\n",
       "                    \n",
       "                if (document.getElementById(\"7005177b-9adc-4083-97b6-3cb441ed52eb\")) {\n",
       "                    Plotly.newPlot(\n",
       "                        '7005177b-9adc-4083-97b6-3cb441ed52eb',\n",
       "                        [{\"colorscale\": [[0.0, \"rgb(158,1,66)\"], [0.1, \"rgb(213,62,79)\"], [0.2, \"rgb(244,109,67)\"], [0.3, \"rgb(253,174,97)\"], [0.4, \"rgb(254,224,139)\"], [0.5, \"rgb(255,255,191)\"], [0.6, \"rgb(230,245,152)\"], [0.7, \"rgb(171,221,164)\"], [0.8, \"rgb(102,194,165)\"], [0.9, \"rgb(50,136,189)\"], [1.0, \"rgb(94,79,162)\"]], \"reversescale\": true, \"type\": \"heatmap\", \"x\": [\"United States of America\", \"United Kingdom\", \"Australia\", \"Canada\", \"New Zealand\"], \"y\": [\"year\", \"dst_average_wage\", \"dst_rate_of_one_usd\", \"dst_cpi\", \"dst_qoe_top20\", \"dst_qoe_top100\", \"dst_qoe_top200\", \"dst_qoe_top500\", \"src_population\", \"src_qoe_top20\", \"src_qoe_top100\", \"src_qoe_top200\", \"src_qoe_top500\", \"src_gni\", \"src_gdp\", \"src_rate_of_one_usd\", \"src_tertiary_enrolment\", \"year_1y_shift\", \"dst_students_count_1y_shift\", \"dst_average_wage_1y_shift\", \"dst_rate_of_one_usd_1y_shift\", \"dst_cpi_1y_shift\", \"dst_qoe_top20_1y_shift\", \"dst_qoe_top100_1y_shift\", \"dst_qoe_top200_1y_shift\", \"dst_qoe_top500_1y_shift\", \"src_population_1y_shift\", \"src_qoe_top20_1y_shift\", \"src_qoe_top100_1y_shift\", \"src_qoe_top200_1y_shift\", \"src_qoe_top500_1y_shift\", \"src_gni_1y_shift\", \"src_gdp_1y_shift\", \"src_rate_of_one_usd_1y_shift\", \"src_tertiary_enrolment_1y_shift\", \"year_2y_shift\", \"dst_students_count_2y_shift\", \"dst_average_wage_2y_shift\", \"dst_rate_of_one_usd_2y_shift\", \"dst_cpi_2y_shift\", \"dst_qoe_top20_2y_shift\", \"dst_qoe_top100_2y_shift\", \"dst_qoe_top200_2y_shift\", \"dst_qoe_top500_2y_shift\", \"src_population_2y_shift\", \"src_qoe_top20_2y_shift\", \"src_qoe_top100_2y_shift\", \"src_qoe_top200_2y_shift\", \"src_qoe_top500_2y_shift\", \"src_gni_2y_shift\", \"src_gdp_2y_shift\", \"src_rate_of_one_usd_2y_shift\", \"src_tertiary_enrolment_2y_shift\"], \"z\": [[-0.7202648118159889, 0.7259696688899374, null, 0.7792103378195656, 0.6787348449673671], [-0.7394246222408399, null, null, 0.7301153707918165, 0.5826656853909022], [null, 0.46134063050199997, null, -0.5371004321811986, null], [-0.7708520412984705, 0.7434329695063333, null, 0.7823175787424167, 0.6006416214616973], [0.4769245330785892, 0.7051856846222956, null, null, null], [0.5621051236077834, -0.7616282389070355, null, null, null], [0.6030047664405562, null, null, -0.6578601720554779, null], [0.712576666742675, -0.6635421323037981, null, -0.7728982332222332, -0.6245090281135878], [-0.7057390248594226, 0.740898998615323, null, 0.7744643269522871, 0.6924488676186257], [null, null, null, null, null], [null, null, null, null, null], [null, null, null, null, null], [null, null, null, null, null], [-0.6893074751892998, 0.692881867344679, null, 0.6686521069561687, 0.6068395667534093], [-0.7165960029090682, 0.668535401838488, null, 0.6640928913641294, 0.6143203691609802], [null, 0.8795965405050555, null, 0.6070691732712856, 0.8579415351420001], [-0.6283927138071493, 0.7592651634204864, null, 0.685125753587272, 0.7418581188754324], [-0.7479441970114024, 0.687864918931357, null, 0.8547881115431996, 0.6401895690628809], [0.8925604001167733, 0.9765630324903256, null, 0.9922660077779946, 0.9261469198061205], [-0.7425797574324864, null, null, 0.8230191129816656, 0.6021852406316578], [null, 0.646291863285905, null, -0.6191245564681888, null], [-0.7979654050818652, 0.7035809074675408, null, 0.8630748997488817, 0.581265790864178], [null, 0.6862976561541313, null, null, null], [null, -0.7383172459843652, null, null, null], [0.5467674243543196, null, null, -0.7188843624330958, null], [0.6959973621414747, -0.6341354295429297, null, -0.8916352326692984, -0.5046212354871116], [-0.7222927191859667, 0.71938058574296, null, 0.8514939893507245, 0.6770143171279623], [null, null, null, null, null], [null, null, null, null, null], [null, null, null, null, null], [null, null, null, null, null], [-0.7629051547744448, 0.6292590664919003, null, 0.7323734306284169, 0.5488276215233423], [-0.7593811866884225, 0.6315715741586246, null, 0.7323233832829238, 0.583931484058747], [null, 0.869795621296348, null, 0.6621136701290623, 0.8567148000740351], [-0.6734072411276524, 0.7137892475882548, null, 0.7453710820520789, 0.7403132707153529], [-0.7597151094941716, 0.6597255541174987, null, 0.8280114270257624, 0.6432871985058535], [0.7184085654038382, 0.9204179815366281, null, 0.981988174608979, 0.8646077004348661], [-0.7572709362338321, null, null, 0.7987491530625178, 0.6164071045187179], [null, 0.6905108250129279, null, -0.48110195397244737, null], [-0.8188964654648037, 0.6490969731977547, null, 0.8294373255733808, 0.5502402839726304], [null, 0.6508007198450811, null, null, null], [null, -0.714339422399848, null, null, null], [0.5296933383290889, null, null, -0.7340140581097683, null], [0.7232121295279718, -0.5873983901600205, null, -0.8744705312807229, null], [-0.7502379081615733, 0.6722491014951497, null, 0.8234002909015798, 0.6511284848219439], [null, null, null, null, null], [null, null, null, null, null], [null, null, null, null, null], [null, null, null, null, null], [-0.813829745634872, 0.5652370706933388, null, 0.6908307632586321, 0.494629437994917], [-0.8038250759114924, 0.5856939597633203, null, 0.6943634757248964, 0.5509268836177145], [null, 0.8101352207782336, null, 0.6993926815731049, 0.7902959413141566], [-0.7413530107892594, 0.6578420515727614, null, 0.7217011742483084, 0.7147304767834524]]}],\n",
       "                        {\"autosize\": false, \"height\": 1000, \"template\": {\"data\": {\"bar\": [{\"error_x\": {\"color\": \"#2a3f5f\"}, \"error_y\": {\"color\": \"#2a3f5f\"}, \"marker\": {\"line\": {\"color\": \"#E5ECF6\", \"width\": 0.5}}, \"type\": \"bar\"}], \"barpolar\": [{\"marker\": {\"line\": {\"color\": \"#E5ECF6\", \"width\": 0.5}}, \"type\": \"barpolar\"}], \"carpet\": [{\"aaxis\": {\"endlinecolor\": \"#2a3f5f\", \"gridcolor\": \"white\", \"linecolor\": \"white\", \"minorgridcolor\": \"white\", \"startlinecolor\": \"#2a3f5f\"}, \"baxis\": {\"endlinecolor\": \"#2a3f5f\", \"gridcolor\": \"white\", \"linecolor\": \"white\", \"minorgridcolor\": \"white\", \"startlinecolor\": \"#2a3f5f\"}, \"type\": \"carpet\"}], \"choropleth\": [{\"colorbar\": {\"outlinewidth\": 0, \"ticks\": \"\"}, \"type\": \"choropleth\"}], \"contour\": [{\"colorbar\": {\"outlinewidth\": 0, \"ticks\": \"\"}, \"colorscale\": [[0.0, \"#0d0887\"], [0.1111111111111111, \"#46039f\"], [0.2222222222222222, \"#7201a8\"], [0.3333333333333333, \"#9c179e\"], [0.4444444444444444, \"#bd3786\"], [0.5555555555555556, \"#d8576b\"], [0.6666666666666666, \"#ed7953\"], [0.7777777777777778, \"#fb9f3a\"], [0.8888888888888888, \"#fdca26\"], [1.0, \"#f0f921\"]], \"type\": \"contour\"}], \"contourcarpet\": [{\"colorbar\": {\"outlinewidth\": 0, \"ticks\": \"\"}, \"type\": \"contourcarpet\"}], \"heatmap\": [{\"colorbar\": {\"outlinewidth\": 0, \"ticks\": \"\"}, \"colorscale\": [[0.0, \"#0d0887\"], [0.1111111111111111, \"#46039f\"], [0.2222222222222222, \"#7201a8\"], [0.3333333333333333, \"#9c179e\"], [0.4444444444444444, \"#bd3786\"], [0.5555555555555556, \"#d8576b\"], [0.6666666666666666, \"#ed7953\"], [0.7777777777777778, \"#fb9f3a\"], [0.8888888888888888, \"#fdca26\"], [1.0, \"#f0f921\"]], \"type\": \"heatmap\"}], \"heatmapgl\": [{\"colorbar\": {\"outlinewidth\": 0, \"ticks\": \"\"}, \"colorscale\": [[0.0, \"#0d0887\"], [0.1111111111111111, \"#46039f\"], [0.2222222222222222, \"#7201a8\"], [0.3333333333333333, \"#9c179e\"], [0.4444444444444444, \"#bd3786\"], [0.5555555555555556, \"#d8576b\"], [0.6666666666666666, \"#ed7953\"], [0.7777777777777778, \"#fb9f3a\"], [0.8888888888888888, \"#fdca26\"], [1.0, \"#f0f921\"]], \"type\": \"heatmapgl\"}], \"histogram\": [{\"marker\": {\"colorbar\": {\"outlinewidth\": 0, \"ticks\": \"\"}}, \"type\": \"histogram\"}], \"histogram2d\": [{\"colorbar\": {\"outlinewidth\": 0, \"ticks\": \"\"}, \"colorscale\": [[0.0, \"#0d0887\"], [0.1111111111111111, \"#46039f\"], [0.2222222222222222, \"#7201a8\"], [0.3333333333333333, \"#9c179e\"], [0.4444444444444444, \"#bd3786\"], [0.5555555555555556, \"#d8576b\"], [0.6666666666666666, \"#ed7953\"], [0.7777777777777778, \"#fb9f3a\"], [0.8888888888888888, \"#fdca26\"], [1.0, \"#f0f921\"]], \"type\": \"histogram2d\"}], \"histogram2dcontour\": [{\"colorbar\": {\"outlinewidth\": 0, \"ticks\": \"\"}, \"colorscale\": [[0.0, \"#0d0887\"], [0.1111111111111111, \"#46039f\"], [0.2222222222222222, \"#7201a8\"], [0.3333333333333333, \"#9c179e\"], [0.4444444444444444, \"#bd3786\"], [0.5555555555555556, \"#d8576b\"], [0.6666666666666666, \"#ed7953\"], [0.7777777777777778, \"#fb9f3a\"], [0.8888888888888888, \"#fdca26\"], [1.0, \"#f0f921\"]], \"type\": \"histogram2dcontour\"}], \"mesh3d\": [{\"colorbar\": {\"outlinewidth\": 0, \"ticks\": \"\"}, \"type\": \"mesh3d\"}], \"parcoords\": [{\"line\": {\"colorbar\": {\"outlinewidth\": 0, \"ticks\": \"\"}}, \"type\": \"parcoords\"}], \"scatter\": [{\"marker\": {\"colorbar\": {\"outlinewidth\": 0, \"ticks\": \"\"}}, \"type\": \"scatter\"}], \"scatter3d\": [{\"line\": {\"colorbar\": {\"outlinewidth\": 0, \"ticks\": \"\"}}, \"marker\": {\"colorbar\": {\"outlinewidth\": 0, \"ticks\": \"\"}}, \"type\": \"scatter3d\"}], \"scattercarpet\": [{\"marker\": {\"colorbar\": {\"outlinewidth\": 0, \"ticks\": \"\"}}, \"type\": \"scattercarpet\"}], \"scattergeo\": [{\"marker\": {\"colorbar\": {\"outlinewidth\": 0, \"ticks\": \"\"}}, \"type\": \"scattergeo\"}], \"scattergl\": [{\"marker\": {\"colorbar\": {\"outlinewidth\": 0, \"ticks\": \"\"}}, \"type\": \"scattergl\"}], \"scattermapbox\": [{\"marker\": {\"colorbar\": {\"outlinewidth\": 0, \"ticks\": \"\"}}, \"type\": \"scattermapbox\"}], \"scatterpolar\": [{\"marker\": {\"colorbar\": {\"outlinewidth\": 0, \"ticks\": \"\"}}, \"type\": \"scatterpolar\"}], \"scatterpolargl\": [{\"marker\": {\"colorbar\": {\"outlinewidth\": 0, \"ticks\": \"\"}}, \"type\": \"scatterpolargl\"}], \"scatterternary\": [{\"marker\": {\"colorbar\": {\"outlinewidth\": 0, \"ticks\": \"\"}}, \"type\": \"scatterternary\"}], \"surface\": [{\"colorbar\": {\"outlinewidth\": 0, \"ticks\": \"\"}, \"colorscale\": [[0.0, \"#0d0887\"], [0.1111111111111111, \"#46039f\"], [0.2222222222222222, \"#7201a8\"], [0.3333333333333333, \"#9c179e\"], [0.4444444444444444, \"#bd3786\"], [0.5555555555555556, \"#d8576b\"], [0.6666666666666666, \"#ed7953\"], [0.7777777777777778, \"#fb9f3a\"], [0.8888888888888888, \"#fdca26\"], [1.0, \"#f0f921\"]], \"type\": \"surface\"}], \"table\": [{\"cells\": {\"fill\": {\"color\": \"#EBF0F8\"}, \"line\": {\"color\": \"white\"}}, \"header\": {\"fill\": {\"color\": \"#C8D4E3\"}, \"line\": {\"color\": \"white\"}}, \"type\": \"table\"}]}, \"layout\": {\"annotationdefaults\": {\"arrowcolor\": \"#2a3f5f\", \"arrowhead\": 0, \"arrowwidth\": 1}, \"colorscale\": {\"diverging\": [[0, \"#8e0152\"], [0.1, \"#c51b7d\"], [0.2, \"#de77ae\"], [0.3, \"#f1b6da\"], [0.4, \"#fde0ef\"], [0.5, \"#f7f7f7\"], [0.6, \"#e6f5d0\"], [0.7, \"#b8e186\"], [0.8, \"#7fbc41\"], [0.9, \"#4d9221\"], [1, \"#276419\"]], \"sequential\": [[0.0, \"#0d0887\"], [0.1111111111111111, \"#46039f\"], [0.2222222222222222, \"#7201a8\"], [0.3333333333333333, \"#9c179e\"], [0.4444444444444444, \"#bd3786\"], [0.5555555555555556, \"#d8576b\"], [0.6666666666666666, \"#ed7953\"], [0.7777777777777778, \"#fb9f3a\"], [0.8888888888888888, \"#fdca26\"], [1.0, \"#f0f921\"]], \"sequentialminus\": [[0.0, \"#0d0887\"], [0.1111111111111111, \"#46039f\"], [0.2222222222222222, \"#7201a8\"], [0.3333333333333333, \"#9c179e\"], [0.4444444444444444, \"#bd3786\"], [0.5555555555555556, \"#d8576b\"], [0.6666666666666666, \"#ed7953\"], [0.7777777777777778, \"#fb9f3a\"], [0.8888888888888888, \"#fdca26\"], [1.0, \"#f0f921\"]]}, \"colorway\": [\"#636efa\", \"#EF553B\", \"#00cc96\", \"#ab63fa\", \"#FFA15A\", \"#19d3f3\", \"#FF6692\", \"#B6E880\", \"#FF97FF\", \"#FECB52\"], \"font\": {\"color\": \"#2a3f5f\"}, \"geo\": {\"bgcolor\": \"white\", \"lakecolor\": \"white\", \"landcolor\": \"#E5ECF6\", \"showlakes\": true, \"showland\": true, \"subunitcolor\": \"white\"}, \"hoverlabel\": {\"align\": \"left\"}, \"hovermode\": \"closest\", \"mapbox\": {\"style\": \"light\"}, \"paper_bgcolor\": \"white\", \"plot_bgcolor\": \"#E5ECF6\", \"polar\": {\"angularaxis\": {\"gridcolor\": \"white\", \"linecolor\": \"white\", \"ticks\": \"\"}, \"bgcolor\": \"#E5ECF6\", \"radialaxis\": {\"gridcolor\": \"white\", \"linecolor\": \"white\", \"ticks\": \"\"}}, \"scene\": {\"xaxis\": {\"backgroundcolor\": \"#E5ECF6\", \"gridcolor\": \"white\", \"gridwidth\": 2, \"linecolor\": \"white\", \"showbackground\": true, \"ticks\": \"\", \"zerolinecolor\": \"white\"}, \"yaxis\": {\"backgroundcolor\": \"#E5ECF6\", \"gridcolor\": \"white\", \"gridwidth\": 2, \"linecolor\": \"white\", \"showbackground\": true, \"ticks\": \"\", \"zerolinecolor\": \"white\"}, \"zaxis\": {\"backgroundcolor\": \"#E5ECF6\", \"gridcolor\": \"white\", \"gridwidth\": 2, \"linecolor\": \"white\", \"showbackground\": true, \"ticks\": \"\", \"zerolinecolor\": \"white\"}}, \"shapedefaults\": {\"line\": {\"color\": \"#2a3f5f\"}}, \"ternary\": {\"aaxis\": {\"gridcolor\": \"white\", \"linecolor\": \"white\", \"ticks\": \"\"}, \"baxis\": {\"gridcolor\": \"white\", \"linecolor\": \"white\", \"ticks\": \"\"}, \"bgcolor\": \"#E5ECF6\", \"caxis\": {\"gridcolor\": \"white\", \"linecolor\": \"white\", \"ticks\": \"\"}}, \"title\": {\"x\": 0.05}, \"xaxis\": {\"automargin\": true, \"gridcolor\": \"white\", \"linecolor\": \"white\", \"ticks\": \"\", \"zerolinecolor\": \"white\", \"zerolinewidth\": 2}, \"yaxis\": {\"automargin\": true, \"gridcolor\": \"white\", \"linecolor\": \"white\", \"ticks\": \"\", \"zerolinecolor\": \"white\", \"zerolinewidth\": 2}}}, \"title\": {\"text\": \"Correlation Between Predcitors and Student Count from Indonesia\"}, \"width\": 1000},\n",
       "                        {\"responsive\": true}\n",
       "                    ).then(function(){\n",
       "                            \n",
       "var gd = document.getElementById('7005177b-9adc-4083-97b6-3cb441ed52eb');\n",
       "var x = new MutationObserver(function (mutations, observer) {{\n",
       "        var display = window.getComputedStyle(gd).display;\n",
       "        if (!display || display === 'none') {{\n",
       "            console.log([gd, 'removed!']);\n",
       "            Plotly.purge(gd);\n",
       "            observer.disconnect();\n",
       "        }}\n",
       "}});\n",
       "\n",
       "// Listen for the removal of the full notebook cells\n",
       "var notebookContainer = gd.closest('#notebook-container');\n",
       "if (notebookContainer) {{\n",
       "    x.observe(notebookContainer, {childList: true});\n",
       "}}\n",
       "\n",
       "// Listen for the clearing of the current output cell\n",
       "var outputEl = gd.closest('.output');\n",
       "if (outputEl) {{\n",
       "    x.observe(outputEl, {childList: true});\n",
       "}}\n",
       "\n",
       "                        })\n",
       "                };\n",
       "                });\n",
       "            </script>\n",
       "        </div>"
      ]
     },
     "metadata": {},
     "output_type": "display_data"
    },
    {
     "data": {
      "application/vnd.plotly.v1+json": {
       "config": {
        "linkText": "Export to plot.ly",
        "plotlyServerURL": "https://plot.ly",
        "showLink": false
       },
       "data": [
        {
         "colorscale": [
          [
           0,
           "rgb(158,1,66)"
          ],
          [
           0.1,
           "rgb(213,62,79)"
          ],
          [
           0.2,
           "rgb(244,109,67)"
          ],
          [
           0.3,
           "rgb(253,174,97)"
          ],
          [
           0.4,
           "rgb(254,224,139)"
          ],
          [
           0.5,
           "rgb(255,255,191)"
          ],
          [
           0.6,
           "rgb(230,245,152)"
          ],
          [
           0.7,
           "rgb(171,221,164)"
          ],
          [
           0.8,
           "rgb(102,194,165)"
          ],
          [
           0.9,
           "rgb(50,136,189)"
          ],
          [
           1,
           "rgb(94,79,162)"
          ]
         ],
         "reversescale": true,
         "type": "heatmap",
         "x": [
          "United States of America",
          "United Kingdom",
          "Australia",
          "Canada",
          "New Zealand"
         ],
         "y": [
          "year",
          "dst_average_wage",
          "dst_rate_of_one_usd",
          "dst_cpi",
          "dst_qoe_top20",
          "dst_qoe_top100",
          "dst_qoe_top200",
          "dst_qoe_top500",
          "src_population",
          "src_qoe_top20",
          "src_qoe_top100",
          "src_qoe_top200",
          "src_qoe_top500",
          "src_gni",
          "src_gdp",
          "src_rate_of_one_usd",
          "src_tertiary_enrolment",
          "year_1y_shift",
          "dst_students_count_1y_shift",
          "dst_average_wage_1y_shift",
          "dst_rate_of_one_usd_1y_shift",
          "dst_cpi_1y_shift",
          "dst_qoe_top20_1y_shift",
          "dst_qoe_top100_1y_shift",
          "dst_qoe_top200_1y_shift",
          "dst_qoe_top500_1y_shift",
          "src_population_1y_shift",
          "src_qoe_top20_1y_shift",
          "src_qoe_top100_1y_shift",
          "src_qoe_top200_1y_shift",
          "src_qoe_top500_1y_shift",
          "src_gni_1y_shift",
          "src_gdp_1y_shift",
          "src_rate_of_one_usd_1y_shift",
          "src_tertiary_enrolment_1y_shift",
          "year_2y_shift",
          "dst_students_count_2y_shift",
          "dst_average_wage_2y_shift",
          "dst_rate_of_one_usd_2y_shift",
          "dst_cpi_2y_shift",
          "dst_qoe_top20_2y_shift",
          "dst_qoe_top100_2y_shift",
          "dst_qoe_top200_2y_shift",
          "dst_qoe_top500_2y_shift",
          "src_population_2y_shift",
          "src_qoe_top20_2y_shift",
          "src_qoe_top100_2y_shift",
          "src_qoe_top200_2y_shift",
          "src_qoe_top500_2y_shift",
          "src_gni_2y_shift",
          "src_gdp_2y_shift",
          "src_rate_of_one_usd_2y_shift",
          "src_tertiary_enrolment_2y_shift"
         ],
         "z": [
          [
           null,
           0.5032624363345094,
           null,
           0.5594439895249734,
           0.46296201855439056
          ],
          [
           null,
           null,
           null,
           0.5623272466808165,
           0.5440936737255633
          ],
          [
           null,
           null,
           null,
           null,
           -0.5660202014554382
          ],
          [
           -0.46959712114612906,
           0.5539167955980641,
           null,
           0.5273945496950233,
           0.5428694395475414
          ],
          [
           null,
           0.7332602928794696,
           null,
           null,
           null
          ],
          [
           null,
           -0.6828633233138777,
           null,
           null,
           null
          ],
          [
           null,
           null,
           null,
           null,
           null
          ],
          [
           null,
           null,
           null,
           null,
           null
          ],
          [
           null,
           0.4756656525816948,
           null,
           0.5415378078568971,
           0.47715921341460826
          ],
          [
           null,
           null,
           null,
           null,
           null
          ],
          [
           null,
           null,
           null,
           null,
           null
          ],
          [
           null,
           null,
           null,
           null,
           null
          ],
          [
           null,
           0.713244640741391,
           null,
           0.704513767584259,
           null
          ],
          [
           null,
           0.5608502256561066,
           null,
           0.6180615488422762,
           0.561443350126012
          ],
          [
           null,
           0.4876618958894938,
           null,
           0.5835923679020998,
           0.5697098202563672
          ],
          [
           0.5400818907878786,
           null,
           null,
           null,
           -0.48500752828717436
          ],
          [
           null,
           0.47830529820541273,
           null,
           0.5749185340675029,
           null
          ],
          [
           null,
           0.4768615174520031,
           null,
           0.6000301516330777,
           0.4449945029179127
          ],
          [
           0.8564482344228914,
           0.9749695455634539,
           0.5038219328044075,
           0.987387723742348,
           0.8277566236508654
          ],
          [
           -0.47163245100844836,
           null,
           null,
           0.5900262076148882,
           null
          ],
          [
           null,
           null,
           -0.5416200000781483,
           null,
           null
          ],
          [
           -0.49258906104278266,
           0.5258530230746065,
           null,
           0.5478157522869285,
           0.523379473066853
          ],
          [
           null,
           0.6811660577343948,
           null,
           null,
           null
          ],
          [
           null,
           -0.6524046540030697,
           null,
           null,
           null
          ],
          [
           null,
           null,
           null,
           null,
           null
          ],
          [
           null,
           -0.45983117216359903,
           null,
           null,
           null
          ],
          [
           -0.4683765990323391,
           0.45877415758081375,
           null,
           0.5620944411737009,
           0.45362155812296145
          ],
          [
           null,
           null,
           null,
           null,
           null
          ],
          [
           null,
           null,
           null,
           null,
           null
          ],
          [
           null,
           null,
           null,
           null,
           null
          ],
          [
           null,
           0.7229193210042749,
           null,
           0.645914328947785,
           null
          ],
          [
           null,
           0.4951407424728303,
           null,
           0.6287536673156668,
           0.5755372726172927
          ],
          [
           null,
           null,
           null,
           0.5892836521151981,
           0.5888429498271102
          ],
          [
           0.5137854349897178,
           null,
           -0.5776674442614265,
           null,
           -0.4788617417979441
          ],
          [
           null,
           0.5079097096434967,
           null,
           0.5491556437847055,
           null
          ],
          [
           -0.46103883352619657,
           0.5401244912505091,
           null,
           0.7345383831101623,
           null
          ],
          [
           0.5452280311842764,
           0.929844404623076,
           null,
           0.9739593147547808,
           0.5636352436864582
          ],
          [
           -0.502968586333647,
           null,
           null,
           0.7602965978237485,
           null
          ],
          [
           null,
           0.6833361215476108,
           -0.5433454871835723,
           -0.5063230425245977,
           null
          ],
          [
           -0.5200917485684458,
           0.5723832159524829,
           null,
           0.7120545379634484,
           0.5086389621903931
          ],
          [
           null,
           0.6632192475903583,
           null,
           null,
           null
          ],
          [
           null,
           -0.6822040224593593,
           null,
           null,
           null
          ],
          [
           null,
           null,
           null,
           null,
           null
          ],
          [
           null,
           -0.49035054488428587,
           null,
           null,
           null
          ],
          [
           -0.4948963043980916,
           0.5089675831078957,
           null,
           0.7219704519353735,
           0.4458750839801713
          ],
          [
           null,
           null,
           null,
           null,
           null
          ],
          [
           null,
           null,
           null,
           null,
           null
          ],
          [
           null,
           null,
           null,
           null,
           null
          ],
          [
           null,
           0.7929127040623922,
           null,
           0.6936271055398984,
           0.4654235784175917
          ],
          [
           -0.5034315249647077,
           0.507146970912897,
           null,
           0.8264310031699479,
           0.5832382621967909
          ],
          [
           -0.5075187335478476,
           null,
           null,
           0.7967399519105697,
           0.5900921722247552
          ],
          [
           0.49677038221970427,
           0.4558205106739247,
           -0.6400741680563612,
           -0.45862095838224093,
           null
          ],
          [
           null,
           0.5721518583441212,
           null,
           0.6708379299821989,
           null
          ]
         ]
        }
       ],
       "layout": {
        "autosize": false,
        "height": 1000,
        "template": {
         "data": {
          "bar": [
           {
            "error_x": {
             "color": "#2a3f5f"
            },
            "error_y": {
             "color": "#2a3f5f"
            },
            "marker": {
             "line": {
              "color": "#E5ECF6",
              "width": 0.5
             }
            },
            "type": "bar"
           }
          ],
          "barpolar": [
           {
            "marker": {
             "line": {
              "color": "#E5ECF6",
              "width": 0.5
             }
            },
            "type": "barpolar"
           }
          ],
          "carpet": [
           {
            "aaxis": {
             "endlinecolor": "#2a3f5f",
             "gridcolor": "white",
             "linecolor": "white",
             "minorgridcolor": "white",
             "startlinecolor": "#2a3f5f"
            },
            "baxis": {
             "endlinecolor": "#2a3f5f",
             "gridcolor": "white",
             "linecolor": "white",
             "minorgridcolor": "white",
             "startlinecolor": "#2a3f5f"
            },
            "type": "carpet"
           }
          ],
          "choropleth": [
           {
            "colorbar": {
             "outlinewidth": 0,
             "ticks": ""
            },
            "type": "choropleth"
           }
          ],
          "contour": [
           {
            "colorbar": {
             "outlinewidth": 0,
             "ticks": ""
            },
            "colorscale": [
             [
              0,
              "#0d0887"
             ],
             [
              0.1111111111111111,
              "#46039f"
             ],
             [
              0.2222222222222222,
              "#7201a8"
             ],
             [
              0.3333333333333333,
              "#9c179e"
             ],
             [
              0.4444444444444444,
              "#bd3786"
             ],
             [
              0.5555555555555556,
              "#d8576b"
             ],
             [
              0.6666666666666666,
              "#ed7953"
             ],
             [
              0.7777777777777778,
              "#fb9f3a"
             ],
             [
              0.8888888888888888,
              "#fdca26"
             ],
             [
              1,
              "#f0f921"
             ]
            ],
            "type": "contour"
           }
          ],
          "contourcarpet": [
           {
            "colorbar": {
             "outlinewidth": 0,
             "ticks": ""
            },
            "type": "contourcarpet"
           }
          ],
          "heatmap": [
           {
            "colorbar": {
             "outlinewidth": 0,
             "ticks": ""
            },
            "colorscale": [
             [
              0,
              "#0d0887"
             ],
             [
              0.1111111111111111,
              "#46039f"
             ],
             [
              0.2222222222222222,
              "#7201a8"
             ],
             [
              0.3333333333333333,
              "#9c179e"
             ],
             [
              0.4444444444444444,
              "#bd3786"
             ],
             [
              0.5555555555555556,
              "#d8576b"
             ],
             [
              0.6666666666666666,
              "#ed7953"
             ],
             [
              0.7777777777777778,
              "#fb9f3a"
             ],
             [
              0.8888888888888888,
              "#fdca26"
             ],
             [
              1,
              "#f0f921"
             ]
            ],
            "type": "heatmap"
           }
          ],
          "heatmapgl": [
           {
            "colorbar": {
             "outlinewidth": 0,
             "ticks": ""
            },
            "colorscale": [
             [
              0,
              "#0d0887"
             ],
             [
              0.1111111111111111,
              "#46039f"
             ],
             [
              0.2222222222222222,
              "#7201a8"
             ],
             [
              0.3333333333333333,
              "#9c179e"
             ],
             [
              0.4444444444444444,
              "#bd3786"
             ],
             [
              0.5555555555555556,
              "#d8576b"
             ],
             [
              0.6666666666666666,
              "#ed7953"
             ],
             [
              0.7777777777777778,
              "#fb9f3a"
             ],
             [
              0.8888888888888888,
              "#fdca26"
             ],
             [
              1,
              "#f0f921"
             ]
            ],
            "type": "heatmapgl"
           }
          ],
          "histogram": [
           {
            "marker": {
             "colorbar": {
              "outlinewidth": 0,
              "ticks": ""
             }
            },
            "type": "histogram"
           }
          ],
          "histogram2d": [
           {
            "colorbar": {
             "outlinewidth": 0,
             "ticks": ""
            },
            "colorscale": [
             [
              0,
              "#0d0887"
             ],
             [
              0.1111111111111111,
              "#46039f"
             ],
             [
              0.2222222222222222,
              "#7201a8"
             ],
             [
              0.3333333333333333,
              "#9c179e"
             ],
             [
              0.4444444444444444,
              "#bd3786"
             ],
             [
              0.5555555555555556,
              "#d8576b"
             ],
             [
              0.6666666666666666,
              "#ed7953"
             ],
             [
              0.7777777777777778,
              "#fb9f3a"
             ],
             [
              0.8888888888888888,
              "#fdca26"
             ],
             [
              1,
              "#f0f921"
             ]
            ],
            "type": "histogram2d"
           }
          ],
          "histogram2dcontour": [
           {
            "colorbar": {
             "outlinewidth": 0,
             "ticks": ""
            },
            "colorscale": [
             [
              0,
              "#0d0887"
             ],
             [
              0.1111111111111111,
              "#46039f"
             ],
             [
              0.2222222222222222,
              "#7201a8"
             ],
             [
              0.3333333333333333,
              "#9c179e"
             ],
             [
              0.4444444444444444,
              "#bd3786"
             ],
             [
              0.5555555555555556,
              "#d8576b"
             ],
             [
              0.6666666666666666,
              "#ed7953"
             ],
             [
              0.7777777777777778,
              "#fb9f3a"
             ],
             [
              0.8888888888888888,
              "#fdca26"
             ],
             [
              1,
              "#f0f921"
             ]
            ],
            "type": "histogram2dcontour"
           }
          ],
          "mesh3d": [
           {
            "colorbar": {
             "outlinewidth": 0,
             "ticks": ""
            },
            "type": "mesh3d"
           }
          ],
          "parcoords": [
           {
            "line": {
             "colorbar": {
              "outlinewidth": 0,
              "ticks": ""
             }
            },
            "type": "parcoords"
           }
          ],
          "scatter": [
           {
            "marker": {
             "colorbar": {
              "outlinewidth": 0,
              "ticks": ""
             }
            },
            "type": "scatter"
           }
          ],
          "scatter3d": [
           {
            "line": {
             "colorbar": {
              "outlinewidth": 0,
              "ticks": ""
             }
            },
            "marker": {
             "colorbar": {
              "outlinewidth": 0,
              "ticks": ""
             }
            },
            "type": "scatter3d"
           }
          ],
          "scattercarpet": [
           {
            "marker": {
             "colorbar": {
              "outlinewidth": 0,
              "ticks": ""
             }
            },
            "type": "scattercarpet"
           }
          ],
          "scattergeo": [
           {
            "marker": {
             "colorbar": {
              "outlinewidth": 0,
              "ticks": ""
             }
            },
            "type": "scattergeo"
           }
          ],
          "scattergl": [
           {
            "marker": {
             "colorbar": {
              "outlinewidth": 0,
              "ticks": ""
             }
            },
            "type": "scattergl"
           }
          ],
          "scattermapbox": [
           {
            "marker": {
             "colorbar": {
              "outlinewidth": 0,
              "ticks": ""
             }
            },
            "type": "scattermapbox"
           }
          ],
          "scatterpolar": [
           {
            "marker": {
             "colorbar": {
              "outlinewidth": 0,
              "ticks": ""
             }
            },
            "type": "scatterpolar"
           }
          ],
          "scatterpolargl": [
           {
            "marker": {
             "colorbar": {
              "outlinewidth": 0,
              "ticks": ""
             }
            },
            "type": "scatterpolargl"
           }
          ],
          "scatterternary": [
           {
            "marker": {
             "colorbar": {
              "outlinewidth": 0,
              "ticks": ""
             }
            },
            "type": "scatterternary"
           }
          ],
          "surface": [
           {
            "colorbar": {
             "outlinewidth": 0,
             "ticks": ""
            },
            "colorscale": [
             [
              0,
              "#0d0887"
             ],
             [
              0.1111111111111111,
              "#46039f"
             ],
             [
              0.2222222222222222,
              "#7201a8"
             ],
             [
              0.3333333333333333,
              "#9c179e"
             ],
             [
              0.4444444444444444,
              "#bd3786"
             ],
             [
              0.5555555555555556,
              "#d8576b"
             ],
             [
              0.6666666666666666,
              "#ed7953"
             ],
             [
              0.7777777777777778,
              "#fb9f3a"
             ],
             [
              0.8888888888888888,
              "#fdca26"
             ],
             [
              1,
              "#f0f921"
             ]
            ],
            "type": "surface"
           }
          ],
          "table": [
           {
            "cells": {
             "fill": {
              "color": "#EBF0F8"
             },
             "line": {
              "color": "white"
             }
            },
            "header": {
             "fill": {
              "color": "#C8D4E3"
             },
             "line": {
              "color": "white"
             }
            },
            "type": "table"
           }
          ]
         },
         "layout": {
          "annotationdefaults": {
           "arrowcolor": "#2a3f5f",
           "arrowhead": 0,
           "arrowwidth": 1
          },
          "colorscale": {
           "diverging": [
            [
             0,
             "#8e0152"
            ],
            [
             0.1,
             "#c51b7d"
            ],
            [
             0.2,
             "#de77ae"
            ],
            [
             0.3,
             "#f1b6da"
            ],
            [
             0.4,
             "#fde0ef"
            ],
            [
             0.5,
             "#f7f7f7"
            ],
            [
             0.6,
             "#e6f5d0"
            ],
            [
             0.7,
             "#b8e186"
            ],
            [
             0.8,
             "#7fbc41"
            ],
            [
             0.9,
             "#4d9221"
            ],
            [
             1,
             "#276419"
            ]
           ],
           "sequential": [
            [
             0,
             "#0d0887"
            ],
            [
             0.1111111111111111,
             "#46039f"
            ],
            [
             0.2222222222222222,
             "#7201a8"
            ],
            [
             0.3333333333333333,
             "#9c179e"
            ],
            [
             0.4444444444444444,
             "#bd3786"
            ],
            [
             0.5555555555555556,
             "#d8576b"
            ],
            [
             0.6666666666666666,
             "#ed7953"
            ],
            [
             0.7777777777777778,
             "#fb9f3a"
            ],
            [
             0.8888888888888888,
             "#fdca26"
            ],
            [
             1,
             "#f0f921"
            ]
           ],
           "sequentialminus": [
            [
             0,
             "#0d0887"
            ],
            [
             0.1111111111111111,
             "#46039f"
            ],
            [
             0.2222222222222222,
             "#7201a8"
            ],
            [
             0.3333333333333333,
             "#9c179e"
            ],
            [
             0.4444444444444444,
             "#bd3786"
            ],
            [
             0.5555555555555556,
             "#d8576b"
            ],
            [
             0.6666666666666666,
             "#ed7953"
            ],
            [
             0.7777777777777778,
             "#fb9f3a"
            ],
            [
             0.8888888888888888,
             "#fdca26"
            ],
            [
             1,
             "#f0f921"
            ]
           ]
          },
          "colorway": [
           "#636efa",
           "#EF553B",
           "#00cc96",
           "#ab63fa",
           "#FFA15A",
           "#19d3f3",
           "#FF6692",
           "#B6E880",
           "#FF97FF",
           "#FECB52"
          ],
          "font": {
           "color": "#2a3f5f"
          },
          "geo": {
           "bgcolor": "white",
           "lakecolor": "white",
           "landcolor": "#E5ECF6",
           "showlakes": true,
           "showland": true,
           "subunitcolor": "white"
          },
          "hoverlabel": {
           "align": "left"
          },
          "hovermode": "closest",
          "mapbox": {
           "style": "light"
          },
          "paper_bgcolor": "white",
          "plot_bgcolor": "#E5ECF6",
          "polar": {
           "angularaxis": {
            "gridcolor": "white",
            "linecolor": "white",
            "ticks": ""
           },
           "bgcolor": "#E5ECF6",
           "radialaxis": {
            "gridcolor": "white",
            "linecolor": "white",
            "ticks": ""
           }
          },
          "scene": {
           "xaxis": {
            "backgroundcolor": "#E5ECF6",
            "gridcolor": "white",
            "gridwidth": 2,
            "linecolor": "white",
            "showbackground": true,
            "ticks": "",
            "zerolinecolor": "white"
           },
           "yaxis": {
            "backgroundcolor": "#E5ECF6",
            "gridcolor": "white",
            "gridwidth": 2,
            "linecolor": "white",
            "showbackground": true,
            "ticks": "",
            "zerolinecolor": "white"
           },
           "zaxis": {
            "backgroundcolor": "#E5ECF6",
            "gridcolor": "white",
            "gridwidth": 2,
            "linecolor": "white",
            "showbackground": true,
            "ticks": "",
            "zerolinecolor": "white"
           }
          },
          "shapedefaults": {
           "line": {
            "color": "#2a3f5f"
           }
          },
          "ternary": {
           "aaxis": {
            "gridcolor": "white",
            "linecolor": "white",
            "ticks": ""
           },
           "baxis": {
            "gridcolor": "white",
            "linecolor": "white",
            "ticks": ""
           },
           "bgcolor": "#E5ECF6",
           "caxis": {
            "gridcolor": "white",
            "linecolor": "white",
            "ticks": ""
           }
          },
          "title": {
           "x": 0.05
          },
          "xaxis": {
           "automargin": true,
           "gridcolor": "white",
           "linecolor": "white",
           "ticks": "",
           "zerolinecolor": "white",
           "zerolinewidth": 2
          },
          "yaxis": {
           "automargin": true,
           "gridcolor": "white",
           "linecolor": "white",
           "ticks": "",
           "zerolinecolor": "white",
           "zerolinewidth": 2
          }
         }
        },
        "title": {
         "text": "Correlation Between Predcitors and Student Count from Malaysia"
        },
        "width": 1000
       }
      },
      "text/html": [
       "<div>\n",
       "        \n",
       "        \n",
       "            <div id=\"1f025e6d-1ef9-4b25-9138-5565a78642a0\" class=\"plotly-graph-div\" style=\"height:1000px; width:1000px;\"></div>\n",
       "            <script type=\"text/javascript\">\n",
       "                require([\"plotly\"], function(Plotly) {\n",
       "                    window.PLOTLYENV=window.PLOTLYENV || {};\n",
       "                    \n",
       "                if (document.getElementById(\"1f025e6d-1ef9-4b25-9138-5565a78642a0\")) {\n",
       "                    Plotly.newPlot(\n",
       "                        '1f025e6d-1ef9-4b25-9138-5565a78642a0',\n",
       "                        [{\"colorscale\": [[0.0, \"rgb(158,1,66)\"], [0.1, \"rgb(213,62,79)\"], [0.2, \"rgb(244,109,67)\"], [0.3, \"rgb(253,174,97)\"], [0.4, \"rgb(254,224,139)\"], [0.5, \"rgb(255,255,191)\"], [0.6, \"rgb(230,245,152)\"], [0.7, \"rgb(171,221,164)\"], [0.8, \"rgb(102,194,165)\"], [0.9, \"rgb(50,136,189)\"], [1.0, \"rgb(94,79,162)\"]], \"reversescale\": true, \"type\": \"heatmap\", \"x\": [\"United States of America\", \"United Kingdom\", \"Australia\", \"Canada\", \"New Zealand\"], \"y\": [\"year\", \"dst_average_wage\", \"dst_rate_of_one_usd\", \"dst_cpi\", \"dst_qoe_top20\", \"dst_qoe_top100\", \"dst_qoe_top200\", \"dst_qoe_top500\", \"src_population\", \"src_qoe_top20\", \"src_qoe_top100\", \"src_qoe_top200\", \"src_qoe_top500\", \"src_gni\", \"src_gdp\", \"src_rate_of_one_usd\", \"src_tertiary_enrolment\", \"year_1y_shift\", \"dst_students_count_1y_shift\", \"dst_average_wage_1y_shift\", \"dst_rate_of_one_usd_1y_shift\", \"dst_cpi_1y_shift\", \"dst_qoe_top20_1y_shift\", \"dst_qoe_top100_1y_shift\", \"dst_qoe_top200_1y_shift\", \"dst_qoe_top500_1y_shift\", \"src_population_1y_shift\", \"src_qoe_top20_1y_shift\", \"src_qoe_top100_1y_shift\", \"src_qoe_top200_1y_shift\", \"src_qoe_top500_1y_shift\", \"src_gni_1y_shift\", \"src_gdp_1y_shift\", \"src_rate_of_one_usd_1y_shift\", \"src_tertiary_enrolment_1y_shift\", \"year_2y_shift\", \"dst_students_count_2y_shift\", \"dst_average_wage_2y_shift\", \"dst_rate_of_one_usd_2y_shift\", \"dst_cpi_2y_shift\", \"dst_qoe_top20_2y_shift\", \"dst_qoe_top100_2y_shift\", \"dst_qoe_top200_2y_shift\", \"dst_qoe_top500_2y_shift\", \"src_population_2y_shift\", \"src_qoe_top20_2y_shift\", \"src_qoe_top100_2y_shift\", \"src_qoe_top200_2y_shift\", \"src_qoe_top500_2y_shift\", \"src_gni_2y_shift\", \"src_gdp_2y_shift\", \"src_rate_of_one_usd_2y_shift\", \"src_tertiary_enrolment_2y_shift\"], \"z\": [[null, 0.5032624363345094, null, 0.5594439895249734, 0.46296201855439056], [null, null, null, 0.5623272466808165, 0.5440936737255633], [null, null, null, null, -0.5660202014554382], [-0.46959712114612906, 0.5539167955980641, null, 0.5273945496950233, 0.5428694395475414], [null, 0.7332602928794696, null, null, null], [null, -0.6828633233138777, null, null, null], [null, null, null, null, null], [null, null, null, null, null], [null, 0.4756656525816948, null, 0.5415378078568971, 0.47715921341460826], [null, null, null, null, null], [null, null, null, null, null], [null, null, null, null, null], [null, 0.713244640741391, null, 0.704513767584259, null], [null, 0.5608502256561066, null, 0.6180615488422762, 0.561443350126012], [null, 0.4876618958894938, null, 0.5835923679020998, 0.5697098202563672], [0.5400818907878786, null, null, null, -0.48500752828717436], [null, 0.47830529820541273, null, 0.5749185340675029, null], [null, 0.4768615174520031, null, 0.6000301516330777, 0.4449945029179127], [0.8564482344228914, 0.9749695455634539, 0.5038219328044075, 0.987387723742348, 0.8277566236508654], [-0.47163245100844836, null, null, 0.5900262076148882, null], [null, null, -0.5416200000781483, null, null], [-0.49258906104278266, 0.5258530230746065, null, 0.5478157522869285, 0.523379473066853], [null, 0.6811660577343948, null, null, null], [null, -0.6524046540030697, null, null, null], [null, null, null, null, null], [null, -0.45983117216359903, null, null, null], [-0.4683765990323391, 0.45877415758081375, null, 0.5620944411737009, 0.45362155812296145], [null, null, null, null, null], [null, null, null, null, null], [null, null, null, null, null], [null, 0.7229193210042749, null, 0.645914328947785, null], [null, 0.4951407424728303, null, 0.6287536673156668, 0.5755372726172927], [null, null, null, 0.5892836521151981, 0.5888429498271102], [0.5137854349897178, null, -0.5776674442614265, null, -0.4788617417979441], [null, 0.5079097096434967, null, 0.5491556437847055, null], [-0.46103883352619657, 0.5401244912505091, null, 0.7345383831101623, null], [0.5452280311842764, 0.929844404623076, null, 0.9739593147547808, 0.5636352436864582], [-0.502968586333647, null, null, 0.7602965978237485, null], [null, 0.6833361215476108, -0.5433454871835723, -0.5063230425245977, null], [-0.5200917485684458, 0.5723832159524829, null, 0.7120545379634484, 0.5086389621903931], [null, 0.6632192475903583, null, null, null], [null, -0.6822040224593593, null, null, null], [null, null, null, null, null], [null, -0.49035054488428587, null, null, null], [-0.4948963043980916, 0.5089675831078957, null, 0.7219704519353735, 0.4458750839801713], [null, null, null, null, null], [null, null, null, null, null], [null, null, null, null, null], [null, 0.7929127040623922, null, 0.6936271055398984, 0.4654235784175917], [-0.5034315249647077, 0.507146970912897, null, 0.8264310031699479, 0.5832382621967909], [-0.5075187335478476, null, null, 0.7967399519105697, 0.5900921722247552], [0.49677038221970427, 0.4558205106739247, -0.6400741680563612, -0.45862095838224093, null], [null, 0.5721518583441212, null, 0.6708379299821989, null]]}],\n",
       "                        {\"autosize\": false, \"height\": 1000, \"template\": {\"data\": {\"bar\": [{\"error_x\": {\"color\": \"#2a3f5f\"}, \"error_y\": {\"color\": \"#2a3f5f\"}, \"marker\": {\"line\": {\"color\": \"#E5ECF6\", \"width\": 0.5}}, \"type\": \"bar\"}], \"barpolar\": [{\"marker\": {\"line\": {\"color\": \"#E5ECF6\", \"width\": 0.5}}, \"type\": \"barpolar\"}], \"carpet\": [{\"aaxis\": {\"endlinecolor\": \"#2a3f5f\", \"gridcolor\": \"white\", \"linecolor\": \"white\", \"minorgridcolor\": \"white\", \"startlinecolor\": \"#2a3f5f\"}, \"baxis\": {\"endlinecolor\": \"#2a3f5f\", \"gridcolor\": \"white\", \"linecolor\": \"white\", \"minorgridcolor\": \"white\", \"startlinecolor\": \"#2a3f5f\"}, \"type\": \"carpet\"}], \"choropleth\": [{\"colorbar\": {\"outlinewidth\": 0, \"ticks\": \"\"}, \"type\": \"choropleth\"}], \"contour\": [{\"colorbar\": {\"outlinewidth\": 0, \"ticks\": \"\"}, \"colorscale\": [[0.0, \"#0d0887\"], [0.1111111111111111, \"#46039f\"], [0.2222222222222222, \"#7201a8\"], [0.3333333333333333, \"#9c179e\"], [0.4444444444444444, \"#bd3786\"], [0.5555555555555556, \"#d8576b\"], [0.6666666666666666, \"#ed7953\"], [0.7777777777777778, \"#fb9f3a\"], [0.8888888888888888, \"#fdca26\"], [1.0, \"#f0f921\"]], \"type\": \"contour\"}], \"contourcarpet\": [{\"colorbar\": {\"outlinewidth\": 0, \"ticks\": \"\"}, \"type\": \"contourcarpet\"}], \"heatmap\": [{\"colorbar\": {\"outlinewidth\": 0, \"ticks\": \"\"}, \"colorscale\": [[0.0, \"#0d0887\"], [0.1111111111111111, \"#46039f\"], [0.2222222222222222, \"#7201a8\"], [0.3333333333333333, \"#9c179e\"], [0.4444444444444444, \"#bd3786\"], [0.5555555555555556, \"#d8576b\"], [0.6666666666666666, \"#ed7953\"], [0.7777777777777778, \"#fb9f3a\"], [0.8888888888888888, \"#fdca26\"], [1.0, \"#f0f921\"]], \"type\": \"heatmap\"}], \"heatmapgl\": [{\"colorbar\": {\"outlinewidth\": 0, \"ticks\": \"\"}, \"colorscale\": [[0.0, \"#0d0887\"], [0.1111111111111111, \"#46039f\"], [0.2222222222222222, \"#7201a8\"], [0.3333333333333333, \"#9c179e\"], [0.4444444444444444, \"#bd3786\"], [0.5555555555555556, \"#d8576b\"], [0.6666666666666666, \"#ed7953\"], [0.7777777777777778, \"#fb9f3a\"], [0.8888888888888888, \"#fdca26\"], [1.0, \"#f0f921\"]], \"type\": \"heatmapgl\"}], \"histogram\": [{\"marker\": {\"colorbar\": {\"outlinewidth\": 0, \"ticks\": \"\"}}, \"type\": \"histogram\"}], \"histogram2d\": [{\"colorbar\": {\"outlinewidth\": 0, \"ticks\": \"\"}, \"colorscale\": [[0.0, \"#0d0887\"], [0.1111111111111111, \"#46039f\"], [0.2222222222222222, \"#7201a8\"], [0.3333333333333333, \"#9c179e\"], [0.4444444444444444, \"#bd3786\"], [0.5555555555555556, \"#d8576b\"], [0.6666666666666666, \"#ed7953\"], [0.7777777777777778, \"#fb9f3a\"], [0.8888888888888888, \"#fdca26\"], [1.0, \"#f0f921\"]], \"type\": \"histogram2d\"}], \"histogram2dcontour\": [{\"colorbar\": {\"outlinewidth\": 0, \"ticks\": \"\"}, \"colorscale\": [[0.0, \"#0d0887\"], [0.1111111111111111, \"#46039f\"], [0.2222222222222222, \"#7201a8\"], [0.3333333333333333, \"#9c179e\"], [0.4444444444444444, \"#bd3786\"], [0.5555555555555556, \"#d8576b\"], [0.6666666666666666, \"#ed7953\"], [0.7777777777777778, \"#fb9f3a\"], [0.8888888888888888, \"#fdca26\"], [1.0, \"#f0f921\"]], \"type\": \"histogram2dcontour\"}], \"mesh3d\": [{\"colorbar\": {\"outlinewidth\": 0, \"ticks\": \"\"}, \"type\": \"mesh3d\"}], \"parcoords\": [{\"line\": {\"colorbar\": {\"outlinewidth\": 0, \"ticks\": \"\"}}, \"type\": \"parcoords\"}], \"scatter\": [{\"marker\": {\"colorbar\": {\"outlinewidth\": 0, \"ticks\": \"\"}}, \"type\": \"scatter\"}], \"scatter3d\": [{\"line\": {\"colorbar\": {\"outlinewidth\": 0, \"ticks\": \"\"}}, \"marker\": {\"colorbar\": {\"outlinewidth\": 0, \"ticks\": \"\"}}, \"type\": \"scatter3d\"}], \"scattercarpet\": [{\"marker\": {\"colorbar\": {\"outlinewidth\": 0, \"ticks\": \"\"}}, \"type\": \"scattercarpet\"}], \"scattergeo\": [{\"marker\": {\"colorbar\": {\"outlinewidth\": 0, \"ticks\": \"\"}}, \"type\": \"scattergeo\"}], \"scattergl\": [{\"marker\": {\"colorbar\": {\"outlinewidth\": 0, \"ticks\": \"\"}}, \"type\": \"scattergl\"}], \"scattermapbox\": [{\"marker\": {\"colorbar\": {\"outlinewidth\": 0, \"ticks\": \"\"}}, \"type\": \"scattermapbox\"}], \"scatterpolar\": [{\"marker\": {\"colorbar\": {\"outlinewidth\": 0, \"ticks\": \"\"}}, \"type\": \"scatterpolar\"}], \"scatterpolargl\": [{\"marker\": {\"colorbar\": {\"outlinewidth\": 0, \"ticks\": \"\"}}, \"type\": \"scatterpolargl\"}], \"scatterternary\": [{\"marker\": {\"colorbar\": {\"outlinewidth\": 0, \"ticks\": \"\"}}, \"type\": \"scatterternary\"}], \"surface\": [{\"colorbar\": {\"outlinewidth\": 0, \"ticks\": \"\"}, \"colorscale\": [[0.0, \"#0d0887\"], [0.1111111111111111, \"#46039f\"], [0.2222222222222222, \"#7201a8\"], [0.3333333333333333, \"#9c179e\"], [0.4444444444444444, \"#bd3786\"], [0.5555555555555556, \"#d8576b\"], [0.6666666666666666, \"#ed7953\"], [0.7777777777777778, \"#fb9f3a\"], [0.8888888888888888, \"#fdca26\"], [1.0, \"#f0f921\"]], \"type\": \"surface\"}], \"table\": [{\"cells\": {\"fill\": {\"color\": \"#EBF0F8\"}, \"line\": {\"color\": \"white\"}}, \"header\": {\"fill\": {\"color\": \"#C8D4E3\"}, \"line\": {\"color\": \"white\"}}, \"type\": \"table\"}]}, \"layout\": {\"annotationdefaults\": {\"arrowcolor\": \"#2a3f5f\", \"arrowhead\": 0, \"arrowwidth\": 1}, \"colorscale\": {\"diverging\": [[0, \"#8e0152\"], [0.1, \"#c51b7d\"], [0.2, \"#de77ae\"], [0.3, \"#f1b6da\"], [0.4, \"#fde0ef\"], [0.5, \"#f7f7f7\"], [0.6, \"#e6f5d0\"], [0.7, \"#b8e186\"], [0.8, \"#7fbc41\"], [0.9, \"#4d9221\"], [1, \"#276419\"]], \"sequential\": [[0.0, \"#0d0887\"], [0.1111111111111111, \"#46039f\"], [0.2222222222222222, \"#7201a8\"], [0.3333333333333333, \"#9c179e\"], [0.4444444444444444, \"#bd3786\"], [0.5555555555555556, \"#d8576b\"], [0.6666666666666666, \"#ed7953\"], [0.7777777777777778, \"#fb9f3a\"], [0.8888888888888888, \"#fdca26\"], [1.0, \"#f0f921\"]], \"sequentialminus\": [[0.0, \"#0d0887\"], [0.1111111111111111, \"#46039f\"], [0.2222222222222222, \"#7201a8\"], [0.3333333333333333, \"#9c179e\"], [0.4444444444444444, \"#bd3786\"], [0.5555555555555556, \"#d8576b\"], [0.6666666666666666, \"#ed7953\"], [0.7777777777777778, \"#fb9f3a\"], [0.8888888888888888, \"#fdca26\"], [1.0, \"#f0f921\"]]}, \"colorway\": [\"#636efa\", \"#EF553B\", \"#00cc96\", \"#ab63fa\", \"#FFA15A\", \"#19d3f3\", \"#FF6692\", \"#B6E880\", \"#FF97FF\", \"#FECB52\"], \"font\": {\"color\": \"#2a3f5f\"}, \"geo\": {\"bgcolor\": \"white\", \"lakecolor\": \"white\", \"landcolor\": \"#E5ECF6\", \"showlakes\": true, \"showland\": true, \"subunitcolor\": \"white\"}, \"hoverlabel\": {\"align\": \"left\"}, \"hovermode\": \"closest\", \"mapbox\": {\"style\": \"light\"}, \"paper_bgcolor\": \"white\", \"plot_bgcolor\": \"#E5ECF6\", \"polar\": {\"angularaxis\": {\"gridcolor\": \"white\", \"linecolor\": \"white\", \"ticks\": \"\"}, \"bgcolor\": \"#E5ECF6\", \"radialaxis\": {\"gridcolor\": \"white\", \"linecolor\": \"white\", \"ticks\": \"\"}}, \"scene\": {\"xaxis\": {\"backgroundcolor\": \"#E5ECF6\", \"gridcolor\": \"white\", \"gridwidth\": 2, \"linecolor\": \"white\", \"showbackground\": true, \"ticks\": \"\", \"zerolinecolor\": \"white\"}, \"yaxis\": {\"backgroundcolor\": \"#E5ECF6\", \"gridcolor\": \"white\", \"gridwidth\": 2, \"linecolor\": \"white\", \"showbackground\": true, \"ticks\": \"\", \"zerolinecolor\": \"white\"}, \"zaxis\": {\"backgroundcolor\": \"#E5ECF6\", \"gridcolor\": \"white\", \"gridwidth\": 2, \"linecolor\": \"white\", \"showbackground\": true, \"ticks\": \"\", \"zerolinecolor\": \"white\"}}, \"shapedefaults\": {\"line\": {\"color\": \"#2a3f5f\"}}, \"ternary\": {\"aaxis\": {\"gridcolor\": \"white\", \"linecolor\": \"white\", \"ticks\": \"\"}, \"baxis\": {\"gridcolor\": \"white\", \"linecolor\": \"white\", \"ticks\": \"\"}, \"bgcolor\": \"#E5ECF6\", \"caxis\": {\"gridcolor\": \"white\", \"linecolor\": \"white\", \"ticks\": \"\"}}, \"title\": {\"x\": 0.05}, \"xaxis\": {\"automargin\": true, \"gridcolor\": \"white\", \"linecolor\": \"white\", \"ticks\": \"\", \"zerolinecolor\": \"white\", \"zerolinewidth\": 2}, \"yaxis\": {\"automargin\": true, \"gridcolor\": \"white\", \"linecolor\": \"white\", \"ticks\": \"\", \"zerolinecolor\": \"white\", \"zerolinewidth\": 2}}}, \"title\": {\"text\": \"Correlation Between Predcitors and Student Count from Malaysia\"}, \"width\": 1000},\n",
       "                        {\"responsive\": true}\n",
       "                    ).then(function(){\n",
       "                            \n",
       "var gd = document.getElementById('1f025e6d-1ef9-4b25-9138-5565a78642a0');\n",
       "var x = new MutationObserver(function (mutations, observer) {{\n",
       "        var display = window.getComputedStyle(gd).display;\n",
       "        if (!display || display === 'none') {{\n",
       "            console.log([gd, 'removed!']);\n",
       "            Plotly.purge(gd);\n",
       "            observer.disconnect();\n",
       "        }}\n",
       "}});\n",
       "\n",
       "// Listen for the removal of the full notebook cells\n",
       "var notebookContainer = gd.closest('#notebook-container');\n",
       "if (notebookContainer) {{\n",
       "    x.observe(notebookContainer, {childList: true});\n",
       "}}\n",
       "\n",
       "// Listen for the clearing of the current output cell\n",
       "var outputEl = gd.closest('.output');\n",
       "if (outputEl) {{\n",
       "    x.observe(outputEl, {childList: true});\n",
       "}}\n",
       "\n",
       "                        })\n",
       "                };\n",
       "                });\n",
       "            </script>\n",
       "        </div>"
      ]
     },
     "metadata": {},
     "output_type": "display_data"
    }
   ],
   "source": [
    "for src in src_countries:\n",
    "    #read data\n",
    "    factors_df = pd.read_csv('data/grouped_'+src+'.csv')\n",
    "    \n",
    "    #calculate correalation and p-value for each destination:\n",
    "    corr_pvalues={}\n",
    "    dest_countries = ['United States of America', 'United Kingdom', 'Australia', 'Canada', 'New Zealand']\n",
    "    \n",
    "    #filter record for each destination:\n",
    "    for dest in dest_countries:\n",
    "        dest_factors = factors_df[factors_df['destination_country']== dest]\n",
    "        dest_factors = dest_factors.drop(['source_country', 'destination_country', 'dst_distance'],axis=1)\n",
    "        #shift predictors by 1 and 2 years:\n",
    "        cols = dest_factors.columns\n",
    "        dest_factors = dest_factors.join(dest_factors[cols].shift(1), rsuffix='_1y_shift')\n",
    "        dest_factors = dest_factors.join(dest_factors[cols].shift(2), rsuffix='_2y_shift')\n",
    "        #fill NaN values:\n",
    "        dest_factors['year_1y_shift'].iloc[0]=2015\n",
    "        for col in dest_factors.columns:\n",
    "            if math.isnan(dest_factors[col].iloc[1]):\n",
    "                dest_factors[col].iloc[1] = dest_factors[col].iloc[2]\n",
    "            if math.isnan(dest_factors[col].iloc[0]):\n",
    "                dest_factors[col].iloc[0] = dest_factors[col].iloc[1]\n",
    "        #calculate corr and p-valueL\n",
    "        dic = {}\n",
    "        for col in dest_factors.columns:\n",
    "            try:\n",
    "                c_p_pair = pearsonr(dest_factors[col],dest_factors['dst_students_count'])\n",
    "            except:\n",
    "                c_p_pair = (np.nan, np.nan)\n",
    "            dic[col]=c_p_pair\n",
    "        corr_pvalues[dest] = dic        \n",
    "    corr_pvalues_df = pd.DataFrame(corr_pvalues)\n",
    "    corr_pvalues_df = corr_pvalues_df.drop('dst_students_count')\n",
    "    \n",
    "    \n",
    "    [rows, cols] = corr_pvalues_df.values.shape\n",
    "    for i in range(rows):\n",
    "        for j in range(cols):\n",
    "            if corr_pvalues_df.values[i][j][1] <= 0.05:  #reject H0, the corr is sig\n",
    "                corr_pvalues_df.values[i][j]  = corr_pvalues_df.values[i][j][0]\n",
    "            else:\n",
    "                corr_pvalues_df.values[i][j] = np.nan  \n",
    "          \n",
    "        \n",
    "    trace = go.Heatmap(z=corr_pvalues_df.values,\n",
    "                       x=corr_pvalues_df.columns.values,\n",
    "                       y=corr_pvalues_df.index.values,\n",
    "                       colorscale='spectral',\n",
    "                       reversescale=True)\n",
    "\n",
    "    layout = go.Layout(\n",
    "        title=\"Correlation Between Predcitors and Student Count from \"+src,\n",
    "        autosize=False,\n",
    "        width=1000,\n",
    "        height=1000)\n",
    "\n",
    "    fig = go.Figure(data=trace, layout=layout)\n",
    "    iplot(fig)"
   ]
  },
  {
   "cell_type": "code",
   "execution_count": null,
   "metadata": {
    "collapsed": true,
    "deletable": true,
    "editable": true
   },
   "outputs": [],
   "source": []
  }
 ],
 "metadata": {
  "kernelspec": {
   "display_name": "PyCharm (Desktop)",
   "language": "python",
   "name": "pycharm-db28d4c2"
  },
  "language_info": {
   "codemirror_mode": {
    "name": "ipython",
    "version": 3
   },
   "file_extension": ".py",
   "mimetype": "text/x-python",
   "name": "python",
   "nbconvert_exporter": "python",
   "pygments_lexer": "ipython3",
   "version": "3.7.3"
  }
 },
 "nbformat": 4,
 "nbformat_minor": 2
}
