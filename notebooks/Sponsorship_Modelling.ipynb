{
 "cells": [
  {
   "cell_type": "code",
   "execution_count": null,
   "metadata": {},
   "outputs": [],
   "source": [
    "import numpy as np\n",
    "import pandas as pd\n",
    "pd.options.display.precision = 2\n",
    "pd.options.display.max_columns = 50"
   ]
  },
  {
   "cell_type": "code",
   "execution_count": null,
   "metadata": {},
   "outputs": [],
   "source": [
    "import re\n",
    "import os\n",
    "os.chdir('../../')"
   ]
  },
  {
   "cell_type": "code",
   "execution_count": null,
   "metadata": {},
   "outputs": [],
   "source": [
    "from scipy.stats import pearsonr"
   ]
  },
  {
   "cell_type": "code",
   "execution_count": null,
   "metadata": {},
   "outputs": [],
   "source": [
    "%matplotlib inline\n",
    "import matplotlib\n",
    "import matplotlib.pyplot as plt\n",
    "matplotlib.rcParams['figure.figsize'] = [15, 10]"
   ]
  },
  {
   "cell_type": "code",
   "execution_count": null,
   "metadata": {},
   "outputs": [],
   "source": [
    "#import seaborn as sns\n",
    "import plotly\n",
    "import plotly.graph_objs as go\n",
    "from plotly.offline import download_plotlyjs, init_notebook_mode, plot, iplot\n",
    "init_notebook_mode(connected=True)"
   ]
  },
  {
   "cell_type": "markdown",
   "metadata": {},
   "source": [
    "# Read Predictors data"
   ]
  },
  {
   "cell_type": "code",
   "execution_count": null,
   "metadata": {},
   "outputs": [],
   "source": [
    "predictors_df = pd.read_csv('data/imf_cpi_indices_yearly.csv', index_col='year')"
   ]
  },
  {
   "cell_type": "code",
   "execution_count": null,
   "metadata": {},
   "outputs": [],
   "source": [
    "original_predictors = predictors_df.columns\n",
    "cols = original_predictors\n",
    "predictors_df = predictors_df.join(predictors_df[cols].shift(1), rsuffix='_1y_shift')\n",
    "predictors_df = predictors_df.join(predictors_df[cols].shift(2), rsuffix='_2y_shift')\n",
    "predictors_df = predictors_df.loc[2003:2019]"
   ]
  },
  {
   "cell_type": "code",
   "execution_count": null,
   "metadata": {},
   "outputs": [],
   "source": [
    "predictors_df"
   ]
  },
  {
   "cell_type": "markdown",
   "metadata": {},
   "source": [
    "# Sponsor Report Dataset"
   ]
  },
  {
   "cell_type": "markdown",
   "metadata": {},
   "source": [
    "## Read Dataset"
   ]
  },
  {
   "cell_type": "code",
   "execution_count": null,
   "metadata": {},
   "outputs": [],
   "source": [
    "types = {\n",
    "    'Student Id': str,\n",
    "    'Availability year': str,\n",
    "    'ETS availability year': str\n",
    "}\n",
    "data_df = pd.read_csv('data/sponsored_payments_raw.csv', dtype=types)\n",
    "data_df.head()"
   ]
  },
  {
   "cell_type": "markdown",
   "metadata": {},
   "source": [
    "## Clean up the data"
   ]
  },
  {
   "cell_type": "markdown",
   "metadata": {},
   "source": [
    "### Remove entries with Status = 'Proposed'"
   ]
  },
  {
   "cell_type": "code",
   "execution_count": null,
   "metadata": {},
   "outputs": [],
   "source": [
    "data_df.Status.value_counts()"
   ]
  },
  {
   "cell_type": "code",
   "execution_count": null,
   "metadata": {},
   "outputs": [],
   "source": [
    "mask = data_df.Status == 'Proposed'\n",
    "data_df[mask].describe().astype(int)"
   ]
  },
  {
   "cell_type": "code",
   "execution_count": null,
   "metadata": {},
   "outputs": [],
   "source": [
    "data_df = data_df[~mask]"
   ]
  },
  {
   "cell_type": "markdown",
   "metadata": {},
   "source": [
    "### Remove entries with \"Availability Year\" = *na"
   ]
  },
  {
   "cell_type": "code",
   "execution_count": null,
   "metadata": {},
   "outputs": [],
   "source": [
    "year_column = 'Availability year'\n",
    "na_value = '*na'\n",
    "mask2 = data_df[year_column] == na_value\n",
    "data_df[mask2].describe().astype(int)"
   ]
  },
  {
   "cell_type": "code",
   "execution_count": null,
   "metadata": {},
   "outputs": [],
   "source": [
    "data_df[mask2].describe(include=['object']).T"
   ]
  },
  {
   "cell_type": "code",
   "execution_count": null,
   "metadata": {},
   "outputs": [],
   "source": [
    "data_df = data_df[~mask2]\n",
    "data_df[year_column] = data_df[year_column].astype(int)"
   ]
  },
  {
   "cell_type": "markdown",
   "metadata": {},
   "source": [
    "## Dataset summary"
   ]
  },
  {
   "cell_type": "code",
   "execution_count": null,
   "metadata": {},
   "outputs": [],
   "source": [
    "data_df.describe(include=['object']).T"
   ]
  },
  {
   "cell_type": "code",
   "execution_count": null,
   "metadata": {},
   "outputs": [],
   "source": [
    "#data_df['Availability year'].value_counts()#.head(10)"
   ]
  },
  {
   "cell_type": "code",
   "execution_count": null,
   "metadata": {},
   "outputs": [],
   "source": [
    "data_df.describe().astype(int).T"
   ]
  },
  {
   "cell_type": "markdown",
   "metadata": {},
   "source": [
    "## Convert data into response format"
   ]
  },
  {
   "cell_type": "code",
   "execution_count": null,
   "metadata": {},
   "outputs": [],
   "source": [
    "# configs for analysis\n",
    "response_config = {\n",
    "    'student_count':\n",
    "    {\n",
    "        'source_dataset': \n",
    "        {\n",
    "            'column_name': 'Student Id',\n",
    "            'agg_func': pd.Series.nunique\n",
    "        },        \n",
    "        'chart_properties':\n",
    "        {\n",
    "            'title': 'Number of Unique Sponsored Students',               \n",
    "        }\n",
    "    },\n",
    "    'total_amount':\n",
    "    {\n",
    "        'source_dataset': \n",
    "        {\n",
    "            'column_name': 'Actual Amount',\n",
    "            'agg_func': sum\n",
    "        },        \n",
    "        'chart_properties':\n",
    "        {\n",
    "            'title': 'Total Paid Amount',               \n",
    "        }\n",
    "    }\n",
    "}\n",
    "\n",
    "factors_config = {\n",
    "    'country': {\n",
    "        'source_dataset':\n",
    "        {\n",
    "            'column_name': 'SPO country',\n",
    "        },        \n",
    "        'chart_properties':\n",
    "        {\n",
    "            'title': 'Country',               \n",
    "        }\n",
    "    },\n",
    "    'sponsor_body':\n",
    "    {\n",
    "        'source_dataset':\n",
    "        {\n",
    "            'column_name': 'Sponsor Name',\n",
    "        },        \n",
    "        'chart_properties':\n",
    "        {\n",
    "            'title': 'Sponsor',\n",
    "        }\n",
    "    }\n",
    "}\n",
    "time_factor = 'year'\n",
    "time_factor_config = {\n",
    "    'title': 'Year'\n",
    "}\n",
    "factors_names = list(factors_config.keys())\n",
    "LEVELS_TOP = 20\n",
    "CONFIDENCE_LEVEL = 0.05"
   ]
  },
  {
   "cell_type": "code",
   "execution_count": null,
   "metadata": {},
   "outputs": [],
   "source": [
    "# prepare dataframe with expected column names\n",
    "col_names_map = {factors_config[key]['source_dataset']['column_name']: key for key in factors_config}\n",
    "col_names_map[year_column] = time_factor\n",
    "source_df = data_df.rename(columns=col_names_map)\n",
    "#source_df.index.name = time_factor"
   ]
  },
  {
   "cell_type": "code",
   "execution_count": null,
   "metadata": {},
   "outputs": [],
   "source": [
    "# aggregate raw data to get response data\n",
    "temp_dfs = []\n",
    "\n",
    "group_columns = [time_factor] + factors_names\n",
    "for key in response_config.keys():\n",
    "    config = response_config[key]['source_dataset']\n",
    "    df = source_df.groupby(group_columns)[config['column_name']].agg(config['agg_func'])\n",
    "    df.name = key\n",
    "    temp_dfs.append(df)\n",
    "    \n",
    "response_df = pd.concat(temp_dfs, axis=1)"
   ]
  },
  {
   "cell_type": "markdown",
   "metadata": {},
   "source": [
    "# Visualise"
   ]
  },
  {
   "cell_type": "code",
   "execution_count": null,
   "metadata": {},
   "outputs": [],
   "source": [
    "def plot_bar_chart(df, y_config, x_config):\n",
    "    traces = []\n",
    "    traces.append(go.Bar(\n",
    "            x = df.index.values,\n",
    "            y = df.values,\n",
    "            name = y_config['title'],\n",
    "            opacity = 0.5))\n",
    "\n",
    "\n",
    "    layout = dict(\n",
    "        title = '{} By {}'.format(y_config['title'], x_config['title']),\n",
    "        xaxis = dict(title = x_config['title']),\n",
    "\n",
    "        yaxis = dict(\n",
    "            title = y_config['title'],\n",
    "            #range = [0, 250]\n",
    "        ),\n",
    "\n",
    "        legend=dict(\n",
    "            x=0.3,\n",
    "            y=1.1,\n",
    "            traceorder='normal',\n",
    "            font=dict(\n",
    "                family='sans-serif',\n",
    "                size=12,\n",
    "                color='#000'\n",
    "            ),\n",
    "            orientation=\"h\"\n",
    "        )\n",
    "    ,\n",
    "    )\n",
    "\n",
    "    fig = dict(data=traces, layout=layout)\n",
    "    iplot(fig)"
   ]
  },
  {
   "cell_type": "code",
   "execution_count": null,
   "metadata": {},
   "outputs": [],
   "source": [
    "def plot_heatmap(correlation_df, response_var, factor_var):\n",
    "    df = correlation_df.loc[correlation_df.index.values[::-1]]\n",
    "    trace = go.Heatmap(z=df.values,\n",
    "                       x=df.columns.values,\n",
    "                       y=df.index.values,\n",
    "                       zmin = -1,\n",
    "                       zmax = 1\n",
    "                      )\n",
    "    adjust = lambda s: s.replace('_', ' ').title()\n",
    "    response_var.capitalize()\n",
    "    layout = go.Layout(\n",
    "        title=\"Correlation Between {} and Commodity Indices by {}\".format(adjust(response_var), \n",
    "                                                                              adjust(factor_var)),\n",
    "        autosize=False,\n",
    "        margin = dict(\n",
    "                r = 10,\n",
    "                t = 25,\n",
    "                b = 200,\n",
    "                l = 200),\n",
    "        width=900,\n",
    "        height=700)\n",
    "\n",
    "    fig = go.Figure(data=[trace], layout=layout)\n",
    "    iplot(fig)"
   ]
  },
  {
   "cell_type": "code",
   "execution_count": null,
   "metadata": {},
   "outputs": [],
   "source": [
    "def plot_comparison_plot(resp_df, predictors_df, predictors, x_config, y_config):\n",
    "    traces = []\n",
    "\n",
    "    # Adding predictor lines\n",
    "    for predictor in predictors:\n",
    "        traces.append(\n",
    "            go.Scatter(\n",
    "                x=predictors_df.index.values,\n",
    "                y=predictors_df[predictor].values,\n",
    "                name=predictor,\n",
    "                mode='lines'\n",
    "            ),\n",
    "        )\n",
    "\n",
    "    # Adding response variable bar-chart by factor level\n",
    "    factor_levels = resp_df.columns\n",
    "    visibility = True\n",
    "    for level in factor_levels:\n",
    "        x = resp_df.index.values\n",
    "        traces.append(go.Bar(\n",
    "            x=x,\n",
    "            y=resp_df[level],\n",
    "            yaxis='y2',\n",
    "            visible=visibility,\n",
    "            name=y_config['title'],\n",
    "            opacity = 0.5))\n",
    "        visibility = False\n",
    "\n",
    "\n",
    "    # Adding dropdown menu    \n",
    "    buttons = []\n",
    "    pr_count = len(predictors)\n",
    "    for idx, level in enumerate(factor_levels):\n",
    "        mask = [True] * pr_count + [False] * len(factor_levels)\n",
    "        mask[pr_count + idx] = True\n",
    "        buttons.append(\n",
    "            dict(\n",
    "                label = level,\n",
    "                method = 'update',\n",
    "                args = [{'visible': mask}]\n",
    "            )\n",
    "        )\n",
    "\n",
    "\n",
    "    layout = dict(\n",
    "        title = 'Trends in Commodity Prices and Number of Sponsored Students by Country',\n",
    "        xaxis = dict(title = 'Year'),\n",
    "\n",
    "        yaxis = dict(\n",
    "            title = 'Commodity Index Value',\n",
    "            range = [0, 250]\n",
    "        ),\n",
    "\n",
    "        yaxis2 = dict(\n",
    "            title=y_config['title'],\n",
    "            overlaying='y',\n",
    "            side='right',\n",
    "            range=[0, df.max().max() + 200]\n",
    "            #position=0.15\n",
    "        ),\n",
    "        updatemenus = list([dict(\n",
    "                active=0,\n",
    "                pad = {'r': 0, 't': 0},\n",
    "                x = 0.0,\n",
    "                xanchor = 'left',\n",
    "                y = 1.1,\n",
    "                yanchor = 'top',\n",
    "                buttons=buttons)]),\n",
    "        legend=dict(\n",
    "            x=0.3,\n",
    "            y=1.1,\n",
    "            traceorder='normal',\n",
    "            font=dict(\n",
    "                family='sans-serif',\n",
    "                size=12,\n",
    "                color='#000'\n",
    "            ),\n",
    "            orientation=\"h\"\n",
    "        ),\n",
    "        margin = dict(\n",
    "                r = 50,\n",
    "                t = 100,\n",
    "                b = 50,\n",
    "                l = 50)\n",
    "    ,\n",
    "    )\n",
    "\n",
    "\n",
    "    fig = dict(data=traces, layout=layout)\n",
    "\n",
    "    iplot(fig)"
   ]
  },
  {
   "cell_type": "code",
   "execution_count": null,
   "metadata": {},
   "outputs": [],
   "source": [
    "def aggregate_by_factor(response_df, response_var, time_factor, factor_var, levels_top=20):\n",
    "    group_columns = [time_factor, factor_var]\n",
    "    resp_by_factor_df = response_df.groupby(level=group_columns)[response_var].agg(sum).unstack(factor_var, fill_value=0)\n",
    "    top_levels = resp_by_factor_df.sum(axis=0).sort_values(ascending=False).index.values\n",
    "    top_levels = top_levels[:min(top_levels.shape[0], levels_top)]\n",
    "    return resp_by_factor_df[top_levels]"
   ]
  },
  {
   "cell_type": "markdown",
   "metadata": {},
   "source": [
    "## Number of Sponsored Students"
   ]
  },
  {
   "cell_type": "code",
   "execution_count": null,
   "metadata": {},
   "outputs": [],
   "source": [
    "response_var = list(response_config.keys())[0]"
   ]
  },
  {
   "cell_type": "code",
   "execution_count": null,
   "metadata": {},
   "outputs": [],
   "source": [
    "df = response_df[response_var].groupby(level=time_factor).agg(sum)\n",
    "y_config = response_config[response_var]['chart_properties']\n",
    "plot_bar_chart(df, y_config, time_factor_config)"
   ]
  },
  {
   "cell_type": "code",
   "execution_count": null,
   "metadata": {},
   "outputs": [],
   "source": [
    "for factor_var in list(factors_config.keys()):\n",
    "    df = response_df[response_var].groupby(level=factor_var).agg(sum).sort_values(ascending=False).head(15)\n",
    "    y_config = response_config[response_var]['chart_properties']\n",
    "    x_config = factors_config[factor_var]['chart_properties']\n",
    "    plot_bar_chart(df, y_config, x_config)"
   ]
  },
  {
   "cell_type": "markdown",
   "metadata": {},
   "source": [
    "### Correlation"
   ]
  },
  {
   "cell_type": "code",
   "execution_count": null,
   "metadata": {},
   "outputs": [],
   "source": [
    "time_factor_values = predictors_df.index.values\n",
    "\n",
    "for factor_var in list(factors_config.keys()):\n",
    "    # transform response df to get data for particular factor\n",
    "    resp_by_factor_df = aggregate_by_factor(response_df, response_var, time_factor, factor_var)\n",
    "    resp_by_factor_df = resp_by_factor_df.loc[time_factor_values]\n",
    "\n",
    "    # Calculate correlation and pvalues\n",
    "    factor_levels = resp_by_factor_df.columns\n",
    "    predictors = predictors_df.columns\n",
    "    correlations = np.zeros((factor_levels.shape[0], predictors.shape[0]))\n",
    "    pvalues = np.zeros((factor_levels.shape[0], predictors.shape[0]))\n",
    "    for idx, level in enumerate(factor_levels):\n",
    "        for jdx, predictor in enumerate(predictors):\n",
    "            correlation, pvalue = pearsonr(resp_by_factor_df[level], predictors_df[predictor])\n",
    "            correlations[idx, jdx] = correlation\n",
    "            pvalues[idx, jdx] = pvalue\n",
    "\n",
    "    # Form dataframe with correlations\n",
    "    correlation_df = pd.DataFrame(data=correlations, index=factor_levels, columns=predictors)\n",
    "    pvalues_df = pd.DataFrame(data=pvalues, index=factor_levels, columns=predictors)\n",
    "    significance_mask = pvalues_df < CONFIDENCE_LEVEL\n",
    "    correlation_df[~significance_mask] = np.nan\n",
    "\n",
    "\n",
    "    plot_heatmap(correlation_df, response_var, factor_var)"
   ]
  },
  {
   "cell_type": "markdown",
   "metadata": {},
   "source": [
    "### Comparison Chart"
   ]
  },
  {
   "cell_type": "code",
   "execution_count": null,
   "metadata": {},
   "outputs": [],
   "source": [
    "predictors = original_predictors[:5]\n",
    "for factor_var in list(factors_config.keys()):\n",
    "    y_config = response_config[response_var]['chart_properties']\n",
    "    x_config = factors_config[factor_var]['chart_properties']\n",
    "    df = aggregate_by_factor(response_df, response_var, time_factor, factor_var)\n",
    "    plot_comparison_plot(df, predictors_df, predictors, x_config, y_config)\n"
   ]
  },
  {
   "cell_type": "code",
   "execution_count": null,
   "metadata": {},
   "outputs": [],
   "source": []
  },
  {
   "cell_type": "markdown",
   "metadata": {},
   "source": [
    "## Total Paid Amount"
   ]
  },
  {
   "cell_type": "code",
   "execution_count": null,
   "metadata": {},
   "outputs": [],
   "source": [
    "response_var = list(response_config.keys())[1]"
   ]
  },
  {
   "cell_type": "code",
   "execution_count": null,
   "metadata": {},
   "outputs": [],
   "source": [
    "df = response_df[response_var].groupby(level=time_factor).agg(sum)\n",
    "y_config = response_config[response_var]['chart_properties']\n",
    "plot_bar_chart(df, y_config, time_factor_config)"
   ]
  },
  {
   "cell_type": "code",
   "execution_count": null,
   "metadata": {},
   "outputs": [],
   "source": [
    "for factor_var in list(factors_config.keys()):\n",
    "    df = response_df[response_var].groupby(level=factor_var).agg(sum).sort_values(ascending=False).head(15)\n",
    "    y_config = response_config[response_var]['chart_properties']\n",
    "    x_config = factors_config[factor_var]['chart_properties']\n",
    "    plot_bar_chart(df, y_config, x_config)"
   ]
  },
  {
   "cell_type": "markdown",
   "metadata": {},
   "source": [
    "### Correlation"
   ]
  },
  {
   "cell_type": "code",
   "execution_count": null,
   "metadata": {},
   "outputs": [],
   "source": [
    "time_factor_values = predictors_df.index.values\n",
    "\n",
    "for factor_var in list(factors_config.keys()):\n",
    "    # transform response df to get data for particular factor\n",
    "    resp_by_factor_df = aggregate_by_factor(response_df, response_var, time_factor, factor_var)\n",
    "    resp_by_factor_df = resp_by_factor_df.loc[time_factor_values]\n",
    "\n",
    "    # Calculate correlation and pvalues\n",
    "    factor_levels = resp_by_factor_df.columns\n",
    "    predictors = predictors_df.columns\n",
    "    correlations = np.zeros((factor_levels.shape[0], predictors.shape[0]))\n",
    "    pvalues = np.zeros((factor_levels.shape[0], predictors.shape[0]))\n",
    "    for idx, level in enumerate(factor_levels):\n",
    "        for jdx, predictor in enumerate(predictors):\n",
    "            correlation, pvalue = pearsonr(resp_by_factor_df[level], predictors_df[predictor])\n",
    "            correlations[idx, jdx] = correlation\n",
    "            pvalues[idx, jdx] = pvalue\n",
    "\n",
    "    # Form dataframe with correlations\n",
    "    correlation_df = pd.DataFrame(data=correlations, index=factor_levels, columns=predictors)\n",
    "    pvalues_df = pd.DataFrame(data=pvalues, index=factor_levels, columns=predictors)\n",
    "    significance_mask = pvalues_df < CONFIDENCE_LEVEL\n",
    "    correlation_df[~significance_mask] = np.nan\n",
    "\n",
    "\n",
    "    plot_heatmap(correlation_df, response_var, factor_var)"
   ]
  },
  {
   "cell_type": "markdown",
   "metadata": {},
   "source": [
    "### Comparison Chart"
   ]
  },
  {
   "cell_type": "code",
   "execution_count": null,
   "metadata": {},
   "outputs": [],
   "source": [
    "predictors = original_predictors[:5]\n",
    "for factor_var in list(factors_config.keys()):\n",
    "    y_config = response_config[response_var]['chart_properties']\n",
    "    x_config = factors_config[factor_var]['chart_properties']\n",
    "    df = aggregate_by_factor(response_df, response_var, time_factor, factor_var)\n",
    "    plot_comparison_plot(df, predictors_df, predictors, x_config, y_config)\n"
   ]
  }
 ],
 "metadata": {
  "hide_input": false,
  "kernelspec": {
   "display_name": "Python 3",
   "language": "python",
   "name": "python3"
  },
  "language_info": {
   "codemirror_mode": {
    "name": "ipython",
    "version": 3
   },
   "file_extension": ".py",
   "mimetype": "text/x-python",
   "name": "python",
   "nbconvert_exporter": "python",
   "pygments_lexer": "ipython3",
   "version": "3.6.4"
  },
  "toc": {
   "nav_menu": {},
   "number_sections": true,
   "sideBar": true,
   "skip_h1_title": false,
   "toc_cell": false,
   "toc_position": {},
   "toc_section_display": "block",
   "toc_window_display": true
  }
 },
 "nbformat": 4,
 "nbformat_minor": 2
}
