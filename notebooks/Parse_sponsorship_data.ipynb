{
 "cells": [
  {
   "cell_type": "code",
   "execution_count": 1,
   "metadata": {},
   "outputs": [],
   "source": [
    "import pandas as pd\n",
    "import seaborn as sns"
   ]
  },
  {
   "cell_type": "code",
   "execution_count": 3,
   "metadata": {},
   "outputs": [],
   "source": [
    "import os\n",
    "os.chdir('../')"
   ]
  },
  {
   "cell_type": "markdown",
   "metadata": {},
   "source": [
    "with open('data/Primary_Commodity_Price_System_PCPS.xlsx') as f:\n",
    "    pd.read_excel(f)"
   ]
  },
  {
   "cell_type": "code",
   "execution_count": 27,
   "metadata": {},
   "outputs": [],
   "source": [
    "factors_df = pd.read_csv('data/Primary_Commodity_Price_System_PCPS.csv', skiprows=1)"
   ]
  },
  {
   "cell_type": "code",
   "execution_count": 30,
   "metadata": {},
   "outputs": [
    {
     "data": {
      "text/html": [
       "<div>\n",
       "<style scoped>\n",
       "    .dataframe tbody tr th:only-of-type {\n",
       "        vertical-align: middle;\n",
       "    }\n",
       "\n",
       "    .dataframe tbody tr th {\n",
       "        vertical-align: top;\n",
       "    }\n",
       "\n",
       "    .dataframe thead th {\n",
       "        text-align: right;\n",
       "    }\n",
       "</style>\n",
       "<table border=\"1\" class=\"dataframe\">\n",
       "  <thead>\n",
       "    <tr style=\"text-align: right;\">\n",
       "      <th></th>\n",
       "      <th>Date</th>\n",
       "      <th>Index</th>\n",
       "      <th>Energy index</th>\n",
       "      <th>Non-Fuel index</th>\n",
       "      <th>Coal index</th>\n",
       "      <th>Natural gas index</th>\n",
       "      <th>APSP crude oil($/bbl)</th>\n",
       "      <th>Propane</th>\n",
       "      <th>Industrial Materials index</th>\n",
       "      <th>Food and beverage index</th>\n",
       "      <th>Fertilizer</th>\n",
       "      <th>year</th>\n",
       "    </tr>\n",
       "  </thead>\n",
       "  <tbody>\n",
       "    <tr>\n",
       "      <th>0</th>\n",
       "      <td>Jan 1992</td>\n",
       "      <td>50.726943</td>\n",
       "      <td>45.018531</td>\n",
       "      <td>54.673375</td>\n",
       "      <td>52.242706</td>\n",
       "      <td>54.516020</td>\n",
       "      <td>40.225371</td>\n",
       "      <td>60.870545</td>\n",
       "      <td>52.709161</td>\n",
       "      <td>66.027282</td>\n",
       "      <td>53.415036</td>\n",
       "      <td>1992</td>\n",
       "    </tr>\n",
       "    <tr>\n",
       "      <th>1</th>\n",
       "      <td>Feb 1992</td>\n",
       "      <td>50.725432</td>\n",
       "      <td>44.367798</td>\n",
       "      <td>55.120695</td>\n",
       "      <td>52.242706</td>\n",
       "      <td>49.911860</td>\n",
       "      <td>41.089686</td>\n",
       "      <td>61.616826</td>\n",
       "      <td>53.974776</td>\n",
       "      <td>66.254589</td>\n",
       "      <td>53.133171</td>\n",
       "      <td>1992</td>\n",
       "    </tr>\n",
       "    <tr>\n",
       "      <th>2</th>\n",
       "      <td>Mar 1992</td>\n",
       "      <td>50.751522</td>\n",
       "      <td>44.026943</td>\n",
       "      <td>55.400467</td>\n",
       "      <td>52.242706</td>\n",
       "      <td>50.533712</td>\n",
       "      <td>41.165326</td>\n",
       "      <td>61.389697</td>\n",
       "      <td>54.009005</td>\n",
       "      <td>67.092883</td>\n",
       "      <td>52.632231</td>\n",
       "      <td>1992</td>\n",
       "    </tr>\n",
       "    <tr>\n",
       "      <th>3</th>\n",
       "      <td>Apr 1992</td>\n",
       "      <td>51.177716</td>\n",
       "      <td>46.568196</td>\n",
       "      <td>54.364444</td>\n",
       "      <td>52.242706</td>\n",
       "      <td>51.972758</td>\n",
       "      <td>44.087573</td>\n",
       "      <td>65.640252</td>\n",
       "      <td>55.420763</td>\n",
       "      <td>64.398853</td>\n",
       "      <td>54.112916</td>\n",
       "      <td>1992</td>\n",
       "    </tr>\n",
       "    <tr>\n",
       "      <th>4</th>\n",
       "      <td>May 1992</td>\n",
       "      <td>52.638852</td>\n",
       "      <td>48.609634</td>\n",
       "      <td>55.424397</td>\n",
       "      <td>52.242706</td>\n",
       "      <td>54.754973</td>\n",
       "      <td>45.566176</td>\n",
       "      <td>68.041329</td>\n",
       "      <td>55.337380</td>\n",
       "      <td>66.398771</td>\n",
       "      <td>56.535760</td>\n",
       "      <td>1992</td>\n",
       "    </tr>\n",
       "  </tbody>\n",
       "</table>\n",
       "</div>"
      ],
      "text/plain": [
       "       Date      Index  Energy index  Non-Fuel index  Coal index  \\\n",
       "0  Jan 1992  50.726943     45.018531       54.673375   52.242706   \n",
       "1  Feb 1992  50.725432     44.367798       55.120695   52.242706   \n",
       "2  Mar 1992  50.751522     44.026943       55.400467   52.242706   \n",
       "3  Apr 1992  51.177716     46.568196       54.364444   52.242706   \n",
       "4  May 1992  52.638852     48.609634       55.424397   52.242706   \n",
       "\n",
       "   Natural gas index  APSP crude oil($/bbl)    Propane  \\\n",
       "0          54.516020              40.225371  60.870545   \n",
       "1          49.911860              41.089686  61.616826   \n",
       "2          50.533712              41.165326  61.389697   \n",
       "3          51.972758              44.087573  65.640252   \n",
       "4          54.754973              45.566176  68.041329   \n",
       "\n",
       "   Industrial Materials index  Food and beverage index  Fertilizer  year  \n",
       "0                   52.709161                66.027282   53.415036  1992  \n",
       "1                   53.974776                66.254589   53.133171  1992  \n",
       "2                   54.009005                67.092883   52.632231  1992  \n",
       "3                   55.420763                64.398853   54.112916  1992  \n",
       "4                   55.337380                66.398771   56.535760  1992  "
      ]
     },
     "execution_count": 30,
     "metadata": {},
     "output_type": "execute_result"
    }
   ],
   "source": [
    "factors_df['year'] = factors_df.Date.apply(lambda x: x.split(' ')[1])\n",
    "factors_df.head()"
   ]
  },
  {
   "cell_type": "code",
   "execution_count": 33,
   "metadata": {},
   "outputs": [],
   "source": [
    "yearly_factors = factors_df.groupby('year').mean()"
   ]
  },
  {
   "cell_type": "code",
   "execution_count": null,
   "metadata": {},
   "outputs": [],
   "source": []
  },
  {
   "cell_type": "code",
   "execution_count": null,
   "metadata": {},
   "outputs": [],
   "source": []
  },
  {
   "cell_type": "code",
   "execution_count": null,
   "metadata": {},
   "outputs": [],
   "source": []
  },
  {
   "cell_type": "code",
   "execution_count": 26,
   "metadata": {},
   "outputs": [],
   "source": [
    "df = pd.read_csv(\"data/sponsor_data_countrywise_backup.csv\").set_index('Country')\n",
    "df.columns.name = 'year'\n",
    "df = df.stack()\n",
    "df.name = 'students_count'\n",
    "df = df.to_frame().reset_index()\n",
    "df.to_csv('data/students_counts.csv', index=False)\n"
   ]
  },
  {
   "cell_type": "code",
   "execution_count": 37,
   "metadata": {},
   "outputs": [],
   "source": [
    "df.join(yearly_factors, on='year').to_csv('data/training_set.csv')"
   ]
  },
  {
   "cell_type": "code",
   "execution_count": null,
   "metadata": {},
   "outputs": [],
   "source": []
  },
  {
   "cell_type": "code",
   "execution_count": null,
   "metadata": {},
   "outputs": [],
   "source": []
  }
 ],
 "metadata": {
  "hide_input": false,
  "kernelspec": {
   "display_name": "Python 3",
   "language": "python",
   "name": "python3"
  },
  "language_info": {
   "codemirror_mode": {
    "name": "ipython",
    "version": 3
   },
   "file_extension": ".py",
   "mimetype": "text/x-python",
   "name": "python",
   "nbconvert_exporter": "python",
   "pygments_lexer": "ipython3",
   "version": "3.6.4"
  },
  "toc": {
   "nav_menu": {},
   "number_sections": true,
   "sideBar": true,
   "skip_h1_title": false,
   "toc_cell": false,
   "toc_position": {},
   "toc_section_display": "block",
   "toc_window_display": true
  }
 },
 "nbformat": 4,
 "nbformat_minor": 2
}
