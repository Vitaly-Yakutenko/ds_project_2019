{
 "cells": [
  {
   "cell_type": "code",
   "execution_count": 1,
   "metadata": {
    "collapsed": true,
    "deletable": true,
    "editable": true
   },
   "outputs": [],
   "source": [
    "import numpy as np\n",
    "import pandas as pd\n",
    "pd.options.display.precision = 2\n",
    "pd.options.display.max_columns = 50"
   ]
  },
  {
   "cell_type": "code",
   "execution_count": 2,
   "metadata": {
    "collapsed": false,
    "deletable": true,
    "editable": true
   },
   "outputs": [
    {
     "name": "stdout",
     "output_type": "stream",
     "text": [
      "/Users/shijunyi/Desktop/学习资料/U of Melbourne/2019 Sem2/Data Science Project/code/python\r\n"
     ]
    }
   ],
   "source": [
    "!pwd\n",
    "import re\n",
    "import os"
   ]
  },
  {
   "cell_type": "code",
   "execution_count": 3,
   "metadata": {
    "collapsed": true,
    "deletable": true,
    "editable": true
   },
   "outputs": [],
   "source": [
    "%matplotlib inline\n",
    "import matplotlib\n",
    "import matplotlib.pyplot as plt\n",
    "matplotlib.rcParams['figure.figsize'] = [15, 10]"
   ]
  },
  {
   "cell_type": "code",
   "execution_count": 4,
   "metadata": {
    "collapsed": false,
    "deletable": true,
    "editable": true
   },
   "outputs": [
    {
     "data": {
      "text/html": [
       "        <script type=\"text/javascript\">\n",
       "        window.PlotlyConfig = {MathJaxConfig: 'local'};\n",
       "        if (window.MathJax) {MathJax.Hub.Config({SVG: {font: \"STIX-Web\"}});}\n",
       "        if (typeof require !== 'undefined') {\n",
       "        require.undef(\"plotly\");\n",
       "        requirejs.config({\n",
       "            paths: {\n",
       "                'plotly': ['https://cdn.plot.ly/plotly-latest.min']\n",
       "            }\n",
       "        });\n",
       "        require(['plotly'], function(Plotly) {\n",
       "            window._Plotly = Plotly;\n",
       "        });\n",
       "        }\n",
       "        </script>\n",
       "        "
      ]
     },
     "metadata": {},
     "output_type": "display_data"
    }
   ],
   "source": [
    "#import seaborn as sns\n",
    "import plotly\n",
    "import plotly.graph_objs as go\n",
    "from plotly.offline import download_plotlyjs, init_notebook_mode, plot, iplot\n",
    "init_notebook_mode(connected=True)"
   ]
  },
  {
   "cell_type": "markdown",
   "metadata": {
    "deletable": true,
    "editable": true
   },
   "source": [
    "# United Kingdom"
   ]
  },
  {
   "cell_type": "markdown",
   "metadata": {
    "deletable": true,
    "editable": true
   },
   "source": [
    "## Read data"
   ]
  },
  {
   "cell_type": "code",
   "execution_count": 5,
   "metadata": {
    "collapsed": false,
    "deletable": true,
    "editable": true
   },
   "outputs": [],
   "source": [
    "aus_factors_df = pd.read_csv('data/canada_combined_factors.csv')"
   ]
  },
  {
   "cell_type": "code",
   "execution_count": 6,
   "metadata": {
    "collapsed": false,
    "deletable": true,
    "editable": true
   },
   "outputs": [
    {
     "data": {
      "text/html": [
       "<div>\n",
       "<style scoped>\n",
       "    .dataframe tbody tr th:only-of-type {\n",
       "        vertical-align: middle;\n",
       "    }\n",
       "\n",
       "    .dataframe tbody tr th {\n",
       "        vertical-align: top;\n",
       "    }\n",
       "\n",
       "    .dataframe thead th {\n",
       "        text-align: right;\n",
       "    }\n",
       "</style>\n",
       "<table border=\"1\" class=\"dataframe\">\n",
       "  <thead>\n",
       "    <tr style=\"text-align: right;\">\n",
       "      <th></th>\n",
       "      <th>year</th>\n",
       "      <th>source_country</th>\n",
       "      <th>destination_country</th>\n",
       "      <th>dst_distance</th>\n",
       "      <th>dst_students_count</th>\n",
       "      <th>dst_average_wage</th>\n",
       "      <th>dst_rate_of_one_usd</th>\n",
       "      <th>dst_cpi</th>\n",
       "      <th>dst_qoe_top20</th>\n",
       "      <th>dst_qoe_top100</th>\n",
       "      <th>dst_qoe_top200</th>\n",
       "      <th>dst_qoe_top500</th>\n",
       "      <th>src_population</th>\n",
       "      <th>src_qoe_top20</th>\n",
       "      <th>src_qoe_top100</th>\n",
       "      <th>src_qoe_top200</th>\n",
       "      <th>src_qoe_top500</th>\n",
       "      <th>src_gni</th>\n",
       "      <th>src_gdp</th>\n",
       "      <th>src_rate_of_one_usd</th>\n",
       "      <th>src_tertiary_enrolment</th>\n",
       "    </tr>\n",
       "  </thead>\n",
       "  <tbody>\n",
       "    <tr>\n",
       "      <td>0</td>\n",
       "      <td>2016</td>\n",
       "      <td>China</td>\n",
       "      <td>Canada</td>\n",
       "      <td>9380</td>\n",
       "      <td>60936</td>\n",
       "      <td>47793.0</td>\n",
       "      <td>1.33</td>\n",
       "      <td>110.22</td>\n",
       "      <td>0</td>\n",
       "      <td>4</td>\n",
       "      <td>6</td>\n",
       "      <td>19</td>\n",
       "      <td>1378665000</td>\n",
       "      <td>0</td>\n",
       "      <td>2</td>\n",
       "      <td>12</td>\n",
       "      <td>54</td>\n",
       "      <td>8210.0</td>\n",
       "      <td>1.11e+13</td>\n",
       "      <td>6.64</td>\n",
       "      <td>48.44</td>\n",
       "    </tr>\n",
       "    <tr>\n",
       "      <td>1</td>\n",
       "      <td>2015</td>\n",
       "      <td>China</td>\n",
       "      <td>Canada</td>\n",
       "      <td>9380</td>\n",
       "      <td>54660</td>\n",
       "      <td>48979.0</td>\n",
       "      <td>1.28</td>\n",
       "      <td>108.67</td>\n",
       "      <td>0</td>\n",
       "      <td>4</td>\n",
       "      <td>6</td>\n",
       "      <td>20</td>\n",
       "      <td>1371220000</td>\n",
       "      <td>0</td>\n",
       "      <td>0</td>\n",
       "      <td>10</td>\n",
       "      <td>44</td>\n",
       "      <td>7910.0</td>\n",
       "      <td>1.10e+13</td>\n",
       "      <td>6.23</td>\n",
       "      <td>45.35</td>\n",
       "    </tr>\n",
       "    <tr>\n",
       "      <td>2</td>\n",
       "      <td>2014</td>\n",
       "      <td>China</td>\n",
       "      <td>Canada</td>\n",
       "      <td>9380</td>\n",
       "      <td>50031</td>\n",
       "      <td>48718.0</td>\n",
       "      <td>1.10</td>\n",
       "      <td>107.46</td>\n",
       "      <td>0</td>\n",
       "      <td>4</td>\n",
       "      <td>7</td>\n",
       "      <td>21</td>\n",
       "      <td>1364270000</td>\n",
       "      <td>0</td>\n",
       "      <td>0</td>\n",
       "      <td>9</td>\n",
       "      <td>44</td>\n",
       "      <td>7500.0</td>\n",
       "      <td>1.04e+13</td>\n",
       "      <td>6.14</td>\n",
       "      <td>41.28</td>\n",
       "    </tr>\n",
       "    <tr>\n",
       "      <td>3</td>\n",
       "      <td>2013</td>\n",
       "      <td>China</td>\n",
       "      <td>Canada</td>\n",
       "      <td>9380</td>\n",
       "      <td>42011</td>\n",
       "      <td>48192.0</td>\n",
       "      <td>1.03</td>\n",
       "      <td>105.45</td>\n",
       "      <td>0</td>\n",
       "      <td>4</td>\n",
       "      <td>7</td>\n",
       "      <td>23</td>\n",
       "      <td>1357380000</td>\n",
       "      <td>0</td>\n",
       "      <td>0</td>\n",
       "      <td>7</td>\n",
       "      <td>42</td>\n",
       "      <td>6770.0</td>\n",
       "      <td>9.57e+12</td>\n",
       "      <td>6.20</td>\n",
       "      <td>31.46</td>\n",
       "    </tr>\n",
       "    <tr>\n",
       "      <td>4</td>\n",
       "      <td>2012</td>\n",
       "      <td>China</td>\n",
       "      <td>Canada</td>\n",
       "      <td>9380</td>\n",
       "      <td>34602</td>\n",
       "      <td>47276.0</td>\n",
       "      <td>1.00</td>\n",
       "      <td>104.47</td>\n",
       "      <td>0</td>\n",
       "      <td>4</td>\n",
       "      <td>7</td>\n",
       "      <td>22</td>\n",
       "      <td>1350695000</td>\n",
       "      <td>0</td>\n",
       "      <td>0</td>\n",
       "      <td>7</td>\n",
       "      <td>42</td>\n",
       "      <td>5930.0</td>\n",
       "      <td>8.53e+12</td>\n",
       "      <td>6.31</td>\n",
       "      <td>28.04</td>\n",
       "    </tr>\n",
       "    <tr>\n",
       "      <td>...</td>\n",
       "      <td>...</td>\n",
       "      <td>...</td>\n",
       "      <td>...</td>\n",
       "      <td>...</td>\n",
       "      <td>...</td>\n",
       "      <td>...</td>\n",
       "      <td>...</td>\n",
       "      <td>...</td>\n",
       "      <td>...</td>\n",
       "      <td>...</td>\n",
       "      <td>...</td>\n",
       "      <td>...</td>\n",
       "      <td>...</td>\n",
       "      <td>...</td>\n",
       "      <td>...</td>\n",
       "      <td>...</td>\n",
       "      <td>...</td>\n",
       "      <td>...</td>\n",
       "      <td>...</td>\n",
       "      <td>...</td>\n",
       "      <td>...</td>\n",
       "    </tr>\n",
       "    <tr>\n",
       "      <td>71</td>\n",
       "      <td>2001</td>\n",
       "      <td>Indonesia</td>\n",
       "      <td>Canada</td>\n",
       "      <td>12878</td>\n",
       "      <td>444</td>\n",
       "      <td>39218.0</td>\n",
       "      <td>1.55</td>\n",
       "      <td>83.96</td>\n",
       "      <td>0</td>\n",
       "      <td>4</td>\n",
       "      <td>8</td>\n",
       "      <td>24</td>\n",
       "      <td>214427417</td>\n",
       "      <td>0</td>\n",
       "      <td>0</td>\n",
       "      <td>0</td>\n",
       "      <td>0</td>\n",
       "      <td>720.0</td>\n",
       "      <td>1.60e+11</td>\n",
       "      <td>10260.85</td>\n",
       "      <td>14.19</td>\n",
       "    </tr>\n",
       "    <tr>\n",
       "      <td>72</td>\n",
       "      <td>1998</td>\n",
       "      <td>Indonesia</td>\n",
       "      <td>Canada</td>\n",
       "      <td>12878</td>\n",
       "      <td>384</td>\n",
       "      <td>37289.0</td>\n",
       "      <td>1.48</td>\n",
       "      <td>78.36</td>\n",
       "      <td>0</td>\n",
       "      <td>4</td>\n",
       "      <td>8</td>\n",
       "      <td>25</td>\n",
       "      <td>205724592</td>\n",
       "      <td>0</td>\n",
       "      <td>0</td>\n",
       "      <td>0</td>\n",
       "      <td>0</td>\n",
       "      <td>660.0</td>\n",
       "      <td>9.54e+10</td>\n",
       "      <td>10013.62</td>\n",
       "      <td>13.36</td>\n",
       "    </tr>\n",
       "    <tr>\n",
       "      <td>73</td>\n",
       "      <td>1999</td>\n",
       "      <td>Indonesia</td>\n",
       "      <td>Canada</td>\n",
       "      <td>12878</td>\n",
       "      <td>375</td>\n",
       "      <td>37939.0</td>\n",
       "      <td>1.49</td>\n",
       "      <td>79.72</td>\n",
       "      <td>0</td>\n",
       "      <td>4</td>\n",
       "      <td>8</td>\n",
       "      <td>25</td>\n",
       "      <td>208615169</td>\n",
       "      <td>0</td>\n",
       "      <td>0</td>\n",
       "      <td>0</td>\n",
       "      <td>0</td>\n",
       "      <td>570.0</td>\n",
       "      <td>1.40e+11</td>\n",
       "      <td>7855.15</td>\n",
       "      <td>14.75</td>\n",
       "    </tr>\n",
       "    <tr>\n",
       "      <td>74</td>\n",
       "      <td>2000</td>\n",
       "      <td>Indonesia</td>\n",
       "      <td>Canada</td>\n",
       "      <td>12878</td>\n",
       "      <td>375</td>\n",
       "      <td>39380.0</td>\n",
       "      <td>1.49</td>\n",
       "      <td>81.89</td>\n",
       "      <td>0</td>\n",
       "      <td>4</td>\n",
       "      <td>8</td>\n",
       "      <td>25</td>\n",
       "      <td>211513823</td>\n",
       "      <td>0</td>\n",
       "      <td>0</td>\n",
       "      <td>0</td>\n",
       "      <td>0</td>\n",
       "      <td>580.0</td>\n",
       "      <td>1.65e+11</td>\n",
       "      <td>8421.77</td>\n",
       "      <td>14.88</td>\n",
       "    </tr>\n",
       "    <tr>\n",
       "      <td>75</td>\n",
       "      <td>2006</td>\n",
       "      <td>Indonesia</td>\n",
       "      <td>Canada</td>\n",
       "      <td>12878</td>\n",
       "      <td>336</td>\n",
       "      <td>42908.0</td>\n",
       "      <td>1.13</td>\n",
       "      <td>93.69</td>\n",
       "      <td>0</td>\n",
       "      <td>4</td>\n",
       "      <td>8</td>\n",
       "      <td>22</td>\n",
       "      <td>229318262</td>\n",
       "      <td>0</td>\n",
       "      <td>0</td>\n",
       "      <td>0</td>\n",
       "      <td>0</td>\n",
       "      <td>1380.0</td>\n",
       "      <td>3.65e+11</td>\n",
       "      <td>9159.32</td>\n",
       "      <td>17.31</td>\n",
       "    </tr>\n",
       "  </tbody>\n",
       "</table>\n",
       "<p>76 rows × 21 columns</p>\n",
       "</div>"
      ],
      "text/plain": [
       "    year source_country destination_country  dst_distance  dst_students_count  \\\n",
       "0   2016          China              Canada          9380               60936   \n",
       "1   2015          China              Canada          9380               54660   \n",
       "2   2014          China              Canada          9380               50031   \n",
       "3   2013          China              Canada          9380               42011   \n",
       "4   2012          China              Canada          9380               34602   \n",
       "..   ...            ...                 ...           ...                 ...   \n",
       "71  2001      Indonesia              Canada         12878                 444   \n",
       "72  1998      Indonesia              Canada         12878                 384   \n",
       "73  1999      Indonesia              Canada         12878                 375   \n",
       "74  2000      Indonesia              Canada         12878                 375   \n",
       "75  2006      Indonesia              Canada         12878                 336   \n",
       "\n",
       "    dst_average_wage  dst_rate_of_one_usd  dst_cpi  dst_qoe_top20  \\\n",
       "0            47793.0                 1.33   110.22              0   \n",
       "1            48979.0                 1.28   108.67              0   \n",
       "2            48718.0                 1.10   107.46              0   \n",
       "3            48192.0                 1.03   105.45              0   \n",
       "4            47276.0                 1.00   104.47              0   \n",
       "..               ...                  ...      ...            ...   \n",
       "71           39218.0                 1.55    83.96              0   \n",
       "72           37289.0                 1.48    78.36              0   \n",
       "73           37939.0                 1.49    79.72              0   \n",
       "74           39380.0                 1.49    81.89              0   \n",
       "75           42908.0                 1.13    93.69              0   \n",
       "\n",
       "    dst_qoe_top100  dst_qoe_top200  dst_qoe_top500  src_population  \\\n",
       "0                4               6              19      1378665000   \n",
       "1                4               6              20      1371220000   \n",
       "2                4               7              21      1364270000   \n",
       "3                4               7              23      1357380000   \n",
       "4                4               7              22      1350695000   \n",
       "..             ...             ...             ...             ...   \n",
       "71               4               8              24       214427417   \n",
       "72               4               8              25       205724592   \n",
       "73               4               8              25       208615169   \n",
       "74               4               8              25       211513823   \n",
       "75               4               8              22       229318262   \n",
       "\n",
       "    src_qoe_top20  src_qoe_top100  src_qoe_top200  src_qoe_top500  src_gni  \\\n",
       "0               0               2              12              54   8210.0   \n",
       "1               0               0              10              44   7910.0   \n",
       "2               0               0               9              44   7500.0   \n",
       "3               0               0               7              42   6770.0   \n",
       "4               0               0               7              42   5930.0   \n",
       "..            ...             ...             ...             ...      ...   \n",
       "71              0               0               0               0    720.0   \n",
       "72              0               0               0               0    660.0   \n",
       "73              0               0               0               0    570.0   \n",
       "74              0               0               0               0    580.0   \n",
       "75              0               0               0               0   1380.0   \n",
       "\n",
       "     src_gdp  src_rate_of_one_usd  src_tertiary_enrolment  \n",
       "0   1.11e+13                 6.64                   48.44  \n",
       "1   1.10e+13                 6.23                   45.35  \n",
       "2   1.04e+13                 6.14                   41.28  \n",
       "3   9.57e+12                 6.20                   31.46  \n",
       "4   8.53e+12                 6.31                   28.04  \n",
       "..       ...                  ...                     ...  \n",
       "71  1.60e+11             10260.85                   14.19  \n",
       "72  9.54e+10             10013.62                   13.36  \n",
       "73  1.40e+11              7855.15                   14.75  \n",
       "74  1.65e+11              8421.77                   14.88  \n",
       "75  3.65e+11              9159.32                   17.31  \n",
       "\n",
       "[76 rows x 21 columns]"
      ]
     },
     "execution_count": 6,
     "metadata": {},
     "output_type": "execute_result"
    }
   ],
   "source": [
    "aus_factors_df"
   ]
  },
  {
   "cell_type": "markdown",
   "metadata": {
    "deletable": true,
    "editable": true
   },
   "source": [
    "## Calculate correlation"
   ]
  },
  {
   "cell_type": "markdown",
   "metadata": {
    "deletable": true,
    "editable": true
   },
   "source": [
    "### China"
   ]
  },
  {
   "cell_type": "code",
   "execution_count": 7,
   "metadata": {
    "collapsed": true,
    "deletable": true,
    "editable": true
   },
   "outputs": [],
   "source": [
    "china_aus_factors = aus_factors_df[aus_factors_df['source_country']=='China']\n",
    "cols = china_aus_factors.columns\n",
    "china_aus_factors = china_aus_factors.join(china_aus_factors[cols].shift(1), rsuffix='_1y_shift')\n",
    "china_aus_factors = china_aus_factors.join(china_aus_factors[cols].shift(2), rsuffix='_2y_shift')"
   ]
  },
  {
   "cell_type": "code",
   "execution_count": 8,
   "metadata": {
    "collapsed": false,
    "deletable": true,
    "editable": true
   },
   "outputs": [],
   "source": [
    "china_corr_series = china_aus_factors.corr().loc['dst_students_count'].fillna(0).drop(['dst_students_count'])\n",
    "corr_df = pd.DataFrame(china_corr_series).rename(columns={'dst_students_count': 'china_student_count'}).T"
   ]
  },
  {
   "cell_type": "code",
   "execution_count": 9,
   "metadata": {
    "collapsed": false,
    "deletable": true,
    "editable": true
   },
   "outputs": [
    {
     "data": {
      "text/html": [
       "<div>\n",
       "<style scoped>\n",
       "    .dataframe tbody tr th:only-of-type {\n",
       "        vertical-align: middle;\n",
       "    }\n",
       "\n",
       "    .dataframe tbody tr th {\n",
       "        vertical-align: top;\n",
       "    }\n",
       "\n",
       "    .dataframe thead th {\n",
       "        text-align: right;\n",
       "    }\n",
       "</style>\n",
       "<table border=\"1\" class=\"dataframe\">\n",
       "  <thead>\n",
       "    <tr style=\"text-align: right;\">\n",
       "      <th></th>\n",
       "      <th>year</th>\n",
       "      <th>dst_distance</th>\n",
       "      <th>dst_average_wage</th>\n",
       "      <th>dst_rate_of_one_usd</th>\n",
       "      <th>dst_cpi</th>\n",
       "      <th>dst_qoe_top20</th>\n",
       "      <th>dst_qoe_top100</th>\n",
       "      <th>dst_qoe_top200</th>\n",
       "      <th>dst_qoe_top500</th>\n",
       "      <th>src_population</th>\n",
       "      <th>src_qoe_top20</th>\n",
       "      <th>src_qoe_top100</th>\n",
       "      <th>src_qoe_top200</th>\n",
       "      <th>src_qoe_top500</th>\n",
       "      <th>src_gni</th>\n",
       "      <th>src_gdp</th>\n",
       "      <th>src_rate_of_one_usd</th>\n",
       "      <th>src_tertiary_enrolment</th>\n",
       "      <th>year_1y_shift</th>\n",
       "      <th>dst_distance_1y_shift</th>\n",
       "      <th>dst_students_count_1y_shift</th>\n",
       "      <th>dst_average_wage_1y_shift</th>\n",
       "      <th>dst_rate_of_one_usd_1y_shift</th>\n",
       "      <th>dst_cpi_1y_shift</th>\n",
       "      <th>dst_qoe_top20_1y_shift</th>\n",
       "      <th>...</th>\n",
       "      <th>src_qoe_top200_1y_shift</th>\n",
       "      <th>src_qoe_top500_1y_shift</th>\n",
       "      <th>src_gni_1y_shift</th>\n",
       "      <th>src_gdp_1y_shift</th>\n",
       "      <th>src_rate_of_one_usd_1y_shift</th>\n",
       "      <th>src_tertiary_enrolment_1y_shift</th>\n",
       "      <th>year_2y_shift</th>\n",
       "      <th>dst_distance_2y_shift</th>\n",
       "      <th>dst_students_count_2y_shift</th>\n",
       "      <th>dst_average_wage_2y_shift</th>\n",
       "      <th>dst_rate_of_one_usd_2y_shift</th>\n",
       "      <th>dst_cpi_2y_shift</th>\n",
       "      <th>dst_qoe_top20_2y_shift</th>\n",
       "      <th>dst_qoe_top100_2y_shift</th>\n",
       "      <th>dst_qoe_top200_2y_shift</th>\n",
       "      <th>dst_qoe_top500_2y_shift</th>\n",
       "      <th>src_population_2y_shift</th>\n",
       "      <th>src_qoe_top20_2y_shift</th>\n",
       "      <th>src_qoe_top100_2y_shift</th>\n",
       "      <th>src_qoe_top200_2y_shift</th>\n",
       "      <th>src_qoe_top500_2y_shift</th>\n",
       "      <th>src_gni_2y_shift</th>\n",
       "      <th>src_gdp_2y_shift</th>\n",
       "      <th>src_rate_of_one_usd_2y_shift</th>\n",
       "      <th>src_tertiary_enrolment_2y_shift</th>\n",
       "    </tr>\n",
       "  </thead>\n",
       "  <tbody>\n",
       "    <tr>\n",
       "      <td>china_student_count</td>\n",
       "      <td>0.95</td>\n",
       "      <td>0.0</td>\n",
       "      <td>0.89</td>\n",
       "      <td>-0.49</td>\n",
       "      <td>0.93</td>\n",
       "      <td>0.0</td>\n",
       "      <td>0.0</td>\n",
       "      <td>-0.66</td>\n",
       "      <td>-0.85</td>\n",
       "      <td>0.93</td>\n",
       "      <td>0.0</td>\n",
       "      <td>0.52</td>\n",
       "      <td>0.96</td>\n",
       "      <td>0.94</td>\n",
       "      <td>0.97</td>\n",
       "      <td>0.96</td>\n",
       "      <td>-0.84</td>\n",
       "      <td>0.99</td>\n",
       "      <td>0.94</td>\n",
       "      <td>0.0</td>\n",
       "      <td>0.99</td>\n",
       "      <td>0.89</td>\n",
       "      <td>-0.45</td>\n",
       "      <td>0.93</td>\n",
       "      <td>0.0</td>\n",
       "      <td>...</td>\n",
       "      <td>0.94</td>\n",
       "      <td>0.94</td>\n",
       "      <td>0.96</td>\n",
       "      <td>0.95</td>\n",
       "      <td>-0.83</td>\n",
       "      <td>0.99</td>\n",
       "      <td>0.94</td>\n",
       "      <td>0.0</td>\n",
       "      <td>0.98</td>\n",
       "      <td>0.87</td>\n",
       "      <td>-0.41</td>\n",
       "      <td>0.93</td>\n",
       "      <td>0.0</td>\n",
       "      <td>0.0</td>\n",
       "      <td>-0.69</td>\n",
       "      <td>-0.86</td>\n",
       "      <td>0.94</td>\n",
       "      <td>0.0</td>\n",
       "      <td>0.58</td>\n",
       "      <td>0.93</td>\n",
       "      <td>0.94</td>\n",
       "      <td>0.94</td>\n",
       "      <td>0.93</td>\n",
       "      <td>-0.82</td>\n",
       "      <td>0.97</td>\n",
       "    </tr>\n",
       "  </tbody>\n",
       "</table>\n",
       "<p>1 rows × 56 columns</p>\n",
       "</div>"
      ],
      "text/plain": [
       "                     year  dst_distance  dst_average_wage  \\\n",
       "china_student_count  0.95           0.0              0.89   \n",
       "\n",
       "                     dst_rate_of_one_usd  dst_cpi  dst_qoe_top20  \\\n",
       "china_student_count                -0.49     0.93            0.0   \n",
       "\n",
       "                     dst_qoe_top100  dst_qoe_top200  dst_qoe_top500  \\\n",
       "china_student_count             0.0           -0.66           -0.85   \n",
       "\n",
       "                     src_population  src_qoe_top20  src_qoe_top100  \\\n",
       "china_student_count            0.93            0.0            0.52   \n",
       "\n",
       "                     src_qoe_top200  src_qoe_top500  src_gni  src_gdp  \\\n",
       "china_student_count            0.96            0.94     0.97     0.96   \n",
       "\n",
       "                     src_rate_of_one_usd  src_tertiary_enrolment  \\\n",
       "china_student_count                -0.84                    0.99   \n",
       "\n",
       "                     year_1y_shift  dst_distance_1y_shift  \\\n",
       "china_student_count           0.94                    0.0   \n",
       "\n",
       "                     dst_students_count_1y_shift  dst_average_wage_1y_shift  \\\n",
       "china_student_count                         0.99                       0.89   \n",
       "\n",
       "                     dst_rate_of_one_usd_1y_shift  dst_cpi_1y_shift  \\\n",
       "china_student_count                         -0.45              0.93   \n",
       "\n",
       "                     dst_qoe_top20_1y_shift  ...  src_qoe_top200_1y_shift  \\\n",
       "china_student_count                     0.0  ...                     0.94   \n",
       "\n",
       "                     src_qoe_top500_1y_shift  src_gni_1y_shift  \\\n",
       "china_student_count                     0.94              0.96   \n",
       "\n",
       "                     src_gdp_1y_shift  src_rate_of_one_usd_1y_shift  \\\n",
       "china_student_count              0.95                         -0.83   \n",
       "\n",
       "                     src_tertiary_enrolment_1y_shift  year_2y_shift  \\\n",
       "china_student_count                             0.99           0.94   \n",
       "\n",
       "                     dst_distance_2y_shift  dst_students_count_2y_shift  \\\n",
       "china_student_count                    0.0                         0.98   \n",
       "\n",
       "                     dst_average_wage_2y_shift  dst_rate_of_one_usd_2y_shift  \\\n",
       "china_student_count                       0.87                         -0.41   \n",
       "\n",
       "                     dst_cpi_2y_shift  dst_qoe_top20_2y_shift  \\\n",
       "china_student_count              0.93                     0.0   \n",
       "\n",
       "                     dst_qoe_top100_2y_shift  dst_qoe_top200_2y_shift  \\\n",
       "china_student_count                      0.0                    -0.69   \n",
       "\n",
       "                     dst_qoe_top500_2y_shift  src_population_2y_shift  \\\n",
       "china_student_count                    -0.86                     0.94   \n",
       "\n",
       "                     src_qoe_top20_2y_shift  src_qoe_top100_2y_shift  \\\n",
       "china_student_count                     0.0                     0.58   \n",
       "\n",
       "                     src_qoe_top200_2y_shift  src_qoe_top500_2y_shift  \\\n",
       "china_student_count                     0.93                     0.94   \n",
       "\n",
       "                     src_gni_2y_shift  src_gdp_2y_shift  \\\n",
       "china_student_count              0.94              0.93   \n",
       "\n",
       "                     src_rate_of_one_usd_2y_shift  \\\n",
       "china_student_count                         -0.82   \n",
       "\n",
       "                     src_tertiary_enrolment_2y_shift  \n",
       "china_student_count                             0.97  \n",
       "\n",
       "[1 rows x 56 columns]"
      ]
     },
     "execution_count": 9,
     "metadata": {},
     "output_type": "execute_result"
    }
   ],
   "source": [
    "corr_df"
   ]
  },
  {
   "cell_type": "markdown",
   "metadata": {
    "deletable": true,
    "editable": true
   },
   "source": [
    "### India"
   ]
  },
  {
   "cell_type": "code",
   "execution_count": 10,
   "metadata": {
    "collapsed": true,
    "deletable": true,
    "editable": true
   },
   "outputs": [],
   "source": [
    "india_aus_factors = aus_factors_df[aus_factors_df['source_country']=='India']\n",
    "cols = india_aus_factors.columns\n",
    "india_aus_factors = india_aus_factors.join(india_aus_factors[cols].shift(1), rsuffix='_1y_shift')\n",
    "india_aus_factors = india_aus_factors.join(india_aus_factors[cols].shift(2), rsuffix='_2y_shift')"
   ]
  },
  {
   "cell_type": "code",
   "execution_count": 11,
   "metadata": {
    "collapsed": false,
    "deletable": true,
    "editable": true
   },
   "outputs": [],
   "source": [
    "india_corr_series = india_aus_factors.corr().loc['dst_students_count'].fillna(0).drop(['dst_students_count'])\n",
    "corr_df = corr_df.append(pd.DataFrame(india_corr_series).rename(columns={'dst_students_count': 'India_student_count'}).T)\n"
   ]
  },
  {
   "cell_type": "code",
   "execution_count": 12,
   "metadata": {
    "collapsed": false,
    "deletable": true,
    "editable": true
   },
   "outputs": [
    {
     "data": {
      "text/html": [
       "<div>\n",
       "<style scoped>\n",
       "    .dataframe tbody tr th:only-of-type {\n",
       "        vertical-align: middle;\n",
       "    }\n",
       "\n",
       "    .dataframe tbody tr th {\n",
       "        vertical-align: top;\n",
       "    }\n",
       "\n",
       "    .dataframe thead th {\n",
       "        text-align: right;\n",
       "    }\n",
       "</style>\n",
       "<table border=\"1\" class=\"dataframe\">\n",
       "  <thead>\n",
       "    <tr style=\"text-align: right;\">\n",
       "      <th></th>\n",
       "      <th>year</th>\n",
       "      <th>dst_distance</th>\n",
       "      <th>dst_average_wage</th>\n",
       "      <th>dst_rate_of_one_usd</th>\n",
       "      <th>dst_cpi</th>\n",
       "      <th>dst_qoe_top20</th>\n",
       "      <th>dst_qoe_top100</th>\n",
       "      <th>dst_qoe_top200</th>\n",
       "      <th>dst_qoe_top500</th>\n",
       "      <th>src_population</th>\n",
       "      <th>src_qoe_top20</th>\n",
       "      <th>src_qoe_top100</th>\n",
       "      <th>src_qoe_top200</th>\n",
       "      <th>src_qoe_top500</th>\n",
       "      <th>src_gni</th>\n",
       "      <th>src_gdp</th>\n",
       "      <th>src_rate_of_one_usd</th>\n",
       "      <th>src_tertiary_enrolment</th>\n",
       "      <th>year_1y_shift</th>\n",
       "      <th>dst_distance_1y_shift</th>\n",
       "      <th>dst_students_count_1y_shift</th>\n",
       "      <th>dst_average_wage_1y_shift</th>\n",
       "      <th>dst_rate_of_one_usd_1y_shift</th>\n",
       "      <th>dst_cpi_1y_shift</th>\n",
       "      <th>dst_qoe_top20_1y_shift</th>\n",
       "      <th>...</th>\n",
       "      <th>src_qoe_top200_1y_shift</th>\n",
       "      <th>src_qoe_top500_1y_shift</th>\n",
       "      <th>src_gni_1y_shift</th>\n",
       "      <th>src_gdp_1y_shift</th>\n",
       "      <th>src_rate_of_one_usd_1y_shift</th>\n",
       "      <th>src_tertiary_enrolment_1y_shift</th>\n",
       "      <th>year_2y_shift</th>\n",
       "      <th>dst_distance_2y_shift</th>\n",
       "      <th>dst_students_count_2y_shift</th>\n",
       "      <th>dst_average_wage_2y_shift</th>\n",
       "      <th>dst_rate_of_one_usd_2y_shift</th>\n",
       "      <th>dst_cpi_2y_shift</th>\n",
       "      <th>dst_qoe_top20_2y_shift</th>\n",
       "      <th>dst_qoe_top100_2y_shift</th>\n",
       "      <th>dst_qoe_top200_2y_shift</th>\n",
       "      <th>dst_qoe_top500_2y_shift</th>\n",
       "      <th>src_population_2y_shift</th>\n",
       "      <th>src_qoe_top20_2y_shift</th>\n",
       "      <th>src_qoe_top100_2y_shift</th>\n",
       "      <th>src_qoe_top200_2y_shift</th>\n",
       "      <th>src_qoe_top500_2y_shift</th>\n",
       "      <th>src_gni_2y_shift</th>\n",
       "      <th>src_gdp_2y_shift</th>\n",
       "      <th>src_rate_of_one_usd_2y_shift</th>\n",
       "      <th>src_tertiary_enrolment_2y_shift</th>\n",
       "    </tr>\n",
       "  </thead>\n",
       "  <tbody>\n",
       "    <tr>\n",
       "      <td>china_student_count</td>\n",
       "      <td>0.95</td>\n",
       "      <td>0.0</td>\n",
       "      <td>0.89</td>\n",
       "      <td>-0.49</td>\n",
       "      <td>0.93</td>\n",
       "      <td>0.0</td>\n",
       "      <td>0.0</td>\n",
       "      <td>-0.66</td>\n",
       "      <td>-0.85</td>\n",
       "      <td>0.93</td>\n",
       "      <td>0.0</td>\n",
       "      <td>0.52</td>\n",
       "      <td>0.96</td>\n",
       "      <td>0.94</td>\n",
       "      <td>0.97</td>\n",
       "      <td>0.96</td>\n",
       "      <td>-0.84</td>\n",
       "      <td>0.99</td>\n",
       "      <td>0.94</td>\n",
       "      <td>0.0</td>\n",
       "      <td>0.99</td>\n",
       "      <td>0.89</td>\n",
       "      <td>-0.45</td>\n",
       "      <td>0.93</td>\n",
       "      <td>0.0</td>\n",
       "      <td>...</td>\n",
       "      <td>0.94</td>\n",
       "      <td>0.94</td>\n",
       "      <td>0.96</td>\n",
       "      <td>0.95</td>\n",
       "      <td>-0.83</td>\n",
       "      <td>0.99</td>\n",
       "      <td>0.94</td>\n",
       "      <td>0.0</td>\n",
       "      <td>0.98</td>\n",
       "      <td>0.87</td>\n",
       "      <td>-0.41</td>\n",
       "      <td>0.93</td>\n",
       "      <td>0.0</td>\n",
       "      <td>0.0</td>\n",
       "      <td>-0.69</td>\n",
       "      <td>-0.86</td>\n",
       "      <td>0.94</td>\n",
       "      <td>0.0</td>\n",
       "      <td>0.58</td>\n",
       "      <td>0.93</td>\n",
       "      <td>0.94</td>\n",
       "      <td>0.94</td>\n",
       "      <td>0.93</td>\n",
       "      <td>-0.82</td>\n",
       "      <td>0.97</td>\n",
       "    </tr>\n",
       "    <tr>\n",
       "      <td>India_student_count</td>\n",
       "      <td>0.90</td>\n",
       "      <td>0.0</td>\n",
       "      <td>0.85</td>\n",
       "      <td>-0.39</td>\n",
       "      <td>0.88</td>\n",
       "      <td>0.0</td>\n",
       "      <td>0.0</td>\n",
       "      <td>-0.62</td>\n",
       "      <td>-0.78</td>\n",
       "      <td>0.88</td>\n",
       "      <td>0.0</td>\n",
       "      <td>0.00</td>\n",
       "      <td>0.00</td>\n",
       "      <td>-0.79</td>\n",
       "      <td>0.91</td>\n",
       "      <td>0.91</td>\n",
       "      <td>0.94</td>\n",
       "      <td>0.94</td>\n",
       "      <td>0.89</td>\n",
       "      <td>0.0</td>\n",
       "      <td>0.99</td>\n",
       "      <td>0.83</td>\n",
       "      <td>-0.31</td>\n",
       "      <td>0.87</td>\n",
       "      <td>0.0</td>\n",
       "      <td>...</td>\n",
       "      <td>0.00</td>\n",
       "      <td>-0.76</td>\n",
       "      <td>0.89</td>\n",
       "      <td>0.89</td>\n",
       "      <td>0.94</td>\n",
       "      <td>0.93</td>\n",
       "      <td>0.87</td>\n",
       "      <td>0.0</td>\n",
       "      <td>0.98</td>\n",
       "      <td>0.79</td>\n",
       "      <td>-0.20</td>\n",
       "      <td>0.85</td>\n",
       "      <td>0.0</td>\n",
       "      <td>0.0</td>\n",
       "      <td>-0.65</td>\n",
       "      <td>-0.80</td>\n",
       "      <td>0.85</td>\n",
       "      <td>0.0</td>\n",
       "      <td>0.00</td>\n",
       "      <td>0.00</td>\n",
       "      <td>-0.72</td>\n",
       "      <td>0.85</td>\n",
       "      <td>0.86</td>\n",
       "      <td>0.94</td>\n",
       "      <td>0.89</td>\n",
       "    </tr>\n",
       "  </tbody>\n",
       "</table>\n",
       "<p>2 rows × 56 columns</p>\n",
       "</div>"
      ],
      "text/plain": [
       "                     year  dst_distance  dst_average_wage  \\\n",
       "china_student_count  0.95           0.0              0.89   \n",
       "India_student_count  0.90           0.0              0.85   \n",
       "\n",
       "                     dst_rate_of_one_usd  dst_cpi  dst_qoe_top20  \\\n",
       "china_student_count                -0.49     0.93            0.0   \n",
       "India_student_count                -0.39     0.88            0.0   \n",
       "\n",
       "                     dst_qoe_top100  dst_qoe_top200  dst_qoe_top500  \\\n",
       "china_student_count             0.0           -0.66           -0.85   \n",
       "India_student_count             0.0           -0.62           -0.78   \n",
       "\n",
       "                     src_population  src_qoe_top20  src_qoe_top100  \\\n",
       "china_student_count            0.93            0.0            0.52   \n",
       "India_student_count            0.88            0.0            0.00   \n",
       "\n",
       "                     src_qoe_top200  src_qoe_top500  src_gni  src_gdp  \\\n",
       "china_student_count            0.96            0.94     0.97     0.96   \n",
       "India_student_count            0.00           -0.79     0.91     0.91   \n",
       "\n",
       "                     src_rate_of_one_usd  src_tertiary_enrolment  \\\n",
       "china_student_count                -0.84                    0.99   \n",
       "India_student_count                 0.94                    0.94   \n",
       "\n",
       "                     year_1y_shift  dst_distance_1y_shift  \\\n",
       "china_student_count           0.94                    0.0   \n",
       "India_student_count           0.89                    0.0   \n",
       "\n",
       "                     dst_students_count_1y_shift  dst_average_wage_1y_shift  \\\n",
       "china_student_count                         0.99                       0.89   \n",
       "India_student_count                         0.99                       0.83   \n",
       "\n",
       "                     dst_rate_of_one_usd_1y_shift  dst_cpi_1y_shift  \\\n",
       "china_student_count                         -0.45              0.93   \n",
       "India_student_count                         -0.31              0.87   \n",
       "\n",
       "                     dst_qoe_top20_1y_shift  ...  src_qoe_top200_1y_shift  \\\n",
       "china_student_count                     0.0  ...                     0.94   \n",
       "India_student_count                     0.0  ...                     0.00   \n",
       "\n",
       "                     src_qoe_top500_1y_shift  src_gni_1y_shift  \\\n",
       "china_student_count                     0.94              0.96   \n",
       "India_student_count                    -0.76              0.89   \n",
       "\n",
       "                     src_gdp_1y_shift  src_rate_of_one_usd_1y_shift  \\\n",
       "china_student_count              0.95                         -0.83   \n",
       "India_student_count              0.89                          0.94   \n",
       "\n",
       "                     src_tertiary_enrolment_1y_shift  year_2y_shift  \\\n",
       "china_student_count                             0.99           0.94   \n",
       "India_student_count                             0.93           0.87   \n",
       "\n",
       "                     dst_distance_2y_shift  dst_students_count_2y_shift  \\\n",
       "china_student_count                    0.0                         0.98   \n",
       "India_student_count                    0.0                         0.98   \n",
       "\n",
       "                     dst_average_wage_2y_shift  dst_rate_of_one_usd_2y_shift  \\\n",
       "china_student_count                       0.87                         -0.41   \n",
       "India_student_count                       0.79                         -0.20   \n",
       "\n",
       "                     dst_cpi_2y_shift  dst_qoe_top20_2y_shift  \\\n",
       "china_student_count              0.93                     0.0   \n",
       "India_student_count              0.85                     0.0   \n",
       "\n",
       "                     dst_qoe_top100_2y_shift  dst_qoe_top200_2y_shift  \\\n",
       "china_student_count                      0.0                    -0.69   \n",
       "India_student_count                      0.0                    -0.65   \n",
       "\n",
       "                     dst_qoe_top500_2y_shift  src_population_2y_shift  \\\n",
       "china_student_count                    -0.86                     0.94   \n",
       "India_student_count                    -0.80                     0.85   \n",
       "\n",
       "                     src_qoe_top20_2y_shift  src_qoe_top100_2y_shift  \\\n",
       "china_student_count                     0.0                     0.58   \n",
       "India_student_count                     0.0                     0.00   \n",
       "\n",
       "                     src_qoe_top200_2y_shift  src_qoe_top500_2y_shift  \\\n",
       "china_student_count                     0.93                     0.94   \n",
       "India_student_count                     0.00                    -0.72   \n",
       "\n",
       "                     src_gni_2y_shift  src_gdp_2y_shift  \\\n",
       "china_student_count              0.94              0.93   \n",
       "India_student_count              0.85              0.86   \n",
       "\n",
       "                     src_rate_of_one_usd_2y_shift  \\\n",
       "china_student_count                         -0.82   \n",
       "India_student_count                          0.94   \n",
       "\n",
       "                     src_tertiary_enrolment_2y_shift  \n",
       "china_student_count                             0.97  \n",
       "India_student_count                             0.89  \n",
       "\n",
       "[2 rows x 56 columns]"
      ]
     },
     "execution_count": 12,
     "metadata": {},
     "output_type": "execute_result"
    }
   ],
   "source": [
    "corr_df"
   ]
  },
  {
   "cell_type": "markdown",
   "metadata": {
    "deletable": true,
    "editable": true
   },
   "source": [
    "### Malaysia"
   ]
  },
  {
   "cell_type": "code",
   "execution_count": 13,
   "metadata": {
    "collapsed": true,
    "deletable": true,
    "editable": true
   },
   "outputs": [],
   "source": [
    "malay_aus_factors = aus_factors_df[aus_factors_df['source_country']=='Malaysia']\n",
    "cols = malay_aus_factors.columns\n",
    "malay_aus_factors = malay_aus_factors.join(malay_aus_factors[cols].shift(1), rsuffix='_1y_shift')\n",
    "malay_aus_factors = malay_aus_factors.join(malay_aus_factors[cols].shift(2), rsuffix='_2y_shift')"
   ]
  },
  {
   "cell_type": "code",
   "execution_count": 14,
   "metadata": {
    "collapsed": true,
    "deletable": true,
    "editable": true
   },
   "outputs": [],
   "source": [
    "malay_corr_series = malay_aus_factors.corr().loc['dst_students_count'].fillna(0).drop(['dst_students_count'])\n",
    "corr_df = corr_df.append(pd.DataFrame(malay_corr_series).rename(columns={'dst_students_count': 'malaysia_student_count'}).T)"
   ]
  },
  {
   "cell_type": "code",
   "execution_count": 15,
   "metadata": {
    "collapsed": false,
    "deletable": true,
    "editable": true
   },
   "outputs": [
    {
     "data": {
      "text/html": [
       "<div>\n",
       "<style scoped>\n",
       "    .dataframe tbody tr th:only-of-type {\n",
       "        vertical-align: middle;\n",
       "    }\n",
       "\n",
       "    .dataframe tbody tr th {\n",
       "        vertical-align: top;\n",
       "    }\n",
       "\n",
       "    .dataframe thead th {\n",
       "        text-align: right;\n",
       "    }\n",
       "</style>\n",
       "<table border=\"1\" class=\"dataframe\">\n",
       "  <thead>\n",
       "    <tr style=\"text-align: right;\">\n",
       "      <th></th>\n",
       "      <th>year</th>\n",
       "      <th>dst_distance</th>\n",
       "      <th>dst_average_wage</th>\n",
       "      <th>dst_rate_of_one_usd</th>\n",
       "      <th>dst_cpi</th>\n",
       "      <th>dst_qoe_top20</th>\n",
       "      <th>dst_qoe_top100</th>\n",
       "      <th>dst_qoe_top200</th>\n",
       "      <th>dst_qoe_top500</th>\n",
       "      <th>src_population</th>\n",
       "      <th>src_qoe_top20</th>\n",
       "      <th>src_qoe_top100</th>\n",
       "      <th>src_qoe_top200</th>\n",
       "      <th>src_qoe_top500</th>\n",
       "      <th>src_gni</th>\n",
       "      <th>src_gdp</th>\n",
       "      <th>src_rate_of_one_usd</th>\n",
       "      <th>src_tertiary_enrolment</th>\n",
       "      <th>year_1y_shift</th>\n",
       "      <th>dst_distance_1y_shift</th>\n",
       "      <th>dst_students_count_1y_shift</th>\n",
       "      <th>dst_average_wage_1y_shift</th>\n",
       "      <th>dst_rate_of_one_usd_1y_shift</th>\n",
       "      <th>dst_cpi_1y_shift</th>\n",
       "      <th>dst_qoe_top20_1y_shift</th>\n",
       "      <th>...</th>\n",
       "      <th>src_qoe_top200_1y_shift</th>\n",
       "      <th>src_qoe_top500_1y_shift</th>\n",
       "      <th>src_gni_1y_shift</th>\n",
       "      <th>src_gdp_1y_shift</th>\n",
       "      <th>src_rate_of_one_usd_1y_shift</th>\n",
       "      <th>src_tertiary_enrolment_1y_shift</th>\n",
       "      <th>year_2y_shift</th>\n",
       "      <th>dst_distance_2y_shift</th>\n",
       "      <th>dst_students_count_2y_shift</th>\n",
       "      <th>dst_average_wage_2y_shift</th>\n",
       "      <th>dst_rate_of_one_usd_2y_shift</th>\n",
       "      <th>dst_cpi_2y_shift</th>\n",
       "      <th>dst_qoe_top20_2y_shift</th>\n",
       "      <th>dst_qoe_top100_2y_shift</th>\n",
       "      <th>dst_qoe_top200_2y_shift</th>\n",
       "      <th>dst_qoe_top500_2y_shift</th>\n",
       "      <th>src_population_2y_shift</th>\n",
       "      <th>src_qoe_top20_2y_shift</th>\n",
       "      <th>src_qoe_top100_2y_shift</th>\n",
       "      <th>src_qoe_top200_2y_shift</th>\n",
       "      <th>src_qoe_top500_2y_shift</th>\n",
       "      <th>src_gni_2y_shift</th>\n",
       "      <th>src_gdp_2y_shift</th>\n",
       "      <th>src_rate_of_one_usd_2y_shift</th>\n",
       "      <th>src_tertiary_enrolment_2y_shift</th>\n",
       "    </tr>\n",
       "  </thead>\n",
       "  <tbody>\n",
       "    <tr>\n",
       "      <td>china_student_count</td>\n",
       "      <td>0.95</td>\n",
       "      <td>0.0</td>\n",
       "      <td>0.89</td>\n",
       "      <td>-0.49</td>\n",
       "      <td>0.93</td>\n",
       "      <td>0.0</td>\n",
       "      <td>0.0</td>\n",
       "      <td>-0.66</td>\n",
       "      <td>-0.85</td>\n",
       "      <td>0.93</td>\n",
       "      <td>0.0</td>\n",
       "      <td>0.52</td>\n",
       "      <td>0.96</td>\n",
       "      <td>0.94</td>\n",
       "      <td>0.97</td>\n",
       "      <td>0.96</td>\n",
       "      <td>-0.84</td>\n",
       "      <td>0.99</td>\n",
       "      <td>0.94</td>\n",
       "      <td>0.0</td>\n",
       "      <td>0.99</td>\n",
       "      <td>0.89</td>\n",
       "      <td>-0.45</td>\n",
       "      <td>0.93</td>\n",
       "      <td>0.0</td>\n",
       "      <td>...</td>\n",
       "      <td>0.94</td>\n",
       "      <td>0.94</td>\n",
       "      <td>0.96</td>\n",
       "      <td>0.95</td>\n",
       "      <td>-0.83</td>\n",
       "      <td>0.99</td>\n",
       "      <td>0.94</td>\n",
       "      <td>0.0</td>\n",
       "      <td>0.98</td>\n",
       "      <td>0.87</td>\n",
       "      <td>-0.41</td>\n",
       "      <td>0.93</td>\n",
       "      <td>0.0</td>\n",
       "      <td>0.0</td>\n",
       "      <td>-0.69</td>\n",
       "      <td>-0.86</td>\n",
       "      <td>0.94</td>\n",
       "      <td>0.0</td>\n",
       "      <td>0.58</td>\n",
       "      <td>0.93</td>\n",
       "      <td>0.94</td>\n",
       "      <td>0.94</td>\n",
       "      <td>0.93</td>\n",
       "      <td>-0.82</td>\n",
       "      <td>0.97</td>\n",
       "    </tr>\n",
       "    <tr>\n",
       "      <td>India_student_count</td>\n",
       "      <td>0.90</td>\n",
       "      <td>0.0</td>\n",
       "      <td>0.85</td>\n",
       "      <td>-0.39</td>\n",
       "      <td>0.88</td>\n",
       "      <td>0.0</td>\n",
       "      <td>0.0</td>\n",
       "      <td>-0.62</td>\n",
       "      <td>-0.78</td>\n",
       "      <td>0.88</td>\n",
       "      <td>0.0</td>\n",
       "      <td>0.00</td>\n",
       "      <td>0.00</td>\n",
       "      <td>-0.79</td>\n",
       "      <td>0.91</td>\n",
       "      <td>0.91</td>\n",
       "      <td>0.94</td>\n",
       "      <td>0.94</td>\n",
       "      <td>0.89</td>\n",
       "      <td>0.0</td>\n",
       "      <td>0.99</td>\n",
       "      <td>0.83</td>\n",
       "      <td>-0.31</td>\n",
       "      <td>0.87</td>\n",
       "      <td>0.0</td>\n",
       "      <td>...</td>\n",
       "      <td>0.00</td>\n",
       "      <td>-0.76</td>\n",
       "      <td>0.89</td>\n",
       "      <td>0.89</td>\n",
       "      <td>0.94</td>\n",
       "      <td>0.93</td>\n",
       "      <td>0.87</td>\n",
       "      <td>0.0</td>\n",
       "      <td>0.98</td>\n",
       "      <td>0.79</td>\n",
       "      <td>-0.20</td>\n",
       "      <td>0.85</td>\n",
       "      <td>0.0</td>\n",
       "      <td>0.0</td>\n",
       "      <td>-0.65</td>\n",
       "      <td>-0.80</td>\n",
       "      <td>0.85</td>\n",
       "      <td>0.0</td>\n",
       "      <td>0.00</td>\n",
       "      <td>0.00</td>\n",
       "      <td>-0.72</td>\n",
       "      <td>0.85</td>\n",
       "      <td>0.86</td>\n",
       "      <td>0.94</td>\n",
       "      <td>0.89</td>\n",
       "    </tr>\n",
       "    <tr>\n",
       "      <td>malaysia_student_count</td>\n",
       "      <td>0.56</td>\n",
       "      <td>0.0</td>\n",
       "      <td>0.56</td>\n",
       "      <td>-0.20</td>\n",
       "      <td>0.53</td>\n",
       "      <td>0.0</td>\n",
       "      <td>0.0</td>\n",
       "      <td>-0.40</td>\n",
       "      <td>-0.33</td>\n",
       "      <td>0.54</td>\n",
       "      <td>0.0</td>\n",
       "      <td>0.00</td>\n",
       "      <td>0.00</td>\n",
       "      <td>0.70</td>\n",
       "      <td>0.62</td>\n",
       "      <td>0.58</td>\n",
       "      <td>-0.16</td>\n",
       "      <td>0.57</td>\n",
       "      <td>0.54</td>\n",
       "      <td>0.0</td>\n",
       "      <td>0.99</td>\n",
       "      <td>0.55</td>\n",
       "      <td>-0.21</td>\n",
       "      <td>0.51</td>\n",
       "      <td>0.0</td>\n",
       "      <td>...</td>\n",
       "      <td>0.00</td>\n",
       "      <td>0.68</td>\n",
       "      <td>0.58</td>\n",
       "      <td>0.54</td>\n",
       "      <td>-0.09</td>\n",
       "      <td>0.54</td>\n",
       "      <td>0.71</td>\n",
       "      <td>0.0</td>\n",
       "      <td>0.97</td>\n",
       "      <td>0.72</td>\n",
       "      <td>-0.39</td>\n",
       "      <td>0.68</td>\n",
       "      <td>0.0</td>\n",
       "      <td>0.0</td>\n",
       "      <td>-0.43</td>\n",
       "      <td>-0.45</td>\n",
       "      <td>0.69</td>\n",
       "      <td>0.0</td>\n",
       "      <td>0.00</td>\n",
       "      <td>0.00</td>\n",
       "      <td>0.78</td>\n",
       "      <td>0.79</td>\n",
       "      <td>0.75</td>\n",
       "      <td>-0.27</td>\n",
       "      <td>0.68</td>\n",
       "    </tr>\n",
       "  </tbody>\n",
       "</table>\n",
       "<p>3 rows × 56 columns</p>\n",
       "</div>"
      ],
      "text/plain": [
       "                        year  dst_distance  dst_average_wage  \\\n",
       "china_student_count     0.95           0.0              0.89   \n",
       "India_student_count     0.90           0.0              0.85   \n",
       "malaysia_student_count  0.56           0.0              0.56   \n",
       "\n",
       "                        dst_rate_of_one_usd  dst_cpi  dst_qoe_top20  \\\n",
       "china_student_count                   -0.49     0.93            0.0   \n",
       "India_student_count                   -0.39     0.88            0.0   \n",
       "malaysia_student_count                -0.20     0.53            0.0   \n",
       "\n",
       "                        dst_qoe_top100  dst_qoe_top200  dst_qoe_top500  \\\n",
       "china_student_count                0.0           -0.66           -0.85   \n",
       "India_student_count                0.0           -0.62           -0.78   \n",
       "malaysia_student_count             0.0           -0.40           -0.33   \n",
       "\n",
       "                        src_population  src_qoe_top20  src_qoe_top100  \\\n",
       "china_student_count               0.93            0.0            0.52   \n",
       "India_student_count               0.88            0.0            0.00   \n",
       "malaysia_student_count            0.54            0.0            0.00   \n",
       "\n",
       "                        src_qoe_top200  src_qoe_top500  src_gni  src_gdp  \\\n",
       "china_student_count               0.96            0.94     0.97     0.96   \n",
       "India_student_count               0.00           -0.79     0.91     0.91   \n",
       "malaysia_student_count            0.00            0.70     0.62     0.58   \n",
       "\n",
       "                        src_rate_of_one_usd  src_tertiary_enrolment  \\\n",
       "china_student_count                   -0.84                    0.99   \n",
       "India_student_count                    0.94                    0.94   \n",
       "malaysia_student_count                -0.16                    0.57   \n",
       "\n",
       "                        year_1y_shift  dst_distance_1y_shift  \\\n",
       "china_student_count              0.94                    0.0   \n",
       "India_student_count              0.89                    0.0   \n",
       "malaysia_student_count           0.54                    0.0   \n",
       "\n",
       "                        dst_students_count_1y_shift  \\\n",
       "china_student_count                            0.99   \n",
       "India_student_count                            0.99   \n",
       "malaysia_student_count                         0.99   \n",
       "\n",
       "                        dst_average_wage_1y_shift  \\\n",
       "china_student_count                          0.89   \n",
       "India_student_count                          0.83   \n",
       "malaysia_student_count                       0.55   \n",
       "\n",
       "                        dst_rate_of_one_usd_1y_shift  dst_cpi_1y_shift  \\\n",
       "china_student_count                            -0.45              0.93   \n",
       "India_student_count                            -0.31              0.87   \n",
       "malaysia_student_count                         -0.21              0.51   \n",
       "\n",
       "                        dst_qoe_top20_1y_shift  ...  src_qoe_top200_1y_shift  \\\n",
       "china_student_count                        0.0  ...                     0.94   \n",
       "India_student_count                        0.0  ...                     0.00   \n",
       "malaysia_student_count                     0.0  ...                     0.00   \n",
       "\n",
       "                        src_qoe_top500_1y_shift  src_gni_1y_shift  \\\n",
       "china_student_count                        0.94              0.96   \n",
       "India_student_count                       -0.76              0.89   \n",
       "malaysia_student_count                     0.68              0.58   \n",
       "\n",
       "                        src_gdp_1y_shift  src_rate_of_one_usd_1y_shift  \\\n",
       "china_student_count                 0.95                         -0.83   \n",
       "India_student_count                 0.89                          0.94   \n",
       "malaysia_student_count              0.54                         -0.09   \n",
       "\n",
       "                        src_tertiary_enrolment_1y_shift  year_2y_shift  \\\n",
       "china_student_count                                0.99           0.94   \n",
       "India_student_count                                0.93           0.87   \n",
       "malaysia_student_count                             0.54           0.71   \n",
       "\n",
       "                        dst_distance_2y_shift  dst_students_count_2y_shift  \\\n",
       "china_student_count                       0.0                         0.98   \n",
       "India_student_count                       0.0                         0.98   \n",
       "malaysia_student_count                    0.0                         0.97   \n",
       "\n",
       "                        dst_average_wage_2y_shift  \\\n",
       "china_student_count                          0.87   \n",
       "India_student_count                          0.79   \n",
       "malaysia_student_count                       0.72   \n",
       "\n",
       "                        dst_rate_of_one_usd_2y_shift  dst_cpi_2y_shift  \\\n",
       "china_student_count                            -0.41              0.93   \n",
       "India_student_count                            -0.20              0.85   \n",
       "malaysia_student_count                         -0.39              0.68   \n",
       "\n",
       "                        dst_qoe_top20_2y_shift  dst_qoe_top100_2y_shift  \\\n",
       "china_student_count                        0.0                      0.0   \n",
       "India_student_count                        0.0                      0.0   \n",
       "malaysia_student_count                     0.0                      0.0   \n",
       "\n",
       "                        dst_qoe_top200_2y_shift  dst_qoe_top500_2y_shift  \\\n",
       "china_student_count                       -0.69                    -0.86   \n",
       "India_student_count                       -0.65                    -0.80   \n",
       "malaysia_student_count                    -0.43                    -0.45   \n",
       "\n",
       "                        src_population_2y_shift  src_qoe_top20_2y_shift  \\\n",
       "china_student_count                        0.94                     0.0   \n",
       "India_student_count                        0.85                     0.0   \n",
       "malaysia_student_count                     0.69                     0.0   \n",
       "\n",
       "                        src_qoe_top100_2y_shift  src_qoe_top200_2y_shift  \\\n",
       "china_student_count                        0.58                     0.93   \n",
       "India_student_count                        0.00                     0.00   \n",
       "malaysia_student_count                     0.00                     0.00   \n",
       "\n",
       "                        src_qoe_top500_2y_shift  src_gni_2y_shift  \\\n",
       "china_student_count                        0.94              0.94   \n",
       "India_student_count                       -0.72              0.85   \n",
       "malaysia_student_count                     0.78              0.79   \n",
       "\n",
       "                        src_gdp_2y_shift  src_rate_of_one_usd_2y_shift  \\\n",
       "china_student_count                 0.93                         -0.82   \n",
       "India_student_count                 0.86                          0.94   \n",
       "malaysia_student_count              0.75                         -0.27   \n",
       "\n",
       "                        src_tertiary_enrolment_2y_shift  \n",
       "china_student_count                                0.97  \n",
       "India_student_count                                0.89  \n",
       "malaysia_student_count                             0.68  \n",
       "\n",
       "[3 rows x 56 columns]"
      ]
     },
     "execution_count": 15,
     "metadata": {},
     "output_type": "execute_result"
    }
   ],
   "source": [
    "corr_df"
   ]
  },
  {
   "cell_type": "markdown",
   "metadata": {
    "deletable": true,
    "editable": true
   },
   "source": [
    "### Indonesia"
   ]
  },
  {
   "cell_type": "code",
   "execution_count": 16,
   "metadata": {
    "collapsed": true,
    "deletable": true,
    "editable": true
   },
   "outputs": [],
   "source": [
    "indonesia_aus_factors = aus_factors_df[aus_factors_df['source_country']=='Indonesia']\n",
    "cols = indonesia_aus_factors.columns\n",
    "indonesia_aus_factors = indonesia_aus_factors.join(indonesia_aus_factors[cols].shift(1), rsuffix='_1y_shift')\n",
    "indonesia_aus_factors = indonesia_aus_factors.join(indonesia_aus_factors[cols].shift(2), rsuffix='_2y_shift')"
   ]
  },
  {
   "cell_type": "code",
   "execution_count": 17,
   "metadata": {
    "collapsed": true,
    "deletable": true,
    "editable": true
   },
   "outputs": [],
   "source": [
    "indonesia_corr_series = indonesia_aus_factors.corr().loc['dst_students_count'].fillna(0).drop(['dst_students_count'])\n",
    "corr_df = corr_df.append(pd.DataFrame(indonesia_corr_series).rename(columns={'dst_students_count': 'indonesia_student_count'}).T)"
   ]
  },
  {
   "cell_type": "code",
   "execution_count": 18,
   "metadata": {
    "collapsed": false,
    "deletable": true,
    "editable": true
   },
   "outputs": [
    {
     "data": {
      "text/html": [
       "<div>\n",
       "<style scoped>\n",
       "    .dataframe tbody tr th:only-of-type {\n",
       "        vertical-align: middle;\n",
       "    }\n",
       "\n",
       "    .dataframe tbody tr th {\n",
       "        vertical-align: top;\n",
       "    }\n",
       "\n",
       "    .dataframe thead th {\n",
       "        text-align: right;\n",
       "    }\n",
       "</style>\n",
       "<table border=\"1\" class=\"dataframe\">\n",
       "  <thead>\n",
       "    <tr style=\"text-align: right;\">\n",
       "      <th></th>\n",
       "      <th>year</th>\n",
       "      <th>dst_distance</th>\n",
       "      <th>dst_average_wage</th>\n",
       "      <th>dst_rate_of_one_usd</th>\n",
       "      <th>dst_cpi</th>\n",
       "      <th>dst_qoe_top20</th>\n",
       "      <th>dst_qoe_top100</th>\n",
       "      <th>dst_qoe_top200</th>\n",
       "      <th>dst_qoe_top500</th>\n",
       "      <th>src_population</th>\n",
       "      <th>src_qoe_top20</th>\n",
       "      <th>src_qoe_top100</th>\n",
       "      <th>src_qoe_top200</th>\n",
       "      <th>src_qoe_top500</th>\n",
       "      <th>src_gni</th>\n",
       "      <th>src_gdp</th>\n",
       "      <th>src_rate_of_one_usd</th>\n",
       "      <th>src_tertiary_enrolment</th>\n",
       "      <th>year_1y_shift</th>\n",
       "      <th>dst_distance_1y_shift</th>\n",
       "      <th>dst_students_count_1y_shift</th>\n",
       "      <th>dst_average_wage_1y_shift</th>\n",
       "      <th>dst_rate_of_one_usd_1y_shift</th>\n",
       "      <th>dst_cpi_1y_shift</th>\n",
       "      <th>dst_qoe_top20_1y_shift</th>\n",
       "      <th>...</th>\n",
       "      <th>src_qoe_top200_1y_shift</th>\n",
       "      <th>src_qoe_top500_1y_shift</th>\n",
       "      <th>src_gni_1y_shift</th>\n",
       "      <th>src_gdp_1y_shift</th>\n",
       "      <th>src_rate_of_one_usd_1y_shift</th>\n",
       "      <th>src_tertiary_enrolment_1y_shift</th>\n",
       "      <th>year_2y_shift</th>\n",
       "      <th>dst_distance_2y_shift</th>\n",
       "      <th>dst_students_count_2y_shift</th>\n",
       "      <th>dst_average_wage_2y_shift</th>\n",
       "      <th>dst_rate_of_one_usd_2y_shift</th>\n",
       "      <th>dst_cpi_2y_shift</th>\n",
       "      <th>dst_qoe_top20_2y_shift</th>\n",
       "      <th>dst_qoe_top100_2y_shift</th>\n",
       "      <th>dst_qoe_top200_2y_shift</th>\n",
       "      <th>dst_qoe_top500_2y_shift</th>\n",
       "      <th>src_population_2y_shift</th>\n",
       "      <th>src_qoe_top20_2y_shift</th>\n",
       "      <th>src_qoe_top100_2y_shift</th>\n",
       "      <th>src_qoe_top200_2y_shift</th>\n",
       "      <th>src_qoe_top500_2y_shift</th>\n",
       "      <th>src_gni_2y_shift</th>\n",
       "      <th>src_gdp_2y_shift</th>\n",
       "      <th>src_rate_of_one_usd_2y_shift</th>\n",
       "      <th>src_tertiary_enrolment_2y_shift</th>\n",
       "    </tr>\n",
       "  </thead>\n",
       "  <tbody>\n",
       "    <tr>\n",
       "      <td>china_student_count</td>\n",
       "      <td>0.95</td>\n",
       "      <td>0.0</td>\n",
       "      <td>0.89</td>\n",
       "      <td>-0.49</td>\n",
       "      <td>0.93</td>\n",
       "      <td>0.0</td>\n",
       "      <td>0.0</td>\n",
       "      <td>-0.66</td>\n",
       "      <td>-0.85</td>\n",
       "      <td>0.93</td>\n",
       "      <td>0.0</td>\n",
       "      <td>0.52</td>\n",
       "      <td>0.96</td>\n",
       "      <td>0.94</td>\n",
       "      <td>0.97</td>\n",
       "      <td>0.96</td>\n",
       "      <td>-0.84</td>\n",
       "      <td>0.99</td>\n",
       "      <td>0.94</td>\n",
       "      <td>0.0</td>\n",
       "      <td>0.99</td>\n",
       "      <td>0.89</td>\n",
       "      <td>-0.45</td>\n",
       "      <td>0.93</td>\n",
       "      <td>0.0</td>\n",
       "      <td>...</td>\n",
       "      <td>0.94</td>\n",
       "      <td>0.94</td>\n",
       "      <td>0.96</td>\n",
       "      <td>0.95</td>\n",
       "      <td>-0.83</td>\n",
       "      <td>0.99</td>\n",
       "      <td>0.94</td>\n",
       "      <td>0.0</td>\n",
       "      <td>0.98</td>\n",
       "      <td>0.87</td>\n",
       "      <td>-0.41</td>\n",
       "      <td>0.93</td>\n",
       "      <td>0.0</td>\n",
       "      <td>0.0</td>\n",
       "      <td>-0.69</td>\n",
       "      <td>-0.86</td>\n",
       "      <td>0.94</td>\n",
       "      <td>0.0</td>\n",
       "      <td>0.58</td>\n",
       "      <td>0.93</td>\n",
       "      <td>0.94</td>\n",
       "      <td>0.94</td>\n",
       "      <td>0.93</td>\n",
       "      <td>-0.82</td>\n",
       "      <td>0.97</td>\n",
       "    </tr>\n",
       "    <tr>\n",
       "      <td>India_student_count</td>\n",
       "      <td>0.90</td>\n",
       "      <td>0.0</td>\n",
       "      <td>0.85</td>\n",
       "      <td>-0.39</td>\n",
       "      <td>0.88</td>\n",
       "      <td>0.0</td>\n",
       "      <td>0.0</td>\n",
       "      <td>-0.62</td>\n",
       "      <td>-0.78</td>\n",
       "      <td>0.88</td>\n",
       "      <td>0.0</td>\n",
       "      <td>0.00</td>\n",
       "      <td>0.00</td>\n",
       "      <td>-0.79</td>\n",
       "      <td>0.91</td>\n",
       "      <td>0.91</td>\n",
       "      <td>0.94</td>\n",
       "      <td>0.94</td>\n",
       "      <td>0.89</td>\n",
       "      <td>0.0</td>\n",
       "      <td>0.99</td>\n",
       "      <td>0.83</td>\n",
       "      <td>-0.31</td>\n",
       "      <td>0.87</td>\n",
       "      <td>0.0</td>\n",
       "      <td>...</td>\n",
       "      <td>0.00</td>\n",
       "      <td>-0.76</td>\n",
       "      <td>0.89</td>\n",
       "      <td>0.89</td>\n",
       "      <td>0.94</td>\n",
       "      <td>0.93</td>\n",
       "      <td>0.87</td>\n",
       "      <td>0.0</td>\n",
       "      <td>0.98</td>\n",
       "      <td>0.79</td>\n",
       "      <td>-0.20</td>\n",
       "      <td>0.85</td>\n",
       "      <td>0.0</td>\n",
       "      <td>0.0</td>\n",
       "      <td>-0.65</td>\n",
       "      <td>-0.80</td>\n",
       "      <td>0.85</td>\n",
       "      <td>0.0</td>\n",
       "      <td>0.00</td>\n",
       "      <td>0.00</td>\n",
       "      <td>-0.72</td>\n",
       "      <td>0.85</td>\n",
       "      <td>0.86</td>\n",
       "      <td>0.94</td>\n",
       "      <td>0.89</td>\n",
       "    </tr>\n",
       "    <tr>\n",
       "      <td>malaysia_student_count</td>\n",
       "      <td>0.56</td>\n",
       "      <td>0.0</td>\n",
       "      <td>0.56</td>\n",
       "      <td>-0.20</td>\n",
       "      <td>0.53</td>\n",
       "      <td>0.0</td>\n",
       "      <td>0.0</td>\n",
       "      <td>-0.40</td>\n",
       "      <td>-0.33</td>\n",
       "      <td>0.54</td>\n",
       "      <td>0.0</td>\n",
       "      <td>0.00</td>\n",
       "      <td>0.00</td>\n",
       "      <td>0.70</td>\n",
       "      <td>0.62</td>\n",
       "      <td>0.58</td>\n",
       "      <td>-0.16</td>\n",
       "      <td>0.57</td>\n",
       "      <td>0.54</td>\n",
       "      <td>0.0</td>\n",
       "      <td>0.99</td>\n",
       "      <td>0.55</td>\n",
       "      <td>-0.21</td>\n",
       "      <td>0.51</td>\n",
       "      <td>0.0</td>\n",
       "      <td>...</td>\n",
       "      <td>0.00</td>\n",
       "      <td>0.68</td>\n",
       "      <td>0.58</td>\n",
       "      <td>0.54</td>\n",
       "      <td>-0.09</td>\n",
       "      <td>0.54</td>\n",
       "      <td>0.71</td>\n",
       "      <td>0.0</td>\n",
       "      <td>0.97</td>\n",
       "      <td>0.72</td>\n",
       "      <td>-0.39</td>\n",
       "      <td>0.68</td>\n",
       "      <td>0.0</td>\n",
       "      <td>0.0</td>\n",
       "      <td>-0.43</td>\n",
       "      <td>-0.45</td>\n",
       "      <td>0.69</td>\n",
       "      <td>0.0</td>\n",
       "      <td>0.00</td>\n",
       "      <td>0.00</td>\n",
       "      <td>0.78</td>\n",
       "      <td>0.79</td>\n",
       "      <td>0.75</td>\n",
       "      <td>-0.27</td>\n",
       "      <td>0.68</td>\n",
       "    </tr>\n",
       "    <tr>\n",
       "      <td>indonesia_student_count</td>\n",
       "      <td>0.78</td>\n",
       "      <td>0.0</td>\n",
       "      <td>0.73</td>\n",
       "      <td>-0.54</td>\n",
       "      <td>0.78</td>\n",
       "      <td>0.0</td>\n",
       "      <td>0.0</td>\n",
       "      <td>-0.66</td>\n",
       "      <td>-0.77</td>\n",
       "      <td>0.77</td>\n",
       "      <td>0.0</td>\n",
       "      <td>0.00</td>\n",
       "      <td>0.00</td>\n",
       "      <td>0.00</td>\n",
       "      <td>0.67</td>\n",
       "      <td>0.66</td>\n",
       "      <td>0.61</td>\n",
       "      <td>0.69</td>\n",
       "      <td>0.84</td>\n",
       "      <td>0.0</td>\n",
       "      <td>0.99</td>\n",
       "      <td>0.81</td>\n",
       "      <td>-0.70</td>\n",
       "      <td>0.85</td>\n",
       "      <td>0.0</td>\n",
       "      <td>...</td>\n",
       "      <td>0.00</td>\n",
       "      <td>0.00</td>\n",
       "      <td>0.71</td>\n",
       "      <td>0.70</td>\n",
       "      <td>0.60</td>\n",
       "      <td>0.71</td>\n",
       "      <td>0.78</td>\n",
       "      <td>0.0</td>\n",
       "      <td>0.98</td>\n",
       "      <td>0.78</td>\n",
       "      <td>-0.63</td>\n",
       "      <td>0.79</td>\n",
       "      <td>0.0</td>\n",
       "      <td>0.0</td>\n",
       "      <td>-0.67</td>\n",
       "      <td>-0.84</td>\n",
       "      <td>0.78</td>\n",
       "      <td>0.0</td>\n",
       "      <td>0.00</td>\n",
       "      <td>0.00</td>\n",
       "      <td>0.00</td>\n",
       "      <td>0.64</td>\n",
       "      <td>0.63</td>\n",
       "      <td>0.60</td>\n",
       "      <td>0.65</td>\n",
       "    </tr>\n",
       "  </tbody>\n",
       "</table>\n",
       "<p>4 rows × 56 columns</p>\n",
       "</div>"
      ],
      "text/plain": [
       "                         year  dst_distance  dst_average_wage  \\\n",
       "china_student_count      0.95           0.0              0.89   \n",
       "India_student_count      0.90           0.0              0.85   \n",
       "malaysia_student_count   0.56           0.0              0.56   \n",
       "indonesia_student_count  0.78           0.0              0.73   \n",
       "\n",
       "                         dst_rate_of_one_usd  dst_cpi  dst_qoe_top20  \\\n",
       "china_student_count                    -0.49     0.93            0.0   \n",
       "India_student_count                    -0.39     0.88            0.0   \n",
       "malaysia_student_count                 -0.20     0.53            0.0   \n",
       "indonesia_student_count                -0.54     0.78            0.0   \n",
       "\n",
       "                         dst_qoe_top100  dst_qoe_top200  dst_qoe_top500  \\\n",
       "china_student_count                 0.0           -0.66           -0.85   \n",
       "India_student_count                 0.0           -0.62           -0.78   \n",
       "malaysia_student_count              0.0           -0.40           -0.33   \n",
       "indonesia_student_count             0.0           -0.66           -0.77   \n",
       "\n",
       "                         src_population  src_qoe_top20  src_qoe_top100  \\\n",
       "china_student_count                0.93            0.0            0.52   \n",
       "India_student_count                0.88            0.0            0.00   \n",
       "malaysia_student_count             0.54            0.0            0.00   \n",
       "indonesia_student_count            0.77            0.0            0.00   \n",
       "\n",
       "                         src_qoe_top200  src_qoe_top500  src_gni  src_gdp  \\\n",
       "china_student_count                0.96            0.94     0.97     0.96   \n",
       "India_student_count                0.00           -0.79     0.91     0.91   \n",
       "malaysia_student_count             0.00            0.70     0.62     0.58   \n",
       "indonesia_student_count            0.00            0.00     0.67     0.66   \n",
       "\n",
       "                         src_rate_of_one_usd  src_tertiary_enrolment  \\\n",
       "china_student_count                    -0.84                    0.99   \n",
       "India_student_count                     0.94                    0.94   \n",
       "malaysia_student_count                 -0.16                    0.57   \n",
       "indonesia_student_count                 0.61                    0.69   \n",
       "\n",
       "                         year_1y_shift  dst_distance_1y_shift  \\\n",
       "china_student_count               0.94                    0.0   \n",
       "India_student_count               0.89                    0.0   \n",
       "malaysia_student_count            0.54                    0.0   \n",
       "indonesia_student_count           0.84                    0.0   \n",
       "\n",
       "                         dst_students_count_1y_shift  \\\n",
       "china_student_count                             0.99   \n",
       "India_student_count                             0.99   \n",
       "malaysia_student_count                          0.99   \n",
       "indonesia_student_count                         0.99   \n",
       "\n",
       "                         dst_average_wage_1y_shift  \\\n",
       "china_student_count                           0.89   \n",
       "India_student_count                           0.83   \n",
       "malaysia_student_count                        0.55   \n",
       "indonesia_student_count                       0.81   \n",
       "\n",
       "                         dst_rate_of_one_usd_1y_shift  dst_cpi_1y_shift  \\\n",
       "china_student_count                             -0.45              0.93   \n",
       "India_student_count                             -0.31              0.87   \n",
       "malaysia_student_count                          -0.21              0.51   \n",
       "indonesia_student_count                         -0.70              0.85   \n",
       "\n",
       "                         dst_qoe_top20_1y_shift  ...  src_qoe_top200_1y_shift  \\\n",
       "china_student_count                         0.0  ...                     0.94   \n",
       "India_student_count                         0.0  ...                     0.00   \n",
       "malaysia_student_count                      0.0  ...                     0.00   \n",
       "indonesia_student_count                     0.0  ...                     0.00   \n",
       "\n",
       "                         src_qoe_top500_1y_shift  src_gni_1y_shift  \\\n",
       "china_student_count                         0.94              0.96   \n",
       "India_student_count                        -0.76              0.89   \n",
       "malaysia_student_count                      0.68              0.58   \n",
       "indonesia_student_count                     0.00              0.71   \n",
       "\n",
       "                         src_gdp_1y_shift  src_rate_of_one_usd_1y_shift  \\\n",
       "china_student_count                  0.95                         -0.83   \n",
       "India_student_count                  0.89                          0.94   \n",
       "malaysia_student_count               0.54                         -0.09   \n",
       "indonesia_student_count              0.70                          0.60   \n",
       "\n",
       "                         src_tertiary_enrolment_1y_shift  year_2y_shift  \\\n",
       "china_student_count                                 0.99           0.94   \n",
       "India_student_count                                 0.93           0.87   \n",
       "malaysia_student_count                              0.54           0.71   \n",
       "indonesia_student_count                             0.71           0.78   \n",
       "\n",
       "                         dst_distance_2y_shift  dst_students_count_2y_shift  \\\n",
       "china_student_count                        0.0                         0.98   \n",
       "India_student_count                        0.0                         0.98   \n",
       "malaysia_student_count                     0.0                         0.97   \n",
       "indonesia_student_count                    0.0                         0.98   \n",
       "\n",
       "                         dst_average_wage_2y_shift  \\\n",
       "china_student_count                           0.87   \n",
       "India_student_count                           0.79   \n",
       "malaysia_student_count                        0.72   \n",
       "indonesia_student_count                       0.78   \n",
       "\n",
       "                         dst_rate_of_one_usd_2y_shift  dst_cpi_2y_shift  \\\n",
       "china_student_count                             -0.41              0.93   \n",
       "India_student_count                             -0.20              0.85   \n",
       "malaysia_student_count                          -0.39              0.68   \n",
       "indonesia_student_count                         -0.63              0.79   \n",
       "\n",
       "                         dst_qoe_top20_2y_shift  dst_qoe_top100_2y_shift  \\\n",
       "china_student_count                         0.0                      0.0   \n",
       "India_student_count                         0.0                      0.0   \n",
       "malaysia_student_count                      0.0                      0.0   \n",
       "indonesia_student_count                     0.0                      0.0   \n",
       "\n",
       "                         dst_qoe_top200_2y_shift  dst_qoe_top500_2y_shift  \\\n",
       "china_student_count                        -0.69                    -0.86   \n",
       "India_student_count                        -0.65                    -0.80   \n",
       "malaysia_student_count                     -0.43                    -0.45   \n",
       "indonesia_student_count                    -0.67                    -0.84   \n",
       "\n",
       "                         src_population_2y_shift  src_qoe_top20_2y_shift  \\\n",
       "china_student_count                         0.94                     0.0   \n",
       "India_student_count                         0.85                     0.0   \n",
       "malaysia_student_count                      0.69                     0.0   \n",
       "indonesia_student_count                     0.78                     0.0   \n",
       "\n",
       "                         src_qoe_top100_2y_shift  src_qoe_top200_2y_shift  \\\n",
       "china_student_count                         0.58                     0.93   \n",
       "India_student_count                         0.00                     0.00   \n",
       "malaysia_student_count                      0.00                     0.00   \n",
       "indonesia_student_count                     0.00                     0.00   \n",
       "\n",
       "                         src_qoe_top500_2y_shift  src_gni_2y_shift  \\\n",
       "china_student_count                         0.94              0.94   \n",
       "India_student_count                        -0.72              0.85   \n",
       "malaysia_student_count                      0.78              0.79   \n",
       "indonesia_student_count                     0.00              0.64   \n",
       "\n",
       "                         src_gdp_2y_shift  src_rate_of_one_usd_2y_shift  \\\n",
       "china_student_count                  0.93                         -0.82   \n",
       "India_student_count                  0.86                          0.94   \n",
       "malaysia_student_count               0.75                         -0.27   \n",
       "indonesia_student_count              0.63                          0.60   \n",
       "\n",
       "                         src_tertiary_enrolment_2y_shift  \n",
       "china_student_count                                 0.97  \n",
       "India_student_count                                 0.89  \n",
       "malaysia_student_count                              0.68  \n",
       "indonesia_student_count                             0.65  \n",
       "\n",
       "[4 rows x 56 columns]"
      ]
     },
     "execution_count": 18,
     "metadata": {},
     "output_type": "execute_result"
    }
   ],
   "source": [
    "corr_df"
   ]
  },
  {
   "cell_type": "markdown",
   "metadata": {
    "deletable": true,
    "editable": true
   },
   "source": [
    "## Heatmap"
   ]
  },
  {
   "cell_type": "code",
   "execution_count": 19,
   "metadata": {
    "collapsed": false,
    "deletable": true,
    "editable": true
   },
   "outputs": [
    {
     "data": {
      "application/vnd.plotly.v1+json": {
       "config": {
        "linkText": "Export to plot.ly",
        "plotlyServerURL": "https://plot.ly",
        "showLink": false
       },
       "data": [
        {
         "colorscale": [
          [
           0,
           "rgb(158,1,66)"
          ],
          [
           0.1,
           "rgb(213,62,79)"
          ],
          [
           0.2,
           "rgb(244,109,67)"
          ],
          [
           0.3,
           "rgb(253,174,97)"
          ],
          [
           0.4,
           "rgb(254,224,139)"
          ],
          [
           0.5,
           "rgb(255,255,191)"
          ],
          [
           0.6,
           "rgb(230,245,152)"
          ],
          [
           0.7,
           "rgb(171,221,164)"
          ],
          [
           0.8,
           "rgb(102,194,165)"
          ],
          [
           0.9,
           "rgb(50,136,189)"
          ],
          [
           1,
           "rgb(94,79,162)"
          ]
         ],
         "reversescale": true,
         "type": "heatmap",
         "x": [
          "china_student_count",
          "India_student_count",
          "malaysia_student_count",
          "indonesia_student_count"
         ],
         "y": [
          "year",
          "dst_distance",
          "dst_average_wage",
          "dst_rate_of_one_usd",
          "dst_cpi",
          "dst_qoe_top20",
          "dst_qoe_top100",
          "dst_qoe_top200",
          "dst_qoe_top500",
          "src_population",
          "src_qoe_top20",
          "src_qoe_top100",
          "src_qoe_top200",
          "src_qoe_top500",
          "src_gni",
          "src_gdp",
          "src_rate_of_one_usd",
          "src_tertiary_enrolment",
          "year_1y_shift",
          "dst_distance_1y_shift",
          "dst_students_count_1y_shift",
          "dst_average_wage_1y_shift",
          "dst_rate_of_one_usd_1y_shift",
          "dst_cpi_1y_shift",
          "dst_qoe_top20_1y_shift",
          "dst_qoe_top100_1y_shift",
          "dst_qoe_top200_1y_shift",
          "dst_qoe_top500_1y_shift",
          "src_population_1y_shift",
          "src_qoe_top20_1y_shift",
          "src_qoe_top100_1y_shift",
          "src_qoe_top200_1y_shift",
          "src_qoe_top500_1y_shift",
          "src_gni_1y_shift",
          "src_gdp_1y_shift",
          "src_rate_of_one_usd_1y_shift",
          "src_tertiary_enrolment_1y_shift",
          "year_2y_shift",
          "dst_distance_2y_shift",
          "dst_students_count_2y_shift",
          "dst_average_wage_2y_shift",
          "dst_rate_of_one_usd_2y_shift",
          "dst_cpi_2y_shift",
          "dst_qoe_top20_2y_shift",
          "dst_qoe_top100_2y_shift",
          "dst_qoe_top200_2y_shift",
          "dst_qoe_top500_2y_shift",
          "src_population_2y_shift",
          "src_qoe_top20_2y_shift",
          "src_qoe_top100_2y_shift",
          "src_qoe_top200_2y_shift",
          "src_qoe_top500_2y_shift",
          "src_gni_2y_shift",
          "src_gdp_2y_shift",
          "src_rate_of_one_usd_2y_shift",
          "src_tertiary_enrolment_2y_shift"
         ],
         "z": [
          [
           0.9463069244533603,
           0.8997943473383643,
           0.5594439895249732,
           0.7792103378195658
          ],
          [
           0,
           0,
           0,
           0
          ],
          [
           0.8948336915404339,
           0.8525933693833038,
           0.5623272466808165,
           0.7301153707918162
          ],
          [
           -0.48502009600052676,
           -0.39051229337786275,
           -0.20007800837575257,
           -0.5371004321811985
          ],
          [
           0.9326666900474614,
           0.8797131603398587,
           0.5273945496950231,
           0.7823175787424166
          ],
          [
           0,
           0,
           0,
           0
          ],
          [
           0,
           0,
           0,
           0
          ],
          [
           -0.658564545911173,
           -0.6224327233050932,
           -0.39769675010756533,
           -0.657860172055478
          ],
          [
           -0.8487665493434822,
           -0.775892023909078,
           -0.32562514060626835,
           -0.772898233222233
          ],
          [
           0.9330708316458973,
           0.8816939451471123,
           0.541537807856897,
           0.774464326952287
          ],
          [
           0,
           0,
           0,
           0
          ],
          [
           0.5164950840991298,
           0,
           0,
           0
          ],
          [
           0.9573125098433748,
           0,
           0,
           0
          ],
          [
           0.9408147973924706,
           -0.7926911964860041,
           0.704513767584259,
           0
          ],
          [
           0.9689171594937886,
           0.9141286569868959,
           0.6180615488422759,
           0.6686521069561687
          ],
          [
           0.9592892957387275,
           0.914489442885956,
           0.5835923679020997,
           0.6640928913641292
          ],
          [
           -0.8438658752533018,
           0.9448441310936955,
           -0.16426915937121506,
           0.6070691732712857
          ],
          [
           0.9884411595733087,
           0.9407750003756143,
           0.5749185340675027,
           0.685125753587272
          ],
          [
           0.944942436871706,
           0.8906214375110708,
           0.5430647539101587,
           0.8380833617268169
          ],
          [
           0,
           0,
           0,
           0
          ],
          [
           0.9928853101628339,
           0.9896255234379138,
           0.9860340403538709,
           0.9918055940681196
          ],
          [
           0.8857102227693686,
           0.833946487515589,
           0.5459587948365034,
           0.811806658184845
          ],
          [
           -0.4493162616483006,
           -0.30788996945645114,
           -0.20809055631803935,
           -0.6971637103796354
          ],
          [
           0.9306406375959854,
           0.869609595385752,
           0.5115194508050721,
           0.8457092448514748
          ],
          [
           0,
           0,
           0,
           0
          ],
          [
           0,
           0,
           0,
           0
          ],
          [
           -0.6700950849029523,
           -0.6268589256935617,
           -0.3497651062754867,
           -0.6808034449309428
          ],
          [
           -0.8559925098777786,
           -0.7881091619338341,
           -0.36483587644068727,
           -0.8766202354952235
          ],
          [
           0.9365202254861726,
           0.8718015595445298,
           0.525998632322309,
           0.8304341345108673
          ],
          [
           0,
           0,
           0,
           0
          ],
          [
           0.535554373191666,
           0,
           0,
           0
          ],
          [
           0.9421047903666343,
           0,
           0,
           0
          ],
          [
           0.9357756659048112,
           -0.7619958153384285,
           0.6818472398419381,
           0
          ],
          [
           0.9561724069719258,
           0.88892237433951,
           0.5782685971969163,
           0.7077711517648602
          ],
          [
           0.945661592666337,
           0.8916350245628056,
           0.5366155329038608,
           0.7033116244265842
          ],
          [
           -0.8273439732833978,
           0.9444965311316138,
           -0.08902700390197528,
           0.6008247654540129
          ],
          [
           0.9872197747726309,
           0.9259656107470126,
           0.53674780049722,
           0.7118146075762342
          ],
          [
           0.9419788090862282,
           0.8739663474286357,
           0.7092730698651752,
           0.783913844161782
          ],
          [
           0,
           0,
           0,
           0
          ],
          [
           0.9789773317525126,
           0.9776445877507228,
           0.9695867667863339,
           0.9795830704239439
          ],
          [
           0.8721957652677755,
           0.7917835888780834,
           0.7214640356720904,
           0.7752806421692147
          ],
          [
           -0.4107811322982002,
           -0.19957592562589288,
           -0.3852718937810071,
           -0.626572299937046
          ],
          [
           0.9300680098851395,
           0.8521899355812869,
           0.6829339110671948,
           0.7892324299513237
          ],
          [
           0,
           0,
           0,
           0
          ],
          [
           0,
           0,
           0,
           0
          ],
          [
           -0.6884555786671552,
           -0.6481004517176331,
           -0.42633955454924277,
           -0.6674817507625271
          ],
          [
           -0.8631825620581254,
           -0.7997977286835086,
           -0.4494765468385858,
           -0.8394772557909675
          ],
          [
           0.9373023608491315,
           0.8539879975291333,
           0.6931415047938636,
           0.7768559079480669
          ],
          [
           0,
           0,
           0,
           0
          ],
          [
           0.5832928152862693,
           0,
           0,
           0
          ],
          [
           0.9260253412084901,
           0,
           0,
           0
          ],
          [
           0.9424510841009321,
           -0.7180463808126005,
           0.783872521222793,
           0
          ],
          [
           0.9423092880740879,
           0.8545695883247849,
           0.788129357523718,
           0.6376159960916868
          ],
          [
           0.9320483732652645,
           0.861110929434089,
           0.7527940408473425,
           0.632758650671325
          ],
          [
           -0.8151495579161058,
           0.9371156438260719,
           -0.26593922583200064,
           0.5961877470379958
          ],
          [
           0.9726821936992036,
           0.8901939424785987,
           0.6783946211223187,
           0.6536111989137239
          ]
         ]
        }
       ],
       "layout": {
        "autosize": false,
        "height": 1000,
        "template": {
         "data": {
          "bar": [
           {
            "error_x": {
             "color": "#2a3f5f"
            },
            "error_y": {
             "color": "#2a3f5f"
            },
            "marker": {
             "line": {
              "color": "#E5ECF6",
              "width": 0.5
             }
            },
            "type": "bar"
           }
          ],
          "barpolar": [
           {
            "marker": {
             "line": {
              "color": "#E5ECF6",
              "width": 0.5
             }
            },
            "type": "barpolar"
           }
          ],
          "carpet": [
           {
            "aaxis": {
             "endlinecolor": "#2a3f5f",
             "gridcolor": "white",
             "linecolor": "white",
             "minorgridcolor": "white",
             "startlinecolor": "#2a3f5f"
            },
            "baxis": {
             "endlinecolor": "#2a3f5f",
             "gridcolor": "white",
             "linecolor": "white",
             "minorgridcolor": "white",
             "startlinecolor": "#2a3f5f"
            },
            "type": "carpet"
           }
          ],
          "choropleth": [
           {
            "colorbar": {
             "outlinewidth": 0,
             "ticks": ""
            },
            "type": "choropleth"
           }
          ],
          "contour": [
           {
            "colorbar": {
             "outlinewidth": 0,
             "ticks": ""
            },
            "colorscale": [
             [
              0,
              "#0d0887"
             ],
             [
              0.1111111111111111,
              "#46039f"
             ],
             [
              0.2222222222222222,
              "#7201a8"
             ],
             [
              0.3333333333333333,
              "#9c179e"
             ],
             [
              0.4444444444444444,
              "#bd3786"
             ],
             [
              0.5555555555555556,
              "#d8576b"
             ],
             [
              0.6666666666666666,
              "#ed7953"
             ],
             [
              0.7777777777777778,
              "#fb9f3a"
             ],
             [
              0.8888888888888888,
              "#fdca26"
             ],
             [
              1,
              "#f0f921"
             ]
            ],
            "type": "contour"
           }
          ],
          "contourcarpet": [
           {
            "colorbar": {
             "outlinewidth": 0,
             "ticks": ""
            },
            "type": "contourcarpet"
           }
          ],
          "heatmap": [
           {
            "colorbar": {
             "outlinewidth": 0,
             "ticks": ""
            },
            "colorscale": [
             [
              0,
              "#0d0887"
             ],
             [
              0.1111111111111111,
              "#46039f"
             ],
             [
              0.2222222222222222,
              "#7201a8"
             ],
             [
              0.3333333333333333,
              "#9c179e"
             ],
             [
              0.4444444444444444,
              "#bd3786"
             ],
             [
              0.5555555555555556,
              "#d8576b"
             ],
             [
              0.6666666666666666,
              "#ed7953"
             ],
             [
              0.7777777777777778,
              "#fb9f3a"
             ],
             [
              0.8888888888888888,
              "#fdca26"
             ],
             [
              1,
              "#f0f921"
             ]
            ],
            "type": "heatmap"
           }
          ],
          "heatmapgl": [
           {
            "colorbar": {
             "outlinewidth": 0,
             "ticks": ""
            },
            "colorscale": [
             [
              0,
              "#0d0887"
             ],
             [
              0.1111111111111111,
              "#46039f"
             ],
             [
              0.2222222222222222,
              "#7201a8"
             ],
             [
              0.3333333333333333,
              "#9c179e"
             ],
             [
              0.4444444444444444,
              "#bd3786"
             ],
             [
              0.5555555555555556,
              "#d8576b"
             ],
             [
              0.6666666666666666,
              "#ed7953"
             ],
             [
              0.7777777777777778,
              "#fb9f3a"
             ],
             [
              0.8888888888888888,
              "#fdca26"
             ],
             [
              1,
              "#f0f921"
             ]
            ],
            "type": "heatmapgl"
           }
          ],
          "histogram": [
           {
            "marker": {
             "colorbar": {
              "outlinewidth": 0,
              "ticks": ""
             }
            },
            "type": "histogram"
           }
          ],
          "histogram2d": [
           {
            "colorbar": {
             "outlinewidth": 0,
             "ticks": ""
            },
            "colorscale": [
             [
              0,
              "#0d0887"
             ],
             [
              0.1111111111111111,
              "#46039f"
             ],
             [
              0.2222222222222222,
              "#7201a8"
             ],
             [
              0.3333333333333333,
              "#9c179e"
             ],
             [
              0.4444444444444444,
              "#bd3786"
             ],
             [
              0.5555555555555556,
              "#d8576b"
             ],
             [
              0.6666666666666666,
              "#ed7953"
             ],
             [
              0.7777777777777778,
              "#fb9f3a"
             ],
             [
              0.8888888888888888,
              "#fdca26"
             ],
             [
              1,
              "#f0f921"
             ]
            ],
            "type": "histogram2d"
           }
          ],
          "histogram2dcontour": [
           {
            "colorbar": {
             "outlinewidth": 0,
             "ticks": ""
            },
            "colorscale": [
             [
              0,
              "#0d0887"
             ],
             [
              0.1111111111111111,
              "#46039f"
             ],
             [
              0.2222222222222222,
              "#7201a8"
             ],
             [
              0.3333333333333333,
              "#9c179e"
             ],
             [
              0.4444444444444444,
              "#bd3786"
             ],
             [
              0.5555555555555556,
              "#d8576b"
             ],
             [
              0.6666666666666666,
              "#ed7953"
             ],
             [
              0.7777777777777778,
              "#fb9f3a"
             ],
             [
              0.8888888888888888,
              "#fdca26"
             ],
             [
              1,
              "#f0f921"
             ]
            ],
            "type": "histogram2dcontour"
           }
          ],
          "mesh3d": [
           {
            "colorbar": {
             "outlinewidth": 0,
             "ticks": ""
            },
            "type": "mesh3d"
           }
          ],
          "parcoords": [
           {
            "line": {
             "colorbar": {
              "outlinewidth": 0,
              "ticks": ""
             }
            },
            "type": "parcoords"
           }
          ],
          "scatter": [
           {
            "marker": {
             "colorbar": {
              "outlinewidth": 0,
              "ticks": ""
             }
            },
            "type": "scatter"
           }
          ],
          "scatter3d": [
           {
            "line": {
             "colorbar": {
              "outlinewidth": 0,
              "ticks": ""
             }
            },
            "marker": {
             "colorbar": {
              "outlinewidth": 0,
              "ticks": ""
             }
            },
            "type": "scatter3d"
           }
          ],
          "scattercarpet": [
           {
            "marker": {
             "colorbar": {
              "outlinewidth": 0,
              "ticks": ""
             }
            },
            "type": "scattercarpet"
           }
          ],
          "scattergeo": [
           {
            "marker": {
             "colorbar": {
              "outlinewidth": 0,
              "ticks": ""
             }
            },
            "type": "scattergeo"
           }
          ],
          "scattergl": [
           {
            "marker": {
             "colorbar": {
              "outlinewidth": 0,
              "ticks": ""
             }
            },
            "type": "scattergl"
           }
          ],
          "scattermapbox": [
           {
            "marker": {
             "colorbar": {
              "outlinewidth": 0,
              "ticks": ""
             }
            },
            "type": "scattermapbox"
           }
          ],
          "scatterpolar": [
           {
            "marker": {
             "colorbar": {
              "outlinewidth": 0,
              "ticks": ""
             }
            },
            "type": "scatterpolar"
           }
          ],
          "scatterpolargl": [
           {
            "marker": {
             "colorbar": {
              "outlinewidth": 0,
              "ticks": ""
             }
            },
            "type": "scatterpolargl"
           }
          ],
          "scatterternary": [
           {
            "marker": {
             "colorbar": {
              "outlinewidth": 0,
              "ticks": ""
             }
            },
            "type": "scatterternary"
           }
          ],
          "surface": [
           {
            "colorbar": {
             "outlinewidth": 0,
             "ticks": ""
            },
            "colorscale": [
             [
              0,
              "#0d0887"
             ],
             [
              0.1111111111111111,
              "#46039f"
             ],
             [
              0.2222222222222222,
              "#7201a8"
             ],
             [
              0.3333333333333333,
              "#9c179e"
             ],
             [
              0.4444444444444444,
              "#bd3786"
             ],
             [
              0.5555555555555556,
              "#d8576b"
             ],
             [
              0.6666666666666666,
              "#ed7953"
             ],
             [
              0.7777777777777778,
              "#fb9f3a"
             ],
             [
              0.8888888888888888,
              "#fdca26"
             ],
             [
              1,
              "#f0f921"
             ]
            ],
            "type": "surface"
           }
          ],
          "table": [
           {
            "cells": {
             "fill": {
              "color": "#EBF0F8"
             },
             "line": {
              "color": "white"
             }
            },
            "header": {
             "fill": {
              "color": "#C8D4E3"
             },
             "line": {
              "color": "white"
             }
            },
            "type": "table"
           }
          ]
         },
         "layout": {
          "annotationdefaults": {
           "arrowcolor": "#2a3f5f",
           "arrowhead": 0,
           "arrowwidth": 1
          },
          "colorscale": {
           "diverging": [
            [
             0,
             "#8e0152"
            ],
            [
             0.1,
             "#c51b7d"
            ],
            [
             0.2,
             "#de77ae"
            ],
            [
             0.3,
             "#f1b6da"
            ],
            [
             0.4,
             "#fde0ef"
            ],
            [
             0.5,
             "#f7f7f7"
            ],
            [
             0.6,
             "#e6f5d0"
            ],
            [
             0.7,
             "#b8e186"
            ],
            [
             0.8,
             "#7fbc41"
            ],
            [
             0.9,
             "#4d9221"
            ],
            [
             1,
             "#276419"
            ]
           ],
           "sequential": [
            [
             0,
             "#0d0887"
            ],
            [
             0.1111111111111111,
             "#46039f"
            ],
            [
             0.2222222222222222,
             "#7201a8"
            ],
            [
             0.3333333333333333,
             "#9c179e"
            ],
            [
             0.4444444444444444,
             "#bd3786"
            ],
            [
             0.5555555555555556,
             "#d8576b"
            ],
            [
             0.6666666666666666,
             "#ed7953"
            ],
            [
             0.7777777777777778,
             "#fb9f3a"
            ],
            [
             0.8888888888888888,
             "#fdca26"
            ],
            [
             1,
             "#f0f921"
            ]
           ],
           "sequentialminus": [
            [
             0,
             "#0d0887"
            ],
            [
             0.1111111111111111,
             "#46039f"
            ],
            [
             0.2222222222222222,
             "#7201a8"
            ],
            [
             0.3333333333333333,
             "#9c179e"
            ],
            [
             0.4444444444444444,
             "#bd3786"
            ],
            [
             0.5555555555555556,
             "#d8576b"
            ],
            [
             0.6666666666666666,
             "#ed7953"
            ],
            [
             0.7777777777777778,
             "#fb9f3a"
            ],
            [
             0.8888888888888888,
             "#fdca26"
            ],
            [
             1,
             "#f0f921"
            ]
           ]
          },
          "colorway": [
           "#636efa",
           "#EF553B",
           "#00cc96",
           "#ab63fa",
           "#FFA15A",
           "#19d3f3",
           "#FF6692",
           "#B6E880",
           "#FF97FF",
           "#FECB52"
          ],
          "font": {
           "color": "#2a3f5f"
          },
          "geo": {
           "bgcolor": "white",
           "lakecolor": "white",
           "landcolor": "#E5ECF6",
           "showlakes": true,
           "showland": true,
           "subunitcolor": "white"
          },
          "hoverlabel": {
           "align": "left"
          },
          "hovermode": "closest",
          "mapbox": {
           "style": "light"
          },
          "paper_bgcolor": "white",
          "plot_bgcolor": "#E5ECF6",
          "polar": {
           "angularaxis": {
            "gridcolor": "white",
            "linecolor": "white",
            "ticks": ""
           },
           "bgcolor": "#E5ECF6",
           "radialaxis": {
            "gridcolor": "white",
            "linecolor": "white",
            "ticks": ""
           }
          },
          "scene": {
           "xaxis": {
            "backgroundcolor": "#E5ECF6",
            "gridcolor": "white",
            "gridwidth": 2,
            "linecolor": "white",
            "showbackground": true,
            "ticks": "",
            "zerolinecolor": "white"
           },
           "yaxis": {
            "backgroundcolor": "#E5ECF6",
            "gridcolor": "white",
            "gridwidth": 2,
            "linecolor": "white",
            "showbackground": true,
            "ticks": "",
            "zerolinecolor": "white"
           },
           "zaxis": {
            "backgroundcolor": "#E5ECF6",
            "gridcolor": "white",
            "gridwidth": 2,
            "linecolor": "white",
            "showbackground": true,
            "ticks": "",
            "zerolinecolor": "white"
           }
          },
          "shapedefaults": {
           "line": {
            "color": "#2a3f5f"
           }
          },
          "ternary": {
           "aaxis": {
            "gridcolor": "white",
            "linecolor": "white",
            "ticks": ""
           },
           "baxis": {
            "gridcolor": "white",
            "linecolor": "white",
            "ticks": ""
           },
           "bgcolor": "#E5ECF6",
           "caxis": {
            "gridcolor": "white",
            "linecolor": "white",
            "ticks": ""
           }
          },
          "title": {
           "x": 0.05
          },
          "xaxis": {
           "automargin": true,
           "gridcolor": "white",
           "linecolor": "white",
           "ticks": "",
           "zerolinecolor": "white",
           "zerolinewidth": 2
          },
          "yaxis": {
           "automargin": true,
           "gridcolor": "white",
           "linecolor": "white",
           "ticks": "",
           "zerolinecolor": "white",
           "zerolinewidth": 2
          }
         }
        },
        "title": {
         "text": "Correlation Between Predcitors and Student Count for Canada"
        },
        "width": 1000
       }
      },
      "text/html": [
       "<div>\n",
       "        \n",
       "        \n",
       "            <div id=\"443a01b3-da27-47e8-96d5-df5c4dbe4dfe\" class=\"plotly-graph-div\" style=\"height:1000px; width:1000px;\"></div>\n",
       "            <script type=\"text/javascript\">\n",
       "                require([\"plotly\"], function(Plotly) {\n",
       "                    window.PLOTLYENV=window.PLOTLYENV || {};\n",
       "                    \n",
       "                if (document.getElementById(\"443a01b3-da27-47e8-96d5-df5c4dbe4dfe\")) {\n",
       "                    Plotly.newPlot(\n",
       "                        '443a01b3-da27-47e8-96d5-df5c4dbe4dfe',\n",
       "                        [{\"colorscale\": [[0.0, \"rgb(158,1,66)\"], [0.1, \"rgb(213,62,79)\"], [0.2, \"rgb(244,109,67)\"], [0.3, \"rgb(253,174,97)\"], [0.4, \"rgb(254,224,139)\"], [0.5, \"rgb(255,255,191)\"], [0.6, \"rgb(230,245,152)\"], [0.7, \"rgb(171,221,164)\"], [0.8, \"rgb(102,194,165)\"], [0.9, \"rgb(50,136,189)\"], [1.0, \"rgb(94,79,162)\"]], \"reversescale\": true, \"type\": \"heatmap\", \"x\": [\"china_student_count\", \"India_student_count\", \"malaysia_student_count\", \"indonesia_student_count\"], \"y\": [\"year\", \"dst_distance\", \"dst_average_wage\", \"dst_rate_of_one_usd\", \"dst_cpi\", \"dst_qoe_top20\", \"dst_qoe_top100\", \"dst_qoe_top200\", \"dst_qoe_top500\", \"src_population\", \"src_qoe_top20\", \"src_qoe_top100\", \"src_qoe_top200\", \"src_qoe_top500\", \"src_gni\", \"src_gdp\", \"src_rate_of_one_usd\", \"src_tertiary_enrolment\", \"year_1y_shift\", \"dst_distance_1y_shift\", \"dst_students_count_1y_shift\", \"dst_average_wage_1y_shift\", \"dst_rate_of_one_usd_1y_shift\", \"dst_cpi_1y_shift\", \"dst_qoe_top20_1y_shift\", \"dst_qoe_top100_1y_shift\", \"dst_qoe_top200_1y_shift\", \"dst_qoe_top500_1y_shift\", \"src_population_1y_shift\", \"src_qoe_top20_1y_shift\", \"src_qoe_top100_1y_shift\", \"src_qoe_top200_1y_shift\", \"src_qoe_top500_1y_shift\", \"src_gni_1y_shift\", \"src_gdp_1y_shift\", \"src_rate_of_one_usd_1y_shift\", \"src_tertiary_enrolment_1y_shift\", \"year_2y_shift\", \"dst_distance_2y_shift\", \"dst_students_count_2y_shift\", \"dst_average_wage_2y_shift\", \"dst_rate_of_one_usd_2y_shift\", \"dst_cpi_2y_shift\", \"dst_qoe_top20_2y_shift\", \"dst_qoe_top100_2y_shift\", \"dst_qoe_top200_2y_shift\", \"dst_qoe_top500_2y_shift\", \"src_population_2y_shift\", \"src_qoe_top20_2y_shift\", \"src_qoe_top100_2y_shift\", \"src_qoe_top200_2y_shift\", \"src_qoe_top500_2y_shift\", \"src_gni_2y_shift\", \"src_gdp_2y_shift\", \"src_rate_of_one_usd_2y_shift\", \"src_tertiary_enrolment_2y_shift\"], \"z\": [[0.9463069244533603, 0.8997943473383643, 0.5594439895249732, 0.7792103378195658], [0.0, 0.0, 0.0, 0.0], [0.8948336915404339, 0.8525933693833038, 0.5623272466808165, 0.7301153707918162], [-0.48502009600052676, -0.39051229337786275, -0.20007800837575257, -0.5371004321811985], [0.9326666900474614, 0.8797131603398587, 0.5273945496950231, 0.7823175787424166], [0.0, 0.0, 0.0, 0.0], [0.0, 0.0, 0.0, 0.0], [-0.658564545911173, -0.6224327233050932, -0.39769675010756533, -0.657860172055478], [-0.8487665493434822, -0.775892023909078, -0.32562514060626835, -0.772898233222233], [0.9330708316458973, 0.8816939451471123, 0.541537807856897, 0.774464326952287], [0.0, 0.0, 0.0, 0.0], [0.5164950840991298, 0.0, 0.0, 0.0], [0.9573125098433748, 0.0, 0.0, 0.0], [0.9408147973924706, -0.7926911964860041, 0.704513767584259, 0.0], [0.9689171594937886, 0.9141286569868959, 0.6180615488422759, 0.6686521069561687], [0.9592892957387275, 0.914489442885956, 0.5835923679020997, 0.6640928913641292], [-0.8438658752533018, 0.9448441310936955, -0.16426915937121506, 0.6070691732712857], [0.9884411595733087, 0.9407750003756143, 0.5749185340675027, 0.685125753587272], [0.944942436871706, 0.8906214375110708, 0.5430647539101587, 0.8380833617268169], [0.0, 0.0, 0.0, 0.0], [0.9928853101628339, 0.9896255234379138, 0.9860340403538709, 0.9918055940681196], [0.8857102227693686, 0.833946487515589, 0.5459587948365034, 0.811806658184845], [-0.4493162616483006, -0.30788996945645114, -0.20809055631803935, -0.6971637103796354], [0.9306406375959854, 0.869609595385752, 0.5115194508050721, 0.8457092448514748], [0.0, 0.0, 0.0, 0.0], [0.0, 0.0, 0.0, 0.0], [-0.6700950849029523, -0.6268589256935617, -0.3497651062754867, -0.6808034449309428], [-0.8559925098777786, -0.7881091619338341, -0.36483587644068727, -0.8766202354952235], [0.9365202254861726, 0.8718015595445298, 0.525998632322309, 0.8304341345108673], [0.0, 0.0, 0.0, 0.0], [0.535554373191666, 0.0, 0.0, 0.0], [0.9421047903666343, 0.0, 0.0, 0.0], [0.9357756659048112, -0.7619958153384285, 0.6818472398419381, 0.0], [0.9561724069719258, 0.88892237433951, 0.5782685971969163, 0.7077711517648602], [0.945661592666337, 0.8916350245628056, 0.5366155329038608, 0.7033116244265842], [-0.8273439732833978, 0.9444965311316138, -0.08902700390197528, 0.6008247654540129], [0.9872197747726309, 0.9259656107470126, 0.53674780049722, 0.7118146075762342], [0.9419788090862282, 0.8739663474286357, 0.7092730698651752, 0.783913844161782], [0.0, 0.0, 0.0, 0.0], [0.9789773317525126, 0.9776445877507228, 0.9695867667863339, 0.9795830704239439], [0.8721957652677755, 0.7917835888780834, 0.7214640356720904, 0.7752806421692147], [-0.4107811322982002, -0.19957592562589288, -0.3852718937810071, -0.626572299937046], [0.9300680098851395, 0.8521899355812869, 0.6829339110671948, 0.7892324299513237], [0.0, 0.0, 0.0, 0.0], [0.0, 0.0, 0.0, 0.0], [-0.6884555786671552, -0.6481004517176331, -0.42633955454924277, -0.6674817507625271], [-0.8631825620581254, -0.7997977286835086, -0.4494765468385858, -0.8394772557909675], [0.9373023608491315, 0.8539879975291333, 0.6931415047938636, 0.7768559079480669], [0.0, 0.0, 0.0, 0.0], [0.5832928152862693, 0.0, 0.0, 0.0], [0.9260253412084901, 0.0, 0.0, 0.0], [0.9424510841009321, -0.7180463808126005, 0.783872521222793, 0.0], [0.9423092880740879, 0.8545695883247849, 0.788129357523718, 0.6376159960916868], [0.9320483732652645, 0.861110929434089, 0.7527940408473425, 0.632758650671325], [-0.8151495579161058, 0.9371156438260719, -0.26593922583200064, 0.5961877470379958], [0.9726821936992036, 0.8901939424785987, 0.6783946211223187, 0.6536111989137239]]}],\n",
       "                        {\"autosize\": false, \"height\": 1000, \"template\": {\"data\": {\"bar\": [{\"error_x\": {\"color\": \"#2a3f5f\"}, \"error_y\": {\"color\": \"#2a3f5f\"}, \"marker\": {\"line\": {\"color\": \"#E5ECF6\", \"width\": 0.5}}, \"type\": \"bar\"}], \"barpolar\": [{\"marker\": {\"line\": {\"color\": \"#E5ECF6\", \"width\": 0.5}}, \"type\": \"barpolar\"}], \"carpet\": [{\"aaxis\": {\"endlinecolor\": \"#2a3f5f\", \"gridcolor\": \"white\", \"linecolor\": \"white\", \"minorgridcolor\": \"white\", \"startlinecolor\": \"#2a3f5f\"}, \"baxis\": {\"endlinecolor\": \"#2a3f5f\", \"gridcolor\": \"white\", \"linecolor\": \"white\", \"minorgridcolor\": \"white\", \"startlinecolor\": \"#2a3f5f\"}, \"type\": \"carpet\"}], \"choropleth\": [{\"colorbar\": {\"outlinewidth\": 0, \"ticks\": \"\"}, \"type\": \"choropleth\"}], \"contour\": [{\"colorbar\": {\"outlinewidth\": 0, \"ticks\": \"\"}, \"colorscale\": [[0.0, \"#0d0887\"], [0.1111111111111111, \"#46039f\"], [0.2222222222222222, \"#7201a8\"], [0.3333333333333333, \"#9c179e\"], [0.4444444444444444, \"#bd3786\"], [0.5555555555555556, \"#d8576b\"], [0.6666666666666666, \"#ed7953\"], [0.7777777777777778, \"#fb9f3a\"], [0.8888888888888888, \"#fdca26\"], [1.0, \"#f0f921\"]], \"type\": \"contour\"}], \"contourcarpet\": [{\"colorbar\": {\"outlinewidth\": 0, \"ticks\": \"\"}, \"type\": \"contourcarpet\"}], \"heatmap\": [{\"colorbar\": {\"outlinewidth\": 0, \"ticks\": \"\"}, \"colorscale\": [[0.0, \"#0d0887\"], [0.1111111111111111, \"#46039f\"], [0.2222222222222222, \"#7201a8\"], [0.3333333333333333, \"#9c179e\"], [0.4444444444444444, \"#bd3786\"], [0.5555555555555556, \"#d8576b\"], [0.6666666666666666, \"#ed7953\"], [0.7777777777777778, \"#fb9f3a\"], [0.8888888888888888, \"#fdca26\"], [1.0, \"#f0f921\"]], \"type\": \"heatmap\"}], \"heatmapgl\": [{\"colorbar\": {\"outlinewidth\": 0, \"ticks\": \"\"}, \"colorscale\": [[0.0, \"#0d0887\"], [0.1111111111111111, \"#46039f\"], [0.2222222222222222, \"#7201a8\"], [0.3333333333333333, \"#9c179e\"], [0.4444444444444444, \"#bd3786\"], [0.5555555555555556, \"#d8576b\"], [0.6666666666666666, \"#ed7953\"], [0.7777777777777778, \"#fb9f3a\"], [0.8888888888888888, \"#fdca26\"], [1.0, \"#f0f921\"]], \"type\": \"heatmapgl\"}], \"histogram\": [{\"marker\": {\"colorbar\": {\"outlinewidth\": 0, \"ticks\": \"\"}}, \"type\": \"histogram\"}], \"histogram2d\": [{\"colorbar\": {\"outlinewidth\": 0, \"ticks\": \"\"}, \"colorscale\": [[0.0, \"#0d0887\"], [0.1111111111111111, \"#46039f\"], [0.2222222222222222, \"#7201a8\"], [0.3333333333333333, \"#9c179e\"], [0.4444444444444444, \"#bd3786\"], [0.5555555555555556, \"#d8576b\"], [0.6666666666666666, \"#ed7953\"], [0.7777777777777778, \"#fb9f3a\"], [0.8888888888888888, \"#fdca26\"], [1.0, \"#f0f921\"]], \"type\": \"histogram2d\"}], \"histogram2dcontour\": [{\"colorbar\": {\"outlinewidth\": 0, \"ticks\": \"\"}, \"colorscale\": [[0.0, \"#0d0887\"], [0.1111111111111111, \"#46039f\"], [0.2222222222222222, \"#7201a8\"], [0.3333333333333333, \"#9c179e\"], [0.4444444444444444, \"#bd3786\"], [0.5555555555555556, \"#d8576b\"], [0.6666666666666666, \"#ed7953\"], [0.7777777777777778, \"#fb9f3a\"], [0.8888888888888888, \"#fdca26\"], [1.0, \"#f0f921\"]], \"type\": \"histogram2dcontour\"}], \"mesh3d\": [{\"colorbar\": {\"outlinewidth\": 0, \"ticks\": \"\"}, \"type\": \"mesh3d\"}], \"parcoords\": [{\"line\": {\"colorbar\": {\"outlinewidth\": 0, \"ticks\": \"\"}}, \"type\": \"parcoords\"}], \"scatter\": [{\"marker\": {\"colorbar\": {\"outlinewidth\": 0, \"ticks\": \"\"}}, \"type\": \"scatter\"}], \"scatter3d\": [{\"line\": {\"colorbar\": {\"outlinewidth\": 0, \"ticks\": \"\"}}, \"marker\": {\"colorbar\": {\"outlinewidth\": 0, \"ticks\": \"\"}}, \"type\": \"scatter3d\"}], \"scattercarpet\": [{\"marker\": {\"colorbar\": {\"outlinewidth\": 0, \"ticks\": \"\"}}, \"type\": \"scattercarpet\"}], \"scattergeo\": [{\"marker\": {\"colorbar\": {\"outlinewidth\": 0, \"ticks\": \"\"}}, \"type\": \"scattergeo\"}], \"scattergl\": [{\"marker\": {\"colorbar\": {\"outlinewidth\": 0, \"ticks\": \"\"}}, \"type\": \"scattergl\"}], \"scattermapbox\": [{\"marker\": {\"colorbar\": {\"outlinewidth\": 0, \"ticks\": \"\"}}, \"type\": \"scattermapbox\"}], \"scatterpolar\": [{\"marker\": {\"colorbar\": {\"outlinewidth\": 0, \"ticks\": \"\"}}, \"type\": \"scatterpolar\"}], \"scatterpolargl\": [{\"marker\": {\"colorbar\": {\"outlinewidth\": 0, \"ticks\": \"\"}}, \"type\": \"scatterpolargl\"}], \"scatterternary\": [{\"marker\": {\"colorbar\": {\"outlinewidth\": 0, \"ticks\": \"\"}}, \"type\": \"scatterternary\"}], \"surface\": [{\"colorbar\": {\"outlinewidth\": 0, \"ticks\": \"\"}, \"colorscale\": [[0.0, \"#0d0887\"], [0.1111111111111111, \"#46039f\"], [0.2222222222222222, \"#7201a8\"], [0.3333333333333333, \"#9c179e\"], [0.4444444444444444, \"#bd3786\"], [0.5555555555555556, \"#d8576b\"], [0.6666666666666666, \"#ed7953\"], [0.7777777777777778, \"#fb9f3a\"], [0.8888888888888888, \"#fdca26\"], [1.0, \"#f0f921\"]], \"type\": \"surface\"}], \"table\": [{\"cells\": {\"fill\": {\"color\": \"#EBF0F8\"}, \"line\": {\"color\": \"white\"}}, \"header\": {\"fill\": {\"color\": \"#C8D4E3\"}, \"line\": {\"color\": \"white\"}}, \"type\": \"table\"}]}, \"layout\": {\"annotationdefaults\": {\"arrowcolor\": \"#2a3f5f\", \"arrowhead\": 0, \"arrowwidth\": 1}, \"colorscale\": {\"diverging\": [[0, \"#8e0152\"], [0.1, \"#c51b7d\"], [0.2, \"#de77ae\"], [0.3, \"#f1b6da\"], [0.4, \"#fde0ef\"], [0.5, \"#f7f7f7\"], [0.6, \"#e6f5d0\"], [0.7, \"#b8e186\"], [0.8, \"#7fbc41\"], [0.9, \"#4d9221\"], [1, \"#276419\"]], \"sequential\": [[0.0, \"#0d0887\"], [0.1111111111111111, \"#46039f\"], [0.2222222222222222, \"#7201a8\"], [0.3333333333333333, \"#9c179e\"], [0.4444444444444444, \"#bd3786\"], [0.5555555555555556, \"#d8576b\"], [0.6666666666666666, \"#ed7953\"], [0.7777777777777778, \"#fb9f3a\"], [0.8888888888888888, \"#fdca26\"], [1.0, \"#f0f921\"]], \"sequentialminus\": [[0.0, \"#0d0887\"], [0.1111111111111111, \"#46039f\"], [0.2222222222222222, \"#7201a8\"], [0.3333333333333333, \"#9c179e\"], [0.4444444444444444, \"#bd3786\"], [0.5555555555555556, \"#d8576b\"], [0.6666666666666666, \"#ed7953\"], [0.7777777777777778, \"#fb9f3a\"], [0.8888888888888888, \"#fdca26\"], [1.0, \"#f0f921\"]]}, \"colorway\": [\"#636efa\", \"#EF553B\", \"#00cc96\", \"#ab63fa\", \"#FFA15A\", \"#19d3f3\", \"#FF6692\", \"#B6E880\", \"#FF97FF\", \"#FECB52\"], \"font\": {\"color\": \"#2a3f5f\"}, \"geo\": {\"bgcolor\": \"white\", \"lakecolor\": \"white\", \"landcolor\": \"#E5ECF6\", \"showlakes\": true, \"showland\": true, \"subunitcolor\": \"white\"}, \"hoverlabel\": {\"align\": \"left\"}, \"hovermode\": \"closest\", \"mapbox\": {\"style\": \"light\"}, \"paper_bgcolor\": \"white\", \"plot_bgcolor\": \"#E5ECF6\", \"polar\": {\"angularaxis\": {\"gridcolor\": \"white\", \"linecolor\": \"white\", \"ticks\": \"\"}, \"bgcolor\": \"#E5ECF6\", \"radialaxis\": {\"gridcolor\": \"white\", \"linecolor\": \"white\", \"ticks\": \"\"}}, \"scene\": {\"xaxis\": {\"backgroundcolor\": \"#E5ECF6\", \"gridcolor\": \"white\", \"gridwidth\": 2, \"linecolor\": \"white\", \"showbackground\": true, \"ticks\": \"\", \"zerolinecolor\": \"white\"}, \"yaxis\": {\"backgroundcolor\": \"#E5ECF6\", \"gridcolor\": \"white\", \"gridwidth\": 2, \"linecolor\": \"white\", \"showbackground\": true, \"ticks\": \"\", \"zerolinecolor\": \"white\"}, \"zaxis\": {\"backgroundcolor\": \"#E5ECF6\", \"gridcolor\": \"white\", \"gridwidth\": 2, \"linecolor\": \"white\", \"showbackground\": true, \"ticks\": \"\", \"zerolinecolor\": \"white\"}}, \"shapedefaults\": {\"line\": {\"color\": \"#2a3f5f\"}}, \"ternary\": {\"aaxis\": {\"gridcolor\": \"white\", \"linecolor\": \"white\", \"ticks\": \"\"}, \"baxis\": {\"gridcolor\": \"white\", \"linecolor\": \"white\", \"ticks\": \"\"}, \"bgcolor\": \"#E5ECF6\", \"caxis\": {\"gridcolor\": \"white\", \"linecolor\": \"white\", \"ticks\": \"\"}}, \"title\": {\"x\": 0.05}, \"xaxis\": {\"automargin\": true, \"gridcolor\": \"white\", \"linecolor\": \"white\", \"ticks\": \"\", \"zerolinecolor\": \"white\", \"zerolinewidth\": 2}, \"yaxis\": {\"automargin\": true, \"gridcolor\": \"white\", \"linecolor\": \"white\", \"ticks\": \"\", \"zerolinecolor\": \"white\", \"zerolinewidth\": 2}}}, \"title\": {\"text\": \"Correlation Between Predcitors and Student Count for Canada\"}, \"width\": 1000},\n",
       "                        {\"responsive\": true}\n",
       "                    ).then(function(){\n",
       "                            \n",
       "var gd = document.getElementById('443a01b3-da27-47e8-96d5-df5c4dbe4dfe');\n",
       "var x = new MutationObserver(function (mutations, observer) {{\n",
       "        var display = window.getComputedStyle(gd).display;\n",
       "        if (!display || display === 'none') {{\n",
       "            console.log([gd, 'removed!']);\n",
       "            Plotly.purge(gd);\n",
       "            observer.disconnect();\n",
       "        }}\n",
       "}});\n",
       "\n",
       "// Listen for the removal of the full notebook cells\n",
       "var notebookContainer = gd.closest('#notebook-container');\n",
       "if (notebookContainer) {{\n",
       "    x.observe(notebookContainer, {childList: true});\n",
       "}}\n",
       "\n",
       "// Listen for the clearing of the current output cell\n",
       "var outputEl = gd.closest('.output');\n",
       "if (outputEl) {{\n",
       "    x.observe(outputEl, {childList: true});\n",
       "}}\n",
       "\n",
       "                        })\n",
       "                };\n",
       "                });\n",
       "            </script>\n",
       "        </div>"
      ]
     },
     "metadata": {},
     "output_type": "display_data"
    }
   ],
   "source": [
    "corr_df = corr_df.T\n",
    "trace = go.Heatmap(z=corr_df.values,\n",
    "                   x=corr_df.columns.values,\n",
    "                   y=corr_df.index.values,\n",
    "                   colorscale='spectral',\n",
    "                   reversescale=True)\n",
    "\n",
    "layout = go.Layout(\n",
    "    title=\"Correlation Between Predcitors and Student Count for Canada\",\n",
    "    autosize=False,\n",
    "    width=1000,\n",
    "    height=1000)\n",
    "\n",
    "fig = go.Figure(data=trace, layout=layout)\n",
    "iplot(fig)"
   ]
  },
  {
   "cell_type": "code",
   "execution_count": null,
   "metadata": {
    "collapsed": true,
    "deletable": true,
    "editable": true
   },
   "outputs": [],
   "source": []
  }
 ],
 "metadata": {
  "kernelspec": {
   "display_name": "PyCharm (Desktop)",
   "language": "python",
   "name": "pycharm-db28d4c2"
  },
  "language_info": {
   "codemirror_mode": {
    "name": "ipython",
    "version": 3
   },
   "file_extension": ".py",
   "mimetype": "text/x-python",
   "name": "python",
   "nbconvert_exporter": "python",
   "pygments_lexer": "ipython3",
   "version": "3.7.3"
  }
 },
 "nbformat": 4,
 "nbformat_minor": 2
}
