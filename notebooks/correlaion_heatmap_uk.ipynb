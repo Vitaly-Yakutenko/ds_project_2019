{
 "cells": [
  {
   "cell_type": "code",
   "execution_count": 1,
   "metadata": {
    "collapsed": true,
    "deletable": true,
    "editable": true
   },
   "outputs": [],
   "source": [
    "import numpy as np\n",
    "import pandas as pd\n",
    "pd.options.display.precision = 2\n",
    "pd.options.display.max_columns = 50"
   ]
  },
  {
   "cell_type": "code",
   "execution_count": 2,
   "metadata": {
    "collapsed": false,
    "deletable": true,
    "editable": true
   },
   "outputs": [
    {
     "name": "stdout",
     "output_type": "stream",
     "text": [
      "/Users/shijunyi/Desktop/学习资料/U of Melbourne/2019 Sem2/Data Science Project/code/python\r\n"
     ]
    }
   ],
   "source": [
    "!pwd\n",
    "import re\n",
    "import os"
   ]
  },
  {
   "cell_type": "code",
   "execution_count": 3,
   "metadata": {
    "collapsed": true,
    "deletable": true,
    "editable": true
   },
   "outputs": [],
   "source": [
    "%matplotlib inline\n",
    "import matplotlib\n",
    "import matplotlib.pyplot as plt\n",
    "matplotlib.rcParams['figure.figsize'] = [15, 10]"
   ]
  },
  {
   "cell_type": "code",
   "execution_count": 4,
   "metadata": {
    "collapsed": false,
    "deletable": true,
    "editable": true
   },
   "outputs": [
    {
     "data": {
      "text/html": [
       "        <script type=\"text/javascript\">\n",
       "        window.PlotlyConfig = {MathJaxConfig: 'local'};\n",
       "        if (window.MathJax) {MathJax.Hub.Config({SVG: {font: \"STIX-Web\"}});}\n",
       "        if (typeof require !== 'undefined') {\n",
       "        require.undef(\"plotly\");\n",
       "        requirejs.config({\n",
       "            paths: {\n",
       "                'plotly': ['https://cdn.plot.ly/plotly-latest.min']\n",
       "            }\n",
       "        });\n",
       "        require(['plotly'], function(Plotly) {\n",
       "            window._Plotly = Plotly;\n",
       "        });\n",
       "        }\n",
       "        </script>\n",
       "        "
      ]
     },
     "metadata": {},
     "output_type": "display_data"
    }
   ],
   "source": [
    "#import seaborn as sns\n",
    "import plotly\n",
    "import plotly.graph_objs as go\n",
    "from plotly.offline import download_plotlyjs, init_notebook_mode, plot, iplot\n",
    "init_notebook_mode(connected=True)"
   ]
  },
  {
   "cell_type": "markdown",
   "metadata": {
    "deletable": true,
    "editable": true
   },
   "source": [
    "# United Kingdom"
   ]
  },
  {
   "cell_type": "markdown",
   "metadata": {
    "deletable": true,
    "editable": true
   },
   "source": [
    "## Read data"
   ]
  },
  {
   "cell_type": "code",
   "execution_count": 5,
   "metadata": {
    "collapsed": false,
    "deletable": true,
    "editable": true
   },
   "outputs": [],
   "source": [
    "aus_factors_df = pd.read_csv('data/uk_combined_factors.csv')"
   ]
  },
  {
   "cell_type": "code",
   "execution_count": 6,
   "metadata": {
    "collapsed": false,
    "deletable": true,
    "editable": true
   },
   "outputs": [
    {
     "data": {
      "text/html": [
       "<div>\n",
       "<style scoped>\n",
       "    .dataframe tbody tr th:only-of-type {\n",
       "        vertical-align: middle;\n",
       "    }\n",
       "\n",
       "    .dataframe tbody tr th {\n",
       "        vertical-align: top;\n",
       "    }\n",
       "\n",
       "    .dataframe thead th {\n",
       "        text-align: right;\n",
       "    }\n",
       "</style>\n",
       "<table border=\"1\" class=\"dataframe\">\n",
       "  <thead>\n",
       "    <tr style=\"text-align: right;\">\n",
       "      <th></th>\n",
       "      <th>year</th>\n",
       "      <th>source_country</th>\n",
       "      <th>destination_country</th>\n",
       "      <th>dst_distance</th>\n",
       "      <th>dst_students_count</th>\n",
       "      <th>dst_average_wage</th>\n",
       "      <th>dst_rate_of_one_usd</th>\n",
       "      <th>dst_cpi</th>\n",
       "      <th>dst_qoe_top20</th>\n",
       "      <th>dst_qoe_top100</th>\n",
       "      <th>dst_qoe_top200</th>\n",
       "      <th>dst_qoe_top500</th>\n",
       "      <th>src_population</th>\n",
       "      <th>src_qoe_top20</th>\n",
       "      <th>src_qoe_top100</th>\n",
       "      <th>src_qoe_top200</th>\n",
       "      <th>src_qoe_top500</th>\n",
       "      <th>src_gni</th>\n",
       "      <th>src_gdp</th>\n",
       "      <th>src_rate_of_one_usd</th>\n",
       "      <th>src_tertiary_enrolment</th>\n",
       "    </tr>\n",
       "  </thead>\n",
       "  <tbody>\n",
       "    <tr>\n",
       "      <td>0</td>\n",
       "      <td>2015</td>\n",
       "      <td>China</td>\n",
       "      <td>United Kingdom</td>\n",
       "      <td>7775</td>\n",
       "      <td>91518</td>\n",
       "      <td>44126.0</td>\n",
       "      <td>0.65</td>\n",
       "      <td>110.96</td>\n",
       "      <td>3</td>\n",
       "      <td>9</td>\n",
       "      <td>21</td>\n",
       "      <td>37</td>\n",
       "      <td>1371220000</td>\n",
       "      <td>0</td>\n",
       "      <td>0</td>\n",
       "      <td>10</td>\n",
       "      <td>44</td>\n",
       "      <td>7910.0</td>\n",
       "      <td>1.10e+13</td>\n",
       "      <td>6.23</td>\n",
       "      <td>45.35</td>\n",
       "    </tr>\n",
       "    <tr>\n",
       "      <td>1</td>\n",
       "      <td>2016</td>\n",
       "      <td>China</td>\n",
       "      <td>United Kingdom</td>\n",
       "      <td>7775</td>\n",
       "      <td>89318</td>\n",
       "      <td>44466.0</td>\n",
       "      <td>0.74</td>\n",
       "      <td>112.08</td>\n",
       "      <td>3</td>\n",
       "      <td>8</td>\n",
       "      <td>21</td>\n",
       "      <td>37</td>\n",
       "      <td>1378665000</td>\n",
       "      <td>0</td>\n",
       "      <td>2</td>\n",
       "      <td>12</td>\n",
       "      <td>54</td>\n",
       "      <td>8210.0</td>\n",
       "      <td>1.11e+13</td>\n",
       "      <td>6.64</td>\n",
       "      <td>48.44</td>\n",
       "    </tr>\n",
       "    <tr>\n",
       "      <td>2</td>\n",
       "      <td>2014</td>\n",
       "      <td>China</td>\n",
       "      <td>United Kingdom</td>\n",
       "      <td>7775</td>\n",
       "      <td>86204</td>\n",
       "      <td>43782.0</td>\n",
       "      <td>0.61</td>\n",
       "      <td>110.55</td>\n",
       "      <td>3</td>\n",
       "      <td>8</td>\n",
       "      <td>20</td>\n",
       "      <td>38</td>\n",
       "      <td>1364270000</td>\n",
       "      <td>0</td>\n",
       "      <td>0</td>\n",
       "      <td>9</td>\n",
       "      <td>44</td>\n",
       "      <td>7500.0</td>\n",
       "      <td>1.04e+13</td>\n",
       "      <td>6.14</td>\n",
       "      <td>41.28</td>\n",
       "    </tr>\n",
       "    <tr>\n",
       "      <td>3</td>\n",
       "      <td>2013</td>\n",
       "      <td>China</td>\n",
       "      <td>United Kingdom</td>\n",
       "      <td>7775</td>\n",
       "      <td>81776</td>\n",
       "      <td>44141.0</td>\n",
       "      <td>0.64</td>\n",
       "      <td>108.97</td>\n",
       "      <td>2</td>\n",
       "      <td>9</td>\n",
       "      <td>19</td>\n",
       "      <td>37</td>\n",
       "      <td>1357380000</td>\n",
       "      <td>0</td>\n",
       "      <td>0</td>\n",
       "      <td>7</td>\n",
       "      <td>42</td>\n",
       "      <td>6770.0</td>\n",
       "      <td>9.57e+12</td>\n",
       "      <td>6.20</td>\n",
       "      <td>31.46</td>\n",
       "    </tr>\n",
       "    <tr>\n",
       "      <td>4</td>\n",
       "      <td>2012</td>\n",
       "      <td>China</td>\n",
       "      <td>United Kingdom</td>\n",
       "      <td>7775</td>\n",
       "      <td>76913</td>\n",
       "      <td>44007.0</td>\n",
       "      <td>0.63</td>\n",
       "      <td>106.53</td>\n",
       "      <td>2</td>\n",
       "      <td>9</td>\n",
       "      <td>19</td>\n",
       "      <td>38</td>\n",
       "      <td>1350695000</td>\n",
       "      <td>0</td>\n",
       "      <td>0</td>\n",
       "      <td>7</td>\n",
       "      <td>42</td>\n",
       "      <td>5930.0</td>\n",
       "      <td>8.53e+12</td>\n",
       "      <td>6.31</td>\n",
       "      <td>28.04</td>\n",
       "    </tr>\n",
       "    <tr>\n",
       "      <td>...</td>\n",
       "      <td>...</td>\n",
       "      <td>...</td>\n",
       "      <td>...</td>\n",
       "      <td>...</td>\n",
       "      <td>...</td>\n",
       "      <td>...</td>\n",
       "      <td>...</td>\n",
       "      <td>...</td>\n",
       "      <td>...</td>\n",
       "      <td>...</td>\n",
       "      <td>...</td>\n",
       "      <td>...</td>\n",
       "      <td>...</td>\n",
       "      <td>...</td>\n",
       "      <td>...</td>\n",
       "      <td>...</td>\n",
       "      <td>...</td>\n",
       "      <td>...</td>\n",
       "      <td>...</td>\n",
       "      <td>...</td>\n",
       "      <td>...</td>\n",
       "    </tr>\n",
       "    <tr>\n",
       "      <td>71</td>\n",
       "      <td>2009</td>\n",
       "      <td>Indonesia</td>\n",
       "      <td>United Kingdom</td>\n",
       "      <td>11758</td>\n",
       "      <td>1029</td>\n",
       "      <td>45455.0</td>\n",
       "      <td>0.64</td>\n",
       "      <td>97.57</td>\n",
       "      <td>2</td>\n",
       "      <td>11</td>\n",
       "      <td>23</td>\n",
       "      <td>40</td>\n",
       "      <td>238620563</td>\n",
       "      <td>0</td>\n",
       "      <td>0</td>\n",
       "      <td>0</td>\n",
       "      <td>0</td>\n",
       "      <td>2150.0</td>\n",
       "      <td>5.40e+11</td>\n",
       "      <td>10389.94</td>\n",
       "      <td>22.38</td>\n",
       "    </tr>\n",
       "    <tr>\n",
       "      <td>72</td>\n",
       "      <td>2000</td>\n",
       "      <td>Indonesia</td>\n",
       "      <td>United Kingdom</td>\n",
       "      <td>11758</td>\n",
       "      <td>1028</td>\n",
       "      <td>38908.0</td>\n",
       "      <td>0.66</td>\n",
       "      <td>81.47</td>\n",
       "      <td>1</td>\n",
       "      <td>13</td>\n",
       "      <td>20</td>\n",
       "      <td>43</td>\n",
       "      <td>211513823</td>\n",
       "      <td>0</td>\n",
       "      <td>0</td>\n",
       "      <td>0</td>\n",
       "      <td>0</td>\n",
       "      <td>580.0</td>\n",
       "      <td>1.65e+11</td>\n",
       "      <td>8421.77</td>\n",
       "      <td>14.88</td>\n",
       "    </tr>\n",
       "    <tr>\n",
       "      <td>73</td>\n",
       "      <td>2008</td>\n",
       "      <td>Indonesia</td>\n",
       "      <td>United Kingdom</td>\n",
       "      <td>11758</td>\n",
       "      <td>924</td>\n",
       "      <td>44679.0</td>\n",
       "      <td>0.54</td>\n",
       "      <td>95.69</td>\n",
       "      <td>2</td>\n",
       "      <td>11</td>\n",
       "      <td>22</td>\n",
       "      <td>42</td>\n",
       "      <td>235469762</td>\n",
       "      <td>0</td>\n",
       "      <td>0</td>\n",
       "      <td>0</td>\n",
       "      <td>0</td>\n",
       "      <td>1940.0</td>\n",
       "      <td>5.10e+11</td>\n",
       "      <td>9698.96</td>\n",
       "      <td>20.43</td>\n",
       "    </tr>\n",
       "    <tr>\n",
       "      <td>74</td>\n",
       "      <td>2003</td>\n",
       "      <td>Indonesia</td>\n",
       "      <td>United Kingdom</td>\n",
       "      <td>11758</td>\n",
       "      <td>899</td>\n",
       "      <td>42652.0</td>\n",
       "      <td>0.61</td>\n",
       "      <td>85.13</td>\n",
       "      <td>1</td>\n",
       "      <td>14</td>\n",
       "      <td>20</td>\n",
       "      <td>42</td>\n",
       "      <td>220309469</td>\n",
       "      <td>0</td>\n",
       "      <td>0</td>\n",
       "      <td>0</td>\n",
       "      <td>0</td>\n",
       "      <td>900.0</td>\n",
       "      <td>2.35e+11</td>\n",
       "      <td>8577.13</td>\n",
       "      <td>16.03</td>\n",
       "    </tr>\n",
       "    <tr>\n",
       "      <td>75</td>\n",
       "      <td>2002</td>\n",
       "      <td>Indonesia</td>\n",
       "      <td>United Kingdom</td>\n",
       "      <td>11758</td>\n",
       "      <td>891</td>\n",
       "      <td>41517.0</td>\n",
       "      <td>0.67</td>\n",
       "      <td>83.97</td>\n",
       "      <td>1</td>\n",
       "      <td>13</td>\n",
       "      <td>20</td>\n",
       "      <td>42</td>\n",
       "      <td>217357793</td>\n",
       "      <td>0</td>\n",
       "      <td>0</td>\n",
       "      <td>0</td>\n",
       "      <td>0</td>\n",
       "      <td>790.0</td>\n",
       "      <td>1.96e+11</td>\n",
       "      <td>9311.19</td>\n",
       "      <td>14.81</td>\n",
       "    </tr>\n",
       "  </tbody>\n",
       "</table>\n",
       "<p>76 rows × 21 columns</p>\n",
       "</div>"
      ],
      "text/plain": [
       "    year source_country destination_country  dst_distance  dst_students_count  \\\n",
       "0   2015          China      United Kingdom          7775               91518   \n",
       "1   2016          China      United Kingdom          7775               89318   \n",
       "2   2014          China      United Kingdom          7775               86204   \n",
       "3   2013          China      United Kingdom          7775               81776   \n",
       "4   2012          China      United Kingdom          7775               76913   \n",
       "..   ...            ...                 ...           ...                 ...   \n",
       "71  2009      Indonesia      United Kingdom         11758                1029   \n",
       "72  2000      Indonesia      United Kingdom         11758                1028   \n",
       "73  2008      Indonesia      United Kingdom         11758                 924   \n",
       "74  2003      Indonesia      United Kingdom         11758                 899   \n",
       "75  2002      Indonesia      United Kingdom         11758                 891   \n",
       "\n",
       "    dst_average_wage  dst_rate_of_one_usd  dst_cpi  dst_qoe_top20  \\\n",
       "0            44126.0                 0.65   110.96              3   \n",
       "1            44466.0                 0.74   112.08              3   \n",
       "2            43782.0                 0.61   110.55              3   \n",
       "3            44141.0                 0.64   108.97              2   \n",
       "4            44007.0                 0.63   106.53              2   \n",
       "..               ...                  ...      ...            ...   \n",
       "71           45455.0                 0.64    97.57              2   \n",
       "72           38908.0                 0.66    81.47              1   \n",
       "73           44679.0                 0.54    95.69              2   \n",
       "74           42652.0                 0.61    85.13              1   \n",
       "75           41517.0                 0.67    83.97              1   \n",
       "\n",
       "    dst_qoe_top100  dst_qoe_top200  dst_qoe_top500  src_population  \\\n",
       "0                9              21              37      1371220000   \n",
       "1                8              21              37      1378665000   \n",
       "2                8              20              38      1364270000   \n",
       "3                9              19              37      1357380000   \n",
       "4                9              19              38      1350695000   \n",
       "..             ...             ...             ...             ...   \n",
       "71              11              23              40       238620563   \n",
       "72              13              20              43       211513823   \n",
       "73              11              22              42       235469762   \n",
       "74              14              20              42       220309469   \n",
       "75              13              20              42       217357793   \n",
       "\n",
       "    src_qoe_top20  src_qoe_top100  src_qoe_top200  src_qoe_top500  src_gni  \\\n",
       "0               0               0              10              44   7910.0   \n",
       "1               0               2              12              54   8210.0   \n",
       "2               0               0               9              44   7500.0   \n",
       "3               0               0               7              42   6770.0   \n",
       "4               0               0               7              42   5930.0   \n",
       "..            ...             ...             ...             ...      ...   \n",
       "71              0               0               0               0   2150.0   \n",
       "72              0               0               0               0    580.0   \n",
       "73              0               0               0               0   1940.0   \n",
       "74              0               0               0               0    900.0   \n",
       "75              0               0               0               0    790.0   \n",
       "\n",
       "     src_gdp  src_rate_of_one_usd  src_tertiary_enrolment  \n",
       "0   1.10e+13                 6.23                   45.35  \n",
       "1   1.11e+13                 6.64                   48.44  \n",
       "2   1.04e+13                 6.14                   41.28  \n",
       "3   9.57e+12                 6.20                   31.46  \n",
       "4   8.53e+12                 6.31                   28.04  \n",
       "..       ...                  ...                     ...  \n",
       "71  5.40e+11             10389.94                   22.38  \n",
       "72  1.65e+11              8421.77                   14.88  \n",
       "73  5.10e+11              9698.96                   20.43  \n",
       "74  2.35e+11              8577.13                   16.03  \n",
       "75  1.96e+11              9311.19                   14.81  \n",
       "\n",
       "[76 rows x 21 columns]"
      ]
     },
     "execution_count": 6,
     "metadata": {},
     "output_type": "execute_result"
    }
   ],
   "source": [
    "aus_factors_df"
   ]
  },
  {
   "cell_type": "markdown",
   "metadata": {
    "deletable": true,
    "editable": true
   },
   "source": [
    "## Calculate correlation"
   ]
  },
  {
   "cell_type": "markdown",
   "metadata": {
    "deletable": true,
    "editable": true
   },
   "source": [
    "### China"
   ]
  },
  {
   "cell_type": "code",
   "execution_count": 7,
   "metadata": {
    "collapsed": true,
    "deletable": true,
    "editable": true
   },
   "outputs": [],
   "source": [
    "china_aus_factors = aus_factors_df[aus_factors_df['source_country']=='China']\n",
    "cols = china_aus_factors.columns\n",
    "china_aus_factors = china_aus_factors.join(china_aus_factors[cols].shift(1), rsuffix='_1y_shift')\n",
    "china_aus_factors = china_aus_factors.join(china_aus_factors[cols].shift(2), rsuffix='_2y_shift')"
   ]
  },
  {
   "cell_type": "code",
   "execution_count": 8,
   "metadata": {
    "collapsed": false,
    "deletable": true,
    "editable": true
   },
   "outputs": [],
   "source": [
    "china_corr_series = china_aus_factors.corr().loc['dst_students_count'].fillna(0).drop(['dst_students_count'])\n",
    "corr_df = pd.DataFrame(china_corr_series).rename(columns={'dst_students_count': 'china_student_count'}).T"
   ]
  },
  {
   "cell_type": "code",
   "execution_count": 9,
   "metadata": {
    "collapsed": false,
    "deletable": true,
    "editable": true
   },
   "outputs": [
    {
     "data": {
      "text/html": [
       "<div>\n",
       "<style scoped>\n",
       "    .dataframe tbody tr th:only-of-type {\n",
       "        vertical-align: middle;\n",
       "    }\n",
       "\n",
       "    .dataframe tbody tr th {\n",
       "        vertical-align: top;\n",
       "    }\n",
       "\n",
       "    .dataframe thead th {\n",
       "        text-align: right;\n",
       "    }\n",
       "</style>\n",
       "<table border=\"1\" class=\"dataframe\">\n",
       "  <thead>\n",
       "    <tr style=\"text-align: right;\">\n",
       "      <th></th>\n",
       "      <th>year</th>\n",
       "      <th>dst_distance</th>\n",
       "      <th>dst_average_wage</th>\n",
       "      <th>dst_rate_of_one_usd</th>\n",
       "      <th>dst_cpi</th>\n",
       "      <th>dst_qoe_top20</th>\n",
       "      <th>dst_qoe_top100</th>\n",
       "      <th>dst_qoe_top200</th>\n",
       "      <th>dst_qoe_top500</th>\n",
       "      <th>src_population</th>\n",
       "      <th>src_qoe_top20</th>\n",
       "      <th>src_qoe_top100</th>\n",
       "      <th>src_qoe_top200</th>\n",
       "      <th>src_qoe_top500</th>\n",
       "      <th>src_gni</th>\n",
       "      <th>src_gdp</th>\n",
       "      <th>src_rate_of_one_usd</th>\n",
       "      <th>src_tertiary_enrolment</th>\n",
       "      <th>year_1y_shift</th>\n",
       "      <th>dst_distance_1y_shift</th>\n",
       "      <th>dst_students_count_1y_shift</th>\n",
       "      <th>dst_average_wage_1y_shift</th>\n",
       "      <th>dst_rate_of_one_usd_1y_shift</th>\n",
       "      <th>dst_cpi_1y_shift</th>\n",
       "      <th>dst_qoe_top20_1y_shift</th>\n",
       "      <th>...</th>\n",
       "      <th>src_qoe_top200_1y_shift</th>\n",
       "      <th>src_qoe_top500_1y_shift</th>\n",
       "      <th>src_gni_1y_shift</th>\n",
       "      <th>src_gdp_1y_shift</th>\n",
       "      <th>src_rate_of_one_usd_1y_shift</th>\n",
       "      <th>src_tertiary_enrolment_1y_shift</th>\n",
       "      <th>year_2y_shift</th>\n",
       "      <th>dst_distance_2y_shift</th>\n",
       "      <th>dst_students_count_2y_shift</th>\n",
       "      <th>dst_average_wage_2y_shift</th>\n",
       "      <th>dst_rate_of_one_usd_2y_shift</th>\n",
       "      <th>dst_cpi_2y_shift</th>\n",
       "      <th>dst_qoe_top20_2y_shift</th>\n",
       "      <th>dst_qoe_top100_2y_shift</th>\n",
       "      <th>dst_qoe_top200_2y_shift</th>\n",
       "      <th>dst_qoe_top500_2y_shift</th>\n",
       "      <th>src_population_2y_shift</th>\n",
       "      <th>src_qoe_top20_2y_shift</th>\n",
       "      <th>src_qoe_top100_2y_shift</th>\n",
       "      <th>src_qoe_top200_2y_shift</th>\n",
       "      <th>src_qoe_top500_2y_shift</th>\n",
       "      <th>src_gni_2y_shift</th>\n",
       "      <th>src_gdp_2y_shift</th>\n",
       "      <th>src_rate_of_one_usd_2y_shift</th>\n",
       "      <th>src_tertiary_enrolment_2y_shift</th>\n",
       "    </tr>\n",
       "  </thead>\n",
       "  <tbody>\n",
       "    <tr>\n",
       "      <td>china_student_count</td>\n",
       "      <td>0.97</td>\n",
       "      <td>0.0</td>\n",
       "      <td>0.7</td>\n",
       "      <td>0.06</td>\n",
       "      <td>0.95</td>\n",
       "      <td>0.83</td>\n",
       "      <td>-0.92</td>\n",
       "      <td>-7.12e-03</td>\n",
       "      <td>-0.89</td>\n",
       "      <td>0.97</td>\n",
       "      <td>0.0</td>\n",
       "      <td>0.34</td>\n",
       "      <td>0.89</td>\n",
       "      <td>0.96</td>\n",
       "      <td>0.92</td>\n",
       "      <td>0.92</td>\n",
       "      <td>-0.85</td>\n",
       "      <td>0.94</td>\n",
       "      <td>0.94</td>\n",
       "      <td>0.0</td>\n",
       "      <td>0.99</td>\n",
       "      <td>0.67</td>\n",
       "      <td>0.04</td>\n",
       "      <td>0.92</td>\n",
       "      <td>0.9</td>\n",
       "      <td>...</td>\n",
       "      <td>0.9</td>\n",
       "      <td>0.93</td>\n",
       "      <td>0.9</td>\n",
       "      <td>0.9</td>\n",
       "      <td>-0.81</td>\n",
       "      <td>0.94</td>\n",
       "      <td>0.89</td>\n",
       "      <td>0.0</td>\n",
       "      <td>0.96</td>\n",
       "      <td>0.6</td>\n",
       "      <td>0.03</td>\n",
       "      <td>0.86</td>\n",
       "      <td>0.89</td>\n",
       "      <td>-0.92</td>\n",
       "      <td>-0.08</td>\n",
       "      <td>-0.81</td>\n",
       "      <td>0.89</td>\n",
       "      <td>0.0</td>\n",
       "      <td>0.37</td>\n",
       "      <td>0.89</td>\n",
       "      <td>0.86</td>\n",
       "      <td>0.86</td>\n",
       "      <td>0.85</td>\n",
       "      <td>-0.72</td>\n",
       "      <td>0.91</td>\n",
       "    </tr>\n",
       "  </tbody>\n",
       "</table>\n",
       "<p>1 rows × 56 columns</p>\n",
       "</div>"
      ],
      "text/plain": [
       "                     year  dst_distance  dst_average_wage  \\\n",
       "china_student_count  0.97           0.0               0.7   \n",
       "\n",
       "                     dst_rate_of_one_usd  dst_cpi  dst_qoe_top20  \\\n",
       "china_student_count                 0.06     0.95           0.83   \n",
       "\n",
       "                     dst_qoe_top100  dst_qoe_top200  dst_qoe_top500  \\\n",
       "china_student_count           -0.92       -7.12e-03           -0.89   \n",
       "\n",
       "                     src_population  src_qoe_top20  src_qoe_top100  \\\n",
       "china_student_count            0.97            0.0            0.34   \n",
       "\n",
       "                     src_qoe_top200  src_qoe_top500  src_gni  src_gdp  \\\n",
       "china_student_count            0.89            0.96     0.92     0.92   \n",
       "\n",
       "                     src_rate_of_one_usd  src_tertiary_enrolment  \\\n",
       "china_student_count                -0.85                    0.94   \n",
       "\n",
       "                     year_1y_shift  dst_distance_1y_shift  \\\n",
       "china_student_count           0.94                    0.0   \n",
       "\n",
       "                     dst_students_count_1y_shift  dst_average_wage_1y_shift  \\\n",
       "china_student_count                         0.99                       0.67   \n",
       "\n",
       "                     dst_rate_of_one_usd_1y_shift  dst_cpi_1y_shift  \\\n",
       "china_student_count                          0.04              0.92   \n",
       "\n",
       "                     dst_qoe_top20_1y_shift  ...  src_qoe_top200_1y_shift  \\\n",
       "china_student_count                     0.9  ...                      0.9   \n",
       "\n",
       "                     src_qoe_top500_1y_shift  src_gni_1y_shift  \\\n",
       "china_student_count                     0.93               0.9   \n",
       "\n",
       "                     src_gdp_1y_shift  src_rate_of_one_usd_1y_shift  \\\n",
       "china_student_count               0.9                         -0.81   \n",
       "\n",
       "                     src_tertiary_enrolment_1y_shift  year_2y_shift  \\\n",
       "china_student_count                             0.94           0.89   \n",
       "\n",
       "                     dst_distance_2y_shift  dst_students_count_2y_shift  \\\n",
       "china_student_count                    0.0                         0.96   \n",
       "\n",
       "                     dst_average_wage_2y_shift  dst_rate_of_one_usd_2y_shift  \\\n",
       "china_student_count                        0.6                          0.03   \n",
       "\n",
       "                     dst_cpi_2y_shift  dst_qoe_top20_2y_shift  \\\n",
       "china_student_count              0.86                    0.89   \n",
       "\n",
       "                     dst_qoe_top100_2y_shift  dst_qoe_top200_2y_shift  \\\n",
       "china_student_count                    -0.92                    -0.08   \n",
       "\n",
       "                     dst_qoe_top500_2y_shift  src_population_2y_shift  \\\n",
       "china_student_count                    -0.81                     0.89   \n",
       "\n",
       "                     src_qoe_top20_2y_shift  src_qoe_top100_2y_shift  \\\n",
       "china_student_count                     0.0                     0.37   \n",
       "\n",
       "                     src_qoe_top200_2y_shift  src_qoe_top500_2y_shift  \\\n",
       "china_student_count                     0.89                     0.86   \n",
       "\n",
       "                     src_gni_2y_shift  src_gdp_2y_shift  \\\n",
       "china_student_count              0.86              0.85   \n",
       "\n",
       "                     src_rate_of_one_usd_2y_shift  \\\n",
       "china_student_count                         -0.72   \n",
       "\n",
       "                     src_tertiary_enrolment_2y_shift  \n",
       "china_student_count                             0.91  \n",
       "\n",
       "[1 rows x 56 columns]"
      ]
     },
     "execution_count": 9,
     "metadata": {},
     "output_type": "execute_result"
    }
   ],
   "source": [
    "corr_df"
   ]
  },
  {
   "cell_type": "markdown",
   "metadata": {
    "deletable": true,
    "editable": true
   },
   "source": [
    "### India"
   ]
  },
  {
   "cell_type": "code",
   "execution_count": 10,
   "metadata": {
    "collapsed": true,
    "deletable": true,
    "editable": true
   },
   "outputs": [],
   "source": [
    "india_aus_factors = aus_factors_df[aus_factors_df['source_country']=='India']\n",
    "cols = india_aus_factors.columns\n",
    "india_aus_factors = india_aus_factors.join(india_aus_factors[cols].shift(1), rsuffix='_1y_shift')\n",
    "india_aus_factors = india_aus_factors.join(india_aus_factors[cols].shift(2), rsuffix='_2y_shift')"
   ]
  },
  {
   "cell_type": "code",
   "execution_count": 11,
   "metadata": {
    "collapsed": false,
    "deletable": true,
    "editable": true
   },
   "outputs": [],
   "source": [
    "india_corr_series = india_aus_factors.corr().loc['dst_students_count'].fillna(0).drop(['dst_students_count'])\n",
    "corr_df = corr_df.append(pd.DataFrame(india_corr_series).rename(columns={'dst_students_count': 'India_student_count'}).T)\n"
   ]
  },
  {
   "cell_type": "code",
   "execution_count": 12,
   "metadata": {
    "collapsed": false,
    "deletable": true,
    "editable": true
   },
   "outputs": [
    {
     "data": {
      "text/html": [
       "<div>\n",
       "<style scoped>\n",
       "    .dataframe tbody tr th:only-of-type {\n",
       "        vertical-align: middle;\n",
       "    }\n",
       "\n",
       "    .dataframe tbody tr th {\n",
       "        vertical-align: top;\n",
       "    }\n",
       "\n",
       "    .dataframe thead th {\n",
       "        text-align: right;\n",
       "    }\n",
       "</style>\n",
       "<table border=\"1\" class=\"dataframe\">\n",
       "  <thead>\n",
       "    <tr style=\"text-align: right;\">\n",
       "      <th></th>\n",
       "      <th>year</th>\n",
       "      <th>dst_distance</th>\n",
       "      <th>dst_average_wage</th>\n",
       "      <th>dst_rate_of_one_usd</th>\n",
       "      <th>dst_cpi</th>\n",
       "      <th>dst_qoe_top20</th>\n",
       "      <th>dst_qoe_top100</th>\n",
       "      <th>dst_qoe_top200</th>\n",
       "      <th>dst_qoe_top500</th>\n",
       "      <th>src_population</th>\n",
       "      <th>src_qoe_top20</th>\n",
       "      <th>src_qoe_top100</th>\n",
       "      <th>src_qoe_top200</th>\n",
       "      <th>src_qoe_top500</th>\n",
       "      <th>src_gni</th>\n",
       "      <th>src_gdp</th>\n",
       "      <th>src_rate_of_one_usd</th>\n",
       "      <th>src_tertiary_enrolment</th>\n",
       "      <th>year_1y_shift</th>\n",
       "      <th>dst_distance_1y_shift</th>\n",
       "      <th>dst_students_count_1y_shift</th>\n",
       "      <th>dst_average_wage_1y_shift</th>\n",
       "      <th>dst_rate_of_one_usd_1y_shift</th>\n",
       "      <th>dst_cpi_1y_shift</th>\n",
       "      <th>dst_qoe_top20_1y_shift</th>\n",
       "      <th>...</th>\n",
       "      <th>src_qoe_top200_1y_shift</th>\n",
       "      <th>src_qoe_top500_1y_shift</th>\n",
       "      <th>src_gni_1y_shift</th>\n",
       "      <th>src_gdp_1y_shift</th>\n",
       "      <th>src_rate_of_one_usd_1y_shift</th>\n",
       "      <th>src_tertiary_enrolment_1y_shift</th>\n",
       "      <th>year_2y_shift</th>\n",
       "      <th>dst_distance_2y_shift</th>\n",
       "      <th>dst_students_count_2y_shift</th>\n",
       "      <th>dst_average_wage_2y_shift</th>\n",
       "      <th>dst_rate_of_one_usd_2y_shift</th>\n",
       "      <th>dst_cpi_2y_shift</th>\n",
       "      <th>dst_qoe_top20_2y_shift</th>\n",
       "      <th>dst_qoe_top100_2y_shift</th>\n",
       "      <th>dst_qoe_top200_2y_shift</th>\n",
       "      <th>dst_qoe_top500_2y_shift</th>\n",
       "      <th>src_population_2y_shift</th>\n",
       "      <th>src_qoe_top20_2y_shift</th>\n",
       "      <th>src_qoe_top100_2y_shift</th>\n",
       "      <th>src_qoe_top200_2y_shift</th>\n",
       "      <th>src_qoe_top500_2y_shift</th>\n",
       "      <th>src_gni_2y_shift</th>\n",
       "      <th>src_gdp_2y_shift</th>\n",
       "      <th>src_rate_of_one_usd_2y_shift</th>\n",
       "      <th>src_tertiary_enrolment_2y_shift</th>\n",
       "    </tr>\n",
       "  </thead>\n",
       "  <tbody>\n",
       "    <tr>\n",
       "      <td>china_student_count</td>\n",
       "      <td>0.97</td>\n",
       "      <td>0.0</td>\n",
       "      <td>0.70</td>\n",
       "      <td>0.06</td>\n",
       "      <td>0.95</td>\n",
       "      <td>0.83</td>\n",
       "      <td>-0.92</td>\n",
       "      <td>-7.12e-03</td>\n",
       "      <td>-0.89</td>\n",
       "      <td>0.97</td>\n",
       "      <td>0.0</td>\n",
       "      <td>0.34</td>\n",
       "      <td>0.89</td>\n",
       "      <td>0.96</td>\n",
       "      <td>0.92</td>\n",
       "      <td>0.92</td>\n",
       "      <td>-0.85</td>\n",
       "      <td>0.94</td>\n",
       "      <td>0.94</td>\n",
       "      <td>0.0</td>\n",
       "      <td>0.99</td>\n",
       "      <td>0.67</td>\n",
       "      <td>0.04</td>\n",
       "      <td>0.92</td>\n",
       "      <td>0.90</td>\n",
       "      <td>...</td>\n",
       "      <td>0.9</td>\n",
       "      <td>0.93</td>\n",
       "      <td>0.90</td>\n",
       "      <td>0.90</td>\n",
       "      <td>-0.81</td>\n",
       "      <td>0.94</td>\n",
       "      <td>0.89</td>\n",
       "      <td>0.0</td>\n",
       "      <td>0.96</td>\n",
       "      <td>0.60</td>\n",
       "      <td>0.03</td>\n",
       "      <td>0.86</td>\n",
       "      <td>0.89</td>\n",
       "      <td>-0.92</td>\n",
       "      <td>-0.08</td>\n",
       "      <td>-0.81</td>\n",
       "      <td>0.89</td>\n",
       "      <td>0.0</td>\n",
       "      <td>0.37</td>\n",
       "      <td>0.89</td>\n",
       "      <td>0.86</td>\n",
       "      <td>0.86</td>\n",
       "      <td>0.85</td>\n",
       "      <td>-7.24e-01</td>\n",
       "      <td>0.91</td>\n",
       "    </tr>\n",
       "    <tr>\n",
       "      <td>India_student_count</td>\n",
       "      <td>0.69</td>\n",
       "      <td>0.0</td>\n",
       "      <td>0.82</td>\n",
       "      <td>-0.15</td>\n",
       "      <td>0.65</td>\n",
       "      <td>0.57</td>\n",
       "      <td>-0.54</td>\n",
       "      <td>1.11e-01</td>\n",
       "      <td>-0.66</td>\n",
       "      <td>0.71</td>\n",
       "      <td>0.0</td>\n",
       "      <td>0.00</td>\n",
       "      <td>0.00</td>\n",
       "      <td>-0.68</td>\n",
       "      <td>0.68</td>\n",
       "      <td>0.68</td>\n",
       "      <td>0.12</td>\n",
       "      <td>0.59</td>\n",
       "      <td>0.65</td>\n",
       "      <td>0.0</td>\n",
       "      <td>0.99</td>\n",
       "      <td>0.79</td>\n",
       "      <td>-0.18</td>\n",
       "      <td>0.62</td>\n",
       "      <td>0.64</td>\n",
       "      <td>...</td>\n",
       "      <td>0.0</td>\n",
       "      <td>-0.70</td>\n",
       "      <td>0.65</td>\n",
       "      <td>0.66</td>\n",
       "      <td>0.04</td>\n",
       "      <td>0.55</td>\n",
       "      <td>0.61</td>\n",
       "      <td>0.0</td>\n",
       "      <td>0.97</td>\n",
       "      <td>0.74</td>\n",
       "      <td>-0.19</td>\n",
       "      <td>0.60</td>\n",
       "      <td>0.59</td>\n",
       "      <td>-0.51</td>\n",
       "      <td>0.12</td>\n",
       "      <td>-0.58</td>\n",
       "      <td>0.64</td>\n",
       "      <td>0.0</td>\n",
       "      <td>0.00</td>\n",
       "      <td>0.00</td>\n",
       "      <td>-0.71</td>\n",
       "      <td>0.63</td>\n",
       "      <td>0.63</td>\n",
       "      <td>-5.33e-03</td>\n",
       "      <td>0.52</td>\n",
       "    </tr>\n",
       "  </tbody>\n",
       "</table>\n",
       "<p>2 rows × 56 columns</p>\n",
       "</div>"
      ],
      "text/plain": [
       "                     year  dst_distance  dst_average_wage  \\\n",
       "china_student_count  0.97           0.0              0.70   \n",
       "India_student_count  0.69           0.0              0.82   \n",
       "\n",
       "                     dst_rate_of_one_usd  dst_cpi  dst_qoe_top20  \\\n",
       "china_student_count                 0.06     0.95           0.83   \n",
       "India_student_count                -0.15     0.65           0.57   \n",
       "\n",
       "                     dst_qoe_top100  dst_qoe_top200  dst_qoe_top500  \\\n",
       "china_student_count           -0.92       -7.12e-03           -0.89   \n",
       "India_student_count           -0.54        1.11e-01           -0.66   \n",
       "\n",
       "                     src_population  src_qoe_top20  src_qoe_top100  \\\n",
       "china_student_count            0.97            0.0            0.34   \n",
       "India_student_count            0.71            0.0            0.00   \n",
       "\n",
       "                     src_qoe_top200  src_qoe_top500  src_gni  src_gdp  \\\n",
       "china_student_count            0.89            0.96     0.92     0.92   \n",
       "India_student_count            0.00           -0.68     0.68     0.68   \n",
       "\n",
       "                     src_rate_of_one_usd  src_tertiary_enrolment  \\\n",
       "china_student_count                -0.85                    0.94   \n",
       "India_student_count                 0.12                    0.59   \n",
       "\n",
       "                     year_1y_shift  dst_distance_1y_shift  \\\n",
       "china_student_count           0.94                    0.0   \n",
       "India_student_count           0.65                    0.0   \n",
       "\n",
       "                     dst_students_count_1y_shift  dst_average_wage_1y_shift  \\\n",
       "china_student_count                         0.99                       0.67   \n",
       "India_student_count                         0.99                       0.79   \n",
       "\n",
       "                     dst_rate_of_one_usd_1y_shift  dst_cpi_1y_shift  \\\n",
       "china_student_count                          0.04              0.92   \n",
       "India_student_count                         -0.18              0.62   \n",
       "\n",
       "                     dst_qoe_top20_1y_shift  ...  src_qoe_top200_1y_shift  \\\n",
       "china_student_count                    0.90  ...                      0.9   \n",
       "India_student_count                    0.64  ...                      0.0   \n",
       "\n",
       "                     src_qoe_top500_1y_shift  src_gni_1y_shift  \\\n",
       "china_student_count                     0.93              0.90   \n",
       "India_student_count                    -0.70              0.65   \n",
       "\n",
       "                     src_gdp_1y_shift  src_rate_of_one_usd_1y_shift  \\\n",
       "china_student_count              0.90                         -0.81   \n",
       "India_student_count              0.66                          0.04   \n",
       "\n",
       "                     src_tertiary_enrolment_1y_shift  year_2y_shift  \\\n",
       "china_student_count                             0.94           0.89   \n",
       "India_student_count                             0.55           0.61   \n",
       "\n",
       "                     dst_distance_2y_shift  dst_students_count_2y_shift  \\\n",
       "china_student_count                    0.0                         0.96   \n",
       "India_student_count                    0.0                         0.97   \n",
       "\n",
       "                     dst_average_wage_2y_shift  dst_rate_of_one_usd_2y_shift  \\\n",
       "china_student_count                       0.60                          0.03   \n",
       "India_student_count                       0.74                         -0.19   \n",
       "\n",
       "                     dst_cpi_2y_shift  dst_qoe_top20_2y_shift  \\\n",
       "china_student_count              0.86                    0.89   \n",
       "India_student_count              0.60                    0.59   \n",
       "\n",
       "                     dst_qoe_top100_2y_shift  dst_qoe_top200_2y_shift  \\\n",
       "china_student_count                    -0.92                    -0.08   \n",
       "India_student_count                    -0.51                     0.12   \n",
       "\n",
       "                     dst_qoe_top500_2y_shift  src_population_2y_shift  \\\n",
       "china_student_count                    -0.81                     0.89   \n",
       "India_student_count                    -0.58                     0.64   \n",
       "\n",
       "                     src_qoe_top20_2y_shift  src_qoe_top100_2y_shift  \\\n",
       "china_student_count                     0.0                     0.37   \n",
       "India_student_count                     0.0                     0.00   \n",
       "\n",
       "                     src_qoe_top200_2y_shift  src_qoe_top500_2y_shift  \\\n",
       "china_student_count                     0.89                     0.86   \n",
       "India_student_count                     0.00                    -0.71   \n",
       "\n",
       "                     src_gni_2y_shift  src_gdp_2y_shift  \\\n",
       "china_student_count              0.86              0.85   \n",
       "India_student_count              0.63              0.63   \n",
       "\n",
       "                     src_rate_of_one_usd_2y_shift  \\\n",
       "china_student_count                     -7.24e-01   \n",
       "India_student_count                     -5.33e-03   \n",
       "\n",
       "                     src_tertiary_enrolment_2y_shift  \n",
       "china_student_count                             0.91  \n",
       "India_student_count                             0.52  \n",
       "\n",
       "[2 rows x 56 columns]"
      ]
     },
     "execution_count": 12,
     "metadata": {},
     "output_type": "execute_result"
    }
   ],
   "source": [
    "corr_df"
   ]
  },
  {
   "cell_type": "markdown",
   "metadata": {
    "deletable": true,
    "editable": true
   },
   "source": [
    "### Malaysia"
   ]
  },
  {
   "cell_type": "code",
   "execution_count": 13,
   "metadata": {
    "collapsed": true,
    "deletable": true,
    "editable": true
   },
   "outputs": [],
   "source": [
    "malay_aus_factors = aus_factors_df[aus_factors_df['source_country']=='Malaysia']\n",
    "cols = malay_aus_factors.columns\n",
    "malay_aus_factors = malay_aus_factors.join(malay_aus_factors[cols].shift(1), rsuffix='_1y_shift')\n",
    "malay_aus_factors = malay_aus_factors.join(malay_aus_factors[cols].shift(2), rsuffix='_2y_shift')"
   ]
  },
  {
   "cell_type": "code",
   "execution_count": 14,
   "metadata": {
    "collapsed": true,
    "deletable": true,
    "editable": true
   },
   "outputs": [],
   "source": [
    "malay_corr_series = malay_aus_factors.corr().loc['dst_students_count'].fillna(0).drop(['dst_students_count'])\n",
    "corr_df = corr_df.append(pd.DataFrame(malay_corr_series).rename(columns={'dst_students_count': 'malaysia_student_count'}).T)"
   ]
  },
  {
   "cell_type": "code",
   "execution_count": 15,
   "metadata": {
    "collapsed": false,
    "deletable": true,
    "editable": true
   },
   "outputs": [
    {
     "data": {
      "text/html": [
       "<div>\n",
       "<style scoped>\n",
       "    .dataframe tbody tr th:only-of-type {\n",
       "        vertical-align: middle;\n",
       "    }\n",
       "\n",
       "    .dataframe tbody tr th {\n",
       "        vertical-align: top;\n",
       "    }\n",
       "\n",
       "    .dataframe thead th {\n",
       "        text-align: right;\n",
       "    }\n",
       "</style>\n",
       "<table border=\"1\" class=\"dataframe\">\n",
       "  <thead>\n",
       "    <tr style=\"text-align: right;\">\n",
       "      <th></th>\n",
       "      <th>year</th>\n",
       "      <th>dst_distance</th>\n",
       "      <th>dst_average_wage</th>\n",
       "      <th>dst_rate_of_one_usd</th>\n",
       "      <th>dst_cpi</th>\n",
       "      <th>dst_qoe_top20</th>\n",
       "      <th>dst_qoe_top100</th>\n",
       "      <th>dst_qoe_top200</th>\n",
       "      <th>dst_qoe_top500</th>\n",
       "      <th>src_population</th>\n",
       "      <th>src_qoe_top20</th>\n",
       "      <th>src_qoe_top100</th>\n",
       "      <th>src_qoe_top200</th>\n",
       "      <th>src_qoe_top500</th>\n",
       "      <th>src_gni</th>\n",
       "      <th>src_gdp</th>\n",
       "      <th>src_rate_of_one_usd</th>\n",
       "      <th>src_tertiary_enrolment</th>\n",
       "      <th>year_1y_shift</th>\n",
       "      <th>dst_distance_1y_shift</th>\n",
       "      <th>dst_students_count_1y_shift</th>\n",
       "      <th>dst_average_wage_1y_shift</th>\n",
       "      <th>dst_rate_of_one_usd_1y_shift</th>\n",
       "      <th>dst_cpi_1y_shift</th>\n",
       "      <th>dst_qoe_top20_1y_shift</th>\n",
       "      <th>...</th>\n",
       "      <th>src_qoe_top200_1y_shift</th>\n",
       "      <th>src_qoe_top500_1y_shift</th>\n",
       "      <th>src_gni_1y_shift</th>\n",
       "      <th>src_gdp_1y_shift</th>\n",
       "      <th>src_rate_of_one_usd_1y_shift</th>\n",
       "      <th>src_tertiary_enrolment_1y_shift</th>\n",
       "      <th>year_2y_shift</th>\n",
       "      <th>dst_distance_2y_shift</th>\n",
       "      <th>dst_students_count_2y_shift</th>\n",
       "      <th>dst_average_wage_2y_shift</th>\n",
       "      <th>dst_rate_of_one_usd_2y_shift</th>\n",
       "      <th>dst_cpi_2y_shift</th>\n",
       "      <th>dst_qoe_top20_2y_shift</th>\n",
       "      <th>dst_qoe_top100_2y_shift</th>\n",
       "      <th>dst_qoe_top200_2y_shift</th>\n",
       "      <th>dst_qoe_top500_2y_shift</th>\n",
       "      <th>src_population_2y_shift</th>\n",
       "      <th>src_qoe_top20_2y_shift</th>\n",
       "      <th>src_qoe_top100_2y_shift</th>\n",
       "      <th>src_qoe_top200_2y_shift</th>\n",
       "      <th>src_qoe_top500_2y_shift</th>\n",
       "      <th>src_gni_2y_shift</th>\n",
       "      <th>src_gdp_2y_shift</th>\n",
       "      <th>src_rate_of_one_usd_2y_shift</th>\n",
       "      <th>src_tertiary_enrolment_2y_shift</th>\n",
       "    </tr>\n",
       "  </thead>\n",
       "  <tbody>\n",
       "    <tr>\n",
       "      <td>china_student_count</td>\n",
       "      <td>0.97</td>\n",
       "      <td>0.0</td>\n",
       "      <td>0.70</td>\n",
       "      <td>0.06</td>\n",
       "      <td>0.95</td>\n",
       "      <td>0.83</td>\n",
       "      <td>-0.92</td>\n",
       "      <td>-7.12e-03</td>\n",
       "      <td>-0.89</td>\n",
       "      <td>0.97</td>\n",
       "      <td>0.0</td>\n",
       "      <td>0.34</td>\n",
       "      <td>0.89</td>\n",
       "      <td>0.96</td>\n",
       "      <td>0.92</td>\n",
       "      <td>0.92</td>\n",
       "      <td>-0.85</td>\n",
       "      <td>0.94</td>\n",
       "      <td>0.94</td>\n",
       "      <td>0.0</td>\n",
       "      <td>0.99</td>\n",
       "      <td>0.67</td>\n",
       "      <td>0.04</td>\n",
       "      <td>0.92</td>\n",
       "      <td>0.90</td>\n",
       "      <td>...</td>\n",
       "      <td>0.9</td>\n",
       "      <td>0.93</td>\n",
       "      <td>0.90</td>\n",
       "      <td>0.90</td>\n",
       "      <td>-0.81</td>\n",
       "      <td>0.94</td>\n",
       "      <td>0.89</td>\n",
       "      <td>0.0</td>\n",
       "      <td>0.96</td>\n",
       "      <td>0.60</td>\n",
       "      <td>0.03</td>\n",
       "      <td>0.86</td>\n",
       "      <td>0.89</td>\n",
       "      <td>-0.92</td>\n",
       "      <td>-0.08</td>\n",
       "      <td>-0.81</td>\n",
       "      <td>0.89</td>\n",
       "      <td>0.0</td>\n",
       "      <td>0.37</td>\n",
       "      <td>0.89</td>\n",
       "      <td>0.86</td>\n",
       "      <td>0.86</td>\n",
       "      <td>0.85</td>\n",
       "      <td>-7.24e-01</td>\n",
       "      <td>0.91</td>\n",
       "    </tr>\n",
       "    <tr>\n",
       "      <td>India_student_count</td>\n",
       "      <td>0.69</td>\n",
       "      <td>0.0</td>\n",
       "      <td>0.82</td>\n",
       "      <td>-0.15</td>\n",
       "      <td>0.65</td>\n",
       "      <td>0.57</td>\n",
       "      <td>-0.54</td>\n",
       "      <td>1.11e-01</td>\n",
       "      <td>-0.66</td>\n",
       "      <td>0.71</td>\n",
       "      <td>0.0</td>\n",
       "      <td>0.00</td>\n",
       "      <td>0.00</td>\n",
       "      <td>-0.68</td>\n",
       "      <td>0.68</td>\n",
       "      <td>0.68</td>\n",
       "      <td>0.12</td>\n",
       "      <td>0.59</td>\n",
       "      <td>0.65</td>\n",
       "      <td>0.0</td>\n",
       "      <td>0.99</td>\n",
       "      <td>0.79</td>\n",
       "      <td>-0.18</td>\n",
       "      <td>0.62</td>\n",
       "      <td>0.64</td>\n",
       "      <td>...</td>\n",
       "      <td>0.0</td>\n",
       "      <td>-0.70</td>\n",
       "      <td>0.65</td>\n",
       "      <td>0.66</td>\n",
       "      <td>0.04</td>\n",
       "      <td>0.55</td>\n",
       "      <td>0.61</td>\n",
       "      <td>0.0</td>\n",
       "      <td>0.97</td>\n",
       "      <td>0.74</td>\n",
       "      <td>-0.19</td>\n",
       "      <td>0.60</td>\n",
       "      <td>0.59</td>\n",
       "      <td>-0.51</td>\n",
       "      <td>0.12</td>\n",
       "      <td>-0.58</td>\n",
       "      <td>0.64</td>\n",
       "      <td>0.0</td>\n",
       "      <td>0.00</td>\n",
       "      <td>0.00</td>\n",
       "      <td>-0.71</td>\n",
       "      <td>0.63</td>\n",
       "      <td>0.63</td>\n",
       "      <td>-5.33e-03</td>\n",
       "      <td>0.52</td>\n",
       "    </tr>\n",
       "    <tr>\n",
       "      <td>malaysia_student_count</td>\n",
       "      <td>0.50</td>\n",
       "      <td>0.0</td>\n",
       "      <td>0.29</td>\n",
       "      <td>0.19</td>\n",
       "      <td>0.55</td>\n",
       "      <td>0.73</td>\n",
       "      <td>-0.68</td>\n",
       "      <td>8.11e-02</td>\n",
       "      <td>-0.45</td>\n",
       "      <td>0.48</td>\n",
       "      <td>0.0</td>\n",
       "      <td>0.00</td>\n",
       "      <td>0.00</td>\n",
       "      <td>0.71</td>\n",
       "      <td>0.56</td>\n",
       "      <td>0.49</td>\n",
       "      <td>0.13</td>\n",
       "      <td>0.48</td>\n",
       "      <td>0.40</td>\n",
       "      <td>0.0</td>\n",
       "      <td>0.97</td>\n",
       "      <td>0.23</td>\n",
       "      <td>0.29</td>\n",
       "      <td>0.45</td>\n",
       "      <td>0.63</td>\n",
       "      <td>...</td>\n",
       "      <td>0.0</td>\n",
       "      <td>0.64</td>\n",
       "      <td>0.44</td>\n",
       "      <td>0.37</td>\n",
       "      <td>0.22</td>\n",
       "      <td>0.40</td>\n",
       "      <td>0.37</td>\n",
       "      <td>0.0</td>\n",
       "      <td>0.91</td>\n",
       "      <td>0.17</td>\n",
       "      <td>0.48</td>\n",
       "      <td>0.43</td>\n",
       "      <td>0.56</td>\n",
       "      <td>-0.57</td>\n",
       "      <td>0.04</td>\n",
       "      <td>-0.35</td>\n",
       "      <td>0.34</td>\n",
       "      <td>0.0</td>\n",
       "      <td>0.00</td>\n",
       "      <td>0.00</td>\n",
       "      <td>0.65</td>\n",
       "      <td>0.41</td>\n",
       "      <td>0.35</td>\n",
       "      <td>2.02e-01</td>\n",
       "      <td>0.37</td>\n",
       "    </tr>\n",
       "  </tbody>\n",
       "</table>\n",
       "<p>3 rows × 56 columns</p>\n",
       "</div>"
      ],
      "text/plain": [
       "                        year  dst_distance  dst_average_wage  \\\n",
       "china_student_count     0.97           0.0              0.70   \n",
       "India_student_count     0.69           0.0              0.82   \n",
       "malaysia_student_count  0.50           0.0              0.29   \n",
       "\n",
       "                        dst_rate_of_one_usd  dst_cpi  dst_qoe_top20  \\\n",
       "china_student_count                    0.06     0.95           0.83   \n",
       "India_student_count                   -0.15     0.65           0.57   \n",
       "malaysia_student_count                 0.19     0.55           0.73   \n",
       "\n",
       "                        dst_qoe_top100  dst_qoe_top200  dst_qoe_top500  \\\n",
       "china_student_count              -0.92       -7.12e-03           -0.89   \n",
       "India_student_count              -0.54        1.11e-01           -0.66   \n",
       "malaysia_student_count           -0.68        8.11e-02           -0.45   \n",
       "\n",
       "                        src_population  src_qoe_top20  src_qoe_top100  \\\n",
       "china_student_count               0.97            0.0            0.34   \n",
       "India_student_count               0.71            0.0            0.00   \n",
       "malaysia_student_count            0.48            0.0            0.00   \n",
       "\n",
       "                        src_qoe_top200  src_qoe_top500  src_gni  src_gdp  \\\n",
       "china_student_count               0.89            0.96     0.92     0.92   \n",
       "India_student_count               0.00           -0.68     0.68     0.68   \n",
       "malaysia_student_count            0.00            0.71     0.56     0.49   \n",
       "\n",
       "                        src_rate_of_one_usd  src_tertiary_enrolment  \\\n",
       "china_student_count                   -0.85                    0.94   \n",
       "India_student_count                    0.12                    0.59   \n",
       "malaysia_student_count                 0.13                    0.48   \n",
       "\n",
       "                        year_1y_shift  dst_distance_1y_shift  \\\n",
       "china_student_count              0.94                    0.0   \n",
       "India_student_count              0.65                    0.0   \n",
       "malaysia_student_count           0.40                    0.0   \n",
       "\n",
       "                        dst_students_count_1y_shift  \\\n",
       "china_student_count                            0.99   \n",
       "India_student_count                            0.99   \n",
       "malaysia_student_count                         0.97   \n",
       "\n",
       "                        dst_average_wage_1y_shift  \\\n",
       "china_student_count                          0.67   \n",
       "India_student_count                          0.79   \n",
       "malaysia_student_count                       0.23   \n",
       "\n",
       "                        dst_rate_of_one_usd_1y_shift  dst_cpi_1y_shift  \\\n",
       "china_student_count                             0.04              0.92   \n",
       "India_student_count                            -0.18              0.62   \n",
       "malaysia_student_count                          0.29              0.45   \n",
       "\n",
       "                        dst_qoe_top20_1y_shift  ...  src_qoe_top200_1y_shift  \\\n",
       "china_student_count                       0.90  ...                      0.9   \n",
       "India_student_count                       0.64  ...                      0.0   \n",
       "malaysia_student_count                    0.63  ...                      0.0   \n",
       "\n",
       "                        src_qoe_top500_1y_shift  src_gni_1y_shift  \\\n",
       "china_student_count                        0.93              0.90   \n",
       "India_student_count                       -0.70              0.65   \n",
       "malaysia_student_count                     0.64              0.44   \n",
       "\n",
       "                        src_gdp_1y_shift  src_rate_of_one_usd_1y_shift  \\\n",
       "china_student_count                 0.90                         -0.81   \n",
       "India_student_count                 0.66                          0.04   \n",
       "malaysia_student_count              0.37                          0.22   \n",
       "\n",
       "                        src_tertiary_enrolment_1y_shift  year_2y_shift  \\\n",
       "china_student_count                                0.94           0.89   \n",
       "India_student_count                                0.55           0.61   \n",
       "malaysia_student_count                             0.40           0.37   \n",
       "\n",
       "                        dst_distance_2y_shift  dst_students_count_2y_shift  \\\n",
       "china_student_count                       0.0                         0.96   \n",
       "India_student_count                       0.0                         0.97   \n",
       "malaysia_student_count                    0.0                         0.91   \n",
       "\n",
       "                        dst_average_wage_2y_shift  \\\n",
       "china_student_count                          0.60   \n",
       "India_student_count                          0.74   \n",
       "malaysia_student_count                       0.17   \n",
       "\n",
       "                        dst_rate_of_one_usd_2y_shift  dst_cpi_2y_shift  \\\n",
       "china_student_count                             0.03              0.86   \n",
       "India_student_count                            -0.19              0.60   \n",
       "malaysia_student_count                          0.48              0.43   \n",
       "\n",
       "                        dst_qoe_top20_2y_shift  dst_qoe_top100_2y_shift  \\\n",
       "china_student_count                       0.89                    -0.92   \n",
       "India_student_count                       0.59                    -0.51   \n",
       "malaysia_student_count                    0.56                    -0.57   \n",
       "\n",
       "                        dst_qoe_top200_2y_shift  dst_qoe_top500_2y_shift  \\\n",
       "china_student_count                       -0.08                    -0.81   \n",
       "India_student_count                        0.12                    -0.58   \n",
       "malaysia_student_count                     0.04                    -0.35   \n",
       "\n",
       "                        src_population_2y_shift  src_qoe_top20_2y_shift  \\\n",
       "china_student_count                        0.89                     0.0   \n",
       "India_student_count                        0.64                     0.0   \n",
       "malaysia_student_count                     0.34                     0.0   \n",
       "\n",
       "                        src_qoe_top100_2y_shift  src_qoe_top200_2y_shift  \\\n",
       "china_student_count                        0.37                     0.89   \n",
       "India_student_count                        0.00                     0.00   \n",
       "malaysia_student_count                     0.00                     0.00   \n",
       "\n",
       "                        src_qoe_top500_2y_shift  src_gni_2y_shift  \\\n",
       "china_student_count                        0.86              0.86   \n",
       "India_student_count                       -0.71              0.63   \n",
       "malaysia_student_count                     0.65              0.41   \n",
       "\n",
       "                        src_gdp_2y_shift  src_rate_of_one_usd_2y_shift  \\\n",
       "china_student_count                 0.85                     -7.24e-01   \n",
       "India_student_count                 0.63                     -5.33e-03   \n",
       "malaysia_student_count              0.35                      2.02e-01   \n",
       "\n",
       "                        src_tertiary_enrolment_2y_shift  \n",
       "china_student_count                                0.91  \n",
       "India_student_count                                0.52  \n",
       "malaysia_student_count                             0.37  \n",
       "\n",
       "[3 rows x 56 columns]"
      ]
     },
     "execution_count": 15,
     "metadata": {},
     "output_type": "execute_result"
    }
   ],
   "source": [
    "corr_df"
   ]
  },
  {
   "cell_type": "markdown",
   "metadata": {
    "deletable": true,
    "editable": true
   },
   "source": [
    "### Indonesia"
   ]
  },
  {
   "cell_type": "code",
   "execution_count": 16,
   "metadata": {
    "collapsed": true,
    "deletable": true,
    "editable": true
   },
   "outputs": [],
   "source": [
    "indonesia_aus_factors = aus_factors_df[aus_factors_df['source_country']=='Indonesia']\n",
    "cols = indonesia_aus_factors.columns\n",
    "indonesia_aus_factors = indonesia_aus_factors.join(indonesia_aus_factors[cols].shift(1), rsuffix='_1y_shift')\n",
    "indonesia_aus_factors = indonesia_aus_factors.join(indonesia_aus_factors[cols].shift(2), rsuffix='_2y_shift')"
   ]
  },
  {
   "cell_type": "code",
   "execution_count": 17,
   "metadata": {
    "collapsed": true,
    "deletable": true,
    "editable": true
   },
   "outputs": [],
   "source": [
    "indonesia_corr_series = indonesia_aus_factors.corr().loc['dst_students_count'].fillna(0).drop(['dst_students_count'])\n",
    "corr_df = corr_df.append(pd.DataFrame(indonesia_corr_series).rename(columns={'dst_students_count': 'indonesia_student_count'}).T)"
   ]
  },
  {
   "cell_type": "code",
   "execution_count": 18,
   "metadata": {
    "collapsed": false,
    "deletable": true,
    "editable": true
   },
   "outputs": [
    {
     "data": {
      "text/html": [
       "<div>\n",
       "<style scoped>\n",
       "    .dataframe tbody tr th:only-of-type {\n",
       "        vertical-align: middle;\n",
       "    }\n",
       "\n",
       "    .dataframe tbody tr th {\n",
       "        vertical-align: top;\n",
       "    }\n",
       "\n",
       "    .dataframe thead th {\n",
       "        text-align: right;\n",
       "    }\n",
       "</style>\n",
       "<table border=\"1\" class=\"dataframe\">\n",
       "  <thead>\n",
       "    <tr style=\"text-align: right;\">\n",
       "      <th></th>\n",
       "      <th>year</th>\n",
       "      <th>dst_distance</th>\n",
       "      <th>dst_average_wage</th>\n",
       "      <th>dst_rate_of_one_usd</th>\n",
       "      <th>dst_cpi</th>\n",
       "      <th>dst_qoe_top20</th>\n",
       "      <th>dst_qoe_top100</th>\n",
       "      <th>dst_qoe_top200</th>\n",
       "      <th>dst_qoe_top500</th>\n",
       "      <th>src_population</th>\n",
       "      <th>src_qoe_top20</th>\n",
       "      <th>src_qoe_top100</th>\n",
       "      <th>src_qoe_top200</th>\n",
       "      <th>src_qoe_top500</th>\n",
       "      <th>src_gni</th>\n",
       "      <th>src_gdp</th>\n",
       "      <th>src_rate_of_one_usd</th>\n",
       "      <th>src_tertiary_enrolment</th>\n",
       "      <th>year_1y_shift</th>\n",
       "      <th>dst_distance_1y_shift</th>\n",
       "      <th>dst_students_count_1y_shift</th>\n",
       "      <th>dst_average_wage_1y_shift</th>\n",
       "      <th>dst_rate_of_one_usd_1y_shift</th>\n",
       "      <th>dst_cpi_1y_shift</th>\n",
       "      <th>dst_qoe_top20_1y_shift</th>\n",
       "      <th>...</th>\n",
       "      <th>src_qoe_top200_1y_shift</th>\n",
       "      <th>src_qoe_top500_1y_shift</th>\n",
       "      <th>src_gni_1y_shift</th>\n",
       "      <th>src_gdp_1y_shift</th>\n",
       "      <th>src_rate_of_one_usd_1y_shift</th>\n",
       "      <th>src_tertiary_enrolment_1y_shift</th>\n",
       "      <th>year_2y_shift</th>\n",
       "      <th>dst_distance_2y_shift</th>\n",
       "      <th>dst_students_count_2y_shift</th>\n",
       "      <th>dst_average_wage_2y_shift</th>\n",
       "      <th>dst_rate_of_one_usd_2y_shift</th>\n",
       "      <th>dst_cpi_2y_shift</th>\n",
       "      <th>dst_qoe_top20_2y_shift</th>\n",
       "      <th>dst_qoe_top100_2y_shift</th>\n",
       "      <th>dst_qoe_top200_2y_shift</th>\n",
       "      <th>dst_qoe_top500_2y_shift</th>\n",
       "      <th>src_population_2y_shift</th>\n",
       "      <th>src_qoe_top20_2y_shift</th>\n",
       "      <th>src_qoe_top100_2y_shift</th>\n",
       "      <th>src_qoe_top200_2y_shift</th>\n",
       "      <th>src_qoe_top500_2y_shift</th>\n",
       "      <th>src_gni_2y_shift</th>\n",
       "      <th>src_gdp_2y_shift</th>\n",
       "      <th>src_rate_of_one_usd_2y_shift</th>\n",
       "      <th>src_tertiary_enrolment_2y_shift</th>\n",
       "    </tr>\n",
       "  </thead>\n",
       "  <tbody>\n",
       "    <tr>\n",
       "      <td>china_student_count</td>\n",
       "      <td>0.97</td>\n",
       "      <td>0.0</td>\n",
       "      <td>0.70</td>\n",
       "      <td>0.06</td>\n",
       "      <td>0.95</td>\n",
       "      <td>0.83</td>\n",
       "      <td>-0.92</td>\n",
       "      <td>-7.12e-03</td>\n",
       "      <td>-0.89</td>\n",
       "      <td>0.97</td>\n",
       "      <td>0.0</td>\n",
       "      <td>0.34</td>\n",
       "      <td>0.89</td>\n",
       "      <td>0.96</td>\n",
       "      <td>0.92</td>\n",
       "      <td>0.92</td>\n",
       "      <td>-0.85</td>\n",
       "      <td>0.94</td>\n",
       "      <td>0.94</td>\n",
       "      <td>0.0</td>\n",
       "      <td>0.99</td>\n",
       "      <td>0.67</td>\n",
       "      <td>0.04</td>\n",
       "      <td>0.92</td>\n",
       "      <td>0.90</td>\n",
       "      <td>...</td>\n",
       "      <td>0.9</td>\n",
       "      <td>0.93</td>\n",
       "      <td>0.90</td>\n",
       "      <td>0.90</td>\n",
       "      <td>-0.81</td>\n",
       "      <td>0.94</td>\n",
       "      <td>0.89</td>\n",
       "      <td>0.0</td>\n",
       "      <td>0.96</td>\n",
       "      <td>0.60</td>\n",
       "      <td>0.03</td>\n",
       "      <td>0.86</td>\n",
       "      <td>0.89</td>\n",
       "      <td>-0.92</td>\n",
       "      <td>-0.08</td>\n",
       "      <td>-0.81</td>\n",
       "      <td>0.89</td>\n",
       "      <td>0.0</td>\n",
       "      <td>0.37</td>\n",
       "      <td>0.89</td>\n",
       "      <td>0.86</td>\n",
       "      <td>0.86</td>\n",
       "      <td>0.85</td>\n",
       "      <td>-7.24e-01</td>\n",
       "      <td>0.91</td>\n",
       "    </tr>\n",
       "    <tr>\n",
       "      <td>India_student_count</td>\n",
       "      <td>0.69</td>\n",
       "      <td>0.0</td>\n",
       "      <td>0.82</td>\n",
       "      <td>-0.15</td>\n",
       "      <td>0.65</td>\n",
       "      <td>0.57</td>\n",
       "      <td>-0.54</td>\n",
       "      <td>1.11e-01</td>\n",
       "      <td>-0.66</td>\n",
       "      <td>0.71</td>\n",
       "      <td>0.0</td>\n",
       "      <td>0.00</td>\n",
       "      <td>0.00</td>\n",
       "      <td>-0.68</td>\n",
       "      <td>0.68</td>\n",
       "      <td>0.68</td>\n",
       "      <td>0.12</td>\n",
       "      <td>0.59</td>\n",
       "      <td>0.65</td>\n",
       "      <td>0.0</td>\n",
       "      <td>0.99</td>\n",
       "      <td>0.79</td>\n",
       "      <td>-0.18</td>\n",
       "      <td>0.62</td>\n",
       "      <td>0.64</td>\n",
       "      <td>...</td>\n",
       "      <td>0.0</td>\n",
       "      <td>-0.70</td>\n",
       "      <td>0.65</td>\n",
       "      <td>0.66</td>\n",
       "      <td>0.04</td>\n",
       "      <td>0.55</td>\n",
       "      <td>0.61</td>\n",
       "      <td>0.0</td>\n",
       "      <td>0.97</td>\n",
       "      <td>0.74</td>\n",
       "      <td>-0.19</td>\n",
       "      <td>0.60</td>\n",
       "      <td>0.59</td>\n",
       "      <td>-0.51</td>\n",
       "      <td>0.12</td>\n",
       "      <td>-0.58</td>\n",
       "      <td>0.64</td>\n",
       "      <td>0.0</td>\n",
       "      <td>0.00</td>\n",
       "      <td>0.00</td>\n",
       "      <td>-0.71</td>\n",
       "      <td>0.63</td>\n",
       "      <td>0.63</td>\n",
       "      <td>-5.33e-03</td>\n",
       "      <td>0.52</td>\n",
       "    </tr>\n",
       "    <tr>\n",
       "      <td>malaysia_student_count</td>\n",
       "      <td>0.50</td>\n",
       "      <td>0.0</td>\n",
       "      <td>0.29</td>\n",
       "      <td>0.19</td>\n",
       "      <td>0.55</td>\n",
       "      <td>0.73</td>\n",
       "      <td>-0.68</td>\n",
       "      <td>8.11e-02</td>\n",
       "      <td>-0.45</td>\n",
       "      <td>0.48</td>\n",
       "      <td>0.0</td>\n",
       "      <td>0.00</td>\n",
       "      <td>0.00</td>\n",
       "      <td>0.71</td>\n",
       "      <td>0.56</td>\n",
       "      <td>0.49</td>\n",
       "      <td>0.13</td>\n",
       "      <td>0.48</td>\n",
       "      <td>0.40</td>\n",
       "      <td>0.0</td>\n",
       "      <td>0.97</td>\n",
       "      <td>0.23</td>\n",
       "      <td>0.29</td>\n",
       "      <td>0.45</td>\n",
       "      <td>0.63</td>\n",
       "      <td>...</td>\n",
       "      <td>0.0</td>\n",
       "      <td>0.64</td>\n",
       "      <td>0.44</td>\n",
       "      <td>0.37</td>\n",
       "      <td>0.22</td>\n",
       "      <td>0.40</td>\n",
       "      <td>0.37</td>\n",
       "      <td>0.0</td>\n",
       "      <td>0.91</td>\n",
       "      <td>0.17</td>\n",
       "      <td>0.48</td>\n",
       "      <td>0.43</td>\n",
       "      <td>0.56</td>\n",
       "      <td>-0.57</td>\n",
       "      <td>0.04</td>\n",
       "      <td>-0.35</td>\n",
       "      <td>0.34</td>\n",
       "      <td>0.0</td>\n",
       "      <td>0.00</td>\n",
       "      <td>0.00</td>\n",
       "      <td>0.65</td>\n",
       "      <td>0.41</td>\n",
       "      <td>0.35</td>\n",
       "      <td>2.02e-01</td>\n",
       "      <td>0.37</td>\n",
       "    </tr>\n",
       "    <tr>\n",
       "      <td>indonesia_student_count</td>\n",
       "      <td>0.73</td>\n",
       "      <td>0.0</td>\n",
       "      <td>0.24</td>\n",
       "      <td>0.46</td>\n",
       "      <td>0.74</td>\n",
       "      <td>0.71</td>\n",
       "      <td>-0.76</td>\n",
       "      <td>4.32e-02</td>\n",
       "      <td>-0.66</td>\n",
       "      <td>0.74</td>\n",
       "      <td>0.0</td>\n",
       "      <td>0.00</td>\n",
       "      <td>0.00</td>\n",
       "      <td>0.00</td>\n",
       "      <td>0.69</td>\n",
       "      <td>0.67</td>\n",
       "      <td>0.88</td>\n",
       "      <td>0.76</td>\n",
       "      <td>0.69</td>\n",
       "      <td>0.0</td>\n",
       "      <td>0.99</td>\n",
       "      <td>0.24</td>\n",
       "      <td>0.52</td>\n",
       "      <td>0.69</td>\n",
       "      <td>0.67</td>\n",
       "      <td>...</td>\n",
       "      <td>0.0</td>\n",
       "      <td>0.00</td>\n",
       "      <td>0.63</td>\n",
       "      <td>0.62</td>\n",
       "      <td>0.86</td>\n",
       "      <td>0.71</td>\n",
       "      <td>0.65</td>\n",
       "      <td>0.0</td>\n",
       "      <td>0.97</td>\n",
       "      <td>0.21</td>\n",
       "      <td>0.51</td>\n",
       "      <td>0.65</td>\n",
       "      <td>0.65</td>\n",
       "      <td>-0.72</td>\n",
       "      <td>-0.02</td>\n",
       "      <td>-0.59</td>\n",
       "      <td>0.66</td>\n",
       "      <td>0.0</td>\n",
       "      <td>0.00</td>\n",
       "      <td>0.00</td>\n",
       "      <td>0.00</td>\n",
       "      <td>0.59</td>\n",
       "      <td>0.58</td>\n",
       "      <td>7.93e-01</td>\n",
       "      <td>0.66</td>\n",
       "    </tr>\n",
       "  </tbody>\n",
       "</table>\n",
       "<p>4 rows × 56 columns</p>\n",
       "</div>"
      ],
      "text/plain": [
       "                         year  dst_distance  dst_average_wage  \\\n",
       "china_student_count      0.97           0.0              0.70   \n",
       "India_student_count      0.69           0.0              0.82   \n",
       "malaysia_student_count   0.50           0.0              0.29   \n",
       "indonesia_student_count  0.73           0.0              0.24   \n",
       "\n",
       "                         dst_rate_of_one_usd  dst_cpi  dst_qoe_top20  \\\n",
       "china_student_count                     0.06     0.95           0.83   \n",
       "India_student_count                    -0.15     0.65           0.57   \n",
       "malaysia_student_count                  0.19     0.55           0.73   \n",
       "indonesia_student_count                 0.46     0.74           0.71   \n",
       "\n",
       "                         dst_qoe_top100  dst_qoe_top200  dst_qoe_top500  \\\n",
       "china_student_count               -0.92       -7.12e-03           -0.89   \n",
       "India_student_count               -0.54        1.11e-01           -0.66   \n",
       "malaysia_student_count            -0.68        8.11e-02           -0.45   \n",
       "indonesia_student_count           -0.76        4.32e-02           -0.66   \n",
       "\n",
       "                         src_population  src_qoe_top20  src_qoe_top100  \\\n",
       "china_student_count                0.97            0.0            0.34   \n",
       "India_student_count                0.71            0.0            0.00   \n",
       "malaysia_student_count             0.48            0.0            0.00   \n",
       "indonesia_student_count            0.74            0.0            0.00   \n",
       "\n",
       "                         src_qoe_top200  src_qoe_top500  src_gni  src_gdp  \\\n",
       "china_student_count                0.89            0.96     0.92     0.92   \n",
       "India_student_count                0.00           -0.68     0.68     0.68   \n",
       "malaysia_student_count             0.00            0.71     0.56     0.49   \n",
       "indonesia_student_count            0.00            0.00     0.69     0.67   \n",
       "\n",
       "                         src_rate_of_one_usd  src_tertiary_enrolment  \\\n",
       "china_student_count                    -0.85                    0.94   \n",
       "India_student_count                     0.12                    0.59   \n",
       "malaysia_student_count                  0.13                    0.48   \n",
       "indonesia_student_count                 0.88                    0.76   \n",
       "\n",
       "                         year_1y_shift  dst_distance_1y_shift  \\\n",
       "china_student_count               0.94                    0.0   \n",
       "India_student_count               0.65                    0.0   \n",
       "malaysia_student_count            0.40                    0.0   \n",
       "indonesia_student_count           0.69                    0.0   \n",
       "\n",
       "                         dst_students_count_1y_shift  \\\n",
       "china_student_count                             0.99   \n",
       "India_student_count                             0.99   \n",
       "malaysia_student_count                          0.97   \n",
       "indonesia_student_count                         0.99   \n",
       "\n",
       "                         dst_average_wage_1y_shift  \\\n",
       "china_student_count                           0.67   \n",
       "India_student_count                           0.79   \n",
       "malaysia_student_count                        0.23   \n",
       "indonesia_student_count                       0.24   \n",
       "\n",
       "                         dst_rate_of_one_usd_1y_shift  dst_cpi_1y_shift  \\\n",
       "china_student_count                              0.04              0.92   \n",
       "India_student_count                             -0.18              0.62   \n",
       "malaysia_student_count                           0.29              0.45   \n",
       "indonesia_student_count                          0.52              0.69   \n",
       "\n",
       "                         dst_qoe_top20_1y_shift  ...  src_qoe_top200_1y_shift  \\\n",
       "china_student_count                        0.90  ...                      0.9   \n",
       "India_student_count                        0.64  ...                      0.0   \n",
       "malaysia_student_count                     0.63  ...                      0.0   \n",
       "indonesia_student_count                    0.67  ...                      0.0   \n",
       "\n",
       "                         src_qoe_top500_1y_shift  src_gni_1y_shift  \\\n",
       "china_student_count                         0.93              0.90   \n",
       "India_student_count                        -0.70              0.65   \n",
       "malaysia_student_count                      0.64              0.44   \n",
       "indonesia_student_count                     0.00              0.63   \n",
       "\n",
       "                         src_gdp_1y_shift  src_rate_of_one_usd_1y_shift  \\\n",
       "china_student_count                  0.90                         -0.81   \n",
       "India_student_count                  0.66                          0.04   \n",
       "malaysia_student_count               0.37                          0.22   \n",
       "indonesia_student_count              0.62                          0.86   \n",
       "\n",
       "                         src_tertiary_enrolment_1y_shift  year_2y_shift  \\\n",
       "china_student_count                                 0.94           0.89   \n",
       "India_student_count                                 0.55           0.61   \n",
       "malaysia_student_count                              0.40           0.37   \n",
       "indonesia_student_count                             0.71           0.65   \n",
       "\n",
       "                         dst_distance_2y_shift  dst_students_count_2y_shift  \\\n",
       "china_student_count                        0.0                         0.96   \n",
       "India_student_count                        0.0                         0.97   \n",
       "malaysia_student_count                     0.0                         0.91   \n",
       "indonesia_student_count                    0.0                         0.97   \n",
       "\n",
       "                         dst_average_wage_2y_shift  \\\n",
       "china_student_count                           0.60   \n",
       "India_student_count                           0.74   \n",
       "malaysia_student_count                        0.17   \n",
       "indonesia_student_count                       0.21   \n",
       "\n",
       "                         dst_rate_of_one_usd_2y_shift  dst_cpi_2y_shift  \\\n",
       "china_student_count                              0.03              0.86   \n",
       "India_student_count                             -0.19              0.60   \n",
       "malaysia_student_count                           0.48              0.43   \n",
       "indonesia_student_count                          0.51              0.65   \n",
       "\n",
       "                         dst_qoe_top20_2y_shift  dst_qoe_top100_2y_shift  \\\n",
       "china_student_count                        0.89                    -0.92   \n",
       "India_student_count                        0.59                    -0.51   \n",
       "malaysia_student_count                     0.56                    -0.57   \n",
       "indonesia_student_count                    0.65                    -0.72   \n",
       "\n",
       "                         dst_qoe_top200_2y_shift  dst_qoe_top500_2y_shift  \\\n",
       "china_student_count                        -0.08                    -0.81   \n",
       "India_student_count                         0.12                    -0.58   \n",
       "malaysia_student_count                      0.04                    -0.35   \n",
       "indonesia_student_count                    -0.02                    -0.59   \n",
       "\n",
       "                         src_population_2y_shift  src_qoe_top20_2y_shift  \\\n",
       "china_student_count                         0.89                     0.0   \n",
       "India_student_count                         0.64                     0.0   \n",
       "malaysia_student_count                      0.34                     0.0   \n",
       "indonesia_student_count                     0.66                     0.0   \n",
       "\n",
       "                         src_qoe_top100_2y_shift  src_qoe_top200_2y_shift  \\\n",
       "china_student_count                         0.37                     0.89   \n",
       "India_student_count                         0.00                     0.00   \n",
       "malaysia_student_count                      0.00                     0.00   \n",
       "indonesia_student_count                     0.00                     0.00   \n",
       "\n",
       "                         src_qoe_top500_2y_shift  src_gni_2y_shift  \\\n",
       "china_student_count                         0.86              0.86   \n",
       "India_student_count                        -0.71              0.63   \n",
       "malaysia_student_count                      0.65              0.41   \n",
       "indonesia_student_count                     0.00              0.59   \n",
       "\n",
       "                         src_gdp_2y_shift  src_rate_of_one_usd_2y_shift  \\\n",
       "china_student_count                  0.85                     -7.24e-01   \n",
       "India_student_count                  0.63                     -5.33e-03   \n",
       "malaysia_student_count               0.35                      2.02e-01   \n",
       "indonesia_student_count              0.58                      7.93e-01   \n",
       "\n",
       "                         src_tertiary_enrolment_2y_shift  \n",
       "china_student_count                                 0.91  \n",
       "India_student_count                                 0.52  \n",
       "malaysia_student_count                              0.37  \n",
       "indonesia_student_count                             0.66  \n",
       "\n",
       "[4 rows x 56 columns]"
      ]
     },
     "execution_count": 18,
     "metadata": {},
     "output_type": "execute_result"
    }
   ],
   "source": [
    "corr_df"
   ]
  },
  {
   "cell_type": "markdown",
   "metadata": {
    "deletable": true,
    "editable": true
   },
   "source": [
    "## Heatmap"
   ]
  },
  {
   "cell_type": "code",
   "execution_count": 19,
   "metadata": {
    "collapsed": false,
    "deletable": true,
    "editable": true
   },
   "outputs": [
    {
     "data": {
      "application/vnd.plotly.v1+json": {
       "config": {
        "linkText": "Export to plot.ly",
        "plotlyServerURL": "https://plot.ly",
        "showLink": false
       },
       "data": [
        {
         "colorscale": [
          [
           0,
           "rgb(158,1,66)"
          ],
          [
           0.1,
           "rgb(213,62,79)"
          ],
          [
           0.2,
           "rgb(244,109,67)"
          ],
          [
           0.3,
           "rgb(253,174,97)"
          ],
          [
           0.4,
           "rgb(254,224,139)"
          ],
          [
           0.5,
           "rgb(255,255,191)"
          ],
          [
           0.6,
           "rgb(230,245,152)"
          ],
          [
           0.7,
           "rgb(171,221,164)"
          ],
          [
           0.8,
           "rgb(102,194,165)"
          ],
          [
           0.9,
           "rgb(50,136,189)"
          ],
          [
           1,
           "rgb(94,79,162)"
          ]
         ],
         "reversescale": true,
         "type": "heatmap",
         "x": [
          "china_student_count",
          "India_student_count",
          "malaysia_student_count",
          "indonesia_student_count"
         ],
         "y": [
          "year",
          "dst_distance",
          "dst_average_wage",
          "dst_rate_of_one_usd",
          "dst_cpi",
          "dst_qoe_top20",
          "dst_qoe_top100",
          "dst_qoe_top200",
          "dst_qoe_top500",
          "src_population",
          "src_qoe_top20",
          "src_qoe_top100",
          "src_qoe_top200",
          "src_qoe_top500",
          "src_gni",
          "src_gdp",
          "src_rate_of_one_usd",
          "src_tertiary_enrolment",
          "year_1y_shift",
          "dst_distance_1y_shift",
          "dst_students_count_1y_shift",
          "dst_average_wage_1y_shift",
          "dst_rate_of_one_usd_1y_shift",
          "dst_cpi_1y_shift",
          "dst_qoe_top20_1y_shift",
          "dst_qoe_top100_1y_shift",
          "dst_qoe_top200_1y_shift",
          "dst_qoe_top500_1y_shift",
          "src_population_1y_shift",
          "src_qoe_top20_1y_shift",
          "src_qoe_top100_1y_shift",
          "src_qoe_top200_1y_shift",
          "src_qoe_top500_1y_shift",
          "src_gni_1y_shift",
          "src_gdp_1y_shift",
          "src_rate_of_one_usd_1y_shift",
          "src_tertiary_enrolment_1y_shift",
          "year_2y_shift",
          "dst_distance_2y_shift",
          "dst_students_count_2y_shift",
          "dst_average_wage_2y_shift",
          "dst_rate_of_one_usd_2y_shift",
          "dst_cpi_2y_shift",
          "dst_qoe_top20_2y_shift",
          "dst_qoe_top100_2y_shift",
          "dst_qoe_top200_2y_shift",
          "dst_qoe_top500_2y_shift",
          "src_population_2y_shift",
          "src_qoe_top20_2y_shift",
          "src_qoe_top100_2y_shift",
          "src_qoe_top200_2y_shift",
          "src_qoe_top500_2y_shift",
          "src_gni_2y_shift",
          "src_gdp_2y_shift",
          "src_rate_of_one_usd_2y_shift",
          "src_tertiary_enrolment_2y_shift"
         ],
         "z": [
          [
           0.9694469138408249,
           0.6855607923068425,
           0.5032624363345093,
           0.7259696688899372
          ],
          [
           0,
           0,
           0,
           0
          ],
          [
           0.7018765625006185,
           0.8225193729045098,
           0.2891486389038677,
           0.2406482388332318
          ],
          [
           0.05642736819488242,
           -0.1486087798084659,
           0.19265183754895263,
           0.46134063050200014
          ],
          [
           0.9488243207677303,
           0.6540236501562725,
           0.553916795598064,
           0.7434329695063329
          ],
          [
           0.8297502586861464,
           0.5694917522154309,
           0.7332602928794696,
           0.7051856846222957
          ],
          [
           -0.9207180580019544,
           -0.5403841092081126,
           -0.6828633233138778,
           -0.7616282389070356
          ],
          [
           -0.007115158184287179,
           0.11062212025165999,
           0.08112767263857232,
           0.043176526836048286
          ],
          [
           -0.8923735529814495,
           -0.6592986297368586,
           -0.44887744612826885,
           -0.6635421323037982
          ],
          [
           0.9708318576193937,
           0.7098517199698503,
           0.47566565258169485,
           0.7408989986153229
          ],
          [
           0,
           0,
           0,
           0
          ],
          [
           0.33765417454460156,
           0,
           0,
           0
          ],
          [
           0.8852903774330383,
           0,
           0,
           0
          ],
          [
           0.959515282405271,
           -0.6758327923840817,
           0.713244640741391,
           0
          ],
          [
           0.917997565818513,
           0.6765762073891597,
           0.5608502256561064,
           0.692881867344679
          ],
          [
           0.9180385067921147,
           0.6815336666411752,
           0.48766189588949377,
           0.6685354018384881
          ],
          [
           -0.8537295365110193,
           0.12032339652616328,
           0.12639311032710468,
           0.8795965405050555
          ],
          [
           0.9445934913064006,
           0.5914243294298446,
           0.47830529820541257,
           0.7592651634204864
          ],
          [
           0.9440019842242833,
           0.6462500009768704,
           0.39837523208441117,
           0.6869414779431849
          ],
          [
           0,
           0,
           0,
           0
          ],
          [
           0.9878552371704599,
           0.9905833674808833,
           0.9713642160216718,
           0.9866807613809783
          ],
          [
           0.6708933421832428,
           0.7854054363123526,
           0.2307572157129059,
           0.23577518226509894
          ],
          [
           0.039559983859519886,
           -0.1837128112800199,
           0.28770732662900417,
           0.5238408370249552
          ],
          [
           0.9192079208890869,
           0.621818408889395,
           0.4484719180356074,
           0.6946253830633047
          ],
          [
           0.9028590020911648,
           0.6440437643935625,
           0.6332097130445802,
           0.6709335537984372
          ],
          [
           -0.9490796460281299,
           -0.551166267787435,
           -0.5897364809940457,
           -0.724652169535326
          ],
          [
           -0.01196188078006857,
           0.11206944131777338,
           0.04948458375097551,
           0.057221764676859604
          ],
          [
           -0.8571456685536478,
           -0.6256065082556694,
           -0.3859461376675013,
           -0.6244046013785634
          ],
          [
           0.9459187344265501,
           0.6723479332346832,
           0.37013522609843996,
           0.7015105960397491
          ],
          [
           0,
           0,
           0,
           0
          ],
          [
           0.35572907450010055,
           0,
           0,
           0
          ],
          [
           0.897990627631756,
           0,
           0,
           0
          ],
          [
           0.9280531627341175,
           -0.6960610278106403,
           0.6405847369736339,
           0
          ],
          [
           0.9038726077641365,
           0.6531426859353356,
           0.4446083627187826,
           0.634429141213456
          ],
          [
           0.8988712999829894,
           0.6599125847411742,
           0.3701738489599192,
           0.6187324054050226
          ],
          [
           -0.8107343494134494,
           0.04420515178776216,
           0.22428851254080043,
           0.8559813376833276
          ],
          [
           0.9362260102552751,
           0.5535364079147934,
           0.4007986817653572,
           0.7063399018933207
          ],
          [
           0.8879613985532544,
           0.6066786070685082,
           0.368670393851068,
           0.6468930751078903
          ],
          [
           0,
           0,
           0,
           0
          ],
          [
           0.9583371015702011,
           0.9716433242729846,
           0.9094699003046463,
           0.9664504737876
          ],
          [
           0.6024296833351025,
           0.7444761381974361,
           0.17228573896013416,
           0.21431539634376473
          ],
          [
           0.02838130933167454,
           -0.19428099215950242,
           0.4843011803184982,
           0.5088425458344548
          ],
          [
           0.8587585233854884,
           0.5963162360622947,
           0.4294977780741229,
           0.6528879583119424
          ],
          [
           0.8923087785656985,
           0.5909728776811056,
           0.5585874951635363,
           0.6472130424446946
          ],
          [
           -0.9209348875146388,
           -0.5125117442117142,
           -0.5651368816686912,
           -0.7161730826003619
          ],
          [
           -0.07518113621852397,
           0.12131539001970418,
           0.03530004799115321,
           -0.016719401978943765
          ],
          [
           -0.8053428586559168,
           -0.5821864311120263,
           -0.34913757975284304,
           -0.5946376028689788
          ],
          [
           0.8903675792739766,
           0.6352004475576443,
           0.34015903028438327,
           0.6616460042288991
          ],
          [
           0,
           0,
           0,
           0
          ],
          [
           0.36813570334933277,
           0,
           0,
           0
          ],
          [
           0.8942584843759622,
           0,
           0,
           0
          ],
          [
           0.8630283824733181,
           -0.7057121129592305,
           0.6468238246858348,
           0
          ],
          [
           0.860010986269892,
           0.631947404634863,
           0.41425373367273266,
           0.5931469795163228
          ],
          [
           0.8512240455928288,
           0.6326961636720592,
           0.35283979725552056,
           0.5847175529797177
          ],
          [
           -0.7241648360223862,
           -0.005327673992663071,
           0.20187229595114234,
           0.7926965448503946
          ],
          [
           0.9062723120229261,
           0.5221028248022169,
           0.3665107802785923,
           0.6649761737220342
          ]
         ]
        }
       ],
       "layout": {
        "autosize": false,
        "height": 1000,
        "template": {
         "data": {
          "bar": [
           {
            "error_x": {
             "color": "#2a3f5f"
            },
            "error_y": {
             "color": "#2a3f5f"
            },
            "marker": {
             "line": {
              "color": "#E5ECF6",
              "width": 0.5
             }
            },
            "type": "bar"
           }
          ],
          "barpolar": [
           {
            "marker": {
             "line": {
              "color": "#E5ECF6",
              "width": 0.5
             }
            },
            "type": "barpolar"
           }
          ],
          "carpet": [
           {
            "aaxis": {
             "endlinecolor": "#2a3f5f",
             "gridcolor": "white",
             "linecolor": "white",
             "minorgridcolor": "white",
             "startlinecolor": "#2a3f5f"
            },
            "baxis": {
             "endlinecolor": "#2a3f5f",
             "gridcolor": "white",
             "linecolor": "white",
             "minorgridcolor": "white",
             "startlinecolor": "#2a3f5f"
            },
            "type": "carpet"
           }
          ],
          "choropleth": [
           {
            "colorbar": {
             "outlinewidth": 0,
             "ticks": ""
            },
            "type": "choropleth"
           }
          ],
          "contour": [
           {
            "colorbar": {
             "outlinewidth": 0,
             "ticks": ""
            },
            "colorscale": [
             [
              0,
              "#0d0887"
             ],
             [
              0.1111111111111111,
              "#46039f"
             ],
             [
              0.2222222222222222,
              "#7201a8"
             ],
             [
              0.3333333333333333,
              "#9c179e"
             ],
             [
              0.4444444444444444,
              "#bd3786"
             ],
             [
              0.5555555555555556,
              "#d8576b"
             ],
             [
              0.6666666666666666,
              "#ed7953"
             ],
             [
              0.7777777777777778,
              "#fb9f3a"
             ],
             [
              0.8888888888888888,
              "#fdca26"
             ],
             [
              1,
              "#f0f921"
             ]
            ],
            "type": "contour"
           }
          ],
          "contourcarpet": [
           {
            "colorbar": {
             "outlinewidth": 0,
             "ticks": ""
            },
            "type": "contourcarpet"
           }
          ],
          "heatmap": [
           {
            "colorbar": {
             "outlinewidth": 0,
             "ticks": ""
            },
            "colorscale": [
             [
              0,
              "#0d0887"
             ],
             [
              0.1111111111111111,
              "#46039f"
             ],
             [
              0.2222222222222222,
              "#7201a8"
             ],
             [
              0.3333333333333333,
              "#9c179e"
             ],
             [
              0.4444444444444444,
              "#bd3786"
             ],
             [
              0.5555555555555556,
              "#d8576b"
             ],
             [
              0.6666666666666666,
              "#ed7953"
             ],
             [
              0.7777777777777778,
              "#fb9f3a"
             ],
             [
              0.8888888888888888,
              "#fdca26"
             ],
             [
              1,
              "#f0f921"
             ]
            ],
            "type": "heatmap"
           }
          ],
          "heatmapgl": [
           {
            "colorbar": {
             "outlinewidth": 0,
             "ticks": ""
            },
            "colorscale": [
             [
              0,
              "#0d0887"
             ],
             [
              0.1111111111111111,
              "#46039f"
             ],
             [
              0.2222222222222222,
              "#7201a8"
             ],
             [
              0.3333333333333333,
              "#9c179e"
             ],
             [
              0.4444444444444444,
              "#bd3786"
             ],
             [
              0.5555555555555556,
              "#d8576b"
             ],
             [
              0.6666666666666666,
              "#ed7953"
             ],
             [
              0.7777777777777778,
              "#fb9f3a"
             ],
             [
              0.8888888888888888,
              "#fdca26"
             ],
             [
              1,
              "#f0f921"
             ]
            ],
            "type": "heatmapgl"
           }
          ],
          "histogram": [
           {
            "marker": {
             "colorbar": {
              "outlinewidth": 0,
              "ticks": ""
             }
            },
            "type": "histogram"
           }
          ],
          "histogram2d": [
           {
            "colorbar": {
             "outlinewidth": 0,
             "ticks": ""
            },
            "colorscale": [
             [
              0,
              "#0d0887"
             ],
             [
              0.1111111111111111,
              "#46039f"
             ],
             [
              0.2222222222222222,
              "#7201a8"
             ],
             [
              0.3333333333333333,
              "#9c179e"
             ],
             [
              0.4444444444444444,
              "#bd3786"
             ],
             [
              0.5555555555555556,
              "#d8576b"
             ],
             [
              0.6666666666666666,
              "#ed7953"
             ],
             [
              0.7777777777777778,
              "#fb9f3a"
             ],
             [
              0.8888888888888888,
              "#fdca26"
             ],
             [
              1,
              "#f0f921"
             ]
            ],
            "type": "histogram2d"
           }
          ],
          "histogram2dcontour": [
           {
            "colorbar": {
             "outlinewidth": 0,
             "ticks": ""
            },
            "colorscale": [
             [
              0,
              "#0d0887"
             ],
             [
              0.1111111111111111,
              "#46039f"
             ],
             [
              0.2222222222222222,
              "#7201a8"
             ],
             [
              0.3333333333333333,
              "#9c179e"
             ],
             [
              0.4444444444444444,
              "#bd3786"
             ],
             [
              0.5555555555555556,
              "#d8576b"
             ],
             [
              0.6666666666666666,
              "#ed7953"
             ],
             [
              0.7777777777777778,
              "#fb9f3a"
             ],
             [
              0.8888888888888888,
              "#fdca26"
             ],
             [
              1,
              "#f0f921"
             ]
            ],
            "type": "histogram2dcontour"
           }
          ],
          "mesh3d": [
           {
            "colorbar": {
             "outlinewidth": 0,
             "ticks": ""
            },
            "type": "mesh3d"
           }
          ],
          "parcoords": [
           {
            "line": {
             "colorbar": {
              "outlinewidth": 0,
              "ticks": ""
             }
            },
            "type": "parcoords"
           }
          ],
          "scatter": [
           {
            "marker": {
             "colorbar": {
              "outlinewidth": 0,
              "ticks": ""
             }
            },
            "type": "scatter"
           }
          ],
          "scatter3d": [
           {
            "line": {
             "colorbar": {
              "outlinewidth": 0,
              "ticks": ""
             }
            },
            "marker": {
             "colorbar": {
              "outlinewidth": 0,
              "ticks": ""
             }
            },
            "type": "scatter3d"
           }
          ],
          "scattercarpet": [
           {
            "marker": {
             "colorbar": {
              "outlinewidth": 0,
              "ticks": ""
             }
            },
            "type": "scattercarpet"
           }
          ],
          "scattergeo": [
           {
            "marker": {
             "colorbar": {
              "outlinewidth": 0,
              "ticks": ""
             }
            },
            "type": "scattergeo"
           }
          ],
          "scattergl": [
           {
            "marker": {
             "colorbar": {
              "outlinewidth": 0,
              "ticks": ""
             }
            },
            "type": "scattergl"
           }
          ],
          "scattermapbox": [
           {
            "marker": {
             "colorbar": {
              "outlinewidth": 0,
              "ticks": ""
             }
            },
            "type": "scattermapbox"
           }
          ],
          "scatterpolar": [
           {
            "marker": {
             "colorbar": {
              "outlinewidth": 0,
              "ticks": ""
             }
            },
            "type": "scatterpolar"
           }
          ],
          "scatterpolargl": [
           {
            "marker": {
             "colorbar": {
              "outlinewidth": 0,
              "ticks": ""
             }
            },
            "type": "scatterpolargl"
           }
          ],
          "scatterternary": [
           {
            "marker": {
             "colorbar": {
              "outlinewidth": 0,
              "ticks": ""
             }
            },
            "type": "scatterternary"
           }
          ],
          "surface": [
           {
            "colorbar": {
             "outlinewidth": 0,
             "ticks": ""
            },
            "colorscale": [
             [
              0,
              "#0d0887"
             ],
             [
              0.1111111111111111,
              "#46039f"
             ],
             [
              0.2222222222222222,
              "#7201a8"
             ],
             [
              0.3333333333333333,
              "#9c179e"
             ],
             [
              0.4444444444444444,
              "#bd3786"
             ],
             [
              0.5555555555555556,
              "#d8576b"
             ],
             [
              0.6666666666666666,
              "#ed7953"
             ],
             [
              0.7777777777777778,
              "#fb9f3a"
             ],
             [
              0.8888888888888888,
              "#fdca26"
             ],
             [
              1,
              "#f0f921"
             ]
            ],
            "type": "surface"
           }
          ],
          "table": [
           {
            "cells": {
             "fill": {
              "color": "#EBF0F8"
             },
             "line": {
              "color": "white"
             }
            },
            "header": {
             "fill": {
              "color": "#C8D4E3"
             },
             "line": {
              "color": "white"
             }
            },
            "type": "table"
           }
          ]
         },
         "layout": {
          "annotationdefaults": {
           "arrowcolor": "#2a3f5f",
           "arrowhead": 0,
           "arrowwidth": 1
          },
          "colorscale": {
           "diverging": [
            [
             0,
             "#8e0152"
            ],
            [
             0.1,
             "#c51b7d"
            ],
            [
             0.2,
             "#de77ae"
            ],
            [
             0.3,
             "#f1b6da"
            ],
            [
             0.4,
             "#fde0ef"
            ],
            [
             0.5,
             "#f7f7f7"
            ],
            [
             0.6,
             "#e6f5d0"
            ],
            [
             0.7,
             "#b8e186"
            ],
            [
             0.8,
             "#7fbc41"
            ],
            [
             0.9,
             "#4d9221"
            ],
            [
             1,
             "#276419"
            ]
           ],
           "sequential": [
            [
             0,
             "#0d0887"
            ],
            [
             0.1111111111111111,
             "#46039f"
            ],
            [
             0.2222222222222222,
             "#7201a8"
            ],
            [
             0.3333333333333333,
             "#9c179e"
            ],
            [
             0.4444444444444444,
             "#bd3786"
            ],
            [
             0.5555555555555556,
             "#d8576b"
            ],
            [
             0.6666666666666666,
             "#ed7953"
            ],
            [
             0.7777777777777778,
             "#fb9f3a"
            ],
            [
             0.8888888888888888,
             "#fdca26"
            ],
            [
             1,
             "#f0f921"
            ]
           ],
           "sequentialminus": [
            [
             0,
             "#0d0887"
            ],
            [
             0.1111111111111111,
             "#46039f"
            ],
            [
             0.2222222222222222,
             "#7201a8"
            ],
            [
             0.3333333333333333,
             "#9c179e"
            ],
            [
             0.4444444444444444,
             "#bd3786"
            ],
            [
             0.5555555555555556,
             "#d8576b"
            ],
            [
             0.6666666666666666,
             "#ed7953"
            ],
            [
             0.7777777777777778,
             "#fb9f3a"
            ],
            [
             0.8888888888888888,
             "#fdca26"
            ],
            [
             1,
             "#f0f921"
            ]
           ]
          },
          "colorway": [
           "#636efa",
           "#EF553B",
           "#00cc96",
           "#ab63fa",
           "#FFA15A",
           "#19d3f3",
           "#FF6692",
           "#B6E880",
           "#FF97FF",
           "#FECB52"
          ],
          "font": {
           "color": "#2a3f5f"
          },
          "geo": {
           "bgcolor": "white",
           "lakecolor": "white",
           "landcolor": "#E5ECF6",
           "showlakes": true,
           "showland": true,
           "subunitcolor": "white"
          },
          "hoverlabel": {
           "align": "left"
          },
          "hovermode": "closest",
          "mapbox": {
           "style": "light"
          },
          "paper_bgcolor": "white",
          "plot_bgcolor": "#E5ECF6",
          "polar": {
           "angularaxis": {
            "gridcolor": "white",
            "linecolor": "white",
            "ticks": ""
           },
           "bgcolor": "#E5ECF6",
           "radialaxis": {
            "gridcolor": "white",
            "linecolor": "white",
            "ticks": ""
           }
          },
          "scene": {
           "xaxis": {
            "backgroundcolor": "#E5ECF6",
            "gridcolor": "white",
            "gridwidth": 2,
            "linecolor": "white",
            "showbackground": true,
            "ticks": "",
            "zerolinecolor": "white"
           },
           "yaxis": {
            "backgroundcolor": "#E5ECF6",
            "gridcolor": "white",
            "gridwidth": 2,
            "linecolor": "white",
            "showbackground": true,
            "ticks": "",
            "zerolinecolor": "white"
           },
           "zaxis": {
            "backgroundcolor": "#E5ECF6",
            "gridcolor": "white",
            "gridwidth": 2,
            "linecolor": "white",
            "showbackground": true,
            "ticks": "",
            "zerolinecolor": "white"
           }
          },
          "shapedefaults": {
           "line": {
            "color": "#2a3f5f"
           }
          },
          "ternary": {
           "aaxis": {
            "gridcolor": "white",
            "linecolor": "white",
            "ticks": ""
           },
           "baxis": {
            "gridcolor": "white",
            "linecolor": "white",
            "ticks": ""
           },
           "bgcolor": "#E5ECF6",
           "caxis": {
            "gridcolor": "white",
            "linecolor": "white",
            "ticks": ""
           }
          },
          "title": {
           "x": 0.05
          },
          "xaxis": {
           "automargin": true,
           "gridcolor": "white",
           "linecolor": "white",
           "ticks": "",
           "zerolinecolor": "white",
           "zerolinewidth": 2
          },
          "yaxis": {
           "automargin": true,
           "gridcolor": "white",
           "linecolor": "white",
           "ticks": "",
           "zerolinecolor": "white",
           "zerolinewidth": 2
          }
         }
        },
        "title": {
         "text": "Correlation Between Predcitors and Student Count for United Kingdom"
        },
        "width": 1000
       }
      },
      "text/html": [
       "<div>\n",
       "        \n",
       "        \n",
       "            <div id=\"0319a037-cac8-495e-88b9-2eeb202467ac\" class=\"plotly-graph-div\" style=\"height:1000px; width:1000px;\"></div>\n",
       "            <script type=\"text/javascript\">\n",
       "                require([\"plotly\"], function(Plotly) {\n",
       "                    window.PLOTLYENV=window.PLOTLYENV || {};\n",
       "                    \n",
       "                if (document.getElementById(\"0319a037-cac8-495e-88b9-2eeb202467ac\")) {\n",
       "                    Plotly.newPlot(\n",
       "                        '0319a037-cac8-495e-88b9-2eeb202467ac',\n",
       "                        [{\"colorscale\": [[0.0, \"rgb(158,1,66)\"], [0.1, \"rgb(213,62,79)\"], [0.2, \"rgb(244,109,67)\"], [0.3, \"rgb(253,174,97)\"], [0.4, \"rgb(254,224,139)\"], [0.5, \"rgb(255,255,191)\"], [0.6, \"rgb(230,245,152)\"], [0.7, \"rgb(171,221,164)\"], [0.8, \"rgb(102,194,165)\"], [0.9, \"rgb(50,136,189)\"], [1.0, \"rgb(94,79,162)\"]], \"reversescale\": true, \"type\": \"heatmap\", \"x\": [\"china_student_count\", \"India_student_count\", \"malaysia_student_count\", \"indonesia_student_count\"], \"y\": [\"year\", \"dst_distance\", \"dst_average_wage\", \"dst_rate_of_one_usd\", \"dst_cpi\", \"dst_qoe_top20\", \"dst_qoe_top100\", \"dst_qoe_top200\", \"dst_qoe_top500\", \"src_population\", \"src_qoe_top20\", \"src_qoe_top100\", \"src_qoe_top200\", \"src_qoe_top500\", \"src_gni\", \"src_gdp\", \"src_rate_of_one_usd\", \"src_tertiary_enrolment\", \"year_1y_shift\", \"dst_distance_1y_shift\", \"dst_students_count_1y_shift\", \"dst_average_wage_1y_shift\", \"dst_rate_of_one_usd_1y_shift\", \"dst_cpi_1y_shift\", \"dst_qoe_top20_1y_shift\", \"dst_qoe_top100_1y_shift\", \"dst_qoe_top200_1y_shift\", \"dst_qoe_top500_1y_shift\", \"src_population_1y_shift\", \"src_qoe_top20_1y_shift\", \"src_qoe_top100_1y_shift\", \"src_qoe_top200_1y_shift\", \"src_qoe_top500_1y_shift\", \"src_gni_1y_shift\", \"src_gdp_1y_shift\", \"src_rate_of_one_usd_1y_shift\", \"src_tertiary_enrolment_1y_shift\", \"year_2y_shift\", \"dst_distance_2y_shift\", \"dst_students_count_2y_shift\", \"dst_average_wage_2y_shift\", \"dst_rate_of_one_usd_2y_shift\", \"dst_cpi_2y_shift\", \"dst_qoe_top20_2y_shift\", \"dst_qoe_top100_2y_shift\", \"dst_qoe_top200_2y_shift\", \"dst_qoe_top500_2y_shift\", \"src_population_2y_shift\", \"src_qoe_top20_2y_shift\", \"src_qoe_top100_2y_shift\", \"src_qoe_top200_2y_shift\", \"src_qoe_top500_2y_shift\", \"src_gni_2y_shift\", \"src_gdp_2y_shift\", \"src_rate_of_one_usd_2y_shift\", \"src_tertiary_enrolment_2y_shift\"], \"z\": [[0.9694469138408249, 0.6855607923068425, 0.5032624363345093, 0.7259696688899372], [0.0, 0.0, 0.0, 0.0], [0.7018765625006185, 0.8225193729045098, 0.2891486389038677, 0.2406482388332318], [0.05642736819488242, -0.1486087798084659, 0.19265183754895263, 0.46134063050200014], [0.9488243207677303, 0.6540236501562725, 0.553916795598064, 0.7434329695063329], [0.8297502586861464, 0.5694917522154309, 0.7332602928794696, 0.7051856846222957], [-0.9207180580019544, -0.5403841092081126, -0.6828633233138778, -0.7616282389070356], [-0.007115158184287179, 0.11062212025165999, 0.08112767263857232, 0.043176526836048286], [-0.8923735529814495, -0.6592986297368586, -0.44887744612826885, -0.6635421323037982], [0.9708318576193937, 0.7098517199698503, 0.47566565258169485, 0.7408989986153229], [0.0, 0.0, 0.0, 0.0], [0.33765417454460156, 0.0, 0.0, 0.0], [0.8852903774330383, 0.0, 0.0, 0.0], [0.959515282405271, -0.6758327923840817, 0.713244640741391, 0.0], [0.917997565818513, 0.6765762073891597, 0.5608502256561064, 0.692881867344679], [0.9180385067921147, 0.6815336666411752, 0.48766189588949377, 0.6685354018384881], [-0.8537295365110193, 0.12032339652616328, 0.12639311032710468, 0.8795965405050555], [0.9445934913064006, 0.5914243294298446, 0.47830529820541257, 0.7592651634204864], [0.9440019842242833, 0.6462500009768704, 0.39837523208441117, 0.6869414779431849], [0.0, 0.0, 0.0, 0.0], [0.9878552371704599, 0.9905833674808833, 0.9713642160216718, 0.9866807613809783], [0.6708933421832428, 0.7854054363123526, 0.2307572157129059, 0.23577518226509894], [0.039559983859519886, -0.1837128112800199, 0.28770732662900417, 0.5238408370249552], [0.9192079208890869, 0.621818408889395, 0.4484719180356074, 0.6946253830633047], [0.9028590020911648, 0.6440437643935625, 0.6332097130445802, 0.6709335537984372], [-0.9490796460281299, -0.551166267787435, -0.5897364809940457, -0.724652169535326], [-0.01196188078006857, 0.11206944131777338, 0.04948458375097551, 0.057221764676859604], [-0.8571456685536478, -0.6256065082556694, -0.3859461376675013, -0.6244046013785634], [0.9459187344265501, 0.6723479332346832, 0.37013522609843996, 0.7015105960397491], [0.0, 0.0, 0.0, 0.0], [0.35572907450010055, 0.0, 0.0, 0.0], [0.897990627631756, 0.0, 0.0, 0.0], [0.9280531627341175, -0.6960610278106403, 0.6405847369736339, 0.0], [0.9038726077641365, 0.6531426859353356, 0.4446083627187826, 0.634429141213456], [0.8988712999829894, 0.6599125847411742, 0.3701738489599192, 0.6187324054050226], [-0.8107343494134494, 0.04420515178776216, 0.22428851254080043, 0.8559813376833276], [0.9362260102552751, 0.5535364079147934, 0.4007986817653572, 0.7063399018933207], [0.8879613985532544, 0.6066786070685082, 0.368670393851068, 0.6468930751078903], [0.0, 0.0, 0.0, 0.0], [0.9583371015702011, 0.9716433242729846, 0.9094699003046463, 0.9664504737876], [0.6024296833351025, 0.7444761381974361, 0.17228573896013416, 0.21431539634376473], [0.02838130933167454, -0.19428099215950242, 0.4843011803184982, 0.5088425458344548], [0.8587585233854884, 0.5963162360622947, 0.4294977780741229, 0.6528879583119424], [0.8923087785656985, 0.5909728776811056, 0.5585874951635363, 0.6472130424446946], [-0.9209348875146388, -0.5125117442117142, -0.5651368816686912, -0.7161730826003619], [-0.07518113621852397, 0.12131539001970418, 0.03530004799115321, -0.016719401978943765], [-0.8053428586559168, -0.5821864311120263, -0.34913757975284304, -0.5946376028689788], [0.8903675792739766, 0.6352004475576443, 0.34015903028438327, 0.6616460042288991], [0.0, 0.0, 0.0, 0.0], [0.36813570334933277, 0.0, 0.0, 0.0], [0.8942584843759622, 0.0, 0.0, 0.0], [0.8630283824733181, -0.7057121129592305, 0.6468238246858348, 0.0], [0.860010986269892, 0.631947404634863, 0.41425373367273266, 0.5931469795163228], [0.8512240455928288, 0.6326961636720592, 0.35283979725552056, 0.5847175529797177], [-0.7241648360223862, -0.005327673992663071, 0.20187229595114234, 0.7926965448503946], [0.9062723120229261, 0.5221028248022169, 0.3665107802785923, 0.6649761737220342]]}],\n",
       "                        {\"autosize\": false, \"height\": 1000, \"template\": {\"data\": {\"bar\": [{\"error_x\": {\"color\": \"#2a3f5f\"}, \"error_y\": {\"color\": \"#2a3f5f\"}, \"marker\": {\"line\": {\"color\": \"#E5ECF6\", \"width\": 0.5}}, \"type\": \"bar\"}], \"barpolar\": [{\"marker\": {\"line\": {\"color\": \"#E5ECF6\", \"width\": 0.5}}, \"type\": \"barpolar\"}], \"carpet\": [{\"aaxis\": {\"endlinecolor\": \"#2a3f5f\", \"gridcolor\": \"white\", \"linecolor\": \"white\", \"minorgridcolor\": \"white\", \"startlinecolor\": \"#2a3f5f\"}, \"baxis\": {\"endlinecolor\": \"#2a3f5f\", \"gridcolor\": \"white\", \"linecolor\": \"white\", \"minorgridcolor\": \"white\", \"startlinecolor\": \"#2a3f5f\"}, \"type\": \"carpet\"}], \"choropleth\": [{\"colorbar\": {\"outlinewidth\": 0, \"ticks\": \"\"}, \"type\": \"choropleth\"}], \"contour\": [{\"colorbar\": {\"outlinewidth\": 0, \"ticks\": \"\"}, \"colorscale\": [[0.0, \"#0d0887\"], [0.1111111111111111, \"#46039f\"], [0.2222222222222222, \"#7201a8\"], [0.3333333333333333, \"#9c179e\"], [0.4444444444444444, \"#bd3786\"], [0.5555555555555556, \"#d8576b\"], [0.6666666666666666, \"#ed7953\"], [0.7777777777777778, \"#fb9f3a\"], [0.8888888888888888, \"#fdca26\"], [1.0, \"#f0f921\"]], \"type\": \"contour\"}], \"contourcarpet\": [{\"colorbar\": {\"outlinewidth\": 0, \"ticks\": \"\"}, \"type\": \"contourcarpet\"}], \"heatmap\": [{\"colorbar\": {\"outlinewidth\": 0, \"ticks\": \"\"}, \"colorscale\": [[0.0, \"#0d0887\"], [0.1111111111111111, \"#46039f\"], [0.2222222222222222, \"#7201a8\"], [0.3333333333333333, \"#9c179e\"], [0.4444444444444444, \"#bd3786\"], [0.5555555555555556, \"#d8576b\"], [0.6666666666666666, \"#ed7953\"], [0.7777777777777778, \"#fb9f3a\"], [0.8888888888888888, \"#fdca26\"], [1.0, \"#f0f921\"]], \"type\": \"heatmap\"}], \"heatmapgl\": [{\"colorbar\": {\"outlinewidth\": 0, \"ticks\": \"\"}, \"colorscale\": [[0.0, \"#0d0887\"], [0.1111111111111111, \"#46039f\"], [0.2222222222222222, \"#7201a8\"], [0.3333333333333333, \"#9c179e\"], [0.4444444444444444, \"#bd3786\"], [0.5555555555555556, \"#d8576b\"], [0.6666666666666666, \"#ed7953\"], [0.7777777777777778, \"#fb9f3a\"], [0.8888888888888888, \"#fdca26\"], [1.0, \"#f0f921\"]], \"type\": \"heatmapgl\"}], \"histogram\": [{\"marker\": {\"colorbar\": {\"outlinewidth\": 0, \"ticks\": \"\"}}, \"type\": \"histogram\"}], \"histogram2d\": [{\"colorbar\": {\"outlinewidth\": 0, \"ticks\": \"\"}, \"colorscale\": [[0.0, \"#0d0887\"], [0.1111111111111111, \"#46039f\"], [0.2222222222222222, \"#7201a8\"], [0.3333333333333333, \"#9c179e\"], [0.4444444444444444, \"#bd3786\"], [0.5555555555555556, \"#d8576b\"], [0.6666666666666666, \"#ed7953\"], [0.7777777777777778, \"#fb9f3a\"], [0.8888888888888888, \"#fdca26\"], [1.0, \"#f0f921\"]], \"type\": \"histogram2d\"}], \"histogram2dcontour\": [{\"colorbar\": {\"outlinewidth\": 0, \"ticks\": \"\"}, \"colorscale\": [[0.0, \"#0d0887\"], [0.1111111111111111, \"#46039f\"], [0.2222222222222222, \"#7201a8\"], [0.3333333333333333, \"#9c179e\"], [0.4444444444444444, \"#bd3786\"], [0.5555555555555556, \"#d8576b\"], [0.6666666666666666, \"#ed7953\"], [0.7777777777777778, \"#fb9f3a\"], [0.8888888888888888, \"#fdca26\"], [1.0, \"#f0f921\"]], \"type\": \"histogram2dcontour\"}], \"mesh3d\": [{\"colorbar\": {\"outlinewidth\": 0, \"ticks\": \"\"}, \"type\": \"mesh3d\"}], \"parcoords\": [{\"line\": {\"colorbar\": {\"outlinewidth\": 0, \"ticks\": \"\"}}, \"type\": \"parcoords\"}], \"scatter\": [{\"marker\": {\"colorbar\": {\"outlinewidth\": 0, \"ticks\": \"\"}}, \"type\": \"scatter\"}], \"scatter3d\": [{\"line\": {\"colorbar\": {\"outlinewidth\": 0, \"ticks\": \"\"}}, \"marker\": {\"colorbar\": {\"outlinewidth\": 0, \"ticks\": \"\"}}, \"type\": \"scatter3d\"}], \"scattercarpet\": [{\"marker\": {\"colorbar\": {\"outlinewidth\": 0, \"ticks\": \"\"}}, \"type\": \"scattercarpet\"}], \"scattergeo\": [{\"marker\": {\"colorbar\": {\"outlinewidth\": 0, \"ticks\": \"\"}}, \"type\": \"scattergeo\"}], \"scattergl\": [{\"marker\": {\"colorbar\": {\"outlinewidth\": 0, \"ticks\": \"\"}}, \"type\": \"scattergl\"}], \"scattermapbox\": [{\"marker\": {\"colorbar\": {\"outlinewidth\": 0, \"ticks\": \"\"}}, \"type\": \"scattermapbox\"}], \"scatterpolar\": [{\"marker\": {\"colorbar\": {\"outlinewidth\": 0, \"ticks\": \"\"}}, \"type\": \"scatterpolar\"}], \"scatterpolargl\": [{\"marker\": {\"colorbar\": {\"outlinewidth\": 0, \"ticks\": \"\"}}, \"type\": \"scatterpolargl\"}], \"scatterternary\": [{\"marker\": {\"colorbar\": {\"outlinewidth\": 0, \"ticks\": \"\"}}, \"type\": \"scatterternary\"}], \"surface\": [{\"colorbar\": {\"outlinewidth\": 0, \"ticks\": \"\"}, \"colorscale\": [[0.0, \"#0d0887\"], [0.1111111111111111, \"#46039f\"], [0.2222222222222222, \"#7201a8\"], [0.3333333333333333, \"#9c179e\"], [0.4444444444444444, \"#bd3786\"], [0.5555555555555556, \"#d8576b\"], [0.6666666666666666, \"#ed7953\"], [0.7777777777777778, \"#fb9f3a\"], [0.8888888888888888, \"#fdca26\"], [1.0, \"#f0f921\"]], \"type\": \"surface\"}], \"table\": [{\"cells\": {\"fill\": {\"color\": \"#EBF0F8\"}, \"line\": {\"color\": \"white\"}}, \"header\": {\"fill\": {\"color\": \"#C8D4E3\"}, \"line\": {\"color\": \"white\"}}, \"type\": \"table\"}]}, \"layout\": {\"annotationdefaults\": {\"arrowcolor\": \"#2a3f5f\", \"arrowhead\": 0, \"arrowwidth\": 1}, \"colorscale\": {\"diverging\": [[0, \"#8e0152\"], [0.1, \"#c51b7d\"], [0.2, \"#de77ae\"], [0.3, \"#f1b6da\"], [0.4, \"#fde0ef\"], [0.5, \"#f7f7f7\"], [0.6, \"#e6f5d0\"], [0.7, \"#b8e186\"], [0.8, \"#7fbc41\"], [0.9, \"#4d9221\"], [1, \"#276419\"]], \"sequential\": [[0.0, \"#0d0887\"], [0.1111111111111111, \"#46039f\"], [0.2222222222222222, \"#7201a8\"], [0.3333333333333333, \"#9c179e\"], [0.4444444444444444, \"#bd3786\"], [0.5555555555555556, \"#d8576b\"], [0.6666666666666666, \"#ed7953\"], [0.7777777777777778, \"#fb9f3a\"], [0.8888888888888888, \"#fdca26\"], [1.0, \"#f0f921\"]], \"sequentialminus\": [[0.0, \"#0d0887\"], [0.1111111111111111, \"#46039f\"], [0.2222222222222222, \"#7201a8\"], [0.3333333333333333, \"#9c179e\"], [0.4444444444444444, \"#bd3786\"], [0.5555555555555556, \"#d8576b\"], [0.6666666666666666, \"#ed7953\"], [0.7777777777777778, \"#fb9f3a\"], [0.8888888888888888, \"#fdca26\"], [1.0, \"#f0f921\"]]}, \"colorway\": [\"#636efa\", \"#EF553B\", \"#00cc96\", \"#ab63fa\", \"#FFA15A\", \"#19d3f3\", \"#FF6692\", \"#B6E880\", \"#FF97FF\", \"#FECB52\"], \"font\": {\"color\": \"#2a3f5f\"}, \"geo\": {\"bgcolor\": \"white\", \"lakecolor\": \"white\", \"landcolor\": \"#E5ECF6\", \"showlakes\": true, \"showland\": true, \"subunitcolor\": \"white\"}, \"hoverlabel\": {\"align\": \"left\"}, \"hovermode\": \"closest\", \"mapbox\": {\"style\": \"light\"}, \"paper_bgcolor\": \"white\", \"plot_bgcolor\": \"#E5ECF6\", \"polar\": {\"angularaxis\": {\"gridcolor\": \"white\", \"linecolor\": \"white\", \"ticks\": \"\"}, \"bgcolor\": \"#E5ECF6\", \"radialaxis\": {\"gridcolor\": \"white\", \"linecolor\": \"white\", \"ticks\": \"\"}}, \"scene\": {\"xaxis\": {\"backgroundcolor\": \"#E5ECF6\", \"gridcolor\": \"white\", \"gridwidth\": 2, \"linecolor\": \"white\", \"showbackground\": true, \"ticks\": \"\", \"zerolinecolor\": \"white\"}, \"yaxis\": {\"backgroundcolor\": \"#E5ECF6\", \"gridcolor\": \"white\", \"gridwidth\": 2, \"linecolor\": \"white\", \"showbackground\": true, \"ticks\": \"\", \"zerolinecolor\": \"white\"}, \"zaxis\": {\"backgroundcolor\": \"#E5ECF6\", \"gridcolor\": \"white\", \"gridwidth\": 2, \"linecolor\": \"white\", \"showbackground\": true, \"ticks\": \"\", \"zerolinecolor\": \"white\"}}, \"shapedefaults\": {\"line\": {\"color\": \"#2a3f5f\"}}, \"ternary\": {\"aaxis\": {\"gridcolor\": \"white\", \"linecolor\": \"white\", \"ticks\": \"\"}, \"baxis\": {\"gridcolor\": \"white\", \"linecolor\": \"white\", \"ticks\": \"\"}, \"bgcolor\": \"#E5ECF6\", \"caxis\": {\"gridcolor\": \"white\", \"linecolor\": \"white\", \"ticks\": \"\"}}, \"title\": {\"x\": 0.05}, \"xaxis\": {\"automargin\": true, \"gridcolor\": \"white\", \"linecolor\": \"white\", \"ticks\": \"\", \"zerolinecolor\": \"white\", \"zerolinewidth\": 2}, \"yaxis\": {\"automargin\": true, \"gridcolor\": \"white\", \"linecolor\": \"white\", \"ticks\": \"\", \"zerolinecolor\": \"white\", \"zerolinewidth\": 2}}}, \"title\": {\"text\": \"Correlation Between Predcitors and Student Count for United Kingdom\"}, \"width\": 1000},\n",
       "                        {\"responsive\": true}\n",
       "                    ).then(function(){\n",
       "                            \n",
       "var gd = document.getElementById('0319a037-cac8-495e-88b9-2eeb202467ac');\n",
       "var x = new MutationObserver(function (mutations, observer) {{\n",
       "        var display = window.getComputedStyle(gd).display;\n",
       "        if (!display || display === 'none') {{\n",
       "            console.log([gd, 'removed!']);\n",
       "            Plotly.purge(gd);\n",
       "            observer.disconnect();\n",
       "        }}\n",
       "}});\n",
       "\n",
       "// Listen for the removal of the full notebook cells\n",
       "var notebookContainer = gd.closest('#notebook-container');\n",
       "if (notebookContainer) {{\n",
       "    x.observe(notebookContainer, {childList: true});\n",
       "}}\n",
       "\n",
       "// Listen for the clearing of the current output cell\n",
       "var outputEl = gd.closest('.output');\n",
       "if (outputEl) {{\n",
       "    x.observe(outputEl, {childList: true});\n",
       "}}\n",
       "\n",
       "                        })\n",
       "                };\n",
       "                });\n",
       "            </script>\n",
       "        </div>"
      ]
     },
     "metadata": {},
     "output_type": "display_data"
    }
   ],
   "source": [
    "corr_df = corr_df.T\n",
    "trace = go.Heatmap(z=corr_df.values,\n",
    "                   x=corr_df.columns.values,\n",
    "                   y=corr_df.index.values,\n",
    "                   colorscale='spectral',\n",
    "                   reversescale=True)\n",
    "\n",
    "layout = go.Layout(\n",
    "    title=\"Correlation Between Predcitors and Student Count for United Kingdom\",\n",
    "    autosize=False,\n",
    "    width=1000,\n",
    "    height=1000)\n",
    "\n",
    "fig = go.Figure(data=trace, layout=layout)\n",
    "iplot(fig)"
   ]
  },
  {
   "cell_type": "code",
   "execution_count": null,
   "metadata": {
    "collapsed": true,
    "deletable": true,
    "editable": true
   },
   "outputs": [],
   "source": []
  }
 ],
 "metadata": {
  "kernelspec": {
   "display_name": "PyCharm (Desktop)",
   "language": "python",
   "name": "pycharm-db28d4c2"
  },
  "language_info": {
   "codemirror_mode": {
    "name": "ipython",
    "version": 3
   },
   "file_extension": ".py",
   "mimetype": "text/x-python",
   "name": "python",
   "nbconvert_exporter": "python",
   "pygments_lexer": "ipython3",
   "version": "3.7.3"
  }
 },
 "nbformat": 4,
 "nbformat_minor": 2
}
