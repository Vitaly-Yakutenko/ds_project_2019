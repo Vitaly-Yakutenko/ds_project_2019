{
 "cells": [
  {
   "cell_type": "code",
   "execution_count": 1,
   "metadata": {},
   "outputs": [],
   "source": [
    "import os\n",
    "os.chdir('../../')"
   ]
  },
  {
   "cell_type": "code",
   "execution_count": 2,
   "metadata": {},
   "outputs": [],
   "source": [
    "import pandas as pd\n",
    "import pandas_gbq\n",
    "from google.oauth2 import service_account"
   ]
  },
  {
   "cell_type": "code",
   "execution_count": 3,
   "metadata": {},
   "outputs": [],
   "source": [
    "SERVICE_ACCOUNT = 'private/bigquery-write-access.json'\n",
    "DATASET = 'student_counts'\n",
    "credentials = service_account.Credentials.from_service_account_file(SERVICE_ACCOUNT)"
   ]
  },
  {
   "cell_type": "markdown",
   "metadata": {},
   "source": [
    "# USA ennrollments"
   ]
  },
  {
   "cell_type": "code",
   "execution_count": 7,
   "metadata": {},
   "outputs": [],
   "source": [
    "df = pd.read_csv('data/USA_enrollments.csv', index_col=['Country', 'Year'], encoding=\"utf-8\")\n",
    "df.columns.name = 'study_level'\n",
    "df = df.stack()\n",
    "df.name = 'students_count'\n",
    "df = df.reset_index()"
   ]
  },
  {
   "cell_type": "code",
   "execution_count": 5,
   "metadata": {},
   "outputs": [],
   "source": [
    "df.to_csv('data/USA_enrollments_transformed.csv', index=False)"
   ]
  },
  {
   "cell_type": "markdown",
   "metadata": {},
   "source": [
    "# UK ennrollments"
   ]
  },
  {
   "cell_type": "code",
   "execution_count": 12,
   "metadata": {},
   "outputs": [],
   "source": [
    "study_level_map = {\"UG\": \"UG\", \"UG Other\": \"UG\", \"PG R\": \"PG\", \"PG CW\": \"PG\", \"PG Other\": \"PG\"}"
   ]
  },
  {
   "cell_type": "code",
   "execution_count": 13,
   "metadata": {},
   "outputs": [
    {
     "data": {
      "text/html": [
       "<div>\n",
       "<style scoped>\n",
       "    .dataframe tbody tr th:only-of-type {\n",
       "        vertical-align: middle;\n",
       "    }\n",
       "\n",
       "    .dataframe tbody tr th {\n",
       "        vertical-align: top;\n",
       "    }\n",
       "\n",
       "    .dataframe thead th {\n",
       "        text-align: right;\n",
       "    }\n",
       "</style>\n",
       "<table border=\"1\" class=\"dataframe\">\n",
       "  <thead>\n",
       "    <tr style=\"text-align: right;\">\n",
       "      <th></th>\n",
       "      <th>hesa_country</th>\n",
       "      <th>country</th>\n",
       "      <th>year</th>\n",
       "      <th>detailed_study_level</th>\n",
       "      <th>students_count</th>\n",
       "      <th>study_level</th>\n",
       "    </tr>\n",
       "  </thead>\n",
       "  <tbody>\n",
       "    <tr>\n",
       "      <th>0</th>\n",
       "      <td>Albania</td>\n",
       "      <td>Albania</td>\n",
       "      <td>2004/2005</td>\n",
       "      <td>PG R</td>\n",
       "      <td>30</td>\n",
       "      <td>PG</td>\n",
       "    </tr>\n",
       "    <tr>\n",
       "      <th>1</th>\n",
       "      <td>Albania</td>\n",
       "      <td>Albania</td>\n",
       "      <td>2004/2005</td>\n",
       "      <td>PG CW</td>\n",
       "      <td>55</td>\n",
       "      <td>PG</td>\n",
       "    </tr>\n",
       "    <tr>\n",
       "      <th>2</th>\n",
       "      <td>Albania</td>\n",
       "      <td>Albania</td>\n",
       "      <td>2004/2005</td>\n",
       "      <td>PG Other</td>\n",
       "      <td>15</td>\n",
       "      <td>PG</td>\n",
       "    </tr>\n",
       "    <tr>\n",
       "      <th>3</th>\n",
       "      <td>Albania</td>\n",
       "      <td>Albania</td>\n",
       "      <td>2004/2005</td>\n",
       "      <td>UG</td>\n",
       "      <td>115</td>\n",
       "      <td>UG</td>\n",
       "    </tr>\n",
       "    <tr>\n",
       "      <th>4</th>\n",
       "      <td>Albania</td>\n",
       "      <td>Albania</td>\n",
       "      <td>2004/2005</td>\n",
       "      <td>UG Other</td>\n",
       "      <td>20</td>\n",
       "      <td>UG</td>\n",
       "    </tr>\n",
       "  </tbody>\n",
       "</table>\n",
       "</div>"
      ],
      "text/plain": [
       "  hesa_country  country       year detailed_study_level  students_count  \\\n",
       "0      Albania  Albania  2004/2005                 PG R              30   \n",
       "1      Albania  Albania  2004/2005                PG CW              55   \n",
       "2      Albania  Albania  2004/2005             PG Other              15   \n",
       "3      Albania  Albania  2004/2005                   UG             115   \n",
       "4      Albania  Albania  2004/2005             UG Other              20   \n",
       "\n",
       "  study_level  \n",
       "0          PG  \n",
       "1          PG  \n",
       "2          PG  \n",
       "3          UG  \n",
       "4          UG  "
      ]
     },
     "execution_count": 13,
     "metadata": {},
     "output_type": "execute_result"
    }
   ],
   "source": [
    "df = pd.read_csv('data/UK_students_count.csv', index_col=['hesa_country', 'country', 'year'],\n",
    "                 encoding=\"utf-8\").fillna(0).astype(int)\n",
    "df.columns.name = 'detailed_study_level'\n",
    "df = df.stack()\n",
    "df.name = 'students_count'\n",
    "df = df.reset_index()\n",
    "df['study_level'] = df.detailed_study_level.apply(lambda x: study_level_map[x])\n",
    "df['country'] = df.country.str.strip()\n",
    "df.head()"
   ]
  },
  {
   "cell_type": "code",
   "execution_count": 14,
   "metadata": {},
   "outputs": [
    {
     "name": "stderr",
     "output_type": "stream",
     "text": [
      "1it [00:15, 15.36s/it]\n"
     ]
    }
   ],
   "source": [
    "table_full_name = '{}.{}'.format(DATASET, 'uk_int_student_counts')\n",
    "df.to_gbq(table_full_name, credentials.project_id, credentials=credentials, if_exists='replace')"
   ]
  },
  {
   "cell_type": "markdown",
   "metadata": {},
   "source": [
    "# Canada"
   ]
  },
  {
   "cell_type": "code",
   "execution_count": 15,
   "metadata": {},
   "outputs": [
    {
     "data": {
      "text/html": [
       "<div>\n",
       "<style scoped>\n",
       "    .dataframe tbody tr th:only-of-type {\n",
       "        vertical-align: middle;\n",
       "    }\n",
       "\n",
       "    .dataframe tbody tr th {\n",
       "        vertical-align: top;\n",
       "    }\n",
       "\n",
       "    .dataframe thead th {\n",
       "        text-align: right;\n",
       "    }\n",
       "</style>\n",
       "<table border=\"1\" class=\"dataframe\">\n",
       "  <thead>\n",
       "    <tr style=\"text-align: right;\">\n",
       "      <th></th>\n",
       "      <th>year</th>\n",
       "      <th>institution_type</th>\n",
       "      <th>country</th>\n",
       "      <th>students_count</th>\n",
       "    </tr>\n",
       "  </thead>\n",
       "  <tbody>\n",
       "    <tr>\n",
       "      <th>0</th>\n",
       "      <td>2000/2001</td>\n",
       "      <td>University</td>\n",
       "      <td>Greenland</td>\n",
       "      <td>0</td>\n",
       "    </tr>\n",
       "    <tr>\n",
       "      <th>1</th>\n",
       "      <td>2001/2002</td>\n",
       "      <td>University</td>\n",
       "      <td>Greenland</td>\n",
       "      <td>3</td>\n",
       "    </tr>\n",
       "    <tr>\n",
       "      <th>2</th>\n",
       "      <td>2002/2003</td>\n",
       "      <td>University</td>\n",
       "      <td>Greenland</td>\n",
       "      <td>0</td>\n",
       "    </tr>\n",
       "    <tr>\n",
       "      <th>3</th>\n",
       "      <td>2003/2004</td>\n",
       "      <td>University</td>\n",
       "      <td>Greenland</td>\n",
       "      <td>0</td>\n",
       "    </tr>\n",
       "    <tr>\n",
       "      <th>4</th>\n",
       "      <td>2004/2005</td>\n",
       "      <td>University</td>\n",
       "      <td>Greenland</td>\n",
       "      <td>0</td>\n",
       "    </tr>\n",
       "  </tbody>\n",
       "</table>\n",
       "</div>"
      ],
      "text/plain": [
       "        year institution_type    country  students_count\n",
       "0  2000/2001       University  Greenland               0\n",
       "1  2001/2002       University  Greenland               3\n",
       "2  2002/2003       University  Greenland               0\n",
       "3  2003/2004       University  Greenland               0\n",
       "4  2004/2005       University  Greenland               0"
      ]
     },
     "execution_count": 15,
     "metadata": {},
     "output_type": "execute_result"
    }
   ],
   "source": [
    "df = pd.read_csv('data/Canada_international_students.csv', encoding=\"utf-8\")\n",
    "df['students_count'] = df.students_count.fillna(0).astype(int)\n",
    "df['country'] = df.country.str.strip()\n",
    "df.head()"
   ]
  },
  {
   "cell_type": "code",
   "execution_count": 16,
   "metadata": {},
   "outputs": [
    {
     "name": "stderr",
     "output_type": "stream",
     "text": [
      "1it [00:14, 14.11s/it]\n"
     ]
    }
   ],
   "source": [
    "table_full_name = '{}.{}'.format(DATASET, 'canada_int_student_counts')\n",
    "df.to_gbq(table_full_name, credentials.project_id, credentials=credentials, if_exists='replace')"
   ]
  },
  {
   "cell_type": "code",
   "execution_count": null,
   "metadata": {},
   "outputs": [],
   "source": []
  }
 ],
 "metadata": {
  "hide_input": false,
  "kernelspec": {
   "display_name": "Python 3",
   "language": "python",
   "name": "python3"
  },
  "language_info": {
   "codemirror_mode": {
    "name": "ipython",
    "version": 3
   },
   "file_extension": ".py",
   "mimetype": "text/x-python",
   "name": "python",
   "nbconvert_exporter": "python",
   "pygments_lexer": "ipython3",
   "version": "3.6.7"
  },
  "toc": {
   "nav_menu": {},
   "number_sections": true,
   "sideBar": true,
   "skip_h1_title": false,
   "toc_cell": false,
   "toc_position": {},
   "toc_section_display": "block",
   "toc_window_display": true
  }
 },
 "nbformat": 4,
 "nbformat_minor": 2
}
