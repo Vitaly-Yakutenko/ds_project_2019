{
 "cells": [
  {
   "cell_type": "code",
   "execution_count": 1,
   "metadata": {
    "collapsed": true,
    "deletable": true,
    "editable": true
   },
   "outputs": [],
   "source": [
    "import numpy as np\n",
    "import pandas as pd\n",
    "pd.options.display.precision = 2\n",
    "pd.options.display.max_columns = 50"
   ]
  },
  {
   "cell_type": "code",
   "execution_count": 2,
   "metadata": {
    "collapsed": false,
    "deletable": true,
    "editable": true
   },
   "outputs": [
    {
     "name": "stdout",
     "output_type": "stream",
     "text": [
      "/Users/shijunyi/Desktop/学习资料/U of Melbourne/2019 Sem2/Data Science Project/code/python\r\n"
     ]
    }
   ],
   "source": [
    "!pwd\n",
    "import re\n",
    "import os"
   ]
  },
  {
   "cell_type": "code",
   "execution_count": 3,
   "metadata": {
    "collapsed": true,
    "deletable": true,
    "editable": true
   },
   "outputs": [],
   "source": [
    "%matplotlib inline\n",
    "import matplotlib\n",
    "import matplotlib.pyplot as plt\n",
    "matplotlib.rcParams['figure.figsize'] = [15, 10]"
   ]
  },
  {
   "cell_type": "code",
   "execution_count": 4,
   "metadata": {
    "collapsed": false,
    "deletable": true,
    "editable": true
   },
   "outputs": [
    {
     "data": {
      "text/html": [
       "        <script type=\"text/javascript\">\n",
       "        window.PlotlyConfig = {MathJaxConfig: 'local'};\n",
       "        if (window.MathJax) {MathJax.Hub.Config({SVG: {font: \"STIX-Web\"}});}\n",
       "        if (typeof require !== 'undefined') {\n",
       "        require.undef(\"plotly\");\n",
       "        requirejs.config({\n",
       "            paths: {\n",
       "                'plotly': ['https://cdn.plot.ly/plotly-latest.min']\n",
       "            }\n",
       "        });\n",
       "        require(['plotly'], function(Plotly) {\n",
       "            window._Plotly = Plotly;\n",
       "        });\n",
       "        }\n",
       "        </script>\n",
       "        "
      ]
     },
     "metadata": {},
     "output_type": "display_data"
    }
   ],
   "source": [
    "#import seaborn as sns\n",
    "import plotly\n",
    "import plotly.graph_objs as go\n",
    "from plotly.offline import download_plotlyjs, init_notebook_mode, plot, iplot\n",
    "init_notebook_mode(connected=True)"
   ]
  },
  {
   "cell_type": "markdown",
   "metadata": {
    "deletable": true,
    "editable": true
   },
   "source": [
    "# United Kingdom"
   ]
  },
  {
   "cell_type": "markdown",
   "metadata": {
    "deletable": true,
    "editable": true
   },
   "source": [
    "## Read data"
   ]
  },
  {
   "cell_type": "code",
   "execution_count": 5,
   "metadata": {
    "collapsed": false,
    "deletable": true,
    "editable": true
   },
   "outputs": [],
   "source": [
    "aus_factors_df = pd.read_csv('data/nz_combined_factors.csv')"
   ]
  },
  {
   "cell_type": "code",
   "execution_count": 6,
   "metadata": {
    "collapsed": false,
    "deletable": true,
    "editable": true
   },
   "outputs": [
    {
     "data": {
      "text/html": [
       "<div>\n",
       "<style scoped>\n",
       "    .dataframe tbody tr th:only-of-type {\n",
       "        vertical-align: middle;\n",
       "    }\n",
       "\n",
       "    .dataframe tbody tr th {\n",
       "        vertical-align: top;\n",
       "    }\n",
       "\n",
       "    .dataframe thead th {\n",
       "        text-align: right;\n",
       "    }\n",
       "</style>\n",
       "<table border=\"1\" class=\"dataframe\">\n",
       "  <thead>\n",
       "    <tr style=\"text-align: right;\">\n",
       "      <th></th>\n",
       "      <th>year</th>\n",
       "      <th>source_country</th>\n",
       "      <th>destination_country</th>\n",
       "      <th>dst_distance</th>\n",
       "      <th>dst_students_count</th>\n",
       "      <th>dst_average_wage</th>\n",
       "      <th>dst_rate_of_one_usd</th>\n",
       "      <th>dst_cpi</th>\n",
       "      <th>dst_qoe_top20</th>\n",
       "      <th>dst_qoe_top100</th>\n",
       "      <th>dst_qoe_top200</th>\n",
       "      <th>dst_qoe_top500</th>\n",
       "      <th>src_population</th>\n",
       "      <th>src_qoe_top20</th>\n",
       "      <th>src_qoe_top100</th>\n",
       "      <th>src_qoe_top200</th>\n",
       "      <th>src_qoe_top500</th>\n",
       "      <th>src_gni</th>\n",
       "      <th>src_gdp</th>\n",
       "      <th>src_rate_of_one_usd</th>\n",
       "      <th>src_tertiary_enrolment</th>\n",
       "    </tr>\n",
       "  </thead>\n",
       "  <tbody>\n",
       "    <tr>\n",
       "      <td>0</td>\n",
       "      <td>1998</td>\n",
       "      <td>China</td>\n",
       "      <td>New Zealand</td>\n",
       "      <td>11160</td>\n",
       "      <td>78</td>\n",
       "      <td>31643.0</td>\n",
       "      <td>1.87</td>\n",
       "      <td>75.12</td>\n",
       "      <td>0</td>\n",
       "      <td>0</td>\n",
       "      <td>0</td>\n",
       "      <td>5</td>\n",
       "      <td>1241935000</td>\n",
       "      <td>0</td>\n",
       "      <td>0</td>\n",
       "      <td>0</td>\n",
       "      <td>0</td>\n",
       "      <td>800.0</td>\n",
       "      <td>1.03e+12</td>\n",
       "      <td>8.28</td>\n",
       "      <td>5.95</td>\n",
       "    </tr>\n",
       "    <tr>\n",
       "      <td>1</td>\n",
       "      <td>1999</td>\n",
       "      <td>China</td>\n",
       "      <td>New Zealand</td>\n",
       "      <td>11160</td>\n",
       "      <td>247</td>\n",
       "      <td>32192.0</td>\n",
       "      <td>1.89</td>\n",
       "      <td>75.04</td>\n",
       "      <td>0</td>\n",
       "      <td>0</td>\n",
       "      <td>0</td>\n",
       "      <td>5</td>\n",
       "      <td>1252735000</td>\n",
       "      <td>0</td>\n",
       "      <td>0</td>\n",
       "      <td>0</td>\n",
       "      <td>0</td>\n",
       "      <td>860.0</td>\n",
       "      <td>1.09e+12</td>\n",
       "      <td>8.28</td>\n",
       "      <td>6.46</td>\n",
       "    </tr>\n",
       "    <tr>\n",
       "      <td>2</td>\n",
       "      <td>2000</td>\n",
       "      <td>China</td>\n",
       "      <td>New Zealand</td>\n",
       "      <td>11160</td>\n",
       "      <td>1133</td>\n",
       "      <td>31806.0</td>\n",
       "      <td>2.20</td>\n",
       "      <td>77.00</td>\n",
       "      <td>0</td>\n",
       "      <td>0</td>\n",
       "      <td>0</td>\n",
       "      <td>5</td>\n",
       "      <td>1262645000</td>\n",
       "      <td>0</td>\n",
       "      <td>0</td>\n",
       "      <td>0</td>\n",
       "      <td>4</td>\n",
       "      <td>940.0</td>\n",
       "      <td>1.21e+12</td>\n",
       "      <td>8.28</td>\n",
       "      <td>7.62</td>\n",
       "    </tr>\n",
       "    <tr>\n",
       "      <td>3</td>\n",
       "      <td>2001</td>\n",
       "      <td>China</td>\n",
       "      <td>New Zealand</td>\n",
       "      <td>11160</td>\n",
       "      <td>3338</td>\n",
       "      <td>32391.0</td>\n",
       "      <td>2.38</td>\n",
       "      <td>79.02</td>\n",
       "      <td>0</td>\n",
       "      <td>0</td>\n",
       "      <td>0</td>\n",
       "      <td>5</td>\n",
       "      <td>1271850000</td>\n",
       "      <td>0</td>\n",
       "      <td>0</td>\n",
       "      <td>0</td>\n",
       "      <td>5</td>\n",
       "      <td>1010.0</td>\n",
       "      <td>1.34e+12</td>\n",
       "      <td>8.28</td>\n",
       "      <td>9.77</td>\n",
       "    </tr>\n",
       "    <tr>\n",
       "      <td>4</td>\n",
       "      <td>2002</td>\n",
       "      <td>China</td>\n",
       "      <td>New Zealand</td>\n",
       "      <td>11160</td>\n",
       "      <td>8481</td>\n",
       "      <td>33005.0</td>\n",
       "      <td>2.16</td>\n",
       "      <td>81.14</td>\n",
       "      <td>0</td>\n",
       "      <td>0</td>\n",
       "      <td>0</td>\n",
       "      <td>5</td>\n",
       "      <td>1280400000</td>\n",
       "      <td>0</td>\n",
       "      <td>0</td>\n",
       "      <td>0</td>\n",
       "      <td>8</td>\n",
       "      <td>1110.0</td>\n",
       "      <td>1.47e+12</td>\n",
       "      <td>8.28</td>\n",
       "      <td>12.51</td>\n",
       "    </tr>\n",
       "    <tr>\n",
       "      <td>...</td>\n",
       "      <td>...</td>\n",
       "      <td>...</td>\n",
       "      <td>...</td>\n",
       "      <td>...</td>\n",
       "      <td>...</td>\n",
       "      <td>...</td>\n",
       "      <td>...</td>\n",
       "      <td>...</td>\n",
       "      <td>...</td>\n",
       "      <td>...</td>\n",
       "      <td>...</td>\n",
       "      <td>...</td>\n",
       "      <td>...</td>\n",
       "      <td>...</td>\n",
       "      <td>...</td>\n",
       "      <td>...</td>\n",
       "      <td>...</td>\n",
       "      <td>...</td>\n",
       "      <td>...</td>\n",
       "      <td>...</td>\n",
       "      <td>...</td>\n",
       "    </tr>\n",
       "    <tr>\n",
       "      <td>75</td>\n",
       "      <td>2001</td>\n",
       "      <td>Indonesia</td>\n",
       "      <td>New Zealand</td>\n",
       "      <td>7548</td>\n",
       "      <td>398</td>\n",
       "      <td>32391.0</td>\n",
       "      <td>2.38</td>\n",
       "      <td>79.02</td>\n",
       "      <td>0</td>\n",
       "      <td>0</td>\n",
       "      <td>0</td>\n",
       "      <td>5</td>\n",
       "      <td>214427417</td>\n",
       "      <td>0</td>\n",
       "      <td>0</td>\n",
       "      <td>0</td>\n",
       "      <td>0</td>\n",
       "      <td>720.0</td>\n",
       "      <td>1.60e+11</td>\n",
       "      <td>10260.85</td>\n",
       "      <td>14.19</td>\n",
       "    </tr>\n",
       "    <tr>\n",
       "      <td>76</td>\n",
       "      <td>2000</td>\n",
       "      <td>Indonesia</td>\n",
       "      <td>New Zealand</td>\n",
       "      <td>7548</td>\n",
       "      <td>355</td>\n",
       "      <td>31806.0</td>\n",
       "      <td>2.20</td>\n",
       "      <td>77.00</td>\n",
       "      <td>0</td>\n",
       "      <td>0</td>\n",
       "      <td>0</td>\n",
       "      <td>5</td>\n",
       "      <td>211513823</td>\n",
       "      <td>0</td>\n",
       "      <td>0</td>\n",
       "      <td>0</td>\n",
       "      <td>0</td>\n",
       "      <td>580.0</td>\n",
       "      <td>1.65e+11</td>\n",
       "      <td>8421.77</td>\n",
       "      <td>14.88</td>\n",
       "    </tr>\n",
       "    <tr>\n",
       "      <td>77</td>\n",
       "      <td>1999</td>\n",
       "      <td>Indonesia</td>\n",
       "      <td>New Zealand</td>\n",
       "      <td>7548</td>\n",
       "      <td>349</td>\n",
       "      <td>32192.0</td>\n",
       "      <td>1.89</td>\n",
       "      <td>75.04</td>\n",
       "      <td>0</td>\n",
       "      <td>0</td>\n",
       "      <td>0</td>\n",
       "      <td>5</td>\n",
       "      <td>208615169</td>\n",
       "      <td>0</td>\n",
       "      <td>0</td>\n",
       "      <td>0</td>\n",
       "      <td>0</td>\n",
       "      <td>570.0</td>\n",
       "      <td>1.40e+11</td>\n",
       "      <td>7855.15</td>\n",
       "      <td>14.75</td>\n",
       "    </tr>\n",
       "    <tr>\n",
       "      <td>78</td>\n",
       "      <td>1998</td>\n",
       "      <td>Indonesia</td>\n",
       "      <td>New Zealand</td>\n",
       "      <td>7548</td>\n",
       "      <td>272</td>\n",
       "      <td>31643.0</td>\n",
       "      <td>1.87</td>\n",
       "      <td>75.12</td>\n",
       "      <td>0</td>\n",
       "      <td>0</td>\n",
       "      <td>0</td>\n",
       "      <td>5</td>\n",
       "      <td>205724592</td>\n",
       "      <td>0</td>\n",
       "      <td>0</td>\n",
       "      <td>0</td>\n",
       "      <td>0</td>\n",
       "      <td>660.0</td>\n",
       "      <td>9.54e+10</td>\n",
       "      <td>10013.62</td>\n",
       "      <td>13.36</td>\n",
       "    </tr>\n",
       "    <tr>\n",
       "      <td>79</td>\n",
       "      <td>2006</td>\n",
       "      <td>Indonesia</td>\n",
       "      <td>New Zealand</td>\n",
       "      <td>7548</td>\n",
       "      <td>315</td>\n",
       "      <td>36253.0</td>\n",
       "      <td>1.54</td>\n",
       "      <td>89.94</td>\n",
       "      <td>0</td>\n",
       "      <td>0</td>\n",
       "      <td>0</td>\n",
       "      <td>5</td>\n",
       "      <td>229318262</td>\n",
       "      <td>0</td>\n",
       "      <td>0</td>\n",
       "      <td>0</td>\n",
       "      <td>0</td>\n",
       "      <td>1380.0</td>\n",
       "      <td>3.65e+11</td>\n",
       "      <td>9159.32</td>\n",
       "      <td>17.31</td>\n",
       "    </tr>\n",
       "  </tbody>\n",
       "</table>\n",
       "<p>80 rows × 21 columns</p>\n",
       "</div>"
      ],
      "text/plain": [
       "    year source_country destination_country  dst_distance  dst_students_count  \\\n",
       "0   1998          China         New Zealand         11160                  78   \n",
       "1   1999          China         New Zealand         11160                 247   \n",
       "2   2000          China         New Zealand         11160                1133   \n",
       "3   2001          China         New Zealand         11160                3338   \n",
       "4   2002          China         New Zealand         11160                8481   \n",
       "..   ...            ...                 ...           ...                 ...   \n",
       "75  2001      Indonesia         New Zealand          7548                 398   \n",
       "76  2000      Indonesia         New Zealand          7548                 355   \n",
       "77  1999      Indonesia         New Zealand          7548                 349   \n",
       "78  1998      Indonesia         New Zealand          7548                 272   \n",
       "79  2006      Indonesia         New Zealand          7548                 315   \n",
       "\n",
       "    dst_average_wage  dst_rate_of_one_usd  dst_cpi  dst_qoe_top20  \\\n",
       "0            31643.0                 1.87    75.12              0   \n",
       "1            32192.0                 1.89    75.04              0   \n",
       "2            31806.0                 2.20    77.00              0   \n",
       "3            32391.0                 2.38    79.02              0   \n",
       "4            33005.0                 2.16    81.14              0   \n",
       "..               ...                  ...      ...            ...   \n",
       "75           32391.0                 2.38    79.02              0   \n",
       "76           31806.0                 2.20    77.00              0   \n",
       "77           32192.0                 1.89    75.04              0   \n",
       "78           31643.0                 1.87    75.12              0   \n",
       "79           36253.0                 1.54    89.94              0   \n",
       "\n",
       "    dst_qoe_top100  dst_qoe_top200  dst_qoe_top500  src_population  \\\n",
       "0                0               0               5      1241935000   \n",
       "1                0               0               5      1252735000   \n",
       "2                0               0               5      1262645000   \n",
       "3                0               0               5      1271850000   \n",
       "4                0               0               5      1280400000   \n",
       "..             ...             ...             ...             ...   \n",
       "75               0               0               5       214427417   \n",
       "76               0               0               5       211513823   \n",
       "77               0               0               5       208615169   \n",
       "78               0               0               5       205724592   \n",
       "79               0               0               5       229318262   \n",
       "\n",
       "    src_qoe_top20  src_qoe_top100  src_qoe_top200  src_qoe_top500  src_gni  \\\n",
       "0               0               0               0               0    800.0   \n",
       "1               0               0               0               0    860.0   \n",
       "2               0               0               0               4    940.0   \n",
       "3               0               0               0               5   1010.0   \n",
       "4               0               0               0               8   1110.0   \n",
       "..            ...             ...             ...             ...      ...   \n",
       "75              0               0               0               0    720.0   \n",
       "76              0               0               0               0    580.0   \n",
       "77              0               0               0               0    570.0   \n",
       "78              0               0               0               0    660.0   \n",
       "79              0               0               0               0   1380.0   \n",
       "\n",
       "     src_gdp  src_rate_of_one_usd  src_tertiary_enrolment  \n",
       "0   1.03e+12                 8.28                    5.95  \n",
       "1   1.09e+12                 8.28                    6.46  \n",
       "2   1.21e+12                 8.28                    7.62  \n",
       "3   1.34e+12                 8.28                    9.77  \n",
       "4   1.47e+12                 8.28                   12.51  \n",
       "..       ...                  ...                     ...  \n",
       "75  1.60e+11             10260.85                   14.19  \n",
       "76  1.65e+11              8421.77                   14.88  \n",
       "77  1.40e+11              7855.15                   14.75  \n",
       "78  9.54e+10             10013.62                   13.36  \n",
       "79  3.65e+11              9159.32                   17.31  \n",
       "\n",
       "[80 rows x 21 columns]"
      ]
     },
     "execution_count": 6,
     "metadata": {},
     "output_type": "execute_result"
    }
   ],
   "source": [
    "aus_factors_df"
   ]
  },
  {
   "cell_type": "markdown",
   "metadata": {
    "deletable": true,
    "editable": true
   },
   "source": [
    "## Calculate correlation"
   ]
  },
  {
   "cell_type": "markdown",
   "metadata": {
    "deletable": true,
    "editable": true
   },
   "source": [
    "### China"
   ]
  },
  {
   "cell_type": "code",
   "execution_count": 7,
   "metadata": {
    "collapsed": true,
    "deletable": true,
    "editable": true
   },
   "outputs": [],
   "source": [
    "china_aus_factors = aus_factors_df[aus_factors_df['source_country']=='China']\n",
    "cols = china_aus_factors.columns\n",
    "china_aus_factors = china_aus_factors.join(china_aus_factors[cols].shift(1), rsuffix='_1y_shift')\n",
    "china_aus_factors = china_aus_factors.join(china_aus_factors[cols].shift(2), rsuffix='_2y_shift')"
   ]
  },
  {
   "cell_type": "code",
   "execution_count": 8,
   "metadata": {
    "collapsed": false,
    "deletable": true,
    "editable": true
   },
   "outputs": [],
   "source": [
    "china_corr_series = china_aus_factors.corr().loc['dst_students_count'].fillna(0).drop(['dst_students_count'])\n",
    "corr_df = pd.DataFrame(china_corr_series).rename(columns={'dst_students_count': 'china_student_count'}).T"
   ]
  },
  {
   "cell_type": "code",
   "execution_count": 9,
   "metadata": {
    "collapsed": false,
    "deletable": true,
    "editable": true
   },
   "outputs": [
    {
     "data": {
      "text/html": [
       "<div>\n",
       "<style scoped>\n",
       "    .dataframe tbody tr th:only-of-type {\n",
       "        vertical-align: middle;\n",
       "    }\n",
       "\n",
       "    .dataframe tbody tr th {\n",
       "        vertical-align: top;\n",
       "    }\n",
       "\n",
       "    .dataframe thead th {\n",
       "        text-align: right;\n",
       "    }\n",
       "</style>\n",
       "<table border=\"1\" class=\"dataframe\">\n",
       "  <thead>\n",
       "    <tr style=\"text-align: right;\">\n",
       "      <th></th>\n",
       "      <th>year</th>\n",
       "      <th>dst_distance</th>\n",
       "      <th>dst_average_wage</th>\n",
       "      <th>dst_rate_of_one_usd</th>\n",
       "      <th>dst_cpi</th>\n",
       "      <th>dst_qoe_top20</th>\n",
       "      <th>dst_qoe_top100</th>\n",
       "      <th>dst_qoe_top200</th>\n",
       "      <th>dst_qoe_top500</th>\n",
       "      <th>src_population</th>\n",
       "      <th>src_qoe_top20</th>\n",
       "      <th>src_qoe_top100</th>\n",
       "      <th>src_qoe_top200</th>\n",
       "      <th>src_qoe_top500</th>\n",
       "      <th>src_gni</th>\n",
       "      <th>src_gdp</th>\n",
       "      <th>src_rate_of_one_usd</th>\n",
       "      <th>src_tertiary_enrolment</th>\n",
       "      <th>year_1y_shift</th>\n",
       "      <th>dst_distance_1y_shift</th>\n",
       "      <th>dst_students_count_1y_shift</th>\n",
       "      <th>dst_average_wage_1y_shift</th>\n",
       "      <th>dst_rate_of_one_usd_1y_shift</th>\n",
       "      <th>dst_cpi_1y_shift</th>\n",
       "      <th>dst_qoe_top20_1y_shift</th>\n",
       "      <th>...</th>\n",
       "      <th>src_qoe_top200_1y_shift</th>\n",
       "      <th>src_qoe_top500_1y_shift</th>\n",
       "      <th>src_gni_1y_shift</th>\n",
       "      <th>src_gdp_1y_shift</th>\n",
       "      <th>src_rate_of_one_usd_1y_shift</th>\n",
       "      <th>src_tertiary_enrolment_1y_shift</th>\n",
       "      <th>year_2y_shift</th>\n",
       "      <th>dst_distance_2y_shift</th>\n",
       "      <th>dst_students_count_2y_shift</th>\n",
       "      <th>dst_average_wage_2y_shift</th>\n",
       "      <th>dst_rate_of_one_usd_2y_shift</th>\n",
       "      <th>dst_cpi_2y_shift</th>\n",
       "      <th>dst_qoe_top20_2y_shift</th>\n",
       "      <th>dst_qoe_top100_2y_shift</th>\n",
       "      <th>dst_qoe_top200_2y_shift</th>\n",
       "      <th>dst_qoe_top500_2y_shift</th>\n",
       "      <th>src_population_2y_shift</th>\n",
       "      <th>src_qoe_top20_2y_shift</th>\n",
       "      <th>src_qoe_top100_2y_shift</th>\n",
       "      <th>src_qoe_top200_2y_shift</th>\n",
       "      <th>src_qoe_top500_2y_shift</th>\n",
       "      <th>src_gni_2y_shift</th>\n",
       "      <th>src_gdp_2y_shift</th>\n",
       "      <th>src_rate_of_one_usd_2y_shift</th>\n",
       "      <th>src_tertiary_enrolment_2y_shift</th>\n",
       "    </tr>\n",
       "  </thead>\n",
       "  <tbody>\n",
       "    <tr>\n",
       "      <td>china_student_count</td>\n",
       "      <td>0.48</td>\n",
       "      <td>0.0</td>\n",
       "      <td>0.53</td>\n",
       "      <td>-0.59</td>\n",
       "      <td>0.43</td>\n",
       "      <td>0.0</td>\n",
       "      <td>0.0</td>\n",
       "      <td>0.11</td>\n",
       "      <td>-0.44</td>\n",
       "      <td>0.52</td>\n",
       "      <td>0.0</td>\n",
       "      <td>0.27</td>\n",
       "      <td>0.4</td>\n",
       "      <td>0.47</td>\n",
       "      <td>0.34</td>\n",
       "      <td>0.32</td>\n",
       "      <td>-0.18</td>\n",
       "      <td>0.51</td>\n",
       "      <td>0.46</td>\n",
       "      <td>0.0</td>\n",
       "      <td>0.84</td>\n",
       "      <td>0.44</td>\n",
       "      <td>-0.35</td>\n",
       "      <td>0.4</td>\n",
       "      <td>0.0</td>\n",
       "      <td>...</td>\n",
       "      <td>0.4</td>\n",
       "      <td>0.44</td>\n",
       "      <td>0.37</td>\n",
       "      <td>0.36</td>\n",
       "      <td>-0.19</td>\n",
       "      <td>0.51</td>\n",
       "      <td>0.36</td>\n",
       "      <td>0.0</td>\n",
       "      <td>0.44</td>\n",
       "      <td>0.25</td>\n",
       "      <td>4.49e-03</td>\n",
       "      <td>0.3</td>\n",
       "      <td>0.0</td>\n",
       "      <td>0.0</td>\n",
       "      <td>0.19</td>\n",
       "      <td>-0.28</td>\n",
       "      <td>0.38</td>\n",
       "      <td>0.0</td>\n",
       "      <td>0.22</td>\n",
       "      <td>0.33</td>\n",
       "      <td>0.32</td>\n",
       "      <td>0.31</td>\n",
       "      <td>0.3</td>\n",
       "      <td>-0.17</td>\n",
       "      <td>0.41</td>\n",
       "    </tr>\n",
       "  </tbody>\n",
       "</table>\n",
       "<p>1 rows × 56 columns</p>\n",
       "</div>"
      ],
      "text/plain": [
       "                     year  dst_distance  dst_average_wage  \\\n",
       "china_student_count  0.48           0.0              0.53   \n",
       "\n",
       "                     dst_rate_of_one_usd  dst_cpi  dst_qoe_top20  \\\n",
       "china_student_count                -0.59     0.43            0.0   \n",
       "\n",
       "                     dst_qoe_top100  dst_qoe_top200  dst_qoe_top500  \\\n",
       "china_student_count             0.0            0.11           -0.44   \n",
       "\n",
       "                     src_population  src_qoe_top20  src_qoe_top100  \\\n",
       "china_student_count            0.52            0.0            0.27   \n",
       "\n",
       "                     src_qoe_top200  src_qoe_top500  src_gni  src_gdp  \\\n",
       "china_student_count             0.4            0.47     0.34     0.32   \n",
       "\n",
       "                     src_rate_of_one_usd  src_tertiary_enrolment  \\\n",
       "china_student_count                -0.18                    0.51   \n",
       "\n",
       "                     year_1y_shift  dst_distance_1y_shift  \\\n",
       "china_student_count           0.46                    0.0   \n",
       "\n",
       "                     dst_students_count_1y_shift  dst_average_wage_1y_shift  \\\n",
       "china_student_count                         0.84                       0.44   \n",
       "\n",
       "                     dst_rate_of_one_usd_1y_shift  dst_cpi_1y_shift  \\\n",
       "china_student_count                         -0.35               0.4   \n",
       "\n",
       "                     dst_qoe_top20_1y_shift  ...  src_qoe_top200_1y_shift  \\\n",
       "china_student_count                     0.0  ...                      0.4   \n",
       "\n",
       "                     src_qoe_top500_1y_shift  src_gni_1y_shift  \\\n",
       "china_student_count                     0.44              0.37   \n",
       "\n",
       "                     src_gdp_1y_shift  src_rate_of_one_usd_1y_shift  \\\n",
       "china_student_count              0.36                         -0.19   \n",
       "\n",
       "                     src_tertiary_enrolment_1y_shift  year_2y_shift  \\\n",
       "china_student_count                             0.51           0.36   \n",
       "\n",
       "                     dst_distance_2y_shift  dst_students_count_2y_shift  \\\n",
       "china_student_count                    0.0                         0.44   \n",
       "\n",
       "                     dst_average_wage_2y_shift  dst_rate_of_one_usd_2y_shift  \\\n",
       "china_student_count                       0.25                      4.49e-03   \n",
       "\n",
       "                     dst_cpi_2y_shift  dst_qoe_top20_2y_shift  \\\n",
       "china_student_count               0.3                     0.0   \n",
       "\n",
       "                     dst_qoe_top100_2y_shift  dst_qoe_top200_2y_shift  \\\n",
       "china_student_count                      0.0                     0.19   \n",
       "\n",
       "                     dst_qoe_top500_2y_shift  src_population_2y_shift  \\\n",
       "china_student_count                    -0.28                     0.38   \n",
       "\n",
       "                     src_qoe_top20_2y_shift  src_qoe_top100_2y_shift  \\\n",
       "china_student_count                     0.0                     0.22   \n",
       "\n",
       "                     src_qoe_top200_2y_shift  src_qoe_top500_2y_shift  \\\n",
       "china_student_count                     0.33                     0.32   \n",
       "\n",
       "                     src_gni_2y_shift  src_gdp_2y_shift  \\\n",
       "china_student_count              0.31               0.3   \n",
       "\n",
       "                     src_rate_of_one_usd_2y_shift  \\\n",
       "china_student_count                         -0.17   \n",
       "\n",
       "                     src_tertiary_enrolment_2y_shift  \n",
       "china_student_count                             0.41  \n",
       "\n",
       "[1 rows x 56 columns]"
      ]
     },
     "execution_count": 9,
     "metadata": {},
     "output_type": "execute_result"
    }
   ],
   "source": [
    "corr_df"
   ]
  },
  {
   "cell_type": "markdown",
   "metadata": {
    "deletable": true,
    "editable": true
   },
   "source": [
    "### India"
   ]
  },
  {
   "cell_type": "code",
   "execution_count": 10,
   "metadata": {
    "collapsed": true,
    "deletable": true,
    "editable": true
   },
   "outputs": [],
   "source": [
    "india_aus_factors = aus_factors_df[aus_factors_df['source_country']=='India']\n",
    "cols = india_aus_factors.columns\n",
    "india_aus_factors = india_aus_factors.join(india_aus_factors[cols].shift(1), rsuffix='_1y_shift')\n",
    "india_aus_factors = india_aus_factors.join(india_aus_factors[cols].shift(2), rsuffix='_2y_shift')"
   ]
  },
  {
   "cell_type": "code",
   "execution_count": 11,
   "metadata": {
    "collapsed": false,
    "deletable": true,
    "editable": true
   },
   "outputs": [],
   "source": [
    "india_corr_series = india_aus_factors.corr().loc['dst_students_count'].fillna(0).drop(['dst_students_count'])\n",
    "corr_df = corr_df.append(pd.DataFrame(india_corr_series).rename(columns={'dst_students_count': 'India_student_count'}).T)\n"
   ]
  },
  {
   "cell_type": "code",
   "execution_count": 12,
   "metadata": {
    "collapsed": false,
    "deletable": true,
    "editable": true
   },
   "outputs": [
    {
     "data": {
      "text/html": [
       "<div>\n",
       "<style scoped>\n",
       "    .dataframe tbody tr th:only-of-type {\n",
       "        vertical-align: middle;\n",
       "    }\n",
       "\n",
       "    .dataframe tbody tr th {\n",
       "        vertical-align: top;\n",
       "    }\n",
       "\n",
       "    .dataframe thead th {\n",
       "        text-align: right;\n",
       "    }\n",
       "</style>\n",
       "<table border=\"1\" class=\"dataframe\">\n",
       "  <thead>\n",
       "    <tr style=\"text-align: right;\">\n",
       "      <th></th>\n",
       "      <th>year</th>\n",
       "      <th>dst_distance</th>\n",
       "      <th>dst_average_wage</th>\n",
       "      <th>dst_rate_of_one_usd</th>\n",
       "      <th>dst_cpi</th>\n",
       "      <th>dst_qoe_top20</th>\n",
       "      <th>dst_qoe_top100</th>\n",
       "      <th>dst_qoe_top200</th>\n",
       "      <th>dst_qoe_top500</th>\n",
       "      <th>src_population</th>\n",
       "      <th>src_qoe_top20</th>\n",
       "      <th>src_qoe_top100</th>\n",
       "      <th>src_qoe_top200</th>\n",
       "      <th>src_qoe_top500</th>\n",
       "      <th>src_gni</th>\n",
       "      <th>src_gdp</th>\n",
       "      <th>src_rate_of_one_usd</th>\n",
       "      <th>src_tertiary_enrolment</th>\n",
       "      <th>year_1y_shift</th>\n",
       "      <th>dst_distance_1y_shift</th>\n",
       "      <th>dst_students_count_1y_shift</th>\n",
       "      <th>dst_average_wage_1y_shift</th>\n",
       "      <th>dst_rate_of_one_usd_1y_shift</th>\n",
       "      <th>dst_cpi_1y_shift</th>\n",
       "      <th>dst_qoe_top20_1y_shift</th>\n",
       "      <th>...</th>\n",
       "      <th>src_qoe_top200_1y_shift</th>\n",
       "      <th>src_qoe_top500_1y_shift</th>\n",
       "      <th>src_gni_1y_shift</th>\n",
       "      <th>src_gdp_1y_shift</th>\n",
       "      <th>src_rate_of_one_usd_1y_shift</th>\n",
       "      <th>src_tertiary_enrolment_1y_shift</th>\n",
       "      <th>year_2y_shift</th>\n",
       "      <th>dst_distance_2y_shift</th>\n",
       "      <th>dst_students_count_2y_shift</th>\n",
       "      <th>dst_average_wage_2y_shift</th>\n",
       "      <th>dst_rate_of_one_usd_2y_shift</th>\n",
       "      <th>dst_cpi_2y_shift</th>\n",
       "      <th>dst_qoe_top20_2y_shift</th>\n",
       "      <th>dst_qoe_top100_2y_shift</th>\n",
       "      <th>dst_qoe_top200_2y_shift</th>\n",
       "      <th>dst_qoe_top500_2y_shift</th>\n",
       "      <th>src_population_2y_shift</th>\n",
       "      <th>src_qoe_top20_2y_shift</th>\n",
       "      <th>src_qoe_top100_2y_shift</th>\n",
       "      <th>src_qoe_top200_2y_shift</th>\n",
       "      <th>src_qoe_top500_2y_shift</th>\n",
       "      <th>src_gni_2y_shift</th>\n",
       "      <th>src_gdp_2y_shift</th>\n",
       "      <th>src_rate_of_one_usd_2y_shift</th>\n",
       "      <th>src_tertiary_enrolment_2y_shift</th>\n",
       "    </tr>\n",
       "  </thead>\n",
       "  <tbody>\n",
       "    <tr>\n",
       "      <td>china_student_count</td>\n",
       "      <td>0.48</td>\n",
       "      <td>0.0</td>\n",
       "      <td>0.53</td>\n",
       "      <td>-0.59</td>\n",
       "      <td>0.43</td>\n",
       "      <td>0.0</td>\n",
       "      <td>0.0</td>\n",
       "      <td>0.11</td>\n",
       "      <td>-0.44</td>\n",
       "      <td>0.52</td>\n",
       "      <td>0.0</td>\n",
       "      <td>0.27</td>\n",
       "      <td>0.4</td>\n",
       "      <td>0.47</td>\n",
       "      <td>0.34</td>\n",
       "      <td>0.32</td>\n",
       "      <td>-0.18</td>\n",
       "      <td>0.51</td>\n",
       "      <td>0.46</td>\n",
       "      <td>0.0</td>\n",
       "      <td>0.84</td>\n",
       "      <td>0.44</td>\n",
       "      <td>-0.35</td>\n",
       "      <td>0.40</td>\n",
       "      <td>0.0</td>\n",
       "      <td>...</td>\n",
       "      <td>0.4</td>\n",
       "      <td>0.44</td>\n",
       "      <td>0.37</td>\n",
       "      <td>0.36</td>\n",
       "      <td>-0.19</td>\n",
       "      <td>0.51</td>\n",
       "      <td>0.36</td>\n",
       "      <td>0.0</td>\n",
       "      <td>0.44</td>\n",
       "      <td>0.25</td>\n",
       "      <td>4.49e-03</td>\n",
       "      <td>0.30</td>\n",
       "      <td>0.0</td>\n",
       "      <td>0.0</td>\n",
       "      <td>0.19</td>\n",
       "      <td>-0.28</td>\n",
       "      <td>0.38</td>\n",
       "      <td>0.0</td>\n",
       "      <td>0.22</td>\n",
       "      <td>0.33</td>\n",
       "      <td>0.32</td>\n",
       "      <td>0.31</td>\n",
       "      <td>0.30</td>\n",
       "      <td>-0.17</td>\n",
       "      <td>0.41</td>\n",
       "    </tr>\n",
       "    <tr>\n",
       "      <td>India_student_count</td>\n",
       "      <td>0.93</td>\n",
       "      <td>0.0</td>\n",
       "      <td>0.88</td>\n",
       "      <td>-0.60</td>\n",
       "      <td>0.91</td>\n",
       "      <td>0.0</td>\n",
       "      <td>0.0</td>\n",
       "      <td>0.42</td>\n",
       "      <td>-0.59</td>\n",
       "      <td>0.92</td>\n",
       "      <td>0.0</td>\n",
       "      <td>0.00</td>\n",
       "      <td>0.0</td>\n",
       "      <td>-0.83</td>\n",
       "      <td>0.94</td>\n",
       "      <td>0.94</td>\n",
       "      <td>0.89</td>\n",
       "      <td>0.95</td>\n",
       "      <td>0.90</td>\n",
       "      <td>0.0</td>\n",
       "      <td>0.95</td>\n",
       "      <td>0.85</td>\n",
       "      <td>-0.58</td>\n",
       "      <td>0.87</td>\n",
       "      <td>0.0</td>\n",
       "      <td>...</td>\n",
       "      <td>0.0</td>\n",
       "      <td>-0.81</td>\n",
       "      <td>0.92</td>\n",
       "      <td>0.93</td>\n",
       "      <td>0.88</td>\n",
       "      <td>0.91</td>\n",
       "      <td>0.88</td>\n",
       "      <td>0.0</td>\n",
       "      <td>0.87</td>\n",
       "      <td>0.82</td>\n",
       "      <td>-5.74e-01</td>\n",
       "      <td>0.85</td>\n",
       "      <td>0.0</td>\n",
       "      <td>0.0</td>\n",
       "      <td>0.38</td>\n",
       "      <td>-0.36</td>\n",
       "      <td>0.87</td>\n",
       "      <td>0.0</td>\n",
       "      <td>0.00</td>\n",
       "      <td>0.00</td>\n",
       "      <td>-0.81</td>\n",
       "      <td>0.91</td>\n",
       "      <td>0.93</td>\n",
       "      <td>0.86</td>\n",
       "      <td>0.90</td>\n",
       "    </tr>\n",
       "  </tbody>\n",
       "</table>\n",
       "<p>2 rows × 56 columns</p>\n",
       "</div>"
      ],
      "text/plain": [
       "                     year  dst_distance  dst_average_wage  \\\n",
       "china_student_count  0.48           0.0              0.53   \n",
       "India_student_count  0.93           0.0              0.88   \n",
       "\n",
       "                     dst_rate_of_one_usd  dst_cpi  dst_qoe_top20  \\\n",
       "china_student_count                -0.59     0.43            0.0   \n",
       "India_student_count                -0.60     0.91            0.0   \n",
       "\n",
       "                     dst_qoe_top100  dst_qoe_top200  dst_qoe_top500  \\\n",
       "china_student_count             0.0            0.11           -0.44   \n",
       "India_student_count             0.0            0.42           -0.59   \n",
       "\n",
       "                     src_population  src_qoe_top20  src_qoe_top100  \\\n",
       "china_student_count            0.52            0.0            0.27   \n",
       "India_student_count            0.92            0.0            0.00   \n",
       "\n",
       "                     src_qoe_top200  src_qoe_top500  src_gni  src_gdp  \\\n",
       "china_student_count             0.4            0.47     0.34     0.32   \n",
       "India_student_count             0.0           -0.83     0.94     0.94   \n",
       "\n",
       "                     src_rate_of_one_usd  src_tertiary_enrolment  \\\n",
       "china_student_count                -0.18                    0.51   \n",
       "India_student_count                 0.89                    0.95   \n",
       "\n",
       "                     year_1y_shift  dst_distance_1y_shift  \\\n",
       "china_student_count           0.46                    0.0   \n",
       "India_student_count           0.90                    0.0   \n",
       "\n",
       "                     dst_students_count_1y_shift  dst_average_wage_1y_shift  \\\n",
       "china_student_count                         0.84                       0.44   \n",
       "India_student_count                         0.95                       0.85   \n",
       "\n",
       "                     dst_rate_of_one_usd_1y_shift  dst_cpi_1y_shift  \\\n",
       "china_student_count                         -0.35              0.40   \n",
       "India_student_count                         -0.58              0.87   \n",
       "\n",
       "                     dst_qoe_top20_1y_shift  ...  src_qoe_top200_1y_shift  \\\n",
       "china_student_count                     0.0  ...                      0.4   \n",
       "India_student_count                     0.0  ...                      0.0   \n",
       "\n",
       "                     src_qoe_top500_1y_shift  src_gni_1y_shift  \\\n",
       "china_student_count                     0.44              0.37   \n",
       "India_student_count                    -0.81              0.92   \n",
       "\n",
       "                     src_gdp_1y_shift  src_rate_of_one_usd_1y_shift  \\\n",
       "china_student_count              0.36                         -0.19   \n",
       "India_student_count              0.93                          0.88   \n",
       "\n",
       "                     src_tertiary_enrolment_1y_shift  year_2y_shift  \\\n",
       "china_student_count                             0.51           0.36   \n",
       "India_student_count                             0.91           0.88   \n",
       "\n",
       "                     dst_distance_2y_shift  dst_students_count_2y_shift  \\\n",
       "china_student_count                    0.0                         0.44   \n",
       "India_student_count                    0.0                         0.87   \n",
       "\n",
       "                     dst_average_wage_2y_shift  dst_rate_of_one_usd_2y_shift  \\\n",
       "china_student_count                       0.25                      4.49e-03   \n",
       "India_student_count                       0.82                     -5.74e-01   \n",
       "\n",
       "                     dst_cpi_2y_shift  dst_qoe_top20_2y_shift  \\\n",
       "china_student_count              0.30                     0.0   \n",
       "India_student_count              0.85                     0.0   \n",
       "\n",
       "                     dst_qoe_top100_2y_shift  dst_qoe_top200_2y_shift  \\\n",
       "china_student_count                      0.0                     0.19   \n",
       "India_student_count                      0.0                     0.38   \n",
       "\n",
       "                     dst_qoe_top500_2y_shift  src_population_2y_shift  \\\n",
       "china_student_count                    -0.28                     0.38   \n",
       "India_student_count                    -0.36                     0.87   \n",
       "\n",
       "                     src_qoe_top20_2y_shift  src_qoe_top100_2y_shift  \\\n",
       "china_student_count                     0.0                     0.22   \n",
       "India_student_count                     0.0                     0.00   \n",
       "\n",
       "                     src_qoe_top200_2y_shift  src_qoe_top500_2y_shift  \\\n",
       "china_student_count                     0.33                     0.32   \n",
       "India_student_count                     0.00                    -0.81   \n",
       "\n",
       "                     src_gni_2y_shift  src_gdp_2y_shift  \\\n",
       "china_student_count              0.31              0.30   \n",
       "India_student_count              0.91              0.93   \n",
       "\n",
       "                     src_rate_of_one_usd_2y_shift  \\\n",
       "china_student_count                         -0.17   \n",
       "India_student_count                          0.86   \n",
       "\n",
       "                     src_tertiary_enrolment_2y_shift  \n",
       "china_student_count                             0.41  \n",
       "India_student_count                             0.90  \n",
       "\n",
       "[2 rows x 56 columns]"
      ]
     },
     "execution_count": 12,
     "metadata": {},
     "output_type": "execute_result"
    }
   ],
   "source": [
    "corr_df"
   ]
  },
  {
   "cell_type": "markdown",
   "metadata": {
    "deletable": true,
    "editable": true
   },
   "source": [
    "### Malaysia"
   ]
  },
  {
   "cell_type": "code",
   "execution_count": 13,
   "metadata": {
    "collapsed": true,
    "deletable": true,
    "editable": true
   },
   "outputs": [],
   "source": [
    "malay_aus_factors = aus_factors_df[aus_factors_df['source_country']=='Malaysia']\n",
    "cols = malay_aus_factors.columns\n",
    "malay_aus_factors = malay_aus_factors.join(malay_aus_factors[cols].shift(1), rsuffix='_1y_shift')\n",
    "malay_aus_factors = malay_aus_factors.join(malay_aus_factors[cols].shift(2), rsuffix='_2y_shift')"
   ]
  },
  {
   "cell_type": "code",
   "execution_count": 14,
   "metadata": {
    "collapsed": true,
    "deletable": true,
    "editable": true
   },
   "outputs": [],
   "source": [
    "malay_corr_series = malay_aus_factors.corr().loc['dst_students_count'].fillna(0).drop(['dst_students_count'])\n",
    "corr_df = corr_df.append(pd.DataFrame(malay_corr_series).rename(columns={'dst_students_count': 'malaysia_student_count'}).T)"
   ]
  },
  {
   "cell_type": "code",
   "execution_count": 15,
   "metadata": {
    "collapsed": false,
    "deletable": true,
    "editable": true
   },
   "outputs": [
    {
     "data": {
      "text/html": [
       "<div>\n",
       "<style scoped>\n",
       "    .dataframe tbody tr th:only-of-type {\n",
       "        vertical-align: middle;\n",
       "    }\n",
       "\n",
       "    .dataframe tbody tr th {\n",
       "        vertical-align: top;\n",
       "    }\n",
       "\n",
       "    .dataframe thead th {\n",
       "        text-align: right;\n",
       "    }\n",
       "</style>\n",
       "<table border=\"1\" class=\"dataframe\">\n",
       "  <thead>\n",
       "    <tr style=\"text-align: right;\">\n",
       "      <th></th>\n",
       "      <th>year</th>\n",
       "      <th>dst_distance</th>\n",
       "      <th>dst_average_wage</th>\n",
       "      <th>dst_rate_of_one_usd</th>\n",
       "      <th>dst_cpi</th>\n",
       "      <th>dst_qoe_top20</th>\n",
       "      <th>dst_qoe_top100</th>\n",
       "      <th>dst_qoe_top200</th>\n",
       "      <th>dst_qoe_top500</th>\n",
       "      <th>src_population</th>\n",
       "      <th>src_qoe_top20</th>\n",
       "      <th>src_qoe_top100</th>\n",
       "      <th>src_qoe_top200</th>\n",
       "      <th>src_qoe_top500</th>\n",
       "      <th>src_gni</th>\n",
       "      <th>src_gdp</th>\n",
       "      <th>src_rate_of_one_usd</th>\n",
       "      <th>src_tertiary_enrolment</th>\n",
       "      <th>year_1y_shift</th>\n",
       "      <th>dst_distance_1y_shift</th>\n",
       "      <th>dst_students_count_1y_shift</th>\n",
       "      <th>dst_average_wage_1y_shift</th>\n",
       "      <th>dst_rate_of_one_usd_1y_shift</th>\n",
       "      <th>dst_cpi_1y_shift</th>\n",
       "      <th>dst_qoe_top20_1y_shift</th>\n",
       "      <th>...</th>\n",
       "      <th>src_qoe_top200_1y_shift</th>\n",
       "      <th>src_qoe_top500_1y_shift</th>\n",
       "      <th>src_gni_1y_shift</th>\n",
       "      <th>src_gdp_1y_shift</th>\n",
       "      <th>src_rate_of_one_usd_1y_shift</th>\n",
       "      <th>src_tertiary_enrolment_1y_shift</th>\n",
       "      <th>year_2y_shift</th>\n",
       "      <th>dst_distance_2y_shift</th>\n",
       "      <th>dst_students_count_2y_shift</th>\n",
       "      <th>dst_average_wage_2y_shift</th>\n",
       "      <th>dst_rate_of_one_usd_2y_shift</th>\n",
       "      <th>dst_cpi_2y_shift</th>\n",
       "      <th>dst_qoe_top20_2y_shift</th>\n",
       "      <th>dst_qoe_top100_2y_shift</th>\n",
       "      <th>dst_qoe_top200_2y_shift</th>\n",
       "      <th>dst_qoe_top500_2y_shift</th>\n",
       "      <th>src_population_2y_shift</th>\n",
       "      <th>src_qoe_top20_2y_shift</th>\n",
       "      <th>src_qoe_top100_2y_shift</th>\n",
       "      <th>src_qoe_top200_2y_shift</th>\n",
       "      <th>src_qoe_top500_2y_shift</th>\n",
       "      <th>src_gni_2y_shift</th>\n",
       "      <th>src_gdp_2y_shift</th>\n",
       "      <th>src_rate_of_one_usd_2y_shift</th>\n",
       "      <th>src_tertiary_enrolment_2y_shift</th>\n",
       "    </tr>\n",
       "  </thead>\n",
       "  <tbody>\n",
       "    <tr>\n",
       "      <td>china_student_count</td>\n",
       "      <td>0.48</td>\n",
       "      <td>0.0</td>\n",
       "      <td>0.53</td>\n",
       "      <td>-0.59</td>\n",
       "      <td>0.43</td>\n",
       "      <td>0.0</td>\n",
       "      <td>0.0</td>\n",
       "      <td>0.11</td>\n",
       "      <td>-0.44</td>\n",
       "      <td>0.52</td>\n",
       "      <td>0.0</td>\n",
       "      <td>0.27</td>\n",
       "      <td>0.4</td>\n",
       "      <td>0.47</td>\n",
       "      <td>0.34</td>\n",
       "      <td>0.32</td>\n",
       "      <td>-0.18</td>\n",
       "      <td>0.51</td>\n",
       "      <td>0.46</td>\n",
       "      <td>0.0</td>\n",
       "      <td>0.84</td>\n",
       "      <td>0.44</td>\n",
       "      <td>-0.35</td>\n",
       "      <td>0.40</td>\n",
       "      <td>0.0</td>\n",
       "      <td>...</td>\n",
       "      <td>0.4</td>\n",
       "      <td>0.44</td>\n",
       "      <td>0.37</td>\n",
       "      <td>0.36</td>\n",
       "      <td>-0.19</td>\n",
       "      <td>0.51</td>\n",
       "      <td>0.36</td>\n",
       "      <td>0.0</td>\n",
       "      <td>0.44</td>\n",
       "      <td>0.25</td>\n",
       "      <td>4.49e-03</td>\n",
       "      <td>0.30</td>\n",
       "      <td>0.0</td>\n",
       "      <td>0.0</td>\n",
       "      <td>0.19</td>\n",
       "      <td>-0.28</td>\n",
       "      <td>0.38</td>\n",
       "      <td>0.0</td>\n",
       "      <td>0.22</td>\n",
       "      <td>0.33</td>\n",
       "      <td>0.32</td>\n",
       "      <td>0.31</td>\n",
       "      <td>0.30</td>\n",
       "      <td>-0.17</td>\n",
       "      <td>0.41</td>\n",
       "    </tr>\n",
       "    <tr>\n",
       "      <td>India_student_count</td>\n",
       "      <td>0.93</td>\n",
       "      <td>0.0</td>\n",
       "      <td>0.88</td>\n",
       "      <td>-0.60</td>\n",
       "      <td>0.91</td>\n",
       "      <td>0.0</td>\n",
       "      <td>0.0</td>\n",
       "      <td>0.42</td>\n",
       "      <td>-0.59</td>\n",
       "      <td>0.92</td>\n",
       "      <td>0.0</td>\n",
       "      <td>0.00</td>\n",
       "      <td>0.0</td>\n",
       "      <td>-0.83</td>\n",
       "      <td>0.94</td>\n",
       "      <td>0.94</td>\n",
       "      <td>0.89</td>\n",
       "      <td>0.95</td>\n",
       "      <td>0.90</td>\n",
       "      <td>0.0</td>\n",
       "      <td>0.95</td>\n",
       "      <td>0.85</td>\n",
       "      <td>-0.58</td>\n",
       "      <td>0.87</td>\n",
       "      <td>0.0</td>\n",
       "      <td>...</td>\n",
       "      <td>0.0</td>\n",
       "      <td>-0.81</td>\n",
       "      <td>0.92</td>\n",
       "      <td>0.93</td>\n",
       "      <td>0.88</td>\n",
       "      <td>0.91</td>\n",
       "      <td>0.88</td>\n",
       "      <td>0.0</td>\n",
       "      <td>0.87</td>\n",
       "      <td>0.82</td>\n",
       "      <td>-5.74e-01</td>\n",
       "      <td>0.85</td>\n",
       "      <td>0.0</td>\n",
       "      <td>0.0</td>\n",
       "      <td>0.38</td>\n",
       "      <td>-0.36</td>\n",
       "      <td>0.87</td>\n",
       "      <td>0.0</td>\n",
       "      <td>0.00</td>\n",
       "      <td>0.00</td>\n",
       "      <td>-0.81</td>\n",
       "      <td>0.91</td>\n",
       "      <td>0.93</td>\n",
       "      <td>0.86</td>\n",
       "      <td>0.90</td>\n",
       "    </tr>\n",
       "    <tr>\n",
       "      <td>malaysia_student_count</td>\n",
       "      <td>0.46</td>\n",
       "      <td>0.0</td>\n",
       "      <td>0.54</td>\n",
       "      <td>-0.57</td>\n",
       "      <td>0.54</td>\n",
       "      <td>0.0</td>\n",
       "      <td>0.0</td>\n",
       "      <td>0.20</td>\n",
       "      <td>0.15</td>\n",
       "      <td>0.48</td>\n",
       "      <td>0.0</td>\n",
       "      <td>0.00</td>\n",
       "      <td>0.0</td>\n",
       "      <td>0.36</td>\n",
       "      <td>0.56</td>\n",
       "      <td>0.57</td>\n",
       "      <td>-0.49</td>\n",
       "      <td>0.42</td>\n",
       "      <td>0.44</td>\n",
       "      <td>0.0</td>\n",
       "      <td>0.83</td>\n",
       "      <td>0.43</td>\n",
       "      <td>-0.42</td>\n",
       "      <td>0.52</td>\n",
       "      <td>0.0</td>\n",
       "      <td>...</td>\n",
       "      <td>0.0</td>\n",
       "      <td>0.38</td>\n",
       "      <td>0.57</td>\n",
       "      <td>0.58</td>\n",
       "      <td>-0.57</td>\n",
       "      <td>0.38</td>\n",
       "      <td>0.44</td>\n",
       "      <td>0.0</td>\n",
       "      <td>0.56</td>\n",
       "      <td>0.33</td>\n",
       "      <td>-2.39e-01</td>\n",
       "      <td>0.51</td>\n",
       "      <td>0.0</td>\n",
       "      <td>0.0</td>\n",
       "      <td>0.24</td>\n",
       "      <td>0.10</td>\n",
       "      <td>0.44</td>\n",
       "      <td>0.0</td>\n",
       "      <td>0.00</td>\n",
       "      <td>0.00</td>\n",
       "      <td>0.46</td>\n",
       "      <td>0.58</td>\n",
       "      <td>0.59</td>\n",
       "      <td>-0.52</td>\n",
       "      <td>0.40</td>\n",
       "    </tr>\n",
       "  </tbody>\n",
       "</table>\n",
       "<p>3 rows × 56 columns</p>\n",
       "</div>"
      ],
      "text/plain": [
       "                        year  dst_distance  dst_average_wage  \\\n",
       "china_student_count     0.48           0.0              0.53   \n",
       "India_student_count     0.93           0.0              0.88   \n",
       "malaysia_student_count  0.46           0.0              0.54   \n",
       "\n",
       "                        dst_rate_of_one_usd  dst_cpi  dst_qoe_top20  \\\n",
       "china_student_count                   -0.59     0.43            0.0   \n",
       "India_student_count                   -0.60     0.91            0.0   \n",
       "malaysia_student_count                -0.57     0.54            0.0   \n",
       "\n",
       "                        dst_qoe_top100  dst_qoe_top200  dst_qoe_top500  \\\n",
       "china_student_count                0.0            0.11           -0.44   \n",
       "India_student_count                0.0            0.42           -0.59   \n",
       "malaysia_student_count             0.0            0.20            0.15   \n",
       "\n",
       "                        src_population  src_qoe_top20  src_qoe_top100  \\\n",
       "china_student_count               0.52            0.0            0.27   \n",
       "India_student_count               0.92            0.0            0.00   \n",
       "malaysia_student_count            0.48            0.0            0.00   \n",
       "\n",
       "                        src_qoe_top200  src_qoe_top500  src_gni  src_gdp  \\\n",
       "china_student_count                0.4            0.47     0.34     0.32   \n",
       "India_student_count                0.0           -0.83     0.94     0.94   \n",
       "malaysia_student_count             0.0            0.36     0.56     0.57   \n",
       "\n",
       "                        src_rate_of_one_usd  src_tertiary_enrolment  \\\n",
       "china_student_count                   -0.18                    0.51   \n",
       "India_student_count                    0.89                    0.95   \n",
       "malaysia_student_count                -0.49                    0.42   \n",
       "\n",
       "                        year_1y_shift  dst_distance_1y_shift  \\\n",
       "china_student_count              0.46                    0.0   \n",
       "India_student_count              0.90                    0.0   \n",
       "malaysia_student_count           0.44                    0.0   \n",
       "\n",
       "                        dst_students_count_1y_shift  \\\n",
       "china_student_count                            0.84   \n",
       "India_student_count                            0.95   \n",
       "malaysia_student_count                         0.83   \n",
       "\n",
       "                        dst_average_wage_1y_shift  \\\n",
       "china_student_count                          0.44   \n",
       "India_student_count                          0.85   \n",
       "malaysia_student_count                       0.43   \n",
       "\n",
       "                        dst_rate_of_one_usd_1y_shift  dst_cpi_1y_shift  \\\n",
       "china_student_count                            -0.35              0.40   \n",
       "India_student_count                            -0.58              0.87   \n",
       "malaysia_student_count                         -0.42              0.52   \n",
       "\n",
       "                        dst_qoe_top20_1y_shift  ...  src_qoe_top200_1y_shift  \\\n",
       "china_student_count                        0.0  ...                      0.4   \n",
       "India_student_count                        0.0  ...                      0.0   \n",
       "malaysia_student_count                     0.0  ...                      0.0   \n",
       "\n",
       "                        src_qoe_top500_1y_shift  src_gni_1y_shift  \\\n",
       "china_student_count                        0.44              0.37   \n",
       "India_student_count                       -0.81              0.92   \n",
       "malaysia_student_count                     0.38              0.57   \n",
       "\n",
       "                        src_gdp_1y_shift  src_rate_of_one_usd_1y_shift  \\\n",
       "china_student_count                 0.36                         -0.19   \n",
       "India_student_count                 0.93                          0.88   \n",
       "malaysia_student_count              0.58                         -0.57   \n",
       "\n",
       "                        src_tertiary_enrolment_1y_shift  year_2y_shift  \\\n",
       "china_student_count                                0.51           0.36   \n",
       "India_student_count                                0.91           0.88   \n",
       "malaysia_student_count                             0.38           0.44   \n",
       "\n",
       "                        dst_distance_2y_shift  dst_students_count_2y_shift  \\\n",
       "china_student_count                       0.0                         0.44   \n",
       "India_student_count                       0.0                         0.87   \n",
       "malaysia_student_count                    0.0                         0.56   \n",
       "\n",
       "                        dst_average_wage_2y_shift  \\\n",
       "china_student_count                          0.25   \n",
       "India_student_count                          0.82   \n",
       "malaysia_student_count                       0.33   \n",
       "\n",
       "                        dst_rate_of_one_usd_2y_shift  dst_cpi_2y_shift  \\\n",
       "china_student_count                         4.49e-03              0.30   \n",
       "India_student_count                        -5.74e-01              0.85   \n",
       "malaysia_student_count                     -2.39e-01              0.51   \n",
       "\n",
       "                        dst_qoe_top20_2y_shift  dst_qoe_top100_2y_shift  \\\n",
       "china_student_count                        0.0                      0.0   \n",
       "India_student_count                        0.0                      0.0   \n",
       "malaysia_student_count                     0.0                      0.0   \n",
       "\n",
       "                        dst_qoe_top200_2y_shift  dst_qoe_top500_2y_shift  \\\n",
       "china_student_count                        0.19                    -0.28   \n",
       "India_student_count                        0.38                    -0.36   \n",
       "malaysia_student_count                     0.24                     0.10   \n",
       "\n",
       "                        src_population_2y_shift  src_qoe_top20_2y_shift  \\\n",
       "china_student_count                        0.38                     0.0   \n",
       "India_student_count                        0.87                     0.0   \n",
       "malaysia_student_count                     0.44                     0.0   \n",
       "\n",
       "                        src_qoe_top100_2y_shift  src_qoe_top200_2y_shift  \\\n",
       "china_student_count                        0.22                     0.33   \n",
       "India_student_count                        0.00                     0.00   \n",
       "malaysia_student_count                     0.00                     0.00   \n",
       "\n",
       "                        src_qoe_top500_2y_shift  src_gni_2y_shift  \\\n",
       "china_student_count                        0.32              0.31   \n",
       "India_student_count                       -0.81              0.91   \n",
       "malaysia_student_count                     0.46              0.58   \n",
       "\n",
       "                        src_gdp_2y_shift  src_rate_of_one_usd_2y_shift  \\\n",
       "china_student_count                 0.30                         -0.17   \n",
       "India_student_count                 0.93                          0.86   \n",
       "malaysia_student_count              0.59                         -0.52   \n",
       "\n",
       "                        src_tertiary_enrolment_2y_shift  \n",
       "china_student_count                                0.41  \n",
       "India_student_count                                0.90  \n",
       "malaysia_student_count                             0.40  \n",
       "\n",
       "[3 rows x 56 columns]"
      ]
     },
     "execution_count": 15,
     "metadata": {},
     "output_type": "execute_result"
    }
   ],
   "source": [
    "corr_df"
   ]
  },
  {
   "cell_type": "markdown",
   "metadata": {
    "deletable": true,
    "editable": true
   },
   "source": [
    "### Indonesia"
   ]
  },
  {
   "cell_type": "code",
   "execution_count": 16,
   "metadata": {
    "collapsed": true,
    "deletable": true,
    "editable": true
   },
   "outputs": [],
   "source": [
    "indonesia_aus_factors = aus_factors_df[aus_factors_df['source_country']=='Indonesia']\n",
    "cols = indonesia_aus_factors.columns\n",
    "indonesia_aus_factors = indonesia_aus_factors.join(indonesia_aus_factors[cols].shift(1), rsuffix='_1y_shift')\n",
    "indonesia_aus_factors = indonesia_aus_factors.join(indonesia_aus_factors[cols].shift(2), rsuffix='_2y_shift')"
   ]
  },
  {
   "cell_type": "code",
   "execution_count": 17,
   "metadata": {
    "collapsed": true,
    "deletable": true,
    "editable": true
   },
   "outputs": [],
   "source": [
    "indonesia_corr_series = indonesia_aus_factors.corr().loc['dst_students_count'].fillna(0).drop(['dst_students_count'])\n",
    "corr_df = corr_df.append(pd.DataFrame(indonesia_corr_series).rename(columns={'dst_students_count': 'indonesia_student_count'}).T)"
   ]
  },
  {
   "cell_type": "code",
   "execution_count": 18,
   "metadata": {
    "collapsed": false,
    "deletable": true,
    "editable": true
   },
   "outputs": [
    {
     "data": {
      "text/html": [
       "<div>\n",
       "<style scoped>\n",
       "    .dataframe tbody tr th:only-of-type {\n",
       "        vertical-align: middle;\n",
       "    }\n",
       "\n",
       "    .dataframe tbody tr th {\n",
       "        vertical-align: top;\n",
       "    }\n",
       "\n",
       "    .dataframe thead th {\n",
       "        text-align: right;\n",
       "    }\n",
       "</style>\n",
       "<table border=\"1\" class=\"dataframe\">\n",
       "  <thead>\n",
       "    <tr style=\"text-align: right;\">\n",
       "      <th></th>\n",
       "      <th>year</th>\n",
       "      <th>dst_distance</th>\n",
       "      <th>dst_average_wage</th>\n",
       "      <th>dst_rate_of_one_usd</th>\n",
       "      <th>dst_cpi</th>\n",
       "      <th>dst_qoe_top20</th>\n",
       "      <th>dst_qoe_top100</th>\n",
       "      <th>dst_qoe_top200</th>\n",
       "      <th>dst_qoe_top500</th>\n",
       "      <th>src_population</th>\n",
       "      <th>src_qoe_top20</th>\n",
       "      <th>src_qoe_top100</th>\n",
       "      <th>src_qoe_top200</th>\n",
       "      <th>src_qoe_top500</th>\n",
       "      <th>src_gni</th>\n",
       "      <th>src_gdp</th>\n",
       "      <th>src_rate_of_one_usd</th>\n",
       "      <th>src_tertiary_enrolment</th>\n",
       "      <th>year_1y_shift</th>\n",
       "      <th>dst_distance_1y_shift</th>\n",
       "      <th>dst_students_count_1y_shift</th>\n",
       "      <th>dst_average_wage_1y_shift</th>\n",
       "      <th>dst_rate_of_one_usd_1y_shift</th>\n",
       "      <th>dst_cpi_1y_shift</th>\n",
       "      <th>dst_qoe_top20_1y_shift</th>\n",
       "      <th>...</th>\n",
       "      <th>src_qoe_top200_1y_shift</th>\n",
       "      <th>src_qoe_top500_1y_shift</th>\n",
       "      <th>src_gni_1y_shift</th>\n",
       "      <th>src_gdp_1y_shift</th>\n",
       "      <th>src_rate_of_one_usd_1y_shift</th>\n",
       "      <th>src_tertiary_enrolment_1y_shift</th>\n",
       "      <th>year_2y_shift</th>\n",
       "      <th>dst_distance_2y_shift</th>\n",
       "      <th>dst_students_count_2y_shift</th>\n",
       "      <th>dst_average_wage_2y_shift</th>\n",
       "      <th>dst_rate_of_one_usd_2y_shift</th>\n",
       "      <th>dst_cpi_2y_shift</th>\n",
       "      <th>dst_qoe_top20_2y_shift</th>\n",
       "      <th>dst_qoe_top100_2y_shift</th>\n",
       "      <th>dst_qoe_top200_2y_shift</th>\n",
       "      <th>dst_qoe_top500_2y_shift</th>\n",
       "      <th>src_population_2y_shift</th>\n",
       "      <th>src_qoe_top20_2y_shift</th>\n",
       "      <th>src_qoe_top100_2y_shift</th>\n",
       "      <th>src_qoe_top200_2y_shift</th>\n",
       "      <th>src_qoe_top500_2y_shift</th>\n",
       "      <th>src_gni_2y_shift</th>\n",
       "      <th>src_gdp_2y_shift</th>\n",
       "      <th>src_rate_of_one_usd_2y_shift</th>\n",
       "      <th>src_tertiary_enrolment_2y_shift</th>\n",
       "    </tr>\n",
       "  </thead>\n",
       "  <tbody>\n",
       "    <tr>\n",
       "      <td>china_student_count</td>\n",
       "      <td>0.48</td>\n",
       "      <td>0.0</td>\n",
       "      <td>0.53</td>\n",
       "      <td>-0.59</td>\n",
       "      <td>0.43</td>\n",
       "      <td>0.0</td>\n",
       "      <td>0.0</td>\n",
       "      <td>0.11</td>\n",
       "      <td>-0.44</td>\n",
       "      <td>0.52</td>\n",
       "      <td>0.0</td>\n",
       "      <td>0.27</td>\n",
       "      <td>0.4</td>\n",
       "      <td>0.47</td>\n",
       "      <td>0.34</td>\n",
       "      <td>0.32</td>\n",
       "      <td>-0.18</td>\n",
       "      <td>0.51</td>\n",
       "      <td>0.46</td>\n",
       "      <td>0.0</td>\n",
       "      <td>0.84</td>\n",
       "      <td>0.44</td>\n",
       "      <td>-0.35</td>\n",
       "      <td>0.40</td>\n",
       "      <td>0.0</td>\n",
       "      <td>...</td>\n",
       "      <td>0.4</td>\n",
       "      <td>0.44</td>\n",
       "      <td>0.37</td>\n",
       "      <td>0.36</td>\n",
       "      <td>-0.19</td>\n",
       "      <td>0.51</td>\n",
       "      <td>0.36</td>\n",
       "      <td>0.0</td>\n",
       "      <td>0.44</td>\n",
       "      <td>0.25</td>\n",
       "      <td>4.49e-03</td>\n",
       "      <td>0.30</td>\n",
       "      <td>0.0</td>\n",
       "      <td>0.0</td>\n",
       "      <td>0.19</td>\n",
       "      <td>-0.28</td>\n",
       "      <td>0.38</td>\n",
       "      <td>0.0</td>\n",
       "      <td>0.22</td>\n",
       "      <td>0.33</td>\n",
       "      <td>0.32</td>\n",
       "      <td>0.31</td>\n",
       "      <td>0.30</td>\n",
       "      <td>-0.17</td>\n",
       "      <td>0.41</td>\n",
       "    </tr>\n",
       "    <tr>\n",
       "      <td>India_student_count</td>\n",
       "      <td>0.93</td>\n",
       "      <td>0.0</td>\n",
       "      <td>0.88</td>\n",
       "      <td>-0.60</td>\n",
       "      <td>0.91</td>\n",
       "      <td>0.0</td>\n",
       "      <td>0.0</td>\n",
       "      <td>0.42</td>\n",
       "      <td>-0.59</td>\n",
       "      <td>0.92</td>\n",
       "      <td>0.0</td>\n",
       "      <td>0.00</td>\n",
       "      <td>0.0</td>\n",
       "      <td>-0.83</td>\n",
       "      <td>0.94</td>\n",
       "      <td>0.94</td>\n",
       "      <td>0.89</td>\n",
       "      <td>0.95</td>\n",
       "      <td>0.90</td>\n",
       "      <td>0.0</td>\n",
       "      <td>0.95</td>\n",
       "      <td>0.85</td>\n",
       "      <td>-0.58</td>\n",
       "      <td>0.87</td>\n",
       "      <td>0.0</td>\n",
       "      <td>...</td>\n",
       "      <td>0.0</td>\n",
       "      <td>-0.81</td>\n",
       "      <td>0.92</td>\n",
       "      <td>0.93</td>\n",
       "      <td>0.88</td>\n",
       "      <td>0.91</td>\n",
       "      <td>0.88</td>\n",
       "      <td>0.0</td>\n",
       "      <td>0.87</td>\n",
       "      <td>0.82</td>\n",
       "      <td>-5.74e-01</td>\n",
       "      <td>0.85</td>\n",
       "      <td>0.0</td>\n",
       "      <td>0.0</td>\n",
       "      <td>0.38</td>\n",
       "      <td>-0.36</td>\n",
       "      <td>0.87</td>\n",
       "      <td>0.0</td>\n",
       "      <td>0.00</td>\n",
       "      <td>0.00</td>\n",
       "      <td>-0.81</td>\n",
       "      <td>0.91</td>\n",
       "      <td>0.93</td>\n",
       "      <td>0.86</td>\n",
       "      <td>0.90</td>\n",
       "    </tr>\n",
       "    <tr>\n",
       "      <td>malaysia_student_count</td>\n",
       "      <td>0.46</td>\n",
       "      <td>0.0</td>\n",
       "      <td>0.54</td>\n",
       "      <td>-0.57</td>\n",
       "      <td>0.54</td>\n",
       "      <td>0.0</td>\n",
       "      <td>0.0</td>\n",
       "      <td>0.20</td>\n",
       "      <td>0.15</td>\n",
       "      <td>0.48</td>\n",
       "      <td>0.0</td>\n",
       "      <td>0.00</td>\n",
       "      <td>0.0</td>\n",
       "      <td>0.36</td>\n",
       "      <td>0.56</td>\n",
       "      <td>0.57</td>\n",
       "      <td>-0.49</td>\n",
       "      <td>0.42</td>\n",
       "      <td>0.44</td>\n",
       "      <td>0.0</td>\n",
       "      <td>0.83</td>\n",
       "      <td>0.43</td>\n",
       "      <td>-0.42</td>\n",
       "      <td>0.52</td>\n",
       "      <td>0.0</td>\n",
       "      <td>...</td>\n",
       "      <td>0.0</td>\n",
       "      <td>0.38</td>\n",
       "      <td>0.57</td>\n",
       "      <td>0.58</td>\n",
       "      <td>-0.57</td>\n",
       "      <td>0.38</td>\n",
       "      <td>0.44</td>\n",
       "      <td>0.0</td>\n",
       "      <td>0.56</td>\n",
       "      <td>0.33</td>\n",
       "      <td>-2.39e-01</td>\n",
       "      <td>0.51</td>\n",
       "      <td>0.0</td>\n",
       "      <td>0.0</td>\n",
       "      <td>0.24</td>\n",
       "      <td>0.10</td>\n",
       "      <td>0.44</td>\n",
       "      <td>0.0</td>\n",
       "      <td>0.00</td>\n",
       "      <td>0.00</td>\n",
       "      <td>0.46</td>\n",
       "      <td>0.58</td>\n",
       "      <td>0.59</td>\n",
       "      <td>-0.52</td>\n",
       "      <td>0.40</td>\n",
       "    </tr>\n",
       "    <tr>\n",
       "      <td>indonesia_student_count</td>\n",
       "      <td>0.68</td>\n",
       "      <td>0.0</td>\n",
       "      <td>0.58</td>\n",
       "      <td>-0.23</td>\n",
       "      <td>0.60</td>\n",
       "      <td>0.0</td>\n",
       "      <td>0.0</td>\n",
       "      <td>0.38</td>\n",
       "      <td>-0.62</td>\n",
       "      <td>0.69</td>\n",
       "      <td>0.0</td>\n",
       "      <td>0.00</td>\n",
       "      <td>0.0</td>\n",
       "      <td>0.00</td>\n",
       "      <td>0.61</td>\n",
       "      <td>0.61</td>\n",
       "      <td>0.86</td>\n",
       "      <td>0.74</td>\n",
       "      <td>0.61</td>\n",
       "      <td>0.0</td>\n",
       "      <td>0.91</td>\n",
       "      <td>0.54</td>\n",
       "      <td>-0.19</td>\n",
       "      <td>0.53</td>\n",
       "      <td>0.0</td>\n",
       "      <td>...</td>\n",
       "      <td>0.0</td>\n",
       "      <td>0.00</td>\n",
       "      <td>0.50</td>\n",
       "      <td>0.52</td>\n",
       "      <td>0.83</td>\n",
       "      <td>0.67</td>\n",
       "      <td>0.54</td>\n",
       "      <td>0.0</td>\n",
       "      <td>0.82</td>\n",
       "      <td>0.52</td>\n",
       "      <td>-2.16e-01</td>\n",
       "      <td>0.44</td>\n",
       "      <td>0.0</td>\n",
       "      <td>0.0</td>\n",
       "      <td>0.27</td>\n",
       "      <td>-0.47</td>\n",
       "      <td>0.55</td>\n",
       "      <td>0.0</td>\n",
       "      <td>0.00</td>\n",
       "      <td>0.00</td>\n",
       "      <td>0.00</td>\n",
       "      <td>0.39</td>\n",
       "      <td>0.41</td>\n",
       "      <td>0.74</td>\n",
       "      <td>0.55</td>\n",
       "    </tr>\n",
       "  </tbody>\n",
       "</table>\n",
       "<p>4 rows × 56 columns</p>\n",
       "</div>"
      ],
      "text/plain": [
       "                         year  dst_distance  dst_average_wage  \\\n",
       "china_student_count      0.48           0.0              0.53   \n",
       "India_student_count      0.93           0.0              0.88   \n",
       "malaysia_student_count   0.46           0.0              0.54   \n",
       "indonesia_student_count  0.68           0.0              0.58   \n",
       "\n",
       "                         dst_rate_of_one_usd  dst_cpi  dst_qoe_top20  \\\n",
       "china_student_count                    -0.59     0.43            0.0   \n",
       "India_student_count                    -0.60     0.91            0.0   \n",
       "malaysia_student_count                 -0.57     0.54            0.0   \n",
       "indonesia_student_count                -0.23     0.60            0.0   \n",
       "\n",
       "                         dst_qoe_top100  dst_qoe_top200  dst_qoe_top500  \\\n",
       "china_student_count                 0.0            0.11           -0.44   \n",
       "India_student_count                 0.0            0.42           -0.59   \n",
       "malaysia_student_count              0.0            0.20            0.15   \n",
       "indonesia_student_count             0.0            0.38           -0.62   \n",
       "\n",
       "                         src_population  src_qoe_top20  src_qoe_top100  \\\n",
       "china_student_count                0.52            0.0            0.27   \n",
       "India_student_count                0.92            0.0            0.00   \n",
       "malaysia_student_count             0.48            0.0            0.00   \n",
       "indonesia_student_count            0.69            0.0            0.00   \n",
       "\n",
       "                         src_qoe_top200  src_qoe_top500  src_gni  src_gdp  \\\n",
       "china_student_count                 0.4            0.47     0.34     0.32   \n",
       "India_student_count                 0.0           -0.83     0.94     0.94   \n",
       "malaysia_student_count              0.0            0.36     0.56     0.57   \n",
       "indonesia_student_count             0.0            0.00     0.61     0.61   \n",
       "\n",
       "                         src_rate_of_one_usd  src_tertiary_enrolment  \\\n",
       "china_student_count                    -0.18                    0.51   \n",
       "India_student_count                     0.89                    0.95   \n",
       "malaysia_student_count                 -0.49                    0.42   \n",
       "indonesia_student_count                 0.86                    0.74   \n",
       "\n",
       "                         year_1y_shift  dst_distance_1y_shift  \\\n",
       "china_student_count               0.46                    0.0   \n",
       "India_student_count               0.90                    0.0   \n",
       "malaysia_student_count            0.44                    0.0   \n",
       "indonesia_student_count           0.61                    0.0   \n",
       "\n",
       "                         dst_students_count_1y_shift  \\\n",
       "china_student_count                             0.84   \n",
       "India_student_count                             0.95   \n",
       "malaysia_student_count                          0.83   \n",
       "indonesia_student_count                         0.91   \n",
       "\n",
       "                         dst_average_wage_1y_shift  \\\n",
       "china_student_count                           0.44   \n",
       "India_student_count                           0.85   \n",
       "malaysia_student_count                        0.43   \n",
       "indonesia_student_count                       0.54   \n",
       "\n",
       "                         dst_rate_of_one_usd_1y_shift  dst_cpi_1y_shift  \\\n",
       "china_student_count                             -0.35              0.40   \n",
       "India_student_count                             -0.58              0.87   \n",
       "malaysia_student_count                          -0.42              0.52   \n",
       "indonesia_student_count                         -0.19              0.53   \n",
       "\n",
       "                         dst_qoe_top20_1y_shift  ...  src_qoe_top200_1y_shift  \\\n",
       "china_student_count                         0.0  ...                      0.4   \n",
       "India_student_count                         0.0  ...                      0.0   \n",
       "malaysia_student_count                      0.0  ...                      0.0   \n",
       "indonesia_student_count                     0.0  ...                      0.0   \n",
       "\n",
       "                         src_qoe_top500_1y_shift  src_gni_1y_shift  \\\n",
       "china_student_count                         0.44              0.37   \n",
       "India_student_count                        -0.81              0.92   \n",
       "malaysia_student_count                      0.38              0.57   \n",
       "indonesia_student_count                     0.00              0.50   \n",
       "\n",
       "                         src_gdp_1y_shift  src_rate_of_one_usd_1y_shift  \\\n",
       "china_student_count                  0.36                         -0.19   \n",
       "India_student_count                  0.93                          0.88   \n",
       "malaysia_student_count               0.58                         -0.57   \n",
       "indonesia_student_count              0.52                          0.83   \n",
       "\n",
       "                         src_tertiary_enrolment_1y_shift  year_2y_shift  \\\n",
       "china_student_count                                 0.51           0.36   \n",
       "India_student_count                                 0.91           0.88   \n",
       "malaysia_student_count                              0.38           0.44   \n",
       "indonesia_student_count                             0.67           0.54   \n",
       "\n",
       "                         dst_distance_2y_shift  dst_students_count_2y_shift  \\\n",
       "china_student_count                        0.0                         0.44   \n",
       "India_student_count                        0.0                         0.87   \n",
       "malaysia_student_count                     0.0                         0.56   \n",
       "indonesia_student_count                    0.0                         0.82   \n",
       "\n",
       "                         dst_average_wage_2y_shift  \\\n",
       "china_student_count                           0.25   \n",
       "India_student_count                           0.82   \n",
       "malaysia_student_count                        0.33   \n",
       "indonesia_student_count                       0.52   \n",
       "\n",
       "                         dst_rate_of_one_usd_2y_shift  dst_cpi_2y_shift  \\\n",
       "china_student_count                          4.49e-03              0.30   \n",
       "India_student_count                         -5.74e-01              0.85   \n",
       "malaysia_student_count                      -2.39e-01              0.51   \n",
       "indonesia_student_count                     -2.16e-01              0.44   \n",
       "\n",
       "                         dst_qoe_top20_2y_shift  dst_qoe_top100_2y_shift  \\\n",
       "china_student_count                         0.0                      0.0   \n",
       "India_student_count                         0.0                      0.0   \n",
       "malaysia_student_count                      0.0                      0.0   \n",
       "indonesia_student_count                     0.0                      0.0   \n",
       "\n",
       "                         dst_qoe_top200_2y_shift  dst_qoe_top500_2y_shift  \\\n",
       "china_student_count                         0.19                    -0.28   \n",
       "India_student_count                         0.38                    -0.36   \n",
       "malaysia_student_count                      0.24                     0.10   \n",
       "indonesia_student_count                     0.27                    -0.47   \n",
       "\n",
       "                         src_population_2y_shift  src_qoe_top20_2y_shift  \\\n",
       "china_student_count                         0.38                     0.0   \n",
       "India_student_count                         0.87                     0.0   \n",
       "malaysia_student_count                      0.44                     0.0   \n",
       "indonesia_student_count                     0.55                     0.0   \n",
       "\n",
       "                         src_qoe_top100_2y_shift  src_qoe_top200_2y_shift  \\\n",
       "china_student_count                         0.22                     0.33   \n",
       "India_student_count                         0.00                     0.00   \n",
       "malaysia_student_count                      0.00                     0.00   \n",
       "indonesia_student_count                     0.00                     0.00   \n",
       "\n",
       "                         src_qoe_top500_2y_shift  src_gni_2y_shift  \\\n",
       "china_student_count                         0.32              0.31   \n",
       "India_student_count                        -0.81              0.91   \n",
       "malaysia_student_count                      0.46              0.58   \n",
       "indonesia_student_count                     0.00              0.39   \n",
       "\n",
       "                         src_gdp_2y_shift  src_rate_of_one_usd_2y_shift  \\\n",
       "china_student_count                  0.30                         -0.17   \n",
       "India_student_count                  0.93                          0.86   \n",
       "malaysia_student_count               0.59                         -0.52   \n",
       "indonesia_student_count              0.41                          0.74   \n",
       "\n",
       "                         src_tertiary_enrolment_2y_shift  \n",
       "china_student_count                                 0.41  \n",
       "India_student_count                                 0.90  \n",
       "malaysia_student_count                              0.40  \n",
       "indonesia_student_count                             0.55  \n",
       "\n",
       "[4 rows x 56 columns]"
      ]
     },
     "execution_count": 18,
     "metadata": {},
     "output_type": "execute_result"
    }
   ],
   "source": [
    "corr_df"
   ]
  },
  {
   "cell_type": "markdown",
   "metadata": {
    "deletable": true,
    "editable": true
   },
   "source": [
    "## Heatmap"
   ]
  },
  {
   "cell_type": "code",
   "execution_count": 19,
   "metadata": {
    "collapsed": false,
    "deletable": true,
    "editable": true
   },
   "outputs": [
    {
     "data": {
      "application/vnd.plotly.v1+json": {
       "config": {
        "linkText": "Export to plot.ly",
        "plotlyServerURL": "https://plot.ly",
        "showLink": false
       },
       "data": [
        {
         "colorscale": [
          [
           0,
           "rgb(158,1,66)"
          ],
          [
           0.1,
           "rgb(213,62,79)"
          ],
          [
           0.2,
           "rgb(244,109,67)"
          ],
          [
           0.3,
           "rgb(253,174,97)"
          ],
          [
           0.4,
           "rgb(254,224,139)"
          ],
          [
           0.5,
           "rgb(255,255,191)"
          ],
          [
           0.6,
           "rgb(230,245,152)"
          ],
          [
           0.7,
           "rgb(171,221,164)"
          ],
          [
           0.8,
           "rgb(102,194,165)"
          ],
          [
           0.9,
           "rgb(50,136,189)"
          ],
          [
           1,
           "rgb(94,79,162)"
          ]
         ],
         "reversescale": true,
         "type": "heatmap",
         "x": [
          "china_student_count",
          "India_student_count",
          "malaysia_student_count",
          "indonesia_student_count"
         ],
         "y": [
          "year",
          "dst_distance",
          "dst_average_wage",
          "dst_rate_of_one_usd",
          "dst_cpi",
          "dst_qoe_top20",
          "dst_qoe_top100",
          "dst_qoe_top200",
          "dst_qoe_top500",
          "src_population",
          "src_qoe_top20",
          "src_qoe_top100",
          "src_qoe_top200",
          "src_qoe_top500",
          "src_gni",
          "src_gdp",
          "src_rate_of_one_usd",
          "src_tertiary_enrolment",
          "year_1y_shift",
          "dst_distance_1y_shift",
          "dst_students_count_1y_shift",
          "dst_average_wage_1y_shift",
          "dst_rate_of_one_usd_1y_shift",
          "dst_cpi_1y_shift",
          "dst_qoe_top20_1y_shift",
          "dst_qoe_top100_1y_shift",
          "dst_qoe_top200_1y_shift",
          "dst_qoe_top500_1y_shift",
          "src_population_1y_shift",
          "src_qoe_top20_1y_shift",
          "src_qoe_top100_1y_shift",
          "src_qoe_top200_1y_shift",
          "src_qoe_top500_1y_shift",
          "src_gni_1y_shift",
          "src_gdp_1y_shift",
          "src_rate_of_one_usd_1y_shift",
          "src_tertiary_enrolment_1y_shift",
          "year_2y_shift",
          "dst_distance_2y_shift",
          "dst_students_count_2y_shift",
          "dst_average_wage_2y_shift",
          "dst_rate_of_one_usd_2y_shift",
          "dst_cpi_2y_shift",
          "dst_qoe_top20_2y_shift",
          "dst_qoe_top100_2y_shift",
          "dst_qoe_top200_2y_shift",
          "dst_qoe_top500_2y_shift",
          "src_population_2y_shift",
          "src_qoe_top20_2y_shift",
          "src_qoe_top100_2y_shift",
          "src_qoe_top200_2y_shift",
          "src_qoe_top500_2y_shift",
          "src_gni_2y_shift",
          "src_gdp_2y_shift",
          "src_rate_of_one_usd_2y_shift",
          "src_tertiary_enrolment_2y_shift"
         ],
         "z": [
          [
           0.48327564265117756,
           0.9338644023746303,
           0.4629620185543906,
           0.6787348449673672
          ],
          [
           0,
           0,
           0,
           0
          ],
          [
           0.527625649632996,
           0.8817339108391528,
           0.5440936737255634,
           0.5826656853909021
          ],
          [
           -0.5864759417789197,
           -0.6041731002259055,
           -0.5660202014554382,
           -0.22931467243188797
          ],
          [
           0.4274214140413301,
           0.9113278928807009,
           0.5428694395475414,
           0.6006416214616974
          ],
          [
           0,
           0,
           0,
           0
          ],
          [
           0,
           0,
           0,
           0
          ],
          [
           0.11220902471460818,
           0.41737448445788083,
           0.2007276370465741,
           0.37745087675011446
          ],
          [
           -0.4441509621271339,
           -0.5927721192106986,
           0.15223339008519762,
           -0.6245090281135879
          ],
          [
           0.5188123016725866,
           0.9214716380765636,
           0.4771592134146081,
           0.6924488676186256
          ],
          [
           0,
           0,
           0,
           0
          ],
          [
           0.26775556419373103,
           0,
           0,
           0
          ],
          [
           0.40394843846199563,
           0,
           0,
           0
          ],
          [
           0.46901166503977265,
           -0.8276043405749598,
           0.3587706136098515,
           0
          ],
          [
           0.3351920650310923,
           0.9385842780313101,
           0.5614433501260122,
           0.6068395667534097
          ],
          [
           0.3242314268300792,
           0.9432200273025313,
           0.5697098202563672,
           0.61432036916098
          ],
          [
           -0.17556617947324688,
           0.8935883787550544,
           -0.48500752828717425,
           0.8579415351419999
          ],
          [
           0.5117794012651379,
           0.9482724178520805,
           0.41668172374238577,
           0.7418581188754324
          ],
          [
           0.46297955474793284,
           0.8972200902668508,
           0.4357689600499733,
           0.612846492756084
          ],
          [
           0,
           0,
           0,
           0
          ],
          [
           0.8429896932442122,
           0.9464358420247978,
           0.8261066047662339,
           0.9068000088248768
          ],
          [
           0.43516644906647606,
           0.854118839179178,
           0.42802452560196474,
           0.539364737082541
          ],
          [
           -0.3531759248964941,
           -0.5776697006819822,
           -0.4185260797678606,
           -0.19406833047150637
          ],
          [
           0.40051208396244353,
           0.8687185024047941,
           0.518764455533067,
           0.5268132263793688
          ],
          [
           0,
           0,
           0,
           0
          ],
          [
           0,
           0,
           0,
           0
          ],
          [
           0.1407312671971387,
           0.48935115151651937,
           0.2379952938411246,
           0.25472080029966687
          ],
          [
           -0.494456611371559,
           -0.4543893018971223,
           0.2180820312359481,
           -0.5095808200993337
          ],
          [
           0.49230374944264116,
           0.8800408196832024,
           0.44654953546754783,
           0.6241163281167214
          ],
          [
           0,
           0,
           0,
           0
          ],
          [
           0.3044077573089767,
           0,
           0,
           0
          ],
          [
           0.4026107423536827,
           0,
           0,
           0
          ],
          [
           0.44410663909548137,
           -0.8148677991752569,
           0.38164691677633245,
           0
          ],
          [
           0.3709013335429164,
           0.9187105775219148,
           0.5697433986340084,
           0.5016545606215307
          ],
          [
           0.360083941940849,
           0.934218577069673,
           0.5848670179429832,
           0.520531364157086
          ],
          [
           -0.1921503601353555,
           0.8824944562493218,
           -0.5671152014792165,
           0.8315889049408031
          ],
          [
           0.5134805685689439,
           0.9113470798086657,
           0.38368110519996435,
           0.6684717064222968
          ],
          [
           0.3577853982825942,
           0.8839473713239916,
           0.43810903533924694,
           0.5390765497737808
          ],
          [
           0,
           0,
           0,
           0
          ],
          [
           0.4386388443879099,
           0.8715905187494698,
           0.5571589416151922,
           0.8214377035721567
          ],
          [
           0.24893496805818527,
           0.8235573291966047,
           0.33193976564229427,
           0.5166869824707024
          ],
          [
           0.004486894851948968,
           -0.5740322315721685,
           -0.23897436877718234,
           -0.21644096063789936
          ],
          [
           0.30207083439316623,
           0.8497269722380082,
           0.5087071053822508,
           0.438255906096922
          ],
          [
           0,
           0,
           0,
           0
          ],
          [
           0,
           0,
           0,
           0
          ],
          [
           0.1893614006720139,
           0.3785373509487748,
           0.24374285145660787,
           0.2652881400390563
          ],
          [
           -0.27575603629723716,
           -0.3648838811855405,
           0.09808348684217,
           -0.4691355176309132
          ],
          [
           0.38209605298594274,
           0.8663418589214095,
           0.44378304028217264,
           0.5474394664989113
          ],
          [
           0,
           0,
           0,
           0
          ],
          [
           0.2199405016987452,
           0,
           0,
           0
          ],
          [
           0.3327398269271951,
           0,
           0,
           0
          ],
          [
           0.3182435050955093,
           -0.8104278770206502,
           0.4614099956674667,
           0
          ],
          [
           0.31394705819336854,
           0.9090047911446618,
           0.5790741534384048,
           0.3895613714463416
          ],
          [
           0.3034042498809208,
           0.9289378418106198,
           0.5905673586464179,
           0.4106944727594163
          ],
          [
           -0.17484089308621867,
           0.855587372746178,
           -0.5240976112420841,
           0.7440867920031148
          ],
          [
           0.41375672296153904,
           0.9011026323280991,
           0.39698116227825436,
           0.5509170775175092
          ]
         ]
        }
       ],
       "layout": {
        "autosize": false,
        "height": 1000,
        "template": {
         "data": {
          "bar": [
           {
            "error_x": {
             "color": "#2a3f5f"
            },
            "error_y": {
             "color": "#2a3f5f"
            },
            "marker": {
             "line": {
              "color": "#E5ECF6",
              "width": 0.5
             }
            },
            "type": "bar"
           }
          ],
          "barpolar": [
           {
            "marker": {
             "line": {
              "color": "#E5ECF6",
              "width": 0.5
             }
            },
            "type": "barpolar"
           }
          ],
          "carpet": [
           {
            "aaxis": {
             "endlinecolor": "#2a3f5f",
             "gridcolor": "white",
             "linecolor": "white",
             "minorgridcolor": "white",
             "startlinecolor": "#2a3f5f"
            },
            "baxis": {
             "endlinecolor": "#2a3f5f",
             "gridcolor": "white",
             "linecolor": "white",
             "minorgridcolor": "white",
             "startlinecolor": "#2a3f5f"
            },
            "type": "carpet"
           }
          ],
          "choropleth": [
           {
            "colorbar": {
             "outlinewidth": 0,
             "ticks": ""
            },
            "type": "choropleth"
           }
          ],
          "contour": [
           {
            "colorbar": {
             "outlinewidth": 0,
             "ticks": ""
            },
            "colorscale": [
             [
              0,
              "#0d0887"
             ],
             [
              0.1111111111111111,
              "#46039f"
             ],
             [
              0.2222222222222222,
              "#7201a8"
             ],
             [
              0.3333333333333333,
              "#9c179e"
             ],
             [
              0.4444444444444444,
              "#bd3786"
             ],
             [
              0.5555555555555556,
              "#d8576b"
             ],
             [
              0.6666666666666666,
              "#ed7953"
             ],
             [
              0.7777777777777778,
              "#fb9f3a"
             ],
             [
              0.8888888888888888,
              "#fdca26"
             ],
             [
              1,
              "#f0f921"
             ]
            ],
            "type": "contour"
           }
          ],
          "contourcarpet": [
           {
            "colorbar": {
             "outlinewidth": 0,
             "ticks": ""
            },
            "type": "contourcarpet"
           }
          ],
          "heatmap": [
           {
            "colorbar": {
             "outlinewidth": 0,
             "ticks": ""
            },
            "colorscale": [
             [
              0,
              "#0d0887"
             ],
             [
              0.1111111111111111,
              "#46039f"
             ],
             [
              0.2222222222222222,
              "#7201a8"
             ],
             [
              0.3333333333333333,
              "#9c179e"
             ],
             [
              0.4444444444444444,
              "#bd3786"
             ],
             [
              0.5555555555555556,
              "#d8576b"
             ],
             [
              0.6666666666666666,
              "#ed7953"
             ],
             [
              0.7777777777777778,
              "#fb9f3a"
             ],
             [
              0.8888888888888888,
              "#fdca26"
             ],
             [
              1,
              "#f0f921"
             ]
            ],
            "type": "heatmap"
           }
          ],
          "heatmapgl": [
           {
            "colorbar": {
             "outlinewidth": 0,
             "ticks": ""
            },
            "colorscale": [
             [
              0,
              "#0d0887"
             ],
             [
              0.1111111111111111,
              "#46039f"
             ],
             [
              0.2222222222222222,
              "#7201a8"
             ],
             [
              0.3333333333333333,
              "#9c179e"
             ],
             [
              0.4444444444444444,
              "#bd3786"
             ],
             [
              0.5555555555555556,
              "#d8576b"
             ],
             [
              0.6666666666666666,
              "#ed7953"
             ],
             [
              0.7777777777777778,
              "#fb9f3a"
             ],
             [
              0.8888888888888888,
              "#fdca26"
             ],
             [
              1,
              "#f0f921"
             ]
            ],
            "type": "heatmapgl"
           }
          ],
          "histogram": [
           {
            "marker": {
             "colorbar": {
              "outlinewidth": 0,
              "ticks": ""
             }
            },
            "type": "histogram"
           }
          ],
          "histogram2d": [
           {
            "colorbar": {
             "outlinewidth": 0,
             "ticks": ""
            },
            "colorscale": [
             [
              0,
              "#0d0887"
             ],
             [
              0.1111111111111111,
              "#46039f"
             ],
             [
              0.2222222222222222,
              "#7201a8"
             ],
             [
              0.3333333333333333,
              "#9c179e"
             ],
             [
              0.4444444444444444,
              "#bd3786"
             ],
             [
              0.5555555555555556,
              "#d8576b"
             ],
             [
              0.6666666666666666,
              "#ed7953"
             ],
             [
              0.7777777777777778,
              "#fb9f3a"
             ],
             [
              0.8888888888888888,
              "#fdca26"
             ],
             [
              1,
              "#f0f921"
             ]
            ],
            "type": "histogram2d"
           }
          ],
          "histogram2dcontour": [
           {
            "colorbar": {
             "outlinewidth": 0,
             "ticks": ""
            },
            "colorscale": [
             [
              0,
              "#0d0887"
             ],
             [
              0.1111111111111111,
              "#46039f"
             ],
             [
              0.2222222222222222,
              "#7201a8"
             ],
             [
              0.3333333333333333,
              "#9c179e"
             ],
             [
              0.4444444444444444,
              "#bd3786"
             ],
             [
              0.5555555555555556,
              "#d8576b"
             ],
             [
              0.6666666666666666,
              "#ed7953"
             ],
             [
              0.7777777777777778,
              "#fb9f3a"
             ],
             [
              0.8888888888888888,
              "#fdca26"
             ],
             [
              1,
              "#f0f921"
             ]
            ],
            "type": "histogram2dcontour"
           }
          ],
          "mesh3d": [
           {
            "colorbar": {
             "outlinewidth": 0,
             "ticks": ""
            },
            "type": "mesh3d"
           }
          ],
          "parcoords": [
           {
            "line": {
             "colorbar": {
              "outlinewidth": 0,
              "ticks": ""
             }
            },
            "type": "parcoords"
           }
          ],
          "scatter": [
           {
            "marker": {
             "colorbar": {
              "outlinewidth": 0,
              "ticks": ""
             }
            },
            "type": "scatter"
           }
          ],
          "scatter3d": [
           {
            "line": {
             "colorbar": {
              "outlinewidth": 0,
              "ticks": ""
             }
            },
            "marker": {
             "colorbar": {
              "outlinewidth": 0,
              "ticks": ""
             }
            },
            "type": "scatter3d"
           }
          ],
          "scattercarpet": [
           {
            "marker": {
             "colorbar": {
              "outlinewidth": 0,
              "ticks": ""
             }
            },
            "type": "scattercarpet"
           }
          ],
          "scattergeo": [
           {
            "marker": {
             "colorbar": {
              "outlinewidth": 0,
              "ticks": ""
             }
            },
            "type": "scattergeo"
           }
          ],
          "scattergl": [
           {
            "marker": {
             "colorbar": {
              "outlinewidth": 0,
              "ticks": ""
             }
            },
            "type": "scattergl"
           }
          ],
          "scattermapbox": [
           {
            "marker": {
             "colorbar": {
              "outlinewidth": 0,
              "ticks": ""
             }
            },
            "type": "scattermapbox"
           }
          ],
          "scatterpolar": [
           {
            "marker": {
             "colorbar": {
              "outlinewidth": 0,
              "ticks": ""
             }
            },
            "type": "scatterpolar"
           }
          ],
          "scatterpolargl": [
           {
            "marker": {
             "colorbar": {
              "outlinewidth": 0,
              "ticks": ""
             }
            },
            "type": "scatterpolargl"
           }
          ],
          "scatterternary": [
           {
            "marker": {
             "colorbar": {
              "outlinewidth": 0,
              "ticks": ""
             }
            },
            "type": "scatterternary"
           }
          ],
          "surface": [
           {
            "colorbar": {
             "outlinewidth": 0,
             "ticks": ""
            },
            "colorscale": [
             [
              0,
              "#0d0887"
             ],
             [
              0.1111111111111111,
              "#46039f"
             ],
             [
              0.2222222222222222,
              "#7201a8"
             ],
             [
              0.3333333333333333,
              "#9c179e"
             ],
             [
              0.4444444444444444,
              "#bd3786"
             ],
             [
              0.5555555555555556,
              "#d8576b"
             ],
             [
              0.6666666666666666,
              "#ed7953"
             ],
             [
              0.7777777777777778,
              "#fb9f3a"
             ],
             [
              0.8888888888888888,
              "#fdca26"
             ],
             [
              1,
              "#f0f921"
             ]
            ],
            "type": "surface"
           }
          ],
          "table": [
           {
            "cells": {
             "fill": {
              "color": "#EBF0F8"
             },
             "line": {
              "color": "white"
             }
            },
            "header": {
             "fill": {
              "color": "#C8D4E3"
             },
             "line": {
              "color": "white"
             }
            },
            "type": "table"
           }
          ]
         },
         "layout": {
          "annotationdefaults": {
           "arrowcolor": "#2a3f5f",
           "arrowhead": 0,
           "arrowwidth": 1
          },
          "colorscale": {
           "diverging": [
            [
             0,
             "#8e0152"
            ],
            [
             0.1,
             "#c51b7d"
            ],
            [
             0.2,
             "#de77ae"
            ],
            [
             0.3,
             "#f1b6da"
            ],
            [
             0.4,
             "#fde0ef"
            ],
            [
             0.5,
             "#f7f7f7"
            ],
            [
             0.6,
             "#e6f5d0"
            ],
            [
             0.7,
             "#b8e186"
            ],
            [
             0.8,
             "#7fbc41"
            ],
            [
             0.9,
             "#4d9221"
            ],
            [
             1,
             "#276419"
            ]
           ],
           "sequential": [
            [
             0,
             "#0d0887"
            ],
            [
             0.1111111111111111,
             "#46039f"
            ],
            [
             0.2222222222222222,
             "#7201a8"
            ],
            [
             0.3333333333333333,
             "#9c179e"
            ],
            [
             0.4444444444444444,
             "#bd3786"
            ],
            [
             0.5555555555555556,
             "#d8576b"
            ],
            [
             0.6666666666666666,
             "#ed7953"
            ],
            [
             0.7777777777777778,
             "#fb9f3a"
            ],
            [
             0.8888888888888888,
             "#fdca26"
            ],
            [
             1,
             "#f0f921"
            ]
           ],
           "sequentialminus": [
            [
             0,
             "#0d0887"
            ],
            [
             0.1111111111111111,
             "#46039f"
            ],
            [
             0.2222222222222222,
             "#7201a8"
            ],
            [
             0.3333333333333333,
             "#9c179e"
            ],
            [
             0.4444444444444444,
             "#bd3786"
            ],
            [
             0.5555555555555556,
             "#d8576b"
            ],
            [
             0.6666666666666666,
             "#ed7953"
            ],
            [
             0.7777777777777778,
             "#fb9f3a"
            ],
            [
             0.8888888888888888,
             "#fdca26"
            ],
            [
             1,
             "#f0f921"
            ]
           ]
          },
          "colorway": [
           "#636efa",
           "#EF553B",
           "#00cc96",
           "#ab63fa",
           "#FFA15A",
           "#19d3f3",
           "#FF6692",
           "#B6E880",
           "#FF97FF",
           "#FECB52"
          ],
          "font": {
           "color": "#2a3f5f"
          },
          "geo": {
           "bgcolor": "white",
           "lakecolor": "white",
           "landcolor": "#E5ECF6",
           "showlakes": true,
           "showland": true,
           "subunitcolor": "white"
          },
          "hoverlabel": {
           "align": "left"
          },
          "hovermode": "closest",
          "mapbox": {
           "style": "light"
          },
          "paper_bgcolor": "white",
          "plot_bgcolor": "#E5ECF6",
          "polar": {
           "angularaxis": {
            "gridcolor": "white",
            "linecolor": "white",
            "ticks": ""
           },
           "bgcolor": "#E5ECF6",
           "radialaxis": {
            "gridcolor": "white",
            "linecolor": "white",
            "ticks": ""
           }
          },
          "scene": {
           "xaxis": {
            "backgroundcolor": "#E5ECF6",
            "gridcolor": "white",
            "gridwidth": 2,
            "linecolor": "white",
            "showbackground": true,
            "ticks": "",
            "zerolinecolor": "white"
           },
           "yaxis": {
            "backgroundcolor": "#E5ECF6",
            "gridcolor": "white",
            "gridwidth": 2,
            "linecolor": "white",
            "showbackground": true,
            "ticks": "",
            "zerolinecolor": "white"
           },
           "zaxis": {
            "backgroundcolor": "#E5ECF6",
            "gridcolor": "white",
            "gridwidth": 2,
            "linecolor": "white",
            "showbackground": true,
            "ticks": "",
            "zerolinecolor": "white"
           }
          },
          "shapedefaults": {
           "line": {
            "color": "#2a3f5f"
           }
          },
          "ternary": {
           "aaxis": {
            "gridcolor": "white",
            "linecolor": "white",
            "ticks": ""
           },
           "baxis": {
            "gridcolor": "white",
            "linecolor": "white",
            "ticks": ""
           },
           "bgcolor": "#E5ECF6",
           "caxis": {
            "gridcolor": "white",
            "linecolor": "white",
            "ticks": ""
           }
          },
          "title": {
           "x": 0.05
          },
          "xaxis": {
           "automargin": true,
           "gridcolor": "white",
           "linecolor": "white",
           "ticks": "",
           "zerolinecolor": "white",
           "zerolinewidth": 2
          },
          "yaxis": {
           "automargin": true,
           "gridcolor": "white",
           "linecolor": "white",
           "ticks": "",
           "zerolinecolor": "white",
           "zerolinewidth": 2
          }
         }
        },
        "title": {
         "text": "Correlation Between Predcitors and Student Count for New Zealand"
        },
        "width": 1000
       }
      },
      "text/html": [
       "<div>\n",
       "        \n",
       "        \n",
       "            <div id=\"e089b5e5-613f-46e4-8b67-1625451e81bb\" class=\"plotly-graph-div\" style=\"height:1000px; width:1000px;\"></div>\n",
       "            <script type=\"text/javascript\">\n",
       "                require([\"plotly\"], function(Plotly) {\n",
       "                    window.PLOTLYENV=window.PLOTLYENV || {};\n",
       "                    \n",
       "                if (document.getElementById(\"e089b5e5-613f-46e4-8b67-1625451e81bb\")) {\n",
       "                    Plotly.newPlot(\n",
       "                        'e089b5e5-613f-46e4-8b67-1625451e81bb',\n",
       "                        [{\"colorscale\": [[0.0, \"rgb(158,1,66)\"], [0.1, \"rgb(213,62,79)\"], [0.2, \"rgb(244,109,67)\"], [0.3, \"rgb(253,174,97)\"], [0.4, \"rgb(254,224,139)\"], [0.5, \"rgb(255,255,191)\"], [0.6, \"rgb(230,245,152)\"], [0.7, \"rgb(171,221,164)\"], [0.8, \"rgb(102,194,165)\"], [0.9, \"rgb(50,136,189)\"], [1.0, \"rgb(94,79,162)\"]], \"reversescale\": true, \"type\": \"heatmap\", \"x\": [\"china_student_count\", \"India_student_count\", \"malaysia_student_count\", \"indonesia_student_count\"], \"y\": [\"year\", \"dst_distance\", \"dst_average_wage\", \"dst_rate_of_one_usd\", \"dst_cpi\", \"dst_qoe_top20\", \"dst_qoe_top100\", \"dst_qoe_top200\", \"dst_qoe_top500\", \"src_population\", \"src_qoe_top20\", \"src_qoe_top100\", \"src_qoe_top200\", \"src_qoe_top500\", \"src_gni\", \"src_gdp\", \"src_rate_of_one_usd\", \"src_tertiary_enrolment\", \"year_1y_shift\", \"dst_distance_1y_shift\", \"dst_students_count_1y_shift\", \"dst_average_wage_1y_shift\", \"dst_rate_of_one_usd_1y_shift\", \"dst_cpi_1y_shift\", \"dst_qoe_top20_1y_shift\", \"dst_qoe_top100_1y_shift\", \"dst_qoe_top200_1y_shift\", \"dst_qoe_top500_1y_shift\", \"src_population_1y_shift\", \"src_qoe_top20_1y_shift\", \"src_qoe_top100_1y_shift\", \"src_qoe_top200_1y_shift\", \"src_qoe_top500_1y_shift\", \"src_gni_1y_shift\", \"src_gdp_1y_shift\", \"src_rate_of_one_usd_1y_shift\", \"src_tertiary_enrolment_1y_shift\", \"year_2y_shift\", \"dst_distance_2y_shift\", \"dst_students_count_2y_shift\", \"dst_average_wage_2y_shift\", \"dst_rate_of_one_usd_2y_shift\", \"dst_cpi_2y_shift\", \"dst_qoe_top20_2y_shift\", \"dst_qoe_top100_2y_shift\", \"dst_qoe_top200_2y_shift\", \"dst_qoe_top500_2y_shift\", \"src_population_2y_shift\", \"src_qoe_top20_2y_shift\", \"src_qoe_top100_2y_shift\", \"src_qoe_top200_2y_shift\", \"src_qoe_top500_2y_shift\", \"src_gni_2y_shift\", \"src_gdp_2y_shift\", \"src_rate_of_one_usd_2y_shift\", \"src_tertiary_enrolment_2y_shift\"], \"z\": [[0.48327564265117756, 0.9338644023746303, 0.4629620185543906, 0.6787348449673672], [0.0, 0.0, 0.0, 0.0], [0.527625649632996, 0.8817339108391528, 0.5440936737255634, 0.5826656853909021], [-0.5864759417789197, -0.6041731002259055, -0.5660202014554382, -0.22931467243188797], [0.4274214140413301, 0.9113278928807009, 0.5428694395475414, 0.6006416214616974], [0.0, 0.0, 0.0, 0.0], [0.0, 0.0, 0.0, 0.0], [0.11220902471460818, 0.41737448445788083, 0.2007276370465741, 0.37745087675011446], [-0.4441509621271339, -0.5927721192106986, 0.15223339008519762, -0.6245090281135879], [0.5188123016725866, 0.9214716380765636, 0.4771592134146081, 0.6924488676186256], [0.0, 0.0, 0.0, 0.0], [0.26775556419373103, 0.0, 0.0, 0.0], [0.40394843846199563, 0.0, 0.0, 0.0], [0.46901166503977265, -0.8276043405749598, 0.3587706136098515, 0.0], [0.3351920650310923, 0.9385842780313101, 0.5614433501260122, 0.6068395667534097], [0.3242314268300792, 0.9432200273025313, 0.5697098202563672, 0.61432036916098], [-0.17556617947324688, 0.8935883787550544, -0.48500752828717425, 0.8579415351419999], [0.5117794012651379, 0.9482724178520805, 0.41668172374238577, 0.7418581188754324], [0.46297955474793284, 0.8972200902668508, 0.4357689600499733, 0.612846492756084], [0.0, 0.0, 0.0, 0.0], [0.8429896932442122, 0.9464358420247978, 0.8261066047662339, 0.9068000088248768], [0.43516644906647606, 0.854118839179178, 0.42802452560196474, 0.539364737082541], [-0.3531759248964941, -0.5776697006819822, -0.4185260797678606, -0.19406833047150637], [0.40051208396244353, 0.8687185024047941, 0.518764455533067, 0.5268132263793688], [0.0, 0.0, 0.0, 0.0], [0.0, 0.0, 0.0, 0.0], [0.1407312671971387, 0.48935115151651937, 0.2379952938411246, 0.25472080029966687], [-0.494456611371559, -0.4543893018971223, 0.2180820312359481, -0.5095808200993337], [0.49230374944264116, 0.8800408196832024, 0.44654953546754783, 0.6241163281167214], [0.0, 0.0, 0.0, 0.0], [0.3044077573089767, 0.0, 0.0, 0.0], [0.4026107423536827, 0.0, 0.0, 0.0], [0.44410663909548137, -0.8148677991752569, 0.38164691677633245, 0.0], [0.3709013335429164, 0.9187105775219148, 0.5697433986340084, 0.5016545606215307], [0.360083941940849, 0.934218577069673, 0.5848670179429832, 0.520531364157086], [-0.1921503601353555, 0.8824944562493218, -0.5671152014792165, 0.8315889049408031], [0.5134805685689439, 0.9113470798086657, 0.38368110519996435, 0.6684717064222968], [0.3577853982825942, 0.8839473713239916, 0.43810903533924694, 0.5390765497737808], [0.0, 0.0, 0.0, 0.0], [0.4386388443879099, 0.8715905187494698, 0.5571589416151922, 0.8214377035721567], [0.24893496805818527, 0.8235573291966047, 0.33193976564229427, 0.5166869824707024], [0.004486894851948968, -0.5740322315721685, -0.23897436877718234, -0.21644096063789936], [0.30207083439316623, 0.8497269722380082, 0.5087071053822508, 0.438255906096922], [0.0, 0.0, 0.0, 0.0], [0.0, 0.0, 0.0, 0.0], [0.1893614006720139, 0.3785373509487748, 0.24374285145660787, 0.2652881400390563], [-0.27575603629723716, -0.3648838811855405, 0.09808348684217, -0.4691355176309132], [0.38209605298594274, 0.8663418589214095, 0.44378304028217264, 0.5474394664989113], [0.0, 0.0, 0.0, 0.0], [0.2199405016987452, 0.0, 0.0, 0.0], [0.3327398269271951, 0.0, 0.0, 0.0], [0.3182435050955093, -0.8104278770206502, 0.4614099956674667, 0.0], [0.31394705819336854, 0.9090047911446618, 0.5790741534384048, 0.3895613714463416], [0.3034042498809208, 0.9289378418106198, 0.5905673586464179, 0.4106944727594163], [-0.17484089308621867, 0.855587372746178, -0.5240976112420841, 0.7440867920031148], [0.41375672296153904, 0.9011026323280991, 0.39698116227825436, 0.5509170775175092]]}],\n",
       "                        {\"autosize\": false, \"height\": 1000, \"template\": {\"data\": {\"bar\": [{\"error_x\": {\"color\": \"#2a3f5f\"}, \"error_y\": {\"color\": \"#2a3f5f\"}, \"marker\": {\"line\": {\"color\": \"#E5ECF6\", \"width\": 0.5}}, \"type\": \"bar\"}], \"barpolar\": [{\"marker\": {\"line\": {\"color\": \"#E5ECF6\", \"width\": 0.5}}, \"type\": \"barpolar\"}], \"carpet\": [{\"aaxis\": {\"endlinecolor\": \"#2a3f5f\", \"gridcolor\": \"white\", \"linecolor\": \"white\", \"minorgridcolor\": \"white\", \"startlinecolor\": \"#2a3f5f\"}, \"baxis\": {\"endlinecolor\": \"#2a3f5f\", \"gridcolor\": \"white\", \"linecolor\": \"white\", \"minorgridcolor\": \"white\", \"startlinecolor\": \"#2a3f5f\"}, \"type\": \"carpet\"}], \"choropleth\": [{\"colorbar\": {\"outlinewidth\": 0, \"ticks\": \"\"}, \"type\": \"choropleth\"}], \"contour\": [{\"colorbar\": {\"outlinewidth\": 0, \"ticks\": \"\"}, \"colorscale\": [[0.0, \"#0d0887\"], [0.1111111111111111, \"#46039f\"], [0.2222222222222222, \"#7201a8\"], [0.3333333333333333, \"#9c179e\"], [0.4444444444444444, \"#bd3786\"], [0.5555555555555556, \"#d8576b\"], [0.6666666666666666, \"#ed7953\"], [0.7777777777777778, \"#fb9f3a\"], [0.8888888888888888, \"#fdca26\"], [1.0, \"#f0f921\"]], \"type\": \"contour\"}], \"contourcarpet\": [{\"colorbar\": {\"outlinewidth\": 0, \"ticks\": \"\"}, \"type\": \"contourcarpet\"}], \"heatmap\": [{\"colorbar\": {\"outlinewidth\": 0, \"ticks\": \"\"}, \"colorscale\": [[0.0, \"#0d0887\"], [0.1111111111111111, \"#46039f\"], [0.2222222222222222, \"#7201a8\"], [0.3333333333333333, \"#9c179e\"], [0.4444444444444444, \"#bd3786\"], [0.5555555555555556, \"#d8576b\"], [0.6666666666666666, \"#ed7953\"], [0.7777777777777778, \"#fb9f3a\"], [0.8888888888888888, \"#fdca26\"], [1.0, \"#f0f921\"]], \"type\": \"heatmap\"}], \"heatmapgl\": [{\"colorbar\": {\"outlinewidth\": 0, \"ticks\": \"\"}, \"colorscale\": [[0.0, \"#0d0887\"], [0.1111111111111111, \"#46039f\"], [0.2222222222222222, \"#7201a8\"], [0.3333333333333333, \"#9c179e\"], [0.4444444444444444, \"#bd3786\"], [0.5555555555555556, \"#d8576b\"], [0.6666666666666666, \"#ed7953\"], [0.7777777777777778, \"#fb9f3a\"], [0.8888888888888888, \"#fdca26\"], [1.0, \"#f0f921\"]], \"type\": \"heatmapgl\"}], \"histogram\": [{\"marker\": {\"colorbar\": {\"outlinewidth\": 0, \"ticks\": \"\"}}, \"type\": \"histogram\"}], \"histogram2d\": [{\"colorbar\": {\"outlinewidth\": 0, \"ticks\": \"\"}, \"colorscale\": [[0.0, \"#0d0887\"], [0.1111111111111111, \"#46039f\"], [0.2222222222222222, \"#7201a8\"], [0.3333333333333333, \"#9c179e\"], [0.4444444444444444, \"#bd3786\"], [0.5555555555555556, \"#d8576b\"], [0.6666666666666666, \"#ed7953\"], [0.7777777777777778, \"#fb9f3a\"], [0.8888888888888888, \"#fdca26\"], [1.0, \"#f0f921\"]], \"type\": \"histogram2d\"}], \"histogram2dcontour\": [{\"colorbar\": {\"outlinewidth\": 0, \"ticks\": \"\"}, \"colorscale\": [[0.0, \"#0d0887\"], [0.1111111111111111, \"#46039f\"], [0.2222222222222222, \"#7201a8\"], [0.3333333333333333, \"#9c179e\"], [0.4444444444444444, \"#bd3786\"], [0.5555555555555556, \"#d8576b\"], [0.6666666666666666, \"#ed7953\"], [0.7777777777777778, \"#fb9f3a\"], [0.8888888888888888, \"#fdca26\"], [1.0, \"#f0f921\"]], \"type\": \"histogram2dcontour\"}], \"mesh3d\": [{\"colorbar\": {\"outlinewidth\": 0, \"ticks\": \"\"}, \"type\": \"mesh3d\"}], \"parcoords\": [{\"line\": {\"colorbar\": {\"outlinewidth\": 0, \"ticks\": \"\"}}, \"type\": \"parcoords\"}], \"scatter\": [{\"marker\": {\"colorbar\": {\"outlinewidth\": 0, \"ticks\": \"\"}}, \"type\": \"scatter\"}], \"scatter3d\": [{\"line\": {\"colorbar\": {\"outlinewidth\": 0, \"ticks\": \"\"}}, \"marker\": {\"colorbar\": {\"outlinewidth\": 0, \"ticks\": \"\"}}, \"type\": \"scatter3d\"}], \"scattercarpet\": [{\"marker\": {\"colorbar\": {\"outlinewidth\": 0, \"ticks\": \"\"}}, \"type\": \"scattercarpet\"}], \"scattergeo\": [{\"marker\": {\"colorbar\": {\"outlinewidth\": 0, \"ticks\": \"\"}}, \"type\": \"scattergeo\"}], \"scattergl\": [{\"marker\": {\"colorbar\": {\"outlinewidth\": 0, \"ticks\": \"\"}}, \"type\": \"scattergl\"}], \"scattermapbox\": [{\"marker\": {\"colorbar\": {\"outlinewidth\": 0, \"ticks\": \"\"}}, \"type\": \"scattermapbox\"}], \"scatterpolar\": [{\"marker\": {\"colorbar\": {\"outlinewidth\": 0, \"ticks\": \"\"}}, \"type\": \"scatterpolar\"}], \"scatterpolargl\": [{\"marker\": {\"colorbar\": {\"outlinewidth\": 0, \"ticks\": \"\"}}, \"type\": \"scatterpolargl\"}], \"scatterternary\": [{\"marker\": {\"colorbar\": {\"outlinewidth\": 0, \"ticks\": \"\"}}, \"type\": \"scatterternary\"}], \"surface\": [{\"colorbar\": {\"outlinewidth\": 0, \"ticks\": \"\"}, \"colorscale\": [[0.0, \"#0d0887\"], [0.1111111111111111, \"#46039f\"], [0.2222222222222222, \"#7201a8\"], [0.3333333333333333, \"#9c179e\"], [0.4444444444444444, \"#bd3786\"], [0.5555555555555556, \"#d8576b\"], [0.6666666666666666, \"#ed7953\"], [0.7777777777777778, \"#fb9f3a\"], [0.8888888888888888, \"#fdca26\"], [1.0, \"#f0f921\"]], \"type\": \"surface\"}], \"table\": [{\"cells\": {\"fill\": {\"color\": \"#EBF0F8\"}, \"line\": {\"color\": \"white\"}}, \"header\": {\"fill\": {\"color\": \"#C8D4E3\"}, \"line\": {\"color\": \"white\"}}, \"type\": \"table\"}]}, \"layout\": {\"annotationdefaults\": {\"arrowcolor\": \"#2a3f5f\", \"arrowhead\": 0, \"arrowwidth\": 1}, \"colorscale\": {\"diverging\": [[0, \"#8e0152\"], [0.1, \"#c51b7d\"], [0.2, \"#de77ae\"], [0.3, \"#f1b6da\"], [0.4, \"#fde0ef\"], [0.5, \"#f7f7f7\"], [0.6, \"#e6f5d0\"], [0.7, \"#b8e186\"], [0.8, \"#7fbc41\"], [0.9, \"#4d9221\"], [1, \"#276419\"]], \"sequential\": [[0.0, \"#0d0887\"], [0.1111111111111111, \"#46039f\"], [0.2222222222222222, \"#7201a8\"], [0.3333333333333333, \"#9c179e\"], [0.4444444444444444, \"#bd3786\"], [0.5555555555555556, \"#d8576b\"], [0.6666666666666666, \"#ed7953\"], [0.7777777777777778, \"#fb9f3a\"], [0.8888888888888888, \"#fdca26\"], [1.0, \"#f0f921\"]], \"sequentialminus\": [[0.0, \"#0d0887\"], [0.1111111111111111, \"#46039f\"], [0.2222222222222222, \"#7201a8\"], [0.3333333333333333, \"#9c179e\"], [0.4444444444444444, \"#bd3786\"], [0.5555555555555556, \"#d8576b\"], [0.6666666666666666, \"#ed7953\"], [0.7777777777777778, \"#fb9f3a\"], [0.8888888888888888, \"#fdca26\"], [1.0, \"#f0f921\"]]}, \"colorway\": [\"#636efa\", \"#EF553B\", \"#00cc96\", \"#ab63fa\", \"#FFA15A\", \"#19d3f3\", \"#FF6692\", \"#B6E880\", \"#FF97FF\", \"#FECB52\"], \"font\": {\"color\": \"#2a3f5f\"}, \"geo\": {\"bgcolor\": \"white\", \"lakecolor\": \"white\", \"landcolor\": \"#E5ECF6\", \"showlakes\": true, \"showland\": true, \"subunitcolor\": \"white\"}, \"hoverlabel\": {\"align\": \"left\"}, \"hovermode\": \"closest\", \"mapbox\": {\"style\": \"light\"}, \"paper_bgcolor\": \"white\", \"plot_bgcolor\": \"#E5ECF6\", \"polar\": {\"angularaxis\": {\"gridcolor\": \"white\", \"linecolor\": \"white\", \"ticks\": \"\"}, \"bgcolor\": \"#E5ECF6\", \"radialaxis\": {\"gridcolor\": \"white\", \"linecolor\": \"white\", \"ticks\": \"\"}}, \"scene\": {\"xaxis\": {\"backgroundcolor\": \"#E5ECF6\", \"gridcolor\": \"white\", \"gridwidth\": 2, \"linecolor\": \"white\", \"showbackground\": true, \"ticks\": \"\", \"zerolinecolor\": \"white\"}, \"yaxis\": {\"backgroundcolor\": \"#E5ECF6\", \"gridcolor\": \"white\", \"gridwidth\": 2, \"linecolor\": \"white\", \"showbackground\": true, \"ticks\": \"\", \"zerolinecolor\": \"white\"}, \"zaxis\": {\"backgroundcolor\": \"#E5ECF6\", \"gridcolor\": \"white\", \"gridwidth\": 2, \"linecolor\": \"white\", \"showbackground\": true, \"ticks\": \"\", \"zerolinecolor\": \"white\"}}, \"shapedefaults\": {\"line\": {\"color\": \"#2a3f5f\"}}, \"ternary\": {\"aaxis\": {\"gridcolor\": \"white\", \"linecolor\": \"white\", \"ticks\": \"\"}, \"baxis\": {\"gridcolor\": \"white\", \"linecolor\": \"white\", \"ticks\": \"\"}, \"bgcolor\": \"#E5ECF6\", \"caxis\": {\"gridcolor\": \"white\", \"linecolor\": \"white\", \"ticks\": \"\"}}, \"title\": {\"x\": 0.05}, \"xaxis\": {\"automargin\": true, \"gridcolor\": \"white\", \"linecolor\": \"white\", \"ticks\": \"\", \"zerolinecolor\": \"white\", \"zerolinewidth\": 2}, \"yaxis\": {\"automargin\": true, \"gridcolor\": \"white\", \"linecolor\": \"white\", \"ticks\": \"\", \"zerolinecolor\": \"white\", \"zerolinewidth\": 2}}}, \"title\": {\"text\": \"Correlation Between Predcitors and Student Count for New Zealand\"}, \"width\": 1000},\n",
       "                        {\"responsive\": true}\n",
       "                    ).then(function(){\n",
       "                            \n",
       "var gd = document.getElementById('e089b5e5-613f-46e4-8b67-1625451e81bb');\n",
       "var x = new MutationObserver(function (mutations, observer) {{\n",
       "        var display = window.getComputedStyle(gd).display;\n",
       "        if (!display || display === 'none') {{\n",
       "            console.log([gd, 'removed!']);\n",
       "            Plotly.purge(gd);\n",
       "            observer.disconnect();\n",
       "        }}\n",
       "}});\n",
       "\n",
       "// Listen for the removal of the full notebook cells\n",
       "var notebookContainer = gd.closest('#notebook-container');\n",
       "if (notebookContainer) {{\n",
       "    x.observe(notebookContainer, {childList: true});\n",
       "}}\n",
       "\n",
       "// Listen for the clearing of the current output cell\n",
       "var outputEl = gd.closest('.output');\n",
       "if (outputEl) {{\n",
       "    x.observe(outputEl, {childList: true});\n",
       "}}\n",
       "\n",
       "                        })\n",
       "                };\n",
       "                });\n",
       "            </script>\n",
       "        </div>"
      ]
     },
     "metadata": {},
     "output_type": "display_data"
    }
   ],
   "source": [
    "corr_df = corr_df.T\n",
    "trace = go.Heatmap(z=corr_df.values,\n",
    "                   x=corr_df.columns.values,\n",
    "                   y=corr_df.index.values,\n",
    "                   colorscale='spectral',\n",
    "                   reversescale=True)\n",
    "\n",
    "layout = go.Layout(\n",
    "    title=\"Correlation Between Predcitors and Student Count for New Zealand\",\n",
    "    autosize=False,\n",
    "    width=1000,\n",
    "    height=1000)\n",
    "\n",
    "fig = go.Figure(data=trace, layout=layout)\n",
    "iplot(fig)"
   ]
  },
  {
   "cell_type": "code",
   "execution_count": null,
   "metadata": {
    "collapsed": true,
    "deletable": true,
    "editable": true
   },
   "outputs": [],
   "source": []
  }
 ],
 "metadata": {
  "kernelspec": {
   "display_name": "PyCharm (Desktop)",
   "language": "python",
   "name": "pycharm-db28d4c2"
  },
  "language_info": {
   "codemirror_mode": {
    "name": "ipython",
    "version": 3
   },
   "file_extension": ".py",
   "mimetype": "text/x-python",
   "name": "python",
   "nbconvert_exporter": "python",
   "pygments_lexer": "ipython3",
   "version": "3.7.3"
  }
 },
 "nbformat": 4,
 "nbformat_minor": 2
}
